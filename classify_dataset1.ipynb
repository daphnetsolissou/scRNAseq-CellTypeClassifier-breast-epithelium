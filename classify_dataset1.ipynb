{
 "cells": [
  {
   "cell_type": "code",
   "execution_count": 1,
   "metadata": {
    "collapsed": true
   },
   "outputs": [],
   "source": [
    "%load_ext autoreload\n",
    "%autoreload 2\n",
    "\n",
    "import pandas as pd\n",
    "import os\n",
    "import matplotlib.pyplot as plt\n",
    "\n",
    "import warnings\n",
    "warnings.filterwarnings('ignore')"
   ]
  },
  {
   "cell_type": "code",
   "execution_count": 2,
   "outputs": [],
   "source": [
    "from sklearn.decomposition import PCA\n",
    "DATA_DIR = os.path.join(os.getcwd(), 'data')"
   ],
   "metadata": {
    "collapsed": false,
    "pycharm": {
     "name": "#%%\n"
    }
   }
  },
  {
   "cell_type": "markdown",
   "source": [
    "## Import Labeled Data"
   ],
   "metadata": {
    "collapsed": false
   }
  },
  {
   "cell_type": "code",
   "execution_count": 3,
   "outputs": [
    {
     "data": {
      "text/plain": "           PC_1       PC_2      PC_3      PC_4      PC_5      PC_6      PC_7   \n0    -18.265232   0.179890  2.512753 -0.017214 -1.253427  5.103237  3.069733  \\\n1    -11.648572  -2.388439  0.988511  3.860645  1.748230  0.217374 -0.771974   \n2      2.597364  -1.249371 -3.363064 -2.655913 -1.898509 -0.066221 -3.849705   \n3     -3.417240  -4.438395  0.636533  3.351176  0.887752 -7.494596 -0.488962   \n4      7.382528  -0.940683 -9.480106 -6.126398  2.831281  1.671729  0.735573   \n...         ...        ...       ...       ...       ...       ...       ...   \n4009   8.322987  -3.214379 -0.689009 -0.262546  1.024876 -2.575015 -1.277584   \n4010 -11.008588  -1.900832 -2.101015  2.335349  1.157123 -4.229745  0.003551   \n4011   9.320722  -5.689082  2.899196  2.080614 -1.207569 -1.014811  5.033344   \n4012   7.061739  10.454308  7.367766  7.623241  1.983226  1.349209 -3.744541   \n4013 -10.433870  -0.712840  4.045774  0.454931 -0.813817  9.411068  3.884733   \n\n          PC_8      PC_9     PC_10 cluster_label  \n0    -1.498417 -0.213276 -1.921352             B  \n1     0.272593  1.387455 -0.643988             B  \n2     2.200412 -2.473733 -0.130113            L1  \n3     0.585061  2.802112 -1.061658             B  \n4    -5.483888  3.156084 -4.968595            L1  \n...        ...       ...       ...           ...  \n4009  2.146089  1.676037  0.391478            L1  \n4010  1.722289 -0.468227  2.221812             B  \n4011  2.736327 -3.361486  1.148018            L1  \n4012 -8.520135  2.017838  1.947278            L2  \n4013 -1.176880  0.834015 -2.175981             B  \n\n[4014 rows x 11 columns]",
      "text/html": "<div>\n<style scoped>\n    .dataframe tbody tr th:only-of-type {\n        vertical-align: middle;\n    }\n\n    .dataframe tbody tr th {\n        vertical-align: top;\n    }\n\n    .dataframe thead th {\n        text-align: right;\n    }\n</style>\n<table border=\"1\" class=\"dataframe\">\n  <thead>\n    <tr style=\"text-align: right;\">\n      <th></th>\n      <th>PC_1</th>\n      <th>PC_2</th>\n      <th>PC_3</th>\n      <th>PC_4</th>\n      <th>PC_5</th>\n      <th>PC_6</th>\n      <th>PC_7</th>\n      <th>PC_8</th>\n      <th>PC_9</th>\n      <th>PC_10</th>\n      <th>cluster_label</th>\n    </tr>\n  </thead>\n  <tbody>\n    <tr>\n      <th>0</th>\n      <td>-18.265232</td>\n      <td>0.179890</td>\n      <td>2.512753</td>\n      <td>-0.017214</td>\n      <td>-1.253427</td>\n      <td>5.103237</td>\n      <td>3.069733</td>\n      <td>-1.498417</td>\n      <td>-0.213276</td>\n      <td>-1.921352</td>\n      <td>B</td>\n    </tr>\n    <tr>\n      <th>1</th>\n      <td>-11.648572</td>\n      <td>-2.388439</td>\n      <td>0.988511</td>\n      <td>3.860645</td>\n      <td>1.748230</td>\n      <td>0.217374</td>\n      <td>-0.771974</td>\n      <td>0.272593</td>\n      <td>1.387455</td>\n      <td>-0.643988</td>\n      <td>B</td>\n    </tr>\n    <tr>\n      <th>2</th>\n      <td>2.597364</td>\n      <td>-1.249371</td>\n      <td>-3.363064</td>\n      <td>-2.655913</td>\n      <td>-1.898509</td>\n      <td>-0.066221</td>\n      <td>-3.849705</td>\n      <td>2.200412</td>\n      <td>-2.473733</td>\n      <td>-0.130113</td>\n      <td>L1</td>\n    </tr>\n    <tr>\n      <th>3</th>\n      <td>-3.417240</td>\n      <td>-4.438395</td>\n      <td>0.636533</td>\n      <td>3.351176</td>\n      <td>0.887752</td>\n      <td>-7.494596</td>\n      <td>-0.488962</td>\n      <td>0.585061</td>\n      <td>2.802112</td>\n      <td>-1.061658</td>\n      <td>B</td>\n    </tr>\n    <tr>\n      <th>4</th>\n      <td>7.382528</td>\n      <td>-0.940683</td>\n      <td>-9.480106</td>\n      <td>-6.126398</td>\n      <td>2.831281</td>\n      <td>1.671729</td>\n      <td>0.735573</td>\n      <td>-5.483888</td>\n      <td>3.156084</td>\n      <td>-4.968595</td>\n      <td>L1</td>\n    </tr>\n    <tr>\n      <th>...</th>\n      <td>...</td>\n      <td>...</td>\n      <td>...</td>\n      <td>...</td>\n      <td>...</td>\n      <td>...</td>\n      <td>...</td>\n      <td>...</td>\n      <td>...</td>\n      <td>...</td>\n      <td>...</td>\n    </tr>\n    <tr>\n      <th>4009</th>\n      <td>8.322987</td>\n      <td>-3.214379</td>\n      <td>-0.689009</td>\n      <td>-0.262546</td>\n      <td>1.024876</td>\n      <td>-2.575015</td>\n      <td>-1.277584</td>\n      <td>2.146089</td>\n      <td>1.676037</td>\n      <td>0.391478</td>\n      <td>L1</td>\n    </tr>\n    <tr>\n      <th>4010</th>\n      <td>-11.008588</td>\n      <td>-1.900832</td>\n      <td>-2.101015</td>\n      <td>2.335349</td>\n      <td>1.157123</td>\n      <td>-4.229745</td>\n      <td>0.003551</td>\n      <td>1.722289</td>\n      <td>-0.468227</td>\n      <td>2.221812</td>\n      <td>B</td>\n    </tr>\n    <tr>\n      <th>4011</th>\n      <td>9.320722</td>\n      <td>-5.689082</td>\n      <td>2.899196</td>\n      <td>2.080614</td>\n      <td>-1.207569</td>\n      <td>-1.014811</td>\n      <td>5.033344</td>\n      <td>2.736327</td>\n      <td>-3.361486</td>\n      <td>1.148018</td>\n      <td>L1</td>\n    </tr>\n    <tr>\n      <th>4012</th>\n      <td>7.061739</td>\n      <td>10.454308</td>\n      <td>7.367766</td>\n      <td>7.623241</td>\n      <td>1.983226</td>\n      <td>1.349209</td>\n      <td>-3.744541</td>\n      <td>-8.520135</td>\n      <td>2.017838</td>\n      <td>1.947278</td>\n      <td>L2</td>\n    </tr>\n    <tr>\n      <th>4013</th>\n      <td>-10.433870</td>\n      <td>-0.712840</td>\n      <td>4.045774</td>\n      <td>0.454931</td>\n      <td>-0.813817</td>\n      <td>9.411068</td>\n      <td>3.884733</td>\n      <td>-1.176880</td>\n      <td>0.834015</td>\n      <td>-2.175981</td>\n      <td>B</td>\n    </tr>\n  </tbody>\n</table>\n<p>4014 rows × 11 columns</p>\n</div>"
     },
     "execution_count": 3,
     "metadata": {},
     "output_type": "execute_result"
    }
   ],
   "source": [
    "# data = pd.read_csv(os.path.join(DATA_DIR, 'dummy_labeled_ind1-3.csv'), index_col=0)\n",
    "data = pd.read_csv(os.path.join(DATA_DIR, 'ind4_clustering_10PCs.csv'))\n",
    "data"
   ],
   "metadata": {
    "collapsed": false,
    "pycharm": {
     "name": "#%%\n"
    }
   }
  },
  {
   "cell_type": "code",
   "execution_count": 4,
   "outputs": [
    {
     "data": {
      "text/plain": "cluster_label\nL1              1931\nB               1429\nL2               572\nUnclassified      82\nName: count, dtype: int64"
     },
     "execution_count": 4,
     "metadata": {},
     "output_type": "execute_result"
    }
   ],
   "source": [
    "data['cluster_label'].value_counts()"
   ],
   "metadata": {
    "collapsed": false,
    "pycharm": {
     "name": "#%%\n"
    }
   }
  },
  {
   "cell_type": "code",
   "execution_count": 5,
   "outputs": [
    {
     "data": {
      "text/plain": "              PC_1         PC_2         PC_3         PC_4         PC_5   \ncount  4014.000000  4014.000000  4014.000000  4014.000000  4014.000000  \\\nmean      0.006364    -0.021141    -0.078401     0.083243     0.065213   \nstd       8.610749     6.167741     4.481838     4.296681     3.434765   \nmin     -29.659653    -9.499155   -13.907784   -43.566033   -57.245970   \n25%      -7.966932    -3.430494    -2.636772    -1.408544    -0.966391   \n50%       3.099684    -1.893019    -0.082368     0.591807     0.255896   \n75%       7.005078    -0.071587     2.207989     2.314132     1.397715   \nmax      17.917305    22.768726    34.417159    10.826321    10.860815   \n\n              PC_6         PC_7         PC_8         PC_9        PC_10  \ncount  4014.000000  4014.000000  4014.000000  4014.000000  4014.000000  \nmean      0.008302     0.070433    -0.011541    -0.050991    -0.019961  \nstd       3.133784     2.905260     2.792151     2.708235     2.444898  \nmin     -14.597362   -21.256365   -15.068132    -8.321540    -8.657476  \n25%      -1.665316    -1.810213    -1.357253    -1.739949    -1.497361  \n50%       0.038975     0.065079     0.198538    -0.242970    -0.049414  \n75%       1.754820     2.037075     1.666112     1.390688     1.504905  \nmax      11.885671     8.529058    11.644395    20.034509     9.515228  ",
      "text/html": "<div>\n<style scoped>\n    .dataframe tbody tr th:only-of-type {\n        vertical-align: middle;\n    }\n\n    .dataframe tbody tr th {\n        vertical-align: top;\n    }\n\n    .dataframe thead th {\n        text-align: right;\n    }\n</style>\n<table border=\"1\" class=\"dataframe\">\n  <thead>\n    <tr style=\"text-align: right;\">\n      <th></th>\n      <th>PC_1</th>\n      <th>PC_2</th>\n      <th>PC_3</th>\n      <th>PC_4</th>\n      <th>PC_5</th>\n      <th>PC_6</th>\n      <th>PC_7</th>\n      <th>PC_8</th>\n      <th>PC_9</th>\n      <th>PC_10</th>\n    </tr>\n  </thead>\n  <tbody>\n    <tr>\n      <th>count</th>\n      <td>4014.000000</td>\n      <td>4014.000000</td>\n      <td>4014.000000</td>\n      <td>4014.000000</td>\n      <td>4014.000000</td>\n      <td>4014.000000</td>\n      <td>4014.000000</td>\n      <td>4014.000000</td>\n      <td>4014.000000</td>\n      <td>4014.000000</td>\n    </tr>\n    <tr>\n      <th>mean</th>\n      <td>0.006364</td>\n      <td>-0.021141</td>\n      <td>-0.078401</td>\n      <td>0.083243</td>\n      <td>0.065213</td>\n      <td>0.008302</td>\n      <td>0.070433</td>\n      <td>-0.011541</td>\n      <td>-0.050991</td>\n      <td>-0.019961</td>\n    </tr>\n    <tr>\n      <th>std</th>\n      <td>8.610749</td>\n      <td>6.167741</td>\n      <td>4.481838</td>\n      <td>4.296681</td>\n      <td>3.434765</td>\n      <td>3.133784</td>\n      <td>2.905260</td>\n      <td>2.792151</td>\n      <td>2.708235</td>\n      <td>2.444898</td>\n    </tr>\n    <tr>\n      <th>min</th>\n      <td>-29.659653</td>\n      <td>-9.499155</td>\n      <td>-13.907784</td>\n      <td>-43.566033</td>\n      <td>-57.245970</td>\n      <td>-14.597362</td>\n      <td>-21.256365</td>\n      <td>-15.068132</td>\n      <td>-8.321540</td>\n      <td>-8.657476</td>\n    </tr>\n    <tr>\n      <th>25%</th>\n      <td>-7.966932</td>\n      <td>-3.430494</td>\n      <td>-2.636772</td>\n      <td>-1.408544</td>\n      <td>-0.966391</td>\n      <td>-1.665316</td>\n      <td>-1.810213</td>\n      <td>-1.357253</td>\n      <td>-1.739949</td>\n      <td>-1.497361</td>\n    </tr>\n    <tr>\n      <th>50%</th>\n      <td>3.099684</td>\n      <td>-1.893019</td>\n      <td>-0.082368</td>\n      <td>0.591807</td>\n      <td>0.255896</td>\n      <td>0.038975</td>\n      <td>0.065079</td>\n      <td>0.198538</td>\n      <td>-0.242970</td>\n      <td>-0.049414</td>\n    </tr>\n    <tr>\n      <th>75%</th>\n      <td>7.005078</td>\n      <td>-0.071587</td>\n      <td>2.207989</td>\n      <td>2.314132</td>\n      <td>1.397715</td>\n      <td>1.754820</td>\n      <td>2.037075</td>\n      <td>1.666112</td>\n      <td>1.390688</td>\n      <td>1.504905</td>\n    </tr>\n    <tr>\n      <th>max</th>\n      <td>17.917305</td>\n      <td>22.768726</td>\n      <td>34.417159</td>\n      <td>10.826321</td>\n      <td>10.860815</td>\n      <td>11.885671</td>\n      <td>8.529058</td>\n      <td>11.644395</td>\n      <td>20.034509</td>\n      <td>9.515228</td>\n    </tr>\n  </tbody>\n</table>\n</div>"
     },
     "execution_count": 5,
     "metadata": {},
     "output_type": "execute_result"
    }
   ],
   "source": [
    "data.describe()"
   ],
   "metadata": {
    "collapsed": false,
    "pycharm": {
     "name": "#%%\n"
    }
   }
  },
  {
   "cell_type": "code",
   "execution_count": 6,
   "outputs": [
    {
     "name": "stdout",
     "output_type": "stream",
     "text": [
      "<class 'pandas.core.frame.DataFrame'>\n",
      "RangeIndex: 4014 entries, 0 to 4013\n",
      "Data columns (total 11 columns):\n",
      " #   Column         Non-Null Count  Dtype  \n",
      "---  ------         --------------  -----  \n",
      " 0   PC_1           4014 non-null   float64\n",
      " 1   PC_2           4014 non-null   float64\n",
      " 2   PC_3           4014 non-null   float64\n",
      " 3   PC_4           4014 non-null   float64\n",
      " 4   PC_5           4014 non-null   float64\n",
      " 5   PC_6           4014 non-null   float64\n",
      " 6   PC_7           4014 non-null   float64\n",
      " 7   PC_8           4014 non-null   float64\n",
      " 8   PC_9           4014 non-null   float64\n",
      " 9   PC_10          4014 non-null   float64\n",
      " 10  cluster_label  4014 non-null   object \n",
      "dtypes: float64(10), object(1)\n",
      "memory usage: 345.1+ KB\n"
     ]
    }
   ],
   "source": [
    "data.info()"
   ],
   "metadata": {
    "collapsed": false,
    "pycharm": {
     "name": "#%%\n"
    }
   }
  },
  {
   "cell_type": "markdown",
   "source": [
    "## PreProcessing\n",
    "\n",
    "Split X, y and turn labels from string to int with values in range (0, n_classes-1)."
   ],
   "metadata": {
    "collapsed": false,
    "pycharm": {
     "name": "#%% md\n"
    }
   }
  },
  {
   "cell_type": "code",
   "execution_count": 7,
   "outputs": [],
   "source": [
    "from preprocessing import split_X_y\n",
    "\n",
    "X, y = split_X_y(data, label_name='cluster_label')"
   ],
   "metadata": {
    "collapsed": false,
    "pycharm": {
     "name": "#%%\n"
    }
   }
  },
  {
   "cell_type": "code",
   "execution_count": 8,
   "outputs": [],
   "source": [
    "from sklearn.linear_model import LogisticRegression\n",
    "from sklearn.model_selection import StratifiedKFold, cross_val_score\n",
    "from sklearn.multiclass import OneVsRestClassifier, OneVsOneClassifier\n",
    "from sklearn.svm import LinearSVC, SVC\n",
    "from sklearn.preprocessing import LabelBinarizer, StandardScaler\n",
    "import numpy as np\n",
    "# lb = LabelBinarizer()\n",
    "# y = lb.fit_transform(data['cluster_label'])\n",
    "\n",
    "# scaler = StandardScaler()\n",
    "# data_rescaled = scaler.fit_transform(X)\n",
    "\n",
    "# remove if pca is already done\n",
    "# pca = PCA(n_components=10)\n",
    "# pca.fit(data_rescaled)\n",
    "# X_pca = pca.transform(data_rescaled)\n",
    "# print(X_pca.shape)"
   ],
   "metadata": {
    "collapsed": false,
    "pycharm": {
     "name": "#%%\n"
    }
   }
  },
  {
   "cell_type": "code",
   "execution_count": 9,
   "outputs": [
    {
     "name": "stdout",
     "output_type": "stream",
     "text": [
      "(1325, 10)\n"
     ]
    }
   ],
   "source": [
    "from sklearn.model_selection import train_test_split\n",
    "\n",
    "x_train, x_test, y_train, y_test = train_test_split(X, y, random_state=148, test_size=0.33, stratify=y, shuffle=True)\n",
    "print(x_test.shape)"
   ],
   "metadata": {
    "collapsed": false,
    "pycharm": {
     "name": "#%%\n"
    }
   }
  },
  {
   "cell_type": "code",
   "execution_count": 10,
   "outputs": [
    {
     "data": {
      "text/plain": "array([0, 1, 1, ..., 3, 3, 3])"
     },
     "execution_count": 10,
     "metadata": {},
     "output_type": "execute_result"
    }
   ],
   "source": [
    "y_train"
   ],
   "metadata": {
    "collapsed": false,
    "pycharm": {
     "name": "#%%\n"
    }
   }
  },
  {
   "cell_type": "code",
   "execution_count": 11,
   "outputs": [
    {
     "name": "stdout",
     "output_type": "stream",
     "text": [
      "              precision    recall  f1-score   support\n",
      "\n",
      "           0       0.98      0.99      0.99       472\n",
      "           1       0.98      0.99      0.99       189\n",
      "           2       0.93      1.00      0.96        27\n",
      "           3       1.00      0.98      0.99       637\n",
      "\n",
      "    accuracy                           0.99      1325\n",
      "   macro avg       0.97      0.99      0.98      1325\n",
      "weighted avg       0.99      0.99      0.99      1325\n",
      "\n",
      "0.9794769142647508\n"
     ]
    }
   ],
   "source": [
    "estimator1 = OneVsRestClassifier(LinearSVC(C=0.1, random_state=148, tol=1e-5, multi_class='ovr'))\n",
    "estimator1.fit(x_train, y_train)\n",
    "\n",
    "\n",
    "from sklearn.metrics import classification_report, make_scorer, matthews_corrcoef\n",
    "mcc_scorer = make_scorer(matthews_corrcoef)\n",
    "\n",
    "y_pred1 = estimator1.predict(x_test)\n",
    "\n",
    "print(classification_report(y_test, y_pred1))\n",
    "score = matthews_corrcoef(y_test, y_pred1)\n",
    "print(score)"
   ],
   "metadata": {
    "collapsed": false,
    "pycharm": {
     "name": "#%%\n"
    }
   }
  },
  {
   "cell_type": "code",
   "execution_count": 12,
   "outputs": [],
   "source": [
    "# estimator2 = LinearSVC(C=0.1, random_state=148, tol=1e-5, multi_class='ovr')\n",
    "# estimator2.fit(x_train, y_train)\n",
    "#\n",
    "# y_pred2 = estimator2.predict(x_test)\n",
    "#\n",
    "# print(classification_report(y_test, y_pred2))\n",
    "# print(matthews_corrcoef(y_test, y_pred2))"
   ],
   "metadata": {
    "collapsed": false,
    "pycharm": {
     "name": "#%%\n"
    }
   }
  },
  {
   "cell_type": "code",
   "execution_count": 13,
   "outputs": [
    {
     "name": "stdout",
     "output_type": "stream",
     "text": [
      "0.9808486205211228\n"
     ]
    }
   ],
   "source": [
    "# estimator = OneVsRestClassifier(SVC(kernel='rbf', C=0.1, gamma=0.01, random_state=148))\n",
    "estimator3 = OneVsRestClassifier(LinearSVC(C=0.1, random_state=148, tol=1e-5, multi_class='ovr', max_iter=100000))\n",
    "cv3 = StratifiedKFold(n_splits=5, shuffle=True, random_state=148)\n",
    "    # -- Evaluate the score by cross-validation\n",
    "score3 = cross_val_score(estimator3, X, y, scoring='balanced_accuracy', cv=cv3, n_jobs=-1)\n",
    "mean_score3 = score3.mean()\n",
    "\n",
    "print(mean_score3)"
   ],
   "metadata": {
    "collapsed": false,
    "pycharm": {
     "name": "#%%\n"
    }
   }
  },
  {
   "cell_type": "code",
   "execution_count": 14,
   "outputs": [
    {
     "name": "stdout",
     "output_type": "stream",
     "text": [
      "0.005210917409861901\n"
     ]
    }
   ],
   "source": [
    "print(score3.std(ddof=1) / np.sqrt(len(score3)))"
   ],
   "metadata": {
    "collapsed": false,
    "pycharm": {
     "name": "#%%\n"
    }
   }
  },
  {
   "cell_type": "code",
   "execution_count": 15,
   "outputs": [],
   "source": [
    "# estimator4 = LinearSVC(C=0.1, random_state=148, tol=1e-5, multi_class='ovr', max_iter=100000)\n",
    "# cv4 = StratifiedKFold(n_splits=5, shuffle=True, random_state=148)\n",
    "#     # -- Evaluate the score by cross-validation\n",
    "# score4 = cross_val_score(estimator4, X, y, scoring='f1_weighted', cv=cv4, n_jobs=-1)\n",
    "# mean_score4 = score4.mean()\n",
    "#\n",
    "# print(mean_score4)"
   ],
   "metadata": {
    "collapsed": false,
    "pycharm": {
     "name": "#%%\n"
    }
   }
  },
  {
   "cell_type": "code",
   "execution_count": 16,
   "outputs": [],
   "source": [
    "# print(score4.std(ddof=1) / np.sqrt(len(score4)))"
   ],
   "metadata": {
    "collapsed": false,
    "pycharm": {
     "name": "#%%\n"
    }
   }
  },
  {
   "cell_type": "code",
   "execution_count": 17,
   "outputs": [
    {
     "name": "stdout",
     "output_type": "stream",
     "text": [
      "0.9653607894846032\n",
      "0.0033681524468305627\n"
     ]
    }
   ],
   "source": [
    "from sklearn.naive_bayes import GaussianNB\n",
    "\n",
    "estimator5 = GaussianNB()\n",
    "cv5 = StratifiedKFold(n_splits=5, shuffle=True, random_state=148)\n",
    "    # -- Evaluate the score by cross-validation\n",
    "score5 = cross_val_score(estimator5, X, y, scoring='balanced_accuracy', cv=cv5, n_jobs=-1)\n",
    "mean_score5 = score5.mean()\n",
    "\n",
    "print(mean_score5)\n",
    "print(score5.std(ddof=1) / np.sqrt(len(score5)))"
   ],
   "metadata": {
    "collapsed": false,
    "pycharm": {
     "name": "#%%\n"
    }
   }
  },
  {
   "cell_type": "code",
   "execution_count": 18,
   "outputs": [
    {
     "name": "stderr",
     "output_type": "stream",
     "text": [
      "/home/daphne/.pyenv/versions/3.9.1/envs/machineLearningProjects/lib/python3.9/site-packages/sklearn/linear_model/_sag.py:350: ConvergenceWarning: The max_iter was reached which means the coef_ did not converge\n",
      "  warnings.warn(\n",
      "/home/daphne/.pyenv/versions/3.9.1/envs/machineLearningProjects/lib/python3.9/site-packages/sklearn/linear_model/_sag.py:350: ConvergenceWarning: The max_iter was reached which means the coef_ did not converge\n",
      "  warnings.warn(\n",
      "/home/daphne/.pyenv/versions/3.9.1/envs/machineLearningProjects/lib/python3.9/site-packages/sklearn/linear_model/_sag.py:350: ConvergenceWarning: The max_iter was reached which means the coef_ did not converge\n",
      "  warnings.warn(\n",
      "/home/daphne/.pyenv/versions/3.9.1/envs/machineLearningProjects/lib/python3.9/site-packages/sklearn/linear_model/_sag.py:350: ConvergenceWarning: The max_iter was reached which means the coef_ did not converge\n",
      "  warnings.warn(\n",
      "/home/daphne/.pyenv/versions/3.9.1/envs/machineLearningProjects/lib/python3.9/site-packages/sklearn/linear_model/_sag.py:350: ConvergenceWarning: The max_iter was reached which means the coef_ did not converge\n",
      "  warnings.warn(\n"
     ]
    },
    {
     "name": "stdout",
     "output_type": "stream",
     "text": [
      "0.9795401241001551\n",
      "0.005745266550964559\n"
     ]
    }
   ],
   "source": [
    "from sklearn.linear_model import LogisticRegression\n",
    "\n",
    "estimator6 = OneVsRestClassifier(LogisticRegression(solver='saga', C=0.1, random_state=148, penalty='l2', multi_class='ovr',\n",
    "                               max_iter=1000, n_jobs=-1), n_jobs=-1)\n",
    "cv6 = StratifiedKFold(n_splits=5, shuffle=True, random_state=148)\n",
    "    # -- Evaluate the score by cross-validation\n",
    "score6 = cross_val_score(estimator6, X, y, scoring='balanced_accuracy', cv=cv6, n_jobs=-1)\n",
    "mean_score6 = score6.mean()\n",
    "\n",
    "print(mean_score6)\n",
    "print(score6.std(ddof=1) / np.sqrt(len(score6)))"
   ],
   "metadata": {
    "collapsed": false,
    "pycharm": {
     "name": "#%%\n"
    }
   }
  },
  {
   "cell_type": "markdown",
   "source": [
    "## Optimize models"
   ],
   "metadata": {
    "collapsed": false
   }
  }
 ],
 "metadata": {
  "kernelspec": {
   "display_name": "Python 3",
   "language": "python",
   "name": "python3"
  },
  "language_info": {
   "codemirror_mode": {
    "name": "ipython",
    "version": 2
   },
   "file_extension": ".py",
   "mimetype": "text/x-python",
   "name": "python",
   "nbconvert_exporter": "python",
   "pygments_lexer": "ipython2",
   "version": "2.7.6"
  }
 },
 "nbformat": 4,
 "nbformat_minor": 0
}