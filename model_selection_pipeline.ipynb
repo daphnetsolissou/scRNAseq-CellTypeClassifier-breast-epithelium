{
 "cells": [
  {
   "cell_type": "code",
   "execution_count": 1,
   "metadata": {},
   "outputs": [
    {
     "name": "stdout",
     "output_type": "stream",
     "text": [
      "Collecting xgboost\n",
      "  Using cached xgboost-1.7.6-py3-none-win_amd64.whl (70.9 MB)\n",
      "Requirement already satisfied: numpy in c:\\users\\greg\\anaconda3\\lib\\site-packages (from xgboost) (1.21.6)\n",
      "Requirement already satisfied: scipy in c:\\users\\greg\\anaconda3\\lib\\site-packages (from xgboost) (1.10.1)\n",
      "Installing collected packages: xgboost\n",
      "Successfully installed xgboost-1.7.6\n"
     ]
    },
    {
     "name": "stderr",
     "output_type": "stream",
     "text": [
      "WARNING: You are using pip version 22.0.4; however, version 23.1.2 is available.\n",
      "You should consider upgrading via the 'c:\\Users\\greg\\anaconda3\\python.exe -m pip install --upgrade pip' command.\n"
     ]
    }
   ],
   "source": [
    "##if using Anaconda (on Anaconda terminal)\n",
    "#conda install -c conda-forge xgboost \n",
    "#pip install xgboost\n",
    "\n",
    "import sys\n",
    "!{sys.executable} -m pip install xgboost"
   ]
  },
  {
   "cell_type": "code",
   "execution_count": 1,
   "metadata": {
    "collapsed": true
   },
   "outputs": [],
   "source": [
    "from sklearn.exceptions import ConvergenceWarning\n",
    "%load_ext autoreload\n",
    "%autoreload 2\n",
    "\n",
    "import pandas as pd\n",
    "import os\n",
    "import matplotlib.pyplot as plt\n",
    "import seaborn as sns\n",
    "\n",
    "from preprocessing import split_X_y\n",
    "from model_optimization import optimize_one_model\n",
    "\n",
    "from sklearn.model_selection import train_test_split\n",
    "from sklearn.preprocessing import StandardScaler\n",
    "\n",
    "import warnings\n",
    "warnings.filterwarnings('ignore', category=ConvergenceWarning)"
   ]
  },
  {
   "cell_type": "code",
   "execution_count": 2,
   "metadata": {
    "collapsed": false,
    "pycharm": {
     "name": "#%%\n"
    }
   },
   "outputs": [],
   "source": [
    "DATA_DIR = os.path.join(os.getcwd(), 'data')"
   ]
  },
  {
   "cell_type": "markdown",
   "metadata": {
    "collapsed": false
   },
   "source": [
    "## Import Labeled Data"
   ]
  },
  {
   "cell_type": "code",
   "execution_count": 3,
   "metadata": {
    "collapsed": false,
    "pycharm": {
     "name": "#%%\n"
    }
   },
   "outputs": [
    {
     "data": {
      "text/html": [
       "<div>\n",
       "<style scoped>\n",
       "    .dataframe tbody tr th:only-of-type {\n",
       "        vertical-align: middle;\n",
       "    }\n",
       "\n",
       "    .dataframe tbody tr th {\n",
       "        vertical-align: top;\n",
       "    }\n",
       "\n",
       "    .dataframe thead th {\n",
       "        text-align: right;\n",
       "    }\n",
       "</style>\n",
       "<table border=\"1\" class=\"dataframe\">\n",
       "  <thead>\n",
       "    <tr style=\"text-align: right;\">\n",
       "      <th></th>\n",
       "      <th>ORM1</th>\n",
       "      <th>ORM2</th>\n",
       "      <th>MMP3</th>\n",
       "      <th>FDCSP</th>\n",
       "      <th>S100A7</th>\n",
       "      <th>FABP7</th>\n",
       "      <th>KRT81</th>\n",
       "      <th>DCN</th>\n",
       "      <th>IL1B</th>\n",
       "      <th>AREG</th>\n",
       "      <th>...</th>\n",
       "      <th>MRGPRX4</th>\n",
       "      <th>C2CD4B</th>\n",
       "      <th>CTD.2012K14.8</th>\n",
       "      <th>CCR10</th>\n",
       "      <th>FAS</th>\n",
       "      <th>ADORA2B</th>\n",
       "      <th>PRMT9</th>\n",
       "      <th>PHGDH</th>\n",
       "      <th>HOXA4</th>\n",
       "      <th>cluster_label</th>\n",
       "    </tr>\n",
       "  </thead>\n",
       "  <tbody>\n",
       "    <tr>\n",
       "      <th>0</th>\n",
       "      <td>0.00000</td>\n",
       "      <td>0.000000</td>\n",
       "      <td>0.000000</td>\n",
       "      <td>0.0</td>\n",
       "      <td>0.000000</td>\n",
       "      <td>0.000000</td>\n",
       "      <td>0.000000</td>\n",
       "      <td>0.0</td>\n",
       "      <td>0.000000</td>\n",
       "      <td>0.000000</td>\n",
       "      <td>...</td>\n",
       "      <td>0.0</td>\n",
       "      <td>0.0</td>\n",
       "      <td>0.0</td>\n",
       "      <td>0.0</td>\n",
       "      <td>0.000000</td>\n",
       "      <td>0.000000</td>\n",
       "      <td>0.0</td>\n",
       "      <td>0.000000</td>\n",
       "      <td>0.0</td>\n",
       "      <td>B</td>\n",
       "    </tr>\n",
       "    <tr>\n",
       "      <th>1</th>\n",
       "      <td>0.00000</td>\n",
       "      <td>0.000000</td>\n",
       "      <td>0.000000</td>\n",
       "      <td>0.0</td>\n",
       "      <td>0.000000</td>\n",
       "      <td>0.000000</td>\n",
       "      <td>0.000000</td>\n",
       "      <td>0.0</td>\n",
       "      <td>0.000000</td>\n",
       "      <td>0.000000</td>\n",
       "      <td>...</td>\n",
       "      <td>0.0</td>\n",
       "      <td>0.0</td>\n",
       "      <td>0.0</td>\n",
       "      <td>0.0</td>\n",
       "      <td>1.159752</td>\n",
       "      <td>1.159752</td>\n",
       "      <td>0.0</td>\n",
       "      <td>0.000000</td>\n",
       "      <td>0.0</td>\n",
       "      <td>B</td>\n",
       "    </tr>\n",
       "    <tr>\n",
       "      <th>2</th>\n",
       "      <td>0.00000</td>\n",
       "      <td>0.000000</td>\n",
       "      <td>0.000000</td>\n",
       "      <td>0.0</td>\n",
       "      <td>0.000000</td>\n",
       "      <td>0.000000</td>\n",
       "      <td>0.000000</td>\n",
       "      <td>0.0</td>\n",
       "      <td>0.000000</td>\n",
       "      <td>0.000000</td>\n",
       "      <td>...</td>\n",
       "      <td>0.0</td>\n",
       "      <td>0.0</td>\n",
       "      <td>0.0</td>\n",
       "      <td>0.0</td>\n",
       "      <td>0.000000</td>\n",
       "      <td>0.000000</td>\n",
       "      <td>0.0</td>\n",
       "      <td>0.000000</td>\n",
       "      <td>0.0</td>\n",
       "      <td>L1</td>\n",
       "    </tr>\n",
       "    <tr>\n",
       "      <th>3</th>\n",
       "      <td>0.00000</td>\n",
       "      <td>0.000000</td>\n",
       "      <td>0.000000</td>\n",
       "      <td>0.0</td>\n",
       "      <td>0.000000</td>\n",
       "      <td>0.000000</td>\n",
       "      <td>0.000000</td>\n",
       "      <td>0.0</td>\n",
       "      <td>1.231624</td>\n",
       "      <td>0.000000</td>\n",
       "      <td>...</td>\n",
       "      <td>0.0</td>\n",
       "      <td>0.0</td>\n",
       "      <td>0.0</td>\n",
       "      <td>0.0</td>\n",
       "      <td>1.231624</td>\n",
       "      <td>0.000000</td>\n",
       "      <td>0.0</td>\n",
       "      <td>0.962358</td>\n",
       "      <td>0.0</td>\n",
       "      <td>B</td>\n",
       "    </tr>\n",
       "    <tr>\n",
       "      <th>4</th>\n",
       "      <td>0.00000</td>\n",
       "      <td>0.000000</td>\n",
       "      <td>0.000000</td>\n",
       "      <td>0.0</td>\n",
       "      <td>0.000000</td>\n",
       "      <td>0.000000</td>\n",
       "      <td>0.000000</td>\n",
       "      <td>0.0</td>\n",
       "      <td>0.000000</td>\n",
       "      <td>0.000000</td>\n",
       "      <td>...</td>\n",
       "      <td>0.0</td>\n",
       "      <td>0.0</td>\n",
       "      <td>0.0</td>\n",
       "      <td>0.0</td>\n",
       "      <td>0.000000</td>\n",
       "      <td>0.000000</td>\n",
       "      <td>0.0</td>\n",
       "      <td>1.198887</td>\n",
       "      <td>0.0</td>\n",
       "      <td>L1</td>\n",
       "    </tr>\n",
       "    <tr>\n",
       "      <th>...</th>\n",
       "      <td>...</td>\n",
       "      <td>...</td>\n",
       "      <td>...</td>\n",
       "      <td>...</td>\n",
       "      <td>...</td>\n",
       "      <td>...</td>\n",
       "      <td>...</td>\n",
       "      <td>...</td>\n",
       "      <td>...</td>\n",
       "      <td>...</td>\n",
       "      <td>...</td>\n",
       "      <td>...</td>\n",
       "      <td>...</td>\n",
       "      <td>...</td>\n",
       "      <td>...</td>\n",
       "      <td>...</td>\n",
       "      <td>...</td>\n",
       "      <td>...</td>\n",
       "      <td>...</td>\n",
       "      <td>...</td>\n",
       "      <td>...</td>\n",
       "    </tr>\n",
       "    <tr>\n",
       "      <th>4009</th>\n",
       "      <td>0.00000</td>\n",
       "      <td>0.000000</td>\n",
       "      <td>0.000000</td>\n",
       "      <td>0.0</td>\n",
       "      <td>0.000000</td>\n",
       "      <td>1.382332</td>\n",
       "      <td>3.756037</td>\n",
       "      <td>0.0</td>\n",
       "      <td>0.000000</td>\n",
       "      <td>0.000000</td>\n",
       "      <td>...</td>\n",
       "      <td>0.0</td>\n",
       "      <td>0.0</td>\n",
       "      <td>0.0</td>\n",
       "      <td>0.0</td>\n",
       "      <td>0.000000</td>\n",
       "      <td>0.000000</td>\n",
       "      <td>0.0</td>\n",
       "      <td>1.382332</td>\n",
       "      <td>0.0</td>\n",
       "      <td>L1</td>\n",
       "    </tr>\n",
       "    <tr>\n",
       "      <th>4010</th>\n",
       "      <td>0.00000</td>\n",
       "      <td>0.000000</td>\n",
       "      <td>3.002545</td>\n",
       "      <td>0.0</td>\n",
       "      <td>0.000000</td>\n",
       "      <td>0.000000</td>\n",
       "      <td>0.000000</td>\n",
       "      <td>0.0</td>\n",
       "      <td>1.139851</td>\n",
       "      <td>1.139851</td>\n",
       "      <td>...</td>\n",
       "      <td>0.0</td>\n",
       "      <td>0.0</td>\n",
       "      <td>0.0</td>\n",
       "      <td>0.0</td>\n",
       "      <td>1.139851</td>\n",
       "      <td>0.000000</td>\n",
       "      <td>0.0</td>\n",
       "      <td>0.000000</td>\n",
       "      <td>0.0</td>\n",
       "      <td>B</td>\n",
       "    </tr>\n",
       "    <tr>\n",
       "      <th>4011</th>\n",
       "      <td>0.00000</td>\n",
       "      <td>0.000000</td>\n",
       "      <td>0.000000</td>\n",
       "      <td>0.0</td>\n",
       "      <td>1.729568</td>\n",
       "      <td>1.199697</td>\n",
       "      <td>0.000000</td>\n",
       "      <td>0.0</td>\n",
       "      <td>0.000000</td>\n",
       "      <td>0.000000</td>\n",
       "      <td>...</td>\n",
       "      <td>0.0</td>\n",
       "      <td>0.0</td>\n",
       "      <td>0.0</td>\n",
       "      <td>0.0</td>\n",
       "      <td>0.000000</td>\n",
       "      <td>0.000000</td>\n",
       "      <td>0.0</td>\n",
       "      <td>0.000000</td>\n",
       "      <td>0.0</td>\n",
       "      <td>L1</td>\n",
       "    </tr>\n",
       "    <tr>\n",
       "      <th>4012</th>\n",
       "      <td>2.44477</td>\n",
       "      <td>2.946953</td>\n",
       "      <td>0.000000</td>\n",
       "      <td>0.0</td>\n",
       "      <td>2.142408</td>\n",
       "      <td>0.000000</td>\n",
       "      <td>0.000000</td>\n",
       "      <td>0.0</td>\n",
       "      <td>0.000000</td>\n",
       "      <td>0.000000</td>\n",
       "      <td>...</td>\n",
       "      <td>0.0</td>\n",
       "      <td>0.0</td>\n",
       "      <td>0.0</td>\n",
       "      <td>0.0</td>\n",
       "      <td>1.388285</td>\n",
       "      <td>0.000000</td>\n",
       "      <td>0.0</td>\n",
       "      <td>0.000000</td>\n",
       "      <td>0.0</td>\n",
       "      <td>L2</td>\n",
       "    </tr>\n",
       "    <tr>\n",
       "      <th>4013</th>\n",
       "      <td>0.00000</td>\n",
       "      <td>0.000000</td>\n",
       "      <td>3.970905</td>\n",
       "      <td>0.0</td>\n",
       "      <td>0.000000</td>\n",
       "      <td>0.000000</td>\n",
       "      <td>0.000000</td>\n",
       "      <td>0.0</td>\n",
       "      <td>0.000000</td>\n",
       "      <td>2.015445</td>\n",
       "      <td>...</td>\n",
       "      <td>0.0</td>\n",
       "      <td>0.0</td>\n",
       "      <td>0.0</td>\n",
       "      <td>0.0</td>\n",
       "      <td>0.000000</td>\n",
       "      <td>0.000000</td>\n",
       "      <td>0.0</td>\n",
       "      <td>0.000000</td>\n",
       "      <td>0.0</td>\n",
       "      <td>B</td>\n",
       "    </tr>\n",
       "  </tbody>\n",
       "</table>\n",
       "<p>4014 rows × 2001 columns</p>\n",
       "</div>"
      ],
      "text/plain": [
       "         ORM1      ORM2      MMP3  FDCSP    S100A7     FABP7     KRT81  DCN  \\\n",
       "0     0.00000  0.000000  0.000000    0.0  0.000000  0.000000  0.000000  0.0   \n",
       "1     0.00000  0.000000  0.000000    0.0  0.000000  0.000000  0.000000  0.0   \n",
       "2     0.00000  0.000000  0.000000    0.0  0.000000  0.000000  0.000000  0.0   \n",
       "3     0.00000  0.000000  0.000000    0.0  0.000000  0.000000  0.000000  0.0   \n",
       "4     0.00000  0.000000  0.000000    0.0  0.000000  0.000000  0.000000  0.0   \n",
       "...       ...       ...       ...    ...       ...       ...       ...  ...   \n",
       "4009  0.00000  0.000000  0.000000    0.0  0.000000  1.382332  3.756037  0.0   \n",
       "4010  0.00000  0.000000  3.002545    0.0  0.000000  0.000000  0.000000  0.0   \n",
       "4011  0.00000  0.000000  0.000000    0.0  1.729568  1.199697  0.000000  0.0   \n",
       "4012  2.44477  2.946953  0.000000    0.0  2.142408  0.000000  0.000000  0.0   \n",
       "4013  0.00000  0.000000  3.970905    0.0  0.000000  0.000000  0.000000  0.0   \n",
       "\n",
       "          IL1B      AREG  ...  MRGPRX4  C2CD4B  CTD.2012K14.8  CCR10  \\\n",
       "0     0.000000  0.000000  ...      0.0     0.0            0.0    0.0   \n",
       "1     0.000000  0.000000  ...      0.0     0.0            0.0    0.0   \n",
       "2     0.000000  0.000000  ...      0.0     0.0            0.0    0.0   \n",
       "3     1.231624  0.000000  ...      0.0     0.0            0.0    0.0   \n",
       "4     0.000000  0.000000  ...      0.0     0.0            0.0    0.0   \n",
       "...        ...       ...  ...      ...     ...            ...    ...   \n",
       "4009  0.000000  0.000000  ...      0.0     0.0            0.0    0.0   \n",
       "4010  1.139851  1.139851  ...      0.0     0.0            0.0    0.0   \n",
       "4011  0.000000  0.000000  ...      0.0     0.0            0.0    0.0   \n",
       "4012  0.000000  0.000000  ...      0.0     0.0            0.0    0.0   \n",
       "4013  0.000000  2.015445  ...      0.0     0.0            0.0    0.0   \n",
       "\n",
       "           FAS   ADORA2B  PRMT9     PHGDH  HOXA4  cluster_label  \n",
       "0     0.000000  0.000000    0.0  0.000000    0.0              B  \n",
       "1     1.159752  1.159752    0.0  0.000000    0.0              B  \n",
       "2     0.000000  0.000000    0.0  0.000000    0.0             L1  \n",
       "3     1.231624  0.000000    0.0  0.962358    0.0              B  \n",
       "4     0.000000  0.000000    0.0  1.198887    0.0             L1  \n",
       "...        ...       ...    ...       ...    ...            ...  \n",
       "4009  0.000000  0.000000    0.0  1.382332    0.0             L1  \n",
       "4010  1.139851  0.000000    0.0  0.000000    0.0              B  \n",
       "4011  0.000000  0.000000    0.0  0.000000    0.0             L1  \n",
       "4012  1.388285  0.000000    0.0  0.000000    0.0             L2  \n",
       "4013  0.000000  0.000000    0.0  0.000000    0.0              B  \n",
       "\n",
       "[4014 rows x 2001 columns]"
      ]
     },
     "execution_count": 3,
     "metadata": {},
     "output_type": "execute_result"
    }
   ],
   "source": [
    "#data = pd.read_csv(os.path.join(DATA_DIR, 'ind4_clustering_results.csv.gz'), compression='gzip')\n",
    "data = pd.read_csv(os.path.join(DATA_DIR, 'ind4_clustering_results_var_genes.csv.gz'), compression='gzip')\n",
    "data"
   ]
  },
  {
   "cell_type": "code",
   "execution_count": 4,
   "metadata": {
    "collapsed": false,
    "pycharm": {
     "name": "#%%\n"
    }
   },
   "outputs": [
    {
     "name": "stdout",
     "output_type": "stream",
     "text": [
      "L1              1931\n",
      "B               1429\n",
      "L2               572\n",
      "Unclassified      82\n",
      "Name: cluster_label, dtype: int64\n"
     ]
    },
    {
     "data": {
      "image/png": "[encoded data removed]",
      "text/plain": [
       "<Figure size 576x432 with 1 Axes>"
      ]
     },
     "metadata": {
      "needs_background": "light"
     },
     "output_type": "display_data"
    }
   ],
   "source": [
    "cluster_counts = data['cluster_label'].value_counts()\n",
    "print(cluster_counts)\n",
    "\n",
    "plt.figure(figsize=(8, 6))\n",
    "sns.barplot(x=cluster_counts.index, y=cluster_counts.values)\n",
    "plt.xlabel('Cluster Label')\n",
    "plt.ylabel('Count')\n",
    "plt.title('Value Counts of Cluster Labels')\n",
    "plt.show()"
   ]
  },
  {
   "cell_type": "code",
   "execution_count": 5,
   "metadata": {
    "collapsed": false,
    "pycharm": {
     "name": "#%%\n"
    }
   },
   "outputs": [
    {
     "data": {
      "text/html": [
       "<div>\n",
       "<style scoped>\n",
       "    .dataframe tbody tr th:only-of-type {\n",
       "        vertical-align: middle;\n",
       "    }\n",
       "\n",
       "    .dataframe tbody tr th {\n",
       "        vertical-align: top;\n",
       "    }\n",
       "\n",
       "    .dataframe thead th {\n",
       "        text-align: right;\n",
       "    }\n",
       "</style>\n",
       "<table border=\"1\" class=\"dataframe\">\n",
       "  <thead>\n",
       "    <tr style=\"text-align: right;\">\n",
       "      <th></th>\n",
       "      <th>ORM1</th>\n",
       "      <th>ORM2</th>\n",
       "      <th>MMP3</th>\n",
       "      <th>FDCSP</th>\n",
       "      <th>S100A7</th>\n",
       "      <th>FABP7</th>\n",
       "      <th>KRT81</th>\n",
       "      <th>DCN</th>\n",
       "      <th>IL1B</th>\n",
       "      <th>AREG</th>\n",
       "      <th>...</th>\n",
       "      <th>RP11.597D13.9</th>\n",
       "      <th>MRGPRX4</th>\n",
       "      <th>C2CD4B</th>\n",
       "      <th>CTD.2012K14.8</th>\n",
       "      <th>CCR10</th>\n",
       "      <th>FAS</th>\n",
       "      <th>ADORA2B</th>\n",
       "      <th>PRMT9</th>\n",
       "      <th>PHGDH</th>\n",
       "      <th>HOXA4</th>\n",
       "    </tr>\n",
       "  </thead>\n",
       "  <tbody>\n",
       "    <tr>\n",
       "      <th>count</th>\n",
       "      <td>4014.000000</td>\n",
       "      <td>4014.000000</td>\n",
       "      <td>4014.000000</td>\n",
       "      <td>4014.000000</td>\n",
       "      <td>4014.000000</td>\n",
       "      <td>4014.000000</td>\n",
       "      <td>4014.000000</td>\n",
       "      <td>4014.000000</td>\n",
       "      <td>4014.000000</td>\n",
       "      <td>4014.000000</td>\n",
       "      <td>...</td>\n",
       "      <td>4014.000000</td>\n",
       "      <td>4014.000000</td>\n",
       "      <td>4014.000000</td>\n",
       "      <td>4014.000000</td>\n",
       "      <td>4014.000000</td>\n",
       "      <td>4014.000000</td>\n",
       "      <td>4014.000000</td>\n",
       "      <td>4014.000000</td>\n",
       "      <td>4014.000000</td>\n",
       "      <td>4014.000000</td>\n",
       "    </tr>\n",
       "    <tr>\n",
       "      <th>mean</th>\n",
       "      <td>0.142191</td>\n",
       "      <td>0.084910</td>\n",
       "      <td>0.297772</td>\n",
       "      <td>0.065054</td>\n",
       "      <td>0.488509</td>\n",
       "      <td>0.199051</td>\n",
       "      <td>0.159551</td>\n",
       "      <td>0.034415</td>\n",
       "      <td>0.279810</td>\n",
       "      <td>0.315602</td>\n",
       "      <td>...</td>\n",
       "      <td>0.004128</td>\n",
       "      <td>0.004331</td>\n",
       "      <td>0.004275</td>\n",
       "      <td>0.004063</td>\n",
       "      <td>0.004464</td>\n",
       "      <td>0.240907</td>\n",
       "      <td>0.068786</td>\n",
       "      <td>0.024694</td>\n",
       "      <td>0.412100</td>\n",
       "      <td>0.034093</td>\n",
       "    </tr>\n",
       "    <tr>\n",
       "      <th>std</th>\n",
       "      <td>0.696116</td>\n",
       "      <td>0.485980</td>\n",
       "      <td>0.856380</td>\n",
       "      <td>0.414117</td>\n",
       "      <td>1.078162</td>\n",
       "      <td>0.655485</td>\n",
       "      <td>0.587791</td>\n",
       "      <td>0.346617</td>\n",
       "      <td>0.779161</td>\n",
       "      <td>0.762863</td>\n",
       "      <td>...</td>\n",
       "      <td>0.066658</td>\n",
       "      <td>0.068425</td>\n",
       "      <td>0.069848</td>\n",
       "      <td>0.066387</td>\n",
       "      <td>0.072764</td>\n",
       "      <td>0.494458</td>\n",
       "      <td>0.261867</td>\n",
       "      <td>0.155206</td>\n",
       "      <td>0.592806</td>\n",
       "      <td>0.180004</td>\n",
       "    </tr>\n",
       "    <tr>\n",
       "      <th>min</th>\n",
       "      <td>0.000000</td>\n",
       "      <td>0.000000</td>\n",
       "      <td>0.000000</td>\n",
       "      <td>0.000000</td>\n",
       "      <td>0.000000</td>\n",
       "      <td>0.000000</td>\n",
       "      <td>0.000000</td>\n",
       "      <td>0.000000</td>\n",
       "      <td>0.000000</td>\n",
       "      <td>0.000000</td>\n",
       "      <td>...</td>\n",
       "      <td>0.000000</td>\n",
       "      <td>0.000000</td>\n",
       "      <td>0.000000</td>\n",
       "      <td>0.000000</td>\n",
       "      <td>0.000000</td>\n",
       "      <td>0.000000</td>\n",
       "      <td>0.000000</td>\n",
       "      <td>0.000000</td>\n",
       "      <td>0.000000</td>\n",
       "      <td>0.000000</td>\n",
       "    </tr>\n",
       "    <tr>\n",
       "      <th>25%</th>\n",
       "      <td>0.000000</td>\n",
       "      <td>0.000000</td>\n",
       "      <td>0.000000</td>\n",
       "      <td>0.000000</td>\n",
       "      <td>0.000000</td>\n",
       "      <td>0.000000</td>\n",
       "      <td>0.000000</td>\n",
       "      <td>0.000000</td>\n",
       "      <td>0.000000</td>\n",
       "      <td>0.000000</td>\n",
       "      <td>...</td>\n",
       "      <td>0.000000</td>\n",
       "      <td>0.000000</td>\n",
       "      <td>0.000000</td>\n",
       "      <td>0.000000</td>\n",
       "      <td>0.000000</td>\n",
       "      <td>0.000000</td>\n",
       "      <td>0.000000</td>\n",
       "      <td>0.000000</td>\n",
       "      <td>0.000000</td>\n",
       "      <td>0.000000</td>\n",
       "    </tr>\n",
       "    <tr>\n",
       "      <th>50%</th>\n",
       "      <td>0.000000</td>\n",
       "      <td>0.000000</td>\n",
       "      <td>0.000000</td>\n",
       "      <td>0.000000</td>\n",
       "      <td>0.000000</td>\n",
       "      <td>0.000000</td>\n",
       "      <td>0.000000</td>\n",
       "      <td>0.000000</td>\n",
       "      <td>0.000000</td>\n",
       "      <td>0.000000</td>\n",
       "      <td>...</td>\n",
       "      <td>0.000000</td>\n",
       "      <td>0.000000</td>\n",
       "      <td>0.000000</td>\n",
       "      <td>0.000000</td>\n",
       "      <td>0.000000</td>\n",
       "      <td>0.000000</td>\n",
       "      <td>0.000000</td>\n",
       "      <td>0.000000</td>\n",
       "      <td>0.000000</td>\n",
       "      <td>0.000000</td>\n",
       "    </tr>\n",
       "    <tr>\n",
       "      <th>75%</th>\n",
       "      <td>0.000000</td>\n",
       "      <td>0.000000</td>\n",
       "      <td>0.000000</td>\n",
       "      <td>0.000000</td>\n",
       "      <td>0.000000</td>\n",
       "      <td>0.000000</td>\n",
       "      <td>0.000000</td>\n",
       "      <td>0.000000</td>\n",
       "      <td>0.000000</td>\n",
       "      <td>0.000000</td>\n",
       "      <td>...</td>\n",
       "      <td>0.000000</td>\n",
       "      <td>0.000000</td>\n",
       "      <td>0.000000</td>\n",
       "      <td>0.000000</td>\n",
       "      <td>0.000000</td>\n",
       "      <td>0.000000</td>\n",
       "      <td>0.000000</td>\n",
       "      <td>0.000000</td>\n",
       "      <td>0.877524</td>\n",
       "      <td>0.000000</td>\n",
       "    </tr>\n",
       "    <tr>\n",
       "      <th>max</th>\n",
       "      <td>6.762612</td>\n",
       "      <td>5.539486</td>\n",
       "      <td>6.572284</td>\n",
       "      <td>4.903337</td>\n",
       "      <td>5.591136</td>\n",
       "      <td>4.861639</td>\n",
       "      <td>5.166052</td>\n",
       "      <td>5.812831</td>\n",
       "      <td>5.654543</td>\n",
       "      <td>4.846035</td>\n",
       "      <td>...</td>\n",
       "      <td>1.493988</td>\n",
       "      <td>1.604655</td>\n",
       "      <td>1.778140</td>\n",
       "      <td>1.709633</td>\n",
       "      <td>1.842913</td>\n",
       "      <td>2.938584</td>\n",
       "      <td>1.879372</td>\n",
       "      <td>2.390354</td>\n",
       "      <td>2.622593</td>\n",
       "      <td>2.246530</td>\n",
       "    </tr>\n",
       "  </tbody>\n",
       "</table>\n",
       "<p>8 rows × 2000 columns</p>\n",
       "</div>"
      ],
      "text/plain": [
       "              ORM1         ORM2         MMP3        FDCSP       S100A7  \\\n",
       "count  4014.000000  4014.000000  4014.000000  4014.000000  4014.000000   \n",
       "mean      0.142191     0.084910     0.297772     0.065054     0.488509   \n",
       "std       0.696116     0.485980     0.856380     0.414117     1.078162   \n",
       "min       0.000000     0.000000     0.000000     0.000000     0.000000   \n",
       "25%       0.000000     0.000000     0.000000     0.000000     0.000000   \n",
       "50%       0.000000     0.000000     0.000000     0.000000     0.000000   \n",
       "75%       0.000000     0.000000     0.000000     0.000000     0.000000   \n",
       "max       6.762612     5.539486     6.572284     4.903337     5.591136   \n",
       "\n",
       "             FABP7        KRT81          DCN         IL1B         AREG  ...  \\\n",
       "count  4014.000000  4014.000000  4014.000000  4014.000000  4014.000000  ...   \n",
       "mean      0.199051     0.159551     0.034415     0.279810     0.315602  ...   \n",
       "std       0.655485     0.587791     0.346617     0.779161     0.762863  ...   \n",
       "min       0.000000     0.000000     0.000000     0.000000     0.000000  ...   \n",
       "25%       0.000000     0.000000     0.000000     0.000000     0.000000  ...   \n",
       "50%       0.000000     0.000000     0.000000     0.000000     0.000000  ...   \n",
       "75%       0.000000     0.000000     0.000000     0.000000     0.000000  ...   \n",
       "max       4.861639     5.166052     5.812831     5.654543     4.846035  ...   \n",
       "\n",
       "       RP11.597D13.9      MRGPRX4       C2CD4B  CTD.2012K14.8        CCR10  \\\n",
       "count    4014.000000  4014.000000  4014.000000    4014.000000  4014.000000   \n",
       "mean        0.004128     0.004331     0.004275       0.004063     0.004464   \n",
       "std         0.066658     0.068425     0.069848       0.066387     0.072764   \n",
       "min         0.000000     0.000000     0.000000       0.000000     0.000000   \n",
       "25%         0.000000     0.000000     0.000000       0.000000     0.000000   \n",
       "50%         0.000000     0.000000     0.000000       0.000000     0.000000   \n",
       "75%         0.000000     0.000000     0.000000       0.000000     0.000000   \n",
       "max         1.493988     1.604655     1.778140       1.709633     1.842913   \n",
       "\n",
       "               FAS      ADORA2B        PRMT9        PHGDH        HOXA4  \n",
       "count  4014.000000  4014.000000  4014.000000  4014.000000  4014.000000  \n",
       "mean      0.240907     0.068786     0.024694     0.412100     0.034093  \n",
       "std       0.494458     0.261867     0.155206     0.592806     0.180004  \n",
       "min       0.000000     0.000000     0.000000     0.000000     0.000000  \n",
       "25%       0.000000     0.000000     0.000000     0.000000     0.000000  \n",
       "50%       0.000000     0.000000     0.000000     0.000000     0.000000  \n",
       "75%       0.000000     0.000000     0.000000     0.877524     0.000000  \n",
       "max       2.938584     1.879372     2.390354     2.622593     2.246530  \n",
       "\n",
       "[8 rows x 2000 columns]"
      ]
     },
     "execution_count": 5,
     "metadata": {},
     "output_type": "execute_result"
    }
   ],
   "source": [
    "data.describe()"
   ]
  },
  {
   "cell_type": "code",
   "execution_count": 6,
   "metadata": {},
   "outputs": [
    {
     "name": "stdout",
     "output_type": "stream",
     "text": [
      "ORM1             3749\n",
      "ORM2             3857\n",
      "MMP3             3421\n",
      "FDCSP            3883\n",
      "S100A7           3103\n",
      "                 ... \n",
      "ADORA2B          3729\n",
      "PRMT9            3904\n",
      "PHGDH            2538\n",
      "HOXA4            3858\n",
      "cluster_label       0\n",
      "Length: 2001, dtype: int64\n"
     ]
    }
   ],
   "source": [
    "zeros_count = (data == 0).sum()\n",
    "print(zeros_count)"
   ]
  },
  {
   "cell_type": "code",
   "execution_count": 6,
   "metadata": {
    "collapsed": false,
    "pycharm": {
     "name": "#%%\n"
    }
   },
   "outputs": [
    {
     "name": "stdout",
     "output_type": "stream",
     "text": [
      "<class 'pandas.core.frame.DataFrame'>\n",
      "RangeIndex: 4014 entries, 0 to 4013\n",
      "Columns: 2001 entries, ORM1 to cluster_label\n",
      "dtypes: float64(2000), object(1)\n",
      "memory usage: 61.3+ MB\n"
     ]
    }
   ],
   "source": [
    "data.info()"
   ]
  },
  {
   "attachments": {},
   "cell_type": "markdown",
   "metadata": {
    "collapsed": false
   },
   "source": [
    "## PreProcessing\n",
    "\n",
    "Split X, y and turn labels from string to int with values in range (0, n_classes-1). Also isolate a 30% part of the data as a hold out test set, that will be used to test the generalization ability of the final model."
   ]
  },
  {
   "cell_type": "code",
   "execution_count": 7,
   "metadata": {},
   "outputs": [],
   "source": [
    "data = data[~data['cluster_label'].str.contains('Unclassified')]\n",
    "data = data.reset_index(drop=True)"
   ]
  },
  {
   "cell_type": "code",
   "execution_count": 9,
   "metadata": {
    "collapsed": false,
    "pycharm": {
     "name": "#%%\n"
    }
   },
   "outputs": [
    {
     "data": {
      "text/html": [
       "<div>\n",
       "<style scoped>\n",
       "    .dataframe tbody tr th:only-of-type {\n",
       "        vertical-align: middle;\n",
       "    }\n",
       "\n",
       "    .dataframe tbody tr th {\n",
       "        vertical-align: top;\n",
       "    }\n",
       "\n",
       "    .dataframe thead th {\n",
       "        text-align: right;\n",
       "    }\n",
       "</style>\n",
       "<table border=\"1\" class=\"dataframe\">\n",
       "  <thead>\n",
       "    <tr style=\"text-align: right;\">\n",
       "      <th></th>\n",
       "      <th>ORM1</th>\n",
       "      <th>ORM2</th>\n",
       "      <th>MMP3</th>\n",
       "      <th>FDCSP</th>\n",
       "      <th>S100A7</th>\n",
       "      <th>FABP7</th>\n",
       "      <th>KRT81</th>\n",
       "      <th>DCN</th>\n",
       "      <th>IL1B</th>\n",
       "      <th>AREG</th>\n",
       "      <th>...</th>\n",
       "      <th>RP11.597D13.9</th>\n",
       "      <th>MRGPRX4</th>\n",
       "      <th>C2CD4B</th>\n",
       "      <th>CTD.2012K14.8</th>\n",
       "      <th>CCR10</th>\n",
       "      <th>FAS</th>\n",
       "      <th>ADORA2B</th>\n",
       "      <th>PRMT9</th>\n",
       "      <th>PHGDH</th>\n",
       "      <th>HOXA4</th>\n",
       "    </tr>\n",
       "  </thead>\n",
       "  <tbody>\n",
       "    <tr>\n",
       "      <th>0</th>\n",
       "      <td>0.00000</td>\n",
       "      <td>0.000000</td>\n",
       "      <td>0.000000</td>\n",
       "      <td>0.0</td>\n",
       "      <td>0.000000</td>\n",
       "      <td>0.000000</td>\n",
       "      <td>0.000000</td>\n",
       "      <td>0.0</td>\n",
       "      <td>0.000000</td>\n",
       "      <td>0.000000</td>\n",
       "      <td>...</td>\n",
       "      <td>0.0</td>\n",
       "      <td>0.0</td>\n",
       "      <td>0.0</td>\n",
       "      <td>0.0</td>\n",
       "      <td>0.0</td>\n",
       "      <td>0.000000</td>\n",
       "      <td>0.000000</td>\n",
       "      <td>0.0</td>\n",
       "      <td>0.000000</td>\n",
       "      <td>0.0</td>\n",
       "    </tr>\n",
       "    <tr>\n",
       "      <th>1</th>\n",
       "      <td>0.00000</td>\n",
       "      <td>0.000000</td>\n",
       "      <td>0.000000</td>\n",
       "      <td>0.0</td>\n",
       "      <td>0.000000</td>\n",
       "      <td>0.000000</td>\n",
       "      <td>0.000000</td>\n",
       "      <td>0.0</td>\n",
       "      <td>0.000000</td>\n",
       "      <td>0.000000</td>\n",
       "      <td>...</td>\n",
       "      <td>0.0</td>\n",
       "      <td>0.0</td>\n",
       "      <td>0.0</td>\n",
       "      <td>0.0</td>\n",
       "      <td>0.0</td>\n",
       "      <td>1.159752</td>\n",
       "      <td>1.159752</td>\n",
       "      <td>0.0</td>\n",
       "      <td>0.000000</td>\n",
       "      <td>0.0</td>\n",
       "    </tr>\n",
       "    <tr>\n",
       "      <th>2</th>\n",
       "      <td>0.00000</td>\n",
       "      <td>0.000000</td>\n",
       "      <td>0.000000</td>\n",
       "      <td>0.0</td>\n",
       "      <td>0.000000</td>\n",
       "      <td>0.000000</td>\n",
       "      <td>0.000000</td>\n",
       "      <td>0.0</td>\n",
       "      <td>0.000000</td>\n",
       "      <td>0.000000</td>\n",
       "      <td>...</td>\n",
       "      <td>0.0</td>\n",
       "      <td>0.0</td>\n",
       "      <td>0.0</td>\n",
       "      <td>0.0</td>\n",
       "      <td>0.0</td>\n",
       "      <td>0.000000</td>\n",
       "      <td>0.000000</td>\n",
       "      <td>0.0</td>\n",
       "      <td>0.000000</td>\n",
       "      <td>0.0</td>\n",
       "    </tr>\n",
       "    <tr>\n",
       "      <th>3</th>\n",
       "      <td>0.00000</td>\n",
       "      <td>0.000000</td>\n",
       "      <td>0.000000</td>\n",
       "      <td>0.0</td>\n",
       "      <td>0.000000</td>\n",
       "      <td>0.000000</td>\n",
       "      <td>0.000000</td>\n",
       "      <td>0.0</td>\n",
       "      <td>1.231624</td>\n",
       "      <td>0.000000</td>\n",
       "      <td>...</td>\n",
       "      <td>0.0</td>\n",
       "      <td>0.0</td>\n",
       "      <td>0.0</td>\n",
       "      <td>0.0</td>\n",
       "      <td>0.0</td>\n",
       "      <td>1.231624</td>\n",
       "      <td>0.000000</td>\n",
       "      <td>0.0</td>\n",
       "      <td>0.962358</td>\n",
       "      <td>0.0</td>\n",
       "    </tr>\n",
       "    <tr>\n",
       "      <th>4</th>\n",
       "      <td>0.00000</td>\n",
       "      <td>0.000000</td>\n",
       "      <td>0.000000</td>\n",
       "      <td>0.0</td>\n",
       "      <td>0.000000</td>\n",
       "      <td>0.000000</td>\n",
       "      <td>0.000000</td>\n",
       "      <td>0.0</td>\n",
       "      <td>0.000000</td>\n",
       "      <td>0.000000</td>\n",
       "      <td>...</td>\n",
       "      <td>0.0</td>\n",
       "      <td>0.0</td>\n",
       "      <td>0.0</td>\n",
       "      <td>0.0</td>\n",
       "      <td>0.0</td>\n",
       "      <td>0.000000</td>\n",
       "      <td>0.000000</td>\n",
       "      <td>0.0</td>\n",
       "      <td>1.198887</td>\n",
       "      <td>0.0</td>\n",
       "    </tr>\n",
       "    <tr>\n",
       "      <th>...</th>\n",
       "      <td>...</td>\n",
       "      <td>...</td>\n",
       "      <td>...</td>\n",
       "      <td>...</td>\n",
       "      <td>...</td>\n",
       "      <td>...</td>\n",
       "      <td>...</td>\n",
       "      <td>...</td>\n",
       "      <td>...</td>\n",
       "      <td>...</td>\n",
       "      <td>...</td>\n",
       "      <td>...</td>\n",
       "      <td>...</td>\n",
       "      <td>...</td>\n",
       "      <td>...</td>\n",
       "      <td>...</td>\n",
       "      <td>...</td>\n",
       "      <td>...</td>\n",
       "      <td>...</td>\n",
       "      <td>...</td>\n",
       "      <td>...</td>\n",
       "    </tr>\n",
       "    <tr>\n",
       "      <th>3927</th>\n",
       "      <td>0.00000</td>\n",
       "      <td>0.000000</td>\n",
       "      <td>0.000000</td>\n",
       "      <td>0.0</td>\n",
       "      <td>0.000000</td>\n",
       "      <td>1.382332</td>\n",
       "      <td>3.756037</td>\n",
       "      <td>0.0</td>\n",
       "      <td>0.000000</td>\n",
       "      <td>0.000000</td>\n",
       "      <td>...</td>\n",
       "      <td>0.0</td>\n",
       "      <td>0.0</td>\n",
       "      <td>0.0</td>\n",
       "      <td>0.0</td>\n",
       "      <td>0.0</td>\n",
       "      <td>0.000000</td>\n",
       "      <td>0.000000</td>\n",
       "      <td>0.0</td>\n",
       "      <td>1.382332</td>\n",
       "      <td>0.0</td>\n",
       "    </tr>\n",
       "    <tr>\n",
       "      <th>3928</th>\n",
       "      <td>0.00000</td>\n",
       "      <td>0.000000</td>\n",
       "      <td>3.002545</td>\n",
       "      <td>0.0</td>\n",
       "      <td>0.000000</td>\n",
       "      <td>0.000000</td>\n",
       "      <td>0.000000</td>\n",
       "      <td>0.0</td>\n",
       "      <td>1.139851</td>\n",
       "      <td>1.139851</td>\n",
       "      <td>...</td>\n",
       "      <td>0.0</td>\n",
       "      <td>0.0</td>\n",
       "      <td>0.0</td>\n",
       "      <td>0.0</td>\n",
       "      <td>0.0</td>\n",
       "      <td>1.139851</td>\n",
       "      <td>0.000000</td>\n",
       "      <td>0.0</td>\n",
       "      <td>0.000000</td>\n",
       "      <td>0.0</td>\n",
       "    </tr>\n",
       "    <tr>\n",
       "      <th>3929</th>\n",
       "      <td>0.00000</td>\n",
       "      <td>0.000000</td>\n",
       "      <td>0.000000</td>\n",
       "      <td>0.0</td>\n",
       "      <td>1.729568</td>\n",
       "      <td>1.199697</td>\n",
       "      <td>0.000000</td>\n",
       "      <td>0.0</td>\n",
       "      <td>0.000000</td>\n",
       "      <td>0.000000</td>\n",
       "      <td>...</td>\n",
       "      <td>0.0</td>\n",
       "      <td>0.0</td>\n",
       "      <td>0.0</td>\n",
       "      <td>0.0</td>\n",
       "      <td>0.0</td>\n",
       "      <td>0.000000</td>\n",
       "      <td>0.000000</td>\n",
       "      <td>0.0</td>\n",
       "      <td>0.000000</td>\n",
       "      <td>0.0</td>\n",
       "    </tr>\n",
       "    <tr>\n",
       "      <th>3930</th>\n",
       "      <td>2.44477</td>\n",
       "      <td>2.946953</td>\n",
       "      <td>0.000000</td>\n",
       "      <td>0.0</td>\n",
       "      <td>2.142408</td>\n",
       "      <td>0.000000</td>\n",
       "      <td>0.000000</td>\n",
       "      <td>0.0</td>\n",
       "      <td>0.000000</td>\n",
       "      <td>0.000000</td>\n",
       "      <td>...</td>\n",
       "      <td>0.0</td>\n",
       "      <td>0.0</td>\n",
       "      <td>0.0</td>\n",
       "      <td>0.0</td>\n",
       "      <td>0.0</td>\n",
       "      <td>1.388285</td>\n",
       "      <td>0.000000</td>\n",
       "      <td>0.0</td>\n",
       "      <td>0.000000</td>\n",
       "      <td>0.0</td>\n",
       "    </tr>\n",
       "    <tr>\n",
       "      <th>3931</th>\n",
       "      <td>0.00000</td>\n",
       "      <td>0.000000</td>\n",
       "      <td>3.970905</td>\n",
       "      <td>0.0</td>\n",
       "      <td>0.000000</td>\n",
       "      <td>0.000000</td>\n",
       "      <td>0.000000</td>\n",
       "      <td>0.0</td>\n",
       "      <td>0.000000</td>\n",
       "      <td>2.015445</td>\n",
       "      <td>...</td>\n",
       "      <td>0.0</td>\n",
       "      <td>0.0</td>\n",
       "      <td>0.0</td>\n",
       "      <td>0.0</td>\n",
       "      <td>0.0</td>\n",
       "      <td>0.000000</td>\n",
       "      <td>0.000000</td>\n",
       "      <td>0.0</td>\n",
       "      <td>0.000000</td>\n",
       "      <td>0.0</td>\n",
       "    </tr>\n",
       "  </tbody>\n",
       "</table>\n",
       "<p>3932 rows × 2000 columns</p>\n",
       "</div>"
      ],
      "text/plain": [
       "         ORM1      ORM2      MMP3  FDCSP    S100A7     FABP7     KRT81  DCN  \\\n",
       "0     0.00000  0.000000  0.000000    0.0  0.000000  0.000000  0.000000  0.0   \n",
       "1     0.00000  0.000000  0.000000    0.0  0.000000  0.000000  0.000000  0.0   \n",
       "2     0.00000  0.000000  0.000000    0.0  0.000000  0.000000  0.000000  0.0   \n",
       "3     0.00000  0.000000  0.000000    0.0  0.000000  0.000000  0.000000  0.0   \n",
       "4     0.00000  0.000000  0.000000    0.0  0.000000  0.000000  0.000000  0.0   \n",
       "...       ...       ...       ...    ...       ...       ...       ...  ...   \n",
       "3927  0.00000  0.000000  0.000000    0.0  0.000000  1.382332  3.756037  0.0   \n",
       "3928  0.00000  0.000000  3.002545    0.0  0.000000  0.000000  0.000000  0.0   \n",
       "3929  0.00000  0.000000  0.000000    0.0  1.729568  1.199697  0.000000  0.0   \n",
       "3930  2.44477  2.946953  0.000000    0.0  2.142408  0.000000  0.000000  0.0   \n",
       "3931  0.00000  0.000000  3.970905    0.0  0.000000  0.000000  0.000000  0.0   \n",
       "\n",
       "          IL1B      AREG  ...  RP11.597D13.9  MRGPRX4  C2CD4B  CTD.2012K14.8  \\\n",
       "0     0.000000  0.000000  ...            0.0      0.0     0.0            0.0   \n",
       "1     0.000000  0.000000  ...            0.0      0.0     0.0            0.0   \n",
       "2     0.000000  0.000000  ...            0.0      0.0     0.0            0.0   \n",
       "3     1.231624  0.000000  ...            0.0      0.0     0.0            0.0   \n",
       "4     0.000000  0.000000  ...            0.0      0.0     0.0            0.0   \n",
       "...        ...       ...  ...            ...      ...     ...            ...   \n",
       "3927  0.000000  0.000000  ...            0.0      0.0     0.0            0.0   \n",
       "3928  1.139851  1.139851  ...            0.0      0.0     0.0            0.0   \n",
       "3929  0.000000  0.000000  ...            0.0      0.0     0.0            0.0   \n",
       "3930  0.000000  0.000000  ...            0.0      0.0     0.0            0.0   \n",
       "3931  0.000000  2.015445  ...            0.0      0.0     0.0            0.0   \n",
       "\n",
       "      CCR10       FAS   ADORA2B  PRMT9     PHGDH  HOXA4  \n",
       "0       0.0  0.000000  0.000000    0.0  0.000000    0.0  \n",
       "1       0.0  1.159752  1.159752    0.0  0.000000    0.0  \n",
       "2       0.0  0.000000  0.000000    0.0  0.000000    0.0  \n",
       "3       0.0  1.231624  0.000000    0.0  0.962358    0.0  \n",
       "4       0.0  0.000000  0.000000    0.0  1.198887    0.0  \n",
       "...     ...       ...       ...    ...       ...    ...  \n",
       "3927    0.0  0.000000  0.000000    0.0  1.382332    0.0  \n",
       "3928    0.0  1.139851  0.000000    0.0  0.000000    0.0  \n",
       "3929    0.0  0.000000  0.000000    0.0  0.000000    0.0  \n",
       "3930    0.0  1.388285  0.000000    0.0  0.000000    0.0  \n",
       "3931    0.0  0.000000  0.000000    0.0  0.000000    0.0  \n",
       "\n",
       "[3932 rows x 2000 columns]"
      ]
     },
     "execution_count": 9,
     "metadata": {},
     "output_type": "execute_result"
    }
   ],
   "source": [
    "X, y = split_X_y(data)\n",
    "X\n"
   ]
  },
  {
   "cell_type": "code",
   "execution_count": 10,
   "metadata": {},
   "outputs": [
    {
     "data": {
      "text/html": [
       "<div>\n",
       "<style scoped>\n",
       "    .dataframe tbody tr th:only-of-type {\n",
       "        vertical-align: middle;\n",
       "    }\n",
       "\n",
       "    .dataframe tbody tr th {\n",
       "        vertical-align: top;\n",
       "    }\n",
       "\n",
       "    .dataframe thead th {\n",
       "        text-align: right;\n",
       "    }\n",
       "</style>\n",
       "<table border=\"1\" class=\"dataframe\">\n",
       "  <thead>\n",
       "    <tr style=\"text-align: right;\">\n",
       "      <th></th>\n",
       "      <th>0</th>\n",
       "    </tr>\n",
       "  </thead>\n",
       "  <tbody>\n",
       "    <tr>\n",
       "      <th>0</th>\n",
       "      <td>0</td>\n",
       "    </tr>\n",
       "    <tr>\n",
       "      <th>1</th>\n",
       "      <td>0</td>\n",
       "    </tr>\n",
       "    <tr>\n",
       "      <th>2</th>\n",
       "      <td>1</td>\n",
       "    </tr>\n",
       "    <tr>\n",
       "      <th>3</th>\n",
       "      <td>0</td>\n",
       "    </tr>\n",
       "    <tr>\n",
       "      <th>4</th>\n",
       "      <td>1</td>\n",
       "    </tr>\n",
       "    <tr>\n",
       "      <th>...</th>\n",
       "      <td>...</td>\n",
       "    </tr>\n",
       "    <tr>\n",
       "      <th>3927</th>\n",
       "      <td>1</td>\n",
       "    </tr>\n",
       "    <tr>\n",
       "      <th>3928</th>\n",
       "      <td>0</td>\n",
       "    </tr>\n",
       "    <tr>\n",
       "      <th>3929</th>\n",
       "      <td>1</td>\n",
       "    </tr>\n",
       "    <tr>\n",
       "      <th>3930</th>\n",
       "      <td>2</td>\n",
       "    </tr>\n",
       "    <tr>\n",
       "      <th>3931</th>\n",
       "      <td>0</td>\n",
       "    </tr>\n",
       "  </tbody>\n",
       "</table>\n",
       "<p>3932 rows × 1 columns</p>\n",
       "</div>"
      ],
      "text/plain": [
       "      0\n",
       "0     0\n",
       "1     0\n",
       "2     1\n",
       "3     0\n",
       "4     1\n",
       "...  ..\n",
       "3927  1\n",
       "3928  0\n",
       "3929  1\n",
       "3930  2\n",
       "3931  0\n",
       "\n",
       "[3932 rows x 1 columns]"
      ]
     },
     "execution_count": 10,
     "metadata": {},
     "output_type": "execute_result"
    }
   ],
   "source": [
    "y = pd.DataFrame(y)\n",
    "y"
   ]
  },
  {
   "cell_type": "code",
   "execution_count": 209,
   "metadata": {},
   "outputs": [],
   "source": [
    "#X = X + 0.01"
   ]
  },
  {
   "cell_type": "code",
   "execution_count": 11,
   "metadata": {},
   "outputs": [],
   "source": [
    "# create held-out test set for final model testing\n",
    "X, X_test, y, y_test = train_test_split(X, y, random_state=42, test_size=0.3, stratify=y, shuffle=True)"
   ]
  },
  {
   "cell_type": "code",
   "execution_count": 12,
   "metadata": {},
   "outputs": [],
   "source": [
    "# reset indices\n",
    "X = X.reset_index(drop=True)\n",
    "X_test = X_test.reset_index(drop=True)\n",
    "\n",
    "y = y.reset_index(drop=True)\n",
    "y_test = y_test.reset_index(drop=True)"
   ]
  },
  {
   "cell_type": "code",
   "execution_count": 13,
   "metadata": {},
   "outputs": [],
   "source": [
    "y = y.to_numpy()  \n",
    "y_test = y_test.to_numpy()  "
   ]
  },
  {
   "cell_type": "code",
   "execution_count": 14,
   "metadata": {},
   "outputs": [
    {
     "name": "stdout",
     "output_type": "stream",
     "text": [
      "(2752, 2000)\n",
      "(1180, 2000)\n",
      "(2752, 1)\n",
      "(1180, 1)\n"
     ]
    }
   ],
   "source": [
    "print(X.shape)\n",
    "print(X_test.shape)\n",
    "print(y.shape)\n",
    "print(y_test.shape)"
   ]
  },
  {
   "cell_type": "code",
   "execution_count": 15,
   "metadata": {},
   "outputs": [
    {
     "data": {
      "text/html": [
       "<div>\n",
       "<style scoped>\n",
       "    .dataframe tbody tr th:only-of-type {\n",
       "        vertical-align: middle;\n",
       "    }\n",
       "\n",
       "    .dataframe tbody tr th {\n",
       "        vertical-align: top;\n",
       "    }\n",
       "\n",
       "    .dataframe thead th {\n",
       "        text-align: right;\n",
       "    }\n",
       "</style>\n",
       "<table border=\"1\" class=\"dataframe\">\n",
       "  <thead>\n",
       "    <tr style=\"text-align: right;\">\n",
       "      <th></th>\n",
       "      <th>ORM1</th>\n",
       "      <th>ORM2</th>\n",
       "      <th>MMP3</th>\n",
       "      <th>FDCSP</th>\n",
       "      <th>S100A7</th>\n",
       "      <th>FABP7</th>\n",
       "      <th>KRT81</th>\n",
       "      <th>DCN</th>\n",
       "      <th>IL1B</th>\n",
       "      <th>AREG</th>\n",
       "      <th>...</th>\n",
       "      <th>RP11.597D13.9</th>\n",
       "      <th>MRGPRX4</th>\n",
       "      <th>C2CD4B</th>\n",
       "      <th>CTD.2012K14.8</th>\n",
       "      <th>CCR10</th>\n",
       "      <th>FAS</th>\n",
       "      <th>ADORA2B</th>\n",
       "      <th>PRMT9</th>\n",
       "      <th>PHGDH</th>\n",
       "      <th>HOXA4</th>\n",
       "    </tr>\n",
       "  </thead>\n",
       "  <tbody>\n",
       "    <tr>\n",
       "      <th>0</th>\n",
       "      <td>0.000000</td>\n",
       "      <td>0.000000</td>\n",
       "      <td>0.000000</td>\n",
       "      <td>0.0</td>\n",
       "      <td>0.000000</td>\n",
       "      <td>0.000000</td>\n",
       "      <td>0.000000</td>\n",
       "      <td>0.0</td>\n",
       "      <td>0.000000</td>\n",
       "      <td>0.000000</td>\n",
       "      <td>...</td>\n",
       "      <td>0.0</td>\n",
       "      <td>0.0</td>\n",
       "      <td>0.0</td>\n",
       "      <td>0.0</td>\n",
       "      <td>0.0</td>\n",
       "      <td>1.287289</td>\n",
       "      <td>0.0</td>\n",
       "      <td>0.0</td>\n",
       "      <td>0.000000</td>\n",
       "      <td>0.0</td>\n",
       "    </tr>\n",
       "    <tr>\n",
       "      <th>1</th>\n",
       "      <td>0.000000</td>\n",
       "      <td>0.000000</td>\n",
       "      <td>0.000000</td>\n",
       "      <td>0.0</td>\n",
       "      <td>1.040570</td>\n",
       "      <td>1.040570</td>\n",
       "      <td>0.000000</td>\n",
       "      <td>0.0</td>\n",
       "      <td>0.000000</td>\n",
       "      <td>0.000000</td>\n",
       "      <td>...</td>\n",
       "      <td>0.0</td>\n",
       "      <td>0.0</td>\n",
       "      <td>0.0</td>\n",
       "      <td>0.0</td>\n",
       "      <td>0.0</td>\n",
       "      <td>0.000000</td>\n",
       "      <td>0.0</td>\n",
       "      <td>0.0</td>\n",
       "      <td>0.000000</td>\n",
       "      <td>0.0</td>\n",
       "    </tr>\n",
       "    <tr>\n",
       "      <th>2</th>\n",
       "      <td>0.000000</td>\n",
       "      <td>0.000000</td>\n",
       "      <td>0.000000</td>\n",
       "      <td>0.0</td>\n",
       "      <td>0.000000</td>\n",
       "      <td>0.000000</td>\n",
       "      <td>1.167167</td>\n",
       "      <td>0.0</td>\n",
       "      <td>0.000000</td>\n",
       "      <td>0.744999</td>\n",
       "      <td>...</td>\n",
       "      <td>0.0</td>\n",
       "      <td>0.0</td>\n",
       "      <td>0.0</td>\n",
       "      <td>0.0</td>\n",
       "      <td>0.0</td>\n",
       "      <td>0.000000</td>\n",
       "      <td>0.0</td>\n",
       "      <td>0.0</td>\n",
       "      <td>0.744999</td>\n",
       "      <td>0.0</td>\n",
       "    </tr>\n",
       "    <tr>\n",
       "      <th>3</th>\n",
       "      <td>0.000000</td>\n",
       "      <td>0.000000</td>\n",
       "      <td>0.992541</td>\n",
       "      <td>0.0</td>\n",
       "      <td>0.000000</td>\n",
       "      <td>0.000000</td>\n",
       "      <td>0.000000</td>\n",
       "      <td>0.0</td>\n",
       "      <td>0.000000</td>\n",
       "      <td>0.000000</td>\n",
       "      <td>...</td>\n",
       "      <td>0.0</td>\n",
       "      <td>0.0</td>\n",
       "      <td>0.0</td>\n",
       "      <td>0.0</td>\n",
       "      <td>0.0</td>\n",
       "      <td>0.000000</td>\n",
       "      <td>0.0</td>\n",
       "      <td>0.0</td>\n",
       "      <td>0.000000</td>\n",
       "      <td>0.0</td>\n",
       "    </tr>\n",
       "    <tr>\n",
       "      <th>4</th>\n",
       "      <td>0.000000</td>\n",
       "      <td>0.000000</td>\n",
       "      <td>0.000000</td>\n",
       "      <td>0.0</td>\n",
       "      <td>0.000000</td>\n",
       "      <td>0.000000</td>\n",
       "      <td>0.000000</td>\n",
       "      <td>0.0</td>\n",
       "      <td>0.000000</td>\n",
       "      <td>0.000000</td>\n",
       "      <td>...</td>\n",
       "      <td>0.0</td>\n",
       "      <td>0.0</td>\n",
       "      <td>0.0</td>\n",
       "      <td>0.0</td>\n",
       "      <td>0.0</td>\n",
       "      <td>0.000000</td>\n",
       "      <td>0.0</td>\n",
       "      <td>0.0</td>\n",
       "      <td>0.000000</td>\n",
       "      <td>0.0</td>\n",
       "    </tr>\n",
       "    <tr>\n",
       "      <th>...</th>\n",
       "      <td>...</td>\n",
       "      <td>...</td>\n",
       "      <td>...</td>\n",
       "      <td>...</td>\n",
       "      <td>...</td>\n",
       "      <td>...</td>\n",
       "      <td>...</td>\n",
       "      <td>...</td>\n",
       "      <td>...</td>\n",
       "      <td>...</td>\n",
       "      <td>...</td>\n",
       "      <td>...</td>\n",
       "      <td>...</td>\n",
       "      <td>...</td>\n",
       "      <td>...</td>\n",
       "      <td>...</td>\n",
       "      <td>...</td>\n",
       "      <td>...</td>\n",
       "      <td>...</td>\n",
       "      <td>...</td>\n",
       "      <td>...</td>\n",
       "    </tr>\n",
       "    <tr>\n",
       "      <th>1175</th>\n",
       "      <td>0.000000</td>\n",
       "      <td>0.000000</td>\n",
       "      <td>0.585273</td>\n",
       "      <td>0.0</td>\n",
       "      <td>0.000000</td>\n",
       "      <td>0.585273</td>\n",
       "      <td>0.000000</td>\n",
       "      <td>0.0</td>\n",
       "      <td>0.000000</td>\n",
       "      <td>0.585273</td>\n",
       "      <td>...</td>\n",
       "      <td>0.0</td>\n",
       "      <td>0.0</td>\n",
       "      <td>0.0</td>\n",
       "      <td>0.0</td>\n",
       "      <td>0.0</td>\n",
       "      <td>0.000000</td>\n",
       "      <td>0.0</td>\n",
       "      <td>0.0</td>\n",
       "      <td>0.585273</td>\n",
       "      <td>0.0</td>\n",
       "    </tr>\n",
       "    <tr>\n",
       "      <th>1176</th>\n",
       "      <td>0.000000</td>\n",
       "      <td>0.000000</td>\n",
       "      <td>1.198240</td>\n",
       "      <td>0.0</td>\n",
       "      <td>0.000000</td>\n",
       "      <td>0.000000</td>\n",
       "      <td>0.000000</td>\n",
       "      <td>0.0</td>\n",
       "      <td>0.000000</td>\n",
       "      <td>0.000000</td>\n",
       "      <td>...</td>\n",
       "      <td>0.0</td>\n",
       "      <td>0.0</td>\n",
       "      <td>0.0</td>\n",
       "      <td>0.0</td>\n",
       "      <td>0.0</td>\n",
       "      <td>1.198240</td>\n",
       "      <td>0.0</td>\n",
       "      <td>0.0</td>\n",
       "      <td>1.198240</td>\n",
       "      <td>0.0</td>\n",
       "    </tr>\n",
       "    <tr>\n",
       "      <th>1177</th>\n",
       "      <td>3.884666</td>\n",
       "      <td>0.745814</td>\n",
       "      <td>0.000000</td>\n",
       "      <td>0.0</td>\n",
       "      <td>0.000000</td>\n",
       "      <td>0.000000</td>\n",
       "      <td>0.000000</td>\n",
       "      <td>0.0</td>\n",
       "      <td>0.000000</td>\n",
       "      <td>0.000000</td>\n",
       "      <td>...</td>\n",
       "      <td>0.0</td>\n",
       "      <td>0.0</td>\n",
       "      <td>0.0</td>\n",
       "      <td>0.0</td>\n",
       "      <td>0.0</td>\n",
       "      <td>0.000000</td>\n",
       "      <td>0.0</td>\n",
       "      <td>0.0</td>\n",
       "      <td>0.000000</td>\n",
       "      <td>0.0</td>\n",
       "    </tr>\n",
       "    <tr>\n",
       "      <th>1178</th>\n",
       "      <td>0.000000</td>\n",
       "      <td>0.000000</td>\n",
       "      <td>0.000000</td>\n",
       "      <td>0.0</td>\n",
       "      <td>2.663829</td>\n",
       "      <td>0.000000</td>\n",
       "      <td>0.000000</td>\n",
       "      <td>0.0</td>\n",
       "      <td>0.636617</td>\n",
       "      <td>0.000000</td>\n",
       "      <td>...</td>\n",
       "      <td>0.0</td>\n",
       "      <td>0.0</td>\n",
       "      <td>0.0</td>\n",
       "      <td>0.0</td>\n",
       "      <td>0.0</td>\n",
       "      <td>0.000000</td>\n",
       "      <td>0.0</td>\n",
       "      <td>0.0</td>\n",
       "      <td>0.000000</td>\n",
       "      <td>0.0</td>\n",
       "    </tr>\n",
       "    <tr>\n",
       "      <th>1179</th>\n",
       "      <td>3.948868</td>\n",
       "      <td>2.224651</td>\n",
       "      <td>0.000000</td>\n",
       "      <td>0.0</td>\n",
       "      <td>1.119253</td>\n",
       "      <td>0.000000</td>\n",
       "      <td>1.119253</td>\n",
       "      <td>0.0</td>\n",
       "      <td>0.000000</td>\n",
       "      <td>0.000000</td>\n",
       "      <td>...</td>\n",
       "      <td>0.0</td>\n",
       "      <td>0.0</td>\n",
       "      <td>0.0</td>\n",
       "      <td>0.0</td>\n",
       "      <td>0.0</td>\n",
       "      <td>0.000000</td>\n",
       "      <td>0.0</td>\n",
       "      <td>0.0</td>\n",
       "      <td>0.523261</td>\n",
       "      <td>0.0</td>\n",
       "    </tr>\n",
       "  </tbody>\n",
       "</table>\n",
       "<p>1180 rows × 2000 columns</p>\n",
       "</div>"
      ],
      "text/plain": [
       "          ORM1      ORM2      MMP3  FDCSP    S100A7     FABP7     KRT81  DCN  \\\n",
       "0     0.000000  0.000000  0.000000    0.0  0.000000  0.000000  0.000000  0.0   \n",
       "1     0.000000  0.000000  0.000000    0.0  1.040570  1.040570  0.000000  0.0   \n",
       "2     0.000000  0.000000  0.000000    0.0  0.000000  0.000000  1.167167  0.0   \n",
       "3     0.000000  0.000000  0.992541    0.0  0.000000  0.000000  0.000000  0.0   \n",
       "4     0.000000  0.000000  0.000000    0.0  0.000000  0.000000  0.000000  0.0   \n",
       "...        ...       ...       ...    ...       ...       ...       ...  ...   \n",
       "1175  0.000000  0.000000  0.585273    0.0  0.000000  0.585273  0.000000  0.0   \n",
       "1176  0.000000  0.000000  1.198240    0.0  0.000000  0.000000  0.000000  0.0   \n",
       "1177  3.884666  0.745814  0.000000    0.0  0.000000  0.000000  0.000000  0.0   \n",
       "1178  0.000000  0.000000  0.000000    0.0  2.663829  0.000000  0.000000  0.0   \n",
       "1179  3.948868  2.224651  0.000000    0.0  1.119253  0.000000  1.119253  0.0   \n",
       "\n",
       "          IL1B      AREG  ...  RP11.597D13.9  MRGPRX4  C2CD4B  CTD.2012K14.8  \\\n",
       "0     0.000000  0.000000  ...            0.0      0.0     0.0            0.0   \n",
       "1     0.000000  0.000000  ...            0.0      0.0     0.0            0.0   \n",
       "2     0.000000  0.744999  ...            0.0      0.0     0.0            0.0   \n",
       "3     0.000000  0.000000  ...            0.0      0.0     0.0            0.0   \n",
       "4     0.000000  0.000000  ...            0.0      0.0     0.0            0.0   \n",
       "...        ...       ...  ...            ...      ...     ...            ...   \n",
       "1175  0.000000  0.585273  ...            0.0      0.0     0.0            0.0   \n",
       "1176  0.000000  0.000000  ...            0.0      0.0     0.0            0.0   \n",
       "1177  0.000000  0.000000  ...            0.0      0.0     0.0            0.0   \n",
       "1178  0.636617  0.000000  ...            0.0      0.0     0.0            0.0   \n",
       "1179  0.000000  0.000000  ...            0.0      0.0     0.0            0.0   \n",
       "\n",
       "      CCR10       FAS  ADORA2B  PRMT9     PHGDH  HOXA4  \n",
       "0       0.0  1.287289      0.0    0.0  0.000000    0.0  \n",
       "1       0.0  0.000000      0.0    0.0  0.000000    0.0  \n",
       "2       0.0  0.000000      0.0    0.0  0.744999    0.0  \n",
       "3       0.0  0.000000      0.0    0.0  0.000000    0.0  \n",
       "4       0.0  0.000000      0.0    0.0  0.000000    0.0  \n",
       "...     ...       ...      ...    ...       ...    ...  \n",
       "1175    0.0  0.000000      0.0    0.0  0.585273    0.0  \n",
       "1176    0.0  1.198240      0.0    0.0  1.198240    0.0  \n",
       "1177    0.0  0.000000      0.0    0.0  0.000000    0.0  \n",
       "1178    0.0  0.000000      0.0    0.0  0.000000    0.0  \n",
       "1179    0.0  0.000000      0.0    0.0  0.523261    0.0  \n",
       "\n",
       "[1180 rows x 2000 columns]"
      ]
     },
     "execution_count": 15,
     "metadata": {},
     "output_type": "execute_result"
    }
   ],
   "source": [
    "X_test"
   ]
  },
  {
   "cell_type": "code",
   "execution_count": 16,
   "metadata": {},
   "outputs": [
    {
     "data": {
      "text/plain": [
       "array([[0],\n",
       "       [0],\n",
       "       [1],\n",
       "       ...,\n",
       "       [2],\n",
       "       [1],\n",
       "       [2]])"
      ]
     },
     "execution_count": 16,
     "metadata": {},
     "output_type": "execute_result"
    }
   ],
   "source": [
    "y_test\n"
   ]
  },
  {
   "cell_type": "markdown",
   "metadata": {
    "collapsed": false,
    "pycharm": {
     "name": "#%% md\n"
    }
   },
   "source": [
    "## NestedCV to optimize each model and compare them"
   ]
  },
  {
   "cell_type": "code",
   "execution_count": 23,
   "metadata": {
    "collapsed": false,
    "pycharm": {
     "name": "#%%\n"
    }
   },
   "outputs": [],
   "source": [
    "from sklearn.metrics import matthews_corrcoef, balanced_accuracy_score, fbeta_score, f1_score, make_scorer\n",
    "from sklearn.model_selection import StratifiedKFold\n",
    "from sklearn.preprocessing import StandardScaler\n",
    "from sklearn.decomposition import PCA\n",
    "from sklearn.decomposition import TruncatedSVD\n",
    "import numpy as np\n",
    "\n",
    "NUM_TRIALS = 5\n",
    "OUTER_FOLDS = 2\n",
    "\n",
    "scoring = {'F1_weighted': make_scorer(f1_score, average='weighted'),\n",
    "           'F1_micro': make_scorer(f1_score, average='micro'),\n",
    "           'F1_macro': make_scorer(f1_score, average='macro'),\n",
    "           'F2_weighted': make_scorer(fbeta_score, beta=2, zero_division=0, average='weighted'),\n",
    "           'F2_micro': make_scorer(fbeta_score, beta=2, zero_division=0, average='micro'),\n",
    "           'F2_macro': make_scorer(fbeta_score, beta=2, zero_division=0, average='macro'),\n",
    "           'MCC': make_scorer(matthews_corrcoef),\n",
    "           'Balanced_Accuracy': 'balanced_accuracy',\n",
    "           }\n",
    "\n",
    "def get_outer_scores(y_true, y_pred, results_df, idx):\n",
    "    \"\"\"\n",
    "    Fill the dataframe which will contain all the scores for each experiment of a specific classifier\n",
    "\n",
    "    :param y_true: True labels\n",
    "    :param y_pred: Predicted labels by the best estimator of each inner cv\n",
    "    :param results_df: The dataframe to fill\n",
    "    :param idx: The index the results should be put\n",
    "    :return: The dataframe filled at the indicated index\n",
    "    \"\"\"\n",
    "    results_df['MCC'].loc[idx] = matthews_corrcoef(y_true, y_pred)\n",
    "    results_df['F1_weighted'].loc[idx] = f1_score(y_true, y_pred, average='weighted')\n",
    "    results_df['F1_micro'].loc[idx] = f1_score(y_true, y_pred, average='micro')\n",
    "    results_df['F1_macro'].loc[idx] = f1_score(y_true, y_pred, average='macro')\n",
    "    results_df['F2_weighted'].loc[idx] = fbeta_score(y_true, y_pred, beta=2, zero_division=0, average='weighted')\n",
    "    results_df['F2_micro'].loc[idx] = fbeta_score(y_true, y_pred, beta=2, zero_division=0, average='micro')\n",
    "    results_df['F2_macro'].loc[idx] = f1_score(y_true, y_pred, average='macro')\n",
    "    results_df['Balanced_Accuracy'].loc[idx] = balanced_accuracy_score(y_true, y_pred)\n",
    "\n",
    "    return results_df.copy()\n",
    "\n",
    "def run_ncv(data_x, labels, clf_name):\n",
    "    \"\"\"\n",
    "    Run an NCV experiment for a specific classifier whose name is required as input\n",
    "\n",
    "    :param data_x: Dataframe of samples and features\n",
    "    :param labels: numpy array of labels\n",
    "    :param clf_name: a string indicating the name of the classifier\n",
    "    :return: tuple\n",
    "        Result scores of all experiments in a dataframe (experiment_number x score) and a list with the best parameters\n",
    "        for each experiment just for inspection (DO NOT USE)\n",
    "    \"\"\"\n",
    "    trial_results_df = pd.DataFrame(columns=list(scoring.keys()), index=[i for i in range(NUM_TRIALS+OUTER_FOLDS)])\n",
    "    best_params_list = []\n",
    "    svd = TruncatedSVD(n_components=2).fit(data_x)\n",
    "    \n",
    "    for num_trial in range(NUM_TRIALS):\n",
    "        outer_cv = StratifiedKFold(n_splits=OUTER_FOLDS, shuffle=True, random_state=num_trial)\n",
    "        count = 0\n",
    "        for train_ix, test_ix in outer_cv.split(data_x, labels):\n",
    "            x_train, x_test = data_x.loc[train_ix], data_x.loc[test_ix]\n",
    "            y_train, y_test = labels[train_ix], labels[test_ix]\n",
    "\n",
    "            \n",
    "            x_train = svd.transform(x_train)\n",
    "            x_test = svd.transform(x_test)\n",
    "\n",
    "            seed = num_trial\n",
    "\n",
    "            best_estimator, best_params = optimize_one_model(x_train, y_train, clf_name, seed)\n",
    "\n",
    "            best_params_list.append(best_params)\n",
    "            y_pred = best_estimator.predict(x_test)\n",
    "            trial_results_df = get_outer_scores(y_test, y_pred, trial_results_df.copy(), num_trial+count)\n",
    "            \n",
    "            count += 1\n",
    "\n",
    "    return trial_results_df, best_params_list\n",
    "\n",
    "\n",
    "\n",
    "def run_all_classifiers(data, targets):\n",
    "    \"\"\"\n",
    "    START HERE\n",
    "    Begin the nested cv experiment here. This function iterates over all classifier names and starts a ncv experiment for\n",
    "    each one.\n",
    "\n",
    "    :param data: A dataframe containing the features for all available samples (aka PCs)\n",
    "    :param targets: The labels after turning them into numbers of range 0 to num_classes-1\n",
    "    :return: Tuple\n",
    "        A dictionary with keys the names of the classifiers and values the dataframes containing the scores for each,\n",
    "        A dictionary containing the best params for each experiment and each classifier (Only used for inspection)\n",
    "    \"\"\"\n",
    "    results_dict = {}\n",
    "    params_dict = {}\n",
    "    classifiers = {0: 'svm',\n",
    "                   1: 'lr',\n",
    "                   2: 'gnb',\n",
    "                   3: 'rf',\n",
    "                   4: 'xgb'\n",
    "                   }\n",
    "\n",
    "    for clf in classifiers.values():\n",
    "        print(f'Starting NCV experiment for classifier {clf}')\n",
    "        # res_df = nested_cv(clf, hyperparam_grids[key], x, y)\n",
    "        res_df, best_params = run_ncv(data, targets, clf)\n",
    "        results_dict[clf] = res_df\n",
    "        params_dict[clf] = best_params\n",
    "        # break\n",
    "    return results_dict, params_dict"
   ]
  },
  {
   "cell_type": "markdown",
   "metadata": {
    "collapsed": false,
    "pycharm": {
     "name": "#%% md\n"
    }
   },
   "source": [
    "## Plotting functions"
   ]
  },
  {
   "cell_type": "code",
   "execution_count": 18,
   "metadata": {
    "collapsed": false,
    "pycharm": {
     "name": "#%%\n"
    }
   },
   "outputs": [],
   "source": [
    "def plot_clfs_metrics(results_dict):\n",
    "    fig, axes = plt.subplots(nrows=4, ncols=2, figsize=(6, 9))\n",
    "    my_palette = sns.color_palette(\"Set3\")\n",
    "\n",
    "    row, col = 0, 0\n",
    "    for metric in scoring.keys():\n",
    "        metric_data = pd.DataFrame()\n",
    "        for clf_key, df in results_dict.items():\n",
    "            metric_data[clf_key.upper()] = df[metric]\n",
    "        sns.boxplot(data=metric_data, ax=axes[row][col], width=0.5, palette=my_palette)\n",
    "        axes[row][col].set_title(metric)\n",
    "\n",
    "        col += 1\n",
    "        if col == 2:\n",
    "            col = 0\n",
    "            row += 1\n",
    "\n",
    "    fig.subplots_adjust(hspace=0.6, wspace=0.3)\n",
    "    fig.suptitle('Classifiers metrics comparison after nested CV experiments', fontsize=22)\n",
    "    plt.savefig('metrics_comparison.pdf')\n",
    "    plt.show()\n",
    "\n",
    "\n",
    "def plot_mccs(mcc_dict):\n",
    "    fig, ax = plt.subplots(figsize=(8, 7))\n",
    "    x_labels = [key.upper() for key in mcc_dict.keys()]\n",
    "    y_values = mcc_dict.values()\n",
    "    my_cmap = plt.get_cmap(\"Set3\")\n",
    "    plt.bar(x_labels, y_values, color=my_cmap.colors)\n",
    "    plt.title('MCC mean values comparison between different classifiers', fontsize=22)\n",
    "    ax.xaxis.label.set_size(8)\n",
    "    ax.yaxis.label.set_size(8)\n",
    "    ax.bar_label(ax.containers[0])\n",
    "    plt.xlabel('Classifiers', fontsize=10)\n",
    "    plt.savefig('mcc_compare.pdf')\n",
    "    plt.show()\n",
    "\n",
    "\n",
    "def plot_mean_std_errors(std_dict):\n",
    "    fig, ax = plt.subplots(figsize=(8, 7))\n",
    "    x_labels = [key.upper() for key in std_dict.keys()]\n",
    "    y_values = std_dict.values()\n",
    "    my_cmap = plt.get_cmap(\"Set3\")\n",
    "    plt.bar(x_labels, y_values, color=my_cmap.colors)\n",
    "    plt.title('MCC standard error comparison between different classifiers', fontsize=22)\n",
    "    ax.xaxis.label.set_size(8)\n",
    "    ax.yaxis.label.set_size(8)\n",
    "    ax.bar_label(ax.containers[0])\n",
    "    plt.xlabel('Classifiers', fontsize=10)\n",
    "    plt.savefig('std_e_compare.pdf')\n",
    "    plt.show()\n",
    "\n",
    "\n",
    "def compare_mean_mccs(results_dict):\n",
    "    \"\"\"\n",
    "    For each classifier calculate mean MCC score and standard error\n",
    "    :param results_dict: A dictionary with keys the names of the classifiers and values dataframes with the scores of\n",
    "    the ncv experiments done for each one\n",
    "    :return:\n",
    "    Dictionary for each classifier's mean MCC score\n",
    "    \"\"\"\n",
    "    mccs = {}\n",
    "    std_errors = {}\n",
    "    for key, df in results_dict.items():\n",
    "        mean_mcc = df['MCC'].mean()\n",
    "        std_error_mcc = df['MCC'].std(ddof=1) / np.sqrt(df['MCC'].shape[0])\n",
    "        mccs[key] = mean_mcc\n",
    "        std_errors[key] = std_error_mcc\n",
    "    plot_mccs(mccs)\n",
    "    plot_mean_std_errors(std_errors)\n",
    "    return mccs"
   ]
  },
  {
   "cell_type": "code",
   "execution_count": 233,
   "metadata": {
    "collapsed": false,
    "pycharm": {
     "name": "#%%\n"
    }
   },
   "outputs": [
    {
     "data": {
      "text/plain": [
       "(2752, 2000)"
      ]
     },
     "execution_count": 233,
     "metadata": {},
     "output_type": "execute_result"
    }
   ],
   "source": [
    "X.shape"
   ]
  },
  {
   "cell_type": "code",
   "execution_count": 257,
   "metadata": {
    "collapsed": false,
    "pycharm": {
     "name": "#%%\n"
    }
   },
   "outputs": [
    {
     "data": {
      "text/html": [
       "<div>\n",
       "<style scoped>\n",
       "    .dataframe tbody tr th:only-of-type {\n",
       "        vertical-align: middle;\n",
       "    }\n",
       "\n",
       "    .dataframe tbody tr th {\n",
       "        vertical-align: top;\n",
       "    }\n",
       "\n",
       "    .dataframe thead th {\n",
       "        text-align: right;\n",
       "    }\n",
       "</style>\n",
       "<table border=\"1\" class=\"dataframe\">\n",
       "  <thead>\n",
       "    <tr style=\"text-align: right;\">\n",
       "      <th></th>\n",
       "      <th>ORM1</th>\n",
       "      <th>ORM2</th>\n",
       "      <th>MMP3</th>\n",
       "      <th>FDCSP</th>\n",
       "      <th>S100A7</th>\n",
       "      <th>FABP7</th>\n",
       "      <th>KRT81</th>\n",
       "      <th>DCN</th>\n",
       "      <th>IL1B</th>\n",
       "      <th>AREG</th>\n",
       "      <th>...</th>\n",
       "      <th>RP11.597D13.9</th>\n",
       "      <th>MRGPRX4</th>\n",
       "      <th>C2CD4B</th>\n",
       "      <th>CTD.2012K14.8</th>\n",
       "      <th>CCR10</th>\n",
       "      <th>FAS</th>\n",
       "      <th>ADORA2B</th>\n",
       "      <th>PRMT9</th>\n",
       "      <th>PHGDH</th>\n",
       "      <th>HOXA4</th>\n",
       "    </tr>\n",
       "  </thead>\n",
       "  <tbody>\n",
       "    <tr>\n",
       "      <th>0</th>\n",
       "      <td>0.000000</td>\n",
       "      <td>0.000000</td>\n",
       "      <td>0.0</td>\n",
       "      <td>0.000000</td>\n",
       "      <td>0.0</td>\n",
       "      <td>0.0</td>\n",
       "      <td>0.0</td>\n",
       "      <td>0.0</td>\n",
       "      <td>0.0</td>\n",
       "      <td>0.000000</td>\n",
       "      <td>...</td>\n",
       "      <td>0.0</td>\n",
       "      <td>0.0</td>\n",
       "      <td>0.0</td>\n",
       "      <td>0.0</td>\n",
       "      <td>0.0</td>\n",
       "      <td>0.0</td>\n",
       "      <td>0.0</td>\n",
       "      <td>0.0</td>\n",
       "      <td>0.0</td>\n",
       "      <td>0.0</td>\n",
       "    </tr>\n",
       "    <tr>\n",
       "      <th>1</th>\n",
       "      <td>0.000000</td>\n",
       "      <td>0.000000</td>\n",
       "      <td>0.0</td>\n",
       "      <td>0.000000</td>\n",
       "      <td>0.0</td>\n",
       "      <td>0.0</td>\n",
       "      <td>0.0</td>\n",
       "      <td>0.0</td>\n",
       "      <td>0.0</td>\n",
       "      <td>4.527878</td>\n",
       "      <td>...</td>\n",
       "      <td>0.0</td>\n",
       "      <td>0.0</td>\n",
       "      <td>0.0</td>\n",
       "      <td>0.0</td>\n",
       "      <td>0.0</td>\n",
       "      <td>0.0</td>\n",
       "      <td>0.0</td>\n",
       "      <td>0.0</td>\n",
       "      <td>0.0</td>\n",
       "      <td>0.0</td>\n",
       "    </tr>\n",
       "    <tr>\n",
       "      <th>2</th>\n",
       "      <td>0.000000</td>\n",
       "      <td>0.000000</td>\n",
       "      <td>0.0</td>\n",
       "      <td>0.000000</td>\n",
       "      <td>0.0</td>\n",
       "      <td>0.0</td>\n",
       "      <td>0.0</td>\n",
       "      <td>0.0</td>\n",
       "      <td>0.0</td>\n",
       "      <td>2.581540</td>\n",
       "      <td>...</td>\n",
       "      <td>0.0</td>\n",
       "      <td>0.0</td>\n",
       "      <td>0.0</td>\n",
       "      <td>0.0</td>\n",
       "      <td>0.0</td>\n",
       "      <td>0.0</td>\n",
       "      <td>0.0</td>\n",
       "      <td>0.0</td>\n",
       "      <td>0.0</td>\n",
       "      <td>0.0</td>\n",
       "    </tr>\n",
       "    <tr>\n",
       "      <th>3</th>\n",
       "      <td>5.554186</td>\n",
       "      <td>3.737693</td>\n",
       "      <td>0.0</td>\n",
       "      <td>0.881214</td>\n",
       "      <td>0.0</td>\n",
       "      <td>0.0</td>\n",
       "      <td>0.0</td>\n",
       "      <td>0.0</td>\n",
       "      <td>0.0</td>\n",
       "      <td>0.000000</td>\n",
       "      <td>...</td>\n",
       "      <td>0.0</td>\n",
       "      <td>0.0</td>\n",
       "      <td>0.0</td>\n",
       "      <td>0.0</td>\n",
       "      <td>0.0</td>\n",
       "      <td>0.0</td>\n",
       "      <td>0.0</td>\n",
       "      <td>0.0</td>\n",
       "      <td>0.0</td>\n",
       "      <td>0.0</td>\n",
       "    </tr>\n",
       "  </tbody>\n",
       "</table>\n",
       "<p>4 rows × 2000 columns</p>\n",
       "</div>"
      ],
      "text/plain": [
       "       ORM1      ORM2  MMP3     FDCSP  S100A7  FABP7  KRT81  DCN  IL1B  \\\n",
       "0  0.000000  0.000000   0.0  0.000000     0.0    0.0    0.0  0.0   0.0   \n",
       "1  0.000000  0.000000   0.0  0.000000     0.0    0.0    0.0  0.0   0.0   \n",
       "2  0.000000  0.000000   0.0  0.000000     0.0    0.0    0.0  0.0   0.0   \n",
       "3  5.554186  3.737693   0.0  0.881214     0.0    0.0    0.0  0.0   0.0   \n",
       "\n",
       "       AREG  ...  RP11.597D13.9  MRGPRX4  C2CD4B  CTD.2012K14.8  CCR10  FAS  \\\n",
       "0  0.000000  ...            0.0      0.0     0.0            0.0    0.0  0.0   \n",
       "1  4.527878  ...            0.0      0.0     0.0            0.0    0.0  0.0   \n",
       "2  2.581540  ...            0.0      0.0     0.0            0.0    0.0  0.0   \n",
       "3  0.000000  ...            0.0      0.0     0.0            0.0    0.0  0.0   \n",
       "\n",
       "   ADORA2B  PRMT9  PHGDH  HOXA4  \n",
       "0      0.0    0.0    0.0    0.0  \n",
       "1      0.0    0.0    0.0    0.0  \n",
       "2      0.0    0.0    0.0    0.0  \n",
       "3      0.0    0.0    0.0    0.0  \n",
       "\n",
       "[4 rows x 2000 columns]"
      ]
     },
     "execution_count": 257,
     "metadata": {},
     "output_type": "execute_result"
    }
   ],
   "source": [
    "X.loc[[0,1,2,3]]\n"
   ]
  },
  {
   "cell_type": "code",
   "execution_count": 24,
   "metadata": {
    "collapsed": false,
    "pycharm": {
     "is_executing": true,
     "name": "#%%\n"
    }
   },
   "outputs": [
    {
     "name": "stdout",
     "output_type": "stream",
     "text": [
      "Starting NCV experiment for classifier svm\n"
     ]
    },
    {
     "data": {
      "application/vnd.jupyter.widget-view+json": {
       "model_id": "5b2ec80ea5d24f02b2231df750cc11f7",
       "version_major": 2,
       "version_minor": 0
      },
      "text/plain": [
       "  0%|          | 0/10 [00:00<?, ?it/s]"
      ]
     },
     "metadata": {},
     "output_type": "display_data"
    },
    {
     "data": {
      "application/vnd.jupyter.widget-view+json": {
       "model_id": "4685fc930e7e4d928d9de56eb6622696",
       "version_major": 2,
       "version_minor": 0
      },
      "text/plain": [
       "  0%|          | 0/10 [00:00<?, ?it/s]"
      ]
     },
     "metadata": {},
     "output_type": "display_data"
    },
    {
     "data": {
      "application/vnd.jupyter.widget-view+json": {
       "model_id": "6c53d58c3a8246cdb690b5d050398e7d",
       "version_major": 2,
       "version_minor": 0
      },
      "text/plain": [
       "  0%|          | 0/10 [00:00<?, ?it/s]"
      ]
     },
     "metadata": {},
     "output_type": "display_data"
    },
    {
     "data": {
      "application/vnd.jupyter.widget-view+json": {
       "model_id": "71277e9138f8404eb6d1c25580d7deeb",
       "version_major": 2,
       "version_minor": 0
      },
      "text/plain": [
       "  0%|          | 0/10 [00:00<?, ?it/s]"
      ]
     },
     "metadata": {},
     "output_type": "display_data"
    },
    {
     "data": {
      "application/vnd.jupyter.widget-view+json": {
       "model_id": "c3dd0084ae2e4ffdb40aa8bf9a000c63",
       "version_major": 2,
       "version_minor": 0
      },
      "text/plain": [
       "  0%|          | 0/10 [00:00<?, ?it/s]"
      ]
     },
     "metadata": {},
     "output_type": "display_data"
    },
    {
     "data": {
      "application/vnd.jupyter.widget-view+json": {
       "model_id": "db69ed2372c44f45b169b60db5fcb37a",
       "version_major": 2,
       "version_minor": 0
      },
      "text/plain": [
       "  0%|          | 0/10 [00:00<?, ?it/s]"
      ]
     },
     "metadata": {},
     "output_type": "display_data"
    },
    {
     "data": {
      "application/vnd.jupyter.widget-view+json": {
       "model_id": "a6b5bb6e9606481c94c12e689e75fb86",
       "version_major": 2,
       "version_minor": 0
      },
      "text/plain": [
       "  0%|          | 0/10 [00:00<?, ?it/s]"
      ]
     },
     "metadata": {},
     "output_type": "display_data"
    },
    {
     "data": {
      "application/vnd.jupyter.widget-view+json": {
       "model_id": "d4b9ceed506048d5a0dc3b5d3b37cd82",
       "version_major": 2,
       "version_minor": 0
      },
      "text/plain": [
       "  0%|          | 0/10 [00:00<?, ?it/s]"
      ]
     },
     "metadata": {},
     "output_type": "display_data"
    },
    {
     "data": {
      "application/vnd.jupyter.widget-view+json": {
       "model_id": "54cd420ac7024b7b8b180788709195a6",
       "version_major": 2,
       "version_minor": 0
      },
      "text/plain": [
       "  0%|          | 0/10 [00:00<?, ?it/s]"
      ]
     },
     "metadata": {},
     "output_type": "display_data"
    },
    {
     "data": {
      "application/vnd.jupyter.widget-view+json": {
       "model_id": "ef0f9223b8cd489e963ba96ebf47187c",
       "version_major": 2,
       "version_minor": 0
      },
      "text/plain": [
       "  0%|          | 0/10 [00:00<?, ?it/s]"
      ]
     },
     "metadata": {},
     "output_type": "display_data"
    },
    {
     "name": "stdout",
     "output_type": "stream",
     "text": [
      "Starting NCV experiment for classifier lr\n"
     ]
    },
    {
     "data": {
      "application/vnd.jupyter.widget-view+json": {
       "model_id": "4851560729f444c3be547cdba2ed41b5",
       "version_major": 2,
       "version_minor": 0
      },
      "text/plain": [
       "  0%|          | 0/10 [00:00<?, ?it/s]"
      ]
     },
     "metadata": {},
     "output_type": "display_data"
    },
    {
     "data": {
      "application/vnd.jupyter.widget-view+json": {
       "model_id": "c068cde53001427fb5648c8319284ada",
       "version_major": 2,
       "version_minor": 0
      },
      "text/plain": [
       "  0%|          | 0/10 [00:00<?, ?it/s]"
      ]
     },
     "metadata": {},
     "output_type": "display_data"
    },
    {
     "data": {
      "application/vnd.jupyter.widget-view+json": {
       "model_id": "dd0030bacbd045188b9641576da8931c",
       "version_major": 2,
       "version_minor": 0
      },
      "text/plain": [
       "  0%|          | 0/10 [00:00<?, ?it/s]"
      ]
     },
     "metadata": {},
     "output_type": "display_data"
    },
    {
     "data": {
      "application/vnd.jupyter.widget-view+json": {
       "model_id": "c6ff9df3c4be4a6baf8117dcfb2318a0",
       "version_major": 2,
       "version_minor": 0
      },
      "text/plain": [
       "  0%|          | 0/10 [00:00<?, ?it/s]"
      ]
     },
     "metadata": {},
     "output_type": "display_data"
    },
    {
     "data": {
      "application/vnd.jupyter.widget-view+json": {
       "model_id": "1fcdc005c3264e0f99b20d4a60dc5619",
       "version_major": 2,
       "version_minor": 0
      },
      "text/plain": [
       "  0%|          | 0/10 [00:00<?, ?it/s]"
      ]
     },
     "metadata": {},
     "output_type": "display_data"
    },
    {
     "data": {
      "application/vnd.jupyter.widget-view+json": {
       "model_id": "f63c6382f6f041e9ac9bfe5cb3376cfd",
       "version_major": 2,
       "version_minor": 0
      },
      "text/plain": [
       "  0%|          | 0/10 [00:00<?, ?it/s]"
      ]
     },
     "metadata": {},
     "output_type": "display_data"
    },
    {
     "data": {
      "application/vnd.jupyter.widget-view+json": {
       "model_id": "547623a493aa47c99990260c34f636a6",
       "version_major": 2,
       "version_minor": 0
      },
      "text/plain": [
       "  0%|          | 0/10 [00:00<?, ?it/s]"
      ]
     },
     "metadata": {},
     "output_type": "display_data"
    },
    {
     "data": {
      "application/vnd.jupyter.widget-view+json": {
       "model_id": "ffa812aa23bb46359c571938ee9070bb",
       "version_major": 2,
       "version_minor": 0
      },
      "text/plain": [
       "  0%|          | 0/10 [00:00<?, ?it/s]"
      ]
     },
     "metadata": {},
     "output_type": "display_data"
    },
    {
     "data": {
      "application/vnd.jupyter.widget-view+json": {
       "model_id": "699f11e713e24cc584af1e9563daef2b",
       "version_major": 2,
       "version_minor": 0
      },
      "text/plain": [
       "  0%|          | 0/10 [00:00<?, ?it/s]"
      ]
     },
     "metadata": {},
     "output_type": "display_data"
    },
    {
     "data": {
      "application/vnd.jupyter.widget-view+json": {
       "model_id": "2a45990e270541d398a4b5729605397e",
       "version_major": 2,
       "version_minor": 0
      },
      "text/plain": [
       "  0%|          | 0/10 [00:00<?, ?it/s]"
      ]
     },
     "metadata": {},
     "output_type": "display_data"
    },
    {
     "name": "stdout",
     "output_type": "stream",
     "text": [
      "Starting NCV experiment for classifier gnb\n"
     ]
    },
    {
     "data": {
      "application/vnd.jupyter.widget-view+json": {
       "model_id": "aca730a4368e446ba619c8a3fed66bf2",
       "version_major": 2,
       "version_minor": 0
      },
      "text/plain": [
       "  0%|          | 0/10 [00:00<?, ?it/s]"
      ]
     },
     "metadata": {},
     "output_type": "display_data"
    },
    {
     "data": {
      "application/vnd.jupyter.widget-view+json": {
       "model_id": "32874cc5cd9147f19ed3aa56142f34d0",
       "version_major": 2,
       "version_minor": 0
      },
      "text/plain": [
       "  0%|          | 0/10 [00:00<?, ?it/s]"
      ]
     },
     "metadata": {},
     "output_type": "display_data"
    },
    {
     "data": {
      "application/vnd.jupyter.widget-view+json": {
       "model_id": "e3546f42e55441708dda53012c505dc3",
       "version_major": 2,
       "version_minor": 0
      },
      "text/plain": [
       "  0%|          | 0/10 [00:00<?, ?it/s]"
      ]
     },
     "metadata": {},
     "output_type": "display_data"
    },
    {
     "data": {
      "application/vnd.jupyter.widget-view+json": {
       "model_id": "5ba65dcc33a84e3f9f36520c324f5c38",
       "version_major": 2,
       "version_minor": 0
      },
      "text/plain": [
       "  0%|          | 0/10 [00:00<?, ?it/s]"
      ]
     },
     "metadata": {},
     "output_type": "display_data"
    },
    {
     "data": {
      "application/vnd.jupyter.widget-view+json": {
       "model_id": "625285f8e4f14592bee458219b747f1e",
       "version_major": 2,
       "version_minor": 0
      },
      "text/plain": [
       "  0%|          | 0/10 [00:00<?, ?it/s]"
      ]
     },
     "metadata": {},
     "output_type": "display_data"
    },
    {
     "data": {
      "application/vnd.jupyter.widget-view+json": {
       "model_id": "eea0b8adc9db4fc0b70b1a5e214bbab8",
       "version_major": 2,
       "version_minor": 0
      },
      "text/plain": [
       "  0%|          | 0/10 [00:00<?, ?it/s]"
      ]
     },
     "metadata": {},
     "output_type": "display_data"
    },
    {
     "data": {
      "application/vnd.jupyter.widget-view+json": {
       "model_id": "9e88ddfe621746ddabd096577c377a3e",
       "version_major": 2,
       "version_minor": 0
      },
      "text/plain": [
       "  0%|          | 0/10 [00:00<?, ?it/s]"
      ]
     },
     "metadata": {},
     "output_type": "display_data"
    },
    {
     "data": {
      "application/vnd.jupyter.widget-view+json": {
       "model_id": "252cb08839e342f1aeeeab53af4a0a18",
       "version_major": 2,
       "version_minor": 0
      },
      "text/plain": [
       "  0%|          | 0/10 [00:00<?, ?it/s]"
      ]
     },
     "metadata": {},
     "output_type": "display_data"
    },
    {
     "data": {
      "application/vnd.jupyter.widget-view+json": {
       "model_id": "33d2d31e55e64a5d9e0ad6f8908d9a3c",
       "version_major": 2,
       "version_minor": 0
      },
      "text/plain": [
       "  0%|          | 0/10 [00:00<?, ?it/s]"
      ]
     },
     "metadata": {},
     "output_type": "display_data"
    },
    {
     "data": {
      "application/vnd.jupyter.widget-view+json": {
       "model_id": "0c4b9d2707ff40e395de715ba309bc90",
       "version_major": 2,
       "version_minor": 0
      },
      "text/plain": [
       "  0%|          | 0/10 [00:00<?, ?it/s]"
      ]
     },
     "metadata": {},
     "output_type": "display_data"
    },
    {
     "name": "stdout",
     "output_type": "stream",
     "text": [
      "Starting NCV experiment for classifier rf\n"
     ]
    },
    {
     "data": {
      "application/vnd.jupyter.widget-view+json": {
       "model_id": "778e836f9a204839ad0d80582ace38d5",
       "version_major": 2,
       "version_minor": 0
      },
      "text/plain": [
       "  0%|          | 0/10 [00:00<?, ?it/s]"
      ]
     },
     "metadata": {},
     "output_type": "display_data"
    },
    {
     "data": {
      "application/vnd.jupyter.widget-view+json": {
       "model_id": "676def24895a498385216946998819a2",
       "version_major": 2,
       "version_minor": 0
      },
      "text/plain": [
       "  0%|          | 0/10 [00:00<?, ?it/s]"
      ]
     },
     "metadata": {},
     "output_type": "display_data"
    },
    {
     "data": {
      "application/vnd.jupyter.widget-view+json": {
       "model_id": "b6e6d7a58a724ae3892b3f0729468ebd",
       "version_major": 2,
       "version_minor": 0
      },
      "text/plain": [
       "  0%|          | 0/10 [00:00<?, ?it/s]"
      ]
     },
     "metadata": {},
     "output_type": "display_data"
    },
    {
     "data": {
      "application/vnd.jupyter.widget-view+json": {
       "model_id": "b0bd412131614ea0a006ab9c175a1741",
       "version_major": 2,
       "version_minor": 0
      },
      "text/plain": [
       "  0%|          | 0/10 [00:00<?, ?it/s]"
      ]
     },
     "metadata": {},
     "output_type": "display_data"
    },
    {
     "data": {
      "application/vnd.jupyter.widget-view+json": {
       "model_id": "1e7d4a0d6b794e22bab3088084058c61",
       "version_major": 2,
       "version_minor": 0
      },
      "text/plain": [
       "  0%|          | 0/10 [00:00<?, ?it/s]"
      ]
     },
     "metadata": {},
     "output_type": "display_data"
    },
    {
     "data": {
      "application/vnd.jupyter.widget-view+json": {
       "model_id": "f28951732c5244c9a4fb38bf8bda6bfb",
       "version_major": 2,
       "version_minor": 0
      },
      "text/plain": [
       "  0%|          | 0/10 [00:00<?, ?it/s]"
      ]
     },
     "metadata": {},
     "output_type": "display_data"
    },
    {
     "data": {
      "application/vnd.jupyter.widget-view+json": {
       "model_id": "911caf93ac9540f5abea963f0a863a46",
       "version_major": 2,
       "version_minor": 0
      },
      "text/plain": [
       "  0%|          | 0/10 [00:00<?, ?it/s]"
      ]
     },
     "metadata": {},
     "output_type": "display_data"
    },
    {
     "data": {
      "application/vnd.jupyter.widget-view+json": {
       "model_id": "f63895c00cb7489d86e45119f11c40cd",
       "version_major": 2,
       "version_minor": 0
      },
      "text/plain": [
       "  0%|          | 0/10 [00:00<?, ?it/s]"
      ]
     },
     "metadata": {},
     "output_type": "display_data"
    },
    {
     "data": {
      "application/vnd.jupyter.widget-view+json": {
       "model_id": "819156276df74b9880bc1a7e9543d15b",
       "version_major": 2,
       "version_minor": 0
      },
      "text/plain": [
       "  0%|          | 0/10 [00:00<?, ?it/s]"
      ]
     },
     "metadata": {},
     "output_type": "display_data"
    },
    {
     "data": {
      "application/vnd.jupyter.widget-view+json": {
       "model_id": "79548e79ff1146c6b5e7cf18e8165400",
       "version_major": 2,
       "version_minor": 0
      },
      "text/plain": [
       "  0%|          | 0/10 [00:00<?, ?it/s]"
      ]
     },
     "metadata": {},
     "output_type": "display_data"
    },
    {
     "name": "stdout",
     "output_type": "stream",
     "text": [
      "Starting NCV experiment for classifier xgb\n"
     ]
    },
    {
     "data": {
      "application/vnd.jupyter.widget-view+json": {
       "model_id": "05fa830f5691493ba12d04b1c2a454b2",
       "version_major": 2,
       "version_minor": 0
      },
      "text/plain": [
       "  0%|          | 0/10 [00:00<?, ?it/s]"
      ]
     },
     "metadata": {},
     "output_type": "display_data"
    },
    {
     "data": {
      "application/vnd.jupyter.widget-view+json": {
       "model_id": "f6588eaa8a774f608038da2e1460da22",
       "version_major": 2,
       "version_minor": 0
      },
      "text/plain": [
       "  0%|          | 0/10 [00:00<?, ?it/s]"
      ]
     },
     "metadata": {},
     "output_type": "display_data"
    },
    {
     "data": {
      "application/vnd.jupyter.widget-view+json": {
       "model_id": "d099094540574588b11287254a64d67c",
       "version_major": 2,
       "version_minor": 0
      },
      "text/plain": [
       "  0%|          | 0/10 [00:00<?, ?it/s]"
      ]
     },
     "metadata": {},
     "output_type": "display_data"
    },
    {
     "data": {
      "application/vnd.jupyter.widget-view+json": {
       "model_id": "701ebecb420c4fdd89a69dcfe30ee31f",
       "version_major": 2,
       "version_minor": 0
      },
      "text/plain": [
       "  0%|          | 0/10 [00:00<?, ?it/s]"
      ]
     },
     "metadata": {},
     "output_type": "display_data"
    },
    {
     "data": {
      "application/vnd.jupyter.widget-view+json": {
       "model_id": "f36cc9f68f1f43c3ad72c70799311456",
       "version_major": 2,
       "version_minor": 0
      },
      "text/plain": [
       "  0%|          | 0/10 [00:00<?, ?it/s]"
      ]
     },
     "metadata": {},
     "output_type": "display_data"
    },
    {
     "data": {
      "application/vnd.jupyter.widget-view+json": {
       "model_id": "58e5f6c906594f4db7d9211dae766acb",
       "version_major": 2,
       "version_minor": 0
      },
      "text/plain": [
       "  0%|          | 0/10 [00:00<?, ?it/s]"
      ]
     },
     "metadata": {},
     "output_type": "display_data"
    },
    {
     "data": {
      "application/vnd.jupyter.widget-view+json": {
       "model_id": "d2470a32e7ba4574bcbfd227a4450165",
       "version_major": 2,
       "version_minor": 0
      },
      "text/plain": [
       "  0%|          | 0/10 [00:00<?, ?it/s]"
      ]
     },
     "metadata": {},
     "output_type": "display_data"
    },
    {
     "data": {
      "application/vnd.jupyter.widget-view+json": {
       "model_id": "ab0009db201b47a9ba6522a7762851f4",
       "version_major": 2,
       "version_minor": 0
      },
      "text/plain": [
       "  0%|          | 0/10 [00:00<?, ?it/s]"
      ]
     },
     "metadata": {},
     "output_type": "display_data"
    },
    {
     "data": {
      "application/vnd.jupyter.widget-view+json": {
       "model_id": "ff88f3b7df564d28bbe1e95d1de03138",
       "version_major": 2,
       "version_minor": 0
      },
      "text/plain": [
       "  0%|          | 0/10 [00:00<?, ?it/s]"
      ]
     },
     "metadata": {},
     "output_type": "display_data"
    },
    {
     "data": {
      "application/vnd.jupyter.widget-view+json": {
       "model_id": "8bbc69fb204d4efda186b07a0997eab9",
       "version_major": 2,
       "version_minor": 0
      },
      "text/plain": [
       "  0%|          | 0/10 [00:00<?, ?it/s]"
      ]
     },
     "metadata": {},
     "output_type": "display_data"
    }
   ],
   "source": [
    "results, params_dict = run_all_classifiers(X,y)"
   ]
  },
  {
   "cell_type": "code",
   "execution_count": 25,
   "metadata": {
    "collapsed": false,
    "pycharm": {
     "name": "#%%\n"
    }
   },
   "outputs": [
    {
     "name": "stdout",
     "output_type": "stream",
     "text": [
      "Params for classifier svm\n",
      "Params of trial 0: {'c_svm': 0.13811065693940555, 'gamma_svm': 0.012442378456651797}\n",
      "Params of trial 1: {'c_svm': 0.1627869490597891, 'gamma_svm': 0.006296786430205923}\n",
      "Params of trial 2: {'c_svm': 0.49690201008456486, 'gamma_svm': 0.008121405780586762}\n",
      "Params of trial 3: {'c_svm': 0.16405470189312965, 'gamma_svm': 0.01120283810219958}\n",
      "Params of trial 4: {'c_svm': 0.29324636706047685, 'gamma_svm': 0.04216494031537662}\n",
      "Params of trial 5: {'c_svm': 0.7966058023255878, 'gamma_svm': 0.012541462164870855}\n",
      "Params of trial 6: {'c_svm': 0.08376438887772554, 'gamma_svm': 0.02880701642778729}\n",
      "Params of trial 7: {'c_svm': 0.07287237220976257, 'gamma_svm': 0.14009950991701864}\n",
      "Params of trial 8: {'c_svm': 0.19950292598312605, 'gamma_svm': 0.01612162087254015}\n",
      "Params of trial 9: {'c_svm': 0.9691020843229311, 'gamma_svm': 0.02276279438064294}\n",
      "Params for classifier lr\n",
      "Params of trial 0: {'lr_solver': 'lbfgs', 'lr_c': 0.32374009529257236}\n",
      "Params of trial 1: {'lr_solver': 'newton-cg', 'lr_c': 0.13233617612712423}\n",
      "Params of trial 2: {'lr_solver': 'lbfgs', 'lr_c': 0.5670551588764134}\n",
      "Params of trial 3: {'lr_solver': 'newton-cg', 'lr_c': 0.06491392498189767}\n",
      "Params of trial 4: {'lr_solver': 'newton-cg', 'lr_c': 0.7176093253682038}\n",
      "Params of trial 5: {'lr_solver': 'lbfgs', 'lr_c': 0.4036858162474635}\n",
      "Params of trial 6: {'lr_solver': 'lbfgs', 'lr_c': 0.275436101446327}\n",
      "Params of trial 7: {'lr_solver': 'saga', 'lr_c': 0.32915144273040303}\n",
      "Params of trial 8: {'lr_solver': 'lbfgs', 'lr_c': 0.8041586301832724}\n",
      "Params of trial 9: {'lr_solver': 'newton-cg', 'lr_c': 0.19831433661311626}\n",
      "Params for classifier gnb\n",
      "Params of trial 0: {'gnb_var_smoothing': 1.3066082294012904e-07}\n",
      "Params of trial 1: {'gnb_var_smoothing': 5.460002253453711e-09}\n",
      "Params of trial 2: {'gnb_var_smoothing': 6.950513690359039e-08}\n",
      "Params of trial 3: {'gnb_var_smoothing': 1.1831102979791872e-09}\n",
      "Params of trial 4: {'gnb_var_smoothing': 5.2680972048037705e-08}\n",
      "Params of trial 5: {'gnb_var_smoothing': 9.071901057249782e-09}\n",
      "Params of trial 6: {'gnb_var_smoothing': 6.530606956228649e-08}\n",
      "Params of trial 7: {'gnb_var_smoothing': 9.863011539143969e-09}\n",
      "Params of trial 8: {'gnb_var_smoothing': 1.8583088059967538e-09}\n",
      "Params of trial 9: {'gnb_var_smoothing': 1.1267120606813084e-09}\n",
      "Params for classifier rf\n",
      "Params of trial 0: {'rf_n_estimators': 65, 'rf_max_depth': 3, 'rf_max_features': 'sqrt'}\n",
      "Params of trial 1: {'rf_n_estimators': 84, 'rf_max_depth': 3, 'rf_max_features': None}\n",
      "Params of trial 2: {'rf_n_estimators': 153, 'rf_max_depth': 3, 'rf_max_features': None}\n",
      "Params of trial 3: {'rf_n_estimators': 171, 'rf_max_depth': 2, 'rf_max_features': None}\n",
      "Params of trial 4: {'rf_n_estimators': 55, 'rf_max_depth': 3, 'rf_max_features': None}\n",
      "Params of trial 5: {'rf_n_estimators': 32, 'rf_max_depth': 3, 'rf_max_features': None}\n",
      "Params of trial 6: {'rf_n_estimators': 174, 'rf_max_depth': 2, 'rf_max_features': None}\n",
      "Params of trial 7: {'rf_n_estimators': 126, 'rf_max_depth': 3, 'rf_max_features': None}\n",
      "Params of trial 8: {'rf_n_estimators': 57, 'rf_max_depth': 3, 'rf_max_features': None}\n",
      "Params of trial 9: {'rf_n_estimators': 104, 'rf_max_depth': 2, 'rf_max_features': None}\n",
      "Params for classifier xgb\n",
      "Params of trial 0: {'xgb_eta': 0.2823377822133856, 'xgb_gamma': 1, 'xgb_min_child_weight': 4.850684236015455, 'xgb_subsample': 0.597597054997015, 'xgb_max_leaves': 15}\n",
      "Params of trial 1: {'xgb_eta': 0.2897127551287761, 'xgb_gamma': 7, 'xgb_min_child_weight': 1.3109245488225374, 'xgb_subsample': 0.6417299363397323, 'xgb_max_leaves': 40}\n",
      "Params of trial 2: {'xgb_eta': 0.06098308720632173, 'xgb_gamma': 7, 'xgb_min_child_weight': 1.4535072976713286, 'xgb_subsample': 0.2918741626068275, 'xgb_max_leaves': 96}\n",
      "Params of trial 3: {'xgb_eta': 0.2925463709555861, 'xgb_gamma': 4, 'xgb_min_child_weight': 2.9576355212601992, 'xgb_subsample': 0.5664858657089352, 'xgb_max_leaves': 19}\n",
      "Params of trial 4: {'xgb_eta': 0.31287448270763435, 'xgb_gamma': 2, 'xgb_min_child_weight': 4.718065989524611, 'xgb_subsample': 0.7612277386849721, 'xgb_max_leaves': 3}\n",
      "Params of trial 5: {'xgb_eta': 0.0011413266332148675, 'xgb_gamma': 12, 'xgb_min_child_weight': 1.8293090728477113, 'xgb_subsample': 0.5970065351824382, 'xgb_max_leaves': 4}\n",
      "Params of trial 6: {'xgb_eta': 0.31292060102437114, 'xgb_gamma': 8, 'xgb_min_child_weight': 1.525109193445366, 'xgb_subsample': 0.48701512388982826, 'xgb_max_leaves': 79}\n",
      "Params of trial 7: {'xgb_eta': 0.482432463482282, 'xgb_gamma': 9, 'xgb_min_child_weight': 4.603118378960346, 'xgb_subsample': 0.6958695743337246, 'xgb_max_leaves': 49}\n",
      "Params of trial 8: {'xgb_eta': 0.3414422747967359, 'xgb_gamma': 13, 'xgb_min_child_weight': 0.9238690897285584, 'xgb_subsample': 0.7054091017251263, 'xgb_max_leaves': 98}\n",
      "Params of trial 9: {'xgb_eta': 0.03541993926082582, 'xgb_gamma': 4, 'xgb_min_child_weight': 0.8823551331474105, 'xgb_subsample': 0.8179916001572048, 'xgb_max_leaves': 87}\n"
     ]
    }
   ],
   "source": [
    "for key, value in params_dict.items():\n",
    "    print(f'Params for classifier {key}')\n",
    "    for idx, param in enumerate(value):\n",
    "        print(f'Params of trial {idx}: {param}')"
   ]
  },
  {
   "cell_type": "markdown",
   "metadata": {
    "collapsed": false
   },
   "source": [
    "## Check MCC scores to compare algorithms"
   ]
  },
  {
   "cell_type": "code",
   "execution_count": 26,
   "metadata": {
    "collapsed": false,
    "pycharm": {
     "name": "#%%\n"
    }
   },
   "outputs": [
    {
     "data": {
      "image/png": "[encoded data removed]",
      "text/plain": [
       "<Figure size 576x504 with 1 Axes>"
      ]
     },
     "metadata": {
      "needs_background": "light"
     },
     "output_type": "display_data"
    },
    {
     "data": {
      "image/png": "[encoded data removed]",
      "text/plain": [
       "<Figure size 576x504 with 1 Axes>"
      ]
     },
     "metadata": {
      "needs_background": "light"
     },
     "output_type": "display_data"
    },
    {
     "data": {
      "text/plain": [
       "{'svm': 0.8665167137603663,\n",
       " 'lr': 0.7871185864999827,\n",
       " 'gnb': 0.8535424600832567,\n",
       " 'rf': 0.8695555782499466,\n",
       " 'xgb': 0.8634067428462041}"
      ]
     },
     "execution_count": 26,
     "metadata": {},
     "output_type": "execute_result"
    }
   ],
   "source": [
    "mccs_dict = compare_mean_mccs(results)\n",
    "mccs_dict"
   ]
  },
  {
   "cell_type": "markdown",
   "metadata": {
    "collapsed": false
   },
   "source": [
    "## Check boxplots of all other collected metrics for all classifiers"
   ]
  },
  {
   "cell_type": "code",
   "execution_count": 242,
   "metadata": {
    "collapsed": false,
    "pycharm": {
     "name": "#%%\n"
    }
   },
   "outputs": [
    {
     "data": {
      "image/png": "[encoded data removed]",
      "text/plain": [
       "<Figure size 432x648 with 8 Axes>"
      ]
     },
     "metadata": {
      "needs_background": "light"
     },
     "output_type": "display_data"
    }
   ],
   "source": [
    "plot_clfs_metrics(results)"
   ]
  },
  {
   "attachments": {},
   "cell_type": "markdown",
   "metadata": {},
   "source": [
    "# 5-fold cross validation"
   ]
  },
  {
   "cell_type": "code",
   "execution_count": 41,
   "metadata": {},
   "outputs": [],
   "source": [
    "import optuna\n",
    "from sklearn.ensemble import RandomForestClassifier\n",
    "from sklearn.metrics import make_scorer, matthews_corrcoef\n",
    "from sklearn.model_selection import cross_val_score, StratifiedKFold"
   ]
  },
  {
   "cell_type": "code",
   "execution_count": 46,
   "metadata": {},
   "outputs": [],
   "source": [
    "def objective(trial):\n",
    "    # Define the search space for hyperparameters\n",
    "    rf_n_estimators = trial.suggest_int('rf_n_estimators', 10, 200) \n",
    "    rf_max_depth = trial.suggest_int('rf_max_depth', 1, 3)\n",
    "    rf_max_features = trial.suggest_categorical('rf_max_features', ['sqrt', 'log2', None])\n",
    "\n",
    "    # Create the Random Forest Classifier with the suggested hyperparameters\n",
    "    clf = RandomForestClassifier(n_estimators=rf_n_estimators, max_depth=rf_max_depth, \n",
    "    max_features=rf_max_features, random_state=42, n_jobs=-1)\n",
    "\n",
    "    mcc_scorer = make_scorer(matthews_corrcoef)\n",
    "\n",
    "    # Perform 5-fold cross-validation\n",
    "    cv = StratifiedKFold(n_splits=5, shuffle=True, random_state=42)\n",
    "    scores = cross_val_score(clf, X, y, cv=cv, scoring=mcc_scorer)\n",
    "\n",
    "    # Return the mean accuracy score as the objective value to be maximized\n",
    "    return scores.mean()\n"
   ]
  },
  {
   "cell_type": "code",
   "execution_count": 47,
   "metadata": {},
   "outputs": [
    {
     "data": {
      "application/vnd.jupyter.widget-view+json": {
       "model_id": "0c27f1a8bb584becaf1805a4dcf038cd",
       "version_major": 2,
       "version_minor": 0
      },
      "text/plain": [
       "  0%|          | 0/10 [00:00<?, ?it/s]"
      ]
     },
     "metadata": {},
     "output_type": "display_data"
    },
    {
     "name": "stdout",
     "output_type": "stream",
     "text": [
      "Best Hyperparameters: {'rf_n_estimators': 189, 'rf_max_depth': 3, 'rf_max_features': None}\n",
      "Best Value: 0.9411717897056029\n"
     ]
    }
   ],
   "source": [
    "study = optuna.create_study(direction='maximize')\n",
    "study.optimize(objective, n_trials=10, show_progress_bar=True, n_jobs=-1)\n",
    "\n",
    "best_params = study.best_params\n",
    "best_value = study.best_value\n",
    "\n",
    "print(\"Best Hyperparameters:\", best_params)\n",
    "print(\"Best Value:\", best_value)"
   ]
  },
  {
   "attachments": {},
   "cell_type": "markdown",
   "metadata": {},
   "source": [
    "# Build final model"
   ]
  },
  {
   "cell_type": "code",
   "execution_count": 49,
   "metadata": {},
   "outputs": [
    {
     "data": {
      "text/plain": [
       "RandomForestClassifier(max_depth=3, max_features=None, n_estimators=189,\n",
       "                       n_jobs=-1, random_state=42)"
      ]
     },
     "execution_count": 49,
     "metadata": {},
     "output_type": "execute_result"
    }
   ],
   "source": [
    "final_model = RandomForestClassifier(n_estimators=best_params['rf_n_estimators'], max_depth=best_params['rf_max_depth'], \n",
    "    max_features=best_params['rf_max_features'], random_state=42, n_jobs=-1)\n",
    "\n",
    "final_model.fit(X, y)\n"
   ]
  },
  {
   "attachments": {},
   "cell_type": "markdown",
   "metadata": {},
   "source": [
    "# Test on held-out test set"
   ]
  },
  {
   "cell_type": "code",
   "execution_count": 51,
   "metadata": {},
   "outputs": [],
   "source": [
    "from sklearn.metrics import confusion_matrix, classification_report"
   ]
  },
  {
   "cell_type": "code",
   "execution_count": 55,
   "metadata": {},
   "outputs": [
    {
     "data": {
      "text/html": [
       "<div>\n",
       "<style scoped>\n",
       "    .dataframe tbody tr th:only-of-type {\n",
       "        vertical-align: middle;\n",
       "    }\n",
       "\n",
       "    .dataframe tbody tr th {\n",
       "        vertical-align: top;\n",
       "    }\n",
       "\n",
       "    .dataframe thead th {\n",
       "        text-align: right;\n",
       "    }\n",
       "</style>\n",
       "<table border=\"1\" class=\"dataframe\">\n",
       "  <thead>\n",
       "    <tr style=\"text-align: right;\">\n",
       "      <th></th>\n",
       "      <th>ORM1</th>\n",
       "      <th>ORM2</th>\n",
       "      <th>MMP3</th>\n",
       "      <th>FDCSP</th>\n",
       "      <th>S100A7</th>\n",
       "      <th>FABP7</th>\n",
       "      <th>KRT81</th>\n",
       "      <th>DCN</th>\n",
       "      <th>IL1B</th>\n",
       "      <th>AREG</th>\n",
       "      <th>...</th>\n",
       "      <th>RP11.597D13.9</th>\n",
       "      <th>MRGPRX4</th>\n",
       "      <th>C2CD4B</th>\n",
       "      <th>CTD.2012K14.8</th>\n",
       "      <th>CCR10</th>\n",
       "      <th>FAS</th>\n",
       "      <th>ADORA2B</th>\n",
       "      <th>PRMT9</th>\n",
       "      <th>PHGDH</th>\n",
       "      <th>HOXA4</th>\n",
       "    </tr>\n",
       "  </thead>\n",
       "  <tbody>\n",
       "    <tr>\n",
       "      <th>0</th>\n",
       "      <td>0.000000</td>\n",
       "      <td>0.000000</td>\n",
       "      <td>0.000000</td>\n",
       "      <td>0.0</td>\n",
       "      <td>0.000000</td>\n",
       "      <td>0.000000</td>\n",
       "      <td>0.000000</td>\n",
       "      <td>0.0</td>\n",
       "      <td>0.000000</td>\n",
       "      <td>0.000000</td>\n",
       "      <td>...</td>\n",
       "      <td>0.0</td>\n",
       "      <td>0.0</td>\n",
       "      <td>0.0</td>\n",
       "      <td>0.0</td>\n",
       "      <td>0.0</td>\n",
       "      <td>1.287289</td>\n",
       "      <td>0.0</td>\n",
       "      <td>0.0</td>\n",
       "      <td>0.000000</td>\n",
       "      <td>0.0</td>\n",
       "    </tr>\n",
       "    <tr>\n",
       "      <th>1</th>\n",
       "      <td>0.000000</td>\n",
       "      <td>0.000000</td>\n",
       "      <td>0.000000</td>\n",
       "      <td>0.0</td>\n",
       "      <td>1.040570</td>\n",
       "      <td>1.040570</td>\n",
       "      <td>0.000000</td>\n",
       "      <td>0.0</td>\n",
       "      <td>0.000000</td>\n",
       "      <td>0.000000</td>\n",
       "      <td>...</td>\n",
       "      <td>0.0</td>\n",
       "      <td>0.0</td>\n",
       "      <td>0.0</td>\n",
       "      <td>0.0</td>\n",
       "      <td>0.0</td>\n",
       "      <td>0.000000</td>\n",
       "      <td>0.0</td>\n",
       "      <td>0.0</td>\n",
       "      <td>0.000000</td>\n",
       "      <td>0.0</td>\n",
       "    </tr>\n",
       "    <tr>\n",
       "      <th>2</th>\n",
       "      <td>0.000000</td>\n",
       "      <td>0.000000</td>\n",
       "      <td>0.000000</td>\n",
       "      <td>0.0</td>\n",
       "      <td>0.000000</td>\n",
       "      <td>0.000000</td>\n",
       "      <td>1.167167</td>\n",
       "      <td>0.0</td>\n",
       "      <td>0.000000</td>\n",
       "      <td>0.744999</td>\n",
       "      <td>...</td>\n",
       "      <td>0.0</td>\n",
       "      <td>0.0</td>\n",
       "      <td>0.0</td>\n",
       "      <td>0.0</td>\n",
       "      <td>0.0</td>\n",
       "      <td>0.000000</td>\n",
       "      <td>0.0</td>\n",
       "      <td>0.0</td>\n",
       "      <td>0.744999</td>\n",
       "      <td>0.0</td>\n",
       "    </tr>\n",
       "    <tr>\n",
       "      <th>3</th>\n",
       "      <td>0.000000</td>\n",
       "      <td>0.000000</td>\n",
       "      <td>0.992541</td>\n",
       "      <td>0.0</td>\n",
       "      <td>0.000000</td>\n",
       "      <td>0.000000</td>\n",
       "      <td>0.000000</td>\n",
       "      <td>0.0</td>\n",
       "      <td>0.000000</td>\n",
       "      <td>0.000000</td>\n",
       "      <td>...</td>\n",
       "      <td>0.0</td>\n",
       "      <td>0.0</td>\n",
       "      <td>0.0</td>\n",
       "      <td>0.0</td>\n",
       "      <td>0.0</td>\n",
       "      <td>0.000000</td>\n",
       "      <td>0.0</td>\n",
       "      <td>0.0</td>\n",
       "      <td>0.000000</td>\n",
       "      <td>0.0</td>\n",
       "    </tr>\n",
       "    <tr>\n",
       "      <th>4</th>\n",
       "      <td>0.000000</td>\n",
       "      <td>0.000000</td>\n",
       "      <td>0.000000</td>\n",
       "      <td>0.0</td>\n",
       "      <td>0.000000</td>\n",
       "      <td>0.000000</td>\n",
       "      <td>0.000000</td>\n",
       "      <td>0.0</td>\n",
       "      <td>0.000000</td>\n",
       "      <td>0.000000</td>\n",
       "      <td>...</td>\n",
       "      <td>0.0</td>\n",
       "      <td>0.0</td>\n",
       "      <td>0.0</td>\n",
       "      <td>0.0</td>\n",
       "      <td>0.0</td>\n",
       "      <td>0.000000</td>\n",
       "      <td>0.0</td>\n",
       "      <td>0.0</td>\n",
       "      <td>0.000000</td>\n",
       "      <td>0.0</td>\n",
       "    </tr>\n",
       "    <tr>\n",
       "      <th>...</th>\n",
       "      <td>...</td>\n",
       "      <td>...</td>\n",
       "      <td>...</td>\n",
       "      <td>...</td>\n",
       "      <td>...</td>\n",
       "      <td>...</td>\n",
       "      <td>...</td>\n",
       "      <td>...</td>\n",
       "      <td>...</td>\n",
       "      <td>...</td>\n",
       "      <td>...</td>\n",
       "      <td>...</td>\n",
       "      <td>...</td>\n",
       "      <td>...</td>\n",
       "      <td>...</td>\n",
       "      <td>...</td>\n",
       "      <td>...</td>\n",
       "      <td>...</td>\n",
       "      <td>...</td>\n",
       "      <td>...</td>\n",
       "      <td>...</td>\n",
       "    </tr>\n",
       "    <tr>\n",
       "      <th>1175</th>\n",
       "      <td>0.000000</td>\n",
       "      <td>0.000000</td>\n",
       "      <td>0.585273</td>\n",
       "      <td>0.0</td>\n",
       "      <td>0.000000</td>\n",
       "      <td>0.585273</td>\n",
       "      <td>0.000000</td>\n",
       "      <td>0.0</td>\n",
       "      <td>0.000000</td>\n",
       "      <td>0.585273</td>\n",
       "      <td>...</td>\n",
       "      <td>0.0</td>\n",
       "      <td>0.0</td>\n",
       "      <td>0.0</td>\n",
       "      <td>0.0</td>\n",
       "      <td>0.0</td>\n",
       "      <td>0.000000</td>\n",
       "      <td>0.0</td>\n",
       "      <td>0.0</td>\n",
       "      <td>0.585273</td>\n",
       "      <td>0.0</td>\n",
       "    </tr>\n",
       "    <tr>\n",
       "      <th>1176</th>\n",
       "      <td>0.000000</td>\n",
       "      <td>0.000000</td>\n",
       "      <td>1.198240</td>\n",
       "      <td>0.0</td>\n",
       "      <td>0.000000</td>\n",
       "      <td>0.000000</td>\n",
       "      <td>0.000000</td>\n",
       "      <td>0.0</td>\n",
       "      <td>0.000000</td>\n",
       "      <td>0.000000</td>\n",
       "      <td>...</td>\n",
       "      <td>0.0</td>\n",
       "      <td>0.0</td>\n",
       "      <td>0.0</td>\n",
       "      <td>0.0</td>\n",
       "      <td>0.0</td>\n",
       "      <td>1.198240</td>\n",
       "      <td>0.0</td>\n",
       "      <td>0.0</td>\n",
       "      <td>1.198240</td>\n",
       "      <td>0.0</td>\n",
       "    </tr>\n",
       "    <tr>\n",
       "      <th>1177</th>\n",
       "      <td>3.884666</td>\n",
       "      <td>0.745814</td>\n",
       "      <td>0.000000</td>\n",
       "      <td>0.0</td>\n",
       "      <td>0.000000</td>\n",
       "      <td>0.000000</td>\n",
       "      <td>0.000000</td>\n",
       "      <td>0.0</td>\n",
       "      <td>0.000000</td>\n",
       "      <td>0.000000</td>\n",
       "      <td>...</td>\n",
       "      <td>0.0</td>\n",
       "      <td>0.0</td>\n",
       "      <td>0.0</td>\n",
       "      <td>0.0</td>\n",
       "      <td>0.0</td>\n",
       "      <td>0.000000</td>\n",
       "      <td>0.0</td>\n",
       "      <td>0.0</td>\n",
       "      <td>0.000000</td>\n",
       "      <td>0.0</td>\n",
       "    </tr>\n",
       "    <tr>\n",
       "      <th>1178</th>\n",
       "      <td>0.000000</td>\n",
       "      <td>0.000000</td>\n",
       "      <td>0.000000</td>\n",
       "      <td>0.0</td>\n",
       "      <td>2.663829</td>\n",
       "      <td>0.000000</td>\n",
       "      <td>0.000000</td>\n",
       "      <td>0.0</td>\n",
       "      <td>0.636617</td>\n",
       "      <td>0.000000</td>\n",
       "      <td>...</td>\n",
       "      <td>0.0</td>\n",
       "      <td>0.0</td>\n",
       "      <td>0.0</td>\n",
       "      <td>0.0</td>\n",
       "      <td>0.0</td>\n",
       "      <td>0.000000</td>\n",
       "      <td>0.0</td>\n",
       "      <td>0.0</td>\n",
       "      <td>0.000000</td>\n",
       "      <td>0.0</td>\n",
       "    </tr>\n",
       "    <tr>\n",
       "      <th>1179</th>\n",
       "      <td>3.948868</td>\n",
       "      <td>2.224651</td>\n",
       "      <td>0.000000</td>\n",
       "      <td>0.0</td>\n",
       "      <td>1.119253</td>\n",
       "      <td>0.000000</td>\n",
       "      <td>1.119253</td>\n",
       "      <td>0.0</td>\n",
       "      <td>0.000000</td>\n",
       "      <td>0.000000</td>\n",
       "      <td>...</td>\n",
       "      <td>0.0</td>\n",
       "      <td>0.0</td>\n",
       "      <td>0.0</td>\n",
       "      <td>0.0</td>\n",
       "      <td>0.0</td>\n",
       "      <td>0.000000</td>\n",
       "      <td>0.0</td>\n",
       "      <td>0.0</td>\n",
       "      <td>0.523261</td>\n",
       "      <td>0.0</td>\n",
       "    </tr>\n",
       "  </tbody>\n",
       "</table>\n",
       "<p>1180 rows × 2000 columns</p>\n",
       "</div>"
      ],
      "text/plain": [
       "          ORM1      ORM2      MMP3  FDCSP    S100A7     FABP7     KRT81  DCN  \\\n",
       "0     0.000000  0.000000  0.000000    0.0  0.000000  0.000000  0.000000  0.0   \n",
       "1     0.000000  0.000000  0.000000    0.0  1.040570  1.040570  0.000000  0.0   \n",
       "2     0.000000  0.000000  0.000000    0.0  0.000000  0.000000  1.167167  0.0   \n",
       "3     0.000000  0.000000  0.992541    0.0  0.000000  0.000000  0.000000  0.0   \n",
       "4     0.000000  0.000000  0.000000    0.0  0.000000  0.000000  0.000000  0.0   \n",
       "...        ...       ...       ...    ...       ...       ...       ...  ...   \n",
       "1175  0.000000  0.000000  0.585273    0.0  0.000000  0.585273  0.000000  0.0   \n",
       "1176  0.000000  0.000000  1.198240    0.0  0.000000  0.000000  0.000000  0.0   \n",
       "1177  3.884666  0.745814  0.000000    0.0  0.000000  0.000000  0.000000  0.0   \n",
       "1178  0.000000  0.000000  0.000000    0.0  2.663829  0.000000  0.000000  0.0   \n",
       "1179  3.948868  2.224651  0.000000    0.0  1.119253  0.000000  1.119253  0.0   \n",
       "\n",
       "          IL1B      AREG  ...  RP11.597D13.9  MRGPRX4  C2CD4B  CTD.2012K14.8  \\\n",
       "0     0.000000  0.000000  ...            0.0      0.0     0.0            0.0   \n",
       "1     0.000000  0.000000  ...            0.0      0.0     0.0            0.0   \n",
       "2     0.000000  0.744999  ...            0.0      0.0     0.0            0.0   \n",
       "3     0.000000  0.000000  ...            0.0      0.0     0.0            0.0   \n",
       "4     0.000000  0.000000  ...            0.0      0.0     0.0            0.0   \n",
       "...        ...       ...  ...            ...      ...     ...            ...   \n",
       "1175  0.000000  0.585273  ...            0.0      0.0     0.0            0.0   \n",
       "1176  0.000000  0.000000  ...            0.0      0.0     0.0            0.0   \n",
       "1177  0.000000  0.000000  ...            0.0      0.0     0.0            0.0   \n",
       "1178  0.636617  0.000000  ...            0.0      0.0     0.0            0.0   \n",
       "1179  0.000000  0.000000  ...            0.0      0.0     0.0            0.0   \n",
       "\n",
       "      CCR10       FAS  ADORA2B  PRMT9     PHGDH  HOXA4  \n",
       "0       0.0  1.287289      0.0    0.0  0.000000    0.0  \n",
       "1       0.0  0.000000      0.0    0.0  0.000000    0.0  \n",
       "2       0.0  0.000000      0.0    0.0  0.744999    0.0  \n",
       "3       0.0  0.000000      0.0    0.0  0.000000    0.0  \n",
       "4       0.0  0.000000      0.0    0.0  0.000000    0.0  \n",
       "...     ...       ...      ...    ...       ...    ...  \n",
       "1175    0.0  0.000000      0.0    0.0  0.585273    0.0  \n",
       "1176    0.0  1.198240      0.0    0.0  1.198240    0.0  \n",
       "1177    0.0  0.000000      0.0    0.0  0.000000    0.0  \n",
       "1178    0.0  0.000000      0.0    0.0  0.000000    0.0  \n",
       "1179    0.0  0.000000      0.0    0.0  0.523261    0.0  \n",
       "\n",
       "[1180 rows x 2000 columns]"
      ]
     },
     "execution_count": 55,
     "metadata": {},
     "output_type": "execute_result"
    }
   ],
   "source": [
    "X_test"
   ]
  },
  {
   "cell_type": "code",
   "execution_count": 52,
   "metadata": {},
   "outputs": [
    {
     "data": {
      "image/png": "[encoded data removed]",
      "text/plain": [
       "<Figure size 576x432 with 1 Axes>"
      ]
     },
     "metadata": {
      "needs_background": "light"
     },
     "output_type": "display_data"
    },
    {
     "name": "stdout",
     "output_type": "stream",
     "text": [
      "Classification Report:\n",
      "              precision    recall  f1-score   support\n",
      "\n",
      "           0       0.97      0.96      0.96       429\n",
      "           1       0.96      0.98      0.97       579\n",
      "           2       0.94      0.90      0.92       172\n",
      "\n",
      "    accuracy                           0.96      1180\n",
      "   macro avg       0.96      0.95      0.95      1180\n",
      "weighted avg       0.96      0.96      0.96      1180\n",
      "\n"
     ]
    }
   ],
   "source": [
    "predictions = final_model.predict(X_test)\n",
    "\n",
    "cm = confusion_matrix(y_test, predictions)\n",
    "\n",
    "# Plot the confusion matrix\n",
    "plt.figure(figsize=(8, 6))\n",
    "sns.heatmap(cm, annot=True, fmt='d', cmap='Blues', cbar=False)\n",
    "plt.xlabel('Predicted')\n",
    "plt.ylabel('True')\n",
    "plt.title('Confusion Matrix')\n",
    "plt.show()\n",
    "\n",
    "# Generate the classification report\n",
    "report = classification_report(y_test, predictions)\n",
    "\n",
    "print(\"Classification Report:\")\n",
    "print(report)"
   ]
  }
 ],
 "metadata": {
  "kernelspec": {
   "display_name": "Python 3",
   "language": "python",
   "name": "python3"
  },
  "language_info": {
   "codemirror_mode": {
    "name": "ipython",
    "version": 3
   },
   "file_extension": ".py",
   "mimetype": "text/x-python",
   "name": "python",
   "nbconvert_exporter": "python",
   "pygments_lexer": "ipython3",
   "version": "3.9.12"
  }
 },
 "nbformat": 4,
 "nbformat_minor": 0
}
