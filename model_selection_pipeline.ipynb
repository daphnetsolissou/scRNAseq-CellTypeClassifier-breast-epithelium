{
 "cells": [
  {
   "cell_type": "code",
   "execution_count": 1,
   "metadata": {},
   "outputs": [
    {
     "name": "stdout",
     "output_type": "stream",
     "text": [
      "Collecting xgboost\n",
      "  Using cached xgboost-1.7.6-py3-none-win_amd64.whl (70.9 MB)\n",
      "Requirement already satisfied: numpy in c:\\users\\greg\\anaconda3\\lib\\site-packages (from xgboost) (1.21.6)\n",
      "Requirement already satisfied: scipy in c:\\users\\greg\\anaconda3\\lib\\site-packages (from xgboost) (1.10.1)\n",
      "Installing collected packages: xgboost\n",
      "Successfully installed xgboost-1.7.6\n"
     ]
    },
    {
     "name": "stderr",
     "output_type": "stream",
     "text": [
      "WARNING: You are using pip version 22.0.4; however, version 23.1.2 is available.\n",
      "You should consider upgrading via the 'c:\\Users\\greg\\anaconda3\\python.exe -m pip install --upgrade pip' command.\n"
     ]
    }
   ],
   "source": [
    "##if using Anaconda (on Anaconda terminal)\n",
    "#conda install -c conda-forge xgboost \n",
    "#pip install xgboost\n",
    "\n",
    "import sys\n",
    "!{sys.executable} -m pip install xgboost"
   ]
  },
  {
   "cell_type": "code",
   "execution_count": 263,
   "metadata": {
    "collapsed": true
   },
   "outputs": [
    {
     "name": "stdout",
     "output_type": "stream",
     "text": [
      "The autoreload extension is already loaded. To reload it, use:\n",
      "  %reload_ext autoreload\n"
     ]
    }
   ],
   "source": [
    "from sklearn.exceptions import ConvergenceWarning\n",
    "%load_ext autoreload\n",
    "%autoreload 2\n",
    "\n",
    "import pandas as pd\n",
    "import os\n",
    "import matplotlib.pyplot as plt\n",
    "import seaborn as sns\n",
    "\n",
    "from preprocessing import split_X_y\n",
    "from model_optimization import optimize_one_model\n",
    "\n",
    "from sklearn.model_selection import train_test_split\n",
    "from sklearn.preprocessing import StandardScaler\n",
    "\n",
    "import warnings\n",
    "warnings.filterwarnings('ignore', category=ConvergenceWarning)"
   ]
  },
  {
   "cell_type": "code",
   "execution_count": 2,
   "metadata": {
    "collapsed": false,
    "pycharm": {
     "name": "#%%\n"
    }
   },
   "outputs": [],
   "source": [
    "DATA_DIR = os.path.join(os.getcwd(), 'data')"
   ]
  },
  {
   "cell_type": "markdown",
   "metadata": {
    "collapsed": false
   },
   "source": [
    "## Import Labeled Data"
   ]
  },
  {
   "cell_type": "code",
   "execution_count": 3,
   "metadata": {
    "collapsed": false,
    "pycharm": {
     "name": "#%%\n"
    }
   },
   "outputs": [
    {
     "data": {
      "text/html": [
       "<div>\n",
       "<style scoped>\n",
       "    .dataframe tbody tr th:only-of-type {\n",
       "        vertical-align: middle;\n",
       "    }\n",
       "\n",
       "    .dataframe tbody tr th {\n",
       "        vertical-align: top;\n",
       "    }\n",
       "\n",
       "    .dataframe thead th {\n",
       "        text-align: right;\n",
       "    }\n",
       "</style>\n",
       "<table border=\"1\" class=\"dataframe\">\n",
       "  <thead>\n",
       "    <tr style=\"text-align: right;\">\n",
       "      <th></th>\n",
       "      <th>ORM1</th>\n",
       "      <th>ORM2</th>\n",
       "      <th>MMP3</th>\n",
       "      <th>FDCSP</th>\n",
       "      <th>S100A7</th>\n",
       "      <th>FABP7</th>\n",
       "      <th>KRT81</th>\n",
       "      <th>DCN</th>\n",
       "      <th>IL1B</th>\n",
       "      <th>AREG</th>\n",
       "      <th>...</th>\n",
       "      <th>MRGPRX4</th>\n",
       "      <th>C2CD4B</th>\n",
       "      <th>CTD.2012K14.8</th>\n",
       "      <th>CCR10</th>\n",
       "      <th>FAS</th>\n",
       "      <th>ADORA2B</th>\n",
       "      <th>PRMT9</th>\n",
       "      <th>PHGDH</th>\n",
       "      <th>HOXA4</th>\n",
       "      <th>cluster_label</th>\n",
       "    </tr>\n",
       "  </thead>\n",
       "  <tbody>\n",
       "    <tr>\n",
       "      <th>0</th>\n",
       "      <td>0.00000</td>\n",
       "      <td>0.000000</td>\n",
       "      <td>0.000000</td>\n",
       "      <td>0.0</td>\n",
       "      <td>0.000000</td>\n",
       "      <td>0.000000</td>\n",
       "      <td>0.000000</td>\n",
       "      <td>0.0</td>\n",
       "      <td>0.000000</td>\n",
       "      <td>0.000000</td>\n",
       "      <td>...</td>\n",
       "      <td>0.0</td>\n",
       "      <td>0.0</td>\n",
       "      <td>0.0</td>\n",
       "      <td>0.0</td>\n",
       "      <td>0.000000</td>\n",
       "      <td>0.000000</td>\n",
       "      <td>0.0</td>\n",
       "      <td>0.000000</td>\n",
       "      <td>0.0</td>\n",
       "      <td>B</td>\n",
       "    </tr>\n",
       "    <tr>\n",
       "      <th>1</th>\n",
       "      <td>0.00000</td>\n",
       "      <td>0.000000</td>\n",
       "      <td>0.000000</td>\n",
       "      <td>0.0</td>\n",
       "      <td>0.000000</td>\n",
       "      <td>0.000000</td>\n",
       "      <td>0.000000</td>\n",
       "      <td>0.0</td>\n",
       "      <td>0.000000</td>\n",
       "      <td>0.000000</td>\n",
       "      <td>...</td>\n",
       "      <td>0.0</td>\n",
       "      <td>0.0</td>\n",
       "      <td>0.0</td>\n",
       "      <td>0.0</td>\n",
       "      <td>1.159752</td>\n",
       "      <td>1.159752</td>\n",
       "      <td>0.0</td>\n",
       "      <td>0.000000</td>\n",
       "      <td>0.0</td>\n",
       "      <td>B</td>\n",
       "    </tr>\n",
       "    <tr>\n",
       "      <th>2</th>\n",
       "      <td>0.00000</td>\n",
       "      <td>0.000000</td>\n",
       "      <td>0.000000</td>\n",
       "      <td>0.0</td>\n",
       "      <td>0.000000</td>\n",
       "      <td>0.000000</td>\n",
       "      <td>0.000000</td>\n",
       "      <td>0.0</td>\n",
       "      <td>0.000000</td>\n",
       "      <td>0.000000</td>\n",
       "      <td>...</td>\n",
       "      <td>0.0</td>\n",
       "      <td>0.0</td>\n",
       "      <td>0.0</td>\n",
       "      <td>0.0</td>\n",
       "      <td>0.000000</td>\n",
       "      <td>0.000000</td>\n",
       "      <td>0.0</td>\n",
       "      <td>0.000000</td>\n",
       "      <td>0.0</td>\n",
       "      <td>L1</td>\n",
       "    </tr>\n",
       "    <tr>\n",
       "      <th>3</th>\n",
       "      <td>0.00000</td>\n",
       "      <td>0.000000</td>\n",
       "      <td>0.000000</td>\n",
       "      <td>0.0</td>\n",
       "      <td>0.000000</td>\n",
       "      <td>0.000000</td>\n",
       "      <td>0.000000</td>\n",
       "      <td>0.0</td>\n",
       "      <td>1.231624</td>\n",
       "      <td>0.000000</td>\n",
       "      <td>...</td>\n",
       "      <td>0.0</td>\n",
       "      <td>0.0</td>\n",
       "      <td>0.0</td>\n",
       "      <td>0.0</td>\n",
       "      <td>1.231624</td>\n",
       "      <td>0.000000</td>\n",
       "      <td>0.0</td>\n",
       "      <td>0.962358</td>\n",
       "      <td>0.0</td>\n",
       "      <td>B</td>\n",
       "    </tr>\n",
       "    <tr>\n",
       "      <th>4</th>\n",
       "      <td>0.00000</td>\n",
       "      <td>0.000000</td>\n",
       "      <td>0.000000</td>\n",
       "      <td>0.0</td>\n",
       "      <td>0.000000</td>\n",
       "      <td>0.000000</td>\n",
       "      <td>0.000000</td>\n",
       "      <td>0.0</td>\n",
       "      <td>0.000000</td>\n",
       "      <td>0.000000</td>\n",
       "      <td>...</td>\n",
       "      <td>0.0</td>\n",
       "      <td>0.0</td>\n",
       "      <td>0.0</td>\n",
       "      <td>0.0</td>\n",
       "      <td>0.000000</td>\n",
       "      <td>0.000000</td>\n",
       "      <td>0.0</td>\n",
       "      <td>1.198887</td>\n",
       "      <td>0.0</td>\n",
       "      <td>L1</td>\n",
       "    </tr>\n",
       "    <tr>\n",
       "      <th>...</th>\n",
       "      <td>...</td>\n",
       "      <td>...</td>\n",
       "      <td>...</td>\n",
       "      <td>...</td>\n",
       "      <td>...</td>\n",
       "      <td>...</td>\n",
       "      <td>...</td>\n",
       "      <td>...</td>\n",
       "      <td>...</td>\n",
       "      <td>...</td>\n",
       "      <td>...</td>\n",
       "      <td>...</td>\n",
       "      <td>...</td>\n",
       "      <td>...</td>\n",
       "      <td>...</td>\n",
       "      <td>...</td>\n",
       "      <td>...</td>\n",
       "      <td>...</td>\n",
       "      <td>...</td>\n",
       "      <td>...</td>\n",
       "      <td>...</td>\n",
       "    </tr>\n",
       "    <tr>\n",
       "      <th>4009</th>\n",
       "      <td>0.00000</td>\n",
       "      <td>0.000000</td>\n",
       "      <td>0.000000</td>\n",
       "      <td>0.0</td>\n",
       "      <td>0.000000</td>\n",
       "      <td>1.382332</td>\n",
       "      <td>3.756037</td>\n",
       "      <td>0.0</td>\n",
       "      <td>0.000000</td>\n",
       "      <td>0.000000</td>\n",
       "      <td>...</td>\n",
       "      <td>0.0</td>\n",
       "      <td>0.0</td>\n",
       "      <td>0.0</td>\n",
       "      <td>0.0</td>\n",
       "      <td>0.000000</td>\n",
       "      <td>0.000000</td>\n",
       "      <td>0.0</td>\n",
       "      <td>1.382332</td>\n",
       "      <td>0.0</td>\n",
       "      <td>L1</td>\n",
       "    </tr>\n",
       "    <tr>\n",
       "      <th>4010</th>\n",
       "      <td>0.00000</td>\n",
       "      <td>0.000000</td>\n",
       "      <td>3.002545</td>\n",
       "      <td>0.0</td>\n",
       "      <td>0.000000</td>\n",
       "      <td>0.000000</td>\n",
       "      <td>0.000000</td>\n",
       "      <td>0.0</td>\n",
       "      <td>1.139851</td>\n",
       "      <td>1.139851</td>\n",
       "      <td>...</td>\n",
       "      <td>0.0</td>\n",
       "      <td>0.0</td>\n",
       "      <td>0.0</td>\n",
       "      <td>0.0</td>\n",
       "      <td>1.139851</td>\n",
       "      <td>0.000000</td>\n",
       "      <td>0.0</td>\n",
       "      <td>0.000000</td>\n",
       "      <td>0.0</td>\n",
       "      <td>B</td>\n",
       "    </tr>\n",
       "    <tr>\n",
       "      <th>4011</th>\n",
       "      <td>0.00000</td>\n",
       "      <td>0.000000</td>\n",
       "      <td>0.000000</td>\n",
       "      <td>0.0</td>\n",
       "      <td>1.729568</td>\n",
       "      <td>1.199697</td>\n",
       "      <td>0.000000</td>\n",
       "      <td>0.0</td>\n",
       "      <td>0.000000</td>\n",
       "      <td>0.000000</td>\n",
       "      <td>...</td>\n",
       "      <td>0.0</td>\n",
       "      <td>0.0</td>\n",
       "      <td>0.0</td>\n",
       "      <td>0.0</td>\n",
       "      <td>0.000000</td>\n",
       "      <td>0.000000</td>\n",
       "      <td>0.0</td>\n",
       "      <td>0.000000</td>\n",
       "      <td>0.0</td>\n",
       "      <td>L1</td>\n",
       "    </tr>\n",
       "    <tr>\n",
       "      <th>4012</th>\n",
       "      <td>2.44477</td>\n",
       "      <td>2.946953</td>\n",
       "      <td>0.000000</td>\n",
       "      <td>0.0</td>\n",
       "      <td>2.142408</td>\n",
       "      <td>0.000000</td>\n",
       "      <td>0.000000</td>\n",
       "      <td>0.0</td>\n",
       "      <td>0.000000</td>\n",
       "      <td>0.000000</td>\n",
       "      <td>...</td>\n",
       "      <td>0.0</td>\n",
       "      <td>0.0</td>\n",
       "      <td>0.0</td>\n",
       "      <td>0.0</td>\n",
       "      <td>1.388285</td>\n",
       "      <td>0.000000</td>\n",
       "      <td>0.0</td>\n",
       "      <td>0.000000</td>\n",
       "      <td>0.0</td>\n",
       "      <td>L2</td>\n",
       "    </tr>\n",
       "    <tr>\n",
       "      <th>4013</th>\n",
       "      <td>0.00000</td>\n",
       "      <td>0.000000</td>\n",
       "      <td>3.970905</td>\n",
       "      <td>0.0</td>\n",
       "      <td>0.000000</td>\n",
       "      <td>0.000000</td>\n",
       "      <td>0.000000</td>\n",
       "      <td>0.0</td>\n",
       "      <td>0.000000</td>\n",
       "      <td>2.015445</td>\n",
       "      <td>...</td>\n",
       "      <td>0.0</td>\n",
       "      <td>0.0</td>\n",
       "      <td>0.0</td>\n",
       "      <td>0.0</td>\n",
       "      <td>0.000000</td>\n",
       "      <td>0.000000</td>\n",
       "      <td>0.0</td>\n",
       "      <td>0.000000</td>\n",
       "      <td>0.0</td>\n",
       "      <td>B</td>\n",
       "    </tr>\n",
       "  </tbody>\n",
       "</table>\n",
       "<p>4014 rows × 2001 columns</p>\n",
       "</div>"
      ],
      "text/plain": [
       "         ORM1      ORM2      MMP3  FDCSP    S100A7     FABP7     KRT81  DCN  \\\n",
       "0     0.00000  0.000000  0.000000    0.0  0.000000  0.000000  0.000000  0.0   \n",
       "1     0.00000  0.000000  0.000000    0.0  0.000000  0.000000  0.000000  0.0   \n",
       "2     0.00000  0.000000  0.000000    0.0  0.000000  0.000000  0.000000  0.0   \n",
       "3     0.00000  0.000000  0.000000    0.0  0.000000  0.000000  0.000000  0.0   \n",
       "4     0.00000  0.000000  0.000000    0.0  0.000000  0.000000  0.000000  0.0   \n",
       "...       ...       ...       ...    ...       ...       ...       ...  ...   \n",
       "4009  0.00000  0.000000  0.000000    0.0  0.000000  1.382332  3.756037  0.0   \n",
       "4010  0.00000  0.000000  3.002545    0.0  0.000000  0.000000  0.000000  0.0   \n",
       "4011  0.00000  0.000000  0.000000    0.0  1.729568  1.199697  0.000000  0.0   \n",
       "4012  2.44477  2.946953  0.000000    0.0  2.142408  0.000000  0.000000  0.0   \n",
       "4013  0.00000  0.000000  3.970905    0.0  0.000000  0.000000  0.000000  0.0   \n",
       "\n",
       "          IL1B      AREG  ...  MRGPRX4  C2CD4B  CTD.2012K14.8  CCR10  \\\n",
       "0     0.000000  0.000000  ...      0.0     0.0            0.0    0.0   \n",
       "1     0.000000  0.000000  ...      0.0     0.0            0.0    0.0   \n",
       "2     0.000000  0.000000  ...      0.0     0.0            0.0    0.0   \n",
       "3     1.231624  0.000000  ...      0.0     0.0            0.0    0.0   \n",
       "4     0.000000  0.000000  ...      0.0     0.0            0.0    0.0   \n",
       "...        ...       ...  ...      ...     ...            ...    ...   \n",
       "4009  0.000000  0.000000  ...      0.0     0.0            0.0    0.0   \n",
       "4010  1.139851  1.139851  ...      0.0     0.0            0.0    0.0   \n",
       "4011  0.000000  0.000000  ...      0.0     0.0            0.0    0.0   \n",
       "4012  0.000000  0.000000  ...      0.0     0.0            0.0    0.0   \n",
       "4013  0.000000  2.015445  ...      0.0     0.0            0.0    0.0   \n",
       "\n",
       "           FAS   ADORA2B  PRMT9     PHGDH  HOXA4  cluster_label  \n",
       "0     0.000000  0.000000    0.0  0.000000    0.0              B  \n",
       "1     1.159752  1.159752    0.0  0.000000    0.0              B  \n",
       "2     0.000000  0.000000    0.0  0.000000    0.0             L1  \n",
       "3     1.231624  0.000000    0.0  0.962358    0.0              B  \n",
       "4     0.000000  0.000000    0.0  1.198887    0.0             L1  \n",
       "...        ...       ...    ...       ...    ...            ...  \n",
       "4009  0.000000  0.000000    0.0  1.382332    0.0             L1  \n",
       "4010  1.139851  0.000000    0.0  0.000000    0.0              B  \n",
       "4011  0.000000  0.000000    0.0  0.000000    0.0             L1  \n",
       "4012  1.388285  0.000000    0.0  0.000000    0.0             L2  \n",
       "4013  0.000000  0.000000    0.0  0.000000    0.0              B  \n",
       "\n",
       "[4014 rows x 2001 columns]"
      ]
     },
     "execution_count": 3,
     "metadata": {},
     "output_type": "execute_result"
    }
   ],
   "source": [
    "#data = pd.read_csv(os.path.join(DATA_DIR, 'ind4_clustering_results.csv.gz'), compression='gzip')\n",
    "data = pd.read_csv(os.path.join(DATA_DIR, 'ind4_clustering_results_var_genes.csv.gz'), compression='gzip')\n",
    "data"
   ]
  },
  {
   "cell_type": "code",
   "execution_count": 4,
   "metadata": {
    "collapsed": false,
    "pycharm": {
     "name": "#%%\n"
    }
   },
   "outputs": [
    {
     "name": "stdout",
     "output_type": "stream",
     "text": [
      "L1              1931\n",
      "B               1429\n",
      "L2               572\n",
      "Unclassified      82\n",
      "Name: cluster_label, dtype: int64\n"
     ]
    },
    {
     "data": {
      "image/png": "[encoded data removed]",
      "text/plain": [
       "<Figure size 576x432 with 1 Axes>"
      ]
     },
     "metadata": {
      "needs_background": "light"
     },
     "output_type": "display_data"
    }
   ],
   "source": [
    "cluster_counts = data['cluster_label'].value_counts()\n",
    "print(cluster_counts)\n",
    "\n",
    "plt.figure(figsize=(8, 6))\n",
    "sns.barplot(x=cluster_counts.index, y=cluster_counts.values)\n",
    "plt.xlabel('Cluster Label')\n",
    "plt.ylabel('Count')\n",
    "plt.title('Value Counts of Cluster Labels')\n",
    "plt.show()"
   ]
  },
  {
   "cell_type": "code",
   "execution_count": 5,
   "metadata": {
    "collapsed": false,
    "pycharm": {
     "name": "#%%\n"
    }
   },
   "outputs": [
    {
     "data": {
      "text/html": [
       "<div>\n",
       "<style scoped>\n",
       "    .dataframe tbody tr th:only-of-type {\n",
       "        vertical-align: middle;\n",
       "    }\n",
       "\n",
       "    .dataframe tbody tr th {\n",
       "        vertical-align: top;\n",
       "    }\n",
       "\n",
       "    .dataframe thead th {\n",
       "        text-align: right;\n",
       "    }\n",
       "</style>\n",
       "<table border=\"1\" class=\"dataframe\">\n",
       "  <thead>\n",
       "    <tr style=\"text-align: right;\">\n",
       "      <th></th>\n",
       "      <th>ORM1</th>\n",
       "      <th>ORM2</th>\n",
       "      <th>MMP3</th>\n",
       "      <th>FDCSP</th>\n",
       "      <th>S100A7</th>\n",
       "      <th>FABP7</th>\n",
       "      <th>KRT81</th>\n",
       "      <th>DCN</th>\n",
       "      <th>IL1B</th>\n",
       "      <th>AREG</th>\n",
       "      <th>...</th>\n",
       "      <th>RP11.597D13.9</th>\n",
       "      <th>MRGPRX4</th>\n",
       "      <th>C2CD4B</th>\n",
       "      <th>CTD.2012K14.8</th>\n",
       "      <th>CCR10</th>\n",
       "      <th>FAS</th>\n",
       "      <th>ADORA2B</th>\n",
       "      <th>PRMT9</th>\n",
       "      <th>PHGDH</th>\n",
       "      <th>HOXA4</th>\n",
       "    </tr>\n",
       "  </thead>\n",
       "  <tbody>\n",
       "    <tr>\n",
       "      <th>count</th>\n",
       "      <td>4014.000000</td>\n",
       "      <td>4014.000000</td>\n",
       "      <td>4014.000000</td>\n",
       "      <td>4014.000000</td>\n",
       "      <td>4014.000000</td>\n",
       "      <td>4014.000000</td>\n",
       "      <td>4014.000000</td>\n",
       "      <td>4014.000000</td>\n",
       "      <td>4014.000000</td>\n",
       "      <td>4014.000000</td>\n",
       "      <td>...</td>\n",
       "      <td>4014.000000</td>\n",
       "      <td>4014.000000</td>\n",
       "      <td>4014.000000</td>\n",
       "      <td>4014.000000</td>\n",
       "      <td>4014.000000</td>\n",
       "      <td>4014.000000</td>\n",
       "      <td>4014.000000</td>\n",
       "      <td>4014.000000</td>\n",
       "      <td>4014.000000</td>\n",
       "      <td>4014.000000</td>\n",
       "    </tr>\n",
       "    <tr>\n",
       "      <th>mean</th>\n",
       "      <td>0.142191</td>\n",
       "      <td>0.084910</td>\n",
       "      <td>0.297772</td>\n",
       "      <td>0.065054</td>\n",
       "      <td>0.488509</td>\n",
       "      <td>0.199051</td>\n",
       "      <td>0.159551</td>\n",
       "      <td>0.034415</td>\n",
       "      <td>0.279810</td>\n",
       "      <td>0.315602</td>\n",
       "      <td>...</td>\n",
       "      <td>0.004128</td>\n",
       "      <td>0.004331</td>\n",
       "      <td>0.004275</td>\n",
       "      <td>0.004063</td>\n",
       "      <td>0.004464</td>\n",
       "      <td>0.240907</td>\n",
       "      <td>0.068786</td>\n",
       "      <td>0.024694</td>\n",
       "      <td>0.412100</td>\n",
       "      <td>0.034093</td>\n",
       "    </tr>\n",
       "    <tr>\n",
       "      <th>std</th>\n",
       "      <td>0.696116</td>\n",
       "      <td>0.485980</td>\n",
       "      <td>0.856380</td>\n",
       "      <td>0.414117</td>\n",
       "      <td>1.078162</td>\n",
       "      <td>0.655485</td>\n",
       "      <td>0.587791</td>\n",
       "      <td>0.346617</td>\n",
       "      <td>0.779161</td>\n",
       "      <td>0.762863</td>\n",
       "      <td>...</td>\n",
       "      <td>0.066658</td>\n",
       "      <td>0.068425</td>\n",
       "      <td>0.069848</td>\n",
       "      <td>0.066387</td>\n",
       "      <td>0.072764</td>\n",
       "      <td>0.494458</td>\n",
       "      <td>0.261867</td>\n",
       "      <td>0.155206</td>\n",
       "      <td>0.592806</td>\n",
       "      <td>0.180004</td>\n",
       "    </tr>\n",
       "    <tr>\n",
       "      <th>min</th>\n",
       "      <td>0.000000</td>\n",
       "      <td>0.000000</td>\n",
       "      <td>0.000000</td>\n",
       "      <td>0.000000</td>\n",
       "      <td>0.000000</td>\n",
       "      <td>0.000000</td>\n",
       "      <td>0.000000</td>\n",
       "      <td>0.000000</td>\n",
       "      <td>0.000000</td>\n",
       "      <td>0.000000</td>\n",
       "      <td>...</td>\n",
       "      <td>0.000000</td>\n",
       "      <td>0.000000</td>\n",
       "      <td>0.000000</td>\n",
       "      <td>0.000000</td>\n",
       "      <td>0.000000</td>\n",
       "      <td>0.000000</td>\n",
       "      <td>0.000000</td>\n",
       "      <td>0.000000</td>\n",
       "      <td>0.000000</td>\n",
       "      <td>0.000000</td>\n",
       "    </tr>\n",
       "    <tr>\n",
       "      <th>25%</th>\n",
       "      <td>0.000000</td>\n",
       "      <td>0.000000</td>\n",
       "      <td>0.000000</td>\n",
       "      <td>0.000000</td>\n",
       "      <td>0.000000</td>\n",
       "      <td>0.000000</td>\n",
       "      <td>0.000000</td>\n",
       "      <td>0.000000</td>\n",
       "      <td>0.000000</td>\n",
       "      <td>0.000000</td>\n",
       "      <td>...</td>\n",
       "      <td>0.000000</td>\n",
       "      <td>0.000000</td>\n",
       "      <td>0.000000</td>\n",
       "      <td>0.000000</td>\n",
       "      <td>0.000000</td>\n",
       "      <td>0.000000</td>\n",
       "      <td>0.000000</td>\n",
       "      <td>0.000000</td>\n",
       "      <td>0.000000</td>\n",
       "      <td>0.000000</td>\n",
       "    </tr>\n",
       "    <tr>\n",
       "      <th>50%</th>\n",
       "      <td>0.000000</td>\n",
       "      <td>0.000000</td>\n",
       "      <td>0.000000</td>\n",
       "      <td>0.000000</td>\n",
       "      <td>0.000000</td>\n",
       "      <td>0.000000</td>\n",
       "      <td>0.000000</td>\n",
       "      <td>0.000000</td>\n",
       "      <td>0.000000</td>\n",
       "      <td>0.000000</td>\n",
       "      <td>...</td>\n",
       "      <td>0.000000</td>\n",
       "      <td>0.000000</td>\n",
       "      <td>0.000000</td>\n",
       "      <td>0.000000</td>\n",
       "      <td>0.000000</td>\n",
       "      <td>0.000000</td>\n",
       "      <td>0.000000</td>\n",
       "      <td>0.000000</td>\n",
       "      <td>0.000000</td>\n",
       "      <td>0.000000</td>\n",
       "    </tr>\n",
       "    <tr>\n",
       "      <th>75%</th>\n",
       "      <td>0.000000</td>\n",
       "      <td>0.000000</td>\n",
       "      <td>0.000000</td>\n",
       "      <td>0.000000</td>\n",
       "      <td>0.000000</td>\n",
       "      <td>0.000000</td>\n",
       "      <td>0.000000</td>\n",
       "      <td>0.000000</td>\n",
       "      <td>0.000000</td>\n",
       "      <td>0.000000</td>\n",
       "      <td>...</td>\n",
       "      <td>0.000000</td>\n",
       "      <td>0.000000</td>\n",
       "      <td>0.000000</td>\n",
       "      <td>0.000000</td>\n",
       "      <td>0.000000</td>\n",
       "      <td>0.000000</td>\n",
       "      <td>0.000000</td>\n",
       "      <td>0.000000</td>\n",
       "      <td>0.877524</td>\n",
       "      <td>0.000000</td>\n",
       "    </tr>\n",
       "    <tr>\n",
       "      <th>max</th>\n",
       "      <td>6.762612</td>\n",
       "      <td>5.539486</td>\n",
       "      <td>6.572284</td>\n",
       "      <td>4.903337</td>\n",
       "      <td>5.591136</td>\n",
       "      <td>4.861639</td>\n",
       "      <td>5.166052</td>\n",
       "      <td>5.812831</td>\n",
       "      <td>5.654543</td>\n",
       "      <td>4.846035</td>\n",
       "      <td>...</td>\n",
       "      <td>1.493988</td>\n",
       "      <td>1.604655</td>\n",
       "      <td>1.778140</td>\n",
       "      <td>1.709633</td>\n",
       "      <td>1.842913</td>\n",
       "      <td>2.938584</td>\n",
       "      <td>1.879372</td>\n",
       "      <td>2.390354</td>\n",
       "      <td>2.622593</td>\n",
       "      <td>2.246530</td>\n",
       "    </tr>\n",
       "  </tbody>\n",
       "</table>\n",
       "<p>8 rows × 2000 columns</p>\n",
       "</div>"
      ],
      "text/plain": [
       "              ORM1         ORM2         MMP3        FDCSP       S100A7  \\\n",
       "count  4014.000000  4014.000000  4014.000000  4014.000000  4014.000000   \n",
       "mean      0.142191     0.084910     0.297772     0.065054     0.488509   \n",
       "std       0.696116     0.485980     0.856380     0.414117     1.078162   \n",
       "min       0.000000     0.000000     0.000000     0.000000     0.000000   \n",
       "25%       0.000000     0.000000     0.000000     0.000000     0.000000   \n",
       "50%       0.000000     0.000000     0.000000     0.000000     0.000000   \n",
       "75%       0.000000     0.000000     0.000000     0.000000     0.000000   \n",
       "max       6.762612     5.539486     6.572284     4.903337     5.591136   \n",
       "\n",
       "             FABP7        KRT81          DCN         IL1B         AREG  ...  \\\n",
       "count  4014.000000  4014.000000  4014.000000  4014.000000  4014.000000  ...   \n",
       "mean      0.199051     0.159551     0.034415     0.279810     0.315602  ...   \n",
       "std       0.655485     0.587791     0.346617     0.779161     0.762863  ...   \n",
       "min       0.000000     0.000000     0.000000     0.000000     0.000000  ...   \n",
       "25%       0.000000     0.000000     0.000000     0.000000     0.000000  ...   \n",
       "50%       0.000000     0.000000     0.000000     0.000000     0.000000  ...   \n",
       "75%       0.000000     0.000000     0.000000     0.000000     0.000000  ...   \n",
       "max       4.861639     5.166052     5.812831     5.654543     4.846035  ...   \n",
       "\n",
       "       RP11.597D13.9      MRGPRX4       C2CD4B  CTD.2012K14.8        CCR10  \\\n",
       "count    4014.000000  4014.000000  4014.000000    4014.000000  4014.000000   \n",
       "mean        0.004128     0.004331     0.004275       0.004063     0.004464   \n",
       "std         0.066658     0.068425     0.069848       0.066387     0.072764   \n",
       "min         0.000000     0.000000     0.000000       0.000000     0.000000   \n",
       "25%         0.000000     0.000000     0.000000       0.000000     0.000000   \n",
       "50%         0.000000     0.000000     0.000000       0.000000     0.000000   \n",
       "75%         0.000000     0.000000     0.000000       0.000000     0.000000   \n",
       "max         1.493988     1.604655     1.778140       1.709633     1.842913   \n",
       "\n",
       "               FAS      ADORA2B        PRMT9        PHGDH        HOXA4  \n",
       "count  4014.000000  4014.000000  4014.000000  4014.000000  4014.000000  \n",
       "mean      0.240907     0.068786     0.024694     0.412100     0.034093  \n",
       "std       0.494458     0.261867     0.155206     0.592806     0.180004  \n",
       "min       0.000000     0.000000     0.000000     0.000000     0.000000  \n",
       "25%       0.000000     0.000000     0.000000     0.000000     0.000000  \n",
       "50%       0.000000     0.000000     0.000000     0.000000     0.000000  \n",
       "75%       0.000000     0.000000     0.000000     0.877524     0.000000  \n",
       "max       2.938584     1.879372     2.390354     2.622593     2.246530  \n",
       "\n",
       "[8 rows x 2000 columns]"
      ]
     },
     "execution_count": 5,
     "metadata": {},
     "output_type": "execute_result"
    }
   ],
   "source": [
    "data.describe()"
   ]
  },
  {
   "cell_type": "code",
   "execution_count": 102,
   "metadata": {},
   "outputs": [
    {
     "name": "stdout",
     "output_type": "stream",
     "text": [
      "ORM1             3670\n",
      "ORM2             3775\n",
      "MMP3             3359\n",
      "FDCSP            3801\n",
      "S100A7           3025\n",
      "                 ... \n",
      "ADORA2B          3647\n",
      "PRMT9            3824\n",
      "PHGDH            2470\n",
      "HOXA4            3778\n",
      "cluster_label       0\n",
      "Length: 2001, dtype: int64\n"
     ]
    }
   ],
   "source": [
    "zeros_count = (data == 0).sum()\n",
    "print(zeros_count)"
   ]
  },
  {
   "cell_type": "code",
   "execution_count": 6,
   "metadata": {
    "collapsed": false,
    "pycharm": {
     "name": "#%%\n"
    }
   },
   "outputs": [
    {
     "name": "stdout",
     "output_type": "stream",
     "text": [
      "<class 'pandas.core.frame.DataFrame'>\n",
      "RangeIndex: 4014 entries, 0 to 4013\n",
      "Columns: 2001 entries, ORM1 to cluster_label\n",
      "dtypes: float64(2000), object(1)\n",
      "memory usage: 61.3+ MB\n"
     ]
    }
   ],
   "source": [
    "data.info()"
   ]
  },
  {
   "attachments": {},
   "cell_type": "markdown",
   "metadata": {
    "collapsed": false
   },
   "source": [
    "## PreProcessing\n",
    "\n",
    "Split X, y and turn labels from string to int with values in range (0, n_classes-1). Also isolate a 30% part of the data as a hold out test set, that will be used to test the generalization ability of the final model."
   ]
  },
  {
   "cell_type": "code",
   "execution_count": 7,
   "metadata": {},
   "outputs": [],
   "source": [
    "data = data[~data['cluster_label'].str.contains('Unclassified')]\n",
    "data = data.reset_index(drop=True)"
   ]
  },
  {
   "cell_type": "code",
   "execution_count": 247,
   "metadata": {
    "collapsed": false,
    "pycharm": {
     "name": "#%%\n"
    }
   },
   "outputs": [
    {
     "data": {
      "text/html": [
       "<div>\n",
       "<style scoped>\n",
       "    .dataframe tbody tr th:only-of-type {\n",
       "        vertical-align: middle;\n",
       "    }\n",
       "\n",
       "    .dataframe tbody tr th {\n",
       "        vertical-align: top;\n",
       "    }\n",
       "\n",
       "    .dataframe thead th {\n",
       "        text-align: right;\n",
       "    }\n",
       "</style>\n",
       "<table border=\"1\" class=\"dataframe\">\n",
       "  <thead>\n",
       "    <tr style=\"text-align: right;\">\n",
       "      <th></th>\n",
       "      <th>ORM1</th>\n",
       "      <th>ORM2</th>\n",
       "      <th>MMP3</th>\n",
       "      <th>FDCSP</th>\n",
       "      <th>S100A7</th>\n",
       "      <th>FABP7</th>\n",
       "      <th>KRT81</th>\n",
       "      <th>DCN</th>\n",
       "      <th>IL1B</th>\n",
       "      <th>AREG</th>\n",
       "      <th>...</th>\n",
       "      <th>RP11.597D13.9</th>\n",
       "      <th>MRGPRX4</th>\n",
       "      <th>C2CD4B</th>\n",
       "      <th>CTD.2012K14.8</th>\n",
       "      <th>CCR10</th>\n",
       "      <th>FAS</th>\n",
       "      <th>ADORA2B</th>\n",
       "      <th>PRMT9</th>\n",
       "      <th>PHGDH</th>\n",
       "      <th>HOXA4</th>\n",
       "    </tr>\n",
       "  </thead>\n",
       "  <tbody>\n",
       "    <tr>\n",
       "      <th>0</th>\n",
       "      <td>0.00000</td>\n",
       "      <td>0.000000</td>\n",
       "      <td>0.000000</td>\n",
       "      <td>0.0</td>\n",
       "      <td>0.000000</td>\n",
       "      <td>0.000000</td>\n",
       "      <td>0.000000</td>\n",
       "      <td>0.0</td>\n",
       "      <td>0.000000</td>\n",
       "      <td>0.000000</td>\n",
       "      <td>...</td>\n",
       "      <td>0.0</td>\n",
       "      <td>0.0</td>\n",
       "      <td>0.0</td>\n",
       "      <td>0.0</td>\n",
       "      <td>0.0</td>\n",
       "      <td>0.000000</td>\n",
       "      <td>0.000000</td>\n",
       "      <td>0.0</td>\n",
       "      <td>0.000000</td>\n",
       "      <td>0.0</td>\n",
       "    </tr>\n",
       "    <tr>\n",
       "      <th>1</th>\n",
       "      <td>0.00000</td>\n",
       "      <td>0.000000</td>\n",
       "      <td>0.000000</td>\n",
       "      <td>0.0</td>\n",
       "      <td>0.000000</td>\n",
       "      <td>0.000000</td>\n",
       "      <td>0.000000</td>\n",
       "      <td>0.0</td>\n",
       "      <td>0.000000</td>\n",
       "      <td>0.000000</td>\n",
       "      <td>...</td>\n",
       "      <td>0.0</td>\n",
       "      <td>0.0</td>\n",
       "      <td>0.0</td>\n",
       "      <td>0.0</td>\n",
       "      <td>0.0</td>\n",
       "      <td>1.159752</td>\n",
       "      <td>1.159752</td>\n",
       "      <td>0.0</td>\n",
       "      <td>0.000000</td>\n",
       "      <td>0.0</td>\n",
       "    </tr>\n",
       "    <tr>\n",
       "      <th>2</th>\n",
       "      <td>0.00000</td>\n",
       "      <td>0.000000</td>\n",
       "      <td>0.000000</td>\n",
       "      <td>0.0</td>\n",
       "      <td>0.000000</td>\n",
       "      <td>0.000000</td>\n",
       "      <td>0.000000</td>\n",
       "      <td>0.0</td>\n",
       "      <td>0.000000</td>\n",
       "      <td>0.000000</td>\n",
       "      <td>...</td>\n",
       "      <td>0.0</td>\n",
       "      <td>0.0</td>\n",
       "      <td>0.0</td>\n",
       "      <td>0.0</td>\n",
       "      <td>0.0</td>\n",
       "      <td>0.000000</td>\n",
       "      <td>0.000000</td>\n",
       "      <td>0.0</td>\n",
       "      <td>0.000000</td>\n",
       "      <td>0.0</td>\n",
       "    </tr>\n",
       "    <tr>\n",
       "      <th>3</th>\n",
       "      <td>0.00000</td>\n",
       "      <td>0.000000</td>\n",
       "      <td>0.000000</td>\n",
       "      <td>0.0</td>\n",
       "      <td>0.000000</td>\n",
       "      <td>0.000000</td>\n",
       "      <td>0.000000</td>\n",
       "      <td>0.0</td>\n",
       "      <td>1.231624</td>\n",
       "      <td>0.000000</td>\n",
       "      <td>...</td>\n",
       "      <td>0.0</td>\n",
       "      <td>0.0</td>\n",
       "      <td>0.0</td>\n",
       "      <td>0.0</td>\n",
       "      <td>0.0</td>\n",
       "      <td>1.231624</td>\n",
       "      <td>0.000000</td>\n",
       "      <td>0.0</td>\n",
       "      <td>0.962358</td>\n",
       "      <td>0.0</td>\n",
       "    </tr>\n",
       "    <tr>\n",
       "      <th>4</th>\n",
       "      <td>0.00000</td>\n",
       "      <td>0.000000</td>\n",
       "      <td>0.000000</td>\n",
       "      <td>0.0</td>\n",
       "      <td>0.000000</td>\n",
       "      <td>0.000000</td>\n",
       "      <td>0.000000</td>\n",
       "      <td>0.0</td>\n",
       "      <td>0.000000</td>\n",
       "      <td>0.000000</td>\n",
       "      <td>...</td>\n",
       "      <td>0.0</td>\n",
       "      <td>0.0</td>\n",
       "      <td>0.0</td>\n",
       "      <td>0.0</td>\n",
       "      <td>0.0</td>\n",
       "      <td>0.000000</td>\n",
       "      <td>0.000000</td>\n",
       "      <td>0.0</td>\n",
       "      <td>1.198887</td>\n",
       "      <td>0.0</td>\n",
       "    </tr>\n",
       "    <tr>\n",
       "      <th>...</th>\n",
       "      <td>...</td>\n",
       "      <td>...</td>\n",
       "      <td>...</td>\n",
       "      <td>...</td>\n",
       "      <td>...</td>\n",
       "      <td>...</td>\n",
       "      <td>...</td>\n",
       "      <td>...</td>\n",
       "      <td>...</td>\n",
       "      <td>...</td>\n",
       "      <td>...</td>\n",
       "      <td>...</td>\n",
       "      <td>...</td>\n",
       "      <td>...</td>\n",
       "      <td>...</td>\n",
       "      <td>...</td>\n",
       "      <td>...</td>\n",
       "      <td>...</td>\n",
       "      <td>...</td>\n",
       "      <td>...</td>\n",
       "      <td>...</td>\n",
       "    </tr>\n",
       "    <tr>\n",
       "      <th>3927</th>\n",
       "      <td>0.00000</td>\n",
       "      <td>0.000000</td>\n",
       "      <td>0.000000</td>\n",
       "      <td>0.0</td>\n",
       "      <td>0.000000</td>\n",
       "      <td>1.382332</td>\n",
       "      <td>3.756037</td>\n",
       "      <td>0.0</td>\n",
       "      <td>0.000000</td>\n",
       "      <td>0.000000</td>\n",
       "      <td>...</td>\n",
       "      <td>0.0</td>\n",
       "      <td>0.0</td>\n",
       "      <td>0.0</td>\n",
       "      <td>0.0</td>\n",
       "      <td>0.0</td>\n",
       "      <td>0.000000</td>\n",
       "      <td>0.000000</td>\n",
       "      <td>0.0</td>\n",
       "      <td>1.382332</td>\n",
       "      <td>0.0</td>\n",
       "    </tr>\n",
       "    <tr>\n",
       "      <th>3928</th>\n",
       "      <td>0.00000</td>\n",
       "      <td>0.000000</td>\n",
       "      <td>3.002545</td>\n",
       "      <td>0.0</td>\n",
       "      <td>0.000000</td>\n",
       "      <td>0.000000</td>\n",
       "      <td>0.000000</td>\n",
       "      <td>0.0</td>\n",
       "      <td>1.139851</td>\n",
       "      <td>1.139851</td>\n",
       "      <td>...</td>\n",
       "      <td>0.0</td>\n",
       "      <td>0.0</td>\n",
       "      <td>0.0</td>\n",
       "      <td>0.0</td>\n",
       "      <td>0.0</td>\n",
       "      <td>1.139851</td>\n",
       "      <td>0.000000</td>\n",
       "      <td>0.0</td>\n",
       "      <td>0.000000</td>\n",
       "      <td>0.0</td>\n",
       "    </tr>\n",
       "    <tr>\n",
       "      <th>3929</th>\n",
       "      <td>0.00000</td>\n",
       "      <td>0.000000</td>\n",
       "      <td>0.000000</td>\n",
       "      <td>0.0</td>\n",
       "      <td>1.729568</td>\n",
       "      <td>1.199697</td>\n",
       "      <td>0.000000</td>\n",
       "      <td>0.0</td>\n",
       "      <td>0.000000</td>\n",
       "      <td>0.000000</td>\n",
       "      <td>...</td>\n",
       "      <td>0.0</td>\n",
       "      <td>0.0</td>\n",
       "      <td>0.0</td>\n",
       "      <td>0.0</td>\n",
       "      <td>0.0</td>\n",
       "      <td>0.000000</td>\n",
       "      <td>0.000000</td>\n",
       "      <td>0.0</td>\n",
       "      <td>0.000000</td>\n",
       "      <td>0.0</td>\n",
       "    </tr>\n",
       "    <tr>\n",
       "      <th>3930</th>\n",
       "      <td>2.44477</td>\n",
       "      <td>2.946953</td>\n",
       "      <td>0.000000</td>\n",
       "      <td>0.0</td>\n",
       "      <td>2.142408</td>\n",
       "      <td>0.000000</td>\n",
       "      <td>0.000000</td>\n",
       "      <td>0.0</td>\n",
       "      <td>0.000000</td>\n",
       "      <td>0.000000</td>\n",
       "      <td>...</td>\n",
       "      <td>0.0</td>\n",
       "      <td>0.0</td>\n",
       "      <td>0.0</td>\n",
       "      <td>0.0</td>\n",
       "      <td>0.0</td>\n",
       "      <td>1.388285</td>\n",
       "      <td>0.000000</td>\n",
       "      <td>0.0</td>\n",
       "      <td>0.000000</td>\n",
       "      <td>0.0</td>\n",
       "    </tr>\n",
       "    <tr>\n",
       "      <th>3931</th>\n",
       "      <td>0.00000</td>\n",
       "      <td>0.000000</td>\n",
       "      <td>3.970905</td>\n",
       "      <td>0.0</td>\n",
       "      <td>0.000000</td>\n",
       "      <td>0.000000</td>\n",
       "      <td>0.000000</td>\n",
       "      <td>0.0</td>\n",
       "      <td>0.000000</td>\n",
       "      <td>2.015445</td>\n",
       "      <td>...</td>\n",
       "      <td>0.0</td>\n",
       "      <td>0.0</td>\n",
       "      <td>0.0</td>\n",
       "      <td>0.0</td>\n",
       "      <td>0.0</td>\n",
       "      <td>0.000000</td>\n",
       "      <td>0.000000</td>\n",
       "      <td>0.0</td>\n",
       "      <td>0.000000</td>\n",
       "      <td>0.0</td>\n",
       "    </tr>\n",
       "  </tbody>\n",
       "</table>\n",
       "<p>3932 rows × 2000 columns</p>\n",
       "</div>"
      ],
      "text/plain": [
       "         ORM1      ORM2      MMP3  FDCSP    S100A7     FABP7     KRT81  DCN  \\\n",
       "0     0.00000  0.000000  0.000000    0.0  0.000000  0.000000  0.000000  0.0   \n",
       "1     0.00000  0.000000  0.000000    0.0  0.000000  0.000000  0.000000  0.0   \n",
       "2     0.00000  0.000000  0.000000    0.0  0.000000  0.000000  0.000000  0.0   \n",
       "3     0.00000  0.000000  0.000000    0.0  0.000000  0.000000  0.000000  0.0   \n",
       "4     0.00000  0.000000  0.000000    0.0  0.000000  0.000000  0.000000  0.0   \n",
       "...       ...       ...       ...    ...       ...       ...       ...  ...   \n",
       "3927  0.00000  0.000000  0.000000    0.0  0.000000  1.382332  3.756037  0.0   \n",
       "3928  0.00000  0.000000  3.002545    0.0  0.000000  0.000000  0.000000  0.0   \n",
       "3929  0.00000  0.000000  0.000000    0.0  1.729568  1.199697  0.000000  0.0   \n",
       "3930  2.44477  2.946953  0.000000    0.0  2.142408  0.000000  0.000000  0.0   \n",
       "3931  0.00000  0.000000  3.970905    0.0  0.000000  0.000000  0.000000  0.0   \n",
       "\n",
       "          IL1B      AREG  ...  RP11.597D13.9  MRGPRX4  C2CD4B  CTD.2012K14.8  \\\n",
       "0     0.000000  0.000000  ...            0.0      0.0     0.0            0.0   \n",
       "1     0.000000  0.000000  ...            0.0      0.0     0.0            0.0   \n",
       "2     0.000000  0.000000  ...            0.0      0.0     0.0            0.0   \n",
       "3     1.231624  0.000000  ...            0.0      0.0     0.0            0.0   \n",
       "4     0.000000  0.000000  ...            0.0      0.0     0.0            0.0   \n",
       "...        ...       ...  ...            ...      ...     ...            ...   \n",
       "3927  0.000000  0.000000  ...            0.0      0.0     0.0            0.0   \n",
       "3928  1.139851  1.139851  ...            0.0      0.0     0.0            0.0   \n",
       "3929  0.000000  0.000000  ...            0.0      0.0     0.0            0.0   \n",
       "3930  0.000000  0.000000  ...            0.0      0.0     0.0            0.0   \n",
       "3931  0.000000  2.015445  ...            0.0      0.0     0.0            0.0   \n",
       "\n",
       "      CCR10       FAS   ADORA2B  PRMT9     PHGDH  HOXA4  \n",
       "0       0.0  0.000000  0.000000    0.0  0.000000    0.0  \n",
       "1       0.0  1.159752  1.159752    0.0  0.000000    0.0  \n",
       "2       0.0  0.000000  0.000000    0.0  0.000000    0.0  \n",
       "3       0.0  1.231624  0.000000    0.0  0.962358    0.0  \n",
       "4       0.0  0.000000  0.000000    0.0  1.198887    0.0  \n",
       "...     ...       ...       ...    ...       ...    ...  \n",
       "3927    0.0  0.000000  0.000000    0.0  1.382332    0.0  \n",
       "3928    0.0  1.139851  0.000000    0.0  0.000000    0.0  \n",
       "3929    0.0  0.000000  0.000000    0.0  0.000000    0.0  \n",
       "3930    0.0  1.388285  0.000000    0.0  0.000000    0.0  \n",
       "3931    0.0  0.000000  0.000000    0.0  0.000000    0.0  \n",
       "\n",
       "[3932 rows x 2000 columns]"
      ]
     },
     "execution_count": 247,
     "metadata": {},
     "output_type": "execute_result"
    }
   ],
   "source": [
    "X, y = split_X_y(data)\n",
    "X\n"
   ]
  },
  {
   "cell_type": "code",
   "execution_count": 248,
   "metadata": {},
   "outputs": [
    {
     "data": {
      "text/html": [
       "<div>\n",
       "<style scoped>\n",
       "    .dataframe tbody tr th:only-of-type {\n",
       "        vertical-align: middle;\n",
       "    }\n",
       "\n",
       "    .dataframe tbody tr th {\n",
       "        vertical-align: top;\n",
       "    }\n",
       "\n",
       "    .dataframe thead th {\n",
       "        text-align: right;\n",
       "    }\n",
       "</style>\n",
       "<table border=\"1\" class=\"dataframe\">\n",
       "  <thead>\n",
       "    <tr style=\"text-align: right;\">\n",
       "      <th></th>\n",
       "      <th>0</th>\n",
       "    </tr>\n",
       "  </thead>\n",
       "  <tbody>\n",
       "    <tr>\n",
       "      <th>0</th>\n",
       "      <td>2</td>\n",
       "    </tr>\n",
       "    <tr>\n",
       "      <th>1</th>\n",
       "      <td>2</td>\n",
       "    </tr>\n",
       "    <tr>\n",
       "      <th>2</th>\n",
       "      <td>0</td>\n",
       "    </tr>\n",
       "    <tr>\n",
       "      <th>3</th>\n",
       "      <td>2</td>\n",
       "    </tr>\n",
       "    <tr>\n",
       "      <th>4</th>\n",
       "      <td>0</td>\n",
       "    </tr>\n",
       "    <tr>\n",
       "      <th>...</th>\n",
       "      <td>...</td>\n",
       "    </tr>\n",
       "    <tr>\n",
       "      <th>3927</th>\n",
       "      <td>0</td>\n",
       "    </tr>\n",
       "    <tr>\n",
       "      <th>3928</th>\n",
       "      <td>2</td>\n",
       "    </tr>\n",
       "    <tr>\n",
       "      <th>3929</th>\n",
       "      <td>0</td>\n",
       "    </tr>\n",
       "    <tr>\n",
       "      <th>3930</th>\n",
       "      <td>1</td>\n",
       "    </tr>\n",
       "    <tr>\n",
       "      <th>3931</th>\n",
       "      <td>2</td>\n",
       "    </tr>\n",
       "  </tbody>\n",
       "</table>\n",
       "<p>3932 rows × 1 columns</p>\n",
       "</div>"
      ],
      "text/plain": [
       "      0\n",
       "0     2\n",
       "1     2\n",
       "2     0\n",
       "3     2\n",
       "4     0\n",
       "...  ..\n",
       "3927  0\n",
       "3928  2\n",
       "3929  0\n",
       "3930  1\n",
       "3931  2\n",
       "\n",
       "[3932 rows x 1 columns]"
      ]
     },
     "execution_count": 248,
     "metadata": {},
     "output_type": "execute_result"
    }
   ],
   "source": [
    "y = pd.DataFrame(y)\n",
    "y"
   ]
  },
  {
   "cell_type": "code",
   "execution_count": 209,
   "metadata": {},
   "outputs": [],
   "source": [
    "#X = X + 0.01"
   ]
  },
  {
   "cell_type": "code",
   "execution_count": 249,
   "metadata": {},
   "outputs": [],
   "source": [
    "# create held-out test set for final model testing\n",
    "X, X_test, y, y_test = train_test_split(X, y, random_state=42, test_size=0.3, stratify=y, shuffle=True)"
   ]
  },
  {
   "cell_type": "code",
   "execution_count": 250,
   "metadata": {},
   "outputs": [],
   "source": [
    "# reset indices\n",
    "X = X.reset_index(drop=True)\n",
    "X_test = X_test.reset_index(drop=True)\n",
    "\n",
    "y = y.reset_index(drop=True)\n",
    "y_test = y_test.reset_index(drop=True)"
   ]
  },
  {
   "cell_type": "code",
   "execution_count": 251,
   "metadata": {},
   "outputs": [],
   "source": [
    "y = y.to_numpy()  \n",
    "y_test = y_test.to_numpy()  "
   ]
  },
  {
   "cell_type": "code",
   "execution_count": 252,
   "metadata": {},
   "outputs": [
    {
     "name": "stdout",
     "output_type": "stream",
     "text": [
      "(2752, 2000)\n",
      "(1180, 2000)\n",
      "(2752, 1)\n",
      "(1180, 1)\n"
     ]
    }
   ],
   "source": [
    "print(X.shape)\n",
    "print(X_test.shape)\n",
    "print(y.shape)\n",
    "print(y_test.shape)"
   ]
  },
  {
   "cell_type": "code",
   "execution_count": 253,
   "metadata": {},
   "outputs": [
    {
     "data": {
      "text/html": [
       "<div>\n",
       "<style scoped>\n",
       "    .dataframe tbody tr th:only-of-type {\n",
       "        vertical-align: middle;\n",
       "    }\n",
       "\n",
       "    .dataframe tbody tr th {\n",
       "        vertical-align: top;\n",
       "    }\n",
       "\n",
       "    .dataframe thead th {\n",
       "        text-align: right;\n",
       "    }\n",
       "</style>\n",
       "<table border=\"1\" class=\"dataframe\">\n",
       "  <thead>\n",
       "    <tr style=\"text-align: right;\">\n",
       "      <th></th>\n",
       "      <th>ORM1</th>\n",
       "      <th>ORM2</th>\n",
       "      <th>MMP3</th>\n",
       "      <th>FDCSP</th>\n",
       "      <th>S100A7</th>\n",
       "      <th>FABP7</th>\n",
       "      <th>KRT81</th>\n",
       "      <th>DCN</th>\n",
       "      <th>IL1B</th>\n",
       "      <th>AREG</th>\n",
       "      <th>...</th>\n",
       "      <th>RP11.597D13.9</th>\n",
       "      <th>MRGPRX4</th>\n",
       "      <th>C2CD4B</th>\n",
       "      <th>CTD.2012K14.8</th>\n",
       "      <th>CCR10</th>\n",
       "      <th>FAS</th>\n",
       "      <th>ADORA2B</th>\n",
       "      <th>PRMT9</th>\n",
       "      <th>PHGDH</th>\n",
       "      <th>HOXA4</th>\n",
       "    </tr>\n",
       "  </thead>\n",
       "  <tbody>\n",
       "    <tr>\n",
       "      <th>0</th>\n",
       "      <td>0.0</td>\n",
       "      <td>0.0</td>\n",
       "      <td>2.080098</td>\n",
       "      <td>0.0</td>\n",
       "      <td>0.000000</td>\n",
       "      <td>0.000000</td>\n",
       "      <td>0.0</td>\n",
       "      <td>0.0</td>\n",
       "      <td>0.000000</td>\n",
       "      <td>0.000000</td>\n",
       "      <td>...</td>\n",
       "      <td>0.0</td>\n",
       "      <td>0.0</td>\n",
       "      <td>0.0</td>\n",
       "      <td>0.0</td>\n",
       "      <td>0.0</td>\n",
       "      <td>0.0</td>\n",
       "      <td>0.000000</td>\n",
       "      <td>0.0</td>\n",
       "      <td>0.000000</td>\n",
       "      <td>0.000000</td>\n",
       "    </tr>\n",
       "    <tr>\n",
       "      <th>1</th>\n",
       "      <td>0.0</td>\n",
       "      <td>0.0</td>\n",
       "      <td>0.000000</td>\n",
       "      <td>0.0</td>\n",
       "      <td>0.000000</td>\n",
       "      <td>1.085195</td>\n",
       "      <td>0.0</td>\n",
       "      <td>0.0</td>\n",
       "      <td>0.000000</td>\n",
       "      <td>0.000000</td>\n",
       "      <td>...</td>\n",
       "      <td>0.0</td>\n",
       "      <td>0.0</td>\n",
       "      <td>0.0</td>\n",
       "      <td>0.0</td>\n",
       "      <td>0.0</td>\n",
       "      <td>0.0</td>\n",
       "      <td>0.000000</td>\n",
       "      <td>0.0</td>\n",
       "      <td>0.000000</td>\n",
       "      <td>0.000000</td>\n",
       "    </tr>\n",
       "    <tr>\n",
       "      <th>2</th>\n",
       "      <td>0.0</td>\n",
       "      <td>0.0</td>\n",
       "      <td>0.000000</td>\n",
       "      <td>0.0</td>\n",
       "      <td>0.000000</td>\n",
       "      <td>0.000000</td>\n",
       "      <td>0.0</td>\n",
       "      <td>0.0</td>\n",
       "      <td>2.003142</td>\n",
       "      <td>0.000000</td>\n",
       "      <td>...</td>\n",
       "      <td>0.0</td>\n",
       "      <td>0.0</td>\n",
       "      <td>0.0</td>\n",
       "      <td>0.0</td>\n",
       "      <td>0.0</td>\n",
       "      <td>0.0</td>\n",
       "      <td>0.000000</td>\n",
       "      <td>0.0</td>\n",
       "      <td>0.000000</td>\n",
       "      <td>0.000000</td>\n",
       "    </tr>\n",
       "    <tr>\n",
       "      <th>3</th>\n",
       "      <td>0.0</td>\n",
       "      <td>0.0</td>\n",
       "      <td>0.000000</td>\n",
       "      <td>0.0</td>\n",
       "      <td>0.000000</td>\n",
       "      <td>0.000000</td>\n",
       "      <td>0.0</td>\n",
       "      <td>0.0</td>\n",
       "      <td>0.000000</td>\n",
       "      <td>1.062247</td>\n",
       "      <td>...</td>\n",
       "      <td>0.0</td>\n",
       "      <td>0.0</td>\n",
       "      <td>0.0</td>\n",
       "      <td>0.0</td>\n",
       "      <td>0.0</td>\n",
       "      <td>0.0</td>\n",
       "      <td>0.000000</td>\n",
       "      <td>0.0</td>\n",
       "      <td>1.062247</td>\n",
       "      <td>0.000000</td>\n",
       "    </tr>\n",
       "    <tr>\n",
       "      <th>4</th>\n",
       "      <td>0.0</td>\n",
       "      <td>0.0</td>\n",
       "      <td>1.233461</td>\n",
       "      <td>0.0</td>\n",
       "      <td>0.000000</td>\n",
       "      <td>0.000000</td>\n",
       "      <td>0.0</td>\n",
       "      <td>0.0</td>\n",
       "      <td>0.000000</td>\n",
       "      <td>1.957659</td>\n",
       "      <td>...</td>\n",
       "      <td>0.0</td>\n",
       "      <td>0.0</td>\n",
       "      <td>0.0</td>\n",
       "      <td>0.0</td>\n",
       "      <td>0.0</td>\n",
       "      <td>0.0</td>\n",
       "      <td>0.000000</td>\n",
       "      <td>0.0</td>\n",
       "      <td>0.000000</td>\n",
       "      <td>0.000000</td>\n",
       "    </tr>\n",
       "    <tr>\n",
       "      <th>...</th>\n",
       "      <td>...</td>\n",
       "      <td>...</td>\n",
       "      <td>...</td>\n",
       "      <td>...</td>\n",
       "      <td>...</td>\n",
       "      <td>...</td>\n",
       "      <td>...</td>\n",
       "      <td>...</td>\n",
       "      <td>...</td>\n",
       "      <td>...</td>\n",
       "      <td>...</td>\n",
       "      <td>...</td>\n",
       "      <td>...</td>\n",
       "      <td>...</td>\n",
       "      <td>...</td>\n",
       "      <td>...</td>\n",
       "      <td>...</td>\n",
       "      <td>...</td>\n",
       "      <td>...</td>\n",
       "      <td>...</td>\n",
       "      <td>...</td>\n",
       "    </tr>\n",
       "    <tr>\n",
       "      <th>1175</th>\n",
       "      <td>0.0</td>\n",
       "      <td>0.0</td>\n",
       "      <td>0.000000</td>\n",
       "      <td>0.0</td>\n",
       "      <td>0.000000</td>\n",
       "      <td>0.000000</td>\n",
       "      <td>0.0</td>\n",
       "      <td>0.0</td>\n",
       "      <td>0.000000</td>\n",
       "      <td>0.723687</td>\n",
       "      <td>...</td>\n",
       "      <td>0.0</td>\n",
       "      <td>0.0</td>\n",
       "      <td>0.0</td>\n",
       "      <td>0.0</td>\n",
       "      <td>0.0</td>\n",
       "      <td>0.0</td>\n",
       "      <td>0.000000</td>\n",
       "      <td>0.0</td>\n",
       "      <td>0.000000</td>\n",
       "      <td>0.000000</td>\n",
       "    </tr>\n",
       "    <tr>\n",
       "      <th>1176</th>\n",
       "      <td>0.0</td>\n",
       "      <td>0.0</td>\n",
       "      <td>0.000000</td>\n",
       "      <td>0.0</td>\n",
       "      <td>0.000000</td>\n",
       "      <td>0.000000</td>\n",
       "      <td>0.0</td>\n",
       "      <td>0.0</td>\n",
       "      <td>0.000000</td>\n",
       "      <td>0.000000</td>\n",
       "      <td>...</td>\n",
       "      <td>0.0</td>\n",
       "      <td>0.0</td>\n",
       "      <td>0.0</td>\n",
       "      <td>0.0</td>\n",
       "      <td>0.0</td>\n",
       "      <td>0.0</td>\n",
       "      <td>0.794816</td>\n",
       "      <td>0.0</td>\n",
       "      <td>0.794816</td>\n",
       "      <td>0.000000</td>\n",
       "    </tr>\n",
       "    <tr>\n",
       "      <th>1177</th>\n",
       "      <td>0.0</td>\n",
       "      <td>0.0</td>\n",
       "      <td>0.000000</td>\n",
       "      <td>0.0</td>\n",
       "      <td>0.000000</td>\n",
       "      <td>0.000000</td>\n",
       "      <td>0.0</td>\n",
       "      <td>0.0</td>\n",
       "      <td>0.000000</td>\n",
       "      <td>3.720360</td>\n",
       "      <td>...</td>\n",
       "      <td>0.0</td>\n",
       "      <td>0.0</td>\n",
       "      <td>0.0</td>\n",
       "      <td>0.0</td>\n",
       "      <td>0.0</td>\n",
       "      <td>0.0</td>\n",
       "      <td>0.000000</td>\n",
       "      <td>0.0</td>\n",
       "      <td>1.304348</td>\n",
       "      <td>0.000000</td>\n",
       "    </tr>\n",
       "    <tr>\n",
       "      <th>1178</th>\n",
       "      <td>0.0</td>\n",
       "      <td>0.0</td>\n",
       "      <td>0.000000</td>\n",
       "      <td>0.0</td>\n",
       "      <td>2.142939</td>\n",
       "      <td>1.147353</td>\n",
       "      <td>0.0</td>\n",
       "      <td>0.0</td>\n",
       "      <td>0.000000</td>\n",
       "      <td>0.000000</td>\n",
       "      <td>...</td>\n",
       "      <td>0.0</td>\n",
       "      <td>0.0</td>\n",
       "      <td>0.0</td>\n",
       "      <td>0.0</td>\n",
       "      <td>0.0</td>\n",
       "      <td>0.0</td>\n",
       "      <td>0.000000</td>\n",
       "      <td>0.0</td>\n",
       "      <td>0.000000</td>\n",
       "      <td>0.729924</td>\n",
       "    </tr>\n",
       "    <tr>\n",
       "      <th>1179</th>\n",
       "      <td>0.0</td>\n",
       "      <td>0.0</td>\n",
       "      <td>0.000000</td>\n",
       "      <td>0.0</td>\n",
       "      <td>0.000000</td>\n",
       "      <td>0.000000</td>\n",
       "      <td>0.0</td>\n",
       "      <td>0.0</td>\n",
       "      <td>0.000000</td>\n",
       "      <td>0.000000</td>\n",
       "      <td>...</td>\n",
       "      <td>0.0</td>\n",
       "      <td>0.0</td>\n",
       "      <td>0.0</td>\n",
       "      <td>0.0</td>\n",
       "      <td>0.0</td>\n",
       "      <td>0.0</td>\n",
       "      <td>1.267052</td>\n",
       "      <td>0.0</td>\n",
       "      <td>0.000000</td>\n",
       "      <td>0.000000</td>\n",
       "    </tr>\n",
       "  </tbody>\n",
       "</table>\n",
       "<p>1180 rows × 2000 columns</p>\n",
       "</div>"
      ],
      "text/plain": [
       "      ORM1  ORM2      MMP3  FDCSP    S100A7     FABP7  KRT81  DCN      IL1B  \\\n",
       "0      0.0   0.0  2.080098    0.0  0.000000  0.000000    0.0  0.0  0.000000   \n",
       "1      0.0   0.0  0.000000    0.0  0.000000  1.085195    0.0  0.0  0.000000   \n",
       "2      0.0   0.0  0.000000    0.0  0.000000  0.000000    0.0  0.0  2.003142   \n",
       "3      0.0   0.0  0.000000    0.0  0.000000  0.000000    0.0  0.0  0.000000   \n",
       "4      0.0   0.0  1.233461    0.0  0.000000  0.000000    0.0  0.0  0.000000   \n",
       "...    ...   ...       ...    ...       ...       ...    ...  ...       ...   \n",
       "1175   0.0   0.0  0.000000    0.0  0.000000  0.000000    0.0  0.0  0.000000   \n",
       "1176   0.0   0.0  0.000000    0.0  0.000000  0.000000    0.0  0.0  0.000000   \n",
       "1177   0.0   0.0  0.000000    0.0  0.000000  0.000000    0.0  0.0  0.000000   \n",
       "1178   0.0   0.0  0.000000    0.0  2.142939  1.147353    0.0  0.0  0.000000   \n",
       "1179   0.0   0.0  0.000000    0.0  0.000000  0.000000    0.0  0.0  0.000000   \n",
       "\n",
       "          AREG  ...  RP11.597D13.9  MRGPRX4  C2CD4B  CTD.2012K14.8  CCR10  \\\n",
       "0     0.000000  ...            0.0      0.0     0.0            0.0    0.0   \n",
       "1     0.000000  ...            0.0      0.0     0.0            0.0    0.0   \n",
       "2     0.000000  ...            0.0      0.0     0.0            0.0    0.0   \n",
       "3     1.062247  ...            0.0      0.0     0.0            0.0    0.0   \n",
       "4     1.957659  ...            0.0      0.0     0.0            0.0    0.0   \n",
       "...        ...  ...            ...      ...     ...            ...    ...   \n",
       "1175  0.723687  ...            0.0      0.0     0.0            0.0    0.0   \n",
       "1176  0.000000  ...            0.0      0.0     0.0            0.0    0.0   \n",
       "1177  3.720360  ...            0.0      0.0     0.0            0.0    0.0   \n",
       "1178  0.000000  ...            0.0      0.0     0.0            0.0    0.0   \n",
       "1179  0.000000  ...            0.0      0.0     0.0            0.0    0.0   \n",
       "\n",
       "      FAS   ADORA2B  PRMT9     PHGDH     HOXA4  \n",
       "0     0.0  0.000000    0.0  0.000000  0.000000  \n",
       "1     0.0  0.000000    0.0  0.000000  0.000000  \n",
       "2     0.0  0.000000    0.0  0.000000  0.000000  \n",
       "3     0.0  0.000000    0.0  1.062247  0.000000  \n",
       "4     0.0  0.000000    0.0  0.000000  0.000000  \n",
       "...   ...       ...    ...       ...       ...  \n",
       "1175  0.0  0.000000    0.0  0.000000  0.000000  \n",
       "1176  0.0  0.794816    0.0  0.794816  0.000000  \n",
       "1177  0.0  0.000000    0.0  1.304348  0.000000  \n",
       "1178  0.0  0.000000    0.0  0.000000  0.729924  \n",
       "1179  0.0  1.267052    0.0  0.000000  0.000000  \n",
       "\n",
       "[1180 rows x 2000 columns]"
      ]
     },
     "execution_count": 253,
     "metadata": {},
     "output_type": "execute_result"
    }
   ],
   "source": [
    "X_test"
   ]
  },
  {
   "cell_type": "code",
   "execution_count": 254,
   "metadata": {},
   "outputs": [
    {
     "data": {
      "text/plain": [
       "array([[2],\n",
       "       [0],\n",
       "       [2],\n",
       "       ...,\n",
       "       [1],\n",
       "       [0],\n",
       "       [2]])"
      ]
     },
     "execution_count": 254,
     "metadata": {},
     "output_type": "execute_result"
    }
   ],
   "source": [
    "y_test\n"
   ]
  },
  {
   "cell_type": "markdown",
   "metadata": {
    "collapsed": false,
    "pycharm": {
     "name": "#%% md\n"
    }
   },
   "source": [
    "## NestedCV to optimize each model and compare them"
   ]
  },
  {
   "cell_type": "code",
   "execution_count": 259,
   "metadata": {
    "collapsed": false,
    "pycharm": {
     "name": "#%%\n"
    }
   },
   "outputs": [],
   "source": [
    "from sklearn.metrics import matthews_corrcoef, balanced_accuracy_score, fbeta_score, f1_score, make_scorer\n",
    "from sklearn.model_selection import StratifiedKFold\n",
    "from sklearn.preprocessing import StandardScaler\n",
    "from sklearn.decomposition import PCA\n",
    "from sklearn.decomposition import TruncatedSVD\n",
    "import numpy as np\n",
    "\n",
    "NUM_TRIALS = 5\n",
    "\n",
    "scoring = {'F1_weighted': make_scorer(f1_score, average='weighted'),\n",
    "           'F1_micro': make_scorer(f1_score, average='micro'),\n",
    "           'F1_macro': make_scorer(f1_score, average='macro'),\n",
    "           'F2_weighted': make_scorer(fbeta_score, beta=2, zero_division=0, average='weighted'),\n",
    "           'F2_micro': make_scorer(fbeta_score, beta=2, zero_division=0, average='micro'),\n",
    "           'F2_macro': make_scorer(fbeta_score, beta=2, zero_division=0, average='macro'),\n",
    "           'MCC': make_scorer(matthews_corrcoef),\n",
    "           'Balanced_Accuracy': 'balanced_accuracy',\n",
    "           }\n",
    "\n",
    "def get_outer_scores(y_true, y_pred, results_df, idx):\n",
    "    \"\"\"\n",
    "    Fill the dataframe which will contain all the scores for each experiment of a specific classifier\n",
    "\n",
    "    :param y_true: True labels\n",
    "    :param y_pred: Predicted labels by the best estimator of each inner cv\n",
    "    :param results_df: The dataframe to fill\n",
    "    :param idx: The index the results should be put\n",
    "    :return: The dataframe filled at the indicated index\n",
    "    \"\"\"\n",
    "    results_df['MCC'].loc[idx] = matthews_corrcoef(y_true, y_pred)\n",
    "    results_df['F1_weighted'].loc[idx] = f1_score(y_true, y_pred, average='weighted')\n",
    "    results_df['F1_micro'].loc[idx] = f1_score(y_true, y_pred, average='micro')\n",
    "    results_df['F1_macro'].loc[idx] = f1_score(y_true, y_pred, average='macro')\n",
    "    results_df['F2_weighted'].loc[idx] = fbeta_score(y_true, y_pred, beta=2, zero_division=0, average='weighted')\n",
    "    results_df['F2_micro'].loc[idx] = fbeta_score(y_true, y_pred, beta=2, zero_division=0, average='micro')\n",
    "    results_df['F2_macro'].loc[idx] = f1_score(y_true, y_pred, average='macro')\n",
    "    results_df['Balanced_Accuracy'].loc[idx] = balanced_accuracy_score(y_true, y_pred)\n",
    "\n",
    "    return results_df.copy()\n",
    "\n",
    "def run_ncv(data_x, labels, clf_name):\n",
    "    \"\"\"\n",
    "    Run an NCV experiment for a specific classifier whose name is required as input\n",
    "\n",
    "    :param data_x: Dataframe of samples and features\n",
    "    :param labels: numpy array of labels\n",
    "    :param clf_name: a string indicating the name of the classifier\n",
    "    :return: tuple\n",
    "        Result scores of all experiments in a dataframe (experiment_number x score) and a list with the best parameters\n",
    "        for each experiment just for inspection (DO NOT USE)\n",
    "    \"\"\"\n",
    "    trial_results_df = pd.DataFrame(columns=scoring.keys(), index=[i for i in range(NUM_TRIALS)])\n",
    "    best_params_list = []\n",
    "    for num_trial in range(NUM_TRIALS):\n",
    "        outer_cv = StratifiedKFold(n_splits=2, shuffle=True, random_state=num_trial)\n",
    "        count = 0\n",
    "        for train_ix, test_ix in outer_cv.split(data_x, labels):\n",
    "            x_train, x_test = data_x.loc[train_ix], data_x.loc[test_ix]\n",
    "            y_train, y_test = labels[train_ix], labels[test_ix]\n",
    "\n",
    "            svd = TruncatedSVD(n_components=2).fit(x_train)\n",
    "            x_train = svd.transform(x_train)\n",
    "            x_test = svd.transform(x_test)\n",
    "\n",
    "            seed = num_trial\n",
    "\n",
    "            best_estimator, best_params = optimize_one_model(x_train, y_train, clf_name, seed)\n",
    "\n",
    "            best_params_list.append(best_params)\n",
    "            y_pred = best_estimator.predict(x_test)\n",
    "            trial_results_df = get_outer_scores(y_test, y_pred, trial_results_df.copy(), num_trial+count)\n",
    "            \n",
    "            count += 1\n",
    "\n",
    "    return trial_results_df, best_params_list\n",
    "\n",
    "\n",
    "\n",
    "def run_all_classifiers(data, targets):\n",
    "    \"\"\"\n",
    "    START HERE\n",
    "    Begin the nested cv experiment here. This function iterates over all classifier names and starts a ncv experiment for\n",
    "    each one.\n",
    "\n",
    "    :param data: A dataframe containing the features for all available samples (aka PCs)\n",
    "    :param targets: The labels after turning them into numbers of range 0 to num_classes-1\n",
    "    :return: Tuple\n",
    "        A dictionary with keys the names of the classifiers and values the dataframes containing the scores for each,\n",
    "        A dictionary containing the best params for each experiment and each classifier (Only used for inspection)\n",
    "    \"\"\"\n",
    "    results_dict = {}\n",
    "    params_dict = {}\n",
    "    classifiers = {0: 'svm',\n",
    "                   1: 'lr',\n",
    "                   2: 'gnb',\n",
    "                   3: 'rf',\n",
    "                   4: 'xgb'\n",
    "                   }\n",
    "\n",
    "    for clf in classifiers.values():\n",
    "        print(f'Starting NCV experiment for classifier {clf}')\n",
    "        # res_df = nested_cv(clf, hyperparam_grids[key], x, y)\n",
    "        res_df, best_params = run_ncv(data, targets, clf)\n",
    "        results_dict[clf] = res_df\n",
    "        params_dict[clf] = best_params\n",
    "        # break\n",
    "    return results_dict, params_dict"
   ]
  },
  {
   "cell_type": "markdown",
   "metadata": {
    "collapsed": false,
    "pycharm": {
     "name": "#%% md\n"
    }
   },
   "source": [
    "## Plotting functions"
   ]
  },
  {
   "cell_type": "code",
   "execution_count": 256,
   "metadata": {
    "collapsed": false,
    "pycharm": {
     "name": "#%%\n"
    }
   },
   "outputs": [],
   "source": [
    "def plot_clfs_metrics(results_dict):\n",
    "    fig, axes = plt.subplots(nrows=4, ncols=2, figsize=(6, 9))\n",
    "    my_palette = sns.color_palette(\"Set3\")\n",
    "\n",
    "    row, col = 0, 0\n",
    "    for metric in scoring.keys():\n",
    "        metric_data = pd.DataFrame()\n",
    "        for clf_key, df in results_dict.items():\n",
    "            metric_data[clf_key.upper()] = df[metric]\n",
    "        sns.boxplot(data=metric_data, ax=axes[row][col], width=0.5, palette=my_palette)\n",
    "        axes[row][col].set_title(metric)\n",
    "\n",
    "        col += 1\n",
    "        if col == 2:\n",
    "            col = 0\n",
    "            row += 1\n",
    "\n",
    "    fig.subplots_adjust(hspace=0.6, wspace=0.3)\n",
    "    fig.suptitle('Classifiers metrics comparison after nested CV experiments', fontsize=22)\n",
    "    plt.savefig('metrics_comparison.pdf')\n",
    "    plt.show()\n",
    "\n",
    "\n",
    "def plot_mccs(mcc_dict):\n",
    "    fig, ax = plt.subplots(figsize=(8, 7))\n",
    "    x_labels = [key.upper() for key in mcc_dict.keys()]\n",
    "    y_values = mcc_dict.values()\n",
    "    my_cmap = plt.get_cmap(\"Set3\")\n",
    "    plt.bar(x_labels, y_values, color=my_cmap.colors)\n",
    "    plt.title('MCC mean values comparison between different classifiers', fontsize=22)\n",
    "    ax.xaxis.label.set_size(8)\n",
    "    ax.yaxis.label.set_size(8)\n",
    "    ax.bar_label(ax.containers[0])\n",
    "    plt.xlabel('Classifiers', fontsize=10)\n",
    "    plt.savefig('mcc_compare.pdf')\n",
    "    plt.show()\n",
    "\n",
    "\n",
    "def plot_mean_std_errors(std_dict):\n",
    "    fig, ax = plt.subplots(figsize=(8, 7))\n",
    "    x_labels = [key.upper() for key in std_dict.keys()]\n",
    "    y_values = std_dict.values()\n",
    "    my_cmap = plt.get_cmap(\"Set3\")\n",
    "    plt.bar(x_labels, y_values, color=my_cmap.colors)\n",
    "    plt.title('MCC standard error comparison between different classifiers', fontsize=22)\n",
    "    ax.xaxis.label.set_size(8)\n",
    "    ax.yaxis.label.set_size(8)\n",
    "    ax.bar_label(ax.containers[0])\n",
    "    plt.xlabel('Classifiers', fontsize=10)\n",
    "    plt.savefig('std_e_compare.pdf')\n",
    "    plt.show()\n",
    "\n",
    "\n",
    "def compare_mean_mccs(results_dict):\n",
    "    \"\"\"\n",
    "    For each classifier calculate mean MCC score and standard error\n",
    "    :param results_dict: A dictionary with keys the names of the classifiers and values dataframes with the scores of\n",
    "    the ncv experiments done for each one\n",
    "    :return:\n",
    "    Dictionary for each classifier's mean MCC score\n",
    "    \"\"\"\n",
    "    mccs = {}\n",
    "    std_errors = {}\n",
    "    for key, df in results_dict.items():\n",
    "        mean_mcc = df['MCC'].mean()\n",
    "        std_error_mcc = df['MCC'].std(ddof=1) / np.sqrt(df['MCC'].shape[0])\n",
    "        mccs[key] = mean_mcc\n",
    "        std_errors[key] = std_error_mcc\n",
    "    plot_mccs(mccs)\n",
    "    plot_mean_std_errors(std_errors)\n",
    "    return mccs"
   ]
  },
  {
   "cell_type": "code",
   "execution_count": 233,
   "metadata": {
    "collapsed": false,
    "pycharm": {
     "name": "#%%\n"
    }
   },
   "outputs": [
    {
     "data": {
      "text/plain": [
       "(2752, 2000)"
      ]
     },
     "execution_count": 233,
     "metadata": {},
     "output_type": "execute_result"
    }
   ],
   "source": [
    "X.shape"
   ]
  },
  {
   "cell_type": "code",
   "execution_count": 257,
   "metadata": {
    "collapsed": false,
    "pycharm": {
     "name": "#%%\n"
    }
   },
   "outputs": [
    {
     "data": {
      "text/html": [
       "<div>\n",
       "<style scoped>\n",
       "    .dataframe tbody tr th:only-of-type {\n",
       "        vertical-align: middle;\n",
       "    }\n",
       "\n",
       "    .dataframe tbody tr th {\n",
       "        vertical-align: top;\n",
       "    }\n",
       "\n",
       "    .dataframe thead th {\n",
       "        text-align: right;\n",
       "    }\n",
       "</style>\n",
       "<table border=\"1\" class=\"dataframe\">\n",
       "  <thead>\n",
       "    <tr style=\"text-align: right;\">\n",
       "      <th></th>\n",
       "      <th>ORM1</th>\n",
       "      <th>ORM2</th>\n",
       "      <th>MMP3</th>\n",
       "      <th>FDCSP</th>\n",
       "      <th>S100A7</th>\n",
       "      <th>FABP7</th>\n",
       "      <th>KRT81</th>\n",
       "      <th>DCN</th>\n",
       "      <th>IL1B</th>\n",
       "      <th>AREG</th>\n",
       "      <th>...</th>\n",
       "      <th>RP11.597D13.9</th>\n",
       "      <th>MRGPRX4</th>\n",
       "      <th>C2CD4B</th>\n",
       "      <th>CTD.2012K14.8</th>\n",
       "      <th>CCR10</th>\n",
       "      <th>FAS</th>\n",
       "      <th>ADORA2B</th>\n",
       "      <th>PRMT9</th>\n",
       "      <th>PHGDH</th>\n",
       "      <th>HOXA4</th>\n",
       "    </tr>\n",
       "  </thead>\n",
       "  <tbody>\n",
       "    <tr>\n",
       "      <th>0</th>\n",
       "      <td>0.000000</td>\n",
       "      <td>0.000000</td>\n",
       "      <td>0.0</td>\n",
       "      <td>0.000000</td>\n",
       "      <td>0.0</td>\n",
       "      <td>0.0</td>\n",
       "      <td>0.0</td>\n",
       "      <td>0.0</td>\n",
       "      <td>0.0</td>\n",
       "      <td>0.000000</td>\n",
       "      <td>...</td>\n",
       "      <td>0.0</td>\n",
       "      <td>0.0</td>\n",
       "      <td>0.0</td>\n",
       "      <td>0.0</td>\n",
       "      <td>0.0</td>\n",
       "      <td>0.0</td>\n",
       "      <td>0.0</td>\n",
       "      <td>0.0</td>\n",
       "      <td>0.0</td>\n",
       "      <td>0.0</td>\n",
       "    </tr>\n",
       "    <tr>\n",
       "      <th>1</th>\n",
       "      <td>0.000000</td>\n",
       "      <td>0.000000</td>\n",
       "      <td>0.0</td>\n",
       "      <td>0.000000</td>\n",
       "      <td>0.0</td>\n",
       "      <td>0.0</td>\n",
       "      <td>0.0</td>\n",
       "      <td>0.0</td>\n",
       "      <td>0.0</td>\n",
       "      <td>4.527878</td>\n",
       "      <td>...</td>\n",
       "      <td>0.0</td>\n",
       "      <td>0.0</td>\n",
       "      <td>0.0</td>\n",
       "      <td>0.0</td>\n",
       "      <td>0.0</td>\n",
       "      <td>0.0</td>\n",
       "      <td>0.0</td>\n",
       "      <td>0.0</td>\n",
       "      <td>0.0</td>\n",
       "      <td>0.0</td>\n",
       "    </tr>\n",
       "    <tr>\n",
       "      <th>2</th>\n",
       "      <td>0.000000</td>\n",
       "      <td>0.000000</td>\n",
       "      <td>0.0</td>\n",
       "      <td>0.000000</td>\n",
       "      <td>0.0</td>\n",
       "      <td>0.0</td>\n",
       "      <td>0.0</td>\n",
       "      <td>0.0</td>\n",
       "      <td>0.0</td>\n",
       "      <td>2.581540</td>\n",
       "      <td>...</td>\n",
       "      <td>0.0</td>\n",
       "      <td>0.0</td>\n",
       "      <td>0.0</td>\n",
       "      <td>0.0</td>\n",
       "      <td>0.0</td>\n",
       "      <td>0.0</td>\n",
       "      <td>0.0</td>\n",
       "      <td>0.0</td>\n",
       "      <td>0.0</td>\n",
       "      <td>0.0</td>\n",
       "    </tr>\n",
       "    <tr>\n",
       "      <th>3</th>\n",
       "      <td>5.554186</td>\n",
       "      <td>3.737693</td>\n",
       "      <td>0.0</td>\n",
       "      <td>0.881214</td>\n",
       "      <td>0.0</td>\n",
       "      <td>0.0</td>\n",
       "      <td>0.0</td>\n",
       "      <td>0.0</td>\n",
       "      <td>0.0</td>\n",
       "      <td>0.000000</td>\n",
       "      <td>...</td>\n",
       "      <td>0.0</td>\n",
       "      <td>0.0</td>\n",
       "      <td>0.0</td>\n",
       "      <td>0.0</td>\n",
       "      <td>0.0</td>\n",
       "      <td>0.0</td>\n",
       "      <td>0.0</td>\n",
       "      <td>0.0</td>\n",
       "      <td>0.0</td>\n",
       "      <td>0.0</td>\n",
       "    </tr>\n",
       "  </tbody>\n",
       "</table>\n",
       "<p>4 rows × 2000 columns</p>\n",
       "</div>"
      ],
      "text/plain": [
       "       ORM1      ORM2  MMP3     FDCSP  S100A7  FABP7  KRT81  DCN  IL1B  \\\n",
       "0  0.000000  0.000000   0.0  0.000000     0.0    0.0    0.0  0.0   0.0   \n",
       "1  0.000000  0.000000   0.0  0.000000     0.0    0.0    0.0  0.0   0.0   \n",
       "2  0.000000  0.000000   0.0  0.000000     0.0    0.0    0.0  0.0   0.0   \n",
       "3  5.554186  3.737693   0.0  0.881214     0.0    0.0    0.0  0.0   0.0   \n",
       "\n",
       "       AREG  ...  RP11.597D13.9  MRGPRX4  C2CD4B  CTD.2012K14.8  CCR10  FAS  \\\n",
       "0  0.000000  ...            0.0      0.0     0.0            0.0    0.0  0.0   \n",
       "1  4.527878  ...            0.0      0.0     0.0            0.0    0.0  0.0   \n",
       "2  2.581540  ...            0.0      0.0     0.0            0.0    0.0  0.0   \n",
       "3  0.000000  ...            0.0      0.0     0.0            0.0    0.0  0.0   \n",
       "\n",
       "   ADORA2B  PRMT9  PHGDH  HOXA4  \n",
       "0      0.0    0.0    0.0    0.0  \n",
       "1      0.0    0.0    0.0    0.0  \n",
       "2      0.0    0.0    0.0    0.0  \n",
       "3      0.0    0.0    0.0    0.0  \n",
       "\n",
       "[4 rows x 2000 columns]"
      ]
     },
     "execution_count": 257,
     "metadata": {},
     "output_type": "execute_result"
    }
   ],
   "source": [
    "X.loc[[0,1,2,3]]\n"
   ]
  },
  {
   "cell_type": "code",
   "execution_count": 260,
   "metadata": {
    "collapsed": false,
    "pycharm": {
     "is_executing": true,
     "name": "#%%\n"
    }
   },
   "outputs": [
    {
     "name": "stdout",
     "output_type": "stream",
     "text": [
      "Starting NCV experiment for classifier svm\n"
     ]
    },
    {
     "data": {
      "application/vnd.jupyter.widget-view+json": {
       "model_id": "329b8f9627dd46a4bf94c351bdaff774",
       "version_major": 2,
       "version_minor": 0
      },
      "text/plain": [
       "  0%|          | 0/10 [00:00<?, ?it/s]"
      ]
     },
     "metadata": {},
     "output_type": "display_data"
    },
    {
     "data": {
      "application/vnd.jupyter.widget-view+json": {
       "model_id": "c225dc4709204a8ba3d7c1b74b7f1fda",
       "version_major": 2,
       "version_minor": 0
      },
      "text/plain": [
       "  0%|          | 0/10 [00:00<?, ?it/s]"
      ]
     },
     "metadata": {},
     "output_type": "display_data"
    },
    {
     "data": {
      "application/vnd.jupyter.widget-view+json": {
       "model_id": "f6d7563da8174574b6ff20a630b55115",
       "version_major": 2,
       "version_minor": 0
      },
      "text/plain": [
       "  0%|          | 0/10 [00:00<?, ?it/s]"
      ]
     },
     "metadata": {},
     "output_type": "display_data"
    },
    {
     "data": {
      "application/vnd.jupyter.widget-view+json": {
       "model_id": "3cebe264161346ec8bbcc3103cee3772",
       "version_major": 2,
       "version_minor": 0
      },
      "text/plain": [
       "  0%|          | 0/10 [00:00<?, ?it/s]"
      ]
     },
     "metadata": {},
     "output_type": "display_data"
    },
    {
     "data": {
      "application/vnd.jupyter.widget-view+json": {
       "model_id": "97dc395d9441403ab1f0476feaec4dc0",
       "version_major": 2,
       "version_minor": 0
      },
      "text/plain": [
       "  0%|          | 0/10 [00:00<?, ?it/s]"
      ]
     },
     "metadata": {},
     "output_type": "display_data"
    },
    {
     "data": {
      "application/vnd.jupyter.widget-view+json": {
       "model_id": "5bd76e6d137b4fbf940ae818506fb21c",
       "version_major": 2,
       "version_minor": 0
      },
      "text/plain": [
       "  0%|          | 0/10 [00:00<?, ?it/s]"
      ]
     },
     "metadata": {},
     "output_type": "display_data"
    },
    {
     "data": {
      "application/vnd.jupyter.widget-view+json": {
       "model_id": "a94c2576256a4365a8a6f97490869715",
       "version_major": 2,
       "version_minor": 0
      },
      "text/plain": [
       "  0%|          | 0/10 [00:00<?, ?it/s]"
      ]
     },
     "metadata": {},
     "output_type": "display_data"
    },
    {
     "data": {
      "application/vnd.jupyter.widget-view+json": {
       "model_id": "88c6431d3b77443abdf7d14f8255aea3",
       "version_major": 2,
       "version_minor": 0
      },
      "text/plain": [
       "  0%|          | 0/10 [00:00<?, ?it/s]"
      ]
     },
     "metadata": {},
     "output_type": "display_data"
    },
    {
     "data": {
      "application/vnd.jupyter.widget-view+json": {
       "model_id": "1f5677dd39d348e19fc0542fa47eba42",
       "version_major": 2,
       "version_minor": 0
      },
      "text/plain": [
       "  0%|          | 0/10 [00:00<?, ?it/s]"
      ]
     },
     "metadata": {},
     "output_type": "display_data"
    },
    {
     "data": {
      "application/vnd.jupyter.widget-view+json": {
       "model_id": "0753b44e14dc4b11a0561260757d95af",
       "version_major": 2,
       "version_minor": 0
      },
      "text/plain": [
       "  0%|          | 0/10 [00:00<?, ?it/s]"
      ]
     },
     "metadata": {},
     "output_type": "display_data"
    },
    {
     "name": "stdout",
     "output_type": "stream",
     "text": [
      "Starting NCV experiment for classifier lr\n"
     ]
    },
    {
     "data": {
      "application/vnd.jupyter.widget-view+json": {
       "model_id": "a370a234afa348ff8976daa275fd49e9",
       "version_major": 2,
       "version_minor": 0
      },
      "text/plain": [
       "  0%|          | 0/10 [00:00<?, ?it/s]"
      ]
     },
     "metadata": {},
     "output_type": "display_data"
    },
    {
     "data": {
      "application/vnd.jupyter.widget-view+json": {
       "model_id": "bdc5f59938e14ac4b2e83b8bac07b2d5",
       "version_major": 2,
       "version_minor": 0
      },
      "text/plain": [
       "  0%|          | 0/10 [00:00<?, ?it/s]"
      ]
     },
     "metadata": {},
     "output_type": "display_data"
    },
    {
     "data": {
      "application/vnd.jupyter.widget-view+json": {
       "model_id": "24010668fd604177b4db9e9e96689828",
       "version_major": 2,
       "version_minor": 0
      },
      "text/plain": [
       "  0%|          | 0/10 [00:00<?, ?it/s]"
      ]
     },
     "metadata": {},
     "output_type": "display_data"
    },
    {
     "data": {
      "application/vnd.jupyter.widget-view+json": {
       "model_id": "8b0cd8a5a0614110a84f55c0b33fe1e7",
       "version_major": 2,
       "version_minor": 0
      },
      "text/plain": [
       "  0%|          | 0/10 [00:00<?, ?it/s]"
      ]
     },
     "metadata": {},
     "output_type": "display_data"
    },
    {
     "data": {
      "application/vnd.jupyter.widget-view+json": {
       "model_id": "0a2112470a394f9f8c33af0232f5783a",
       "version_major": 2,
       "version_minor": 0
      },
      "text/plain": [
       "  0%|          | 0/10 [00:00<?, ?it/s]"
      ]
     },
     "metadata": {},
     "output_type": "display_data"
    },
    {
     "data": {
      "application/vnd.jupyter.widget-view+json": {
       "model_id": "6034023bcd2844149d17659548a4438b",
       "version_major": 2,
       "version_minor": 0
      },
      "text/plain": [
       "  0%|          | 0/10 [00:00<?, ?it/s]"
      ]
     },
     "metadata": {},
     "output_type": "display_data"
    },
    {
     "data": {
      "application/vnd.jupyter.widget-view+json": {
       "model_id": "0e2f25eef7ed405f93a7365b7ad19d47",
       "version_major": 2,
       "version_minor": 0
      },
      "text/plain": [
       "  0%|          | 0/10 [00:00<?, ?it/s]"
      ]
     },
     "metadata": {},
     "output_type": "display_data"
    },
    {
     "data": {
      "application/vnd.jupyter.widget-view+json": {
       "model_id": "c57e7bc41e2242f68f2c4e89e4216878",
       "version_major": 2,
       "version_minor": 0
      },
      "text/plain": [
       "  0%|          | 0/10 [00:00<?, ?it/s]"
      ]
     },
     "metadata": {},
     "output_type": "display_data"
    },
    {
     "data": {
      "application/vnd.jupyter.widget-view+json": {
       "model_id": "7162f92310444848a3146573ca649c60",
       "version_major": 2,
       "version_minor": 0
      },
      "text/plain": [
       "  0%|          | 0/10 [00:00<?, ?it/s]"
      ]
     },
     "metadata": {},
     "output_type": "display_data"
    },
    {
     "data": {
      "application/vnd.jupyter.widget-view+json": {
       "model_id": "708c7cf015e449c187949c7e32946750",
       "version_major": 2,
       "version_minor": 0
      },
      "text/plain": [
       "  0%|          | 0/10 [00:00<?, ?it/s]"
      ]
     },
     "metadata": {},
     "output_type": "display_data"
    },
    {
     "name": "stdout",
     "output_type": "stream",
     "text": [
      "Starting NCV experiment for classifier gnb\n"
     ]
    },
    {
     "data": {
      "application/vnd.jupyter.widget-view+json": {
       "model_id": "905684947717410ab6adeff53357799b",
       "version_major": 2,
       "version_minor": 0
      },
      "text/plain": [
       "  0%|          | 0/10 [00:00<?, ?it/s]"
      ]
     },
     "metadata": {},
     "output_type": "display_data"
    },
    {
     "data": {
      "application/vnd.jupyter.widget-view+json": {
       "model_id": "517ce169ef484203b30e798da27ae9c6",
       "version_major": 2,
       "version_minor": 0
      },
      "text/plain": [
       "  0%|          | 0/10 [00:00<?, ?it/s]"
      ]
     },
     "metadata": {},
     "output_type": "display_data"
    },
    {
     "data": {
      "application/vnd.jupyter.widget-view+json": {
       "model_id": "d06c6f8ea9604f76b662c350b7452e44",
       "version_major": 2,
       "version_minor": 0
      },
      "text/plain": [
       "  0%|          | 0/10 [00:00<?, ?it/s]"
      ]
     },
     "metadata": {},
     "output_type": "display_data"
    },
    {
     "data": {
      "application/vnd.jupyter.widget-view+json": {
       "model_id": "8cecbfef179744a6bea0eeafe29009dc",
       "version_major": 2,
       "version_minor": 0
      },
      "text/plain": [
       "  0%|          | 0/10 [00:00<?, ?it/s]"
      ]
     },
     "metadata": {},
     "output_type": "display_data"
    },
    {
     "data": {
      "application/vnd.jupyter.widget-view+json": {
       "model_id": "acfa54f946b44240bdb23ab41abbfb2e",
       "version_major": 2,
       "version_minor": 0
      },
      "text/plain": [
       "  0%|          | 0/10 [00:00<?, ?it/s]"
      ]
     },
     "metadata": {},
     "output_type": "display_data"
    },
    {
     "data": {
      "application/vnd.jupyter.widget-view+json": {
       "model_id": "186042bc3f1a49bcb3dd12751bc0ce5c",
       "version_major": 2,
       "version_minor": 0
      },
      "text/plain": [
       "  0%|          | 0/10 [00:00<?, ?it/s]"
      ]
     },
     "metadata": {},
     "output_type": "display_data"
    },
    {
     "data": {
      "application/vnd.jupyter.widget-view+json": {
       "model_id": "16cc0daa993f48da81ab1723379cbd3c",
       "version_major": 2,
       "version_minor": 0
      },
      "text/plain": [
       "  0%|          | 0/10 [00:00<?, ?it/s]"
      ]
     },
     "metadata": {},
     "output_type": "display_data"
    },
    {
     "data": {
      "application/vnd.jupyter.widget-view+json": {
       "model_id": "4ebb3bd728f44d5ab0d699891c0deac1",
       "version_major": 2,
       "version_minor": 0
      },
      "text/plain": [
       "  0%|          | 0/10 [00:00<?, ?it/s]"
      ]
     },
     "metadata": {},
     "output_type": "display_data"
    },
    {
     "data": {
      "application/vnd.jupyter.widget-view+json": {
       "model_id": "d6a8918378bf4765a0afc0a0f6dcae47",
       "version_major": 2,
       "version_minor": 0
      },
      "text/plain": [
       "  0%|          | 0/10 [00:00<?, ?it/s]"
      ]
     },
     "metadata": {},
     "output_type": "display_data"
    },
    {
     "data": {
      "application/vnd.jupyter.widget-view+json": {
       "model_id": "ca89ed1db74746b7b11d069ae3bc55c9",
       "version_major": 2,
       "version_minor": 0
      },
      "text/plain": [
       "  0%|          | 0/10 [00:00<?, ?it/s]"
      ]
     },
     "metadata": {},
     "output_type": "display_data"
    },
    {
     "name": "stdout",
     "output_type": "stream",
     "text": [
      "Starting NCV experiment for classifier rf\n"
     ]
    },
    {
     "data": {
      "application/vnd.jupyter.widget-view+json": {
       "model_id": "9b7dd276d0a84348bebac4111b57dd16",
       "version_major": 2,
       "version_minor": 0
      },
      "text/plain": [
       "  0%|          | 0/10 [00:00<?, ?it/s]"
      ]
     },
     "metadata": {},
     "output_type": "display_data"
    },
    {
     "data": {
      "application/vnd.jupyter.widget-view+json": {
       "model_id": "818bbd469dd04092ad36ffe0a585f3aa",
       "version_major": 2,
       "version_minor": 0
      },
      "text/plain": [
       "  0%|          | 0/10 [00:00<?, ?it/s]"
      ]
     },
     "metadata": {},
     "output_type": "display_data"
    },
    {
     "data": {
      "application/vnd.jupyter.widget-view+json": {
       "model_id": "26b333d0cc3843bcb37db363a35a5506",
       "version_major": 2,
       "version_minor": 0
      },
      "text/plain": [
       "  0%|          | 0/10 [00:00<?, ?it/s]"
      ]
     },
     "metadata": {},
     "output_type": "display_data"
    },
    {
     "data": {
      "application/vnd.jupyter.widget-view+json": {
       "model_id": "80b196ed9c7041a686b47ae3c86f4053",
       "version_major": 2,
       "version_minor": 0
      },
      "text/plain": [
       "  0%|          | 0/10 [00:00<?, ?it/s]"
      ]
     },
     "metadata": {},
     "output_type": "display_data"
    },
    {
     "data": {
      "application/vnd.jupyter.widget-view+json": {
       "model_id": "989f5df3d3dc4a6eb69d0de634d64fd4",
       "version_major": 2,
       "version_minor": 0
      },
      "text/plain": [
       "  0%|          | 0/10 [00:00<?, ?it/s]"
      ]
     },
     "metadata": {},
     "output_type": "display_data"
    },
    {
     "data": {
      "application/vnd.jupyter.widget-view+json": {
       "model_id": "036f8527a6f74e6b8e51d825f83c7452",
       "version_major": 2,
       "version_minor": 0
      },
      "text/plain": [
       "  0%|          | 0/10 [00:00<?, ?it/s]"
      ]
     },
     "metadata": {},
     "output_type": "display_data"
    },
    {
     "data": {
      "application/vnd.jupyter.widget-view+json": {
       "model_id": "5376ce9cef174739816eeb47add27bd9",
       "version_major": 2,
       "version_minor": 0
      },
      "text/plain": [
       "  0%|          | 0/10 [00:00<?, ?it/s]"
      ]
     },
     "metadata": {},
     "output_type": "display_data"
    },
    {
     "data": {
      "application/vnd.jupyter.widget-view+json": {
       "model_id": "f7fe5c905a314dd9b7f6b3c56f098803",
       "version_major": 2,
       "version_minor": 0
      },
      "text/plain": [
       "  0%|          | 0/10 [00:00<?, ?it/s]"
      ]
     },
     "metadata": {},
     "output_type": "display_data"
    },
    {
     "data": {
      "application/vnd.jupyter.widget-view+json": {
       "model_id": "c0b445da547e44e8b57ca7ea3330b093",
       "version_major": 2,
       "version_minor": 0
      },
      "text/plain": [
       "  0%|          | 0/10 [00:00<?, ?it/s]"
      ]
     },
     "metadata": {},
     "output_type": "display_data"
    },
    {
     "data": {
      "application/vnd.jupyter.widget-view+json": {
       "model_id": "1a1aa2a0292f4dab906fab6e7cb8014b",
       "version_major": 2,
       "version_minor": 0
      },
      "text/plain": [
       "  0%|          | 0/10 [00:00<?, ?it/s]"
      ]
     },
     "metadata": {},
     "output_type": "display_data"
    },
    {
     "name": "stdout",
     "output_type": "stream",
     "text": [
      "Starting NCV experiment for classifier xgb\n"
     ]
    },
    {
     "data": {
      "application/vnd.jupyter.widget-view+json": {
       "model_id": "4de555ae7d9d41e2ad6ea4db0663339d",
       "version_major": 2,
       "version_minor": 0
      },
      "text/plain": [
       "  0%|          | 0/10 [00:00<?, ?it/s]"
      ]
     },
     "metadata": {},
     "output_type": "display_data"
    },
    {
     "data": {
      "application/vnd.jupyter.widget-view+json": {
       "model_id": "bae2c506bfc64406a79b137f9079047f",
       "version_major": 2,
       "version_minor": 0
      },
      "text/plain": [
       "  0%|          | 0/10 [00:00<?, ?it/s]"
      ]
     },
     "metadata": {},
     "output_type": "display_data"
    },
    {
     "data": {
      "application/vnd.jupyter.widget-view+json": {
       "model_id": "92901033255f4f6d88e7d95f5fa2b13c",
       "version_major": 2,
       "version_minor": 0
      },
      "text/plain": [
       "  0%|          | 0/10 [00:00<?, ?it/s]"
      ]
     },
     "metadata": {},
     "output_type": "display_data"
    },
    {
     "data": {
      "application/vnd.jupyter.widget-view+json": {
       "model_id": "bd2ed1dbd0674a03b472612bfea20d2e",
       "version_major": 2,
       "version_minor": 0
      },
      "text/plain": [
       "  0%|          | 0/10 [00:00<?, ?it/s]"
      ]
     },
     "metadata": {},
     "output_type": "display_data"
    },
    {
     "data": {
      "application/vnd.jupyter.widget-view+json": {
       "model_id": "29c0c66da6684f66afe9800e774a40d7",
       "version_major": 2,
       "version_minor": 0
      },
      "text/plain": [
       "  0%|          | 0/10 [00:00<?, ?it/s]"
      ]
     },
     "metadata": {},
     "output_type": "display_data"
    },
    {
     "data": {
      "application/vnd.jupyter.widget-view+json": {
       "model_id": "2ff8417374ad44f68fa614c717c934c4",
       "version_major": 2,
       "version_minor": 0
      },
      "text/plain": [
       "  0%|          | 0/10 [00:00<?, ?it/s]"
      ]
     },
     "metadata": {},
     "output_type": "display_data"
    },
    {
     "data": {
      "application/vnd.jupyter.widget-view+json": {
       "model_id": "5b91216ed51c42f9ba687df81b0955e3",
       "version_major": 2,
       "version_minor": 0
      },
      "text/plain": [
       "  0%|          | 0/10 [00:00<?, ?it/s]"
      ]
     },
     "metadata": {},
     "output_type": "display_data"
    },
    {
     "data": {
      "application/vnd.jupyter.widget-view+json": {
       "model_id": "8325770c3cb84ed4bbaf13f2679b72e8",
       "version_major": 2,
       "version_minor": 0
      },
      "text/plain": [
       "  0%|          | 0/10 [00:00<?, ?it/s]"
      ]
     },
     "metadata": {},
     "output_type": "display_data"
    },
    {
     "data": {
      "application/vnd.jupyter.widget-view+json": {
       "model_id": "3350cfc100cf4d9aa8b2e7fa250cf992",
       "version_major": 2,
       "version_minor": 0
      },
      "text/plain": [
       "  0%|          | 0/10 [00:00<?, ?it/s]"
      ]
     },
     "metadata": {},
     "output_type": "display_data"
    },
    {
     "data": {
      "application/vnd.jupyter.widget-view+json": {
       "model_id": "6d4bde0825644c67b2c1aa360b631d82",
       "version_major": 2,
       "version_minor": 0
      },
      "text/plain": [
       "  0%|          | 0/10 [00:00<?, ?it/s]"
      ]
     },
     "metadata": {},
     "output_type": "display_data"
    }
   ],
   "source": [
    "results, params_dict = run_all_classifiers(X,y)"
   ]
  },
  {
   "cell_type": "code",
   "execution_count": 261,
   "metadata": {
    "collapsed": false,
    "pycharm": {
     "name": "#%%\n"
    }
   },
   "outputs": [
    {
     "name": "stdout",
     "output_type": "stream",
     "text": [
      "Params for classifier svm\n",
      "Params of trial 0: {'c_svm': 0.9248840608082484, 'gamma_svm': 0.0466315197734678}\n",
      "Params of trial 1: {'c_svm': 0.5201141652285012, 'gamma_svm': 0.1306641194703117}\n",
      "Params of trial 2: {'c_svm': 0.2287615474303675, 'gamma_svm': 0.1879690124158539}\n",
      "Params of trial 3: {'c_svm': 0.03642890181115167, 'gamma_svm': 0.04605432309978583}\n",
      "Params of trial 4: {'c_svm': 0.3385388123144828, 'gamma_svm': 0.007650966990846948}\n",
      "Params of trial 5: {'c_svm': 0.5994217838042019, 'gamma_svm': 0.15231444928063664}\n",
      "Params of trial 6: {'c_svm': 0.3889620785236843, 'gamma_svm': 0.08138237029181158}\n",
      "Params of trial 7: {'c_svm': 0.4036041891020976, 'gamma_svm': 0.009300040205408951}\n",
      "Params of trial 8: {'c_svm': 0.2856558331385788, 'gamma_svm': 0.5828028264895104}\n",
      "Params of trial 9: {'c_svm': 0.3174488920067102, 'gamma_svm': 0.04700041968359603}\n",
      "Params for classifier lr\n",
      "Params of trial 0: {'lr_solver': 'lbfgs', 'lr_c': 0.5347775556820256}\n",
      "Params of trial 1: {'lr_solver': 'lbfgs', 'lr_c': 0.5585843837001055}\n",
      "Params of trial 2: {'lr_solver': 'newton-cg', 'lr_c': 0.09516962697456291}\n",
      "Params of trial 3: {'lr_solver': 'saga', 'lr_c': 0.6942109869836066}\n",
      "Params of trial 4: {'lr_solver': 'lbfgs', 'lr_c': 0.019886989980487185}\n",
      "Params of trial 5: {'lr_solver': 'newton-cg', 'lr_c': 0.26790859999000294}\n",
      "Params of trial 6: {'lr_solver': 'newton-cg', 'lr_c': 0.5105335874437292}\n",
      "Params of trial 7: {'lr_solver': 'newton-cg', 'lr_c': 0.22073953697145166}\n",
      "Params of trial 8: {'lr_solver': 'newton-cg', 'lr_c': 0.9238553005117478}\n",
      "Params of trial 9: {'lr_solver': 'newton-cg', 'lr_c': 0.6760776563138292}\n",
      "Params for classifier gnb\n",
      "Params of trial 0: {'gnb_var_smoothing': 4.454600035780284e-10}\n",
      "Params of trial 1: {'gnb_var_smoothing': 3.001482500252981e-10}\n",
      "Params of trial 2: {'gnb_var_smoothing': 4.837085858912362e-10}\n",
      "Params of trial 3: {'gnb_var_smoothing': 1.5069178930465356e-08}\n",
      "Params of trial 4: {'gnb_var_smoothing': 2.2797088895511623e-10}\n",
      "Params of trial 5: {'gnb_var_smoothing': 8.173706002683333e-08}\n",
      "Params of trial 6: {'gnb_var_smoothing': 2.9449480530680577e-10}\n",
      "Params of trial 7: {'gnb_var_smoothing': 4.644647118603019e-08}\n",
      "Params of trial 8: {'gnb_var_smoothing': 1.5554620282258353e-07}\n",
      "Params of trial 9: {'gnb_var_smoothing': 9.135331862260513e-07}\n",
      "Params for classifier rf\n",
      "Params of trial 0: {'rf_n_estimators': 21, 'rf_max_depth': 3, 'rf_max_features': None}\n",
      "Params of trial 1: {'rf_n_estimators': 193, 'rf_max_depth': 3, 'rf_max_features': None}\n",
      "Params of trial 2: {'rf_n_estimators': 91, 'rf_max_depth': 2, 'rf_max_features': None}\n",
      "Params of trial 3: {'rf_n_estimators': 136, 'rf_max_depth': 2, 'rf_max_features': None}\n",
      "Params of trial 4: {'rf_n_estimators': 115, 'rf_max_depth': 2, 'rf_max_features': None}\n",
      "Params of trial 5: {'rf_n_estimators': 189, 'rf_max_depth': 2, 'rf_max_features': None}\n",
      "Params of trial 6: {'rf_n_estimators': 163, 'rf_max_depth': 3, 'rf_max_features': None}\n",
      "Params of trial 7: {'rf_n_estimators': 28, 'rf_max_depth': 2, 'rf_max_features': None}\n",
      "Params of trial 8: {'rf_n_estimators': 122, 'rf_max_depth': 3, 'rf_max_features': None}\n",
      "Params of trial 9: {'rf_n_estimators': 140, 'rf_max_depth': 3, 'rf_max_features': None}\n",
      "Params for classifier xgb\n",
      "Params of trial 0: {'xgb_eta': 0.436939993300996, 'xgb_gamma': 17, 'xgb_min_child_weight': 4.765261273448612, 'xgb_subsample': 0.5681470089411543, 'xgb_max_leaves': 33}\n",
      "Params of trial 1: {'xgb_eta': 0.22938917752817994, 'xgb_gamma': 2, 'xgb_min_child_weight': 3.359923294990332, 'xgb_subsample': 0.17577846002647546, 'xgb_max_leaves': 57}\n",
      "Params of trial 2: {'xgb_eta': 0.0757888802099625, 'xgb_gamma': 10, 'xgb_min_child_weight': 1.8380150278765217, 'xgb_subsample': 0.8347125740791806, 'xgb_max_leaves': 86}\n",
      "Params of trial 3: {'xgb_eta': 0.17597671061625797, 'xgb_gamma': 6, 'xgb_min_child_weight': 1.3451284362783396, 'xgb_subsample': 0.9832814745761952, 'xgb_max_leaves': 10}\n",
      "Params of trial 4: {'xgb_eta': 0.1637700209168279, 'xgb_gamma': 4, 'xgb_min_child_weight': 1.3627560163297052, 'xgb_subsample': 0.449979366186568, 'xgb_max_leaves': 38}\n",
      "Params of trial 5: {'xgb_eta': 0.2072174071954957, 'xgb_gamma': 4, 'xgb_min_child_weight': 1.7952177464032493, 'xgb_subsample': 0.43686296654937395, 'xgb_max_leaves': 12}\n",
      "Params of trial 6: {'xgb_eta': 0.24507350578511283, 'xgb_gamma': 7, 'xgb_min_child_weight': 2.448058009805073, 'xgb_subsample': 0.8652879750147123, 'xgb_max_leaves': 19}\n",
      "Params of trial 7: {'xgb_eta': 0.3923527745013224, 'xgb_gamma': 22, 'xgb_min_child_weight': 2.113748985236088, 'xgb_subsample': 0.8329749560991416, 'xgb_max_leaves': 61}\n",
      "Params of trial 8: {'xgb_eta': 0.010856159996716186, 'xgb_gamma': 10, 'xgb_min_child_weight': 1.642871980577657, 'xgb_subsample': 0.8326684613917597, 'xgb_max_leaves': 39}\n",
      "Params of trial 9: {'xgb_eta': 0.2145733525609837, 'xgb_gamma': 5, 'xgb_min_child_weight': 0.1777866587046545, 'xgb_subsample': 0.9325794562517766, 'xgb_max_leaves': 83}\n"
     ]
    }
   ],
   "source": [
    "for key, value in params_dict.items():\n",
    "    print(f'Params for classifier {key}')\n",
    "    for idx, param in enumerate(value):\n",
    "        print(f'Params of trial {idx}: {param}')"
   ]
  },
  {
   "cell_type": "markdown",
   "metadata": {
    "collapsed": false
   },
   "source": [
    "## Check MCC scores to compare algorithms"
   ]
  },
  {
   "cell_type": "code",
   "execution_count": 262,
   "metadata": {
    "collapsed": false,
    "pycharm": {
     "name": "#%%\n"
    }
   },
   "outputs": [
    {
     "data": {
      "image/png": "[encoded data removed]",
      "text/plain": [
       "<Figure size 576x504 with 1 Axes>"
      ]
     },
     "metadata": {
      "needs_background": "light"
     },
     "output_type": "display_data"
    },
    {
     "data": {
      "image/png": "[encoded data removed]",
      "text/plain": [
       "<Figure size 576x504 with 1 Axes>"
      ]
     },
     "metadata": {
      "needs_background": "light"
     },
     "output_type": "display_data"
    },
    {
     "data": {
      "text/plain": [
       "{'svm': 0.8768677917587757,\n",
       " 'lr': 0.7677649144444316,\n",
       " 'gnb': 0.8620606450521656,\n",
       " 'rf': 0.8735998958736534,\n",
       " 'xgb': 0.8722719697830262}"
      ]
     },
     "execution_count": 262,
     "metadata": {},
     "output_type": "execute_result"
    }
   ],
   "source": [
    "mccs_dict = compare_mean_mccs(results)\n",
    "mccs_dict"
   ]
  },
  {
   "cell_type": "markdown",
   "metadata": {
    "collapsed": false
   },
   "source": [
    "## Check boxplots of all other collected metrics for all classifiers"
   ]
  },
  {
   "cell_type": "code",
   "execution_count": 242,
   "metadata": {
    "collapsed": false,
    "pycharm": {
     "name": "#%%\n"
    }
   },
   "outputs": [
    {
     "data": {
      "image/png": "[encoded data removed]",
      "text/plain": [
       "<Figure size 432x648 with 8 Axes>"
      ]
     },
     "metadata": {
      "needs_background": "light"
     },
     "output_type": "display_data"
    }
   ],
   "source": [
    "plot_clfs_metrics(results)"
   ]
  }
 ],
 "metadata": {
  "kernelspec": {
   "display_name": "Python 3",
   "language": "python",
   "name": "python3"
  },
  "language_info": {
   "codemirror_mode": {
    "name": "ipython",
    "version": 3
   },
   "file_extension": ".py",
   "mimetype": "text/x-python",
   "name": "python",
   "nbconvert_exporter": "python",
   "pygments_lexer": "ipython3",
   "version": "3.9.12"
  }
 },
 "nbformat": 4,
 "nbformat_minor": 0
}
