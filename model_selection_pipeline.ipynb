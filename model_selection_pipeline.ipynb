{
 "cells": [
  {
   "cell_type": "code",
   "execution_count": 1,
   "metadata": {},
   "outputs": [
    {
     "name": "stdout",
     "output_type": "stream",
     "text": [
      "Collecting xgboost\n",
      "  Using cached xgboost-1.7.6-py3-none-win_amd64.whl (70.9 MB)\n",
      "Requirement already satisfied: numpy in c:\\users\\greg\\anaconda3\\lib\\site-packages (from xgboost) (1.21.6)\n",
      "Requirement already satisfied: scipy in c:\\users\\greg\\anaconda3\\lib\\site-packages (from xgboost) (1.10.1)\n",
      "Installing collected packages: xgboost\n",
      "Successfully installed xgboost-1.7.6\n"
     ]
    },
    {
     "name": "stderr",
     "output_type": "stream",
     "text": [
      "WARNING: You are using pip version 22.0.4; however, version 23.1.2 is available.\n",
      "You should consider upgrading via the 'c:\\Users\\greg\\anaconda3\\python.exe -m pip install --upgrade pip' command.\n"
     ]
    }
   ],
   "source": [
    "##if using Anaconda (on Anaconda terminal)\n",
    "#conda install -c conda-forge xgboost \n",
    "#pip install xgboost\n",
    "\n",
    "import sys\n",
    "!{sys.executable} -m pip install xgboost"
   ]
  },
  {
   "cell_type": "code",
   "execution_count": 1,
   "metadata": {
    "collapsed": true
   },
   "outputs": [],
   "source": [
    "from sklearn.exceptions import ConvergenceWarning\n",
    "%load_ext autoreload\n",
    "%autoreload 2\n",
    "\n",
    "import pandas as pd\n",
    "import os\n",
    "import matplotlib.pyplot as plt\n",
    "import seaborn as sns\n",
    "\n",
    "from preprocessing import split_X_y\n",
    "from model_optimization import optimize_one_model\n",
    "\n",
    "from sklearn.model_selection import train_test_split\n",
    "from sklearn.preprocessing import StandardScaler\n",
    "\n",
    "import warnings\n",
    "warnings.filterwarnings('ignore', category=ConvergenceWarning)"
   ]
  },
  {
   "cell_type": "code",
   "execution_count": 2,
   "metadata": {
    "collapsed": false,
    "pycharm": {
     "name": "#%%\n"
    }
   },
   "outputs": [],
   "source": [
    "DATA_DIR = os.path.join(os.getcwd(), 'data')"
   ]
  },
  {
   "cell_type": "markdown",
   "metadata": {
    "collapsed": false
   },
   "source": [
    "## Import Labeled Data"
   ]
  },
  {
   "cell_type": "code",
   "execution_count": 3,
   "metadata": {
    "collapsed": false,
    "pycharm": {
     "name": "#%%\n"
    }
   },
   "outputs": [
    {
     "data": {
      "text/html": [
       "<div>\n",
       "<style scoped>\n",
       "    .dataframe tbody tr th:only-of-type {\n",
       "        vertical-align: middle;\n",
       "    }\n",
       "\n",
       "    .dataframe tbody tr th {\n",
       "        vertical-align: top;\n",
       "    }\n",
       "\n",
       "    .dataframe thead th {\n",
       "        text-align: right;\n",
       "    }\n",
       "</style>\n",
       "<table border=\"1\" class=\"dataframe\">\n",
       "  <thead>\n",
       "    <tr style=\"text-align: right;\">\n",
       "      <th></th>\n",
       "      <th>ORM1</th>\n",
       "      <th>ORM2</th>\n",
       "      <th>MMP3</th>\n",
       "      <th>FDCSP</th>\n",
       "      <th>S100A7</th>\n",
       "      <th>FABP7</th>\n",
       "      <th>KRT81</th>\n",
       "      <th>DCN</th>\n",
       "      <th>IL1B</th>\n",
       "      <th>AREG</th>\n",
       "      <th>...</th>\n",
       "      <th>MRGPRX4</th>\n",
       "      <th>C2CD4B</th>\n",
       "      <th>CTD.2012K14.8</th>\n",
       "      <th>CCR10</th>\n",
       "      <th>FAS</th>\n",
       "      <th>ADORA2B</th>\n",
       "      <th>PRMT9</th>\n",
       "      <th>PHGDH</th>\n",
       "      <th>HOXA4</th>\n",
       "      <th>cluster_label</th>\n",
       "    </tr>\n",
       "  </thead>\n",
       "  <tbody>\n",
       "    <tr>\n",
       "      <th>0</th>\n",
       "      <td>0.00000</td>\n",
       "      <td>0.000000</td>\n",
       "      <td>0.000000</td>\n",
       "      <td>0.0</td>\n",
       "      <td>0.000000</td>\n",
       "      <td>0.000000</td>\n",
       "      <td>0.000000</td>\n",
       "      <td>0.0</td>\n",
       "      <td>0.000000</td>\n",
       "      <td>0.000000</td>\n",
       "      <td>...</td>\n",
       "      <td>0.0</td>\n",
       "      <td>0.0</td>\n",
       "      <td>0.0</td>\n",
       "      <td>0.0</td>\n",
       "      <td>0.000000</td>\n",
       "      <td>0.000000</td>\n",
       "      <td>0.0</td>\n",
       "      <td>0.000000</td>\n",
       "      <td>0.0</td>\n",
       "      <td>2</td>\n",
       "    </tr>\n",
       "    <tr>\n",
       "      <th>1</th>\n",
       "      <td>0.00000</td>\n",
       "      <td>0.000000</td>\n",
       "      <td>0.000000</td>\n",
       "      <td>0.0</td>\n",
       "      <td>0.000000</td>\n",
       "      <td>0.000000</td>\n",
       "      <td>0.000000</td>\n",
       "      <td>0.0</td>\n",
       "      <td>0.000000</td>\n",
       "      <td>0.000000</td>\n",
       "      <td>...</td>\n",
       "      <td>0.0</td>\n",
       "      <td>0.0</td>\n",
       "      <td>0.0</td>\n",
       "      <td>0.0</td>\n",
       "      <td>1.159752</td>\n",
       "      <td>1.159752</td>\n",
       "      <td>0.0</td>\n",
       "      <td>0.000000</td>\n",
       "      <td>0.0</td>\n",
       "      <td>2</td>\n",
       "    </tr>\n",
       "    <tr>\n",
       "      <th>2</th>\n",
       "      <td>0.00000</td>\n",
       "      <td>0.000000</td>\n",
       "      <td>0.000000</td>\n",
       "      <td>0.0</td>\n",
       "      <td>0.000000</td>\n",
       "      <td>0.000000</td>\n",
       "      <td>0.000000</td>\n",
       "      <td>0.0</td>\n",
       "      <td>0.000000</td>\n",
       "      <td>0.000000</td>\n",
       "      <td>...</td>\n",
       "      <td>0.0</td>\n",
       "      <td>0.0</td>\n",
       "      <td>0.0</td>\n",
       "      <td>0.0</td>\n",
       "      <td>0.000000</td>\n",
       "      <td>0.000000</td>\n",
       "      <td>0.0</td>\n",
       "      <td>0.000000</td>\n",
       "      <td>0.0</td>\n",
       "      <td>1</td>\n",
       "    </tr>\n",
       "    <tr>\n",
       "      <th>3</th>\n",
       "      <td>0.00000</td>\n",
       "      <td>0.000000</td>\n",
       "      <td>0.000000</td>\n",
       "      <td>0.0</td>\n",
       "      <td>0.000000</td>\n",
       "      <td>0.000000</td>\n",
       "      <td>0.000000</td>\n",
       "      <td>0.0</td>\n",
       "      <td>1.231624</td>\n",
       "      <td>0.000000</td>\n",
       "      <td>...</td>\n",
       "      <td>0.0</td>\n",
       "      <td>0.0</td>\n",
       "      <td>0.0</td>\n",
       "      <td>0.0</td>\n",
       "      <td>1.231624</td>\n",
       "      <td>0.000000</td>\n",
       "      <td>0.0</td>\n",
       "      <td>0.962358</td>\n",
       "      <td>0.0</td>\n",
       "      <td>3</td>\n",
       "    </tr>\n",
       "    <tr>\n",
       "      <th>4</th>\n",
       "      <td>0.00000</td>\n",
       "      <td>0.000000</td>\n",
       "      <td>0.000000</td>\n",
       "      <td>0.0</td>\n",
       "      <td>0.000000</td>\n",
       "      <td>0.000000</td>\n",
       "      <td>0.000000</td>\n",
       "      <td>0.0</td>\n",
       "      <td>0.000000</td>\n",
       "      <td>0.000000</td>\n",
       "      <td>...</td>\n",
       "      <td>0.0</td>\n",
       "      <td>0.0</td>\n",
       "      <td>0.0</td>\n",
       "      <td>0.0</td>\n",
       "      <td>0.000000</td>\n",
       "      <td>0.000000</td>\n",
       "      <td>0.0</td>\n",
       "      <td>1.198887</td>\n",
       "      <td>0.0</td>\n",
       "      <td>1</td>\n",
       "    </tr>\n",
       "    <tr>\n",
       "      <th>...</th>\n",
       "      <td>...</td>\n",
       "      <td>...</td>\n",
       "      <td>...</td>\n",
       "      <td>...</td>\n",
       "      <td>...</td>\n",
       "      <td>...</td>\n",
       "      <td>...</td>\n",
       "      <td>...</td>\n",
       "      <td>...</td>\n",
       "      <td>...</td>\n",
       "      <td>...</td>\n",
       "      <td>...</td>\n",
       "      <td>...</td>\n",
       "      <td>...</td>\n",
       "      <td>...</td>\n",
       "      <td>...</td>\n",
       "      <td>...</td>\n",
       "      <td>...</td>\n",
       "      <td>...</td>\n",
       "      <td>...</td>\n",
       "      <td>...</td>\n",
       "    </tr>\n",
       "    <tr>\n",
       "      <th>4009</th>\n",
       "      <td>0.00000</td>\n",
       "      <td>0.000000</td>\n",
       "      <td>0.000000</td>\n",
       "      <td>0.0</td>\n",
       "      <td>0.000000</td>\n",
       "      <td>1.382332</td>\n",
       "      <td>3.756037</td>\n",
       "      <td>0.0</td>\n",
       "      <td>0.000000</td>\n",
       "      <td>0.000000</td>\n",
       "      <td>...</td>\n",
       "      <td>0.0</td>\n",
       "      <td>0.0</td>\n",
       "      <td>0.0</td>\n",
       "      <td>0.0</td>\n",
       "      <td>0.000000</td>\n",
       "      <td>0.000000</td>\n",
       "      <td>0.0</td>\n",
       "      <td>1.382332</td>\n",
       "      <td>0.0</td>\n",
       "      <td>0</td>\n",
       "    </tr>\n",
       "    <tr>\n",
       "      <th>4010</th>\n",
       "      <td>0.00000</td>\n",
       "      <td>0.000000</td>\n",
       "      <td>3.002545</td>\n",
       "      <td>0.0</td>\n",
       "      <td>0.000000</td>\n",
       "      <td>0.000000</td>\n",
       "      <td>0.000000</td>\n",
       "      <td>0.0</td>\n",
       "      <td>1.139851</td>\n",
       "      <td>1.139851</td>\n",
       "      <td>...</td>\n",
       "      <td>0.0</td>\n",
       "      <td>0.0</td>\n",
       "      <td>0.0</td>\n",
       "      <td>0.0</td>\n",
       "      <td>1.139851</td>\n",
       "      <td>0.000000</td>\n",
       "      <td>0.0</td>\n",
       "      <td>0.000000</td>\n",
       "      <td>0.0</td>\n",
       "      <td>3</td>\n",
       "    </tr>\n",
       "    <tr>\n",
       "      <th>4011</th>\n",
       "      <td>0.00000</td>\n",
       "      <td>0.000000</td>\n",
       "      <td>0.000000</td>\n",
       "      <td>0.0</td>\n",
       "      <td>1.729568</td>\n",
       "      <td>1.199697</td>\n",
       "      <td>0.000000</td>\n",
       "      <td>0.0</td>\n",
       "      <td>0.000000</td>\n",
       "      <td>0.000000</td>\n",
       "      <td>...</td>\n",
       "      <td>0.0</td>\n",
       "      <td>0.0</td>\n",
       "      <td>0.0</td>\n",
       "      <td>0.0</td>\n",
       "      <td>0.000000</td>\n",
       "      <td>0.000000</td>\n",
       "      <td>0.0</td>\n",
       "      <td>0.000000</td>\n",
       "      <td>0.0</td>\n",
       "      <td>0</td>\n",
       "    </tr>\n",
       "    <tr>\n",
       "      <th>4012</th>\n",
       "      <td>2.44477</td>\n",
       "      <td>2.946953</td>\n",
       "      <td>0.000000</td>\n",
       "      <td>0.0</td>\n",
       "      <td>2.142408</td>\n",
       "      <td>0.000000</td>\n",
       "      <td>0.000000</td>\n",
       "      <td>0.0</td>\n",
       "      <td>0.000000</td>\n",
       "      <td>0.000000</td>\n",
       "      <td>...</td>\n",
       "      <td>0.0</td>\n",
       "      <td>0.0</td>\n",
       "      <td>0.0</td>\n",
       "      <td>0.0</td>\n",
       "      <td>1.388285</td>\n",
       "      <td>0.000000</td>\n",
       "      <td>0.0</td>\n",
       "      <td>0.000000</td>\n",
       "      <td>0.0</td>\n",
       "      <td>6</td>\n",
       "    </tr>\n",
       "    <tr>\n",
       "      <th>4013</th>\n",
       "      <td>0.00000</td>\n",
       "      <td>0.000000</td>\n",
       "      <td>3.970905</td>\n",
       "      <td>0.0</td>\n",
       "      <td>0.000000</td>\n",
       "      <td>0.000000</td>\n",
       "      <td>0.000000</td>\n",
       "      <td>0.0</td>\n",
       "      <td>0.000000</td>\n",
       "      <td>2.015445</td>\n",
       "      <td>...</td>\n",
       "      <td>0.0</td>\n",
       "      <td>0.0</td>\n",
       "      <td>0.0</td>\n",
       "      <td>0.0</td>\n",
       "      <td>0.000000</td>\n",
       "      <td>0.000000</td>\n",
       "      <td>0.0</td>\n",
       "      <td>0.000000</td>\n",
       "      <td>0.0</td>\n",
       "      <td>2</td>\n",
       "    </tr>\n",
       "  </tbody>\n",
       "</table>\n",
       "<p>4014 rows × 2001 columns</p>\n",
       "</div>"
      ],
      "text/plain": [
       "         ORM1      ORM2      MMP3  FDCSP    S100A7     FABP7     KRT81  DCN  \\\n",
       "0     0.00000  0.000000  0.000000    0.0  0.000000  0.000000  0.000000  0.0   \n",
       "1     0.00000  0.000000  0.000000    0.0  0.000000  0.000000  0.000000  0.0   \n",
       "2     0.00000  0.000000  0.000000    0.0  0.000000  0.000000  0.000000  0.0   \n",
       "3     0.00000  0.000000  0.000000    0.0  0.000000  0.000000  0.000000  0.0   \n",
       "4     0.00000  0.000000  0.000000    0.0  0.000000  0.000000  0.000000  0.0   \n",
       "...       ...       ...       ...    ...       ...       ...       ...  ...   \n",
       "4009  0.00000  0.000000  0.000000    0.0  0.000000  1.382332  3.756037  0.0   \n",
       "4010  0.00000  0.000000  3.002545    0.0  0.000000  0.000000  0.000000  0.0   \n",
       "4011  0.00000  0.000000  0.000000    0.0  1.729568  1.199697  0.000000  0.0   \n",
       "4012  2.44477  2.946953  0.000000    0.0  2.142408  0.000000  0.000000  0.0   \n",
       "4013  0.00000  0.000000  3.970905    0.0  0.000000  0.000000  0.000000  0.0   \n",
       "\n",
       "          IL1B      AREG  ...  MRGPRX4  C2CD4B  CTD.2012K14.8  CCR10  \\\n",
       "0     0.000000  0.000000  ...      0.0     0.0            0.0    0.0   \n",
       "1     0.000000  0.000000  ...      0.0     0.0            0.0    0.0   \n",
       "2     0.000000  0.000000  ...      0.0     0.0            0.0    0.0   \n",
       "3     1.231624  0.000000  ...      0.0     0.0            0.0    0.0   \n",
       "4     0.000000  0.000000  ...      0.0     0.0            0.0    0.0   \n",
       "...        ...       ...  ...      ...     ...            ...    ...   \n",
       "4009  0.000000  0.000000  ...      0.0     0.0            0.0    0.0   \n",
       "4010  1.139851  1.139851  ...      0.0     0.0            0.0    0.0   \n",
       "4011  0.000000  0.000000  ...      0.0     0.0            0.0    0.0   \n",
       "4012  0.000000  0.000000  ...      0.0     0.0            0.0    0.0   \n",
       "4013  0.000000  2.015445  ...      0.0     0.0            0.0    0.0   \n",
       "\n",
       "           FAS   ADORA2B  PRMT9     PHGDH  HOXA4  cluster_label  \n",
       "0     0.000000  0.000000    0.0  0.000000    0.0              2  \n",
       "1     1.159752  1.159752    0.0  0.000000    0.0              2  \n",
       "2     0.000000  0.000000    0.0  0.000000    0.0              1  \n",
       "3     1.231624  0.000000    0.0  0.962358    0.0              3  \n",
       "4     0.000000  0.000000    0.0  1.198887    0.0              1  \n",
       "...        ...       ...    ...       ...    ...            ...  \n",
       "4009  0.000000  0.000000    0.0  1.382332    0.0              0  \n",
       "4010  1.139851  0.000000    0.0  0.000000    0.0              3  \n",
       "4011  0.000000  0.000000    0.0  0.000000    0.0              0  \n",
       "4012  1.388285  0.000000    0.0  0.000000    0.0              6  \n",
       "4013  0.000000  0.000000    0.0  0.000000    0.0              2  \n",
       "\n",
       "[4014 rows x 2001 columns]"
      ]
     },
     "execution_count": 3,
     "metadata": {},
     "output_type": "execute_result"
    }
   ],
   "source": [
    "#data = pd.read_csv(os.path.join(DATA_DIR, 'ind4_clustering_results.csv.gz'), compression='gzip')\n",
    "data = pd.read_csv(os.path.join(DATA_DIR, 'ind4_var_genes_with_clusters.csv.gz'), compression='gzip')\n",
    "data"
   ]
  },
  {
   "cell_type": "code",
   "execution_count": 4,
   "metadata": {
    "collapsed": false,
    "pycharm": {
     "name": "#%%\n"
    }
   },
   "outputs": [
    {
     "name": "stdout",
     "output_type": "stream",
     "text": [
      "0    990\n",
      "1    941\n",
      "2    608\n",
      "3    479\n",
      "4    355\n",
      "5    342\n",
      "6    217\n",
      "7     66\n",
      "8     16\n",
      "Name: cluster_label, dtype: int64\n"
     ]
    },
    {
     "data": {
      "image/png": "[encoded data removed]",
      "text/plain": [
       "<Figure size 576x432 with 1 Axes>"
      ]
     },
     "metadata": {
      "needs_background": "light"
     },
     "output_type": "display_data"
    }
   ],
   "source": [
    "cluster_counts = data['cluster_label'].value_counts()\n",
    "print(cluster_counts)\n",
    "\n",
    "plt.figure(figsize=(8, 6))\n",
    "sns.barplot(x=cluster_counts.index, y=cluster_counts.values)\n",
    "plt.xlabel('Cluster Label')\n",
    "plt.ylabel('Count')\n",
    "plt.title('Value Counts of Cluster Labels')\n",
    "plt.show()"
   ]
  },
  {
   "cell_type": "code",
   "execution_count": 5,
   "metadata": {
    "collapsed": false,
    "pycharm": {
     "name": "#%%\n"
    }
   },
   "outputs": [
    {
     "data": {
      "text/html": [
       "<div>\n",
       "<style scoped>\n",
       "    .dataframe tbody tr th:only-of-type {\n",
       "        vertical-align: middle;\n",
       "    }\n",
       "\n",
       "    .dataframe tbody tr th {\n",
       "        vertical-align: top;\n",
       "    }\n",
       "\n",
       "    .dataframe thead th {\n",
       "        text-align: right;\n",
       "    }\n",
       "</style>\n",
       "<table border=\"1\" class=\"dataframe\">\n",
       "  <thead>\n",
       "    <tr style=\"text-align: right;\">\n",
       "      <th></th>\n",
       "      <th>RP11.34P13.3</th>\n",
       "      <th>FAM138A</th>\n",
       "      <th>OR4F5</th>\n",
       "      <th>RP11.34P13.7</th>\n",
       "      <th>RP11.34P13.8</th>\n",
       "      <th>RP11.34P13.14</th>\n",
       "      <th>RP11.34P13.9</th>\n",
       "      <th>FO538757.3</th>\n",
       "      <th>FO538757.2</th>\n",
       "      <th>AP006222.2</th>\n",
       "      <th>...</th>\n",
       "      <th>AC007325.2</th>\n",
       "      <th>BX072566.1</th>\n",
       "      <th>AL354822.1</th>\n",
       "      <th>AC023491.2</th>\n",
       "      <th>AC004556.1</th>\n",
       "      <th>AC233755.2</th>\n",
       "      <th>AC233755.1</th>\n",
       "      <th>AC240274.1</th>\n",
       "      <th>AC213203.1</th>\n",
       "      <th>FAM231B</th>\n",
       "    </tr>\n",
       "  </thead>\n",
       "  <tbody>\n",
       "    <tr>\n",
       "      <th>count</th>\n",
       "      <td>4014.0</td>\n",
       "      <td>4014.0</td>\n",
       "      <td>4014.0</td>\n",
       "      <td>4014.000000</td>\n",
       "      <td>4014.0</td>\n",
       "      <td>4014.0</td>\n",
       "      <td>4014.0</td>\n",
       "      <td>4014.0</td>\n",
       "      <td>4014.000000</td>\n",
       "      <td>4014.000000</td>\n",
       "      <td>...</td>\n",
       "      <td>4014.000000</td>\n",
       "      <td>4014.0</td>\n",
       "      <td>4014.000000</td>\n",
       "      <td>4014.0</td>\n",
       "      <td>4014.000000</td>\n",
       "      <td>4014.0</td>\n",
       "      <td>4014.0</td>\n",
       "      <td>4014.000000</td>\n",
       "      <td>4014.0</td>\n",
       "      <td>4014.0</td>\n",
       "    </tr>\n",
       "    <tr>\n",
       "      <th>mean</th>\n",
       "      <td>0.0</td>\n",
       "      <td>0.0</td>\n",
       "      <td>0.0</td>\n",
       "      <td>0.001144</td>\n",
       "      <td>0.0</td>\n",
       "      <td>0.0</td>\n",
       "      <td>0.0</td>\n",
       "      <td>0.0</td>\n",
       "      <td>0.058993</td>\n",
       "      <td>0.124318</td>\n",
       "      <td>...</td>\n",
       "      <td>0.000572</td>\n",
       "      <td>0.0</td>\n",
       "      <td>0.007943</td>\n",
       "      <td>0.0</td>\n",
       "      <td>0.000825</td>\n",
       "      <td>0.0</td>\n",
       "      <td>0.0</td>\n",
       "      <td>0.005737</td>\n",
       "      <td>0.0</td>\n",
       "      <td>0.0</td>\n",
       "    </tr>\n",
       "    <tr>\n",
       "      <th>std</th>\n",
       "      <td>0.0</td>\n",
       "      <td>0.0</td>\n",
       "      <td>0.0</td>\n",
       "      <td>0.030489</td>\n",
       "      <td>0.0</td>\n",
       "      <td>0.0</td>\n",
       "      <td>0.0</td>\n",
       "      <td>0.0</td>\n",
       "      <td>0.231657</td>\n",
       "      <td>0.332214</td>\n",
       "      <td>...</td>\n",
       "      <td>0.020913</td>\n",
       "      <td>0.0</td>\n",
       "      <td>0.089159</td>\n",
       "      <td>0.0</td>\n",
       "      <td>0.030620</td>\n",
       "      <td>0.0</td>\n",
       "      <td>0.0</td>\n",
       "      <td>0.082589</td>\n",
       "      <td>0.0</td>\n",
       "      <td>0.0</td>\n",
       "    </tr>\n",
       "    <tr>\n",
       "      <th>min</th>\n",
       "      <td>0.0</td>\n",
       "      <td>0.0</td>\n",
       "      <td>0.0</td>\n",
       "      <td>0.000000</td>\n",
       "      <td>0.0</td>\n",
       "      <td>0.0</td>\n",
       "      <td>0.0</td>\n",
       "      <td>0.0</td>\n",
       "      <td>0.000000</td>\n",
       "      <td>0.000000</td>\n",
       "      <td>...</td>\n",
       "      <td>0.000000</td>\n",
       "      <td>0.0</td>\n",
       "      <td>0.000000</td>\n",
       "      <td>0.0</td>\n",
       "      <td>0.000000</td>\n",
       "      <td>0.0</td>\n",
       "      <td>0.0</td>\n",
       "      <td>0.000000</td>\n",
       "      <td>0.0</td>\n",
       "      <td>0.0</td>\n",
       "    </tr>\n",
       "    <tr>\n",
       "      <th>25%</th>\n",
       "      <td>0.0</td>\n",
       "      <td>0.0</td>\n",
       "      <td>0.0</td>\n",
       "      <td>0.000000</td>\n",
       "      <td>0.0</td>\n",
       "      <td>0.0</td>\n",
       "      <td>0.0</td>\n",
       "      <td>0.0</td>\n",
       "      <td>0.000000</td>\n",
       "      <td>0.000000</td>\n",
       "      <td>...</td>\n",
       "      <td>0.000000</td>\n",
       "      <td>0.0</td>\n",
       "      <td>0.000000</td>\n",
       "      <td>0.0</td>\n",
       "      <td>0.000000</td>\n",
       "      <td>0.0</td>\n",
       "      <td>0.0</td>\n",
       "      <td>0.000000</td>\n",
       "      <td>0.0</td>\n",
       "      <td>0.0</td>\n",
       "    </tr>\n",
       "    <tr>\n",
       "      <th>50%</th>\n",
       "      <td>0.0</td>\n",
       "      <td>0.0</td>\n",
       "      <td>0.0</td>\n",
       "      <td>0.000000</td>\n",
       "      <td>0.0</td>\n",
       "      <td>0.0</td>\n",
       "      <td>0.0</td>\n",
       "      <td>0.0</td>\n",
       "      <td>0.000000</td>\n",
       "      <td>0.000000</td>\n",
       "      <td>...</td>\n",
       "      <td>0.000000</td>\n",
       "      <td>0.0</td>\n",
       "      <td>0.000000</td>\n",
       "      <td>0.0</td>\n",
       "      <td>0.000000</td>\n",
       "      <td>0.0</td>\n",
       "      <td>0.0</td>\n",
       "      <td>0.000000</td>\n",
       "      <td>0.0</td>\n",
       "      <td>0.0</td>\n",
       "    </tr>\n",
       "    <tr>\n",
       "      <th>75%</th>\n",
       "      <td>0.0</td>\n",
       "      <td>0.0</td>\n",
       "      <td>0.0</td>\n",
       "      <td>0.000000</td>\n",
       "      <td>0.0</td>\n",
       "      <td>0.0</td>\n",
       "      <td>0.0</td>\n",
       "      <td>0.0</td>\n",
       "      <td>0.000000</td>\n",
       "      <td>0.000000</td>\n",
       "      <td>...</td>\n",
       "      <td>0.000000</td>\n",
       "      <td>0.0</td>\n",
       "      <td>0.000000</td>\n",
       "      <td>0.0</td>\n",
       "      <td>0.000000</td>\n",
       "      <td>0.0</td>\n",
       "      <td>0.0</td>\n",
       "      <td>0.000000</td>\n",
       "      <td>0.0</td>\n",
       "      <td>0.0</td>\n",
       "    </tr>\n",
       "    <tr>\n",
       "      <th>max</th>\n",
       "      <td>0.0</td>\n",
       "      <td>0.0</td>\n",
       "      <td>0.0</td>\n",
       "      <td>1.121108</td>\n",
       "      <td>0.0</td>\n",
       "      <td>0.0</td>\n",
       "      <td>0.0</td>\n",
       "      <td>0.0</td>\n",
       "      <td>1.765982</td>\n",
       "      <td>1.760245</td>\n",
       "      <td>...</td>\n",
       "      <td>0.801262</td>\n",
       "      <td>0.0</td>\n",
       "      <td>1.446900</td>\n",
       "      <td>0.0</td>\n",
       "      <td>1.306308</td>\n",
       "      <td>0.0</td>\n",
       "      <td>0.0</td>\n",
       "      <td>1.648982</td>\n",
       "      <td>0.0</td>\n",
       "      <td>0.0</td>\n",
       "    </tr>\n",
       "  </tbody>\n",
       "</table>\n",
       "<p>8 rows × 33694 columns</p>\n",
       "</div>"
      ],
      "text/plain": [
       "       RP11.34P13.3  FAM138A   OR4F5  RP11.34P13.7  RP11.34P13.8  \\\n",
       "count        4014.0   4014.0  4014.0   4014.000000        4014.0   \n",
       "mean            0.0      0.0     0.0      0.001144           0.0   \n",
       "std             0.0      0.0     0.0      0.030489           0.0   \n",
       "min             0.0      0.0     0.0      0.000000           0.0   \n",
       "25%             0.0      0.0     0.0      0.000000           0.0   \n",
       "50%             0.0      0.0     0.0      0.000000           0.0   \n",
       "75%             0.0      0.0     0.0      0.000000           0.0   \n",
       "max             0.0      0.0     0.0      1.121108           0.0   \n",
       "\n",
       "       RP11.34P13.14  RP11.34P13.9  FO538757.3   FO538757.2   AP006222.2  ...  \\\n",
       "count         4014.0        4014.0      4014.0  4014.000000  4014.000000  ...   \n",
       "mean             0.0           0.0         0.0     0.058993     0.124318  ...   \n",
       "std              0.0           0.0         0.0     0.231657     0.332214  ...   \n",
       "min              0.0           0.0         0.0     0.000000     0.000000  ...   \n",
       "25%              0.0           0.0         0.0     0.000000     0.000000  ...   \n",
       "50%              0.0           0.0         0.0     0.000000     0.000000  ...   \n",
       "75%              0.0           0.0         0.0     0.000000     0.000000  ...   \n",
       "max              0.0           0.0         0.0     1.765982     1.760245  ...   \n",
       "\n",
       "        AC007325.2  BX072566.1   AL354822.1  AC023491.2   AC004556.1  \\\n",
       "count  4014.000000      4014.0  4014.000000      4014.0  4014.000000   \n",
       "mean      0.000572         0.0     0.007943         0.0     0.000825   \n",
       "std       0.020913         0.0     0.089159         0.0     0.030620   \n",
       "min       0.000000         0.0     0.000000         0.0     0.000000   \n",
       "25%       0.000000         0.0     0.000000         0.0     0.000000   \n",
       "50%       0.000000         0.0     0.000000         0.0     0.000000   \n",
       "75%       0.000000         0.0     0.000000         0.0     0.000000   \n",
       "max       0.801262         0.0     1.446900         0.0     1.306308   \n",
       "\n",
       "       AC233755.2  AC233755.1   AC240274.1  AC213203.1  FAM231B  \n",
       "count      4014.0      4014.0  4014.000000      4014.0   4014.0  \n",
       "mean          0.0         0.0     0.005737         0.0      0.0  \n",
       "std           0.0         0.0     0.082589         0.0      0.0  \n",
       "min           0.0         0.0     0.000000         0.0      0.0  \n",
       "25%           0.0         0.0     0.000000         0.0      0.0  \n",
       "50%           0.0         0.0     0.000000         0.0      0.0  \n",
       "75%           0.0         0.0     0.000000         0.0      0.0  \n",
       "max           0.0         0.0     1.648982         0.0      0.0  \n",
       "\n",
       "[8 rows x 33694 columns]"
      ]
     },
     "execution_count": 5,
     "metadata": {},
     "output_type": "execute_result"
    }
   ],
   "source": [
    "data.describe()"
   ]
  },
  {
   "cell_type": "code",
   "execution_count": 8,
   "metadata": {
    "collapsed": false,
    "pycharm": {
     "name": "#%%\n"
    }
   },
   "outputs": [
    {
     "name": "stdout",
     "output_type": "stream",
     "text": [
      "<class 'pandas.core.frame.DataFrame'>\n",
      "RangeIndex: 4014 entries, 0 to 4013\n",
      "Columns: 33695 entries, RP11.34P13.3 to cluster_label\n",
      "dtypes: float64(20518), int64(13176), object(1)\n",
      "memory usage: 1.0+ GB\n"
     ]
    }
   ],
   "source": [
    "data.info()"
   ]
  },
  {
   "attachments": {},
   "cell_type": "markdown",
   "metadata": {
    "collapsed": false
   },
   "source": [
    "## PreProcessing\n",
    "\n",
    "Split X, y and turn labels from string to int with values in range (0, n_classes-1). Also isolate a 30% part of the data as a hold out test set, that will be used to test the generalization ability of the final model."
   ]
  },
  {
   "cell_type": "code",
   "execution_count": 12,
   "metadata": {},
   "outputs": [],
   "source": [
    "data = data[~data['cluster_label'].str.contains('Unclassified')]\n",
    "data = data.reset_index(drop=True)"
   ]
  },
  {
   "cell_type": "code",
   "execution_count": 13,
   "metadata": {
    "collapsed": false,
    "pycharm": {
     "name": "#%%\n"
    }
   },
   "outputs": [
    {
     "data": {
      "text/html": [
       "<div>\n",
       "<style scoped>\n",
       "    .dataframe tbody tr th:only-of-type {\n",
       "        vertical-align: middle;\n",
       "    }\n",
       "\n",
       "    .dataframe tbody tr th {\n",
       "        vertical-align: top;\n",
       "    }\n",
       "\n",
       "    .dataframe thead th {\n",
       "        text-align: right;\n",
       "    }\n",
       "</style>\n",
       "<table border=\"1\" class=\"dataframe\">\n",
       "  <thead>\n",
       "    <tr style=\"text-align: right;\">\n",
       "      <th></th>\n",
       "      <th>RP11.34P13.3</th>\n",
       "      <th>FAM138A</th>\n",
       "      <th>OR4F5</th>\n",
       "      <th>RP11.34P13.7</th>\n",
       "      <th>RP11.34P13.8</th>\n",
       "      <th>RP11.34P13.14</th>\n",
       "      <th>RP11.34P13.9</th>\n",
       "      <th>FO538757.3</th>\n",
       "      <th>FO538757.2</th>\n",
       "      <th>AP006222.2</th>\n",
       "      <th>...</th>\n",
       "      <th>AC007325.2</th>\n",
       "      <th>BX072566.1</th>\n",
       "      <th>AL354822.1</th>\n",
       "      <th>AC023491.2</th>\n",
       "      <th>AC004556.1</th>\n",
       "      <th>AC233755.2</th>\n",
       "      <th>AC233755.1</th>\n",
       "      <th>AC240274.1</th>\n",
       "      <th>AC213203.1</th>\n",
       "      <th>FAM231B</th>\n",
       "    </tr>\n",
       "  </thead>\n",
       "  <tbody>\n",
       "    <tr>\n",
       "      <th>0</th>\n",
       "      <td>0</td>\n",
       "      <td>0</td>\n",
       "      <td>0</td>\n",
       "      <td>0.0</td>\n",
       "      <td>0</td>\n",
       "      <td>0</td>\n",
       "      <td>0</td>\n",
       "      <td>0</td>\n",
       "      <td>0.0</td>\n",
       "      <td>0.000000</td>\n",
       "      <td>...</td>\n",
       "      <td>0.0</td>\n",
       "      <td>0</td>\n",
       "      <td>0.0</td>\n",
       "      <td>0</td>\n",
       "      <td>0.0</td>\n",
       "      <td>0</td>\n",
       "      <td>0</td>\n",
       "      <td>0.0</td>\n",
       "      <td>0</td>\n",
       "      <td>0</td>\n",
       "    </tr>\n",
       "    <tr>\n",
       "      <th>1</th>\n",
       "      <td>0</td>\n",
       "      <td>0</td>\n",
       "      <td>0</td>\n",
       "      <td>0.0</td>\n",
       "      <td>0</td>\n",
       "      <td>0</td>\n",
       "      <td>0</td>\n",
       "      <td>0</td>\n",
       "      <td>0.0</td>\n",
       "      <td>0.000000</td>\n",
       "      <td>...</td>\n",
       "      <td>0.0</td>\n",
       "      <td>0</td>\n",
       "      <td>0.0</td>\n",
       "      <td>0</td>\n",
       "      <td>0.0</td>\n",
       "      <td>0</td>\n",
       "      <td>0</td>\n",
       "      <td>0.0</td>\n",
       "      <td>0</td>\n",
       "      <td>0</td>\n",
       "    </tr>\n",
       "    <tr>\n",
       "      <th>2</th>\n",
       "      <td>0</td>\n",
       "      <td>0</td>\n",
       "      <td>0</td>\n",
       "      <td>0.0</td>\n",
       "      <td>0</td>\n",
       "      <td>0</td>\n",
       "      <td>0</td>\n",
       "      <td>0</td>\n",
       "      <td>0.0</td>\n",
       "      <td>0.000000</td>\n",
       "      <td>...</td>\n",
       "      <td>0.0</td>\n",
       "      <td>0</td>\n",
       "      <td>0.0</td>\n",
       "      <td>0</td>\n",
       "      <td>0.0</td>\n",
       "      <td>0</td>\n",
       "      <td>0</td>\n",
       "      <td>0.0</td>\n",
       "      <td>0</td>\n",
       "      <td>0</td>\n",
       "    </tr>\n",
       "    <tr>\n",
       "      <th>3</th>\n",
       "      <td>0</td>\n",
       "      <td>0</td>\n",
       "      <td>0</td>\n",
       "      <td>0.0</td>\n",
       "      <td>0</td>\n",
       "      <td>0</td>\n",
       "      <td>0</td>\n",
       "      <td>0</td>\n",
       "      <td>0.0</td>\n",
       "      <td>0.592736</td>\n",
       "      <td>...</td>\n",
       "      <td>0.0</td>\n",
       "      <td>0</td>\n",
       "      <td>0.0</td>\n",
       "      <td>0</td>\n",
       "      <td>0.0</td>\n",
       "      <td>0</td>\n",
       "      <td>0</td>\n",
       "      <td>0.0</td>\n",
       "      <td>0</td>\n",
       "      <td>0</td>\n",
       "    </tr>\n",
       "    <tr>\n",
       "      <th>4</th>\n",
       "      <td>0</td>\n",
       "      <td>0</td>\n",
       "      <td>0</td>\n",
       "      <td>0.0</td>\n",
       "      <td>0</td>\n",
       "      <td>0</td>\n",
       "      <td>0</td>\n",
       "      <td>0</td>\n",
       "      <td>0.0</td>\n",
       "      <td>0.000000</td>\n",
       "      <td>...</td>\n",
       "      <td>0.0</td>\n",
       "      <td>0</td>\n",
       "      <td>0.0</td>\n",
       "      <td>0</td>\n",
       "      <td>0.0</td>\n",
       "      <td>0</td>\n",
       "      <td>0</td>\n",
       "      <td>0.0</td>\n",
       "      <td>0</td>\n",
       "      <td>0</td>\n",
       "    </tr>\n",
       "    <tr>\n",
       "      <th>...</th>\n",
       "      <td>...</td>\n",
       "      <td>...</td>\n",
       "      <td>...</td>\n",
       "      <td>...</td>\n",
       "      <td>...</td>\n",
       "      <td>...</td>\n",
       "      <td>...</td>\n",
       "      <td>...</td>\n",
       "      <td>...</td>\n",
       "      <td>...</td>\n",
       "      <td>...</td>\n",
       "      <td>...</td>\n",
       "      <td>...</td>\n",
       "      <td>...</td>\n",
       "      <td>...</td>\n",
       "      <td>...</td>\n",
       "      <td>...</td>\n",
       "      <td>...</td>\n",
       "      <td>...</td>\n",
       "      <td>...</td>\n",
       "      <td>...</td>\n",
       "    </tr>\n",
       "    <tr>\n",
       "      <th>3927</th>\n",
       "      <td>0</td>\n",
       "      <td>0</td>\n",
       "      <td>0</td>\n",
       "      <td>0.0</td>\n",
       "      <td>0</td>\n",
       "      <td>0</td>\n",
       "      <td>0</td>\n",
       "      <td>0</td>\n",
       "      <td>0.0</td>\n",
       "      <td>1.382332</td>\n",
       "      <td>...</td>\n",
       "      <td>0.0</td>\n",
       "      <td>0</td>\n",
       "      <td>0.0</td>\n",
       "      <td>0</td>\n",
       "      <td>0.0</td>\n",
       "      <td>0</td>\n",
       "      <td>0</td>\n",
       "      <td>0.0</td>\n",
       "      <td>0</td>\n",
       "      <td>0</td>\n",
       "    </tr>\n",
       "    <tr>\n",
       "      <th>3928</th>\n",
       "      <td>0</td>\n",
       "      <td>0</td>\n",
       "      <td>0</td>\n",
       "      <td>0.0</td>\n",
       "      <td>0</td>\n",
       "      <td>0</td>\n",
       "      <td>0</td>\n",
       "      <td>0</td>\n",
       "      <td>0.0</td>\n",
       "      <td>0.000000</td>\n",
       "      <td>...</td>\n",
       "      <td>0.0</td>\n",
       "      <td>0</td>\n",
       "      <td>0.0</td>\n",
       "      <td>0</td>\n",
       "      <td>0.0</td>\n",
       "      <td>0</td>\n",
       "      <td>0</td>\n",
       "      <td>0.0</td>\n",
       "      <td>0</td>\n",
       "      <td>0</td>\n",
       "    </tr>\n",
       "    <tr>\n",
       "      <th>3929</th>\n",
       "      <td>0</td>\n",
       "      <td>0</td>\n",
       "      <td>0</td>\n",
       "      <td>0.0</td>\n",
       "      <td>0</td>\n",
       "      <td>0</td>\n",
       "      <td>0</td>\n",
       "      <td>0</td>\n",
       "      <td>0.0</td>\n",
       "      <td>0.000000</td>\n",
       "      <td>...</td>\n",
       "      <td>0.0</td>\n",
       "      <td>0</td>\n",
       "      <td>0.0</td>\n",
       "      <td>0</td>\n",
       "      <td>0.0</td>\n",
       "      <td>0</td>\n",
       "      <td>0</td>\n",
       "      <td>0.0</td>\n",
       "      <td>0</td>\n",
       "      <td>0</td>\n",
       "    </tr>\n",
       "    <tr>\n",
       "      <th>3930</th>\n",
       "      <td>0</td>\n",
       "      <td>0</td>\n",
       "      <td>0</td>\n",
       "      <td>0.0</td>\n",
       "      <td>0</td>\n",
       "      <td>0</td>\n",
       "      <td>0</td>\n",
       "      <td>0</td>\n",
       "      <td>0.0</td>\n",
       "      <td>0.000000</td>\n",
       "      <td>...</td>\n",
       "      <td>0.0</td>\n",
       "      <td>0</td>\n",
       "      <td>0.0</td>\n",
       "      <td>0</td>\n",
       "      <td>0.0</td>\n",
       "      <td>0</td>\n",
       "      <td>0</td>\n",
       "      <td>0.0</td>\n",
       "      <td>0</td>\n",
       "      <td>0</td>\n",
       "    </tr>\n",
       "    <tr>\n",
       "      <th>3931</th>\n",
       "      <td>0</td>\n",
       "      <td>0</td>\n",
       "      <td>0</td>\n",
       "      <td>0.0</td>\n",
       "      <td>0</td>\n",
       "      <td>0</td>\n",
       "      <td>0</td>\n",
       "      <td>0</td>\n",
       "      <td>0.0</td>\n",
       "      <td>0.000000</td>\n",
       "      <td>...</td>\n",
       "      <td>0.0</td>\n",
       "      <td>0</td>\n",
       "      <td>0.0</td>\n",
       "      <td>0</td>\n",
       "      <td>0.0</td>\n",
       "      <td>0</td>\n",
       "      <td>0</td>\n",
       "      <td>0.0</td>\n",
       "      <td>0</td>\n",
       "      <td>0</td>\n",
       "    </tr>\n",
       "  </tbody>\n",
       "</table>\n",
       "<p>3932 rows × 33694 columns</p>\n",
       "</div>"
      ],
      "text/plain": [
       "      RP11.34P13.3  FAM138A  OR4F5  RP11.34P13.7  RP11.34P13.8  RP11.34P13.14  \\\n",
       "0                0        0      0           0.0             0              0   \n",
       "1                0        0      0           0.0             0              0   \n",
       "2                0        0      0           0.0             0              0   \n",
       "3                0        0      0           0.0             0              0   \n",
       "4                0        0      0           0.0             0              0   \n",
       "...            ...      ...    ...           ...           ...            ...   \n",
       "3927             0        0      0           0.0             0              0   \n",
       "3928             0        0      0           0.0             0              0   \n",
       "3929             0        0      0           0.0             0              0   \n",
       "3930             0        0      0           0.0             0              0   \n",
       "3931             0        0      0           0.0             0              0   \n",
       "\n",
       "      RP11.34P13.9  FO538757.3  FO538757.2  AP006222.2  ...  AC007325.2  \\\n",
       "0                0           0         0.0    0.000000  ...         0.0   \n",
       "1                0           0         0.0    0.000000  ...         0.0   \n",
       "2                0           0         0.0    0.000000  ...         0.0   \n",
       "3                0           0         0.0    0.592736  ...         0.0   \n",
       "4                0           0         0.0    0.000000  ...         0.0   \n",
       "...            ...         ...         ...         ...  ...         ...   \n",
       "3927             0           0         0.0    1.382332  ...         0.0   \n",
       "3928             0           0         0.0    0.000000  ...         0.0   \n",
       "3929             0           0         0.0    0.000000  ...         0.0   \n",
       "3930             0           0         0.0    0.000000  ...         0.0   \n",
       "3931             0           0         0.0    0.000000  ...         0.0   \n",
       "\n",
       "      BX072566.1  AL354822.1  AC023491.2  AC004556.1  AC233755.2  AC233755.1  \\\n",
       "0              0         0.0           0         0.0           0           0   \n",
       "1              0         0.0           0         0.0           0           0   \n",
       "2              0         0.0           0         0.0           0           0   \n",
       "3              0         0.0           0         0.0           0           0   \n",
       "4              0         0.0           0         0.0           0           0   \n",
       "...          ...         ...         ...         ...         ...         ...   \n",
       "3927           0         0.0           0         0.0           0           0   \n",
       "3928           0         0.0           0         0.0           0           0   \n",
       "3929           0         0.0           0         0.0           0           0   \n",
       "3930           0         0.0           0         0.0           0           0   \n",
       "3931           0         0.0           0         0.0           0           0   \n",
       "\n",
       "      AC240274.1  AC213203.1  FAM231B  \n",
       "0            0.0           0        0  \n",
       "1            0.0           0        0  \n",
       "2            0.0           0        0  \n",
       "3            0.0           0        0  \n",
       "4            0.0           0        0  \n",
       "...          ...         ...      ...  \n",
       "3927         0.0           0        0  \n",
       "3928         0.0           0        0  \n",
       "3929         0.0           0        0  \n",
       "3930         0.0           0        0  \n",
       "3931         0.0           0        0  \n",
       "\n",
       "[3932 rows x 33694 columns]"
      ]
     },
     "execution_count": 13,
     "metadata": {},
     "output_type": "execute_result"
    }
   ],
   "source": [
    "#X, y = split_X_y(data)\n",
    "#X\n",
    "\n",
    "X = data.drop('cluster_label', axis=1)\n",
    "y = data['cluster_label']\n",
    "X"
   ]
  },
  {
   "cell_type": "code",
   "execution_count": 14,
   "metadata": {},
   "outputs": [
    {
     "data": {
      "text/plain": [
       "0        B\n",
       "1        B\n",
       "2       L1\n",
       "3        B\n",
       "4       L1\n",
       "        ..\n",
       "3927    L1\n",
       "3928     B\n",
       "3929    L1\n",
       "3930    L2\n",
       "3931     B\n",
       "Name: cluster_label, Length: 3932, dtype: object"
      ]
     },
     "execution_count": 14,
     "metadata": {},
     "output_type": "execute_result"
    }
   ],
   "source": [
    "y"
   ]
  },
  {
   "cell_type": "code",
   "execution_count": 8,
   "metadata": {},
   "outputs": [],
   "source": [
    "X = X + 0.01"
   ]
  },
  {
   "cell_type": "code",
   "execution_count": 9,
   "metadata": {},
   "outputs": [],
   "source": [
    "# create held-out test set for final model testing\n",
    "X, X_test, y, y_test = train_test_split(X, y, random_state=42, test_size=0.3, stratify=y, shuffle=True)"
   ]
  },
  {
   "cell_type": "code",
   "execution_count": 10,
   "metadata": {},
   "outputs": [],
   "source": [
    "# reset indices\n",
    "X = X.reset_index(drop=True)\n",
    "X_test = X_test.reset_index(drop=True)\n",
    "\n",
    "y = y.reset_index(drop=True)\n",
    "y_test = y_test.reset_index(drop=True)"
   ]
  },
  {
   "cell_type": "code",
   "execution_count": 11,
   "metadata": {},
   "outputs": [],
   "source": [
    "y = y.to_numpy()  \n",
    "y_test = y_test.to_numpy()  "
   ]
  },
  {
   "cell_type": "code",
   "execution_count": 12,
   "metadata": {},
   "outputs": [
    {
     "name": "stdout",
     "output_type": "stream",
     "text": [
      "(2809, 33694)\n",
      "(1205, 33694)\n",
      "(2809,)\n",
      "(1205,)\n"
     ]
    }
   ],
   "source": [
    "print(X.shape)\n",
    "print(X_test.shape)\n",
    "print(y.shape)\n",
    "print(y_test.shape)"
   ]
  },
  {
   "cell_type": "code",
   "execution_count": 13,
   "metadata": {},
   "outputs": [
    {
     "data": {
      "text/html": [
       "<div>\n",
       "<style scoped>\n",
       "    .dataframe tbody tr th:only-of-type {\n",
       "        vertical-align: middle;\n",
       "    }\n",
       "\n",
       "    .dataframe tbody tr th {\n",
       "        vertical-align: top;\n",
       "    }\n",
       "\n",
       "    .dataframe thead th {\n",
       "        text-align: right;\n",
       "    }\n",
       "</style>\n",
       "<table border=\"1\" class=\"dataframe\">\n",
       "  <thead>\n",
       "    <tr style=\"text-align: right;\">\n",
       "      <th></th>\n",
       "      <th>RP11.34P13.3</th>\n",
       "      <th>FAM138A</th>\n",
       "      <th>OR4F5</th>\n",
       "      <th>RP11.34P13.7</th>\n",
       "      <th>RP11.34P13.8</th>\n",
       "      <th>RP11.34P13.14</th>\n",
       "      <th>RP11.34P13.9</th>\n",
       "      <th>FO538757.3</th>\n",
       "      <th>FO538757.2</th>\n",
       "      <th>AP006222.2</th>\n",
       "      <th>...</th>\n",
       "      <th>AC007325.2</th>\n",
       "      <th>BX072566.1</th>\n",
       "      <th>AL354822.1</th>\n",
       "      <th>AC023491.2</th>\n",
       "      <th>AC004556.1</th>\n",
       "      <th>AC233755.2</th>\n",
       "      <th>AC233755.1</th>\n",
       "      <th>AC240274.1</th>\n",
       "      <th>AC213203.1</th>\n",
       "      <th>FAM231B</th>\n",
       "    </tr>\n",
       "  </thead>\n",
       "  <tbody>\n",
       "    <tr>\n",
       "      <th>0</th>\n",
       "      <td>1</td>\n",
       "      <td>1</td>\n",
       "      <td>1</td>\n",
       "      <td>1.0</td>\n",
       "      <td>1</td>\n",
       "      <td>1</td>\n",
       "      <td>1</td>\n",
       "      <td>1</td>\n",
       "      <td>1.000000</td>\n",
       "      <td>2.123204</td>\n",
       "      <td>...</td>\n",
       "      <td>1.0</td>\n",
       "      <td>1</td>\n",
       "      <td>1.000000</td>\n",
       "      <td>1</td>\n",
       "      <td>1.0</td>\n",
       "      <td>1</td>\n",
       "      <td>1</td>\n",
       "      <td>1.0</td>\n",
       "      <td>1</td>\n",
       "      <td>1</td>\n",
       "    </tr>\n",
       "    <tr>\n",
       "      <th>1</th>\n",
       "      <td>1</td>\n",
       "      <td>1</td>\n",
       "      <td>1</td>\n",
       "      <td>1.0</td>\n",
       "      <td>1</td>\n",
       "      <td>1</td>\n",
       "      <td>1</td>\n",
       "      <td>1</td>\n",
       "      <td>1.000000</td>\n",
       "      <td>1.000000</td>\n",
       "      <td>...</td>\n",
       "      <td>1.0</td>\n",
       "      <td>1</td>\n",
       "      <td>2.300837</td>\n",
       "      <td>1</td>\n",
       "      <td>1.0</td>\n",
       "      <td>1</td>\n",
       "      <td>1</td>\n",
       "      <td>1.0</td>\n",
       "      <td>1</td>\n",
       "      <td>1</td>\n",
       "    </tr>\n",
       "    <tr>\n",
       "      <th>2</th>\n",
       "      <td>1</td>\n",
       "      <td>1</td>\n",
       "      <td>1</td>\n",
       "      <td>1.0</td>\n",
       "      <td>1</td>\n",
       "      <td>1</td>\n",
       "      <td>1</td>\n",
       "      <td>1</td>\n",
       "      <td>1.000000</td>\n",
       "      <td>1.000000</td>\n",
       "      <td>...</td>\n",
       "      <td>1.0</td>\n",
       "      <td>1</td>\n",
       "      <td>1.000000</td>\n",
       "      <td>1</td>\n",
       "      <td>1.0</td>\n",
       "      <td>1</td>\n",
       "      <td>1</td>\n",
       "      <td>1.0</td>\n",
       "      <td>1</td>\n",
       "      <td>1</td>\n",
       "    </tr>\n",
       "    <tr>\n",
       "      <th>3</th>\n",
       "      <td>1</td>\n",
       "      <td>1</td>\n",
       "      <td>1</td>\n",
       "      <td>1.0</td>\n",
       "      <td>1</td>\n",
       "      <td>1</td>\n",
       "      <td>1</td>\n",
       "      <td>1</td>\n",
       "      <td>1.000000</td>\n",
       "      <td>1.000000</td>\n",
       "      <td>...</td>\n",
       "      <td>1.0</td>\n",
       "      <td>1</td>\n",
       "      <td>1.000000</td>\n",
       "      <td>1</td>\n",
       "      <td>1.0</td>\n",
       "      <td>1</td>\n",
       "      <td>1</td>\n",
       "      <td>1.0</td>\n",
       "      <td>1</td>\n",
       "      <td>1</td>\n",
       "    </tr>\n",
       "    <tr>\n",
       "      <th>4</th>\n",
       "      <td>1</td>\n",
       "      <td>1</td>\n",
       "      <td>1</td>\n",
       "      <td>1.0</td>\n",
       "      <td>1</td>\n",
       "      <td>1</td>\n",
       "      <td>1</td>\n",
       "      <td>1</td>\n",
       "      <td>1.000000</td>\n",
       "      <td>1.777832</td>\n",
       "      <td>...</td>\n",
       "      <td>1.0</td>\n",
       "      <td>1</td>\n",
       "      <td>1.000000</td>\n",
       "      <td>1</td>\n",
       "      <td>1.0</td>\n",
       "      <td>1</td>\n",
       "      <td>1</td>\n",
       "      <td>1.0</td>\n",
       "      <td>1</td>\n",
       "      <td>1</td>\n",
       "    </tr>\n",
       "    <tr>\n",
       "      <th>...</th>\n",
       "      <td>...</td>\n",
       "      <td>...</td>\n",
       "      <td>...</td>\n",
       "      <td>...</td>\n",
       "      <td>...</td>\n",
       "      <td>...</td>\n",
       "      <td>...</td>\n",
       "      <td>...</td>\n",
       "      <td>...</td>\n",
       "      <td>...</td>\n",
       "      <td>...</td>\n",
       "      <td>...</td>\n",
       "      <td>...</td>\n",
       "      <td>...</td>\n",
       "      <td>...</td>\n",
       "      <td>...</td>\n",
       "      <td>...</td>\n",
       "      <td>...</td>\n",
       "      <td>...</td>\n",
       "      <td>...</td>\n",
       "      <td>...</td>\n",
       "    </tr>\n",
       "    <tr>\n",
       "      <th>1200</th>\n",
       "      <td>1</td>\n",
       "      <td>1</td>\n",
       "      <td>1</td>\n",
       "      <td>1.0</td>\n",
       "      <td>1</td>\n",
       "      <td>1</td>\n",
       "      <td>1</td>\n",
       "      <td>1</td>\n",
       "      <td>1.000000</td>\n",
       "      <td>1.000000</td>\n",
       "      <td>...</td>\n",
       "      <td>1.0</td>\n",
       "      <td>1</td>\n",
       "      <td>1.000000</td>\n",
       "      <td>1</td>\n",
       "      <td>1.0</td>\n",
       "      <td>1</td>\n",
       "      <td>1</td>\n",
       "      <td>1.0</td>\n",
       "      <td>1</td>\n",
       "      <td>1</td>\n",
       "    </tr>\n",
       "    <tr>\n",
       "      <th>1201</th>\n",
       "      <td>1</td>\n",
       "      <td>1</td>\n",
       "      <td>1</td>\n",
       "      <td>1.0</td>\n",
       "      <td>1</td>\n",
       "      <td>1</td>\n",
       "      <td>1</td>\n",
       "      <td>1</td>\n",
       "      <td>1.000000</td>\n",
       "      <td>1.000000</td>\n",
       "      <td>...</td>\n",
       "      <td>1.0</td>\n",
       "      <td>1</td>\n",
       "      <td>1.000000</td>\n",
       "      <td>1</td>\n",
       "      <td>1.0</td>\n",
       "      <td>1</td>\n",
       "      <td>1</td>\n",
       "      <td>1.0</td>\n",
       "      <td>1</td>\n",
       "      <td>1</td>\n",
       "    </tr>\n",
       "    <tr>\n",
       "      <th>1202</th>\n",
       "      <td>1</td>\n",
       "      <td>1</td>\n",
       "      <td>1</td>\n",
       "      <td>1.0</td>\n",
       "      <td>1</td>\n",
       "      <td>1</td>\n",
       "      <td>1</td>\n",
       "      <td>1</td>\n",
       "      <td>2.424929</td>\n",
       "      <td>1.000000</td>\n",
       "      <td>...</td>\n",
       "      <td>1.0</td>\n",
       "      <td>1</td>\n",
       "      <td>1.000000</td>\n",
       "      <td>1</td>\n",
       "      <td>1.0</td>\n",
       "      <td>1</td>\n",
       "      <td>1</td>\n",
       "      <td>1.0</td>\n",
       "      <td>1</td>\n",
       "      <td>1</td>\n",
       "    </tr>\n",
       "    <tr>\n",
       "      <th>1203</th>\n",
       "      <td>1</td>\n",
       "      <td>1</td>\n",
       "      <td>1</td>\n",
       "      <td>1.0</td>\n",
       "      <td>1</td>\n",
       "      <td>1</td>\n",
       "      <td>1</td>\n",
       "      <td>1</td>\n",
       "      <td>1.000000</td>\n",
       "      <td>1.000000</td>\n",
       "      <td>...</td>\n",
       "      <td>1.0</td>\n",
       "      <td>1</td>\n",
       "      <td>1.000000</td>\n",
       "      <td>1</td>\n",
       "      <td>1.0</td>\n",
       "      <td>1</td>\n",
       "      <td>1</td>\n",
       "      <td>1.0</td>\n",
       "      <td>1</td>\n",
       "      <td>1</td>\n",
       "    </tr>\n",
       "    <tr>\n",
       "      <th>1204</th>\n",
       "      <td>1</td>\n",
       "      <td>1</td>\n",
       "      <td>1</td>\n",
       "      <td>1.0</td>\n",
       "      <td>1</td>\n",
       "      <td>1</td>\n",
       "      <td>1</td>\n",
       "      <td>1</td>\n",
       "      <td>1.000000</td>\n",
       "      <td>1.000000</td>\n",
       "      <td>...</td>\n",
       "      <td>1.0</td>\n",
       "      <td>1</td>\n",
       "      <td>1.000000</td>\n",
       "      <td>1</td>\n",
       "      <td>1.0</td>\n",
       "      <td>1</td>\n",
       "      <td>1</td>\n",
       "      <td>1.0</td>\n",
       "      <td>1</td>\n",
       "      <td>1</td>\n",
       "    </tr>\n",
       "  </tbody>\n",
       "</table>\n",
       "<p>1205 rows × 33694 columns</p>\n",
       "</div>"
      ],
      "text/plain": [
       "      RP11.34P13.3  FAM138A  OR4F5  RP11.34P13.7  RP11.34P13.8  RP11.34P13.14  \\\n",
       "0                1        1      1           1.0             1              1   \n",
       "1                1        1      1           1.0             1              1   \n",
       "2                1        1      1           1.0             1              1   \n",
       "3                1        1      1           1.0             1              1   \n",
       "4                1        1      1           1.0             1              1   \n",
       "...            ...      ...    ...           ...           ...            ...   \n",
       "1200             1        1      1           1.0             1              1   \n",
       "1201             1        1      1           1.0             1              1   \n",
       "1202             1        1      1           1.0             1              1   \n",
       "1203             1        1      1           1.0             1              1   \n",
       "1204             1        1      1           1.0             1              1   \n",
       "\n",
       "      RP11.34P13.9  FO538757.3  FO538757.2  AP006222.2  ...  AC007325.2  \\\n",
       "0                1           1    1.000000    2.123204  ...         1.0   \n",
       "1                1           1    1.000000    1.000000  ...         1.0   \n",
       "2                1           1    1.000000    1.000000  ...         1.0   \n",
       "3                1           1    1.000000    1.000000  ...         1.0   \n",
       "4                1           1    1.000000    1.777832  ...         1.0   \n",
       "...            ...         ...         ...         ...  ...         ...   \n",
       "1200             1           1    1.000000    1.000000  ...         1.0   \n",
       "1201             1           1    1.000000    1.000000  ...         1.0   \n",
       "1202             1           1    2.424929    1.000000  ...         1.0   \n",
       "1203             1           1    1.000000    1.000000  ...         1.0   \n",
       "1204             1           1    1.000000    1.000000  ...         1.0   \n",
       "\n",
       "      BX072566.1  AL354822.1  AC023491.2  AC004556.1  AC233755.2  AC233755.1  \\\n",
       "0              1    1.000000           1         1.0           1           1   \n",
       "1              1    2.300837           1         1.0           1           1   \n",
       "2              1    1.000000           1         1.0           1           1   \n",
       "3              1    1.000000           1         1.0           1           1   \n",
       "4              1    1.000000           1         1.0           1           1   \n",
       "...          ...         ...         ...         ...         ...         ...   \n",
       "1200           1    1.000000           1         1.0           1           1   \n",
       "1201           1    1.000000           1         1.0           1           1   \n",
       "1202           1    1.000000           1         1.0           1           1   \n",
       "1203           1    1.000000           1         1.0           1           1   \n",
       "1204           1    1.000000           1         1.0           1           1   \n",
       "\n",
       "      AC240274.1  AC213203.1  FAM231B  \n",
       "0            1.0           1        1  \n",
       "1            1.0           1        1  \n",
       "2            1.0           1        1  \n",
       "3            1.0           1        1  \n",
       "4            1.0           1        1  \n",
       "...          ...         ...      ...  \n",
       "1200         1.0           1        1  \n",
       "1201         1.0           1        1  \n",
       "1202         1.0           1        1  \n",
       "1203         1.0           1        1  \n",
       "1204         1.0           1        1  \n",
       "\n",
       "[1205 rows x 33694 columns]"
      ]
     },
     "execution_count": 13,
     "metadata": {},
     "output_type": "execute_result"
    }
   ],
   "source": [
    "X_test"
   ]
  },
  {
   "cell_type": "code",
   "execution_count": 14,
   "metadata": {},
   "outputs": [
    {
     "data": {
      "text/plain": [
       "array(['L2', 'L1', 'B', ..., 'B', 'B', 'L1'], dtype=object)"
      ]
     },
     "execution_count": 14,
     "metadata": {},
     "output_type": "execute_result"
    }
   ],
   "source": [
    "y_test\n"
   ]
  },
  {
   "cell_type": "markdown",
   "metadata": {
    "collapsed": false,
    "pycharm": {
     "name": "#%% md\n"
    }
   },
   "source": [
    "## NestedCV to optimize each model and compare them"
   ]
  },
  {
   "cell_type": "code",
   "execution_count": 15,
   "metadata": {
    "collapsed": false,
    "pycharm": {
     "name": "#%%\n"
    }
   },
   "outputs": [],
   "source": [
    "from sklearn.metrics import matthews_corrcoef, balanced_accuracy_score, fbeta_score, f1_score, make_scorer\n",
    "from sklearn.model_selection import StratifiedKFold\n",
    "from sklearn.preprocessing import StandardScaler\n",
    "from sklearn.decomposition import PCA\n",
    "import numpy as np\n",
    "\n",
    "NUM_TRIALS = 5\n",
    "\n",
    "scoring = {'F1_weighted': make_scorer(f1_score, average='weighted'),\n",
    "           'F1_micro': make_scorer(f1_score, average='micro'),\n",
    "           'F1_macro': make_scorer(f1_score, average='macro'),\n",
    "           'F2_weighted': make_scorer(fbeta_score, beta=2, zero_division=0, average='weighted'),\n",
    "           'F2_micro': make_scorer(fbeta_score, beta=2, zero_division=0, average='micro'),\n",
    "           'F2_macro': make_scorer(fbeta_score, beta=2, zero_division=0, average='macro'),\n",
    "           'MCC': make_scorer(matthews_corrcoef),\n",
    "           'Balanced_Accuracy': 'balanced_accuracy',\n",
    "           }\n",
    "\n",
    "def get_outer_scores(y_true, y_pred, results_df, idx):\n",
    "    \"\"\"\n",
    "    Fill the dataframe which will contain all the scores for each experiment of a specific classifier\n",
    "\n",
    "    :param y_true: True labels\n",
    "    :param y_pred: Predicted labels by the best estimator of each inner cv\n",
    "    :param results_df: The dataframe to fill\n",
    "    :param idx: The index the results should be put\n",
    "    :return: The dataframe filled at the indicated index\n",
    "    \"\"\"\n",
    "    results_df['MCC'].loc[idx] = matthews_corrcoef(y_true, y_pred)\n",
    "    results_df['F1_weighted'].loc[idx] = f1_score(y_true, y_pred, average='weighted')\n",
    "    results_df['F1_micro'].loc[idx] = f1_score(y_true, y_pred, average='micro')\n",
    "    results_df['F1_macro'].loc[idx] = f1_score(y_true, y_pred, average='macro')\n",
    "    results_df['F2_weighted'].loc[idx] = fbeta_score(y_true, y_pred, beta=2, zero_division=0, average='weighted')\n",
    "    results_df['F2_micro'].loc[idx] = fbeta_score(y_true, y_pred, beta=2, zero_division=0, average='micro')\n",
    "    results_df['F2_macro'].loc[idx] = f1_score(y_true, y_pred, average='macro')\n",
    "    results_df['Balanced_Accuracy'].loc[idx] = balanced_accuracy_score(y_true, y_pred)\n",
    "\n",
    "    return results_df.copy()\n",
    "\n",
    "def run_ncv(data_x, labels, clf_name):\n",
    "    \"\"\"\n",
    "    Run an NCV experiment for a specific classifier whose name is required as input\n",
    "\n",
    "    :param data_x: Dataframe of samples and features\n",
    "    :param labels: numpy array of labels\n",
    "    :param clf_name: a string indicating the name of the classifier\n",
    "    :return: tuple\n",
    "        Result scores of all experiments in a dataframe (experiment_number x score) and a list with the best parameters\n",
    "        for each experiment just for inspection (DO NOT USE)\n",
    "    \"\"\"\n",
    "    # scaler = StandardScaler()\n",
    "    # scaled_data_x = scaler.fit_transform(data_x, labels)\n",
    "\n",
    "    trial_results_df = pd.DataFrame(columns=scoring.keys(), index=[i for i in range(NUM_TRIALS)])\n",
    "    best_params_list = []\n",
    "    for num_trial in range(NUM_TRIALS):\n",
    "        outer_cv = StratifiedKFold(n_splits=2, shuffle=True, random_state=num_trial)\n",
    "        count = 0\n",
    "        for train_ix, test_ix in outer_cv.split(data_x, labels):\n",
    "            # print(train_ix)\n",
    "            x_train, x_test = data_x.loc[train_ix], data_x.loc[test_ix]\n",
    "            y_train, y_test = labels[train_ix], labels[test_ix]\n",
    "\n",
    "            #scaler = StandardScaler().fit(x_train)\n",
    "            #x_train = scaler.transform(x_train)\n",
    "            #x_test = scaler.transform(x_test)\n",
    "            pca = PCA(n_components=10).fit(x_train)\n",
    "            x_train = pca.transform(x_train)\n",
    "            x_test = pca.transform(x_test)\n",
    "\n",
    "            # count += 1\n",
    "            seed = num_trial\n",
    "\n",
    "            best_estimator, best_params = optimize_one_model(x_train, y_train, clf_name, seed)\n",
    "\n",
    "            best_params_list.append(best_params)\n",
    "            y_pred = best_estimator.predict(x_test)\n",
    "            trial_results_df = get_outer_scores(y_test, y_pred, trial_results_df.copy(), num_trial+count)\n",
    "            \n",
    "            count += 1\n",
    "    # print(best_params_list)\n",
    "\n",
    "    return trial_results_df, best_params_list\n",
    "\n",
    "def run_all_classifiers(data, targets):\n",
    "    \"\"\"\n",
    "    START HERE\n",
    "    Begin the nested cv experiment here. This function iterates over all classifier names and starts a ncv experiment for\n",
    "    each one.\n",
    "\n",
    "    :param data: A dataframe containing the features for all available samples (aka PCs)\n",
    "    :param targets: The labels after turning them into numbers of range 0 to num_classes-1\n",
    "    :return: Tuple\n",
    "        A dictionary with keys the names of the classifiers and values the dataframes containing the scores for each,\n",
    "        A dictionary containing the best params for each experiment and each classifier (Only used for inspection)\n",
    "    \"\"\"\n",
    "    results_dict = {}\n",
    "    params_dict = {}\n",
    "    classifiers = {0: 'svm',\n",
    "                   1: 'lr',\n",
    "                   2: 'gnb',\n",
    "                   3: 'rf',\n",
    "                   4: 'xgb'\n",
    "                   }\n",
    "\n",
    "    for clf in classifiers.values():\n",
    "        print(f'Starting NCV experiment for classifier {clf}')\n",
    "        # res_df = nested_cv(clf, hyperparam_grids[key], x, y)\n",
    "        res_df, best_params = run_ncv(data, targets, clf)\n",
    "        results_dict[clf] = res_df\n",
    "        params_dict[clf] = best_params\n",
    "        # break\n",
    "    return results_dict, params_dict"
   ]
  },
  {
   "cell_type": "markdown",
   "metadata": {
    "collapsed": false,
    "pycharm": {
     "name": "#%% md\n"
    }
   },
   "source": [
    "## Plotting functions"
   ]
  },
  {
   "cell_type": "code",
   "execution_count": 16,
   "metadata": {
    "collapsed": false,
    "pycharm": {
     "name": "#%%\n"
    }
   },
   "outputs": [],
   "source": [
    "def plot_clfs_metrics(results_dict):\n",
    "    fig, axes = plt.subplots(nrows=4, ncols=2, figsize=(6, 9))\n",
    "    my_palette = sns.color_palette(\"Set3\")\n",
    "\n",
    "    row, col = 0, 0\n",
    "    for metric in scoring.keys():\n",
    "        metric_data = pd.DataFrame()\n",
    "        for clf_key, df in results_dict.items():\n",
    "            metric_data[clf_key.upper()] = df[metric]\n",
    "        sns.boxplot(data=metric_data, ax=axes[row][col], width=0.5, palette=my_palette)\n",
    "        axes[row][col].set_title(metric)\n",
    "\n",
    "        col += 1\n",
    "        if col == 2:\n",
    "            col = 0\n",
    "            row += 1\n",
    "\n",
    "    fig.subplots_adjust(hspace=0.6, wspace=0.3)\n",
    "    fig.suptitle('Classifiers metrics comparison after nested CV experiments', fontsize=22)\n",
    "    plt.savefig('metrics_comparison.pdf')\n",
    "    plt.show()\n",
    "\n",
    "\n",
    "def plot_mccs(mcc_dict):\n",
    "    fig, ax = plt.subplots(figsize=(8, 7))\n",
    "    x_labels = [key.upper() for key in mcc_dict.keys()]\n",
    "    y_values = mcc_dict.values()\n",
    "    my_cmap = plt.get_cmap(\"Set3\")\n",
    "    plt.bar(x_labels, y_values, color=my_cmap.colors)\n",
    "    plt.title('MCC mean values comparison between different classifiers', fontsize=22)\n",
    "    ax.xaxis.label.set_size(8)\n",
    "    ax.yaxis.label.set_size(8)\n",
    "    ax.bar_label(ax.containers[0])\n",
    "    plt.xlabel('Classifiers', fontsize=10)\n",
    "    plt.savefig('mcc_compare.pdf')\n",
    "    plt.show()\n",
    "\n",
    "\n",
    "def plot_mean_std_errors(std_dict):\n",
    "    fig, ax = plt.subplots(figsize=(8, 7))\n",
    "    x_labels = [key.upper() for key in std_dict.keys()]\n",
    "    y_values = std_dict.values()\n",
    "    my_cmap = plt.get_cmap(\"Set3\")\n",
    "    plt.bar(x_labels, y_values, color=my_cmap.colors)\n",
    "    plt.title('MCC standard error comparison between different classifiers', fontsize=22)\n",
    "    ax.xaxis.label.set_size(8)\n",
    "    ax.yaxis.label.set_size(8)\n",
    "    ax.bar_label(ax.containers[0])\n",
    "    plt.xlabel('Classifiers', fontsize=10)\n",
    "    plt.savefig('std_e_compare.pdf')\n",
    "    plt.show()\n",
    "\n",
    "\n",
    "def compare_mean_mccs(results_dict):\n",
    "    \"\"\"\n",
    "    For each classifier calculate mean MCC score and standard error\n",
    "    :param results_dict: A dictionary with keys the names of the classifiers and values dataframes with the scores of\n",
    "    the ncv experiments done for each one\n",
    "    :return:\n",
    "    Dictionary for each classifier's mean MCC score\n",
    "    \"\"\"\n",
    "    mccs = {}\n",
    "    std_errors = {}\n",
    "    for key, df in results_dict.items():\n",
    "        mean_mcc = df['MCC'].mean()\n",
    "        std_error_mcc = df['MCC'].std(ddof=1) / np.sqrt(df['MCC'].shape[0])\n",
    "        mccs[key] = mean_mcc\n",
    "        std_errors[key] = std_error_mcc\n",
    "    plot_mccs(mccs)\n",
    "    plot_mean_std_errors(std_errors)\n",
    "    return mccs"
   ]
  },
  {
   "cell_type": "code",
   "execution_count": 17,
   "metadata": {
    "collapsed": false,
    "pycharm": {
     "name": "#%%\n"
    }
   },
   "outputs": [
    {
     "data": {
      "text/plain": [
       "(2809, 33694)"
      ]
     },
     "execution_count": 17,
     "metadata": {},
     "output_type": "execute_result"
    }
   ],
   "source": [
    "X.shape"
   ]
  },
  {
   "cell_type": "code",
   "execution_count": 18,
   "metadata": {
    "collapsed": false,
    "pycharm": {
     "name": "#%%\n"
    }
   },
   "outputs": [
    {
     "data": {
      "text/html": [
       "<div>\n",
       "<style scoped>\n",
       "    .dataframe tbody tr th:only-of-type {\n",
       "        vertical-align: middle;\n",
       "    }\n",
       "\n",
       "    .dataframe tbody tr th {\n",
       "        vertical-align: top;\n",
       "    }\n",
       "\n",
       "    .dataframe thead th {\n",
       "        text-align: right;\n",
       "    }\n",
       "</style>\n",
       "<table border=\"1\" class=\"dataframe\">\n",
       "  <thead>\n",
       "    <tr style=\"text-align: right;\">\n",
       "      <th></th>\n",
       "      <th>RP11.34P13.3</th>\n",
       "      <th>FAM138A</th>\n",
       "      <th>OR4F5</th>\n",
       "      <th>RP11.34P13.7</th>\n",
       "      <th>RP11.34P13.8</th>\n",
       "      <th>RP11.34P13.14</th>\n",
       "      <th>RP11.34P13.9</th>\n",
       "      <th>FO538757.3</th>\n",
       "      <th>FO538757.2</th>\n",
       "      <th>AP006222.2</th>\n",
       "      <th>...</th>\n",
       "      <th>AC007325.2</th>\n",
       "      <th>BX072566.1</th>\n",
       "      <th>AL354822.1</th>\n",
       "      <th>AC023491.2</th>\n",
       "      <th>AC004556.1</th>\n",
       "      <th>AC233755.2</th>\n",
       "      <th>AC233755.1</th>\n",
       "      <th>AC240274.1</th>\n",
       "      <th>AC213203.1</th>\n",
       "      <th>FAM231B</th>\n",
       "    </tr>\n",
       "  </thead>\n",
       "  <tbody>\n",
       "    <tr>\n",
       "      <th>0</th>\n",
       "      <td>1</td>\n",
       "      <td>1</td>\n",
       "      <td>1</td>\n",
       "      <td>1.0</td>\n",
       "      <td>1</td>\n",
       "      <td>1</td>\n",
       "      <td>1</td>\n",
       "      <td>1</td>\n",
       "      <td>1.000000</td>\n",
       "      <td>1.0</td>\n",
       "      <td>...</td>\n",
       "      <td>1.0</td>\n",
       "      <td>1</td>\n",
       "      <td>1.0</td>\n",
       "      <td>1</td>\n",
       "      <td>1.0</td>\n",
       "      <td>1</td>\n",
       "      <td>1</td>\n",
       "      <td>1.0</td>\n",
       "      <td>1</td>\n",
       "      <td>1</td>\n",
       "    </tr>\n",
       "    <tr>\n",
       "      <th>1</th>\n",
       "      <td>1</td>\n",
       "      <td>1</td>\n",
       "      <td>1</td>\n",
       "      <td>1.0</td>\n",
       "      <td>1</td>\n",
       "      <td>1</td>\n",
       "      <td>1</td>\n",
       "      <td>1</td>\n",
       "      <td>1.000000</td>\n",
       "      <td>1.0</td>\n",
       "      <td>...</td>\n",
       "      <td>1.0</td>\n",
       "      <td>1</td>\n",
       "      <td>1.0</td>\n",
       "      <td>1</td>\n",
       "      <td>1.0</td>\n",
       "      <td>1</td>\n",
       "      <td>1</td>\n",
       "      <td>1.0</td>\n",
       "      <td>1</td>\n",
       "      <td>1</td>\n",
       "    </tr>\n",
       "    <tr>\n",
       "      <th>2</th>\n",
       "      <td>1</td>\n",
       "      <td>1</td>\n",
       "      <td>1</td>\n",
       "      <td>1.0</td>\n",
       "      <td>1</td>\n",
       "      <td>1</td>\n",
       "      <td>1</td>\n",
       "      <td>1</td>\n",
       "      <td>1.000000</td>\n",
       "      <td>1.0</td>\n",
       "      <td>...</td>\n",
       "      <td>1.0</td>\n",
       "      <td>1</td>\n",
       "      <td>1.0</td>\n",
       "      <td>1</td>\n",
       "      <td>1.0</td>\n",
       "      <td>1</td>\n",
       "      <td>1</td>\n",
       "      <td>1.0</td>\n",
       "      <td>1</td>\n",
       "      <td>1</td>\n",
       "    </tr>\n",
       "    <tr>\n",
       "      <th>3</th>\n",
       "      <td>1</td>\n",
       "      <td>1</td>\n",
       "      <td>1</td>\n",
       "      <td>1.0</td>\n",
       "      <td>1</td>\n",
       "      <td>1</td>\n",
       "      <td>1</td>\n",
       "      <td>1</td>\n",
       "      <td>1.495697</td>\n",
       "      <td>1.0</td>\n",
       "      <td>...</td>\n",
       "      <td>1.0</td>\n",
       "      <td>1</td>\n",
       "      <td>1.0</td>\n",
       "      <td>1</td>\n",
       "      <td>1.0</td>\n",
       "      <td>1</td>\n",
       "      <td>1</td>\n",
       "      <td>1.0</td>\n",
       "      <td>1</td>\n",
       "      <td>1</td>\n",
       "    </tr>\n",
       "  </tbody>\n",
       "</table>\n",
       "<p>4 rows × 33694 columns</p>\n",
       "</div>"
      ],
      "text/plain": [
       "   RP11.34P13.3  FAM138A  OR4F5  RP11.34P13.7  RP11.34P13.8  RP11.34P13.14  \\\n",
       "0             1        1      1           1.0             1              1   \n",
       "1             1        1      1           1.0             1              1   \n",
       "2             1        1      1           1.0             1              1   \n",
       "3             1        1      1           1.0             1              1   \n",
       "\n",
       "   RP11.34P13.9  FO538757.3  FO538757.2  AP006222.2  ...  AC007325.2  \\\n",
       "0             1           1    1.000000         1.0  ...         1.0   \n",
       "1             1           1    1.000000         1.0  ...         1.0   \n",
       "2             1           1    1.000000         1.0  ...         1.0   \n",
       "3             1           1    1.495697         1.0  ...         1.0   \n",
       "\n",
       "   BX072566.1  AL354822.1  AC023491.2  AC004556.1  AC233755.2  AC233755.1  \\\n",
       "0           1         1.0           1         1.0           1           1   \n",
       "1           1         1.0           1         1.0           1           1   \n",
       "2           1         1.0           1         1.0           1           1   \n",
       "3           1         1.0           1         1.0           1           1   \n",
       "\n",
       "   AC240274.1  AC213203.1  FAM231B  \n",
       "0         1.0           1        1  \n",
       "1         1.0           1        1  \n",
       "2         1.0           1        1  \n",
       "3         1.0           1        1  \n",
       "\n",
       "[4 rows x 33694 columns]"
      ]
     },
     "execution_count": 18,
     "metadata": {},
     "output_type": "execute_result"
    }
   ],
   "source": [
    "X.loc[[0,1,2,3]]\n"
   ]
  },
  {
   "cell_type": "code",
   "execution_count": 19,
   "metadata": {
    "collapsed": false,
    "pycharm": {
     "is_executing": true,
     "name": "#%%\n"
    }
   },
   "outputs": [
    {
     "name": "stdout",
     "output_type": "stream",
     "text": [
      "Starting NCV experiment for classifier svm\n"
     ]
    },
    {
     "data": {
      "application/vnd.jupyter.widget-view+json": {
       "model_id": "20d9d3ca7359435b971a9c1e2f4bc75e",
       "version_major": 2,
       "version_minor": 0
      },
      "text/plain": [
       "  0%|          | 0/10 [00:00<?, ?it/s]"
      ]
     },
     "metadata": {},
     "output_type": "display_data"
    },
    {
     "data": {
      "application/vnd.jupyter.widget-view+json": {
       "model_id": "8069820d9fc1491ab02affa2a22d07b3",
       "version_major": 2,
       "version_minor": 0
      },
      "text/plain": [
       "  0%|          | 0/10 [00:00<?, ?it/s]"
      ]
     },
     "metadata": {},
     "output_type": "display_data"
    },
    {
     "data": {
      "application/vnd.jupyter.widget-view+json": {
       "model_id": "ae199a651fcb45bca5a5d328196dbf53",
       "version_major": 2,
       "version_minor": 0
      },
      "text/plain": [
       "  0%|          | 0/10 [00:00<?, ?it/s]"
      ]
     },
     "metadata": {},
     "output_type": "display_data"
    },
    {
     "data": {
      "application/vnd.jupyter.widget-view+json": {
       "model_id": "56afc587f8644b9a9f479465550ae4a2",
       "version_major": 2,
       "version_minor": 0
      },
      "text/plain": [
       "  0%|          | 0/10 [00:00<?, ?it/s]"
      ]
     },
     "metadata": {},
     "output_type": "display_data"
    },
    {
     "data": {
      "application/vnd.jupyter.widget-view+json": {
       "model_id": "92a25088786346a287a1ca1b248a8b37",
       "version_major": 2,
       "version_minor": 0
      },
      "text/plain": [
       "  0%|          | 0/10 [00:00<?, ?it/s]"
      ]
     },
     "metadata": {},
     "output_type": "display_data"
    },
    {
     "data": {
      "application/vnd.jupyter.widget-view+json": {
       "model_id": "5e14a47d451c4139b863d12b670c9746",
       "version_major": 2,
       "version_minor": 0
      },
      "text/plain": [
       "  0%|          | 0/10 [00:00<?, ?it/s]"
      ]
     },
     "metadata": {},
     "output_type": "display_data"
    },
    {
     "data": {
      "application/vnd.jupyter.widget-view+json": {
       "model_id": "3e6e3f30b06e48008b43cdf994a41998",
       "version_major": 2,
       "version_minor": 0
      },
      "text/plain": [
       "  0%|          | 0/10 [00:00<?, ?it/s]"
      ]
     },
     "metadata": {},
     "output_type": "display_data"
    },
    {
     "data": {
      "application/vnd.jupyter.widget-view+json": {
       "model_id": "169f067ca4a1493f99f7dff822523f0e",
       "version_major": 2,
       "version_minor": 0
      },
      "text/plain": [
       "  0%|          | 0/10 [00:00<?, ?it/s]"
      ]
     },
     "metadata": {},
     "output_type": "display_data"
    },
    {
     "data": {
      "application/vnd.jupyter.widget-view+json": {
       "model_id": "018643b66b1140debbb5bccf18f0cdc0",
       "version_major": 2,
       "version_minor": 0
      },
      "text/plain": [
       "  0%|          | 0/10 [00:00<?, ?it/s]"
      ]
     },
     "metadata": {},
     "output_type": "display_data"
    },
    {
     "data": {
      "application/vnd.jupyter.widget-view+json": {
       "model_id": "e7e9031ef1764abc90fa36849c3dce2e",
       "version_major": 2,
       "version_minor": 0
      },
      "text/plain": [
       "  0%|          | 0/10 [00:00<?, ?it/s]"
      ]
     },
     "metadata": {},
     "output_type": "display_data"
    },
    {
     "name": "stdout",
     "output_type": "stream",
     "text": [
      "Starting NCV experiment for classifier lr\n"
     ]
    },
    {
     "data": {
      "application/vnd.jupyter.widget-view+json": {
       "model_id": "4e1af731dbef417081fe2b6105a1b4fb",
       "version_major": 2,
       "version_minor": 0
      },
      "text/plain": [
       "  0%|          | 0/10 [00:00<?, ?it/s]"
      ]
     },
     "metadata": {},
     "output_type": "display_data"
    },
    {
     "name": "stdout",
     "output_type": "stream",
     "text": [
      "[W 2023-06-25 17:25:31,552] Trial 0 failed with parameters: {'lr_solver': 'newton-cholesky', 'lr_c': 0.0001091290135059375} because of the following error: The value nan is not acceptable..\n",
      "[W 2023-06-25 17:25:31,560] Trial 0 failed with value nan.\n",
      "[W 2023-06-25 17:25:31,822] Trial 8 failed with parameters: {'lr_solver': 'newton-cholesky', 'lr_c': 0.1932675063964395} because of the following error: The value nan is not acceptable..\n",
      "[W 2023-06-25 17:25:31,822] Trial 8 failed with value nan.\n",
      "[W 2023-06-25 17:25:31,934] Trial 4 failed with parameters: {'lr_solver': 'newton-cholesky', 'lr_c': 0.015047671994054582} because of the following error: The value nan is not acceptable..\n",
      "[W 2023-06-25 17:25:31,942] Trial 4 failed with value nan.\n"
     ]
    },
    {
     "data": {
      "application/vnd.jupyter.widget-view+json": {
       "model_id": "647abcb3458b47f4b736544883287a45",
       "version_major": 2,
       "version_minor": 0
      },
      "text/plain": [
       "  0%|          | 0/10 [00:00<?, ?it/s]"
      ]
     },
     "metadata": {},
     "output_type": "display_data"
    },
    {
     "name": "stdout",
     "output_type": "stream",
     "text": [
      "[W 2023-06-25 17:25:39,855] Trial 1 failed with parameters: {'lr_solver': 'newton-cholesky', 'lr_c': 0.00011623306590120662} because of the following error: The value nan is not acceptable..\n",
      "[W 2023-06-25 17:25:39,864] Trial 1 failed with value nan.\n",
      "[W 2023-06-25 17:25:39,879] Trial 2 failed with parameters: {'lr_solver': 'newton-cholesky', 'lr_c': 0.2863171802692478} because of the following error: The value nan is not acceptable..\n",
      "[W 2023-06-25 17:25:39,887] Trial 2 failed with value nan.\n",
      "[W 2023-06-25 17:25:39,887] Trial 3 failed with parameters: {'lr_solver': 'newton-cholesky', 'lr_c': 0.07697999525335991} because of the following error: The value nan is not acceptable..\n",
      "[W 2023-06-25 17:25:39,896] Trial 3 failed with value nan.\n",
      "[W 2023-06-25 17:25:39,976] Trial 8 failed with parameters: {'lr_solver': 'newton-cholesky', 'lr_c': 0.001574350369223605} because of the following error: The value nan is not acceptable..\n",
      "[W 2023-06-25 17:25:39,984] Trial 8 failed with value nan.\n"
     ]
    },
    {
     "data": {
      "application/vnd.jupyter.widget-view+json": {
       "model_id": "bcec0730da7a45d3b24309eae2d3fc89",
       "version_major": 2,
       "version_minor": 0
      },
      "text/plain": [
       "  0%|          | 0/10 [00:00<?, ?it/s]"
      ]
     },
     "metadata": {},
     "output_type": "display_data"
    },
    {
     "name": "stdout",
     "output_type": "stream",
     "text": [
      "[W 2023-06-25 17:25:47,928] Trial 5 failed with parameters: {'lr_solver': 'newton-cholesky', 'lr_c': 0.03494875979925885} because of the following error: The value nan is not acceptable..\n",
      "[W 2023-06-25 17:25:47,944] Trial 5 failed with value nan.\n",
      "[W 2023-06-25 17:25:47,976] Trial 3 failed with parameters: {'lr_solver': 'newton-cholesky', 'lr_c': 0.0006359470799134971} because of the following error: The value nan is not acceptable..\n",
      "[W 2023-06-25 17:25:47,984] Trial 3 failed with value nan.\n"
     ]
    },
    {
     "data": {
      "application/vnd.jupyter.widget-view+json": {
       "model_id": "aeb0038727d84fa1957e85908df7b4fc",
       "version_major": 2,
       "version_minor": 0
      },
      "text/plain": [
       "  0%|          | 0/10 [00:00<?, ?it/s]"
      ]
     },
     "metadata": {},
     "output_type": "display_data"
    },
    {
     "name": "stdout",
     "output_type": "stream",
     "text": [
      "[W 2023-06-25 17:25:58,798] Trial 0 failed with parameters: {'lr_solver': 'newton-cholesky', 'lr_c': 0.010474099730749396} because of the following error: The value nan is not acceptable..\n",
      "[W 2023-06-25 17:25:58,814] Trial 0 failed with value nan.\n",
      "[W 2023-06-25 17:25:58,830] Trial 1 failed with parameters: {'lr_solver': 'newton-cholesky', 'lr_c': 0.012191167409111834} because of the following error: The value nan is not acceptable..\n",
      "[W 2023-06-25 17:25:58,838] Trial 1 failed with value nan.\n"
     ]
    },
    {
     "data": {
      "application/vnd.jupyter.widget-view+json": {
       "model_id": "b68556fea71f4211a8c3d7ab31584500",
       "version_major": 2,
       "version_minor": 0
      },
      "text/plain": [
       "  0%|          | 0/10 [00:00<?, ?it/s]"
      ]
     },
     "metadata": {},
     "output_type": "display_data"
    },
    {
     "name": "stdout",
     "output_type": "stream",
     "text": [
      "[W 2023-06-25 17:26:07,199] Trial 4 failed with parameters: {'lr_solver': 'newton-cholesky', 'lr_c': 0.0012299216629366057} because of the following error: The value nan is not acceptable..\n",
      "[W 2023-06-25 17:26:07,207] Trial 4 failed with value nan.\n",
      "[W 2023-06-25 17:26:07,388] Trial 7 failed with parameters: {'lr_solver': 'newton-cholesky', 'lr_c': 0.0002844579047956864} because of the following error: The value nan is not acceptable..\n",
      "[W 2023-06-25 17:26:07,392] Trial 7 failed with value nan.\n"
     ]
    },
    {
     "data": {
      "application/vnd.jupyter.widget-view+json": {
       "model_id": "c06f0109760647eb81d01b7d062967cb",
       "version_major": 2,
       "version_minor": 0
      },
      "text/plain": [
       "  0%|          | 0/10 [00:00<?, ?it/s]"
      ]
     },
     "metadata": {},
     "output_type": "display_data"
    },
    {
     "name": "stdout",
     "output_type": "stream",
     "text": [
      "[W 2023-06-25 17:26:15,829] Trial 9 failed with parameters: {'lr_solver': 'newton-cholesky', 'lr_c': 0.006042489530572419} because of the following error: The value nan is not acceptable..\n",
      "[W 2023-06-25 17:26:15,833] Trial 9 failed with value nan.\n",
      "[W 2023-06-25 17:26:15,837] Trial 7 failed with parameters: {'lr_solver': 'newton-cholesky', 'lr_c': 0.0192041023322886} because of the following error: The value nan is not acceptable..\n",
      "[W 2023-06-25 17:26:15,845] Trial 7 failed with value nan.\n"
     ]
    },
    {
     "data": {
      "application/vnd.jupyter.widget-view+json": {
       "model_id": "5847941f43354c27aabf831ecab66f2a",
       "version_major": 2,
       "version_minor": 0
      },
      "text/plain": [
       "  0%|          | 0/10 [00:00<?, ?it/s]"
      ]
     },
     "metadata": {},
     "output_type": "display_data"
    },
    {
     "name": "stdout",
     "output_type": "stream",
     "text": [
      "[W 2023-06-25 17:26:23,309] Trial 2 failed with parameters: {'lr_solver': 'newton-cholesky', 'lr_c': 0.002911816522857345} because of the following error: The value nan is not acceptable..\n",
      "[W 2023-06-25 17:26:23,313] Trial 1 failed with parameters: {'lr_solver': 'newton-cholesky', 'lr_c': 0.008252487333866652} because of the following error: The value nan is not acceptable..\n",
      "[W 2023-06-25 17:26:23,317] Trial 2 failed with value nan.\n",
      "[W 2023-06-25 17:26:23,321] Trial 1 failed with value nan.\n",
      "[W 2023-06-25 17:26:23,361] Trial 9 failed with parameters: {'lr_solver': 'newton-cholesky', 'lr_c': 0.275668508821949} because of the following error: The value nan is not acceptable..\n",
      "[W 2023-06-25 17:26:23,369] Trial 9 failed with value nan.\n",
      "[W 2023-06-25 17:26:23,958] Trial 6 failed with parameters: {'lr_solver': 'newton-cholesky', 'lr_c': 0.0001050689441306756} because of the following error: The value nan is not acceptable..\n",
      "[W 2023-06-25 17:26:23,962] Trial 6 failed with value nan.\n",
      "[W 2023-06-25 17:26:23,966] Trial 4 failed with parameters: {'lr_solver': 'newton-cholesky', 'lr_c': 0.0020681702599823337} because of the following error: The value nan is not acceptable..\n",
      "[W 2023-06-25 17:26:23,974] Trial 4 failed with value nan.\n"
     ]
    },
    {
     "data": {
      "application/vnd.jupyter.widget-view+json": {
       "model_id": "db26dc78cb1c4327929a24e7bc93ae61",
       "version_major": 2,
       "version_minor": 0
      },
      "text/plain": [
       "  0%|          | 0/10 [00:00<?, ?it/s]"
      ]
     },
     "metadata": {},
     "output_type": "display_data"
    },
    {
     "name": "stdout",
     "output_type": "stream",
     "text": [
      "[W 2023-06-25 17:26:31,441] Trial 0 failed with parameters: {'lr_solver': 'newton-cholesky', 'lr_c': 0.0002615759963820058} because of the following error: The value nan is not acceptable..\n",
      "[W 2023-06-25 17:26:31,453] Trial 0 failed with value nan.\n",
      "[W 2023-06-25 17:26:31,677] Trial 2 failed with parameters: {'lr_solver': 'newton-cholesky', 'lr_c': 0.0005259864765251592} because of the following error: The value nan is not acceptable..\n",
      "[W 2023-06-25 17:26:31,689] Trial 2 failed with value nan.\n"
     ]
    },
    {
     "data": {
      "application/vnd.jupyter.widget-view+json": {
       "model_id": "c268c200007549a8abd01a72b97e1357",
       "version_major": 2,
       "version_minor": 0
      },
      "text/plain": [
       "  0%|          | 0/10 [00:00<?, ?it/s]"
      ]
     },
     "metadata": {},
     "output_type": "display_data"
    },
    {
     "name": "stdout",
     "output_type": "stream",
     "text": [
      "[W 2023-06-25 17:26:40,096] Trial 0 failed with parameters: {'lr_solver': 'newton-cholesky', 'lr_c': 0.0694322038950728} because of the following error: The value nan is not acceptable..\n",
      "[W 2023-06-25 17:26:40,108] Trial 0 failed with value nan.\n",
      "[W 2023-06-25 17:26:40,281] Trial 7 failed with parameters: {'lr_solver': 'newton-cholesky', 'lr_c': 0.28973083101598957} because of the following error: The value nan is not acceptable..\n",
      "[W 2023-06-25 17:26:40,285] Trial 7 failed with value nan.\n",
      "[W 2023-06-25 17:26:40,333] Trial 9 failed with parameters: {'lr_solver': 'newton-cholesky', 'lr_c': 0.003933103437511046} because of the following error: The value nan is not acceptable..\n",
      "[W 2023-06-25 17:26:40,345] Trial 9 failed with value nan.\n",
      "[W 2023-06-25 17:26:40,345] Trial 5 failed with parameters: {'lr_solver': 'newton-cholesky', 'lr_c': 0.008571083528763236} because of the following error: The value nan is not acceptable..\n",
      "[W 2023-06-25 17:26:40,355] Trial 5 failed with value nan.\n"
     ]
    },
    {
     "data": {
      "application/vnd.jupyter.widget-view+json": {
       "model_id": "a5b15768e08d478eaa4496530f543eac",
       "version_major": 2,
       "version_minor": 0
      },
      "text/plain": [
       "  0%|          | 0/10 [00:00<?, ?it/s]"
      ]
     },
     "metadata": {},
     "output_type": "display_data"
    },
    {
     "name": "stdout",
     "output_type": "stream",
     "text": [
      "[W 2023-06-25 17:26:47,666] Trial 1 failed with parameters: {'lr_solver': 'newton-cholesky', 'lr_c': 0.008868347797041466} because of the following error: The value nan is not acceptable..\n",
      "[W 2023-06-25 17:26:47,674] Trial 1 failed with value nan.\n",
      "Starting NCV experiment for classifier gnb\n"
     ]
    },
    {
     "data": {
      "application/vnd.jupyter.widget-view+json": {
       "model_id": "4b865ae559484cf58b7f52b5d853a883",
       "version_major": 2,
       "version_minor": 0
      },
      "text/plain": [
       "  0%|          | 0/10 [00:00<?, ?it/s]"
      ]
     },
     "metadata": {},
     "output_type": "display_data"
    },
    {
     "data": {
      "application/vnd.jupyter.widget-view+json": {
       "model_id": "5dfbad013f6a43d6b66ff074b67ef56e",
       "version_major": 2,
       "version_minor": 0
      },
      "text/plain": [
       "  0%|          | 0/10 [00:00<?, ?it/s]"
      ]
     },
     "metadata": {},
     "output_type": "display_data"
    },
    {
     "data": {
      "application/vnd.jupyter.widget-view+json": {
       "model_id": "269fac292fd64153900c138edbacbeab",
       "version_major": 2,
       "version_minor": 0
      },
      "text/plain": [
       "  0%|          | 0/10 [00:00<?, ?it/s]"
      ]
     },
     "metadata": {},
     "output_type": "display_data"
    },
    {
     "data": {
      "application/vnd.jupyter.widget-view+json": {
       "model_id": "ce0452894b824efaa6c8e5afd7dc2f28",
       "version_major": 2,
       "version_minor": 0
      },
      "text/plain": [
       "  0%|          | 0/10 [00:00<?, ?it/s]"
      ]
     },
     "metadata": {},
     "output_type": "display_data"
    },
    {
     "data": {
      "application/vnd.jupyter.widget-view+json": {
       "model_id": "f29050e131a342c5bae224229f0edfa7",
       "version_major": 2,
       "version_minor": 0
      },
      "text/plain": [
       "  0%|          | 0/10 [00:00<?, ?it/s]"
      ]
     },
     "metadata": {},
     "output_type": "display_data"
    },
    {
     "data": {
      "application/vnd.jupyter.widget-view+json": {
       "model_id": "76270c26f7594c75b646e1ed99981603",
       "version_major": 2,
       "version_minor": 0
      },
      "text/plain": [
       "  0%|          | 0/10 [00:00<?, ?it/s]"
      ]
     },
     "metadata": {},
     "output_type": "display_data"
    },
    {
     "data": {
      "application/vnd.jupyter.widget-view+json": {
       "model_id": "1462d7001f934fb3957697e535cac17c",
       "version_major": 2,
       "version_minor": 0
      },
      "text/plain": [
       "  0%|          | 0/10 [00:00<?, ?it/s]"
      ]
     },
     "metadata": {},
     "output_type": "display_data"
    },
    {
     "data": {
      "application/vnd.jupyter.widget-view+json": {
       "model_id": "8c74e2f2440b44418ace8a9e4bd04376",
       "version_major": 2,
       "version_minor": 0
      },
      "text/plain": [
       "  0%|          | 0/10 [00:00<?, ?it/s]"
      ]
     },
     "metadata": {},
     "output_type": "display_data"
    },
    {
     "data": {
      "application/vnd.jupyter.widget-view+json": {
       "model_id": "910b92b4ef474b1ca8ca4ef539486a91",
       "version_major": 2,
       "version_minor": 0
      },
      "text/plain": [
       "  0%|          | 0/10 [00:00<?, ?it/s]"
      ]
     },
     "metadata": {},
     "output_type": "display_data"
    },
    {
     "data": {
      "application/vnd.jupyter.widget-view+json": {
       "model_id": "89ba175319074f82b5a4b8d2a10b6681",
       "version_major": 2,
       "version_minor": 0
      },
      "text/plain": [
       "  0%|          | 0/10 [00:00<?, ?it/s]"
      ]
     },
     "metadata": {},
     "output_type": "display_data"
    },
    {
     "name": "stdout",
     "output_type": "stream",
     "text": [
      "Starting NCV experiment for classifier rf\n"
     ]
    },
    {
     "data": {
      "application/vnd.jupyter.widget-view+json": {
       "model_id": "ea946102363a4165865d04799ac6502a",
       "version_major": 2,
       "version_minor": 0
      },
      "text/plain": [
       "  0%|          | 0/10 [00:00<?, ?it/s]"
      ]
     },
     "metadata": {},
     "output_type": "display_data"
    },
    {
     "data": {
      "application/vnd.jupyter.widget-view+json": {
       "model_id": "3ff54c6f24b148c38f634123a1e3a039",
       "version_major": 2,
       "version_minor": 0
      },
      "text/plain": [
       "  0%|          | 0/10 [00:00<?, ?it/s]"
      ]
     },
     "metadata": {},
     "output_type": "display_data"
    },
    {
     "data": {
      "application/vnd.jupyter.widget-view+json": {
       "model_id": "c4d190adb9a64359acb6cf298243674b",
       "version_major": 2,
       "version_minor": 0
      },
      "text/plain": [
       "  0%|          | 0/10 [00:00<?, ?it/s]"
      ]
     },
     "metadata": {},
     "output_type": "display_data"
    },
    {
     "data": {
      "application/vnd.jupyter.widget-view+json": {
       "model_id": "77ae9ae0b37047a58219939cc3ca6762",
       "version_major": 2,
       "version_minor": 0
      },
      "text/plain": [
       "  0%|          | 0/10 [00:00<?, ?it/s]"
      ]
     },
     "metadata": {},
     "output_type": "display_data"
    },
    {
     "data": {
      "application/vnd.jupyter.widget-view+json": {
       "model_id": "26de314d7c9246f5bf755cf2d9dc922f",
       "version_major": 2,
       "version_minor": 0
      },
      "text/plain": [
       "  0%|          | 0/10 [00:00<?, ?it/s]"
      ]
     },
     "metadata": {},
     "output_type": "display_data"
    },
    {
     "data": {
      "application/vnd.jupyter.widget-view+json": {
       "model_id": "e2c049515b7140a2a685787063d38eca",
       "version_major": 2,
       "version_minor": 0
      },
      "text/plain": [
       "  0%|          | 0/10 [00:00<?, ?it/s]"
      ]
     },
     "metadata": {},
     "output_type": "display_data"
    },
    {
     "data": {
      "application/vnd.jupyter.widget-view+json": {
       "model_id": "104b5865c622461499007f9f053e713b",
       "version_major": 2,
       "version_minor": 0
      },
      "text/plain": [
       "  0%|          | 0/10 [00:00<?, ?it/s]"
      ]
     },
     "metadata": {},
     "output_type": "display_data"
    },
    {
     "data": {
      "application/vnd.jupyter.widget-view+json": {
       "model_id": "5c61d99678554cda8cddcd630c4814a8",
       "version_major": 2,
       "version_minor": 0
      },
      "text/plain": [
       "  0%|          | 0/10 [00:00<?, ?it/s]"
      ]
     },
     "metadata": {},
     "output_type": "display_data"
    },
    {
     "data": {
      "application/vnd.jupyter.widget-view+json": {
       "model_id": "c6167db326e942c78a32f1668367c014",
       "version_major": 2,
       "version_minor": 0
      },
      "text/plain": [
       "  0%|          | 0/10 [00:00<?, ?it/s]"
      ]
     },
     "metadata": {},
     "output_type": "display_data"
    },
    {
     "data": {
      "application/vnd.jupyter.widget-view+json": {
       "model_id": "536cd24911e84fb4ba2b9c4d6f23b44e",
       "version_major": 2,
       "version_minor": 0
      },
      "text/plain": [
       "  0%|          | 0/10 [00:00<?, ?it/s]"
      ]
     },
     "metadata": {},
     "output_type": "display_data"
    },
    {
     "name": "stdout",
     "output_type": "stream",
     "text": [
      "Starting NCV experiment for classifier xgb\n"
     ]
    },
    {
     "data": {
      "application/vnd.jupyter.widget-view+json": {
       "model_id": "480f7849ea3f4348983adc82c17a9507",
       "version_major": 2,
       "version_minor": 0
      },
      "text/plain": [
       "  0%|          | 0/10 [00:00<?, ?it/s]"
      ]
     },
     "metadata": {},
     "output_type": "display_data"
    },
    {
     "name": "stdout",
     "output_type": "stream",
     "text": [
      "[W 2023-06-25 17:29:48,590] Trial 3 failed with parameters: {'xgb_eta': 0.024304970013663052, 'xgb_gamma': 43, 'xgb_min_child_weight': 0.5569383323300631} because of the following error: The value nan is not acceptable..\n",
      "[W 2023-06-25 17:29:48,593] Trial 3 failed with value nan.\n",
      "[W 2023-06-25 17:29:48,599] Trial 2 failed with parameters: {'xgb_eta': 0.12914149768999977, 'xgb_gamma': 43, 'xgb_min_child_weight': 2.527841972612765} because of the following error: The value nan is not acceptable..\n",
      "[W 2023-06-25 17:29:48,604] Trial 2 failed with value nan.\n",
      "[W 2023-06-25 17:29:48,604] Trial 0 failed with parameters: {'xgb_eta': 0.2931130983033589, 'xgb_gamma': 26, 'xgb_min_child_weight': 0.019708103229380547} because of the following error: The value nan is not acceptable..\n",
      "[W 2023-06-25 17:29:48,615] Trial 0 failed with value nan.\n",
      "[W 2023-06-25 17:29:48,617] Trial 4 failed with parameters: {'xgb_eta': 0.024531234014496917, 'xgb_gamma': 24, 'xgb_min_child_weight': 2.0931878502521424} because of the following error: The value nan is not acceptable..\n",
      "[W 2023-06-25 17:29:48,621] Trial 4 failed with value nan.\n",
      "[W 2023-06-25 17:29:48,629] Trial 5 failed with parameters: {'xgb_eta': 0.40672271526719844, 'xgb_gamma': 36, 'xgb_min_child_weight': 2.874191906053584} because of the following error: The value nan is not acceptable..\n",
      "[W 2023-06-25 17:29:48,632] Trial 5 failed with value nan.\n",
      "[W 2023-06-25 17:29:48,637] Trial 8 failed with parameters: {'xgb_eta': 0.25322560291636753, 'xgb_gamma': 29, 'xgb_min_child_weight': 2.0184194755000435} because of the following error: The value nan is not acceptable..\n",
      "[W 2023-06-25 17:29:48,645] Trial 8 failed with value nan.\n",
      "[W 2023-06-25 17:29:48,647] Trial 1 failed with parameters: {'xgb_eta': 0.15497457277205184, 'xgb_gamma': 38, 'xgb_min_child_weight': 2.774631779954966} because of the following error: The value nan is not acceptable..\n",
      "[W 2023-06-25 17:29:48,657] Trial 1 failed with value nan.\n",
      "[W 2023-06-25 17:29:48,659] Trial 9 failed with parameters: {'xgb_eta': 0.08736555494565279, 'xgb_gamma': 34, 'xgb_min_child_weight': 3.9795940641487766} because of the following error: The value nan is not acceptable..\n",
      "[W 2023-06-25 17:29:48,665] Trial 7 failed with parameters: {'xgb_eta': 0.4707341565485368, 'xgb_gamma': 30, 'xgb_min_child_weight': 3.9259697175356134} because of the following error: The value nan is not acceptable..\n",
      "[W 2023-06-25 17:29:48,669] Trial 9 failed with value nan.\n",
      "[W 2023-06-25 17:29:48,673] Trial 7 failed with value nan.\n",
      "[W 2023-06-25 17:29:48,682] Trial 6 failed with parameters: {'xgb_eta': 0.18188199254920645, 'xgb_gamma': 16, 'xgb_min_child_weight': 2.0152501654584123} because of the following error: The value nan is not acceptable..\n",
      "[W 2023-06-25 17:29:48,689] Trial 6 failed with value nan.\n"
     ]
    },
    {
     "ename": "ValueError",
     "evalue": "No trials are completed yet.",
     "output_type": "error",
     "traceback": [
      "\u001b[1;31m---------------------------------------------------------------------------\u001b[0m",
      "\u001b[1;31mValueError\u001b[0m                                Traceback (most recent call last)",
      "\u001b[1;32mc:\\Users\\greg\\Documents\\DSIT\\ML in Computational Biology\\Final Project\\scRNAseq_replicate\\model_selection_pipeline.ipynb Cell 25\u001b[0m in \u001b[0;36m<cell line: 1>\u001b[1;34m()\u001b[0m\n\u001b[1;32m----> <a href='vscode-notebook-cell:/c%3A/Users/greg/Documents/DSIT/ML%20in%20Computational%20Biology/Final%20Project/scRNAseq_replicate/model_selection_pipeline.ipynb#X33sZmlsZQ%3D%3D?line=0'>1</a>\u001b[0m results, params_dict \u001b[39m=\u001b[39m run_all_classifiers(X,y)\n",
      "\u001b[1;32mc:\\Users\\greg\\Documents\\DSIT\\ML in Computational Biology\\Final Project\\scRNAseq_replicate\\model_selection_pipeline.ipynb Cell 25\u001b[0m in \u001b[0;36mrun_all_classifiers\u001b[1;34m(data, targets)\u001b[0m\n\u001b[0;32m    <a href='vscode-notebook-cell:/c%3A/Users/greg/Documents/DSIT/ML%20in%20Computational%20Biology/Final%20Project/scRNAseq_replicate/model_selection_pipeline.ipynb#X33sZmlsZQ%3D%3D?line=106'>107</a>\u001b[0m \u001b[39mprint\u001b[39m(\u001b[39mf\u001b[39m\u001b[39m'\u001b[39m\u001b[39mStarting NCV experiment for classifier \u001b[39m\u001b[39m{\u001b[39;00mclf\u001b[39m}\u001b[39;00m\u001b[39m'\u001b[39m)\n\u001b[0;32m    <a href='vscode-notebook-cell:/c%3A/Users/greg/Documents/DSIT/ML%20in%20Computational%20Biology/Final%20Project/scRNAseq_replicate/model_selection_pipeline.ipynb#X33sZmlsZQ%3D%3D?line=107'>108</a>\u001b[0m \u001b[39m# res_df = nested_cv(clf, hyperparam_grids[key], x, y)\u001b[39;00m\n\u001b[1;32m--> <a href='vscode-notebook-cell:/c%3A/Users/greg/Documents/DSIT/ML%20in%20Computational%20Biology/Final%20Project/scRNAseq_replicate/model_selection_pipeline.ipynb#X33sZmlsZQ%3D%3D?line=108'>109</a>\u001b[0m res_df, best_params \u001b[39m=\u001b[39m run_ncv(data, targets, clf)\n\u001b[0;32m    <a href='vscode-notebook-cell:/c%3A/Users/greg/Documents/DSIT/ML%20in%20Computational%20Biology/Final%20Project/scRNAseq_replicate/model_selection_pipeline.ipynb#X33sZmlsZQ%3D%3D?line=109'>110</a>\u001b[0m results_dict[clf] \u001b[39m=\u001b[39m res_df\n\u001b[0;32m    <a href='vscode-notebook-cell:/c%3A/Users/greg/Documents/DSIT/ML%20in%20Computational%20Biology/Final%20Project/scRNAseq_replicate/model_selection_pipeline.ipynb#X33sZmlsZQ%3D%3D?line=110'>111</a>\u001b[0m params_dict[clf] \u001b[39m=\u001b[39m best_params\n",
      "\u001b[1;32mc:\\Users\\greg\\Documents\\DSIT\\ML in Computational Biology\\Final Project\\scRNAseq_replicate\\model_selection_pipeline.ipynb Cell 25\u001b[0m in \u001b[0;36mrun_ncv\u001b[1;34m(data_x, labels, clf_name)\u001b[0m\n\u001b[0;32m     <a href='vscode-notebook-cell:/c%3A/Users/greg/Documents/DSIT/ML%20in%20Computational%20Biology/Final%20Project/scRNAseq_replicate/model_selection_pipeline.ipynb#X33sZmlsZQ%3D%3D?line=70'>71</a>\u001b[0m \u001b[39m# count += 1\u001b[39;00m\n\u001b[0;32m     <a href='vscode-notebook-cell:/c%3A/Users/greg/Documents/DSIT/ML%20in%20Computational%20Biology/Final%20Project/scRNAseq_replicate/model_selection_pipeline.ipynb#X33sZmlsZQ%3D%3D?line=71'>72</a>\u001b[0m seed \u001b[39m=\u001b[39m num_trial\n\u001b[1;32m---> <a href='vscode-notebook-cell:/c%3A/Users/greg/Documents/DSIT/ML%20in%20Computational%20Biology/Final%20Project/scRNAseq_replicate/model_selection_pipeline.ipynb#X33sZmlsZQ%3D%3D?line=73'>74</a>\u001b[0m best_estimator, best_params \u001b[39m=\u001b[39m optimize_one_model(x_train, y_train, clf_name, seed)\n\u001b[0;32m     <a href='vscode-notebook-cell:/c%3A/Users/greg/Documents/DSIT/ML%20in%20Computational%20Biology/Final%20Project/scRNAseq_replicate/model_selection_pipeline.ipynb#X33sZmlsZQ%3D%3D?line=75'>76</a>\u001b[0m best_params_list\u001b[39m.\u001b[39mappend(best_params)\n\u001b[0;32m     <a href='vscode-notebook-cell:/c%3A/Users/greg/Documents/DSIT/ML%20in%20Computational%20Biology/Final%20Project/scRNAseq_replicate/model_selection_pipeline.ipynb#X33sZmlsZQ%3D%3D?line=76'>77</a>\u001b[0m y_pred \u001b[39m=\u001b[39m best_estimator\u001b[39m.\u001b[39mpredict(x_test)\n",
      "File \u001b[1;32mc:\\Users\\greg\\Documents\\DSIT\\ML in Computational Biology\\Final Project\\scRNAseq_replicate\\model_optimization.py:102\u001b[0m, in \u001b[0;36moptimize_one_model\u001b[1;34m(data_x, data_y, clf_name, seed)\u001b[0m\n\u001b[0;32m     99\u001b[0m study \u001b[39m=\u001b[39m optuna\u001b[39m.\u001b[39mcreate_study(direction\u001b[39m=\u001b[39m\u001b[39m'\u001b[39m\u001b[39mmaximize\u001b[39m\u001b[39m'\u001b[39m, sampler\u001b[39m=\u001b[39msampler)\n\u001b[0;32m    100\u001b[0m study\u001b[39m.\u001b[39moptimize(my_objective, n_trials\u001b[39m=\u001b[39m\u001b[39m10\u001b[39m, show_progress_bar\u001b[39m=\u001b[39m\u001b[39mTrue\u001b[39;00m, n_jobs\u001b[39m=\u001b[39m\u001b[39m-\u001b[39m\u001b[39m1\u001b[39m)\n\u001b[1;32m--> 102\u001b[0m best_estimator \u001b[39m=\u001b[39m retrain_best_model_objective(clf_name, study\u001b[39m.\u001b[39;49mbest_trial, data_x, data_y, seed)\n\u001b[0;32m    103\u001b[0m best_params \u001b[39m=\u001b[39m study\u001b[39m.\u001b[39mbest_params\n\u001b[0;32m    105\u001b[0m \u001b[39mreturn\u001b[39;00m best_estimator, best_params\n",
      "File \u001b[1;32mc:\\Users\\greg\\anaconda3\\lib\\site-packages\\optuna\\study\\study.py:160\u001b[0m, in \u001b[0;36mStudy.best_trial\u001b[1;34m(self)\u001b[0m\n\u001b[0;32m    154\u001b[0m \u001b[39mif\u001b[39;00m \u001b[39mself\u001b[39m\u001b[39m.\u001b[39m_is_multi_objective():\n\u001b[0;32m    155\u001b[0m     \u001b[39mraise\u001b[39;00m \u001b[39mRuntimeError\u001b[39;00m(\n\u001b[0;32m    156\u001b[0m         \u001b[39m\"\u001b[39m\u001b[39mA single best trial cannot be retrieved from a multi-objective study. Consider \u001b[39m\u001b[39m\"\u001b[39m\n\u001b[0;32m    157\u001b[0m         \u001b[39m\"\u001b[39m\u001b[39musing Study.best_trials to retrieve a list containing the best trials.\u001b[39m\u001b[39m\"\u001b[39m\n\u001b[0;32m    158\u001b[0m     )\n\u001b[1;32m--> 160\u001b[0m \u001b[39mreturn\u001b[39;00m copy\u001b[39m.\u001b[39mdeepcopy(\u001b[39mself\u001b[39;49m\u001b[39m.\u001b[39;49m_storage\u001b[39m.\u001b[39;49mget_best_trial(\u001b[39mself\u001b[39;49m\u001b[39m.\u001b[39;49m_study_id))\n",
      "File \u001b[1;32mc:\\Users\\greg\\anaconda3\\lib\\site-packages\\optuna\\storages\\_in_memory.py:236\u001b[0m, in \u001b[0;36mInMemoryStorage.get_best_trial\u001b[1;34m(self, study_id)\u001b[0m\n\u001b[0;32m    233\u001b[0m best_trial_id \u001b[39m=\u001b[39m \u001b[39mself\u001b[39m\u001b[39m.\u001b[39m_studies[study_id]\u001b[39m.\u001b[39mbest_trial_id\n\u001b[0;32m    235\u001b[0m \u001b[39mif\u001b[39;00m best_trial_id \u001b[39mis\u001b[39;00m \u001b[39mNone\u001b[39;00m:\n\u001b[1;32m--> 236\u001b[0m     \u001b[39mraise\u001b[39;00m \u001b[39mValueError\u001b[39;00m(\u001b[39m\"\u001b[39m\u001b[39mNo trials are completed yet.\u001b[39m\u001b[39m\"\u001b[39m)\n\u001b[0;32m    237\u001b[0m \u001b[39melif\u001b[39;00m \u001b[39mlen\u001b[39m(\u001b[39mself\u001b[39m\u001b[39m.\u001b[39m_studies[study_id]\u001b[39m.\u001b[39mdirections) \u001b[39m>\u001b[39m \u001b[39m1\u001b[39m:\n\u001b[0;32m    238\u001b[0m     \u001b[39mraise\u001b[39;00m \u001b[39mRuntimeError\u001b[39;00m(\n\u001b[0;32m    239\u001b[0m         \u001b[39m\"\u001b[39m\u001b[39mBest trial can be obtained only for single-objective optimization.\u001b[39m\u001b[39m\"\u001b[39m\n\u001b[0;32m    240\u001b[0m     )\n",
      "\u001b[1;31mValueError\u001b[0m: No trials are completed yet."
     ]
    }
   ],
   "source": [
    "results, params_dict = run_all_classifiers(X,y)"
   ]
  },
  {
   "cell_type": "code",
   "execution_count": 34,
   "metadata": {
    "collapsed": false,
    "pycharm": {
     "name": "#%%\n"
    }
   },
   "outputs": [
    {
     "name": "stdout",
     "output_type": "stream",
     "text": [
      "Params for classifier svm\n",
      "Params of trial 0: {'c_svm': 6.3945621198812015, 'gamma_svm': 0.02458830637402057}\n",
      "Params of trial 1: {'c_svm': 6.819453915919198, 'gamma_svm': 0.027575662666254788}\n",
      "Params of trial 2: {'c_svm': 7.281303305449594, 'gamma_svm': 0.042422278378617125}\n",
      "Params of trial 3: {'c_svm': 1.3613106383434626, 'gamma_svm': 0.02954767140424381}\n",
      "Params of trial 4: {'c_svm': 6.009909065458208, 'gamma_svm': 0.03370104494248146}\n",
      "Params of trial 5: {'c_svm': 7.672448874588315, 'gamma_svm': 0.047861318126352304}\n",
      "Params of trial 6: {'c_svm': 2.505446568193863, 'gamma_svm': 0.01690196595991776}\n",
      "Params of trial 7: {'c_svm': 8.850733509370041, 'gamma_svm': 0.02479132789673762}\n",
      "Params of trial 8: {'c_svm': 1.029915950386597, 'gamma_svm': 0.055367025908463416}\n",
      "Params of trial 9: {'c_svm': 9.460594977533622, 'gamma_svm': 0.014001468323217279}\n",
      "Params for classifier lr\n",
      "Params of trial 0: {'lr_solver': 'lbfgs', 'lr_c': 9.609876380408055}\n",
      "Params of trial 1: {'lr_solver': 'saga', 'lr_c': 8.432442427160558}\n",
      "Params of trial 2: {'lr_solver': 'lbfgs', 'lr_c': 9.151910490984186}\n",
      "Params of trial 3: {'lr_solver': 'lbfgs', 'lr_c': 4.147017477559027}\n",
      "Params of trial 4: {'lr_solver': 'newton-cg', 'lr_c': 8.784468034196586}\n",
      "Params of trial 5: {'lr_solver': 'saga', 'lr_c': 0.4675452477345026}\n",
      "Params of trial 6: {'lr_solver': 'lbfgs', 'lr_c': 6.144429964639192}\n",
      "Params of trial 7: {'lr_solver': 'newton-cg', 'lr_c': 4.786980365005179}\n",
      "Params of trial 8: {'lr_solver': 'saga', 'lr_c': 9.854533206157418}\n",
      "Params of trial 9: {'lr_solver': 'sag', 'lr_c': 5.549170473920025}\n",
      "Params for classifier gnb\n",
      "Params of trial 0: {'gnb_var_smoothing': 1.4185412962259525e-10}\n",
      "Params of trial 1: {'gnb_var_smoothing': 3.44347645043523e-07}\n",
      "Params of trial 2: {'gnb_var_smoothing': 1.491342724459835e-08}\n",
      "Params of trial 3: {'gnb_var_smoothing': 1.1469636044350949e-08}\n",
      "Params of trial 4: {'gnb_var_smoothing': 3.12145545260354e-08}\n",
      "Params of trial 5: {'gnb_var_smoothing': 2.0240481667197902e-08}\n",
      "Params of trial 6: {'gnb_var_smoothing': 1.2541224063637455e-08}\n",
      "Params of trial 7: {'gnb_var_smoothing': 1.8878535115033767e-09}\n",
      "Params of trial 8: {'gnb_var_smoothing': 1.4478504258400264e-10}\n",
      "Params of trial 9: {'gnb_var_smoothing': 2.9239504566031155e-07}\n",
      "Params for classifier rf\n",
      "Params of trial 0: {'rf_n_estimators': 366, 'rf_max_depth': 5}\n",
      "Params of trial 1: {'rf_n_estimators': 239, 'rf_max_depth': 5}\n",
      "Params of trial 2: {'rf_n_estimators': 240, 'rf_max_depth': 5}\n",
      "Params of trial 3: {'rf_n_estimators': 353, 'rf_max_depth': 5}\n",
      "Params of trial 4: {'rf_n_estimators': 173, 'rf_max_depth': 5}\n",
      "Params of trial 5: {'rf_n_estimators': 138, 'rf_max_depth': 5}\n",
      "Params of trial 6: {'rf_n_estimators': 80, 'rf_max_depth': 5}\n",
      "Params of trial 7: {'rf_n_estimators': 117, 'rf_max_depth': 5}\n",
      "Params of trial 8: {'rf_n_estimators': 66, 'rf_max_depth': 5}\n",
      "Params of trial 9: {'rf_n_estimators': 58, 'rf_max_depth': 5}\n",
      "Params for classifier xgb\n",
      "Params of trial 0: {'xgb_eta': 0.429534313112202, 'xgb_gamma': 0, 'xgb_min_child_weight': 4.909785565055436, 'xgb_subsample': 0.5676091287503535, 'xgb_max_leaves': 37}\n",
      "Params of trial 1: {'xgb_eta': 0.23172885837177531, 'xgb_gamma': 0, 'xgb_min_child_weight': 1.2432314515960026, 'xgb_subsample': 0.31876552258770674, 'xgb_max_leaves': 35}\n",
      "Params of trial 2: {'xgb_eta': 0.46148673082065206, 'xgb_gamma': 0, 'xgb_min_child_weight': 1.6863323387628752, 'xgb_subsample': 0.8577904878007007, 'xgb_max_leaves': 46}\n",
      "Params of trial 3: {'xgb_eta': 0.23275577723247592, 'xgb_gamma': 0, 'xgb_min_child_weight': 0.8734463194120118, 'xgb_subsample': 0.42129196996642715, 'xgb_max_leaves': 77}\n",
      "Params of trial 4: {'xgb_eta': 0.28276452450533374, 'xgb_gamma': 0, 'xgb_min_child_weight': 0.5317119226180583, 'xgb_subsample': 0.30069128654646626, 'xgb_max_leaves': 79}\n",
      "Params of trial 5: {'xgb_eta': 0.21164961242169444, 'xgb_gamma': 0, 'xgb_min_child_weight': 3.190953331801876, 'xgb_subsample': 0.7888370056693905, 'xgb_max_leaves': 93}\n",
      "Params of trial 6: {'xgb_eta': 0.2715520387910127, 'xgb_gamma': 0, 'xgb_min_child_weight': 2.805834648662002, 'xgb_subsample': 0.5634337875920663, 'xgb_max_leaves': 80}\n",
      "Params of trial 7: {'xgb_eta': 0.08535790617148281, 'xgb_gamma': 0, 'xgb_min_child_weight': 3.93724283230386, 'xgb_subsample': 0.7532117066865233, 'xgb_max_leaves': 9}\n",
      "Params of trial 8: {'xgb_eta': 0.4744371236293135, 'xgb_gamma': 0, 'xgb_min_child_weight': 2.314184768804454, 'xgb_subsample': 0.2694047971324832, 'xgb_max_leaves': 5}\n",
      "Params of trial 9: {'xgb_eta': 0.11818709680309447, 'xgb_gamma': 0, 'xgb_min_child_weight': 3.4013619047385637, 'xgb_subsample': 0.8469200456018263, 'xgb_max_leaves': 75}\n"
     ]
    }
   ],
   "source": [
    "for key, value in params_dict.items():\n",
    "    print(f'Params for classifier {key}')\n",
    "    for idx, param in enumerate(value):\n",
    "        print(f'Params of trial {idx}: {param}')"
   ]
  },
  {
   "cell_type": "markdown",
   "metadata": {
    "collapsed": false
   },
   "source": [
    "## Check MCC scores to compare algorithms"
   ]
  },
  {
   "cell_type": "code",
   "execution_count": 35,
   "metadata": {
    "collapsed": false,
    "pycharm": {
     "name": "#%%\n"
    }
   },
   "outputs": [
    {
     "data": {
      "image/png": "[encoded data removed]",
      "text/plain": [
       "<Figure size 576x504 with 1 Axes>"
      ]
     },
     "metadata": {
      "needs_background": "light"
     },
     "output_type": "display_data"
    },
    {
     "data": {
      "image/png": "[encoded data removed]",
      "text/plain": [
       "<Figure size 576x504 with 1 Axes>"
      ]
     },
     "metadata": {
      "needs_background": "light"
     },
     "output_type": "display_data"
    },
    {
     "data": {
      "text/plain": [
       "{'svm': 0.962290254172839,\n",
       " 'lr': 0.9767573321829733,\n",
       " 'gnb': 0.9416206076151589,\n",
       " 'rf': 0.9404943837386437,\n",
       " 'xgb': 0.965895971657376}"
      ]
     },
     "execution_count": 35,
     "metadata": {},
     "output_type": "execute_result"
    }
   ],
   "source": [
    "mccs_dict = compare_mean_mccs(results)\n",
    "mccs_dict"
   ]
  },
  {
   "cell_type": "markdown",
   "metadata": {
    "collapsed": false
   },
   "source": [
    "## Check boxplots of all other collected metrics for all classifiers"
   ]
  },
  {
   "cell_type": "code",
   "execution_count": 26,
   "metadata": {
    "collapsed": false,
    "pycharm": {
     "name": "#%%\n"
    }
   },
   "outputs": [
    {
     "data": {
      "image/png": "[encoded data removed]",
      "text/plain": [
       "<Figure size 432x648 with 8 Axes>"
      ]
     },
     "metadata": {
      "needs_background": "light"
     },
     "output_type": "display_data"
    }
   ],
   "source": [
    "plot_clfs_metrics(results)"
   ]
  }
 ],
 "metadata": {
  "kernelspec": {
   "display_name": "Python 3",
   "language": "python",
   "name": "python3"
  },
  "language_info": {
   "codemirror_mode": {
    "name": "ipython",
    "version": 3
   },
   "file_extension": ".py",
   "mimetype": "text/x-python",
   "name": "python",
   "nbconvert_exporter": "python",
   "pygments_lexer": "ipython3",
   "version": "3.9.12"
  }
 },
 "nbformat": 4,
 "nbformat_minor": 0
}
