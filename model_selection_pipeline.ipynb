{
 "cells": [
  {
   "cell_type": "code",
   "execution_count": 1,
   "metadata": {
    "collapsed": true
   },
   "outputs": [],
   "source": [
    "%load_ext autoreload\n",
    "%autoreload 2\n",
    "\n",
    "import pandas as pd\n",
    "import os\n",
    "import matplotlib.pyplot as plt\n",
    "\n",
    "from preprocessing import split_X_y\n",
    "from model_optimization import run_optimization_all_classifiers\n",
    "\n",
    "import warnings\n",
    "warnings.filterwarnings('ignore')"
   ]
  },
  {
   "cell_type": "code",
   "execution_count": 2,
   "outputs": [],
   "source": [
    "DATA_DIR = os.path.join(os.getcwd(), 'data')"
   ],
   "metadata": {
    "collapsed": false,
    "pycharm": {
     "name": "#%%\n"
    }
   }
  },
  {
   "cell_type": "markdown",
   "source": [
    "## Import Labeled Data"
   ],
   "metadata": {
    "collapsed": false
   }
  },
  {
   "cell_type": "code",
   "execution_count": 3,
   "outputs": [
    {
     "data": {
      "text/plain": "                 PC_2      PC_3      PC_4      PC_5      PC_6      PC_7   \nPC_1                                                                      \n-18.265232   0.179890  2.512753 -0.017214 -1.253427  5.103237  3.069733  \\\n-11.648572  -2.388439  0.988511  3.860645  1.748230  0.217374 -0.771974   \n 2.597364   -1.249371 -3.363064 -2.655913 -1.898509 -0.066221 -3.849705   \n-3.417240   -4.438395  0.636533  3.351176  0.887752 -7.494596 -0.488962   \n 7.382528   -0.940683 -9.480106 -6.126398  2.831281  1.671729  0.735573   \n...               ...       ...       ...       ...       ...       ...   \n 8.322987   -3.214379 -0.689009 -0.262546  1.024876 -2.575015 -1.277584   \n-11.008588  -1.900832 -2.101015  2.335349  1.157123 -4.229745  0.003551   \n 9.320722   -5.689082  2.899196  2.080614 -1.207569 -1.014811  5.033344   \n 7.061739   10.454308  7.367766  7.623241  1.983226  1.349209 -3.744541   \n-10.433870  -0.712840  4.045774  0.454931 -0.813817  9.411068  3.884733   \n\n                PC_8      PC_9     PC_10 cluster_label  \nPC_1                                                    \n-18.265232 -1.498417 -0.213276 -1.921352             B  \n-11.648572  0.272593  1.387455 -0.643988             B  \n 2.597364   2.200412 -2.473733 -0.130113            L1  \n-3.417240   0.585061  2.802112 -1.061658             B  \n 7.382528  -5.483888  3.156084 -4.968595            L1  \n...              ...       ...       ...           ...  \n 8.322987   2.146089  1.676037  0.391478            L1  \n-11.008588  1.722289 -0.468227  2.221812             B  \n 9.320722   2.736327 -3.361486  1.148018            L1  \n 7.061739  -8.520135  2.017838  1.947278            L2  \n-10.433870 -1.176880  0.834015 -2.175981             B  \n\n[4014 rows x 10 columns]",
      "text/html": "<div>\n<style scoped>\n    .dataframe tbody tr th:only-of-type {\n        vertical-align: middle;\n    }\n\n    .dataframe tbody tr th {\n        vertical-align: top;\n    }\n\n    .dataframe thead th {\n        text-align: right;\n    }\n</style>\n<table border=\"1\" class=\"dataframe\">\n  <thead>\n    <tr style=\"text-align: right;\">\n      <th></th>\n      <th>PC_2</th>\n      <th>PC_3</th>\n      <th>PC_4</th>\n      <th>PC_5</th>\n      <th>PC_6</th>\n      <th>PC_7</th>\n      <th>PC_8</th>\n      <th>PC_9</th>\n      <th>PC_10</th>\n      <th>cluster_label</th>\n    </tr>\n    <tr>\n      <th>PC_1</th>\n      <th></th>\n      <th></th>\n      <th></th>\n      <th></th>\n      <th></th>\n      <th></th>\n      <th></th>\n      <th></th>\n      <th></th>\n      <th></th>\n    </tr>\n  </thead>\n  <tbody>\n    <tr>\n      <th>-18.265232</th>\n      <td>0.179890</td>\n      <td>2.512753</td>\n      <td>-0.017214</td>\n      <td>-1.253427</td>\n      <td>5.103237</td>\n      <td>3.069733</td>\n      <td>-1.498417</td>\n      <td>-0.213276</td>\n      <td>-1.921352</td>\n      <td>B</td>\n    </tr>\n    <tr>\n      <th>-11.648572</th>\n      <td>-2.388439</td>\n      <td>0.988511</td>\n      <td>3.860645</td>\n      <td>1.748230</td>\n      <td>0.217374</td>\n      <td>-0.771974</td>\n      <td>0.272593</td>\n      <td>1.387455</td>\n      <td>-0.643988</td>\n      <td>B</td>\n    </tr>\n    <tr>\n      <th>2.597364</th>\n      <td>-1.249371</td>\n      <td>-3.363064</td>\n      <td>-2.655913</td>\n      <td>-1.898509</td>\n      <td>-0.066221</td>\n      <td>-3.849705</td>\n      <td>2.200412</td>\n      <td>-2.473733</td>\n      <td>-0.130113</td>\n      <td>L1</td>\n    </tr>\n    <tr>\n      <th>-3.417240</th>\n      <td>-4.438395</td>\n      <td>0.636533</td>\n      <td>3.351176</td>\n      <td>0.887752</td>\n      <td>-7.494596</td>\n      <td>-0.488962</td>\n      <td>0.585061</td>\n      <td>2.802112</td>\n      <td>-1.061658</td>\n      <td>B</td>\n    </tr>\n    <tr>\n      <th>7.382528</th>\n      <td>-0.940683</td>\n      <td>-9.480106</td>\n      <td>-6.126398</td>\n      <td>2.831281</td>\n      <td>1.671729</td>\n      <td>0.735573</td>\n      <td>-5.483888</td>\n      <td>3.156084</td>\n      <td>-4.968595</td>\n      <td>L1</td>\n    </tr>\n    <tr>\n      <th>...</th>\n      <td>...</td>\n      <td>...</td>\n      <td>...</td>\n      <td>...</td>\n      <td>...</td>\n      <td>...</td>\n      <td>...</td>\n      <td>...</td>\n      <td>...</td>\n      <td>...</td>\n    </tr>\n    <tr>\n      <th>8.322987</th>\n      <td>-3.214379</td>\n      <td>-0.689009</td>\n      <td>-0.262546</td>\n      <td>1.024876</td>\n      <td>-2.575015</td>\n      <td>-1.277584</td>\n      <td>2.146089</td>\n      <td>1.676037</td>\n      <td>0.391478</td>\n      <td>L1</td>\n    </tr>\n    <tr>\n      <th>-11.008588</th>\n      <td>-1.900832</td>\n      <td>-2.101015</td>\n      <td>2.335349</td>\n      <td>1.157123</td>\n      <td>-4.229745</td>\n      <td>0.003551</td>\n      <td>1.722289</td>\n      <td>-0.468227</td>\n      <td>2.221812</td>\n      <td>B</td>\n    </tr>\n    <tr>\n      <th>9.320722</th>\n      <td>-5.689082</td>\n      <td>2.899196</td>\n      <td>2.080614</td>\n      <td>-1.207569</td>\n      <td>-1.014811</td>\n      <td>5.033344</td>\n      <td>2.736327</td>\n      <td>-3.361486</td>\n      <td>1.148018</td>\n      <td>L1</td>\n    </tr>\n    <tr>\n      <th>7.061739</th>\n      <td>10.454308</td>\n      <td>7.367766</td>\n      <td>7.623241</td>\n      <td>1.983226</td>\n      <td>1.349209</td>\n      <td>-3.744541</td>\n      <td>-8.520135</td>\n      <td>2.017838</td>\n      <td>1.947278</td>\n      <td>L2</td>\n    </tr>\n    <tr>\n      <th>-10.433870</th>\n      <td>-0.712840</td>\n      <td>4.045774</td>\n      <td>0.454931</td>\n      <td>-0.813817</td>\n      <td>9.411068</td>\n      <td>3.884733</td>\n      <td>-1.176880</td>\n      <td>0.834015</td>\n      <td>-2.175981</td>\n      <td>B</td>\n    </tr>\n  </tbody>\n</table>\n<p>4014 rows × 10 columns</p>\n</div>"
     },
     "execution_count": 3,
     "metadata": {},
     "output_type": "execute_result"
    }
   ],
   "source": [
    "data = pd.read_csv(os.path.join(DATA_DIR, 'ind4_clustering_10PCs.csv'))\n",
    "data"
   ],
   "metadata": {
    "collapsed": false,
    "pycharm": {
     "name": "#%%\n"
    }
   }
  },
  {
   "cell_type": "code",
   "execution_count": 4,
   "outputs": [
    {
     "data": {
      "text/plain": "cluster_label\nL1              1931\nB               1429\nL2               572\nUnclassified      82\nName: count, dtype: int64"
     },
     "execution_count": 4,
     "metadata": {},
     "output_type": "execute_result"
    }
   ],
   "source": [
    "data['cluster_label'].value_counts()"
   ],
   "metadata": {
    "collapsed": false,
    "pycharm": {
     "name": "#%%\n"
    }
   }
  },
  {
   "cell_type": "code",
   "execution_count": 5,
   "outputs": [
    {
     "data": {
      "text/plain": "              PC_2         PC_3         PC_4         PC_5         PC_6   \ncount  4014.000000  4014.000000  4014.000000  4014.000000  4014.000000  \\\nmean     -0.021141    -0.078401     0.083243     0.065213     0.008302   \nstd       6.167741     4.481838     4.296681     3.434765     3.133784   \nmin      -9.499155   -13.907784   -43.566033   -57.245970   -14.597362   \n25%      -3.430494    -2.636772    -1.408544    -0.966391    -1.665316   \n50%      -1.893019    -0.082368     0.591807     0.255896     0.038975   \n75%      -0.071587     2.207989     2.314132     1.397715     1.754820   \nmax      22.768726    34.417159    10.826321    10.860815    11.885671   \n\n              PC_7         PC_8         PC_9        PC_10  \ncount  4014.000000  4014.000000  4014.000000  4014.000000  \nmean      0.070433    -0.011541    -0.050991    -0.019961  \nstd       2.905260     2.792151     2.708235     2.444898  \nmin     -21.256365   -15.068132    -8.321540    -8.657476  \n25%      -1.810213    -1.357253    -1.739949    -1.497361  \n50%       0.065079     0.198538    -0.242970    -0.049414  \n75%       2.037075     1.666112     1.390688     1.504905  \nmax       8.529058    11.644395    20.034509     9.515228  ",
      "text/html": "<div>\n<style scoped>\n    .dataframe tbody tr th:only-of-type {\n        vertical-align: middle;\n    }\n\n    .dataframe tbody tr th {\n        vertical-align: top;\n    }\n\n    .dataframe thead th {\n        text-align: right;\n    }\n</style>\n<table border=\"1\" class=\"dataframe\">\n  <thead>\n    <tr style=\"text-align: right;\">\n      <th></th>\n      <th>PC_2</th>\n      <th>PC_3</th>\n      <th>PC_4</th>\n      <th>PC_5</th>\n      <th>PC_6</th>\n      <th>PC_7</th>\n      <th>PC_8</th>\n      <th>PC_9</th>\n      <th>PC_10</th>\n    </tr>\n  </thead>\n  <tbody>\n    <tr>\n      <th>count</th>\n      <td>4014.000000</td>\n      <td>4014.000000</td>\n      <td>4014.000000</td>\n      <td>4014.000000</td>\n      <td>4014.000000</td>\n      <td>4014.000000</td>\n      <td>4014.000000</td>\n      <td>4014.000000</td>\n      <td>4014.000000</td>\n    </tr>\n    <tr>\n      <th>mean</th>\n      <td>-0.021141</td>\n      <td>-0.078401</td>\n      <td>0.083243</td>\n      <td>0.065213</td>\n      <td>0.008302</td>\n      <td>0.070433</td>\n      <td>-0.011541</td>\n      <td>-0.050991</td>\n      <td>-0.019961</td>\n    </tr>\n    <tr>\n      <th>std</th>\n      <td>6.167741</td>\n      <td>4.481838</td>\n      <td>4.296681</td>\n      <td>3.434765</td>\n      <td>3.133784</td>\n      <td>2.905260</td>\n      <td>2.792151</td>\n      <td>2.708235</td>\n      <td>2.444898</td>\n    </tr>\n    <tr>\n      <th>min</th>\n      <td>-9.499155</td>\n      <td>-13.907784</td>\n      <td>-43.566033</td>\n      <td>-57.245970</td>\n      <td>-14.597362</td>\n      <td>-21.256365</td>\n      <td>-15.068132</td>\n      <td>-8.321540</td>\n      <td>-8.657476</td>\n    </tr>\n    <tr>\n      <th>25%</th>\n      <td>-3.430494</td>\n      <td>-2.636772</td>\n      <td>-1.408544</td>\n      <td>-0.966391</td>\n      <td>-1.665316</td>\n      <td>-1.810213</td>\n      <td>-1.357253</td>\n      <td>-1.739949</td>\n      <td>-1.497361</td>\n    </tr>\n    <tr>\n      <th>50%</th>\n      <td>-1.893019</td>\n      <td>-0.082368</td>\n      <td>0.591807</td>\n      <td>0.255896</td>\n      <td>0.038975</td>\n      <td>0.065079</td>\n      <td>0.198538</td>\n      <td>-0.242970</td>\n      <td>-0.049414</td>\n    </tr>\n    <tr>\n      <th>75%</th>\n      <td>-0.071587</td>\n      <td>2.207989</td>\n      <td>2.314132</td>\n      <td>1.397715</td>\n      <td>1.754820</td>\n      <td>2.037075</td>\n      <td>1.666112</td>\n      <td>1.390688</td>\n      <td>1.504905</td>\n    </tr>\n    <tr>\n      <th>max</th>\n      <td>22.768726</td>\n      <td>34.417159</td>\n      <td>10.826321</td>\n      <td>10.860815</td>\n      <td>11.885671</td>\n      <td>8.529058</td>\n      <td>11.644395</td>\n      <td>20.034509</td>\n      <td>9.515228</td>\n    </tr>\n  </tbody>\n</table>\n</div>"
     },
     "execution_count": 5,
     "metadata": {},
     "output_type": "execute_result"
    }
   ],
   "source": [
    "data.describe()"
   ],
   "metadata": {
    "collapsed": false,
    "pycharm": {
     "name": "#%%\n"
    }
   }
  },
  {
   "cell_type": "code",
   "execution_count": 6,
   "outputs": [
    {
     "name": "stdout",
     "output_type": "stream",
     "text": [
      "<class 'pandas.core.frame.DataFrame'>\n",
      "Index: 4014 entries, -18.2652321254284 to -10.4338701401273\n",
      "Data columns (total 10 columns):\n",
      " #   Column         Non-Null Count  Dtype  \n",
      "---  ------         --------------  -----  \n",
      " 0   PC_2           4014 non-null   float64\n",
      " 1   PC_3           4014 non-null   float64\n",
      " 2   PC_4           4014 non-null   float64\n",
      " 3   PC_5           4014 non-null   float64\n",
      " 4   PC_6           4014 non-null   float64\n",
      " 5   PC_7           4014 non-null   float64\n",
      " 6   PC_8           4014 non-null   float64\n",
      " 7   PC_9           4014 non-null   float64\n",
      " 8   PC_10          4014 non-null   float64\n",
      " 9   cluster_label  4014 non-null   object \n",
      "dtypes: float64(9), object(1)\n",
      "memory usage: 345.0+ KB\n"
     ]
    }
   ],
   "source": [
    "data.info()"
   ],
   "metadata": {
    "collapsed": false,
    "pycharm": {
     "name": "#%%\n"
    }
   }
  },
  {
   "cell_type": "markdown",
   "source": [
    "## PreProcessing\n",
    "\n",
    "Split X, y and turn labels from string to int with values in range (0, n_classes-1)."
   ],
   "metadata": {
    "collapsed": false
   }
  },
  {
   "cell_type": "code",
   "execution_count": 7,
   "outputs": [
    {
     "name": "stdout",
     "output_type": "stream",
     "text": [
      "['PC_2', 'PC_3', 'PC_4', 'PC_5', 'PC_6', 'PC_7', 'PC_8', 'PC_9', 'PC_10']\n"
     ]
    }
   ],
   "source": [
    "X, y = split_X_y(data)"
   ],
   "metadata": {
    "collapsed": false,
    "pycharm": {
     "name": "#%%\n"
    }
   }
  },
  {
   "cell_type": "markdown",
   "source": [
    "## Optimize each model and compare them"
   ],
   "metadata": {
    "collapsed": false,
    "pycharm": {
     "name": "#%% md\n"
    }
   }
  },
  {
   "cell_type": "code",
   "execution_count": null,
   "outputs": [
    {
     "name": "stderr",
     "output_type": "stream",
     "text": [
      "\u001B[32m[I 2023-06-22 11:59:00,182]\u001B[0m A new study created in memory with name: no-name-1408ab26-304f-4d9a-aec1-ef141314ae8b\u001B[0m\n",
      "/home/daphne/.pyenv/versions/3.9.1/envs/machineLearningProjects/lib/python3.9/site-packages/sklearn/svm/_base.py:1244: ConvergenceWarning: Liblinear failed to converge, increase the number of iterations.\n",
      "  warnings.warn(\n",
      "/home/daphne/.pyenv/versions/3.9.1/envs/machineLearningProjects/lib/python3.9/site-packages/sklearn/svm/_base.py:1244: ConvergenceWarning: Liblinear failed to converge, increase the number of iterations.\n",
      "  warnings.warn(\n",
      "/home/daphne/.pyenv/versions/3.9.1/envs/machineLearningProjects/lib/python3.9/site-packages/sklearn/svm/_base.py:1244: ConvergenceWarning: Liblinear failed to converge, increase the number of iterations.\n",
      "  warnings.warn(\n",
      "/home/daphne/.pyenv/versions/3.9.1/envs/machineLearningProjects/lib/python3.9/site-packages/sklearn/svm/_base.py:1244: ConvergenceWarning: Liblinear failed to converge, increase the number of iterations.\n",
      "  warnings.warn(\n",
      "/home/daphne/.pyenv/versions/3.9.1/envs/machineLearningProjects/lib/python3.9/site-packages/sklearn/svm/_base.py:1244: ConvergenceWarning: Liblinear failed to converge, increase the number of iterations.\n",
      "  warnings.warn(\n",
      "/home/daphne/.pyenv/versions/3.9.1/envs/machineLearningProjects/lib/python3.9/site-packages/sklearn/svm/_base.py:1244: ConvergenceWarning: Liblinear failed to converge, increase the number of iterations.\n",
      "  warnings.warn(\n",
      "/home/daphne/.pyenv/versions/3.9.1/envs/machineLearningProjects/lib/python3.9/site-packages/sklearn/svm/_base.py:1244: ConvergenceWarning: Liblinear failed to converge, increase the number of iterations.\n",
      "  warnings.warn(\n",
      "/home/daphne/.pyenv/versions/3.9.1/envs/machineLearningProjects/lib/python3.9/site-packages/sklearn/svm/_base.py:1244: ConvergenceWarning: Liblinear failed to converge, increase the number of iterations.\n",
      "  warnings.warn(\n"
     ]
    },
    {
     "name": "stdout",
     "output_type": "stream",
     "text": [
      "Starting optimization for classifier svm\n"
     ]
    },
    {
     "data": {
      "text/plain": "  0%|          | 0/50 [00:00<?, ?it/s]",
      "application/vnd.jupyter.widget-view+json": {
       "version_major": 2,
       "version_minor": 0,
       "model_id": "46f5dc8250fc495aadfc54b6eb3eb6f3"
      }
     },
     "metadata": {},
     "output_type": "display_data"
    }
   ],
   "source": [
    "estimators_dict, best_params_dict = run_optimization_all_classifiers(X, y)\n",
    "best_params_dict"
   ],
   "metadata": {
    "collapsed": false,
    "pycharm": {
     "name": "#%%\n",
     "is_executing": true
    }
   }
  }
 ],
 "metadata": {
  "kernelspec": {
   "display_name": "Python 3",
   "language": "python",
   "name": "python3"
  },
  "language_info": {
   "codemirror_mode": {
    "name": "ipython",
    "version": 2
   },
   "file_extension": ".py",
   "mimetype": "text/x-python",
   "name": "python",
   "nbconvert_exporter": "python",
   "pygments_lexer": "ipython2",
   "version": "2.7.6"
  }
 },
 "nbformat": 4,
 "nbformat_minor": 0
}