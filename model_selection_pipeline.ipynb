{
 "cells": [
  {
   "cell_type": "code",
   "execution_count": 1,
   "metadata": {},
   "outputs": [
    {
     "name": "stdout",
     "output_type": "stream",
     "text": [
      "Collecting xgboost\n",
      "  Using cached xgboost-1.7.6-py3-none-win_amd64.whl (70.9 MB)\n",
      "Requirement already satisfied: numpy in c:\\users\\greg\\anaconda3\\lib\\site-packages (from xgboost) (1.21.6)\n",
      "Requirement already satisfied: scipy in c:\\users\\greg\\anaconda3\\lib\\site-packages (from xgboost) (1.10.1)\n",
      "Installing collected packages: xgboost\n",
      "Successfully installed xgboost-1.7.6\n"
     ]
    },
    {
     "name": "stderr",
     "output_type": "stream",
     "text": [
      "WARNING: You are using pip version 22.0.4; however, version 23.1.2 is available.\n",
      "You should consider upgrading via the 'c:\\Users\\greg\\anaconda3\\python.exe -m pip install --upgrade pip' command.\n"
     ]
    }
   ],
   "source": [
    "##if using Anaconda (on Anaconda terminal)\n",
    "#conda install -c conda-forge xgboost \n",
    "#pip install xgboost\n",
    "\n",
    "import sys\n",
    "!{sys.executable} -m pip install xgboost"
   ]
  },
  {
   "cell_type": "code",
   "execution_count": 33,
   "metadata": {
    "collapsed": true
   },
   "outputs": [
    {
     "name": "stdout",
     "output_type": "stream",
     "text": [
      "The autoreload extension is already loaded. To reload it, use:\n",
      "  %reload_ext autoreload\n"
     ]
    }
   ],
   "source": [
    "from sklearn.exceptions import ConvergenceWarning\n",
    "%load_ext autoreload\n",
    "%autoreload 2\n",
    "\n",
    "import pandas as pd\n",
    "import os\n",
    "import matplotlib.pyplot as plt\n",
    "import seaborn as sns\n",
    "\n",
    "from preprocessing import split_X_y\n",
    "from model_optimization import optimize_one_model\n",
    "\n",
    "import warnings\n",
    "warnings.filterwarnings('ignore', category=ConvergenceWarning)"
   ]
  },
  {
   "cell_type": "code",
   "execution_count": 2,
   "metadata": {
    "collapsed": false,
    "pycharm": {
     "name": "#%%\n"
    }
   },
   "outputs": [],
   "source": [
    "DATA_DIR = os.path.join(os.getcwd(), 'data')"
   ]
  },
  {
   "cell_type": "markdown",
   "metadata": {
    "collapsed": false
   },
   "source": [
    "## Import Labeled Data"
   ]
  },
  {
   "cell_type": "code",
   "execution_count": 3,
   "metadata": {
    "collapsed": false,
    "pycharm": {
     "name": "#%%\n"
    }
   },
   "outputs": [
    {
     "data": {
      "text/html": [
       "<div>\n",
       "<style scoped>\n",
       "    .dataframe tbody tr th:only-of-type {\n",
       "        vertical-align: middle;\n",
       "    }\n",
       "\n",
       "    .dataframe tbody tr th {\n",
       "        vertical-align: top;\n",
       "    }\n",
       "\n",
       "    .dataframe thead th {\n",
       "        text-align: right;\n",
       "    }\n",
       "</style>\n",
       "<table border=\"1\" class=\"dataframe\">\n",
       "  <thead>\n",
       "    <tr style=\"text-align: right;\">\n",
       "      <th></th>\n",
       "      <th>RP11.34P13.3</th>\n",
       "      <th>FAM138A</th>\n",
       "      <th>OR4F5</th>\n",
       "      <th>RP11.34P13.7</th>\n",
       "      <th>RP11.34P13.8</th>\n",
       "      <th>RP11.34P13.14</th>\n",
       "      <th>RP11.34P13.9</th>\n",
       "      <th>FO538757.3</th>\n",
       "      <th>FO538757.2</th>\n",
       "      <th>AP006222.2</th>\n",
       "      <th>...</th>\n",
       "      <th>BX072566.1</th>\n",
       "      <th>AL354822.1</th>\n",
       "      <th>AC023491.2</th>\n",
       "      <th>AC004556.1</th>\n",
       "      <th>AC233755.2</th>\n",
       "      <th>AC233755.1</th>\n",
       "      <th>AC240274.1</th>\n",
       "      <th>AC213203.1</th>\n",
       "      <th>FAM231B</th>\n",
       "      <th>cluster_label</th>\n",
       "    </tr>\n",
       "  </thead>\n",
       "  <tbody>\n",
       "    <tr>\n",
       "      <th>0</th>\n",
       "      <td>0</td>\n",
       "      <td>0</td>\n",
       "      <td>0</td>\n",
       "      <td>0.0</td>\n",
       "      <td>0</td>\n",
       "      <td>0</td>\n",
       "      <td>0</td>\n",
       "      <td>0</td>\n",
       "      <td>0.0</td>\n",
       "      <td>0.000000</td>\n",
       "      <td>...</td>\n",
       "      <td>0</td>\n",
       "      <td>0.0</td>\n",
       "      <td>0</td>\n",
       "      <td>0.0</td>\n",
       "      <td>0</td>\n",
       "      <td>0</td>\n",
       "      <td>0.0</td>\n",
       "      <td>0</td>\n",
       "      <td>0</td>\n",
       "      <td>B</td>\n",
       "    </tr>\n",
       "    <tr>\n",
       "      <th>1</th>\n",
       "      <td>0</td>\n",
       "      <td>0</td>\n",
       "      <td>0</td>\n",
       "      <td>0.0</td>\n",
       "      <td>0</td>\n",
       "      <td>0</td>\n",
       "      <td>0</td>\n",
       "      <td>0</td>\n",
       "      <td>0.0</td>\n",
       "      <td>0.000000</td>\n",
       "      <td>...</td>\n",
       "      <td>0</td>\n",
       "      <td>0.0</td>\n",
       "      <td>0</td>\n",
       "      <td>0.0</td>\n",
       "      <td>0</td>\n",
       "      <td>0</td>\n",
       "      <td>0.0</td>\n",
       "      <td>0</td>\n",
       "      <td>0</td>\n",
       "      <td>B</td>\n",
       "    </tr>\n",
       "    <tr>\n",
       "      <th>2</th>\n",
       "      <td>0</td>\n",
       "      <td>0</td>\n",
       "      <td>0</td>\n",
       "      <td>0.0</td>\n",
       "      <td>0</td>\n",
       "      <td>0</td>\n",
       "      <td>0</td>\n",
       "      <td>0</td>\n",
       "      <td>0.0</td>\n",
       "      <td>0.000000</td>\n",
       "      <td>...</td>\n",
       "      <td>0</td>\n",
       "      <td>0.0</td>\n",
       "      <td>0</td>\n",
       "      <td>0.0</td>\n",
       "      <td>0</td>\n",
       "      <td>0</td>\n",
       "      <td>0.0</td>\n",
       "      <td>0</td>\n",
       "      <td>0</td>\n",
       "      <td>L1</td>\n",
       "    </tr>\n",
       "    <tr>\n",
       "      <th>3</th>\n",
       "      <td>0</td>\n",
       "      <td>0</td>\n",
       "      <td>0</td>\n",
       "      <td>0.0</td>\n",
       "      <td>0</td>\n",
       "      <td>0</td>\n",
       "      <td>0</td>\n",
       "      <td>0</td>\n",
       "      <td>0.0</td>\n",
       "      <td>0.592736</td>\n",
       "      <td>...</td>\n",
       "      <td>0</td>\n",
       "      <td>0.0</td>\n",
       "      <td>0</td>\n",
       "      <td>0.0</td>\n",
       "      <td>0</td>\n",
       "      <td>0</td>\n",
       "      <td>0.0</td>\n",
       "      <td>0</td>\n",
       "      <td>0</td>\n",
       "      <td>B</td>\n",
       "    </tr>\n",
       "    <tr>\n",
       "      <th>4</th>\n",
       "      <td>0</td>\n",
       "      <td>0</td>\n",
       "      <td>0</td>\n",
       "      <td>0.0</td>\n",
       "      <td>0</td>\n",
       "      <td>0</td>\n",
       "      <td>0</td>\n",
       "      <td>0</td>\n",
       "      <td>0.0</td>\n",
       "      <td>0.000000</td>\n",
       "      <td>...</td>\n",
       "      <td>0</td>\n",
       "      <td>0.0</td>\n",
       "      <td>0</td>\n",
       "      <td>0.0</td>\n",
       "      <td>0</td>\n",
       "      <td>0</td>\n",
       "      <td>0.0</td>\n",
       "      <td>0</td>\n",
       "      <td>0</td>\n",
       "      <td>L1</td>\n",
       "    </tr>\n",
       "    <tr>\n",
       "      <th>...</th>\n",
       "      <td>...</td>\n",
       "      <td>...</td>\n",
       "      <td>...</td>\n",
       "      <td>...</td>\n",
       "      <td>...</td>\n",
       "      <td>...</td>\n",
       "      <td>...</td>\n",
       "      <td>...</td>\n",
       "      <td>...</td>\n",
       "      <td>...</td>\n",
       "      <td>...</td>\n",
       "      <td>...</td>\n",
       "      <td>...</td>\n",
       "      <td>...</td>\n",
       "      <td>...</td>\n",
       "      <td>...</td>\n",
       "      <td>...</td>\n",
       "      <td>...</td>\n",
       "      <td>...</td>\n",
       "      <td>...</td>\n",
       "      <td>...</td>\n",
       "    </tr>\n",
       "    <tr>\n",
       "      <th>4009</th>\n",
       "      <td>0</td>\n",
       "      <td>0</td>\n",
       "      <td>0</td>\n",
       "      <td>0.0</td>\n",
       "      <td>0</td>\n",
       "      <td>0</td>\n",
       "      <td>0</td>\n",
       "      <td>0</td>\n",
       "      <td>0.0</td>\n",
       "      <td>1.382332</td>\n",
       "      <td>...</td>\n",
       "      <td>0</td>\n",
       "      <td>0.0</td>\n",
       "      <td>0</td>\n",
       "      <td>0.0</td>\n",
       "      <td>0</td>\n",
       "      <td>0</td>\n",
       "      <td>0.0</td>\n",
       "      <td>0</td>\n",
       "      <td>0</td>\n",
       "      <td>L1</td>\n",
       "    </tr>\n",
       "    <tr>\n",
       "      <th>4010</th>\n",
       "      <td>0</td>\n",
       "      <td>0</td>\n",
       "      <td>0</td>\n",
       "      <td>0.0</td>\n",
       "      <td>0</td>\n",
       "      <td>0</td>\n",
       "      <td>0</td>\n",
       "      <td>0</td>\n",
       "      <td>0.0</td>\n",
       "      <td>0.000000</td>\n",
       "      <td>...</td>\n",
       "      <td>0</td>\n",
       "      <td>0.0</td>\n",
       "      <td>0</td>\n",
       "      <td>0.0</td>\n",
       "      <td>0</td>\n",
       "      <td>0</td>\n",
       "      <td>0.0</td>\n",
       "      <td>0</td>\n",
       "      <td>0</td>\n",
       "      <td>B</td>\n",
       "    </tr>\n",
       "    <tr>\n",
       "      <th>4011</th>\n",
       "      <td>0</td>\n",
       "      <td>0</td>\n",
       "      <td>0</td>\n",
       "      <td>0.0</td>\n",
       "      <td>0</td>\n",
       "      <td>0</td>\n",
       "      <td>0</td>\n",
       "      <td>0</td>\n",
       "      <td>0.0</td>\n",
       "      <td>0.000000</td>\n",
       "      <td>...</td>\n",
       "      <td>0</td>\n",
       "      <td>0.0</td>\n",
       "      <td>0</td>\n",
       "      <td>0.0</td>\n",
       "      <td>0</td>\n",
       "      <td>0</td>\n",
       "      <td>0.0</td>\n",
       "      <td>0</td>\n",
       "      <td>0</td>\n",
       "      <td>L1</td>\n",
       "    </tr>\n",
       "    <tr>\n",
       "      <th>4012</th>\n",
       "      <td>0</td>\n",
       "      <td>0</td>\n",
       "      <td>0</td>\n",
       "      <td>0.0</td>\n",
       "      <td>0</td>\n",
       "      <td>0</td>\n",
       "      <td>0</td>\n",
       "      <td>0</td>\n",
       "      <td>0.0</td>\n",
       "      <td>0.000000</td>\n",
       "      <td>...</td>\n",
       "      <td>0</td>\n",
       "      <td>0.0</td>\n",
       "      <td>0</td>\n",
       "      <td>0.0</td>\n",
       "      <td>0</td>\n",
       "      <td>0</td>\n",
       "      <td>0.0</td>\n",
       "      <td>0</td>\n",
       "      <td>0</td>\n",
       "      <td>L2</td>\n",
       "    </tr>\n",
       "    <tr>\n",
       "      <th>4013</th>\n",
       "      <td>0</td>\n",
       "      <td>0</td>\n",
       "      <td>0</td>\n",
       "      <td>0.0</td>\n",
       "      <td>0</td>\n",
       "      <td>0</td>\n",
       "      <td>0</td>\n",
       "      <td>0</td>\n",
       "      <td>0.0</td>\n",
       "      <td>0.000000</td>\n",
       "      <td>...</td>\n",
       "      <td>0</td>\n",
       "      <td>0.0</td>\n",
       "      <td>0</td>\n",
       "      <td>0.0</td>\n",
       "      <td>0</td>\n",
       "      <td>0</td>\n",
       "      <td>0.0</td>\n",
       "      <td>0</td>\n",
       "      <td>0</td>\n",
       "      <td>B</td>\n",
       "    </tr>\n",
       "  </tbody>\n",
       "</table>\n",
       "<p>4014 rows × 33695 columns</p>\n",
       "</div>"
      ],
      "text/plain": [
       "      RP11.34P13.3  FAM138A  OR4F5  RP11.34P13.7  RP11.34P13.8  RP11.34P13.14  \\\n",
       "0                0        0      0           0.0             0              0   \n",
       "1                0        0      0           0.0             0              0   \n",
       "2                0        0      0           0.0             0              0   \n",
       "3                0        0      0           0.0             0              0   \n",
       "4                0        0      0           0.0             0              0   \n",
       "...            ...      ...    ...           ...           ...            ...   \n",
       "4009             0        0      0           0.0             0              0   \n",
       "4010             0        0      0           0.0             0              0   \n",
       "4011             0        0      0           0.0             0              0   \n",
       "4012             0        0      0           0.0             0              0   \n",
       "4013             0        0      0           0.0             0              0   \n",
       "\n",
       "      RP11.34P13.9  FO538757.3  FO538757.2  AP006222.2  ...  BX072566.1  \\\n",
       "0                0           0         0.0    0.000000  ...           0   \n",
       "1                0           0         0.0    0.000000  ...           0   \n",
       "2                0           0         0.0    0.000000  ...           0   \n",
       "3                0           0         0.0    0.592736  ...           0   \n",
       "4                0           0         0.0    0.000000  ...           0   \n",
       "...            ...         ...         ...         ...  ...         ...   \n",
       "4009             0           0         0.0    1.382332  ...           0   \n",
       "4010             0           0         0.0    0.000000  ...           0   \n",
       "4011             0           0         0.0    0.000000  ...           0   \n",
       "4012             0           0         0.0    0.000000  ...           0   \n",
       "4013             0           0         0.0    0.000000  ...           0   \n",
       "\n",
       "      AL354822.1  AC023491.2  AC004556.1  AC233755.2  AC233755.1  AC240274.1  \\\n",
       "0            0.0           0         0.0           0           0         0.0   \n",
       "1            0.0           0         0.0           0           0         0.0   \n",
       "2            0.0           0         0.0           0           0         0.0   \n",
       "3            0.0           0         0.0           0           0         0.0   \n",
       "4            0.0           0         0.0           0           0         0.0   \n",
       "...          ...         ...         ...         ...         ...         ...   \n",
       "4009         0.0           0         0.0           0           0         0.0   \n",
       "4010         0.0           0         0.0           0           0         0.0   \n",
       "4011         0.0           0         0.0           0           0         0.0   \n",
       "4012         0.0           0         0.0           0           0         0.0   \n",
       "4013         0.0           0         0.0           0           0         0.0   \n",
       "\n",
       "      AC213203.1  FAM231B  cluster_label  \n",
       "0              0        0              B  \n",
       "1              0        0              B  \n",
       "2              0        0             L1  \n",
       "3              0        0              B  \n",
       "4              0        0             L1  \n",
       "...          ...      ...            ...  \n",
       "4009           0        0             L1  \n",
       "4010           0        0              B  \n",
       "4011           0        0             L1  \n",
       "4012           0        0             L2  \n",
       "4013           0        0              B  \n",
       "\n",
       "[4014 rows x 33695 columns]"
      ]
     },
     "execution_count": 3,
     "metadata": {},
     "output_type": "execute_result"
    }
   ],
   "source": [
    "data = pd.read_csv(os.path.join(DATA_DIR, 'ind4_clustering_results.csv.gz'), compression='gzip')\n",
    "data"
   ]
  },
  {
   "cell_type": "code",
   "execution_count": 5,
   "metadata": {
    "collapsed": false,
    "pycharm": {
     "name": "#%%\n"
    }
   },
   "outputs": [
    {
     "data": {
      "text/plain": [
       "L1              1931\n",
       "B               1429\n",
       "L2               572\n",
       "Unclassified      82\n",
       "Name: cluster_label, dtype: int64"
      ]
     },
     "execution_count": 5,
     "metadata": {},
     "output_type": "execute_result"
    }
   ],
   "source": [
    "data['cluster_label'].value_counts()"
   ]
  },
  {
   "cell_type": "code",
   "execution_count": 7,
   "metadata": {
    "collapsed": false,
    "pycharm": {
     "name": "#%%\n"
    }
   },
   "outputs": [
    {
     "data": {
      "text/html": [
       "<div>\n",
       "<style scoped>\n",
       "    .dataframe tbody tr th:only-of-type {\n",
       "        vertical-align: middle;\n",
       "    }\n",
       "\n",
       "    .dataframe tbody tr th {\n",
       "        vertical-align: top;\n",
       "    }\n",
       "\n",
       "    .dataframe thead th {\n",
       "        text-align: right;\n",
       "    }\n",
       "</style>\n",
       "<table border=\"1\" class=\"dataframe\">\n",
       "  <thead>\n",
       "    <tr style=\"text-align: right;\">\n",
       "      <th></th>\n",
       "      <th>RP11.34P13.3</th>\n",
       "      <th>FAM138A</th>\n",
       "      <th>OR4F5</th>\n",
       "      <th>RP11.34P13.7</th>\n",
       "      <th>RP11.34P13.8</th>\n",
       "      <th>RP11.34P13.14</th>\n",
       "      <th>RP11.34P13.9</th>\n",
       "      <th>FO538757.3</th>\n",
       "      <th>FO538757.2</th>\n",
       "      <th>AP006222.2</th>\n",
       "      <th>...</th>\n",
       "      <th>AC007325.2</th>\n",
       "      <th>BX072566.1</th>\n",
       "      <th>AL354822.1</th>\n",
       "      <th>AC023491.2</th>\n",
       "      <th>AC004556.1</th>\n",
       "      <th>AC233755.2</th>\n",
       "      <th>AC233755.1</th>\n",
       "      <th>AC240274.1</th>\n",
       "      <th>AC213203.1</th>\n",
       "      <th>FAM231B</th>\n",
       "    </tr>\n",
       "  </thead>\n",
       "  <tbody>\n",
       "    <tr>\n",
       "      <th>count</th>\n",
       "      <td>4014.0</td>\n",
       "      <td>4014.0</td>\n",
       "      <td>4014.0</td>\n",
       "      <td>4014.000000</td>\n",
       "      <td>4014.0</td>\n",
       "      <td>4014.0</td>\n",
       "      <td>4014.0</td>\n",
       "      <td>4014.0</td>\n",
       "      <td>4014.000000</td>\n",
       "      <td>4014.000000</td>\n",
       "      <td>...</td>\n",
       "      <td>4014.000000</td>\n",
       "      <td>4014.0</td>\n",
       "      <td>4014.000000</td>\n",
       "      <td>4014.0</td>\n",
       "      <td>4014.000000</td>\n",
       "      <td>4014.0</td>\n",
       "      <td>4014.0</td>\n",
       "      <td>4014.000000</td>\n",
       "      <td>4014.0</td>\n",
       "      <td>4014.0</td>\n",
       "    </tr>\n",
       "    <tr>\n",
       "      <th>mean</th>\n",
       "      <td>0.0</td>\n",
       "      <td>0.0</td>\n",
       "      <td>0.0</td>\n",
       "      <td>0.001144</td>\n",
       "      <td>0.0</td>\n",
       "      <td>0.0</td>\n",
       "      <td>0.0</td>\n",
       "      <td>0.0</td>\n",
       "      <td>0.058993</td>\n",
       "      <td>0.124318</td>\n",
       "      <td>...</td>\n",
       "      <td>0.000572</td>\n",
       "      <td>0.0</td>\n",
       "      <td>0.007943</td>\n",
       "      <td>0.0</td>\n",
       "      <td>0.000825</td>\n",
       "      <td>0.0</td>\n",
       "      <td>0.0</td>\n",
       "      <td>0.005737</td>\n",
       "      <td>0.0</td>\n",
       "      <td>0.0</td>\n",
       "    </tr>\n",
       "    <tr>\n",
       "      <th>std</th>\n",
       "      <td>0.0</td>\n",
       "      <td>0.0</td>\n",
       "      <td>0.0</td>\n",
       "      <td>0.030489</td>\n",
       "      <td>0.0</td>\n",
       "      <td>0.0</td>\n",
       "      <td>0.0</td>\n",
       "      <td>0.0</td>\n",
       "      <td>0.231657</td>\n",
       "      <td>0.332214</td>\n",
       "      <td>...</td>\n",
       "      <td>0.020913</td>\n",
       "      <td>0.0</td>\n",
       "      <td>0.089159</td>\n",
       "      <td>0.0</td>\n",
       "      <td>0.030620</td>\n",
       "      <td>0.0</td>\n",
       "      <td>0.0</td>\n",
       "      <td>0.082589</td>\n",
       "      <td>0.0</td>\n",
       "      <td>0.0</td>\n",
       "    </tr>\n",
       "    <tr>\n",
       "      <th>min</th>\n",
       "      <td>0.0</td>\n",
       "      <td>0.0</td>\n",
       "      <td>0.0</td>\n",
       "      <td>0.000000</td>\n",
       "      <td>0.0</td>\n",
       "      <td>0.0</td>\n",
       "      <td>0.0</td>\n",
       "      <td>0.0</td>\n",
       "      <td>0.000000</td>\n",
       "      <td>0.000000</td>\n",
       "      <td>...</td>\n",
       "      <td>0.000000</td>\n",
       "      <td>0.0</td>\n",
       "      <td>0.000000</td>\n",
       "      <td>0.0</td>\n",
       "      <td>0.000000</td>\n",
       "      <td>0.0</td>\n",
       "      <td>0.0</td>\n",
       "      <td>0.000000</td>\n",
       "      <td>0.0</td>\n",
       "      <td>0.0</td>\n",
       "    </tr>\n",
       "    <tr>\n",
       "      <th>25%</th>\n",
       "      <td>0.0</td>\n",
       "      <td>0.0</td>\n",
       "      <td>0.0</td>\n",
       "      <td>0.000000</td>\n",
       "      <td>0.0</td>\n",
       "      <td>0.0</td>\n",
       "      <td>0.0</td>\n",
       "      <td>0.0</td>\n",
       "      <td>0.000000</td>\n",
       "      <td>0.000000</td>\n",
       "      <td>...</td>\n",
       "      <td>0.000000</td>\n",
       "      <td>0.0</td>\n",
       "      <td>0.000000</td>\n",
       "      <td>0.0</td>\n",
       "      <td>0.000000</td>\n",
       "      <td>0.0</td>\n",
       "      <td>0.0</td>\n",
       "      <td>0.000000</td>\n",
       "      <td>0.0</td>\n",
       "      <td>0.0</td>\n",
       "    </tr>\n",
       "    <tr>\n",
       "      <th>50%</th>\n",
       "      <td>0.0</td>\n",
       "      <td>0.0</td>\n",
       "      <td>0.0</td>\n",
       "      <td>0.000000</td>\n",
       "      <td>0.0</td>\n",
       "      <td>0.0</td>\n",
       "      <td>0.0</td>\n",
       "      <td>0.0</td>\n",
       "      <td>0.000000</td>\n",
       "      <td>0.000000</td>\n",
       "      <td>...</td>\n",
       "      <td>0.000000</td>\n",
       "      <td>0.0</td>\n",
       "      <td>0.000000</td>\n",
       "      <td>0.0</td>\n",
       "      <td>0.000000</td>\n",
       "      <td>0.0</td>\n",
       "      <td>0.0</td>\n",
       "      <td>0.000000</td>\n",
       "      <td>0.0</td>\n",
       "      <td>0.0</td>\n",
       "    </tr>\n",
       "    <tr>\n",
       "      <th>75%</th>\n",
       "      <td>0.0</td>\n",
       "      <td>0.0</td>\n",
       "      <td>0.0</td>\n",
       "      <td>0.000000</td>\n",
       "      <td>0.0</td>\n",
       "      <td>0.0</td>\n",
       "      <td>0.0</td>\n",
       "      <td>0.0</td>\n",
       "      <td>0.000000</td>\n",
       "      <td>0.000000</td>\n",
       "      <td>...</td>\n",
       "      <td>0.000000</td>\n",
       "      <td>0.0</td>\n",
       "      <td>0.000000</td>\n",
       "      <td>0.0</td>\n",
       "      <td>0.000000</td>\n",
       "      <td>0.0</td>\n",
       "      <td>0.0</td>\n",
       "      <td>0.000000</td>\n",
       "      <td>0.0</td>\n",
       "      <td>0.0</td>\n",
       "    </tr>\n",
       "    <tr>\n",
       "      <th>max</th>\n",
       "      <td>0.0</td>\n",
       "      <td>0.0</td>\n",
       "      <td>0.0</td>\n",
       "      <td>1.121108</td>\n",
       "      <td>0.0</td>\n",
       "      <td>0.0</td>\n",
       "      <td>0.0</td>\n",
       "      <td>0.0</td>\n",
       "      <td>1.765982</td>\n",
       "      <td>1.760245</td>\n",
       "      <td>...</td>\n",
       "      <td>0.801262</td>\n",
       "      <td>0.0</td>\n",
       "      <td>1.446900</td>\n",
       "      <td>0.0</td>\n",
       "      <td>1.306308</td>\n",
       "      <td>0.0</td>\n",
       "      <td>0.0</td>\n",
       "      <td>1.648982</td>\n",
       "      <td>0.0</td>\n",
       "      <td>0.0</td>\n",
       "    </tr>\n",
       "  </tbody>\n",
       "</table>\n",
       "<p>8 rows × 33694 columns</p>\n",
       "</div>"
      ],
      "text/plain": [
       "       RP11.34P13.3  FAM138A   OR4F5  RP11.34P13.7  RP11.34P13.8  \\\n",
       "count        4014.0   4014.0  4014.0   4014.000000        4014.0   \n",
       "mean            0.0      0.0     0.0      0.001144           0.0   \n",
       "std             0.0      0.0     0.0      0.030489           0.0   \n",
       "min             0.0      0.0     0.0      0.000000           0.0   \n",
       "25%             0.0      0.0     0.0      0.000000           0.0   \n",
       "50%             0.0      0.0     0.0      0.000000           0.0   \n",
       "75%             0.0      0.0     0.0      0.000000           0.0   \n",
       "max             0.0      0.0     0.0      1.121108           0.0   \n",
       "\n",
       "       RP11.34P13.14  RP11.34P13.9  FO538757.3   FO538757.2   AP006222.2  ...  \\\n",
       "count         4014.0        4014.0      4014.0  4014.000000  4014.000000  ...   \n",
       "mean             0.0           0.0         0.0     0.058993     0.124318  ...   \n",
       "std              0.0           0.0         0.0     0.231657     0.332214  ...   \n",
       "min              0.0           0.0         0.0     0.000000     0.000000  ...   \n",
       "25%              0.0           0.0         0.0     0.000000     0.000000  ...   \n",
       "50%              0.0           0.0         0.0     0.000000     0.000000  ...   \n",
       "75%              0.0           0.0         0.0     0.000000     0.000000  ...   \n",
       "max              0.0           0.0         0.0     1.765982     1.760245  ...   \n",
       "\n",
       "        AC007325.2  BX072566.1   AL354822.1  AC023491.2   AC004556.1  \\\n",
       "count  4014.000000      4014.0  4014.000000      4014.0  4014.000000   \n",
       "mean      0.000572         0.0     0.007943         0.0     0.000825   \n",
       "std       0.020913         0.0     0.089159         0.0     0.030620   \n",
       "min       0.000000         0.0     0.000000         0.0     0.000000   \n",
       "25%       0.000000         0.0     0.000000         0.0     0.000000   \n",
       "50%       0.000000         0.0     0.000000         0.0     0.000000   \n",
       "75%       0.000000         0.0     0.000000         0.0     0.000000   \n",
       "max       0.801262         0.0     1.446900         0.0     1.306308   \n",
       "\n",
       "       AC233755.2  AC233755.1   AC240274.1  AC213203.1  FAM231B  \n",
       "count      4014.0      4014.0  4014.000000      4014.0   4014.0  \n",
       "mean          0.0         0.0     0.005737         0.0      0.0  \n",
       "std           0.0         0.0     0.082589         0.0      0.0  \n",
       "min           0.0         0.0     0.000000         0.0      0.0  \n",
       "25%           0.0         0.0     0.000000         0.0      0.0  \n",
       "50%           0.0         0.0     0.000000         0.0      0.0  \n",
       "75%           0.0         0.0     0.000000         0.0      0.0  \n",
       "max           0.0         0.0     1.648982         0.0      0.0  \n",
       "\n",
       "[8 rows x 33694 columns]"
      ]
     },
     "execution_count": 7,
     "metadata": {},
     "output_type": "execute_result"
    }
   ],
   "source": [
    "data.describe()"
   ]
  },
  {
   "cell_type": "code",
   "execution_count": 8,
   "metadata": {
    "collapsed": false,
    "pycharm": {
     "name": "#%%\n"
    }
   },
   "outputs": [
    {
     "name": "stdout",
     "output_type": "stream",
     "text": [
      "<class 'pandas.core.frame.DataFrame'>\n",
      "RangeIndex: 4014 entries, 0 to 4013\n",
      "Columns: 33695 entries, RP11.34P13.3 to cluster_label\n",
      "dtypes: float64(20518), int64(13176), object(1)\n",
      "memory usage: 1.0+ GB\n"
     ]
    }
   ],
   "source": [
    "data.info()"
   ]
  },
  {
   "cell_type": "markdown",
   "metadata": {
    "collapsed": false
   },
   "source": [
    "## PreProcessing\n",
    "\n",
    "Split X, y and turn labels from string to int with values in range (0, n_classes-1)."
   ]
  },
  {
   "cell_type": "code",
   "execution_count": 4,
   "metadata": {
    "collapsed": false,
    "pycharm": {
     "name": "#%%\n"
    }
   },
   "outputs": [
    {
     "data": {
      "text/html": [
       "<div>\n",
       "<style scoped>\n",
       "    .dataframe tbody tr th:only-of-type {\n",
       "        vertical-align: middle;\n",
       "    }\n",
       "\n",
       "    .dataframe tbody tr th {\n",
       "        vertical-align: top;\n",
       "    }\n",
       "\n",
       "    .dataframe thead th {\n",
       "        text-align: right;\n",
       "    }\n",
       "</style>\n",
       "<table border=\"1\" class=\"dataframe\">\n",
       "  <thead>\n",
       "    <tr style=\"text-align: right;\">\n",
       "      <th></th>\n",
       "      <th>RP11.34P13.3</th>\n",
       "      <th>FAM138A</th>\n",
       "      <th>OR4F5</th>\n",
       "      <th>RP11.34P13.7</th>\n",
       "      <th>RP11.34P13.8</th>\n",
       "      <th>RP11.34P13.14</th>\n",
       "      <th>RP11.34P13.9</th>\n",
       "      <th>FO538757.3</th>\n",
       "      <th>FO538757.2</th>\n",
       "      <th>AP006222.2</th>\n",
       "      <th>...</th>\n",
       "      <th>AC007325.2</th>\n",
       "      <th>BX072566.1</th>\n",
       "      <th>AL354822.1</th>\n",
       "      <th>AC023491.2</th>\n",
       "      <th>AC004556.1</th>\n",
       "      <th>AC233755.2</th>\n",
       "      <th>AC233755.1</th>\n",
       "      <th>AC240274.1</th>\n",
       "      <th>AC213203.1</th>\n",
       "      <th>FAM231B</th>\n",
       "    </tr>\n",
       "  </thead>\n",
       "  <tbody>\n",
       "    <tr>\n",
       "      <th>0</th>\n",
       "      <td>0</td>\n",
       "      <td>0</td>\n",
       "      <td>0</td>\n",
       "      <td>0.0</td>\n",
       "      <td>0</td>\n",
       "      <td>0</td>\n",
       "      <td>0</td>\n",
       "      <td>0</td>\n",
       "      <td>0.0</td>\n",
       "      <td>0.000000</td>\n",
       "      <td>...</td>\n",
       "      <td>0.0</td>\n",
       "      <td>0</td>\n",
       "      <td>0.0</td>\n",
       "      <td>0</td>\n",
       "      <td>0.0</td>\n",
       "      <td>0</td>\n",
       "      <td>0</td>\n",
       "      <td>0.0</td>\n",
       "      <td>0</td>\n",
       "      <td>0</td>\n",
       "    </tr>\n",
       "    <tr>\n",
       "      <th>1</th>\n",
       "      <td>0</td>\n",
       "      <td>0</td>\n",
       "      <td>0</td>\n",
       "      <td>0.0</td>\n",
       "      <td>0</td>\n",
       "      <td>0</td>\n",
       "      <td>0</td>\n",
       "      <td>0</td>\n",
       "      <td>0.0</td>\n",
       "      <td>0.000000</td>\n",
       "      <td>...</td>\n",
       "      <td>0.0</td>\n",
       "      <td>0</td>\n",
       "      <td>0.0</td>\n",
       "      <td>0</td>\n",
       "      <td>0.0</td>\n",
       "      <td>0</td>\n",
       "      <td>0</td>\n",
       "      <td>0.0</td>\n",
       "      <td>0</td>\n",
       "      <td>0</td>\n",
       "    </tr>\n",
       "    <tr>\n",
       "      <th>2</th>\n",
       "      <td>0</td>\n",
       "      <td>0</td>\n",
       "      <td>0</td>\n",
       "      <td>0.0</td>\n",
       "      <td>0</td>\n",
       "      <td>0</td>\n",
       "      <td>0</td>\n",
       "      <td>0</td>\n",
       "      <td>0.0</td>\n",
       "      <td>0.000000</td>\n",
       "      <td>...</td>\n",
       "      <td>0.0</td>\n",
       "      <td>0</td>\n",
       "      <td>0.0</td>\n",
       "      <td>0</td>\n",
       "      <td>0.0</td>\n",
       "      <td>0</td>\n",
       "      <td>0</td>\n",
       "      <td>0.0</td>\n",
       "      <td>0</td>\n",
       "      <td>0</td>\n",
       "    </tr>\n",
       "    <tr>\n",
       "      <th>3</th>\n",
       "      <td>0</td>\n",
       "      <td>0</td>\n",
       "      <td>0</td>\n",
       "      <td>0.0</td>\n",
       "      <td>0</td>\n",
       "      <td>0</td>\n",
       "      <td>0</td>\n",
       "      <td>0</td>\n",
       "      <td>0.0</td>\n",
       "      <td>0.592736</td>\n",
       "      <td>...</td>\n",
       "      <td>0.0</td>\n",
       "      <td>0</td>\n",
       "      <td>0.0</td>\n",
       "      <td>0</td>\n",
       "      <td>0.0</td>\n",
       "      <td>0</td>\n",
       "      <td>0</td>\n",
       "      <td>0.0</td>\n",
       "      <td>0</td>\n",
       "      <td>0</td>\n",
       "    </tr>\n",
       "    <tr>\n",
       "      <th>4</th>\n",
       "      <td>0</td>\n",
       "      <td>0</td>\n",
       "      <td>0</td>\n",
       "      <td>0.0</td>\n",
       "      <td>0</td>\n",
       "      <td>0</td>\n",
       "      <td>0</td>\n",
       "      <td>0</td>\n",
       "      <td>0.0</td>\n",
       "      <td>0.000000</td>\n",
       "      <td>...</td>\n",
       "      <td>0.0</td>\n",
       "      <td>0</td>\n",
       "      <td>0.0</td>\n",
       "      <td>0</td>\n",
       "      <td>0.0</td>\n",
       "      <td>0</td>\n",
       "      <td>0</td>\n",
       "      <td>0.0</td>\n",
       "      <td>0</td>\n",
       "      <td>0</td>\n",
       "    </tr>\n",
       "    <tr>\n",
       "      <th>...</th>\n",
       "      <td>...</td>\n",
       "      <td>...</td>\n",
       "      <td>...</td>\n",
       "      <td>...</td>\n",
       "      <td>...</td>\n",
       "      <td>...</td>\n",
       "      <td>...</td>\n",
       "      <td>...</td>\n",
       "      <td>...</td>\n",
       "      <td>...</td>\n",
       "      <td>...</td>\n",
       "      <td>...</td>\n",
       "      <td>...</td>\n",
       "      <td>...</td>\n",
       "      <td>...</td>\n",
       "      <td>...</td>\n",
       "      <td>...</td>\n",
       "      <td>...</td>\n",
       "      <td>...</td>\n",
       "      <td>...</td>\n",
       "      <td>...</td>\n",
       "    </tr>\n",
       "    <tr>\n",
       "      <th>4009</th>\n",
       "      <td>0</td>\n",
       "      <td>0</td>\n",
       "      <td>0</td>\n",
       "      <td>0.0</td>\n",
       "      <td>0</td>\n",
       "      <td>0</td>\n",
       "      <td>0</td>\n",
       "      <td>0</td>\n",
       "      <td>0.0</td>\n",
       "      <td>1.382332</td>\n",
       "      <td>...</td>\n",
       "      <td>0.0</td>\n",
       "      <td>0</td>\n",
       "      <td>0.0</td>\n",
       "      <td>0</td>\n",
       "      <td>0.0</td>\n",
       "      <td>0</td>\n",
       "      <td>0</td>\n",
       "      <td>0.0</td>\n",
       "      <td>0</td>\n",
       "      <td>0</td>\n",
       "    </tr>\n",
       "    <tr>\n",
       "      <th>4010</th>\n",
       "      <td>0</td>\n",
       "      <td>0</td>\n",
       "      <td>0</td>\n",
       "      <td>0.0</td>\n",
       "      <td>0</td>\n",
       "      <td>0</td>\n",
       "      <td>0</td>\n",
       "      <td>0</td>\n",
       "      <td>0.0</td>\n",
       "      <td>0.000000</td>\n",
       "      <td>...</td>\n",
       "      <td>0.0</td>\n",
       "      <td>0</td>\n",
       "      <td>0.0</td>\n",
       "      <td>0</td>\n",
       "      <td>0.0</td>\n",
       "      <td>0</td>\n",
       "      <td>0</td>\n",
       "      <td>0.0</td>\n",
       "      <td>0</td>\n",
       "      <td>0</td>\n",
       "    </tr>\n",
       "    <tr>\n",
       "      <th>4011</th>\n",
       "      <td>0</td>\n",
       "      <td>0</td>\n",
       "      <td>0</td>\n",
       "      <td>0.0</td>\n",
       "      <td>0</td>\n",
       "      <td>0</td>\n",
       "      <td>0</td>\n",
       "      <td>0</td>\n",
       "      <td>0.0</td>\n",
       "      <td>0.000000</td>\n",
       "      <td>...</td>\n",
       "      <td>0.0</td>\n",
       "      <td>0</td>\n",
       "      <td>0.0</td>\n",
       "      <td>0</td>\n",
       "      <td>0.0</td>\n",
       "      <td>0</td>\n",
       "      <td>0</td>\n",
       "      <td>0.0</td>\n",
       "      <td>0</td>\n",
       "      <td>0</td>\n",
       "    </tr>\n",
       "    <tr>\n",
       "      <th>4012</th>\n",
       "      <td>0</td>\n",
       "      <td>0</td>\n",
       "      <td>0</td>\n",
       "      <td>0.0</td>\n",
       "      <td>0</td>\n",
       "      <td>0</td>\n",
       "      <td>0</td>\n",
       "      <td>0</td>\n",
       "      <td>0.0</td>\n",
       "      <td>0.000000</td>\n",
       "      <td>...</td>\n",
       "      <td>0.0</td>\n",
       "      <td>0</td>\n",
       "      <td>0.0</td>\n",
       "      <td>0</td>\n",
       "      <td>0.0</td>\n",
       "      <td>0</td>\n",
       "      <td>0</td>\n",
       "      <td>0.0</td>\n",
       "      <td>0</td>\n",
       "      <td>0</td>\n",
       "    </tr>\n",
       "    <tr>\n",
       "      <th>4013</th>\n",
       "      <td>0</td>\n",
       "      <td>0</td>\n",
       "      <td>0</td>\n",
       "      <td>0.0</td>\n",
       "      <td>0</td>\n",
       "      <td>0</td>\n",
       "      <td>0</td>\n",
       "      <td>0</td>\n",
       "      <td>0.0</td>\n",
       "      <td>0.000000</td>\n",
       "      <td>...</td>\n",
       "      <td>0.0</td>\n",
       "      <td>0</td>\n",
       "      <td>0.0</td>\n",
       "      <td>0</td>\n",
       "      <td>0.0</td>\n",
       "      <td>0</td>\n",
       "      <td>0</td>\n",
       "      <td>0.0</td>\n",
       "      <td>0</td>\n",
       "      <td>0</td>\n",
       "    </tr>\n",
       "  </tbody>\n",
       "</table>\n",
       "<p>4014 rows × 33694 columns</p>\n",
       "</div>"
      ],
      "text/plain": [
       "      RP11.34P13.3  FAM138A  OR4F5  RP11.34P13.7  RP11.34P13.8  RP11.34P13.14  \\\n",
       "0                0        0      0           0.0             0              0   \n",
       "1                0        0      0           0.0             0              0   \n",
       "2                0        0      0           0.0             0              0   \n",
       "3                0        0      0           0.0             0              0   \n",
       "4                0        0      0           0.0             0              0   \n",
       "...            ...      ...    ...           ...           ...            ...   \n",
       "4009             0        0      0           0.0             0              0   \n",
       "4010             0        0      0           0.0             0              0   \n",
       "4011             0        0      0           0.0             0              0   \n",
       "4012             0        0      0           0.0             0              0   \n",
       "4013             0        0      0           0.0             0              0   \n",
       "\n",
       "      RP11.34P13.9  FO538757.3  FO538757.2  AP006222.2  ...  AC007325.2  \\\n",
       "0                0           0         0.0    0.000000  ...         0.0   \n",
       "1                0           0         0.0    0.000000  ...         0.0   \n",
       "2                0           0         0.0    0.000000  ...         0.0   \n",
       "3                0           0         0.0    0.592736  ...         0.0   \n",
       "4                0           0         0.0    0.000000  ...         0.0   \n",
       "...            ...         ...         ...         ...  ...         ...   \n",
       "4009             0           0         0.0    1.382332  ...         0.0   \n",
       "4010             0           0         0.0    0.000000  ...         0.0   \n",
       "4011             0           0         0.0    0.000000  ...         0.0   \n",
       "4012             0           0         0.0    0.000000  ...         0.0   \n",
       "4013             0           0         0.0    0.000000  ...         0.0   \n",
       "\n",
       "      BX072566.1  AL354822.1  AC023491.2  AC004556.1  AC233755.2  AC233755.1  \\\n",
       "0              0         0.0           0         0.0           0           0   \n",
       "1              0         0.0           0         0.0           0           0   \n",
       "2              0         0.0           0         0.0           0           0   \n",
       "3              0         0.0           0         0.0           0           0   \n",
       "4              0         0.0           0         0.0           0           0   \n",
       "...          ...         ...         ...         ...         ...         ...   \n",
       "4009           0         0.0           0         0.0           0           0   \n",
       "4010           0         0.0           0         0.0           0           0   \n",
       "4011           0         0.0           0         0.0           0           0   \n",
       "4012           0         0.0           0         0.0           0           0   \n",
       "4013           0         0.0           0         0.0           0           0   \n",
       "\n",
       "      AC240274.1  AC213203.1  FAM231B  \n",
       "0            0.0           0        0  \n",
       "1            0.0           0        0  \n",
       "2            0.0           0        0  \n",
       "3            0.0           0        0  \n",
       "4            0.0           0        0  \n",
       "...          ...         ...      ...  \n",
       "4009         0.0           0        0  \n",
       "4010         0.0           0        0  \n",
       "4011         0.0           0        0  \n",
       "4012         0.0           0        0  \n",
       "4013         0.0           0        0  \n",
       "\n",
       "[4014 rows x 33694 columns]"
      ]
     },
     "execution_count": 4,
     "metadata": {},
     "output_type": "execute_result"
    }
   ],
   "source": [
    "X, y = split_X_y(data)\n",
    "X"
   ]
  },
  {
   "cell_type": "code",
   "execution_count": 10,
   "metadata": {},
   "outputs": [
    {
     "data": {
      "text/plain": [
       "array([0, 0, 2, ..., 2, 1, 0])"
      ]
     },
     "execution_count": 10,
     "metadata": {},
     "output_type": "execute_result"
    }
   ],
   "source": [
    "y"
   ]
  },
  {
   "cell_type": "markdown",
   "metadata": {
    "collapsed": false,
    "pycharm": {
     "name": "#%% md\n"
    }
   },
   "source": [
    "## NestedCV to optimize each model and compare them"
   ]
  },
  {
   "cell_type": "code",
   "execution_count": 34,
   "metadata": {
    "collapsed": false,
    "pycharm": {
     "name": "#%%\n"
    }
   },
   "outputs": [],
   "source": [
    "from sklearn.metrics import matthews_corrcoef, balanced_accuracy_score, fbeta_score, f1_score, make_scorer\n",
    "from sklearn.model_selection import StratifiedKFold\n",
    "from sklearn.preprocessing import StandardScaler\n",
    "from sklearn.decomposition import PCA\n",
    "import numpy as np\n",
    "\n",
    "NUM_TRIALS = 5\n",
    "\n",
    "scoring = {'F1_weighted': make_scorer(f1_score, average='weighted'),\n",
    "           'F1_micro': make_scorer(f1_score, average='micro'),\n",
    "           'F1_macro': make_scorer(f1_score, average='macro'),\n",
    "           'F2_weighted': make_scorer(fbeta_score, beta=2, zero_division=0, average='weighted'),\n",
    "           'F2_micro': make_scorer(fbeta_score, beta=2, zero_division=0, average='micro'),\n",
    "           'F2_macro': make_scorer(fbeta_score, beta=2, zero_division=0, average='macro'),\n",
    "           'MCC': make_scorer(matthews_corrcoef),\n",
    "           'Balanced_Accuracy': 'balanced_accuracy',\n",
    "           }\n",
    "\n",
    "def get_outer_scores(y_true, y_pred, results_df, idx):\n",
    "    \"\"\"\n",
    "    Fill the dataframe which will contain all the scores for each experiment of a specific classifier\n",
    "\n",
    "    :param y_true: True labels\n",
    "    :param y_pred: Predicted labels by the best estimator of each inner cv\n",
    "    :param results_df: The dataframe to fill\n",
    "    :param idx: The index the results should be put\n",
    "    :return: The dataframe filled at the indicated index\n",
    "    \"\"\"\n",
    "    results_df['MCC'].loc[idx] = matthews_corrcoef(y_true, y_pred)\n",
    "    results_df['F1_weighted'].loc[idx] = f1_score(y_true, y_pred, average='weighted')\n",
    "    results_df['F1_micro'].loc[idx] = f1_score(y_true, y_pred, average='micro')\n",
    "    results_df['F1_macro'].loc[idx] = f1_score(y_true, y_pred, average='macro')\n",
    "    results_df['F2_weighted'].loc[idx] = fbeta_score(y_true, y_pred, beta=2, zero_division=0, average='weighted')\n",
    "    results_df['F2_micro'].loc[idx] = fbeta_score(y_true, y_pred, beta=2, zero_division=0, average='micro')\n",
    "    results_df['F2_macro'].loc[idx] = f1_score(y_true, y_pred, average='macro')\n",
    "    results_df['Balanced_Accuracy'].loc[idx] = balanced_accuracy_score(y_true, y_pred)\n",
    "\n",
    "    return results_df.copy()\n",
    "\n",
    "def run_ncv(data_x, labels, clf_name):\n",
    "    \"\"\"\n",
    "    Run an NCV experiment for a specific classifier whose name is required as input\n",
    "\n",
    "    :param data_x: Dataframe of samples and features\n",
    "    :param labels: numpy array of labels\n",
    "    :param clf_name: a string indicating the name of the classifier\n",
    "    :return: tuple\n",
    "        Result scores of all experiments in a dataframe (experiment_number x score) and a list with the best parameters\n",
    "        for each experiment just for inspection (DO NOT USE)\n",
    "    \"\"\"\n",
    "    # scaler = StandardScaler()\n",
    "    # scaled_data_x = scaler.fit_transform(data_x, labels)\n",
    "\n",
    "    trial_results_df = pd.DataFrame(columns=scoring.keys(), index=[i for i in range(NUM_TRIALS)])\n",
    "    best_params_list = []\n",
    "    for num_trial in range(NUM_TRIALS):\n",
    "        outer_cv = StratifiedKFold(n_splits=2, shuffle=True, random_state=num_trial)\n",
    "        # count = 0\n",
    "        for train_ix, test_ix in outer_cv.split(data_x, labels):\n",
    "            # print(train_ix)\n",
    "            x_train, x_test = data_x.loc[train_ix], data_x.loc[test_ix]\n",
    "            y_train, y_test = labels[train_ix], labels[test_ix]\n",
    "\n",
    "            #scaler = StandardScaler().fit(x_train)\n",
    "            #x_train = scaler.transform(x_train)\n",
    "            #x_test = scaler.transform(x_test)\n",
    "            pca = PCA(n_components=10).fit(x_train)\n",
    "            x_train = pca.transform(x_train)\n",
    "            x_test = pca.transform(x_test)\n",
    "\n",
    "            # count += 1\n",
    "            seed = num_trial\n",
    "\n",
    "            best_estimator, best_params = optimize_one_model(x_train, y_train, clf_name, seed)\n",
    "\n",
    "            best_params_list.append(best_params)\n",
    "            y_pred = best_estimator.predict(x_test)\n",
    "            trial_results_df = get_outer_scores(y_test, y_pred, trial_results_df.copy(), num_trial)\n",
    "    # print(best_params_list)\n",
    "\n",
    "    return trial_results_df, best_params_list\n",
    "\n",
    "def run_all_classifiers(data, targets):\n",
    "    \"\"\"\n",
    "    START HERE\n",
    "    Begin the nested cv experiment here. This function iterates over all classifier names and starts a ncv experiment for\n",
    "    each one.\n",
    "\n",
    "    :param data: A dataframe containing the features for all available samples (aka PCs)\n",
    "    :param targets: The labels after turning them into numbers of range 0 to num_classes-1\n",
    "    :return: Tuple\n",
    "        A dictionary with keys the names of the classifiers and values the dataframes containing the scores for each,\n",
    "        A dictionary containing the best params for each experiment and each classifier (Only used for inspection)\n",
    "    \"\"\"\n",
    "    results_dict = {}\n",
    "    params_dict = {}\n",
    "    classifiers = {0: 'svm',\n",
    "                   1: 'lr',\n",
    "                   2: 'gnb',\n",
    "                   3: 'rf',\n",
    "                   4: 'xgb'\n",
    "                   }\n",
    "\n",
    "    for clf in classifiers.values():\n",
    "        print(f'Starting NCV experiment for classifier {clf}')\n",
    "        # res_df = nested_cv(clf, hyperparam_grids[key], x, y)\n",
    "        res_df, best_params = run_ncv(data, targets, clf)\n",
    "        results_dict[clf] = res_df\n",
    "        params_dict[clf] = best_params\n",
    "        # break\n",
    "    return results_dict, params_dict"
   ]
  },
  {
   "cell_type": "markdown",
   "metadata": {
    "collapsed": false,
    "pycharm": {
     "name": "#%% md\n"
    }
   },
   "source": [
    "## Plotting functions"
   ]
  },
  {
   "cell_type": "code",
   "execution_count": 6,
   "metadata": {
    "collapsed": false,
    "pycharm": {
     "name": "#%%\n"
    }
   },
   "outputs": [],
   "source": [
    "def plot_clfs_metrics(results_dict):\n",
    "    fig, axes = plt.subplots(nrows=4, ncols=2, figsize=(6, 9))\n",
    "    my_palette = sns.color_palette(\"Set3\")\n",
    "\n",
    "    row, col = 0, 0\n",
    "    for metric in scoring.keys():\n",
    "        metric_data = pd.DataFrame()\n",
    "        for clf_key, df in results_dict.items():\n",
    "            metric_data[clf_key.upper()] = df[metric]\n",
    "        sns.boxplot(data=metric_data, ax=axes[row][col], width=0.5, palette=my_palette)\n",
    "        axes[row][col].set_title(metric)\n",
    "\n",
    "        col += 1\n",
    "        if col == 2:\n",
    "            col = 0\n",
    "            row += 1\n",
    "\n",
    "    fig.subplots_adjust(hspace=0.6, wspace=0.3)\n",
    "    fig.suptitle('Classifiers metrics comparison after nested CV experiments', fontsize=22)\n",
    "    plt.savefig('metrics_comparison.pdf')\n",
    "    plt.show()\n",
    "\n",
    "\n",
    "def plot_mccs(mcc_dict):\n",
    "    fig, ax = plt.subplots(figsize=(8, 7))\n",
    "    x_labels = [key.upper() for key in mcc_dict.keys()]\n",
    "    y_values = mcc_dict.values()\n",
    "    my_cmap = plt.get_cmap(\"Set3\")\n",
    "    plt.bar(x_labels, y_values, color=my_cmap.colors)\n",
    "    plt.title('MCC mean values comparison between different classifiers', fontsize=22)\n",
    "    ax.xaxis.label.set_size(8)\n",
    "    ax.yaxis.label.set_size(8)\n",
    "    ax.bar_label(ax.containers[0])\n",
    "    plt.xlabel('Classifiers', fontsize=10)\n",
    "    plt.savefig('mcc_compare.pdf')\n",
    "    plt.show()\n",
    "\n",
    "\n",
    "def plot_mean_std_errors(std_dict):\n",
    "    fig, ax = plt.subplots(figsize=(8, 7))\n",
    "    x_labels = [key.upper() for key in std_dict.keys()]\n",
    "    y_values = std_dict.values()\n",
    "    my_cmap = plt.get_cmap(\"Set3\")\n",
    "    plt.bar(x_labels, y_values, color=my_cmap.colors)\n",
    "    plt.title('MCC standard error comparison between different classifiers', fontsize=22)\n",
    "    ax.xaxis.label.set_size(8)\n",
    "    ax.yaxis.label.set_size(8)\n",
    "    ax.bar_label(ax.containers[0])\n",
    "    plt.xlabel('Classifiers', fontsize=10)\n",
    "    plt.savefig('std_e_compare.pdf')\n",
    "    plt.show()\n",
    "\n",
    "\n",
    "def compare_mean_mccs(results_dict):\n",
    "    \"\"\"\n",
    "    For each classifier calculate mean MCC score and standard error\n",
    "    :param results_dict: A dictionary with keys the names of the classifiers and values dataframes with the scores of\n",
    "    the ncv experiments done for each one\n",
    "    :return:\n",
    "    Dictionary for each classifier's mean MCC score\n",
    "    \"\"\"\n",
    "    mccs = {}\n",
    "    std_errors = {}\n",
    "    for key, df in results_dict.items():\n",
    "        mean_mcc = df['MCC'].mean()\n",
    "        std_error_mcc = df['MCC'].std(ddof=1) / np.sqrt(df['MCC'].shape[0])\n",
    "        mccs[key] = mean_mcc\n",
    "        std_errors[key] = std_error_mcc\n",
    "    plot_mccs(mccs)\n",
    "    plot_mean_std_errors(std_errors)\n",
    "    return mccs"
   ]
  },
  {
   "cell_type": "code",
   "execution_count": 10,
   "metadata": {
    "collapsed": false,
    "pycharm": {
     "name": "#%%\n"
    }
   },
   "outputs": [
    {
     "data": {
      "text/plain": [
       "(4014, 33694)"
      ]
     },
     "execution_count": 10,
     "metadata": {},
     "output_type": "execute_result"
    }
   ],
   "source": [
    "X.shape"
   ]
  },
  {
   "cell_type": "code",
   "execution_count": 11,
   "metadata": {
    "collapsed": false,
    "pycharm": {
     "name": "#%%\n"
    }
   },
   "outputs": [
    {
     "data": {
      "text/html": [
       "<div>\n",
       "<style scoped>\n",
       "    .dataframe tbody tr th:only-of-type {\n",
       "        vertical-align: middle;\n",
       "    }\n",
       "\n",
       "    .dataframe tbody tr th {\n",
       "        vertical-align: top;\n",
       "    }\n",
       "\n",
       "    .dataframe thead th {\n",
       "        text-align: right;\n",
       "    }\n",
       "</style>\n",
       "<table border=\"1\" class=\"dataframe\">\n",
       "  <thead>\n",
       "    <tr style=\"text-align: right;\">\n",
       "      <th></th>\n",
       "      <th>RP11.34P13.3</th>\n",
       "      <th>FAM138A</th>\n",
       "      <th>OR4F5</th>\n",
       "      <th>RP11.34P13.7</th>\n",
       "      <th>RP11.34P13.8</th>\n",
       "      <th>RP11.34P13.14</th>\n",
       "      <th>RP11.34P13.9</th>\n",
       "      <th>FO538757.3</th>\n",
       "      <th>FO538757.2</th>\n",
       "      <th>AP006222.2</th>\n",
       "      <th>...</th>\n",
       "      <th>AC007325.2</th>\n",
       "      <th>BX072566.1</th>\n",
       "      <th>AL354822.1</th>\n",
       "      <th>AC023491.2</th>\n",
       "      <th>AC004556.1</th>\n",
       "      <th>AC233755.2</th>\n",
       "      <th>AC233755.1</th>\n",
       "      <th>AC240274.1</th>\n",
       "      <th>AC213203.1</th>\n",
       "      <th>FAM231B</th>\n",
       "    </tr>\n",
       "  </thead>\n",
       "  <tbody>\n",
       "    <tr>\n",
       "      <th>0</th>\n",
       "      <td>0</td>\n",
       "      <td>0</td>\n",
       "      <td>0</td>\n",
       "      <td>0.0</td>\n",
       "      <td>0</td>\n",
       "      <td>0</td>\n",
       "      <td>0</td>\n",
       "      <td>0</td>\n",
       "      <td>0.0</td>\n",
       "      <td>0.000000</td>\n",
       "      <td>...</td>\n",
       "      <td>0.0</td>\n",
       "      <td>0</td>\n",
       "      <td>0.0</td>\n",
       "      <td>0</td>\n",
       "      <td>0.0</td>\n",
       "      <td>0</td>\n",
       "      <td>0</td>\n",
       "      <td>0.0</td>\n",
       "      <td>0</td>\n",
       "      <td>0</td>\n",
       "    </tr>\n",
       "    <tr>\n",
       "      <th>1</th>\n",
       "      <td>0</td>\n",
       "      <td>0</td>\n",
       "      <td>0</td>\n",
       "      <td>0.0</td>\n",
       "      <td>0</td>\n",
       "      <td>0</td>\n",
       "      <td>0</td>\n",
       "      <td>0</td>\n",
       "      <td>0.0</td>\n",
       "      <td>0.000000</td>\n",
       "      <td>...</td>\n",
       "      <td>0.0</td>\n",
       "      <td>0</td>\n",
       "      <td>0.0</td>\n",
       "      <td>0</td>\n",
       "      <td>0.0</td>\n",
       "      <td>0</td>\n",
       "      <td>0</td>\n",
       "      <td>0.0</td>\n",
       "      <td>0</td>\n",
       "      <td>0</td>\n",
       "    </tr>\n",
       "    <tr>\n",
       "      <th>2</th>\n",
       "      <td>0</td>\n",
       "      <td>0</td>\n",
       "      <td>0</td>\n",
       "      <td>0.0</td>\n",
       "      <td>0</td>\n",
       "      <td>0</td>\n",
       "      <td>0</td>\n",
       "      <td>0</td>\n",
       "      <td>0.0</td>\n",
       "      <td>0.000000</td>\n",
       "      <td>...</td>\n",
       "      <td>0.0</td>\n",
       "      <td>0</td>\n",
       "      <td>0.0</td>\n",
       "      <td>0</td>\n",
       "      <td>0.0</td>\n",
       "      <td>0</td>\n",
       "      <td>0</td>\n",
       "      <td>0.0</td>\n",
       "      <td>0</td>\n",
       "      <td>0</td>\n",
       "    </tr>\n",
       "    <tr>\n",
       "      <th>3</th>\n",
       "      <td>0</td>\n",
       "      <td>0</td>\n",
       "      <td>0</td>\n",
       "      <td>0.0</td>\n",
       "      <td>0</td>\n",
       "      <td>0</td>\n",
       "      <td>0</td>\n",
       "      <td>0</td>\n",
       "      <td>0.0</td>\n",
       "      <td>0.592736</td>\n",
       "      <td>...</td>\n",
       "      <td>0.0</td>\n",
       "      <td>0</td>\n",
       "      <td>0.0</td>\n",
       "      <td>0</td>\n",
       "      <td>0.0</td>\n",
       "      <td>0</td>\n",
       "      <td>0</td>\n",
       "      <td>0.0</td>\n",
       "      <td>0</td>\n",
       "      <td>0</td>\n",
       "    </tr>\n",
       "  </tbody>\n",
       "</table>\n",
       "<p>4 rows × 33694 columns</p>\n",
       "</div>"
      ],
      "text/plain": [
       "   RP11.34P13.3  FAM138A  OR4F5  RP11.34P13.7  RP11.34P13.8  RP11.34P13.14  \\\n",
       "0             0        0      0           0.0             0              0   \n",
       "1             0        0      0           0.0             0              0   \n",
       "2             0        0      0           0.0             0              0   \n",
       "3             0        0      0           0.0             0              0   \n",
       "\n",
       "   RP11.34P13.9  FO538757.3  FO538757.2  AP006222.2  ...  AC007325.2  \\\n",
       "0             0           0         0.0    0.000000  ...         0.0   \n",
       "1             0           0         0.0    0.000000  ...         0.0   \n",
       "2             0           0         0.0    0.000000  ...         0.0   \n",
       "3             0           0         0.0    0.592736  ...         0.0   \n",
       "\n",
       "   BX072566.1  AL354822.1  AC023491.2  AC004556.1  AC233755.2  AC233755.1  \\\n",
       "0           0         0.0           0         0.0           0           0   \n",
       "1           0         0.0           0         0.0           0           0   \n",
       "2           0         0.0           0         0.0           0           0   \n",
       "3           0         0.0           0         0.0           0           0   \n",
       "\n",
       "   AC240274.1  AC213203.1  FAM231B  \n",
       "0         0.0           0        0  \n",
       "1         0.0           0        0  \n",
       "2         0.0           0        0  \n",
       "3         0.0           0        0  \n",
       "\n",
       "[4 rows x 33694 columns]"
      ]
     },
     "execution_count": 11,
     "metadata": {},
     "output_type": "execute_result"
    }
   ],
   "source": [
    "X.loc[[0,1,2,3]]"
   ]
  },
  {
   "cell_type": "code",
   "execution_count": 35,
   "metadata": {
    "collapsed": false,
    "pycharm": {
     "is_executing": true,
     "name": "#%%\n"
    }
   },
   "outputs": [
    {
     "name": "stdout",
     "output_type": "stream",
     "text": [
      "Starting NCV experiment for classifier svm\n"
     ]
    },
    {
     "data": {
      "application/vnd.jupyter.widget-view+json": {
       "model_id": "a93810f6927d4b9b926ed702f6b011df",
       "version_major": 2,
       "version_minor": 0
      },
      "text/plain": [
       "  0%|          | 0/10 [00:00<?, ?it/s]"
      ]
     },
     "metadata": {},
     "output_type": "display_data"
    },
    {
     "data": {
      "application/vnd.jupyter.widget-view+json": {
       "model_id": "00f311ecb2e84cc29111636ccbdd3c55",
       "version_major": 2,
       "version_minor": 0
      },
      "text/plain": [
       "  0%|          | 0/10 [00:00<?, ?it/s]"
      ]
     },
     "metadata": {},
     "output_type": "display_data"
    },
    {
     "data": {
      "application/vnd.jupyter.widget-view+json": {
       "model_id": "8f1bc0ffd6924f09a2a80697b2500fcb",
       "version_major": 2,
       "version_minor": 0
      },
      "text/plain": [
       "  0%|          | 0/10 [00:00<?, ?it/s]"
      ]
     },
     "metadata": {},
     "output_type": "display_data"
    },
    {
     "data": {
      "application/vnd.jupyter.widget-view+json": {
       "model_id": "db178567e88a4c46a70a9bfa14b3feb9",
       "version_major": 2,
       "version_minor": 0
      },
      "text/plain": [
       "  0%|          | 0/10 [00:00<?, ?it/s]"
      ]
     },
     "metadata": {},
     "output_type": "display_data"
    },
    {
     "data": {
      "application/vnd.jupyter.widget-view+json": {
       "model_id": "31595e137e024e7a95d8db7d5071daf4",
       "version_major": 2,
       "version_minor": 0
      },
      "text/plain": [
       "  0%|          | 0/10 [00:00<?, ?it/s]"
      ]
     },
     "metadata": {},
     "output_type": "display_data"
    },
    {
     "data": {
      "application/vnd.jupyter.widget-view+json": {
       "model_id": "f494abd4ecca4d129d856554800129f5",
       "version_major": 2,
       "version_minor": 0
      },
      "text/plain": [
       "  0%|          | 0/10 [00:00<?, ?it/s]"
      ]
     },
     "metadata": {},
     "output_type": "display_data"
    },
    {
     "data": {
      "application/vnd.jupyter.widget-view+json": {
       "model_id": "f99f961b41194faabdbd66023fc19a47",
       "version_major": 2,
       "version_minor": 0
      },
      "text/plain": [
       "  0%|          | 0/10 [00:00<?, ?it/s]"
      ]
     },
     "metadata": {},
     "output_type": "display_data"
    },
    {
     "data": {
      "application/vnd.jupyter.widget-view+json": {
       "model_id": "ca4b066dde0d41dab0753186379f198c",
       "version_major": 2,
       "version_minor": 0
      },
      "text/plain": [
       "  0%|          | 0/10 [00:00<?, ?it/s]"
      ]
     },
     "metadata": {},
     "output_type": "display_data"
    },
    {
     "data": {
      "application/vnd.jupyter.widget-view+json": {
       "model_id": "68e0a8f52757449c82e72692f5ee8296",
       "version_major": 2,
       "version_minor": 0
      },
      "text/plain": [
       "  0%|          | 0/10 [00:00<?, ?it/s]"
      ]
     },
     "metadata": {},
     "output_type": "display_data"
    },
    {
     "data": {
      "application/vnd.jupyter.widget-view+json": {
       "model_id": "cbe95e165adb4fe0910b2a0e04fee1b7",
       "version_major": 2,
       "version_minor": 0
      },
      "text/plain": [
       "  0%|          | 0/10 [00:00<?, ?it/s]"
      ]
     },
     "metadata": {},
     "output_type": "display_data"
    },
    {
     "name": "stdout",
     "output_type": "stream",
     "text": [
      "Starting NCV experiment for classifier lr\n"
     ]
    },
    {
     "data": {
      "application/vnd.jupyter.widget-view+json": {
       "model_id": "5b1ea70be0ae44d9adc6b9169132e7f8",
       "version_major": 2,
       "version_minor": 0
      },
      "text/plain": [
       "  0%|          | 0/10 [00:00<?, ?it/s]"
      ]
     },
     "metadata": {},
     "output_type": "display_data"
    },
    {
     "name": "stdout",
     "output_type": "stream",
     "text": [
      "[W 2023-06-24 12:36:32,037] Trial 2 failed with parameters: {'lr_solver': 'newton-cholesky', 'lr_c': 0.4641111910994367} because of the following error: The value nan is not acceptable..\n",
      "[W 2023-06-24 12:36:32,044] Trial 2 failed with value nan.\n",
      "[W 2023-06-24 12:36:32,138] Trial 7 failed with parameters: {'lr_solver': 'newton-cholesky', 'lr_c': 0.5471876249320794} because of the following error: The value nan is not acceptable..\n",
      "[W 2023-06-24 12:36:32,150] Trial 7 failed with value nan.\n"
     ]
    },
    {
     "data": {
      "application/vnd.jupyter.widget-view+json": {
       "model_id": "a61729aab3cd4f90bdd1409ae9368420",
       "version_major": 2,
       "version_minor": 0
      },
      "text/plain": [
       "  0%|          | 0/10 [00:00<?, ?it/s]"
      ]
     },
     "metadata": {},
     "output_type": "display_data"
    },
    {
     "name": "stdout",
     "output_type": "stream",
     "text": [
      "[W 2023-06-24 12:36:40,237] Trial 0 failed with parameters: {'lr_solver': 'newton-cholesky', 'lr_c': 0.22301018545510812} because of the following error: The value nan is not acceptable..\n",
      "[W 2023-06-24 12:36:40,245] Trial 0 failed with value nan.\n",
      "[W 2023-06-24 12:36:40,254] Trial 4 failed with parameters: {'lr_solver': 'newton-cholesky', 'lr_c': 9.439482546247532} because of the following error: The value nan is not acceptable..\n",
      "[W 2023-06-24 12:36:40,279] Trial 4 failed with value nan.\n",
      "[W 2023-06-24 12:36:40,255] Trial 3 failed with parameters: {'lr_solver': 'newton-cholesky', 'lr_c': 8.452609578633256} because of the following error: The value nan is not acceptable..\n",
      "[W 2023-06-24 12:36:40,288] Trial 3 failed with value nan.\n",
      "[W 2023-06-24 12:36:40,459] Trial 7 failed with parameters: {'lr_solver': 'newton-cholesky', 'lr_c': 0.04239522119404724} because of the following error: The value nan is not acceptable..\n",
      "[W 2023-06-24 12:36:40,463] Trial 7 failed with value nan.\n"
     ]
    },
    {
     "data": {
      "application/vnd.jupyter.widget-view+json": {
       "model_id": "1b5280a66cc440a4a33d291e895c013c",
       "version_major": 2,
       "version_minor": 0
      },
      "text/plain": [
       "  0%|          | 0/10 [00:00<?, ?it/s]"
      ]
     },
     "metadata": {},
     "output_type": "display_data"
    },
    {
     "name": "stdout",
     "output_type": "stream",
     "text": [
      "[W 2023-06-24 12:36:48,281] Trial 4 failed with parameters: {'lr_solver': 'newton-cholesky', 'lr_c': 0.093030782856418} because of the following error: The value nan is not acceptable..\n",
      "[W 2023-06-24 12:36:48,289] Trial 4 failed with value nan.\n",
      "[W 2023-06-24 12:36:48,405] Trial 3 failed with parameters: {'lr_solver': 'newton-cholesky', 'lr_c': 6.452771512161226} because of the following error: The value nan is not acceptable..\n",
      "[W 2023-06-24 12:36:48,413] Trial 3 failed with value nan.\n",
      "[W 2023-06-24 12:36:48,435] Trial 5 failed with parameters: {'lr_solver': 'newton-cholesky', 'lr_c': 0.5522920999435413} because of the following error: The value nan is not acceptable..\n",
      "[W 2023-06-24 12:36:48,464] Trial 5 failed with value nan.\n",
      "[W 2023-06-24 12:36:48,452] Trial 6 failed with parameters: {'lr_solver': 'newton-cholesky', 'lr_c': 2.702539080116834} because of the following error: The value nan is not acceptable..\n",
      "[W 2023-06-24 12:36:48,474] Trial 6 failed with value nan.\n"
     ]
    },
    {
     "data": {
      "application/vnd.jupyter.widget-view+json": {
       "model_id": "418ed0cdacc04ad295017737cdbb4b54",
       "version_major": 2,
       "version_minor": 0
      },
      "text/plain": [
       "  0%|          | 0/10 [00:00<?, ?it/s]"
      ]
     },
     "metadata": {},
     "output_type": "display_data"
    },
    {
     "name": "stdout",
     "output_type": "stream",
     "text": [
      "[W 2023-06-24 12:36:57,146] Trial 3 failed with parameters: {'lr_solver': 'newton-cholesky', 'lr_c': 0.07367376499282477} because of the following error: The value nan is not acceptable..\n",
      "[W 2023-06-24 12:36:57,155] Trial 3 failed with value nan.\n",
      "[W 2023-06-24 12:36:57,177] Trial 1 failed with parameters: {'lr_solver': 'newton-cholesky', 'lr_c': 0.32620296532964055} because of the following error: The value nan is not acceptable..\n",
      "[W 2023-06-24 12:36:57,189] Trial 1 failed with value nan.\n",
      "[W 2023-06-24 12:36:57,200] Trial 7 failed with parameters: {'lr_solver': 'newton-cholesky', 'lr_c': 0.40628558601400255} because of the following error: The value nan is not acceptable..\n",
      "[W 2023-06-24 12:36:57,211] Trial 7 failed with value nan.\n",
      "[W 2023-06-24 12:36:57,227] Trial 6 failed with parameters: {'lr_solver': 'newton-cholesky', 'lr_c': 0.38245004550192935} because of the following error: The value nan is not acceptable..\n",
      "[W 2023-06-24 12:36:57,236] Trial 6 failed with value nan.\n"
     ]
    },
    {
     "data": {
      "application/vnd.jupyter.widget-view+json": {
       "model_id": "b6ce532ce5334785861b3456e3debabe",
       "version_major": 2,
       "version_minor": 0
      },
      "text/plain": [
       "  0%|          | 0/10 [00:00<?, ?it/s]"
      ]
     },
     "metadata": {},
     "output_type": "display_data"
    },
    {
     "name": "stdout",
     "output_type": "stream",
     "text": [
      "[W 2023-06-24 12:37:05,453] Trial 8 failed with parameters: {'lr_solver': 'newton-cholesky', 'lr_c': 0.08630767379341141} because of the following error: The value nan is not acceptable..\n",
      "[W 2023-06-24 12:37:05,457] Trial 8 failed with value nan.\n"
     ]
    },
    {
     "data": {
      "application/vnd.jupyter.widget-view+json": {
       "model_id": "9d35f165778a45069bbdb81e7f3e6106",
       "version_major": 2,
       "version_minor": 0
      },
      "text/plain": [
       "  0%|          | 0/10 [00:00<?, ?it/s]"
      ]
     },
     "metadata": {},
     "output_type": "display_data"
    },
    {
     "name": "stdout",
     "output_type": "stream",
     "text": [
      "[W 2023-06-24 12:37:13,178] Trial 2 failed with parameters: {'lr_solver': 'newton-cholesky', 'lr_c': 0.07606336925180644} because of the following error: The value nan is not acceptable..\n",
      "[W 2023-06-24 12:37:13,184] Trial 2 failed with value nan.\n",
      "[W 2023-06-24 12:37:13,342] Trial 9 failed with parameters: {'lr_solver': 'newton-cholesky', 'lr_c': 1.2001231141177782} because of the following error: The value nan is not acceptable..\n",
      "[W 2023-06-24 12:37:13,346] Trial 9 failed with value nan.\n"
     ]
    },
    {
     "data": {
      "application/vnd.jupyter.widget-view+json": {
       "model_id": "5e252f3586924965a3668864b4e6bd92",
       "version_major": 2,
       "version_minor": 0
      },
      "text/plain": [
       "  0%|          | 0/10 [00:00<?, ?it/s]"
      ]
     },
     "metadata": {},
     "output_type": "display_data"
    },
    {
     "name": "stdout",
     "output_type": "stream",
     "text": [
      "[W 2023-06-24 12:37:20,808] Trial 0 failed with parameters: {'lr_solver': 'newton-cholesky', 'lr_c': 7.505337318571772} because of the following error: The value nan is not acceptable..\n",
      "[W 2023-06-24 12:37:20,813] Trial 0 failed with value nan.\n",
      "[W 2023-06-24 12:37:20,922] Trial 6 failed with parameters: {'lr_solver': 'newton-cholesky', 'lr_c': 0.03292346545134786} because of the following error: The value nan is not acceptable..\n",
      "[W 2023-06-24 12:37:20,930] Trial 8 failed with parameters: {'lr_solver': 'newton-cholesky', 'lr_c': 0.030000818203763217} because of the following error: The value nan is not acceptable..\n",
      "[W 2023-06-24 12:37:20,939] Trial 8 failed with value nan.\n",
      "[W 2023-06-24 12:37:20,935] Trial 6 failed with value nan.\n"
     ]
    },
    {
     "data": {
      "application/vnd.jupyter.widget-view+json": {
       "model_id": "21c4319320364ab689ad5f48eee2e94d",
       "version_major": 2,
       "version_minor": 0
      },
      "text/plain": [
       "  0%|          | 0/10 [00:00<?, ?it/s]"
      ]
     },
     "metadata": {},
     "output_type": "display_data"
    },
    {
     "name": "stdout",
     "output_type": "stream",
     "text": [
      "[W 2023-06-24 12:37:29,263] Trial 1 failed with parameters: {'lr_solver': 'newton-cholesky', 'lr_c': 0.04319597829291602} because of the following error: The value nan is not acceptable..\n",
      "[W 2023-06-24 12:37:29,272] Trial 1 failed with value nan.\n"
     ]
    },
    {
     "data": {
      "application/vnd.jupyter.widget-view+json": {
       "model_id": "e7dc43738bd94d50a5e39d2f606b2621",
       "version_major": 2,
       "version_minor": 0
      },
      "text/plain": [
       "  0%|          | 0/10 [00:00<?, ?it/s]"
      ]
     },
     "metadata": {},
     "output_type": "display_data"
    },
    {
     "name": "stdout",
     "output_type": "stream",
     "text": [
      "[W 2023-06-24 12:37:37,573] Trial 2 failed with parameters: {'lr_solver': 'newton-cholesky', 'lr_c': 1.3266918152531073} because of the following error: The value nan is not acceptable..\n",
      "[W 2023-06-24 12:37:37,578] Trial 2 failed with value nan.\n"
     ]
    },
    {
     "data": {
      "application/vnd.jupyter.widget-view+json": {
       "model_id": "d544ce8cb0f847cbb80537137ba2863d",
       "version_major": 2,
       "version_minor": 0
      },
      "text/plain": [
       "  0%|          | 0/10 [00:00<?, ?it/s]"
      ]
     },
     "metadata": {},
     "output_type": "display_data"
    },
    {
     "name": "stdout",
     "output_type": "stream",
     "text": [
      "Starting NCV experiment for classifier gnb\n"
     ]
    },
    {
     "data": {
      "application/vnd.jupyter.widget-view+json": {
       "model_id": "e20b6781c7114dd9b6d28da89752c032",
       "version_major": 2,
       "version_minor": 0
      },
      "text/plain": [
       "  0%|          | 0/10 [00:00<?, ?it/s]"
      ]
     },
     "metadata": {},
     "output_type": "display_data"
    },
    {
     "data": {
      "application/vnd.jupyter.widget-view+json": {
       "model_id": "27ff4a70a0b849428d9468b5a26a6a43",
       "version_major": 2,
       "version_minor": 0
      },
      "text/plain": [
       "  0%|          | 0/10 [00:00<?, ?it/s]"
      ]
     },
     "metadata": {},
     "output_type": "display_data"
    },
    {
     "data": {
      "application/vnd.jupyter.widget-view+json": {
       "model_id": "807001c99f904c99bf095a2bf52a6067",
       "version_major": 2,
       "version_minor": 0
      },
      "text/plain": [
       "  0%|          | 0/10 [00:00<?, ?it/s]"
      ]
     },
     "metadata": {},
     "output_type": "display_data"
    },
    {
     "data": {
      "application/vnd.jupyter.widget-view+json": {
       "model_id": "b4c8c5b83a2c4a2198d4580c801435e2",
       "version_major": 2,
       "version_minor": 0
      },
      "text/plain": [
       "  0%|          | 0/10 [00:00<?, ?it/s]"
      ]
     },
     "metadata": {},
     "output_type": "display_data"
    },
    {
     "data": {
      "application/vnd.jupyter.widget-view+json": {
       "model_id": "bd0591a386274798a74fbc8e5b965a12",
       "version_major": 2,
       "version_minor": 0
      },
      "text/plain": [
       "  0%|          | 0/10 [00:00<?, ?it/s]"
      ]
     },
     "metadata": {},
     "output_type": "display_data"
    },
    {
     "data": {
      "application/vnd.jupyter.widget-view+json": {
       "model_id": "a014df65370443c7aa8f3981311fc754",
       "version_major": 2,
       "version_minor": 0
      },
      "text/plain": [
       "  0%|          | 0/10 [00:00<?, ?it/s]"
      ]
     },
     "metadata": {},
     "output_type": "display_data"
    },
    {
     "data": {
      "application/vnd.jupyter.widget-view+json": {
       "model_id": "b227f62ce8164be2a495c8a95046c38b",
       "version_major": 2,
       "version_minor": 0
      },
      "text/plain": [
       "  0%|          | 0/10 [00:00<?, ?it/s]"
      ]
     },
     "metadata": {},
     "output_type": "display_data"
    },
    {
     "data": {
      "application/vnd.jupyter.widget-view+json": {
       "model_id": "e43a650767bd4dcda349a1b5b9550dfa",
       "version_major": 2,
       "version_minor": 0
      },
      "text/plain": [
       "  0%|          | 0/10 [00:00<?, ?it/s]"
      ]
     },
     "metadata": {},
     "output_type": "display_data"
    },
    {
     "data": {
      "application/vnd.jupyter.widget-view+json": {
       "model_id": "e1cbced7e0d24b228b247c2356e07606",
       "version_major": 2,
       "version_minor": 0
      },
      "text/plain": [
       "  0%|          | 0/10 [00:00<?, ?it/s]"
      ]
     },
     "metadata": {},
     "output_type": "display_data"
    },
    {
     "data": {
      "application/vnd.jupyter.widget-view+json": {
       "model_id": "f4e1f0c141d64f45bc929a184c31de00",
       "version_major": 2,
       "version_minor": 0
      },
      "text/plain": [
       "  0%|          | 0/10 [00:00<?, ?it/s]"
      ]
     },
     "metadata": {},
     "output_type": "display_data"
    },
    {
     "name": "stdout",
     "output_type": "stream",
     "text": [
      "Starting NCV experiment for classifier rf\n"
     ]
    },
    {
     "data": {
      "application/vnd.jupyter.widget-view+json": {
       "model_id": "0c86281ef0374b2c946889877ce1243f",
       "version_major": 2,
       "version_minor": 0
      },
      "text/plain": [
       "  0%|          | 0/10 [00:00<?, ?it/s]"
      ]
     },
     "metadata": {},
     "output_type": "display_data"
    },
    {
     "data": {
      "application/vnd.jupyter.widget-view+json": {
       "model_id": "97dcd396dae94969bd7c31ed3eaaa9c5",
       "version_major": 2,
       "version_minor": 0
      },
      "text/plain": [
       "  0%|          | 0/10 [00:00<?, ?it/s]"
      ]
     },
     "metadata": {},
     "output_type": "display_data"
    },
    {
     "data": {
      "application/vnd.jupyter.widget-view+json": {
       "model_id": "0829faaf69744fec9544bd36b7e5aa2c",
       "version_major": 2,
       "version_minor": 0
      },
      "text/plain": [
       "  0%|          | 0/10 [00:00<?, ?it/s]"
      ]
     },
     "metadata": {},
     "output_type": "display_data"
    },
    {
     "data": {
      "application/vnd.jupyter.widget-view+json": {
       "model_id": "01921c30f3ae462bb3d60b2abc32df50",
       "version_major": 2,
       "version_minor": 0
      },
      "text/plain": [
       "  0%|          | 0/10 [00:00<?, ?it/s]"
      ]
     },
     "metadata": {},
     "output_type": "display_data"
    },
    {
     "data": {
      "application/vnd.jupyter.widget-view+json": {
       "model_id": "2c8255f9991842ab88cd205c2213df4d",
       "version_major": 2,
       "version_minor": 0
      },
      "text/plain": [
       "  0%|          | 0/10 [00:00<?, ?it/s]"
      ]
     },
     "metadata": {},
     "output_type": "display_data"
    },
    {
     "data": {
      "application/vnd.jupyter.widget-view+json": {
       "model_id": "20672735608a40e3a9470338beadfbd5",
       "version_major": 2,
       "version_minor": 0
      },
      "text/plain": [
       "  0%|          | 0/10 [00:00<?, ?it/s]"
      ]
     },
     "metadata": {},
     "output_type": "display_data"
    },
    {
     "data": {
      "application/vnd.jupyter.widget-view+json": {
       "model_id": "2163150f842b40aba0ee2608d66c959d",
       "version_major": 2,
       "version_minor": 0
      },
      "text/plain": [
       "  0%|          | 0/10 [00:00<?, ?it/s]"
      ]
     },
     "metadata": {},
     "output_type": "display_data"
    },
    {
     "data": {
      "application/vnd.jupyter.widget-view+json": {
       "model_id": "9b0e0c079fbc4144b37cd00f79c93061",
       "version_major": 2,
       "version_minor": 0
      },
      "text/plain": [
       "  0%|          | 0/10 [00:00<?, ?it/s]"
      ]
     },
     "metadata": {},
     "output_type": "display_data"
    },
    {
     "data": {
      "application/vnd.jupyter.widget-view+json": {
       "model_id": "a28cbda754c5465f86741a70f0d40d2a",
       "version_major": 2,
       "version_minor": 0
      },
      "text/plain": [
       "  0%|          | 0/10 [00:00<?, ?it/s]"
      ]
     },
     "metadata": {},
     "output_type": "display_data"
    },
    {
     "data": {
      "application/vnd.jupyter.widget-view+json": {
       "model_id": "c9372f08ffc140c68358fe3ad3841a8c",
       "version_major": 2,
       "version_minor": 0
      },
      "text/plain": [
       "  0%|          | 0/10 [00:00<?, ?it/s]"
      ]
     },
     "metadata": {},
     "output_type": "display_data"
    },
    {
     "name": "stdout",
     "output_type": "stream",
     "text": [
      "Starting NCV experiment for classifier xgb\n"
     ]
    },
    {
     "data": {
      "application/vnd.jupyter.widget-view+json": {
       "model_id": "a8152056fb674c8085c7cdb46e13baa3",
       "version_major": 2,
       "version_minor": 0
      },
      "text/plain": [
       "  0%|          | 0/10 [00:00<?, ?it/s]"
      ]
     },
     "metadata": {},
     "output_type": "display_data"
    },
    {
     "data": {
      "application/vnd.jupyter.widget-view+json": {
       "model_id": "5e2bab3e6026492ba787bb09d53fdf0d",
       "version_major": 2,
       "version_minor": 0
      },
      "text/plain": [
       "  0%|          | 0/10 [00:00<?, ?it/s]"
      ]
     },
     "metadata": {},
     "output_type": "display_data"
    },
    {
     "data": {
      "application/vnd.jupyter.widget-view+json": {
       "model_id": "7affa4c1044341beae544349d0b931bf",
       "version_major": 2,
       "version_minor": 0
      },
      "text/plain": [
       "  0%|          | 0/10 [00:00<?, ?it/s]"
      ]
     },
     "metadata": {},
     "output_type": "display_data"
    },
    {
     "data": {
      "application/vnd.jupyter.widget-view+json": {
       "model_id": "41ec2d4c9ce14d27a866069447075589",
       "version_major": 2,
       "version_minor": 0
      },
      "text/plain": [
       "  0%|          | 0/10 [00:00<?, ?it/s]"
      ]
     },
     "metadata": {},
     "output_type": "display_data"
    },
    {
     "data": {
      "application/vnd.jupyter.widget-view+json": {
       "model_id": "4eed0d57945d4ff7b0e26bd0ab563599",
       "version_major": 2,
       "version_minor": 0
      },
      "text/plain": [
       "  0%|          | 0/10 [00:00<?, ?it/s]"
      ]
     },
     "metadata": {},
     "output_type": "display_data"
    },
    {
     "data": {
      "application/vnd.jupyter.widget-view+json": {
       "model_id": "8cdec3acaf1a4ddba201438764f81777",
       "version_major": 2,
       "version_minor": 0
      },
      "text/plain": [
       "  0%|          | 0/10 [00:00<?, ?it/s]"
      ]
     },
     "metadata": {},
     "output_type": "display_data"
    },
    {
     "data": {
      "application/vnd.jupyter.widget-view+json": {
       "model_id": "2bbfd03687ef453283e21adbcb2bf039",
       "version_major": 2,
       "version_minor": 0
      },
      "text/plain": [
       "  0%|          | 0/10 [00:00<?, ?it/s]"
      ]
     },
     "metadata": {},
     "output_type": "display_data"
    },
    {
     "data": {
      "application/vnd.jupyter.widget-view+json": {
       "model_id": "3acf4007a413472d95d1b6e80975aa2d",
       "version_major": 2,
       "version_minor": 0
      },
      "text/plain": [
       "  0%|          | 0/10 [00:00<?, ?it/s]"
      ]
     },
     "metadata": {},
     "output_type": "display_data"
    },
    {
     "data": {
      "application/vnd.jupyter.widget-view+json": {
       "model_id": "9d5edc241baf484ab63886c7a61b1d54",
       "version_major": 2,
       "version_minor": 0
      },
      "text/plain": [
       "  0%|          | 0/10 [00:00<?, ?it/s]"
      ]
     },
     "metadata": {},
     "output_type": "display_data"
    },
    {
     "data": {
      "application/vnd.jupyter.widget-view+json": {
       "model_id": "d8fc6be286894119a616570ee67b3ce8",
       "version_major": 2,
       "version_minor": 0
      },
      "text/plain": [
       "  0%|          | 0/10 [00:00<?, ?it/s]"
      ]
     },
     "metadata": {},
     "output_type": "display_data"
    }
   ],
   "source": [
    "results, params_dict = run_all_classifiers(X,y)"
   ]
  },
  {
   "cell_type": "code",
   "execution_count": 36,
   "metadata": {
    "collapsed": false,
    "pycharm": {
     "name": "#%%\n"
    }
   },
   "outputs": [
    {
     "name": "stdout",
     "output_type": "stream",
     "text": [
      "Params for classifier svm\n",
      "Params of trial 0: {'c_svm': 9.466796648754318, 'gamma_svm': 0.02532065213037509}\n",
      "Params of trial 1: {'c_svm': 8.882739562999577, 'gamma_svm': 0.07636938416515539}\n",
      "Params of trial 2: {'c_svm': 6.8171630180798655, 'gamma_svm': 0.06896085844641617}\n",
      "Params of trial 3: {'c_svm': 6.603015480068322, 'gamma_svm': 0.019328885102111656}\n",
      "Params of trial 4: {'c_svm': 3.3419524327198493, 'gamma_svm': 0.03194089541638176}\n",
      "Params of trial 5: {'c_svm': 4.225722350135788, 'gamma_svm': 0.033211701545108545}\n",
      "Params of trial 6: {'c_svm': 8.756323150193928, 'gamma_svm': 0.03172390176422118}\n",
      "Params of trial 7: {'c_svm': 3.658498307630858, 'gamma_svm': 0.033549207651684065}\n",
      "Params of trial 8: {'c_svm': 6.308958641727966, 'gamma_svm': 0.02356279941132918}\n",
      "Params of trial 9: {'c_svm': 3.0098577930784525, 'gamma_svm': 0.048234494809525276}\n",
      "Params for classifier lr\n",
      "Params of trial 0: {'lr_solver': 'sag', 'lr_c': 1.307116995984533}\n",
      "Params of trial 1: {'lr_solver': 'newton-cg', 'lr_c': 1.3635796964231075}\n",
      "Params of trial 2: {'lr_solver': 'saga', 'lr_c': 4.673252855857748}\n",
      "Params of trial 3: {'lr_solver': 'saga', 'lr_c': 0.45413686468626574}\n",
      "Params of trial 4: {'lr_solver': 'lbfgs', 'lr_c': 4.724846775316073}\n",
      "Params of trial 5: {'lr_solver': 'lbfgs', 'lr_c': 5.880128976400269}\n",
      "Params of trial 6: {'lr_solver': 'sag', 'lr_c': 2.861386250577729}\n",
      "Params of trial 7: {'lr_solver': 'newton-cg', 'lr_c': 6.42242738432304}\n",
      "Params of trial 8: {'lr_solver': 'lbfgs', 'lr_c': 3.848586691857292}\n",
      "Params of trial 9: {'lr_solver': 'lbfgs', 'lr_c': 6.637142635168965}\n",
      "Params for classifier gnb\n",
      "Params of trial 0: {'gnb_var_smoothing': 3.4834160147523476e-09}\n",
      "Params of trial 1: {'gnb_var_smoothing': 7.351399971134282e-07}\n",
      "Params of trial 2: {'gnb_var_smoothing': 3.0507639122361984e-10}\n",
      "Params of trial 3: {'gnb_var_smoothing': 6.59200083335177e-07}\n",
      "Params of trial 4: {'gnb_var_smoothing': 5.595348431949812e-07}\n",
      "Params of trial 5: {'gnb_var_smoothing': 1.3805201993295655e-09}\n",
      "Params of trial 6: {'gnb_var_smoothing': 2.9240011994748697e-10}\n",
      "Params of trial 7: {'gnb_var_smoothing': 5.171585778918803e-07}\n",
      "Params of trial 8: {'gnb_var_smoothing': 2.842674329864083e-07}\n",
      "Params of trial 9: {'gnb_var_smoothing': 7.819184930416066e-07}\n",
      "Params for classifier rf\n",
      "Params of trial 0: {'rf_n_estimators': 262, 'rf_max_depth': 5}\n",
      "Params of trial 1: {'rf_n_estimators': 203, 'rf_max_depth': 5}\n",
      "Params of trial 2: {'rf_n_estimators': 390, 'rf_max_depth': 5}\n",
      "Params of trial 3: {'rf_n_estimators': 143, 'rf_max_depth': 5}\n",
      "Params of trial 4: {'rf_n_estimators': 249, 'rf_max_depth': 5}\n",
      "Params of trial 5: {'rf_n_estimators': 254, 'rf_max_depth': 5}\n",
      "Params of trial 6: {'rf_n_estimators': 331, 'rf_max_depth': 5}\n",
      "Params of trial 7: {'rf_n_estimators': 205, 'rf_max_depth': 5}\n",
      "Params of trial 8: {'rf_n_estimators': 376, 'rf_max_depth': 5}\n",
      "Params of trial 9: {'rf_n_estimators': 63, 'rf_max_depth': 5}\n",
      "Params for classifier xgb\n",
      "Params of trial 0: {'xgb_eta': 0.4981999742372269, 'xgb_gamma': 0, 'xgb_min_child_weight': 3.803410476739175, 'xgb_subsample': 0.8001931277765535, 'xgb_max_leaves': 37}\n",
      "Params of trial 1: {'xgb_eta': 0.3699323567941702, 'xgb_gamma': 0, 'xgb_min_child_weight': 1.468606798580564, 'xgb_subsample': 0.6824165987639474, 'xgb_max_leaves': 18}\n",
      "Params of trial 2: {'xgb_eta': 0.40723198229830426, 'xgb_gamma': 0, 'xgb_min_child_weight': 1.056896841902284, 'xgb_subsample': 0.9994772606436438, 'xgb_max_leaves': 70}\n",
      "Params of trial 3: {'xgb_eta': 0.06046950901484782, 'xgb_gamma': 0, 'xgb_min_child_weight': 4.022475987641818, 'xgb_subsample': 0.657463234438869, 'xgb_max_leaves': 34}\n",
      "Params of trial 4: {'xgb_eta': 0.340624877479039, 'xgb_gamma': 0, 'xgb_min_child_weight': 0.7910795472393922, 'xgb_subsample': 0.43343515795149756, 'xgb_max_leaves': 19}\n",
      "Params of trial 5: {'xgb_eta': 0.2968753205310562, 'xgb_gamma': 0, 'xgb_min_child_weight': 0.6677906314763571, 'xgb_subsample': 0.17819087498109293, 'xgb_max_leaves': 91}\n",
      "Params of trial 6: {'xgb_eta': 0.37117694504319515, 'xgb_gamma': 0, 'xgb_min_child_weight': 0.6666743597675961, 'xgb_subsample': 0.5598779645744965, 'xgb_max_leaves': 32}\n",
      "Params of trial 7: {'xgb_eta': 0.3673422042190737, 'xgb_gamma': 0, 'xgb_min_child_weight': 4.239672657888931, 'xgb_subsample': 0.7790499404564248, 'xgb_max_leaves': 40}\n",
      "Params of trial 8: {'xgb_eta': 0.4162848751737538, 'xgb_gamma': 10, 'xgb_min_child_weight': 1.5913237027362959, 'xgb_subsample': 0.6467601569529549, 'xgb_max_leaves': 53}\n",
      "Params of trial 9: {'xgb_eta': 0.08753616591123498, 'xgb_gamma': 0, 'xgb_min_child_weight': 3.5274567618875707, 'xgb_subsample': 0.3946513451723741, 'xgb_max_leaves': 0}\n"
     ]
    }
   ],
   "source": [
    "for key, value in params_dict.items():\n",
    "    print(f'Params for classifier {key}')\n",
    "    for idx, param in enumerate(value):\n",
    "        print(f'Params of trial {idx}: {param}')"
   ]
  },
  {
   "cell_type": "markdown",
   "metadata": {
    "collapsed": false
   },
   "source": [
    "## Check MCC scores to compare algorithms"
   ]
  },
  {
   "cell_type": "code",
   "execution_count": 37,
   "metadata": {
    "collapsed": false,
    "pycharm": {
     "name": "#%%\n"
    }
   },
   "outputs": [
    {
     "data": {
      "image/png": "[encoded data removed]",
      "text/plain": [
       "<Figure size 576x504 with 1 Axes>"
      ]
     },
     "metadata": {
      "needs_background": "light"
     },
     "output_type": "display_data"
    },
    {
     "data": {
      "image/png": "[encoded data removed]",
      "text/plain": [
       "<Figure size 576x504 with 1 Axes>"
      ]
     },
     "metadata": {
      "needs_background": "light"
     },
     "output_type": "display_data"
    },
    {
     "data": {
      "text/plain": [
       "{'svm': 0.9722744196804539,\n",
       " 'lr': 0.9833141029747667,\n",
       " 'gnb': 0.9452791152480085,\n",
       " 'rf': 0.9552627607824367,\n",
       " 'xgb': 0.9748079115772683}"
      ]
     },
     "execution_count": 37,
     "metadata": {},
     "output_type": "execute_result"
    }
   ],
   "source": [
    "mccs_dict = compare_mean_mccs(results)\n",
    "mccs_dict"
   ]
  },
  {
   "cell_type": "markdown",
   "metadata": {
    "collapsed": false
   },
   "source": [
    "## Check boxplots of all other collected metrics for all classifiers"
   ]
  },
  {
   "cell_type": "code",
   "execution_count": 38,
   "metadata": {
    "collapsed": false,
    "pycharm": {
     "name": "#%%\n"
    }
   },
   "outputs": [
    {
     "data": {
      "image/png": "[encoded data removed]",
      "text/plain": [
       "<Figure size 432x648 with 8 Axes>"
      ]
     },
     "metadata": {
      "needs_background": "light"
     },
     "output_type": "display_data"
    }
   ],
   "source": [
    "plot_clfs_metrics(results)"
   ]
  }
 ],
 "metadata": {
  "kernelspec": {
   "display_name": "Python 3",
   "language": "python",
   "name": "python3"
  },
  "language_info": {
   "codemirror_mode": {
    "name": "ipython",
    "version": 3
   },
   "file_extension": ".py",
   "mimetype": "text/x-python",
   "name": "python",
   "nbconvert_exporter": "python",
   "pygments_lexer": "ipython3",
   "version": "3.9.12"
  }
 },
 "nbformat": 4,
 "nbformat_minor": 0
}
