{
 "cells": [
  {
   "cell_type": "code",
   "execution_count": 1,
   "metadata": {},
   "outputs": [
    {
     "name": "stdout",
     "output_type": "stream",
     "text": [
      "Collecting xgboost\n",
      "  Using cached xgboost-1.7.6-py3-none-win_amd64.whl (70.9 MB)\n",
      "Requirement already satisfied: numpy in c:\\users\\greg\\anaconda3\\lib\\site-packages (from xgboost) (1.21.6)\n",
      "Requirement already satisfied: scipy in c:\\users\\greg\\anaconda3\\lib\\site-packages (from xgboost) (1.10.1)\n",
      "Installing collected packages: xgboost\n",
      "Successfully installed xgboost-1.7.6\n"
     ]
    },
    {
     "name": "stderr",
     "output_type": "stream",
     "text": [
      "WARNING: You are using pip version 22.0.4; however, version 23.1.2 is available.\n",
      "You should consider upgrading via the 'c:\\Users\\greg\\anaconda3\\python.exe -m pip install --upgrade pip' command.\n"
     ]
    }
   ],
   "source": [
    "##if using Anaconda (on Anaconda terminal)\n",
    "#conda install -c conda-forge xgboost \n",
    "#pip install xgboost\n",
    "\n",
    "import sys\n",
    "!{sys.executable} -m pip install xgboost"
   ]
  },
  {
   "cell_type": "code",
   "execution_count": 1,
   "metadata": {
    "collapsed": true
   },
   "outputs": [],
   "source": [
    "from sklearn.exceptions import ConvergenceWarning\n",
    "%load_ext autoreload\n",
    "%autoreload 2\n",
    "\n",
    "import pandas as pd\n",
    "import os\n",
    "import matplotlib.pyplot as plt\n",
    "import seaborn as sns\n",
    "\n",
    "from preprocessing import split_X_y\n",
    "from model_optimization import optimize_one_model\n",
    "\n",
    "from sklearn.model_selection import train_test_split\n",
    "from sklearn.preprocessing import StandardScaler\n",
    "\n",
    "import warnings\n",
    "warnings.filterwarnings('ignore', category=ConvergenceWarning)"
   ]
  },
  {
   "cell_type": "code",
   "execution_count": 2,
   "metadata": {
    "collapsed": false,
    "pycharm": {
     "name": "#%%\n"
    }
   },
   "outputs": [],
   "source": [
    "DATA_DIR = os.path.join(os.getcwd(), 'data')"
   ]
  },
  {
   "attachments": {},
   "cell_type": "markdown",
   "metadata": {
    "collapsed": false
   },
   "source": [
    "## Import Labeled Data"
   ]
  },
  {
   "cell_type": "code",
   "execution_count": 3,
   "metadata": {
    "collapsed": false,
    "pycharm": {
     "name": "#%%\n"
    }
   },
   "outputs": [
    {
     "data": {
      "text/html": [
       "<div>\n",
       "<style scoped>\n",
       "    .dataframe tbody tr th:only-of-type {\n",
       "        vertical-align: middle;\n",
       "    }\n",
       "\n",
       "    .dataframe tbody tr th {\n",
       "        vertical-align: top;\n",
       "    }\n",
       "\n",
       "    .dataframe thead th {\n",
       "        text-align: right;\n",
       "    }\n",
       "</style>\n",
       "<table border=\"1\" class=\"dataframe\">\n",
       "  <thead>\n",
       "    <tr style=\"text-align: right;\">\n",
       "      <th></th>\n",
       "      <th>ORM1</th>\n",
       "      <th>ORM2</th>\n",
       "      <th>MMP3</th>\n",
       "      <th>FDCSP</th>\n",
       "      <th>S100A7</th>\n",
       "      <th>FABP7</th>\n",
       "      <th>KRT81</th>\n",
       "      <th>DCN</th>\n",
       "      <th>IL1B</th>\n",
       "      <th>AREG</th>\n",
       "      <th>...</th>\n",
       "      <th>MRGPRX4</th>\n",
       "      <th>C2CD4B</th>\n",
       "      <th>CTD.2012K14.8</th>\n",
       "      <th>CCR10</th>\n",
       "      <th>FAS</th>\n",
       "      <th>ADORA2B</th>\n",
       "      <th>PRMT9</th>\n",
       "      <th>PHGDH</th>\n",
       "      <th>HOXA4</th>\n",
       "      <th>cluster_label</th>\n",
       "    </tr>\n",
       "  </thead>\n",
       "  <tbody>\n",
       "    <tr>\n",
       "      <th>0</th>\n",
       "      <td>0.00000</td>\n",
       "      <td>0.000000</td>\n",
       "      <td>0.000000</td>\n",
       "      <td>0.0</td>\n",
       "      <td>0.000000</td>\n",
       "      <td>0.000000</td>\n",
       "      <td>0.000000</td>\n",
       "      <td>0.0</td>\n",
       "      <td>0.000000</td>\n",
       "      <td>0.000000</td>\n",
       "      <td>...</td>\n",
       "      <td>0.0</td>\n",
       "      <td>0.0</td>\n",
       "      <td>0.0</td>\n",
       "      <td>0.0</td>\n",
       "      <td>0.000000</td>\n",
       "      <td>0.000000</td>\n",
       "      <td>0.0</td>\n",
       "      <td>0.000000</td>\n",
       "      <td>0.0</td>\n",
       "      <td>B</td>\n",
       "    </tr>\n",
       "    <tr>\n",
       "      <th>1</th>\n",
       "      <td>0.00000</td>\n",
       "      <td>0.000000</td>\n",
       "      <td>0.000000</td>\n",
       "      <td>0.0</td>\n",
       "      <td>0.000000</td>\n",
       "      <td>0.000000</td>\n",
       "      <td>0.000000</td>\n",
       "      <td>0.0</td>\n",
       "      <td>0.000000</td>\n",
       "      <td>0.000000</td>\n",
       "      <td>...</td>\n",
       "      <td>0.0</td>\n",
       "      <td>0.0</td>\n",
       "      <td>0.0</td>\n",
       "      <td>0.0</td>\n",
       "      <td>1.159752</td>\n",
       "      <td>1.159752</td>\n",
       "      <td>0.0</td>\n",
       "      <td>0.000000</td>\n",
       "      <td>0.0</td>\n",
       "      <td>B</td>\n",
       "    </tr>\n",
       "    <tr>\n",
       "      <th>2</th>\n",
       "      <td>0.00000</td>\n",
       "      <td>0.000000</td>\n",
       "      <td>0.000000</td>\n",
       "      <td>0.0</td>\n",
       "      <td>0.000000</td>\n",
       "      <td>0.000000</td>\n",
       "      <td>0.000000</td>\n",
       "      <td>0.0</td>\n",
       "      <td>0.000000</td>\n",
       "      <td>0.000000</td>\n",
       "      <td>...</td>\n",
       "      <td>0.0</td>\n",
       "      <td>0.0</td>\n",
       "      <td>0.0</td>\n",
       "      <td>0.0</td>\n",
       "      <td>0.000000</td>\n",
       "      <td>0.000000</td>\n",
       "      <td>0.0</td>\n",
       "      <td>0.000000</td>\n",
       "      <td>0.0</td>\n",
       "      <td>L1</td>\n",
       "    </tr>\n",
       "    <tr>\n",
       "      <th>3</th>\n",
       "      <td>0.00000</td>\n",
       "      <td>0.000000</td>\n",
       "      <td>0.000000</td>\n",
       "      <td>0.0</td>\n",
       "      <td>0.000000</td>\n",
       "      <td>0.000000</td>\n",
       "      <td>0.000000</td>\n",
       "      <td>0.0</td>\n",
       "      <td>1.231624</td>\n",
       "      <td>0.000000</td>\n",
       "      <td>...</td>\n",
       "      <td>0.0</td>\n",
       "      <td>0.0</td>\n",
       "      <td>0.0</td>\n",
       "      <td>0.0</td>\n",
       "      <td>1.231624</td>\n",
       "      <td>0.000000</td>\n",
       "      <td>0.0</td>\n",
       "      <td>0.962358</td>\n",
       "      <td>0.0</td>\n",
       "      <td>B</td>\n",
       "    </tr>\n",
       "    <tr>\n",
       "      <th>4</th>\n",
       "      <td>0.00000</td>\n",
       "      <td>0.000000</td>\n",
       "      <td>0.000000</td>\n",
       "      <td>0.0</td>\n",
       "      <td>0.000000</td>\n",
       "      <td>0.000000</td>\n",
       "      <td>0.000000</td>\n",
       "      <td>0.0</td>\n",
       "      <td>0.000000</td>\n",
       "      <td>0.000000</td>\n",
       "      <td>...</td>\n",
       "      <td>0.0</td>\n",
       "      <td>0.0</td>\n",
       "      <td>0.0</td>\n",
       "      <td>0.0</td>\n",
       "      <td>0.000000</td>\n",
       "      <td>0.000000</td>\n",
       "      <td>0.0</td>\n",
       "      <td>1.198887</td>\n",
       "      <td>0.0</td>\n",
       "      <td>L1</td>\n",
       "    </tr>\n",
       "    <tr>\n",
       "      <th>...</th>\n",
       "      <td>...</td>\n",
       "      <td>...</td>\n",
       "      <td>...</td>\n",
       "      <td>...</td>\n",
       "      <td>...</td>\n",
       "      <td>...</td>\n",
       "      <td>...</td>\n",
       "      <td>...</td>\n",
       "      <td>...</td>\n",
       "      <td>...</td>\n",
       "      <td>...</td>\n",
       "      <td>...</td>\n",
       "      <td>...</td>\n",
       "      <td>...</td>\n",
       "      <td>...</td>\n",
       "      <td>...</td>\n",
       "      <td>...</td>\n",
       "      <td>...</td>\n",
       "      <td>...</td>\n",
       "      <td>...</td>\n",
       "      <td>...</td>\n",
       "    </tr>\n",
       "    <tr>\n",
       "      <th>4009</th>\n",
       "      <td>0.00000</td>\n",
       "      <td>0.000000</td>\n",
       "      <td>0.000000</td>\n",
       "      <td>0.0</td>\n",
       "      <td>0.000000</td>\n",
       "      <td>1.382332</td>\n",
       "      <td>3.756037</td>\n",
       "      <td>0.0</td>\n",
       "      <td>0.000000</td>\n",
       "      <td>0.000000</td>\n",
       "      <td>...</td>\n",
       "      <td>0.0</td>\n",
       "      <td>0.0</td>\n",
       "      <td>0.0</td>\n",
       "      <td>0.0</td>\n",
       "      <td>0.000000</td>\n",
       "      <td>0.000000</td>\n",
       "      <td>0.0</td>\n",
       "      <td>1.382332</td>\n",
       "      <td>0.0</td>\n",
       "      <td>L1</td>\n",
       "    </tr>\n",
       "    <tr>\n",
       "      <th>4010</th>\n",
       "      <td>0.00000</td>\n",
       "      <td>0.000000</td>\n",
       "      <td>3.002545</td>\n",
       "      <td>0.0</td>\n",
       "      <td>0.000000</td>\n",
       "      <td>0.000000</td>\n",
       "      <td>0.000000</td>\n",
       "      <td>0.0</td>\n",
       "      <td>1.139851</td>\n",
       "      <td>1.139851</td>\n",
       "      <td>...</td>\n",
       "      <td>0.0</td>\n",
       "      <td>0.0</td>\n",
       "      <td>0.0</td>\n",
       "      <td>0.0</td>\n",
       "      <td>1.139851</td>\n",
       "      <td>0.000000</td>\n",
       "      <td>0.0</td>\n",
       "      <td>0.000000</td>\n",
       "      <td>0.0</td>\n",
       "      <td>B</td>\n",
       "    </tr>\n",
       "    <tr>\n",
       "      <th>4011</th>\n",
       "      <td>0.00000</td>\n",
       "      <td>0.000000</td>\n",
       "      <td>0.000000</td>\n",
       "      <td>0.0</td>\n",
       "      <td>1.729568</td>\n",
       "      <td>1.199697</td>\n",
       "      <td>0.000000</td>\n",
       "      <td>0.0</td>\n",
       "      <td>0.000000</td>\n",
       "      <td>0.000000</td>\n",
       "      <td>...</td>\n",
       "      <td>0.0</td>\n",
       "      <td>0.0</td>\n",
       "      <td>0.0</td>\n",
       "      <td>0.0</td>\n",
       "      <td>0.000000</td>\n",
       "      <td>0.000000</td>\n",
       "      <td>0.0</td>\n",
       "      <td>0.000000</td>\n",
       "      <td>0.0</td>\n",
       "      <td>L1</td>\n",
       "    </tr>\n",
       "    <tr>\n",
       "      <th>4012</th>\n",
       "      <td>2.44477</td>\n",
       "      <td>2.946953</td>\n",
       "      <td>0.000000</td>\n",
       "      <td>0.0</td>\n",
       "      <td>2.142408</td>\n",
       "      <td>0.000000</td>\n",
       "      <td>0.000000</td>\n",
       "      <td>0.0</td>\n",
       "      <td>0.000000</td>\n",
       "      <td>0.000000</td>\n",
       "      <td>...</td>\n",
       "      <td>0.0</td>\n",
       "      <td>0.0</td>\n",
       "      <td>0.0</td>\n",
       "      <td>0.0</td>\n",
       "      <td>1.388285</td>\n",
       "      <td>0.000000</td>\n",
       "      <td>0.0</td>\n",
       "      <td>0.000000</td>\n",
       "      <td>0.0</td>\n",
       "      <td>L2</td>\n",
       "    </tr>\n",
       "    <tr>\n",
       "      <th>4013</th>\n",
       "      <td>0.00000</td>\n",
       "      <td>0.000000</td>\n",
       "      <td>3.970905</td>\n",
       "      <td>0.0</td>\n",
       "      <td>0.000000</td>\n",
       "      <td>0.000000</td>\n",
       "      <td>0.000000</td>\n",
       "      <td>0.0</td>\n",
       "      <td>0.000000</td>\n",
       "      <td>2.015445</td>\n",
       "      <td>...</td>\n",
       "      <td>0.0</td>\n",
       "      <td>0.0</td>\n",
       "      <td>0.0</td>\n",
       "      <td>0.0</td>\n",
       "      <td>0.000000</td>\n",
       "      <td>0.000000</td>\n",
       "      <td>0.0</td>\n",
       "      <td>0.000000</td>\n",
       "      <td>0.0</td>\n",
       "      <td>B</td>\n",
       "    </tr>\n",
       "  </tbody>\n",
       "</table>\n",
       "<p>4014 rows × 2001 columns</p>\n",
       "</div>"
      ],
      "text/plain": [
       "         ORM1      ORM2      MMP3  FDCSP    S100A7     FABP7     KRT81  DCN  \\\n",
       "0     0.00000  0.000000  0.000000    0.0  0.000000  0.000000  0.000000  0.0   \n",
       "1     0.00000  0.000000  0.000000    0.0  0.000000  0.000000  0.000000  0.0   \n",
       "2     0.00000  0.000000  0.000000    0.0  0.000000  0.000000  0.000000  0.0   \n",
       "3     0.00000  0.000000  0.000000    0.0  0.000000  0.000000  0.000000  0.0   \n",
       "4     0.00000  0.000000  0.000000    0.0  0.000000  0.000000  0.000000  0.0   \n",
       "...       ...       ...       ...    ...       ...       ...       ...  ...   \n",
       "4009  0.00000  0.000000  0.000000    0.0  0.000000  1.382332  3.756037  0.0   \n",
       "4010  0.00000  0.000000  3.002545    0.0  0.000000  0.000000  0.000000  0.0   \n",
       "4011  0.00000  0.000000  0.000000    0.0  1.729568  1.199697  0.000000  0.0   \n",
       "4012  2.44477  2.946953  0.000000    0.0  2.142408  0.000000  0.000000  0.0   \n",
       "4013  0.00000  0.000000  3.970905    0.0  0.000000  0.000000  0.000000  0.0   \n",
       "\n",
       "          IL1B      AREG  ...  MRGPRX4  C2CD4B  CTD.2012K14.8  CCR10  \\\n",
       "0     0.000000  0.000000  ...      0.0     0.0            0.0    0.0   \n",
       "1     0.000000  0.000000  ...      0.0     0.0            0.0    0.0   \n",
       "2     0.000000  0.000000  ...      0.0     0.0            0.0    0.0   \n",
       "3     1.231624  0.000000  ...      0.0     0.0            0.0    0.0   \n",
       "4     0.000000  0.000000  ...      0.0     0.0            0.0    0.0   \n",
       "...        ...       ...  ...      ...     ...            ...    ...   \n",
       "4009  0.000000  0.000000  ...      0.0     0.0            0.0    0.0   \n",
       "4010  1.139851  1.139851  ...      0.0     0.0            0.0    0.0   \n",
       "4011  0.000000  0.000000  ...      0.0     0.0            0.0    0.0   \n",
       "4012  0.000000  0.000000  ...      0.0     0.0            0.0    0.0   \n",
       "4013  0.000000  2.015445  ...      0.0     0.0            0.0    0.0   \n",
       "\n",
       "           FAS   ADORA2B  PRMT9     PHGDH  HOXA4  cluster_label  \n",
       "0     0.000000  0.000000    0.0  0.000000    0.0              B  \n",
       "1     1.159752  1.159752    0.0  0.000000    0.0              B  \n",
       "2     0.000000  0.000000    0.0  0.000000    0.0             L1  \n",
       "3     1.231624  0.000000    0.0  0.962358    0.0              B  \n",
       "4     0.000000  0.000000    0.0  1.198887    0.0             L1  \n",
       "...        ...       ...    ...       ...    ...            ...  \n",
       "4009  0.000000  0.000000    0.0  1.382332    0.0             L1  \n",
       "4010  1.139851  0.000000    0.0  0.000000    0.0              B  \n",
       "4011  0.000000  0.000000    0.0  0.000000    0.0             L1  \n",
       "4012  1.388285  0.000000    0.0  0.000000    0.0             L2  \n",
       "4013  0.000000  0.000000    0.0  0.000000    0.0              B  \n",
       "\n",
       "[4014 rows x 2001 columns]"
      ]
     },
     "execution_count": 3,
     "metadata": {},
     "output_type": "execute_result"
    }
   ],
   "source": [
    "#data = pd.read_csv(os.path.join(DATA_DIR, 'ind4_clustering_results.csv.gz'), compression='gzip')\n",
    "data = pd.read_csv(os.path.join(DATA_DIR, 'ind4_clustering_results_var_genes.csv.gz'), compression='gzip')\n",
    "data"
   ]
  },
  {
   "cell_type": "code",
   "execution_count": 4,
   "metadata": {
    "collapsed": false,
    "pycharm": {
     "name": "#%%\n"
    }
   },
   "outputs": [
    {
     "name": "stdout",
     "output_type": "stream",
     "text": [
      "L1              1931\n",
      "B               1429\n",
      "L2               572\n",
      "Unclassified      82\n",
      "Name: cluster_label, dtype: int64\n"
     ]
    },
    {
     "data": {
      "image/png": "[encoded data removed]",
      "text/plain": [
       "<Figure size 576x432 with 1 Axes>"
      ]
     },
     "metadata": {
      "needs_background": "light"
     },
     "output_type": "display_data"
    }
   ],
   "source": [
    "cluster_counts = data['cluster_label'].value_counts()\n",
    "print(cluster_counts)\n",
    "\n",
    "plt.figure(figsize=(8, 6))\n",
    "sns.barplot(x=cluster_counts.index, y=cluster_counts.values)\n",
    "plt.xlabel('Cluster Label')\n",
    "plt.ylabel('Count')\n",
    "plt.title('Value Counts of Cluster Labels')\n",
    "plt.show()"
   ]
  },
  {
   "cell_type": "code",
   "execution_count": 5,
   "metadata": {
    "collapsed": false,
    "pycharm": {
     "name": "#%%\n"
    }
   },
   "outputs": [
    {
     "data": {
      "text/html": [
       "<div>\n",
       "<style scoped>\n",
       "    .dataframe tbody tr th:only-of-type {\n",
       "        vertical-align: middle;\n",
       "    }\n",
       "\n",
       "    .dataframe tbody tr th {\n",
       "        vertical-align: top;\n",
       "    }\n",
       "\n",
       "    .dataframe thead th {\n",
       "        text-align: right;\n",
       "    }\n",
       "</style>\n",
       "<table border=\"1\" class=\"dataframe\">\n",
       "  <thead>\n",
       "    <tr style=\"text-align: right;\">\n",
       "      <th></th>\n",
       "      <th>ORM1</th>\n",
       "      <th>ORM2</th>\n",
       "      <th>MMP3</th>\n",
       "      <th>FDCSP</th>\n",
       "      <th>S100A7</th>\n",
       "      <th>FABP7</th>\n",
       "      <th>KRT81</th>\n",
       "      <th>DCN</th>\n",
       "      <th>IL1B</th>\n",
       "      <th>AREG</th>\n",
       "      <th>...</th>\n",
       "      <th>RP11.597D13.9</th>\n",
       "      <th>MRGPRX4</th>\n",
       "      <th>C2CD4B</th>\n",
       "      <th>CTD.2012K14.8</th>\n",
       "      <th>CCR10</th>\n",
       "      <th>FAS</th>\n",
       "      <th>ADORA2B</th>\n",
       "      <th>PRMT9</th>\n",
       "      <th>PHGDH</th>\n",
       "      <th>HOXA4</th>\n",
       "    </tr>\n",
       "  </thead>\n",
       "  <tbody>\n",
       "    <tr>\n",
       "      <th>count</th>\n",
       "      <td>4014.000000</td>\n",
       "      <td>4014.000000</td>\n",
       "      <td>4014.000000</td>\n",
       "      <td>4014.000000</td>\n",
       "      <td>4014.000000</td>\n",
       "      <td>4014.000000</td>\n",
       "      <td>4014.000000</td>\n",
       "      <td>4014.000000</td>\n",
       "      <td>4014.000000</td>\n",
       "      <td>4014.000000</td>\n",
       "      <td>...</td>\n",
       "      <td>4014.000000</td>\n",
       "      <td>4014.000000</td>\n",
       "      <td>4014.000000</td>\n",
       "      <td>4014.000000</td>\n",
       "      <td>4014.000000</td>\n",
       "      <td>4014.000000</td>\n",
       "      <td>4014.000000</td>\n",
       "      <td>4014.000000</td>\n",
       "      <td>4014.000000</td>\n",
       "      <td>4014.000000</td>\n",
       "    </tr>\n",
       "    <tr>\n",
       "      <th>mean</th>\n",
       "      <td>0.142191</td>\n",
       "      <td>0.084910</td>\n",
       "      <td>0.297772</td>\n",
       "      <td>0.065054</td>\n",
       "      <td>0.488509</td>\n",
       "      <td>0.199051</td>\n",
       "      <td>0.159551</td>\n",
       "      <td>0.034415</td>\n",
       "      <td>0.279810</td>\n",
       "      <td>0.315602</td>\n",
       "      <td>...</td>\n",
       "      <td>0.004128</td>\n",
       "      <td>0.004331</td>\n",
       "      <td>0.004275</td>\n",
       "      <td>0.004063</td>\n",
       "      <td>0.004464</td>\n",
       "      <td>0.240907</td>\n",
       "      <td>0.068786</td>\n",
       "      <td>0.024694</td>\n",
       "      <td>0.412100</td>\n",
       "      <td>0.034093</td>\n",
       "    </tr>\n",
       "    <tr>\n",
       "      <th>std</th>\n",
       "      <td>0.696116</td>\n",
       "      <td>0.485980</td>\n",
       "      <td>0.856380</td>\n",
       "      <td>0.414117</td>\n",
       "      <td>1.078162</td>\n",
       "      <td>0.655485</td>\n",
       "      <td>0.587791</td>\n",
       "      <td>0.346617</td>\n",
       "      <td>0.779161</td>\n",
       "      <td>0.762863</td>\n",
       "      <td>...</td>\n",
       "      <td>0.066658</td>\n",
       "      <td>0.068425</td>\n",
       "      <td>0.069848</td>\n",
       "      <td>0.066387</td>\n",
       "      <td>0.072764</td>\n",
       "      <td>0.494458</td>\n",
       "      <td>0.261867</td>\n",
       "      <td>0.155206</td>\n",
       "      <td>0.592806</td>\n",
       "      <td>0.180004</td>\n",
       "    </tr>\n",
       "    <tr>\n",
       "      <th>min</th>\n",
       "      <td>0.000000</td>\n",
       "      <td>0.000000</td>\n",
       "      <td>0.000000</td>\n",
       "      <td>0.000000</td>\n",
       "      <td>0.000000</td>\n",
       "      <td>0.000000</td>\n",
       "      <td>0.000000</td>\n",
       "      <td>0.000000</td>\n",
       "      <td>0.000000</td>\n",
       "      <td>0.000000</td>\n",
       "      <td>...</td>\n",
       "      <td>0.000000</td>\n",
       "      <td>0.000000</td>\n",
       "      <td>0.000000</td>\n",
       "      <td>0.000000</td>\n",
       "      <td>0.000000</td>\n",
       "      <td>0.000000</td>\n",
       "      <td>0.000000</td>\n",
       "      <td>0.000000</td>\n",
       "      <td>0.000000</td>\n",
       "      <td>0.000000</td>\n",
       "    </tr>\n",
       "    <tr>\n",
       "      <th>25%</th>\n",
       "      <td>0.000000</td>\n",
       "      <td>0.000000</td>\n",
       "      <td>0.000000</td>\n",
       "      <td>0.000000</td>\n",
       "      <td>0.000000</td>\n",
       "      <td>0.000000</td>\n",
       "      <td>0.000000</td>\n",
       "      <td>0.000000</td>\n",
       "      <td>0.000000</td>\n",
       "      <td>0.000000</td>\n",
       "      <td>...</td>\n",
       "      <td>0.000000</td>\n",
       "      <td>0.000000</td>\n",
       "      <td>0.000000</td>\n",
       "      <td>0.000000</td>\n",
       "      <td>0.000000</td>\n",
       "      <td>0.000000</td>\n",
       "      <td>0.000000</td>\n",
       "      <td>0.000000</td>\n",
       "      <td>0.000000</td>\n",
       "      <td>0.000000</td>\n",
       "    </tr>\n",
       "    <tr>\n",
       "      <th>50%</th>\n",
       "      <td>0.000000</td>\n",
       "      <td>0.000000</td>\n",
       "      <td>0.000000</td>\n",
       "      <td>0.000000</td>\n",
       "      <td>0.000000</td>\n",
       "      <td>0.000000</td>\n",
       "      <td>0.000000</td>\n",
       "      <td>0.000000</td>\n",
       "      <td>0.000000</td>\n",
       "      <td>0.000000</td>\n",
       "      <td>...</td>\n",
       "      <td>0.000000</td>\n",
       "      <td>0.000000</td>\n",
       "      <td>0.000000</td>\n",
       "      <td>0.000000</td>\n",
       "      <td>0.000000</td>\n",
       "      <td>0.000000</td>\n",
       "      <td>0.000000</td>\n",
       "      <td>0.000000</td>\n",
       "      <td>0.000000</td>\n",
       "      <td>0.000000</td>\n",
       "    </tr>\n",
       "    <tr>\n",
       "      <th>75%</th>\n",
       "      <td>0.000000</td>\n",
       "      <td>0.000000</td>\n",
       "      <td>0.000000</td>\n",
       "      <td>0.000000</td>\n",
       "      <td>0.000000</td>\n",
       "      <td>0.000000</td>\n",
       "      <td>0.000000</td>\n",
       "      <td>0.000000</td>\n",
       "      <td>0.000000</td>\n",
       "      <td>0.000000</td>\n",
       "      <td>...</td>\n",
       "      <td>0.000000</td>\n",
       "      <td>0.000000</td>\n",
       "      <td>0.000000</td>\n",
       "      <td>0.000000</td>\n",
       "      <td>0.000000</td>\n",
       "      <td>0.000000</td>\n",
       "      <td>0.000000</td>\n",
       "      <td>0.000000</td>\n",
       "      <td>0.877524</td>\n",
       "      <td>0.000000</td>\n",
       "    </tr>\n",
       "    <tr>\n",
       "      <th>max</th>\n",
       "      <td>6.762612</td>\n",
       "      <td>5.539486</td>\n",
       "      <td>6.572284</td>\n",
       "      <td>4.903337</td>\n",
       "      <td>5.591136</td>\n",
       "      <td>4.861639</td>\n",
       "      <td>5.166052</td>\n",
       "      <td>5.812831</td>\n",
       "      <td>5.654543</td>\n",
       "      <td>4.846035</td>\n",
       "      <td>...</td>\n",
       "      <td>1.493988</td>\n",
       "      <td>1.604655</td>\n",
       "      <td>1.778140</td>\n",
       "      <td>1.709633</td>\n",
       "      <td>1.842913</td>\n",
       "      <td>2.938584</td>\n",
       "      <td>1.879372</td>\n",
       "      <td>2.390354</td>\n",
       "      <td>2.622593</td>\n",
       "      <td>2.246530</td>\n",
       "    </tr>\n",
       "  </tbody>\n",
       "</table>\n",
       "<p>8 rows × 2000 columns</p>\n",
       "</div>"
      ],
      "text/plain": [
       "              ORM1         ORM2         MMP3        FDCSP       S100A7  \\\n",
       "count  4014.000000  4014.000000  4014.000000  4014.000000  4014.000000   \n",
       "mean      0.142191     0.084910     0.297772     0.065054     0.488509   \n",
       "std       0.696116     0.485980     0.856380     0.414117     1.078162   \n",
       "min       0.000000     0.000000     0.000000     0.000000     0.000000   \n",
       "25%       0.000000     0.000000     0.000000     0.000000     0.000000   \n",
       "50%       0.000000     0.000000     0.000000     0.000000     0.000000   \n",
       "75%       0.000000     0.000000     0.000000     0.000000     0.000000   \n",
       "max       6.762612     5.539486     6.572284     4.903337     5.591136   \n",
       "\n",
       "             FABP7        KRT81          DCN         IL1B         AREG  ...  \\\n",
       "count  4014.000000  4014.000000  4014.000000  4014.000000  4014.000000  ...   \n",
       "mean      0.199051     0.159551     0.034415     0.279810     0.315602  ...   \n",
       "std       0.655485     0.587791     0.346617     0.779161     0.762863  ...   \n",
       "min       0.000000     0.000000     0.000000     0.000000     0.000000  ...   \n",
       "25%       0.000000     0.000000     0.000000     0.000000     0.000000  ...   \n",
       "50%       0.000000     0.000000     0.000000     0.000000     0.000000  ...   \n",
       "75%       0.000000     0.000000     0.000000     0.000000     0.000000  ...   \n",
       "max       4.861639     5.166052     5.812831     5.654543     4.846035  ...   \n",
       "\n",
       "       RP11.597D13.9      MRGPRX4       C2CD4B  CTD.2012K14.8        CCR10  \\\n",
       "count    4014.000000  4014.000000  4014.000000    4014.000000  4014.000000   \n",
       "mean        0.004128     0.004331     0.004275       0.004063     0.004464   \n",
       "std         0.066658     0.068425     0.069848       0.066387     0.072764   \n",
       "min         0.000000     0.000000     0.000000       0.000000     0.000000   \n",
       "25%         0.000000     0.000000     0.000000       0.000000     0.000000   \n",
       "50%         0.000000     0.000000     0.000000       0.000000     0.000000   \n",
       "75%         0.000000     0.000000     0.000000       0.000000     0.000000   \n",
       "max         1.493988     1.604655     1.778140       1.709633     1.842913   \n",
       "\n",
       "               FAS      ADORA2B        PRMT9        PHGDH        HOXA4  \n",
       "count  4014.000000  4014.000000  4014.000000  4014.000000  4014.000000  \n",
       "mean      0.240907     0.068786     0.024694     0.412100     0.034093  \n",
       "std       0.494458     0.261867     0.155206     0.592806     0.180004  \n",
       "min       0.000000     0.000000     0.000000     0.000000     0.000000  \n",
       "25%       0.000000     0.000000     0.000000     0.000000     0.000000  \n",
       "50%       0.000000     0.000000     0.000000     0.000000     0.000000  \n",
       "75%       0.000000     0.000000     0.000000     0.877524     0.000000  \n",
       "max       2.938584     1.879372     2.390354     2.622593     2.246530  \n",
       "\n",
       "[8 rows x 2000 columns]"
      ]
     },
     "execution_count": 5,
     "metadata": {},
     "output_type": "execute_result"
    }
   ],
   "source": [
    "data.describe()"
   ]
  },
  {
   "cell_type": "code",
   "execution_count": 6,
   "metadata": {},
   "outputs": [
    {
     "name": "stdout",
     "output_type": "stream",
     "text": [
      "ORM1             3749\n",
      "ORM2             3857\n",
      "MMP3             3421\n",
      "FDCSP            3883\n",
      "S100A7           3103\n",
      "                 ... \n",
      "ADORA2B          3729\n",
      "PRMT9            3904\n",
      "PHGDH            2538\n",
      "HOXA4            3858\n",
      "cluster_label       0\n",
      "Length: 2001, dtype: int64\n"
     ]
    }
   ],
   "source": [
    "zeros_count = (data == 0).sum()\n",
    "print(zeros_count)"
   ]
  },
  {
   "cell_type": "code",
   "execution_count": 6,
   "metadata": {
    "collapsed": false,
    "pycharm": {
     "name": "#%%\n"
    }
   },
   "outputs": [
    {
     "name": "stdout",
     "output_type": "stream",
     "text": [
      "<class 'pandas.core.frame.DataFrame'>\n",
      "RangeIndex: 4014 entries, 0 to 4013\n",
      "Columns: 2001 entries, ORM1 to cluster_label\n",
      "dtypes: float64(2000), object(1)\n",
      "memory usage: 61.3+ MB\n"
     ]
    }
   ],
   "source": [
    "data.info()"
   ]
  },
  {
   "attachments": {},
   "cell_type": "markdown",
   "metadata": {
    "collapsed": false
   },
   "source": [
    "## PreProcessing\n",
    "\n",
    "Split X, y and turn labels from string to int with values in range (0, n_classes-1). Also isolate a 30% part of the data as a hold out test set, that will be used to test the generalization ability of the final model."
   ]
  },
  {
   "cell_type": "code",
   "execution_count": 4,
   "metadata": {},
   "outputs": [],
   "source": [
    "data = data[~data['cluster_label'].str.contains('Unclassified')]\n",
    "data = data.reset_index(drop=True)"
   ]
  },
  {
   "cell_type": "code",
   "execution_count": 5,
   "metadata": {
    "collapsed": false,
    "pycharm": {
     "name": "#%%\n"
    }
   },
   "outputs": [
    {
     "data": {
      "text/html": [
       "<div>\n",
       "<style scoped>\n",
       "    .dataframe tbody tr th:only-of-type {\n",
       "        vertical-align: middle;\n",
       "    }\n",
       "\n",
       "    .dataframe tbody tr th {\n",
       "        vertical-align: top;\n",
       "    }\n",
       "\n",
       "    .dataframe thead th {\n",
       "        text-align: right;\n",
       "    }\n",
       "</style>\n",
       "<table border=\"1\" class=\"dataframe\">\n",
       "  <thead>\n",
       "    <tr style=\"text-align: right;\">\n",
       "      <th></th>\n",
       "      <th>ORM1</th>\n",
       "      <th>ORM2</th>\n",
       "      <th>MMP3</th>\n",
       "      <th>FDCSP</th>\n",
       "      <th>S100A7</th>\n",
       "      <th>FABP7</th>\n",
       "      <th>KRT81</th>\n",
       "      <th>DCN</th>\n",
       "      <th>IL1B</th>\n",
       "      <th>AREG</th>\n",
       "      <th>...</th>\n",
       "      <th>RP11.597D13.9</th>\n",
       "      <th>MRGPRX4</th>\n",
       "      <th>C2CD4B</th>\n",
       "      <th>CTD.2012K14.8</th>\n",
       "      <th>CCR10</th>\n",
       "      <th>FAS</th>\n",
       "      <th>ADORA2B</th>\n",
       "      <th>PRMT9</th>\n",
       "      <th>PHGDH</th>\n",
       "      <th>HOXA4</th>\n",
       "    </tr>\n",
       "  </thead>\n",
       "  <tbody>\n",
       "    <tr>\n",
       "      <th>0</th>\n",
       "      <td>0.00000</td>\n",
       "      <td>0.000000</td>\n",
       "      <td>0.000000</td>\n",
       "      <td>0.0</td>\n",
       "      <td>0.000000</td>\n",
       "      <td>0.000000</td>\n",
       "      <td>0.000000</td>\n",
       "      <td>0.0</td>\n",
       "      <td>0.000000</td>\n",
       "      <td>0.000000</td>\n",
       "      <td>...</td>\n",
       "      <td>0.0</td>\n",
       "      <td>0.0</td>\n",
       "      <td>0.0</td>\n",
       "      <td>0.0</td>\n",
       "      <td>0.0</td>\n",
       "      <td>0.000000</td>\n",
       "      <td>0.000000</td>\n",
       "      <td>0.0</td>\n",
       "      <td>0.000000</td>\n",
       "      <td>0.0</td>\n",
       "    </tr>\n",
       "    <tr>\n",
       "      <th>1</th>\n",
       "      <td>0.00000</td>\n",
       "      <td>0.000000</td>\n",
       "      <td>0.000000</td>\n",
       "      <td>0.0</td>\n",
       "      <td>0.000000</td>\n",
       "      <td>0.000000</td>\n",
       "      <td>0.000000</td>\n",
       "      <td>0.0</td>\n",
       "      <td>0.000000</td>\n",
       "      <td>0.000000</td>\n",
       "      <td>...</td>\n",
       "      <td>0.0</td>\n",
       "      <td>0.0</td>\n",
       "      <td>0.0</td>\n",
       "      <td>0.0</td>\n",
       "      <td>0.0</td>\n",
       "      <td>1.159752</td>\n",
       "      <td>1.159752</td>\n",
       "      <td>0.0</td>\n",
       "      <td>0.000000</td>\n",
       "      <td>0.0</td>\n",
       "    </tr>\n",
       "    <tr>\n",
       "      <th>2</th>\n",
       "      <td>0.00000</td>\n",
       "      <td>0.000000</td>\n",
       "      <td>0.000000</td>\n",
       "      <td>0.0</td>\n",
       "      <td>0.000000</td>\n",
       "      <td>0.000000</td>\n",
       "      <td>0.000000</td>\n",
       "      <td>0.0</td>\n",
       "      <td>0.000000</td>\n",
       "      <td>0.000000</td>\n",
       "      <td>...</td>\n",
       "      <td>0.0</td>\n",
       "      <td>0.0</td>\n",
       "      <td>0.0</td>\n",
       "      <td>0.0</td>\n",
       "      <td>0.0</td>\n",
       "      <td>0.000000</td>\n",
       "      <td>0.000000</td>\n",
       "      <td>0.0</td>\n",
       "      <td>0.000000</td>\n",
       "      <td>0.0</td>\n",
       "    </tr>\n",
       "    <tr>\n",
       "      <th>3</th>\n",
       "      <td>0.00000</td>\n",
       "      <td>0.000000</td>\n",
       "      <td>0.000000</td>\n",
       "      <td>0.0</td>\n",
       "      <td>0.000000</td>\n",
       "      <td>0.000000</td>\n",
       "      <td>0.000000</td>\n",
       "      <td>0.0</td>\n",
       "      <td>1.231624</td>\n",
       "      <td>0.000000</td>\n",
       "      <td>...</td>\n",
       "      <td>0.0</td>\n",
       "      <td>0.0</td>\n",
       "      <td>0.0</td>\n",
       "      <td>0.0</td>\n",
       "      <td>0.0</td>\n",
       "      <td>1.231624</td>\n",
       "      <td>0.000000</td>\n",
       "      <td>0.0</td>\n",
       "      <td>0.962358</td>\n",
       "      <td>0.0</td>\n",
       "    </tr>\n",
       "    <tr>\n",
       "      <th>4</th>\n",
       "      <td>0.00000</td>\n",
       "      <td>0.000000</td>\n",
       "      <td>0.000000</td>\n",
       "      <td>0.0</td>\n",
       "      <td>0.000000</td>\n",
       "      <td>0.000000</td>\n",
       "      <td>0.000000</td>\n",
       "      <td>0.0</td>\n",
       "      <td>0.000000</td>\n",
       "      <td>0.000000</td>\n",
       "      <td>...</td>\n",
       "      <td>0.0</td>\n",
       "      <td>0.0</td>\n",
       "      <td>0.0</td>\n",
       "      <td>0.0</td>\n",
       "      <td>0.0</td>\n",
       "      <td>0.000000</td>\n",
       "      <td>0.000000</td>\n",
       "      <td>0.0</td>\n",
       "      <td>1.198887</td>\n",
       "      <td>0.0</td>\n",
       "    </tr>\n",
       "    <tr>\n",
       "      <th>...</th>\n",
       "      <td>...</td>\n",
       "      <td>...</td>\n",
       "      <td>...</td>\n",
       "      <td>...</td>\n",
       "      <td>...</td>\n",
       "      <td>...</td>\n",
       "      <td>...</td>\n",
       "      <td>...</td>\n",
       "      <td>...</td>\n",
       "      <td>...</td>\n",
       "      <td>...</td>\n",
       "      <td>...</td>\n",
       "      <td>...</td>\n",
       "      <td>...</td>\n",
       "      <td>...</td>\n",
       "      <td>...</td>\n",
       "      <td>...</td>\n",
       "      <td>...</td>\n",
       "      <td>...</td>\n",
       "      <td>...</td>\n",
       "      <td>...</td>\n",
       "    </tr>\n",
       "    <tr>\n",
       "      <th>3927</th>\n",
       "      <td>0.00000</td>\n",
       "      <td>0.000000</td>\n",
       "      <td>0.000000</td>\n",
       "      <td>0.0</td>\n",
       "      <td>0.000000</td>\n",
       "      <td>1.382332</td>\n",
       "      <td>3.756037</td>\n",
       "      <td>0.0</td>\n",
       "      <td>0.000000</td>\n",
       "      <td>0.000000</td>\n",
       "      <td>...</td>\n",
       "      <td>0.0</td>\n",
       "      <td>0.0</td>\n",
       "      <td>0.0</td>\n",
       "      <td>0.0</td>\n",
       "      <td>0.0</td>\n",
       "      <td>0.000000</td>\n",
       "      <td>0.000000</td>\n",
       "      <td>0.0</td>\n",
       "      <td>1.382332</td>\n",
       "      <td>0.0</td>\n",
       "    </tr>\n",
       "    <tr>\n",
       "      <th>3928</th>\n",
       "      <td>0.00000</td>\n",
       "      <td>0.000000</td>\n",
       "      <td>3.002545</td>\n",
       "      <td>0.0</td>\n",
       "      <td>0.000000</td>\n",
       "      <td>0.000000</td>\n",
       "      <td>0.000000</td>\n",
       "      <td>0.0</td>\n",
       "      <td>1.139851</td>\n",
       "      <td>1.139851</td>\n",
       "      <td>...</td>\n",
       "      <td>0.0</td>\n",
       "      <td>0.0</td>\n",
       "      <td>0.0</td>\n",
       "      <td>0.0</td>\n",
       "      <td>0.0</td>\n",
       "      <td>1.139851</td>\n",
       "      <td>0.000000</td>\n",
       "      <td>0.0</td>\n",
       "      <td>0.000000</td>\n",
       "      <td>0.0</td>\n",
       "    </tr>\n",
       "    <tr>\n",
       "      <th>3929</th>\n",
       "      <td>0.00000</td>\n",
       "      <td>0.000000</td>\n",
       "      <td>0.000000</td>\n",
       "      <td>0.0</td>\n",
       "      <td>1.729568</td>\n",
       "      <td>1.199697</td>\n",
       "      <td>0.000000</td>\n",
       "      <td>0.0</td>\n",
       "      <td>0.000000</td>\n",
       "      <td>0.000000</td>\n",
       "      <td>...</td>\n",
       "      <td>0.0</td>\n",
       "      <td>0.0</td>\n",
       "      <td>0.0</td>\n",
       "      <td>0.0</td>\n",
       "      <td>0.0</td>\n",
       "      <td>0.000000</td>\n",
       "      <td>0.000000</td>\n",
       "      <td>0.0</td>\n",
       "      <td>0.000000</td>\n",
       "      <td>0.0</td>\n",
       "    </tr>\n",
       "    <tr>\n",
       "      <th>3930</th>\n",
       "      <td>2.44477</td>\n",
       "      <td>2.946953</td>\n",
       "      <td>0.000000</td>\n",
       "      <td>0.0</td>\n",
       "      <td>2.142408</td>\n",
       "      <td>0.000000</td>\n",
       "      <td>0.000000</td>\n",
       "      <td>0.0</td>\n",
       "      <td>0.000000</td>\n",
       "      <td>0.000000</td>\n",
       "      <td>...</td>\n",
       "      <td>0.0</td>\n",
       "      <td>0.0</td>\n",
       "      <td>0.0</td>\n",
       "      <td>0.0</td>\n",
       "      <td>0.0</td>\n",
       "      <td>1.388285</td>\n",
       "      <td>0.000000</td>\n",
       "      <td>0.0</td>\n",
       "      <td>0.000000</td>\n",
       "      <td>0.0</td>\n",
       "    </tr>\n",
       "    <tr>\n",
       "      <th>3931</th>\n",
       "      <td>0.00000</td>\n",
       "      <td>0.000000</td>\n",
       "      <td>3.970905</td>\n",
       "      <td>0.0</td>\n",
       "      <td>0.000000</td>\n",
       "      <td>0.000000</td>\n",
       "      <td>0.000000</td>\n",
       "      <td>0.0</td>\n",
       "      <td>0.000000</td>\n",
       "      <td>2.015445</td>\n",
       "      <td>...</td>\n",
       "      <td>0.0</td>\n",
       "      <td>0.0</td>\n",
       "      <td>0.0</td>\n",
       "      <td>0.0</td>\n",
       "      <td>0.0</td>\n",
       "      <td>0.000000</td>\n",
       "      <td>0.000000</td>\n",
       "      <td>0.0</td>\n",
       "      <td>0.000000</td>\n",
       "      <td>0.0</td>\n",
       "    </tr>\n",
       "  </tbody>\n",
       "</table>\n",
       "<p>3932 rows × 2000 columns</p>\n",
       "</div>"
      ],
      "text/plain": [
       "         ORM1      ORM2      MMP3  FDCSP    S100A7     FABP7     KRT81  DCN  \\\n",
       "0     0.00000  0.000000  0.000000    0.0  0.000000  0.000000  0.000000  0.0   \n",
       "1     0.00000  0.000000  0.000000    0.0  0.000000  0.000000  0.000000  0.0   \n",
       "2     0.00000  0.000000  0.000000    0.0  0.000000  0.000000  0.000000  0.0   \n",
       "3     0.00000  0.000000  0.000000    0.0  0.000000  0.000000  0.000000  0.0   \n",
       "4     0.00000  0.000000  0.000000    0.0  0.000000  0.000000  0.000000  0.0   \n",
       "...       ...       ...       ...    ...       ...       ...       ...  ...   \n",
       "3927  0.00000  0.000000  0.000000    0.0  0.000000  1.382332  3.756037  0.0   \n",
       "3928  0.00000  0.000000  3.002545    0.0  0.000000  0.000000  0.000000  0.0   \n",
       "3929  0.00000  0.000000  0.000000    0.0  1.729568  1.199697  0.000000  0.0   \n",
       "3930  2.44477  2.946953  0.000000    0.0  2.142408  0.000000  0.000000  0.0   \n",
       "3931  0.00000  0.000000  3.970905    0.0  0.000000  0.000000  0.000000  0.0   \n",
       "\n",
       "          IL1B      AREG  ...  RP11.597D13.9  MRGPRX4  C2CD4B  CTD.2012K14.8  \\\n",
       "0     0.000000  0.000000  ...            0.0      0.0     0.0            0.0   \n",
       "1     0.000000  0.000000  ...            0.0      0.0     0.0            0.0   \n",
       "2     0.000000  0.000000  ...            0.0      0.0     0.0            0.0   \n",
       "3     1.231624  0.000000  ...            0.0      0.0     0.0            0.0   \n",
       "4     0.000000  0.000000  ...            0.0      0.0     0.0            0.0   \n",
       "...        ...       ...  ...            ...      ...     ...            ...   \n",
       "3927  0.000000  0.000000  ...            0.0      0.0     0.0            0.0   \n",
       "3928  1.139851  1.139851  ...            0.0      0.0     0.0            0.0   \n",
       "3929  0.000000  0.000000  ...            0.0      0.0     0.0            0.0   \n",
       "3930  0.000000  0.000000  ...            0.0      0.0     0.0            0.0   \n",
       "3931  0.000000  2.015445  ...            0.0      0.0     0.0            0.0   \n",
       "\n",
       "      CCR10       FAS   ADORA2B  PRMT9     PHGDH  HOXA4  \n",
       "0       0.0  0.000000  0.000000    0.0  0.000000    0.0  \n",
       "1       0.0  1.159752  1.159752    0.0  0.000000    0.0  \n",
       "2       0.0  0.000000  0.000000    0.0  0.000000    0.0  \n",
       "3       0.0  1.231624  0.000000    0.0  0.962358    0.0  \n",
       "4       0.0  0.000000  0.000000    0.0  1.198887    0.0  \n",
       "...     ...       ...       ...    ...       ...    ...  \n",
       "3927    0.0  0.000000  0.000000    0.0  1.382332    0.0  \n",
       "3928    0.0  1.139851  0.000000    0.0  0.000000    0.0  \n",
       "3929    0.0  0.000000  0.000000    0.0  0.000000    0.0  \n",
       "3930    0.0  1.388285  0.000000    0.0  0.000000    0.0  \n",
       "3931    0.0  0.000000  0.000000    0.0  0.000000    0.0  \n",
       "\n",
       "[3932 rows x 2000 columns]"
      ]
     },
     "execution_count": 5,
     "metadata": {},
     "output_type": "execute_result"
    }
   ],
   "source": [
    "X, y = split_X_y(data)\n",
    "X\n"
   ]
  },
  {
   "cell_type": "code",
   "execution_count": 6,
   "metadata": {},
   "outputs": [
    {
     "data": {
      "text/html": [
       "<div>\n",
       "<style scoped>\n",
       "    .dataframe tbody tr th:only-of-type {\n",
       "        vertical-align: middle;\n",
       "    }\n",
       "\n",
       "    .dataframe tbody tr th {\n",
       "        vertical-align: top;\n",
       "    }\n",
       "\n",
       "    .dataframe thead th {\n",
       "        text-align: right;\n",
       "    }\n",
       "</style>\n",
       "<table border=\"1\" class=\"dataframe\">\n",
       "  <thead>\n",
       "    <tr style=\"text-align: right;\">\n",
       "      <th></th>\n",
       "      <th>0</th>\n",
       "    </tr>\n",
       "  </thead>\n",
       "  <tbody>\n",
       "    <tr>\n",
       "      <th>0</th>\n",
       "      <td>1</td>\n",
       "    </tr>\n",
       "    <tr>\n",
       "      <th>1</th>\n",
       "      <td>1</td>\n",
       "    </tr>\n",
       "    <tr>\n",
       "      <th>2</th>\n",
       "      <td>0</td>\n",
       "    </tr>\n",
       "    <tr>\n",
       "      <th>3</th>\n",
       "      <td>1</td>\n",
       "    </tr>\n",
       "    <tr>\n",
       "      <th>4</th>\n",
       "      <td>0</td>\n",
       "    </tr>\n",
       "    <tr>\n",
       "      <th>...</th>\n",
       "      <td>...</td>\n",
       "    </tr>\n",
       "    <tr>\n",
       "      <th>3927</th>\n",
       "      <td>0</td>\n",
       "    </tr>\n",
       "    <tr>\n",
       "      <th>3928</th>\n",
       "      <td>1</td>\n",
       "    </tr>\n",
       "    <tr>\n",
       "      <th>3929</th>\n",
       "      <td>0</td>\n",
       "    </tr>\n",
       "    <tr>\n",
       "      <th>3930</th>\n",
       "      <td>2</td>\n",
       "    </tr>\n",
       "    <tr>\n",
       "      <th>3931</th>\n",
       "      <td>1</td>\n",
       "    </tr>\n",
       "  </tbody>\n",
       "</table>\n",
       "<p>3932 rows × 1 columns</p>\n",
       "</div>"
      ],
      "text/plain": [
       "      0\n",
       "0     1\n",
       "1     1\n",
       "2     0\n",
       "3     1\n",
       "4     0\n",
       "...  ..\n",
       "3927  0\n",
       "3928  1\n",
       "3929  0\n",
       "3930  2\n",
       "3931  1\n",
       "\n",
       "[3932 rows x 1 columns]"
      ]
     },
     "execution_count": 6,
     "metadata": {},
     "output_type": "execute_result"
    }
   ],
   "source": [
    "y = pd.DataFrame(y)\n",
    "y"
   ]
  },
  {
   "cell_type": "code",
   "execution_count": 209,
   "metadata": {},
   "outputs": [],
   "source": [
    "#X = X + 0.01"
   ]
  },
  {
   "cell_type": "code",
   "execution_count": 7,
   "metadata": {},
   "outputs": [],
   "source": [
    "# create held-out test set for final model testing\n",
    "X, X_test, y, y_test = train_test_split(X, y, random_state=42, test_size=0.3, stratify=y, shuffle=True)"
   ]
  },
  {
   "cell_type": "code",
   "execution_count": 8,
   "metadata": {},
   "outputs": [],
   "source": [
    "# reset indices\n",
    "X = X.reset_index(drop=True)\n",
    "X_test = X_test.reset_index(drop=True)\n",
    "\n",
    "y = y.reset_index(drop=True)\n",
    "y_test = y_test.reset_index(drop=True)"
   ]
  },
  {
   "cell_type": "code",
   "execution_count": 9,
   "metadata": {},
   "outputs": [],
   "source": [
    "y = y.to_numpy()  \n",
    "y_test = y_test.to_numpy()  "
   ]
  },
  {
   "cell_type": "code",
   "execution_count": 10,
   "metadata": {},
   "outputs": [
    {
     "name": "stdout",
     "output_type": "stream",
     "text": [
      "(2752, 2000)\n",
      "(1180, 2000)\n",
      "(2752, 1)\n",
      "(1180, 1)\n"
     ]
    }
   ],
   "source": [
    "print(X.shape)\n",
    "print(X_test.shape)\n",
    "print(y.shape)\n",
    "print(y_test.shape)"
   ]
  },
  {
   "cell_type": "code",
   "execution_count": 54,
   "metadata": {},
   "outputs": [
    {
     "data": {
      "text/html": [
       "<div>\n",
       "<style scoped>\n",
       "    .dataframe tbody tr th:only-of-type {\n",
       "        vertical-align: middle;\n",
       "    }\n",
       "\n",
       "    .dataframe tbody tr th {\n",
       "        vertical-align: top;\n",
       "    }\n",
       "\n",
       "    .dataframe thead th {\n",
       "        text-align: right;\n",
       "    }\n",
       "</style>\n",
       "<table border=\"1\" class=\"dataframe\">\n",
       "  <thead>\n",
       "    <tr style=\"text-align: right;\">\n",
       "      <th></th>\n",
       "      <th>ORM1</th>\n",
       "      <th>ORM2</th>\n",
       "      <th>MMP3</th>\n",
       "      <th>FDCSP</th>\n",
       "      <th>S100A7</th>\n",
       "      <th>FABP7</th>\n",
       "      <th>KRT81</th>\n",
       "      <th>DCN</th>\n",
       "      <th>IL1B</th>\n",
       "      <th>AREG</th>\n",
       "      <th>...</th>\n",
       "      <th>RP11.597D13.9</th>\n",
       "      <th>MRGPRX4</th>\n",
       "      <th>C2CD4B</th>\n",
       "      <th>CTD.2012K14.8</th>\n",
       "      <th>CCR10</th>\n",
       "      <th>FAS</th>\n",
       "      <th>ADORA2B</th>\n",
       "      <th>PRMT9</th>\n",
       "      <th>PHGDH</th>\n",
       "      <th>HOXA4</th>\n",
       "    </tr>\n",
       "  </thead>\n",
       "  <tbody>\n",
       "    <tr>\n",
       "      <th>0</th>\n",
       "      <td>0.000000</td>\n",
       "      <td>0.000000</td>\n",
       "      <td>0.000000</td>\n",
       "      <td>0.0</td>\n",
       "      <td>0.000000</td>\n",
       "      <td>0.000000</td>\n",
       "      <td>0.000000</td>\n",
       "      <td>0.0</td>\n",
       "      <td>0.000000</td>\n",
       "      <td>0.000000</td>\n",
       "      <td>...</td>\n",
       "      <td>0.0</td>\n",
       "      <td>0.0</td>\n",
       "      <td>0.0</td>\n",
       "      <td>0.0</td>\n",
       "      <td>0.0</td>\n",
       "      <td>1.287289</td>\n",
       "      <td>0.0</td>\n",
       "      <td>0.0</td>\n",
       "      <td>0.000000</td>\n",
       "      <td>0.0</td>\n",
       "    </tr>\n",
       "    <tr>\n",
       "      <th>1</th>\n",
       "      <td>0.000000</td>\n",
       "      <td>0.000000</td>\n",
       "      <td>0.000000</td>\n",
       "      <td>0.0</td>\n",
       "      <td>1.040570</td>\n",
       "      <td>1.040570</td>\n",
       "      <td>0.000000</td>\n",
       "      <td>0.0</td>\n",
       "      <td>0.000000</td>\n",
       "      <td>0.000000</td>\n",
       "      <td>...</td>\n",
       "      <td>0.0</td>\n",
       "      <td>0.0</td>\n",
       "      <td>0.0</td>\n",
       "      <td>0.0</td>\n",
       "      <td>0.0</td>\n",
       "      <td>0.000000</td>\n",
       "      <td>0.0</td>\n",
       "      <td>0.0</td>\n",
       "      <td>0.000000</td>\n",
       "      <td>0.0</td>\n",
       "    </tr>\n",
       "    <tr>\n",
       "      <th>2</th>\n",
       "      <td>0.000000</td>\n",
       "      <td>0.000000</td>\n",
       "      <td>0.000000</td>\n",
       "      <td>0.0</td>\n",
       "      <td>0.000000</td>\n",
       "      <td>0.000000</td>\n",
       "      <td>1.167167</td>\n",
       "      <td>0.0</td>\n",
       "      <td>0.000000</td>\n",
       "      <td>0.744999</td>\n",
       "      <td>...</td>\n",
       "      <td>0.0</td>\n",
       "      <td>0.0</td>\n",
       "      <td>0.0</td>\n",
       "      <td>0.0</td>\n",
       "      <td>0.0</td>\n",
       "      <td>0.000000</td>\n",
       "      <td>0.0</td>\n",
       "      <td>0.0</td>\n",
       "      <td>0.744999</td>\n",
       "      <td>0.0</td>\n",
       "    </tr>\n",
       "    <tr>\n",
       "      <th>3</th>\n",
       "      <td>0.000000</td>\n",
       "      <td>0.000000</td>\n",
       "      <td>0.992541</td>\n",
       "      <td>0.0</td>\n",
       "      <td>0.000000</td>\n",
       "      <td>0.000000</td>\n",
       "      <td>0.000000</td>\n",
       "      <td>0.0</td>\n",
       "      <td>0.000000</td>\n",
       "      <td>0.000000</td>\n",
       "      <td>...</td>\n",
       "      <td>0.0</td>\n",
       "      <td>0.0</td>\n",
       "      <td>0.0</td>\n",
       "      <td>0.0</td>\n",
       "      <td>0.0</td>\n",
       "      <td>0.000000</td>\n",
       "      <td>0.0</td>\n",
       "      <td>0.0</td>\n",
       "      <td>0.000000</td>\n",
       "      <td>0.0</td>\n",
       "    </tr>\n",
       "    <tr>\n",
       "      <th>4</th>\n",
       "      <td>0.000000</td>\n",
       "      <td>0.000000</td>\n",
       "      <td>0.000000</td>\n",
       "      <td>0.0</td>\n",
       "      <td>0.000000</td>\n",
       "      <td>0.000000</td>\n",
       "      <td>0.000000</td>\n",
       "      <td>0.0</td>\n",
       "      <td>0.000000</td>\n",
       "      <td>0.000000</td>\n",
       "      <td>...</td>\n",
       "      <td>0.0</td>\n",
       "      <td>0.0</td>\n",
       "      <td>0.0</td>\n",
       "      <td>0.0</td>\n",
       "      <td>0.0</td>\n",
       "      <td>0.000000</td>\n",
       "      <td>0.0</td>\n",
       "      <td>0.0</td>\n",
       "      <td>0.000000</td>\n",
       "      <td>0.0</td>\n",
       "    </tr>\n",
       "    <tr>\n",
       "      <th>...</th>\n",
       "      <td>...</td>\n",
       "      <td>...</td>\n",
       "      <td>...</td>\n",
       "      <td>...</td>\n",
       "      <td>...</td>\n",
       "      <td>...</td>\n",
       "      <td>...</td>\n",
       "      <td>...</td>\n",
       "      <td>...</td>\n",
       "      <td>...</td>\n",
       "      <td>...</td>\n",
       "      <td>...</td>\n",
       "      <td>...</td>\n",
       "      <td>...</td>\n",
       "      <td>...</td>\n",
       "      <td>...</td>\n",
       "      <td>...</td>\n",
       "      <td>...</td>\n",
       "      <td>...</td>\n",
       "      <td>...</td>\n",
       "      <td>...</td>\n",
       "    </tr>\n",
       "    <tr>\n",
       "      <th>1175</th>\n",
       "      <td>0.000000</td>\n",
       "      <td>0.000000</td>\n",
       "      <td>0.585273</td>\n",
       "      <td>0.0</td>\n",
       "      <td>0.000000</td>\n",
       "      <td>0.585273</td>\n",
       "      <td>0.000000</td>\n",
       "      <td>0.0</td>\n",
       "      <td>0.000000</td>\n",
       "      <td>0.585273</td>\n",
       "      <td>...</td>\n",
       "      <td>0.0</td>\n",
       "      <td>0.0</td>\n",
       "      <td>0.0</td>\n",
       "      <td>0.0</td>\n",
       "      <td>0.0</td>\n",
       "      <td>0.000000</td>\n",
       "      <td>0.0</td>\n",
       "      <td>0.0</td>\n",
       "      <td>0.585273</td>\n",
       "      <td>0.0</td>\n",
       "    </tr>\n",
       "    <tr>\n",
       "      <th>1176</th>\n",
       "      <td>0.000000</td>\n",
       "      <td>0.000000</td>\n",
       "      <td>1.198240</td>\n",
       "      <td>0.0</td>\n",
       "      <td>0.000000</td>\n",
       "      <td>0.000000</td>\n",
       "      <td>0.000000</td>\n",
       "      <td>0.0</td>\n",
       "      <td>0.000000</td>\n",
       "      <td>0.000000</td>\n",
       "      <td>...</td>\n",
       "      <td>0.0</td>\n",
       "      <td>0.0</td>\n",
       "      <td>0.0</td>\n",
       "      <td>0.0</td>\n",
       "      <td>0.0</td>\n",
       "      <td>1.198240</td>\n",
       "      <td>0.0</td>\n",
       "      <td>0.0</td>\n",
       "      <td>1.198240</td>\n",
       "      <td>0.0</td>\n",
       "    </tr>\n",
       "    <tr>\n",
       "      <th>1177</th>\n",
       "      <td>3.884666</td>\n",
       "      <td>0.745814</td>\n",
       "      <td>0.000000</td>\n",
       "      <td>0.0</td>\n",
       "      <td>0.000000</td>\n",
       "      <td>0.000000</td>\n",
       "      <td>0.000000</td>\n",
       "      <td>0.0</td>\n",
       "      <td>0.000000</td>\n",
       "      <td>0.000000</td>\n",
       "      <td>...</td>\n",
       "      <td>0.0</td>\n",
       "      <td>0.0</td>\n",
       "      <td>0.0</td>\n",
       "      <td>0.0</td>\n",
       "      <td>0.0</td>\n",
       "      <td>0.000000</td>\n",
       "      <td>0.0</td>\n",
       "      <td>0.0</td>\n",
       "      <td>0.000000</td>\n",
       "      <td>0.0</td>\n",
       "    </tr>\n",
       "    <tr>\n",
       "      <th>1178</th>\n",
       "      <td>0.000000</td>\n",
       "      <td>0.000000</td>\n",
       "      <td>0.000000</td>\n",
       "      <td>0.0</td>\n",
       "      <td>2.663829</td>\n",
       "      <td>0.000000</td>\n",
       "      <td>0.000000</td>\n",
       "      <td>0.0</td>\n",
       "      <td>0.636617</td>\n",
       "      <td>0.000000</td>\n",
       "      <td>...</td>\n",
       "      <td>0.0</td>\n",
       "      <td>0.0</td>\n",
       "      <td>0.0</td>\n",
       "      <td>0.0</td>\n",
       "      <td>0.0</td>\n",
       "      <td>0.000000</td>\n",
       "      <td>0.0</td>\n",
       "      <td>0.0</td>\n",
       "      <td>0.000000</td>\n",
       "      <td>0.0</td>\n",
       "    </tr>\n",
       "    <tr>\n",
       "      <th>1179</th>\n",
       "      <td>3.948868</td>\n",
       "      <td>2.224651</td>\n",
       "      <td>0.000000</td>\n",
       "      <td>0.0</td>\n",
       "      <td>1.119253</td>\n",
       "      <td>0.000000</td>\n",
       "      <td>1.119253</td>\n",
       "      <td>0.0</td>\n",
       "      <td>0.000000</td>\n",
       "      <td>0.000000</td>\n",
       "      <td>...</td>\n",
       "      <td>0.0</td>\n",
       "      <td>0.0</td>\n",
       "      <td>0.0</td>\n",
       "      <td>0.0</td>\n",
       "      <td>0.0</td>\n",
       "      <td>0.000000</td>\n",
       "      <td>0.0</td>\n",
       "      <td>0.0</td>\n",
       "      <td>0.523261</td>\n",
       "      <td>0.0</td>\n",
       "    </tr>\n",
       "  </tbody>\n",
       "</table>\n",
       "<p>1180 rows × 2000 columns</p>\n",
       "</div>"
      ],
      "text/plain": [
       "          ORM1      ORM2      MMP3  FDCSP    S100A7     FABP7     KRT81  DCN  \\\n",
       "0     0.000000  0.000000  0.000000    0.0  0.000000  0.000000  0.000000  0.0   \n",
       "1     0.000000  0.000000  0.000000    0.0  1.040570  1.040570  0.000000  0.0   \n",
       "2     0.000000  0.000000  0.000000    0.0  0.000000  0.000000  1.167167  0.0   \n",
       "3     0.000000  0.000000  0.992541    0.0  0.000000  0.000000  0.000000  0.0   \n",
       "4     0.000000  0.000000  0.000000    0.0  0.000000  0.000000  0.000000  0.0   \n",
       "...        ...       ...       ...    ...       ...       ...       ...  ...   \n",
       "1175  0.000000  0.000000  0.585273    0.0  0.000000  0.585273  0.000000  0.0   \n",
       "1176  0.000000  0.000000  1.198240    0.0  0.000000  0.000000  0.000000  0.0   \n",
       "1177  3.884666  0.745814  0.000000    0.0  0.000000  0.000000  0.000000  0.0   \n",
       "1178  0.000000  0.000000  0.000000    0.0  2.663829  0.000000  0.000000  0.0   \n",
       "1179  3.948868  2.224651  0.000000    0.0  1.119253  0.000000  1.119253  0.0   \n",
       "\n",
       "          IL1B      AREG  ...  RP11.597D13.9  MRGPRX4  C2CD4B  CTD.2012K14.8  \\\n",
       "0     0.000000  0.000000  ...            0.0      0.0     0.0            0.0   \n",
       "1     0.000000  0.000000  ...            0.0      0.0     0.0            0.0   \n",
       "2     0.000000  0.744999  ...            0.0      0.0     0.0            0.0   \n",
       "3     0.000000  0.000000  ...            0.0      0.0     0.0            0.0   \n",
       "4     0.000000  0.000000  ...            0.0      0.0     0.0            0.0   \n",
       "...        ...       ...  ...            ...      ...     ...            ...   \n",
       "1175  0.000000  0.585273  ...            0.0      0.0     0.0            0.0   \n",
       "1176  0.000000  0.000000  ...            0.0      0.0     0.0            0.0   \n",
       "1177  0.000000  0.000000  ...            0.0      0.0     0.0            0.0   \n",
       "1178  0.636617  0.000000  ...            0.0      0.0     0.0            0.0   \n",
       "1179  0.000000  0.000000  ...            0.0      0.0     0.0            0.0   \n",
       "\n",
       "      CCR10       FAS  ADORA2B  PRMT9     PHGDH  HOXA4  \n",
       "0       0.0  1.287289      0.0    0.0  0.000000    0.0  \n",
       "1       0.0  0.000000      0.0    0.0  0.000000    0.0  \n",
       "2       0.0  0.000000      0.0    0.0  0.744999    0.0  \n",
       "3       0.0  0.000000      0.0    0.0  0.000000    0.0  \n",
       "4       0.0  0.000000      0.0    0.0  0.000000    0.0  \n",
       "...     ...       ...      ...    ...       ...    ...  \n",
       "1175    0.0  0.000000      0.0    0.0  0.585273    0.0  \n",
       "1176    0.0  1.198240      0.0    0.0  1.198240    0.0  \n",
       "1177    0.0  0.000000      0.0    0.0  0.000000    0.0  \n",
       "1178    0.0  0.000000      0.0    0.0  0.000000    0.0  \n",
       "1179    0.0  0.000000      0.0    0.0  0.523261    0.0  \n",
       "\n",
       "[1180 rows x 2000 columns]"
      ]
     },
     "execution_count": 54,
     "metadata": {},
     "output_type": "execute_result"
    }
   ],
   "source": [
    "X_test"
   ]
  },
  {
   "cell_type": "code",
   "execution_count": 55,
   "metadata": {},
   "outputs": [
    {
     "data": {
      "text/plain": [
       "array([[0],\n",
       "       [0],\n",
       "       [1],\n",
       "       ...,\n",
       "       [2],\n",
       "       [1],\n",
       "       [2]])"
      ]
     },
     "execution_count": 55,
     "metadata": {},
     "output_type": "execute_result"
    }
   ],
   "source": [
    "y_test\n"
   ]
  },
  {
   "attachments": {},
   "cell_type": "markdown",
   "metadata": {
    "collapsed": false,
    "pycharm": {
     "name": "#%% md\n"
    }
   },
   "source": [
    "## NestedCV to optimize each model and compare them"
   ]
  },
  {
   "cell_type": "code",
   "execution_count": 12,
   "metadata": {
    "collapsed": false,
    "pycharm": {
     "name": "#%%\n"
    }
   },
   "outputs": [],
   "source": [
    "from sklearn.metrics import matthews_corrcoef, balanced_accuracy_score, fbeta_score, f1_score, make_scorer\n",
    "from sklearn.model_selection import StratifiedKFold\n",
    "from sklearn.preprocessing import StandardScaler\n",
    "from sklearn.decomposition import PCA\n",
    "from sklearn.decomposition import TruncatedSVD\n",
    "import numpy as np\n",
    "\n",
    "NUM_TRIALS = 10\n",
    "OUTER_FOLDS = 5\n",
    "\n",
    "scoring = {'F1_weighted': make_scorer(f1_score, average='weighted'),\n",
    "           'F1_micro': make_scorer(f1_score, average='micro'),\n",
    "           'F1_macro': make_scorer(f1_score, average='macro'),\n",
    "           'F2_weighted': make_scorer(fbeta_score, beta=2, zero_division=0, average='weighted'),\n",
    "           'F2_micro': make_scorer(fbeta_score, beta=2, zero_division=0, average='micro'),\n",
    "           'F2_macro': make_scorer(fbeta_score, beta=2, zero_division=0, average='macro'),\n",
    "           'MCC': make_scorer(matthews_corrcoef),\n",
    "           'Balanced_Accuracy': 'balanced_accuracy',\n",
    "           }\n",
    "\n",
    "def get_outer_scores(y_true, y_pred, results_df, idx):\n",
    "    \"\"\"\n",
    "    Fill the dataframe which will contain all the scores for each experiment of a specific classifier\n",
    "\n",
    "    :param y_true: True labels\n",
    "    :param y_pred: Predicted labels by the best estimator of each inner cv\n",
    "    :param results_df: The dataframe to fill\n",
    "    :param idx: The index the results should be put\n",
    "    :return: The dataframe filled at the indicated index\n",
    "    \"\"\"\n",
    "    results_df['MCC'].loc[idx] = matthews_corrcoef(y_true, y_pred)\n",
    "    results_df['F1_weighted'].loc[idx] = f1_score(y_true, y_pred, average='weighted')\n",
    "    results_df['F1_micro'].loc[idx] = f1_score(y_true, y_pred, average='micro')\n",
    "    results_df['F1_macro'].loc[idx] = f1_score(y_true, y_pred, average='macro')\n",
    "    results_df['F2_weighted'].loc[idx] = fbeta_score(y_true, y_pred, beta=2, zero_division=0, average='weighted')\n",
    "    results_df['F2_micro'].loc[idx] = fbeta_score(y_true, y_pred, beta=2, zero_division=0, average='micro')\n",
    "    results_df['F2_macro'].loc[idx] = f1_score(y_true, y_pred, average='macro')\n",
    "    results_df['Balanced_Accuracy'].loc[idx] = balanced_accuracy_score(y_true, y_pred)\n",
    "\n",
    "    return results_df.copy()\n",
    "\n",
    "def run_ncv(data_x, labels, clf_name):\n",
    "    \"\"\"\n",
    "    Run an NCV experiment for a specific classifier whose name is required as input\n",
    "\n",
    "    :param data_x: Dataframe of samples and features\n",
    "    :param labels: numpy array of labels\n",
    "    :param clf_name: a string indicating the name of the classifier\n",
    "    :return: tuple\n",
    "        Result scores of all experiments in a dataframe (experiment_number x score) and a list with the best parameters\n",
    "        for each experiment just for inspection (DO NOT USE)\n",
    "    \"\"\"\n",
    "    trial_results_df = pd.DataFrame(columns=list(scoring.keys()), index=[i for i in range(NUM_TRIALS+OUTER_FOLDS)])\n",
    "    best_params_list = []\n",
    "    svd = TruncatedSVD(n_components=2, random_state=42).fit(data_x)\n",
    "    \n",
    "    for num_trial in range(NUM_TRIALS):\n",
    "        outer_cv = StratifiedKFold(n_splits=OUTER_FOLDS, shuffle=True, random_state=num_trial)\n",
    "        count = 0\n",
    "        for train_ix, test_ix in outer_cv.split(data_x, labels):\n",
    "            x_train, x_test = data_x.loc[train_ix], data_x.loc[test_ix]\n",
    "            y_train, y_test = labels[train_ix], labels[test_ix]\n",
    "\n",
    "            \n",
    "            x_train = svd.transform(x_train)\n",
    "            x_test = svd.transform(x_test)\n",
    "\n",
    "            seed = num_trial\n",
    "\n",
    "            best_estimator, best_params = optimize_one_model(x_train, y_train, clf_name, seed)\n",
    "\n",
    "            best_params_list.append(best_params)\n",
    "            y_pred = best_estimator.predict(x_test)\n",
    "            trial_results_df = get_outer_scores(y_test, y_pred, trial_results_df.copy(), num_trial+count)\n",
    "            \n",
    "            count += 1\n",
    "\n",
    "    return trial_results_df, best_params_list\n",
    "\n",
    "\n",
    "\n",
    "def run_all_classifiers(data, targets):\n",
    "    \"\"\"\n",
    "    START HERE\n",
    "    Begin the nested cv experiment here. This function iterates over all classifier names and starts a ncv experiment for\n",
    "    each one.\n",
    "\n",
    "    :param data: A dataframe containing the features for all available samples (aka PCs)\n",
    "    :param targets: The labels after turning them into numbers of range 0 to num_classes-1\n",
    "    :return: Tuple\n",
    "        A dictionary with keys the names of the classifiers and values the dataframes containing the scores for each,\n",
    "        A dictionary containing the best params for each experiment and each classifier (Only used for inspection)\n",
    "    \"\"\"\n",
    "    results_dict = {}\n",
    "    params_dict = {}\n",
    "    classifiers = {0: 'svm',\n",
    "                   1: 'lr',\n",
    "                   2: 'gnb',\n",
    "                   3: 'rf',\n",
    "                   4: 'xgb'\n",
    "                   }\n",
    "\n",
    "    for clf in classifiers.values():\n",
    "        print(f'Starting NCV experiment for classifier {clf}')\n",
    "        # res_df = nested_cv(clf, hyperparam_grids[key], x, y)\n",
    "        res_df, best_params = run_ncv(data, targets, clf)\n",
    "        results_dict[clf] = res_df\n",
    "        params_dict[clf] = best_params\n",
    "        # break\n",
    "    return results_dict, params_dict"
   ]
  },
  {
   "attachments": {},
   "cell_type": "markdown",
   "metadata": {
    "collapsed": false,
    "pycharm": {
     "name": "#%% md\n"
    }
   },
   "source": [
    "## Plotting functions"
   ]
  },
  {
   "cell_type": "code",
   "execution_count": 25,
   "metadata": {
    "collapsed": false,
    "pycharm": {
     "name": "#%%\n"
    }
   },
   "outputs": [],
   "source": [
    "'''\n",
    "def plot_clfs_metrics(results_dict):\n",
    "    fig, axes = plt.subplots(nrows=4, ncols=2, figsize=(6, 9))\n",
    "    my_palette = sns.color_palette(\"tab10\")\n",
    "\n",
    "    row, col = 0, 0\n",
    "    for metric in scoring.keys():\n",
    "        metric_data = pd.DataFrame()\n",
    "        for clf_key, df in results_dict.items():\n",
    "            metric_data[clf_key.upper()] = df[metric]\n",
    "        sns.boxplot(data=metric_data, ax=axes[row][col], width=0.5, palette=my_palette)\n",
    "        axes[row][col].set_title(metric)\n",
    "\n",
    "        col += 1\n",
    "        if col == 2:\n",
    "            col = 0\n",
    "            row += 1\n",
    "\n",
    "    fig.subplots_adjust(hspace=0.6, wspace=0.3)\n",
    "    fig.suptitle('Classifiers metrics comparison after nested CV experiments', fontsize=22)\n",
    "    plt.savefig('metrics_comparison.pdf')\n",
    "    plt.show()\n",
    "    '''\n",
    "\n",
    "def plot_metric_boxplots(results_dict):\n",
    "\n",
    "    sns.set(style='ticks', font_scale=1.2)\n",
    "\n",
    "    g = sns.catplot(x='Metric', y='Value', hue='Classifier', kind='box', data=results_dict, height=8, aspect=3, legend_out=False)\n",
    "    g.set_axis_labels('Evaluation Metrics (Outer Cross Validation Loop)', 'Metric Value')\n",
    "    g.fig.suptitle('Evaluation metrics over 50 nCV outer loop folds for all classifiers', y=1.03)\n",
    "    g._legend.set_title('Classifier')\n",
    "    \n",
    "    g.ax.xaxis.labelpad = 20\n",
    "\n",
    "\n",
    "def plot_mccs(mcc_dict, std_errors):\n",
    "    fig, ax = plt.subplots(figsize=(8, 7))\n",
    "    x_labels = [key.upper() for key in mcc_dict.keys()]\n",
    "    y_values = mcc_dict.values()\n",
    "    error_values = std_errors.values()\n",
    "    my_cmap = plt.get_cmap(\"tab10\")\n",
    "    \n",
    "    # Plot the bar chart\n",
    "    bar = ax.bar(x_labels, y_values, color=my_cmap.colors)\n",
    "    \n",
    "    # Add error bars with custom appearance\n",
    "    for rect, error_value in zip(bar, error_values):\n",
    "        height = rect.get_height()\n",
    "        errorbar_kwargs = {\n",
    "            'x': rect.get_x() + rect.get_width() / 2,\n",
    "            'y': height,\n",
    "            'yerr': error_value,\n",
    "            'color': 'black',\n",
    "            'capsize': 5,  # Adjust the cap size of the error bars\n",
    "            'linewidth': 1.5,  # Adjust the line width of the error bars\n",
    "            'alpha': 0.8  # Adjust the transparency of the error bars\n",
    "        }\n",
    "        ax.errorbar(**errorbar_kwargs)\n",
    "    \n",
    "    plt.title('MCC mean values comparison between different classifiers', fontsize=22)\n",
    "    ax.xaxis.label.set_size(8)\n",
    "    ax.yaxis.label.set_size(8)\n",
    "    ax.bar_label(ax.containers[0])\n",
    "    plt.xlabel('Classifiers', fontsize=10)\n",
    "    plt.savefig('mcc_compare.pdf')\n",
    "    plt.show()\n",
    "\n",
    "\n",
    "\n",
    "def plot_mean_std_errors(std_dict):\n",
    "    fig, ax = plt.subplots(figsize=(8, 7))\n",
    "    x_labels = [key.upper() for key in std_dict.keys()]\n",
    "    y_values = std_dict.values()\n",
    "    my_cmap = plt.get_cmap(\"Set3\")\n",
    "    plt.bar(x_labels, y_values, color=my_cmap.colors)\n",
    "    plt.title('MCC standard error comparison between different classifiers', fontsize=22)\n",
    "    ax.xaxis.label.set_size(8)\n",
    "    ax.yaxis.label.set_size(8)\n",
    "    ax.bar_label(ax.containers[0])\n",
    "    plt.xlabel('Classifiers', fontsize=10)\n",
    "    plt.savefig('std_e_compare.pdf')\n",
    "    plt.show()\n",
    "\n",
    "\n",
    "def compare_mean_mccs(results_dict):\n",
    "    \"\"\"\n",
    "    For each classifier calculate mean MCC score and standard error\n",
    "    :param results_dict: A dictionary with keys the names of the classifiers and values dataframes with the scores of\n",
    "    the ncv experiments done for each one\n",
    "    :return:\n",
    "    Dictionary for each classifier's mean MCC score\n",
    "    \"\"\"\n",
    "    mccs = {}\n",
    "    std_errors = {}\n",
    "    for key, df in results_dict.items():\n",
    "        mean_mcc = df['MCC'].mean()\n",
    "        std_error_mcc = df['MCC'].std(ddof=1) / np.sqrt(df['MCC'].shape[0])\n",
    "        mccs[key] = mean_mcc\n",
    "        std_errors[key] = std_error_mcc\n",
    "    plot_mccs(mccs, std_errors)\n",
    "    plot_mean_std_errors(std_errors)\n",
    "    return mccs"
   ]
  },
  {
   "cell_type": "code",
   "execution_count": 58,
   "metadata": {
    "collapsed": false,
    "pycharm": {
     "name": "#%%\n"
    }
   },
   "outputs": [
    {
     "data": {
      "text/plain": [
       "(2752, 2000)"
      ]
     },
     "execution_count": 58,
     "metadata": {},
     "output_type": "execute_result"
    }
   ],
   "source": [
    "X.shape"
   ]
  },
  {
   "cell_type": "code",
   "execution_count": 59,
   "metadata": {
    "collapsed": false,
    "pycharm": {
     "name": "#%%\n"
    }
   },
   "outputs": [
    {
     "data": {
      "text/html": [
       "<div>\n",
       "<style scoped>\n",
       "    .dataframe tbody tr th:only-of-type {\n",
       "        vertical-align: middle;\n",
       "    }\n",
       "\n",
       "    .dataframe tbody tr th {\n",
       "        vertical-align: top;\n",
       "    }\n",
       "\n",
       "    .dataframe thead th {\n",
       "        text-align: right;\n",
       "    }\n",
       "</style>\n",
       "<table border=\"1\" class=\"dataframe\">\n",
       "  <thead>\n",
       "    <tr style=\"text-align: right;\">\n",
       "      <th></th>\n",
       "      <th>ORM1</th>\n",
       "      <th>ORM2</th>\n",
       "      <th>MMP3</th>\n",
       "      <th>FDCSP</th>\n",
       "      <th>S100A7</th>\n",
       "      <th>FABP7</th>\n",
       "      <th>KRT81</th>\n",
       "      <th>DCN</th>\n",
       "      <th>IL1B</th>\n",
       "      <th>AREG</th>\n",
       "      <th>...</th>\n",
       "      <th>RP11.597D13.9</th>\n",
       "      <th>MRGPRX4</th>\n",
       "      <th>C2CD4B</th>\n",
       "      <th>CTD.2012K14.8</th>\n",
       "      <th>CCR10</th>\n",
       "      <th>FAS</th>\n",
       "      <th>ADORA2B</th>\n",
       "      <th>PRMT9</th>\n",
       "      <th>PHGDH</th>\n",
       "      <th>HOXA4</th>\n",
       "    </tr>\n",
       "  </thead>\n",
       "  <tbody>\n",
       "    <tr>\n",
       "      <th>0</th>\n",
       "      <td>0.0</td>\n",
       "      <td>0.0</td>\n",
       "      <td>0.000000</td>\n",
       "      <td>0.0</td>\n",
       "      <td>0.0</td>\n",
       "      <td>0.0</td>\n",
       "      <td>0.0</td>\n",
       "      <td>0.0</td>\n",
       "      <td>3.471439</td>\n",
       "      <td>0.000000</td>\n",
       "      <td>...</td>\n",
       "      <td>0.0</td>\n",
       "      <td>0.0</td>\n",
       "      <td>0.0</td>\n",
       "      <td>0.0</td>\n",
       "      <td>0.0</td>\n",
       "      <td>0.000000</td>\n",
       "      <td>0.0</td>\n",
       "      <td>0.0</td>\n",
       "      <td>0.000000</td>\n",
       "      <td>0.000000</td>\n",
       "    </tr>\n",
       "    <tr>\n",
       "      <th>1</th>\n",
       "      <td>0.0</td>\n",
       "      <td>0.0</td>\n",
       "      <td>0.000000</td>\n",
       "      <td>0.0</td>\n",
       "      <td>0.0</td>\n",
       "      <td>0.0</td>\n",
       "      <td>0.0</td>\n",
       "      <td>0.0</td>\n",
       "      <td>0.000000</td>\n",
       "      <td>0.000000</td>\n",
       "      <td>...</td>\n",
       "      <td>0.0</td>\n",
       "      <td>0.0</td>\n",
       "      <td>0.0</td>\n",
       "      <td>0.0</td>\n",
       "      <td>0.0</td>\n",
       "      <td>0.702579</td>\n",
       "      <td>0.0</td>\n",
       "      <td>0.0</td>\n",
       "      <td>0.000000</td>\n",
       "      <td>0.000000</td>\n",
       "    </tr>\n",
       "    <tr>\n",
       "      <th>2</th>\n",
       "      <td>0.0</td>\n",
       "      <td>0.0</td>\n",
       "      <td>4.413397</td>\n",
       "      <td>0.0</td>\n",
       "      <td>0.0</td>\n",
       "      <td>0.0</td>\n",
       "      <td>0.0</td>\n",
       "      <td>0.0</td>\n",
       "      <td>1.266502</td>\n",
       "      <td>0.000000</td>\n",
       "      <td>...</td>\n",
       "      <td>0.0</td>\n",
       "      <td>0.0</td>\n",
       "      <td>0.0</td>\n",
       "      <td>0.0</td>\n",
       "      <td>0.0</td>\n",
       "      <td>2.157011</td>\n",
       "      <td>0.0</td>\n",
       "      <td>0.0</td>\n",
       "      <td>1.266502</td>\n",
       "      <td>0.000000</td>\n",
       "    </tr>\n",
       "    <tr>\n",
       "      <th>3</th>\n",
       "      <td>0.0</td>\n",
       "      <td>0.0</td>\n",
       "      <td>0.000000</td>\n",
       "      <td>0.0</td>\n",
       "      <td>0.0</td>\n",
       "      <td>0.0</td>\n",
       "      <td>0.0</td>\n",
       "      <td>0.0</td>\n",
       "      <td>0.000000</td>\n",
       "      <td>1.719341</td>\n",
       "      <td>...</td>\n",
       "      <td>0.0</td>\n",
       "      <td>0.0</td>\n",
       "      <td>0.0</td>\n",
       "      <td>0.0</td>\n",
       "      <td>0.0</td>\n",
       "      <td>0.000000</td>\n",
       "      <td>0.0</td>\n",
       "      <td>0.0</td>\n",
       "      <td>1.719341</td>\n",
       "      <td>1.719341</td>\n",
       "    </tr>\n",
       "  </tbody>\n",
       "</table>\n",
       "<p>4 rows × 2000 columns</p>\n",
       "</div>"
      ],
      "text/plain": [
       "   ORM1  ORM2      MMP3  FDCSP  S100A7  FABP7  KRT81  DCN      IL1B      AREG  \\\n",
       "0   0.0   0.0  0.000000    0.0     0.0    0.0    0.0  0.0  3.471439  0.000000   \n",
       "1   0.0   0.0  0.000000    0.0     0.0    0.0    0.0  0.0  0.000000  0.000000   \n",
       "2   0.0   0.0  4.413397    0.0     0.0    0.0    0.0  0.0  1.266502  0.000000   \n",
       "3   0.0   0.0  0.000000    0.0     0.0    0.0    0.0  0.0  0.000000  1.719341   \n",
       "\n",
       "   ...  RP11.597D13.9  MRGPRX4  C2CD4B  CTD.2012K14.8  CCR10       FAS  \\\n",
       "0  ...            0.0      0.0     0.0            0.0    0.0  0.000000   \n",
       "1  ...            0.0      0.0     0.0            0.0    0.0  0.702579   \n",
       "2  ...            0.0      0.0     0.0            0.0    0.0  2.157011   \n",
       "3  ...            0.0      0.0     0.0            0.0    0.0  0.000000   \n",
       "\n",
       "   ADORA2B  PRMT9     PHGDH     HOXA4  \n",
       "0      0.0    0.0  0.000000  0.000000  \n",
       "1      0.0    0.0  0.000000  0.000000  \n",
       "2      0.0    0.0  1.266502  0.000000  \n",
       "3      0.0    0.0  1.719341  1.719341  \n",
       "\n",
       "[4 rows x 2000 columns]"
      ]
     },
     "execution_count": 59,
     "metadata": {},
     "output_type": "execute_result"
    }
   ],
   "source": [
    "X.loc[[0,1,2,3]]\n"
   ]
  },
  {
   "cell_type": "code",
   "execution_count": 13,
   "metadata": {
    "collapsed": false,
    "pycharm": {
     "is_executing": true,
     "name": "#%%\n"
    }
   },
   "outputs": [
    {
     "name": "stdout",
     "output_type": "stream",
     "text": [
      "Starting NCV experiment for classifier svm\n"
     ]
    },
    {
     "data": {
      "application/vnd.jupyter.widget-view+json": {
       "model_id": "a0378fe19c0342d0a4f885866b724e37",
       "version_major": 2,
       "version_minor": 0
      },
      "text/plain": [
       "  0%|          | 0/25 [00:00<?, ?it/s]"
      ]
     },
     "metadata": {},
     "output_type": "display_data"
    },
    {
     "data": {
      "application/vnd.jupyter.widget-view+json": {
       "model_id": "102da1334f8441c58ff33178a8246416",
       "version_major": 2,
       "version_minor": 0
      },
      "text/plain": [
       "  0%|          | 0/25 [00:00<?, ?it/s]"
      ]
     },
     "metadata": {},
     "output_type": "display_data"
    },
    {
     "data": {
      "application/vnd.jupyter.widget-view+json": {
       "model_id": "83d244b3b2b24b87aca52df7c954180d",
       "version_major": 2,
       "version_minor": 0
      },
      "text/plain": [
       "  0%|          | 0/25 [00:00<?, ?it/s]"
      ]
     },
     "metadata": {},
     "output_type": "display_data"
    },
    {
     "data": {
      "application/vnd.jupyter.widget-view+json": {
       "model_id": "023be31fa7d445ac8534d4327cbed45d",
       "version_major": 2,
       "version_minor": 0
      },
      "text/plain": [
       "  0%|          | 0/25 [00:00<?, ?it/s]"
      ]
     },
     "metadata": {},
     "output_type": "display_data"
    },
    {
     "data": {
      "application/vnd.jupyter.widget-view+json": {
       "model_id": "2abc3abb6443412c92ac7c0934fc9e80",
       "version_major": 2,
       "version_minor": 0
      },
      "text/plain": [
       "  0%|          | 0/25 [00:00<?, ?it/s]"
      ]
     },
     "metadata": {},
     "output_type": "display_data"
    },
    {
     "data": {
      "application/vnd.jupyter.widget-view+json": {
       "model_id": "83c97a01f86c46d78e416b978a4dcbbc",
       "version_major": 2,
       "version_minor": 0
      },
      "text/plain": [
       "  0%|          | 0/25 [00:00<?, ?it/s]"
      ]
     },
     "metadata": {},
     "output_type": "display_data"
    },
    {
     "data": {
      "application/vnd.jupyter.widget-view+json": {
       "model_id": "799835015e2b4e4295fdeeae56822ba8",
       "version_major": 2,
       "version_minor": 0
      },
      "text/plain": [
       "  0%|          | 0/25 [00:00<?, ?it/s]"
      ]
     },
     "metadata": {},
     "output_type": "display_data"
    },
    {
     "data": {
      "application/vnd.jupyter.widget-view+json": {
       "model_id": "e479aa61d11742f4a1fd348056cbe1b2",
       "version_major": 2,
       "version_minor": 0
      },
      "text/plain": [
       "  0%|          | 0/25 [00:00<?, ?it/s]"
      ]
     },
     "metadata": {},
     "output_type": "display_data"
    },
    {
     "data": {
      "application/vnd.jupyter.widget-view+json": {
       "model_id": "f6b13f65288d4207b055d430adaba147",
       "version_major": 2,
       "version_minor": 0
      },
      "text/plain": [
       "  0%|          | 0/25 [00:00<?, ?it/s]"
      ]
     },
     "metadata": {},
     "output_type": "display_data"
    },
    {
     "data": {
      "application/vnd.jupyter.widget-view+json": {
       "model_id": "b86a63643ba14549857710b45e2581ec",
       "version_major": 2,
       "version_minor": 0
      },
      "text/plain": [
       "  0%|          | 0/25 [00:00<?, ?it/s]"
      ]
     },
     "metadata": {},
     "output_type": "display_data"
    },
    {
     "data": {
      "application/vnd.jupyter.widget-view+json": {
       "model_id": "3a7de1bf0d294511aa3f76c9c795331b",
       "version_major": 2,
       "version_minor": 0
      },
      "text/plain": [
       "  0%|          | 0/25 [00:00<?, ?it/s]"
      ]
     },
     "metadata": {},
     "output_type": "display_data"
    },
    {
     "data": {
      "application/vnd.jupyter.widget-view+json": {
       "model_id": "51365d63bc2449d29bd6a25572f20b24",
       "version_major": 2,
       "version_minor": 0
      },
      "text/plain": [
       "  0%|          | 0/25 [00:00<?, ?it/s]"
      ]
     },
     "metadata": {},
     "output_type": "display_data"
    },
    {
     "data": {
      "application/vnd.jupyter.widget-view+json": {
       "model_id": "a8396f454a0542edbf75dfbadcd999c5",
       "version_major": 2,
       "version_minor": 0
      },
      "text/plain": [
       "  0%|          | 0/25 [00:00<?, ?it/s]"
      ]
     },
     "metadata": {},
     "output_type": "display_data"
    },
    {
     "data": {
      "application/vnd.jupyter.widget-view+json": {
       "model_id": "66db42590bf7423bafb6c4ffaf9bbc0e",
       "version_major": 2,
       "version_minor": 0
      },
      "text/plain": [
       "  0%|          | 0/25 [00:00<?, ?it/s]"
      ]
     },
     "metadata": {},
     "output_type": "display_data"
    },
    {
     "data": {
      "application/vnd.jupyter.widget-view+json": {
       "model_id": "9de2f367cfc641c5a6d0d958fed03463",
       "version_major": 2,
       "version_minor": 0
      },
      "text/plain": [
       "  0%|          | 0/25 [00:00<?, ?it/s]"
      ]
     },
     "metadata": {},
     "output_type": "display_data"
    },
    {
     "data": {
      "application/vnd.jupyter.widget-view+json": {
       "model_id": "69c9cfbc5fca45238b9718d259e50eda",
       "version_major": 2,
       "version_minor": 0
      },
      "text/plain": [
       "  0%|          | 0/25 [00:00<?, ?it/s]"
      ]
     },
     "metadata": {},
     "output_type": "display_data"
    },
    {
     "data": {
      "application/vnd.jupyter.widget-view+json": {
       "model_id": "fe8aed31c76a4b349cc0230b46607822",
       "version_major": 2,
       "version_minor": 0
      },
      "text/plain": [
       "  0%|          | 0/25 [00:00<?, ?it/s]"
      ]
     },
     "metadata": {},
     "output_type": "display_data"
    },
    {
     "data": {
      "application/vnd.jupyter.widget-view+json": {
       "model_id": "2d7af5c6fce74226a1f2869f1ee077ad",
       "version_major": 2,
       "version_minor": 0
      },
      "text/plain": [
       "  0%|          | 0/25 [00:00<?, ?it/s]"
      ]
     },
     "metadata": {},
     "output_type": "display_data"
    },
    {
     "data": {
      "application/vnd.jupyter.widget-view+json": {
       "model_id": "0d2c89c13f6e4ba594e98f1367c4ca22",
       "version_major": 2,
       "version_minor": 0
      },
      "text/plain": [
       "  0%|          | 0/25 [00:00<?, ?it/s]"
      ]
     },
     "metadata": {},
     "output_type": "display_data"
    },
    {
     "data": {
      "application/vnd.jupyter.widget-view+json": {
       "model_id": "fca8d4b7909f4c8abdece6c6de125903",
       "version_major": 2,
       "version_minor": 0
      },
      "text/plain": [
       "  0%|          | 0/25 [00:00<?, ?it/s]"
      ]
     },
     "metadata": {},
     "output_type": "display_data"
    },
    {
     "data": {
      "application/vnd.jupyter.widget-view+json": {
       "model_id": "3feee3e2a57849629bb9738b7e87c196",
       "version_major": 2,
       "version_minor": 0
      },
      "text/plain": [
       "  0%|          | 0/25 [00:00<?, ?it/s]"
      ]
     },
     "metadata": {},
     "output_type": "display_data"
    },
    {
     "data": {
      "application/vnd.jupyter.widget-view+json": {
       "model_id": "11e9e2ae40bf4c7e89b316a07c9dbd56",
       "version_major": 2,
       "version_minor": 0
      },
      "text/plain": [
       "  0%|          | 0/25 [00:00<?, ?it/s]"
      ]
     },
     "metadata": {},
     "output_type": "display_data"
    },
    {
     "data": {
      "application/vnd.jupyter.widget-view+json": {
       "model_id": "5bc8a91bd24e4f1185faed1d954d479f",
       "version_major": 2,
       "version_minor": 0
      },
      "text/plain": [
       "  0%|          | 0/25 [00:00<?, ?it/s]"
      ]
     },
     "metadata": {},
     "output_type": "display_data"
    },
    {
     "data": {
      "application/vnd.jupyter.widget-view+json": {
       "model_id": "5fcfd31f012e44b1af1553a0898432de",
       "version_major": 2,
       "version_minor": 0
      },
      "text/plain": [
       "  0%|          | 0/25 [00:00<?, ?it/s]"
      ]
     },
     "metadata": {},
     "output_type": "display_data"
    },
    {
     "data": {
      "application/vnd.jupyter.widget-view+json": {
       "model_id": "dacafd51a8b548daa4f11e25a64d3944",
       "version_major": 2,
       "version_minor": 0
      },
      "text/plain": [
       "  0%|          | 0/25 [00:00<?, ?it/s]"
      ]
     },
     "metadata": {},
     "output_type": "display_data"
    },
    {
     "data": {
      "application/vnd.jupyter.widget-view+json": {
       "model_id": "a9356fc05ec24f94a10289173b65a85d",
       "version_major": 2,
       "version_minor": 0
      },
      "text/plain": [
       "  0%|          | 0/25 [00:00<?, ?it/s]"
      ]
     },
     "metadata": {},
     "output_type": "display_data"
    },
    {
     "data": {
      "application/vnd.jupyter.widget-view+json": {
       "model_id": "00802ec6f85a4a4a99deb6a1ba942b4a",
       "version_major": 2,
       "version_minor": 0
      },
      "text/plain": [
       "  0%|          | 0/25 [00:00<?, ?it/s]"
      ]
     },
     "metadata": {},
     "output_type": "display_data"
    },
    {
     "data": {
      "application/vnd.jupyter.widget-view+json": {
       "model_id": "d0681c2ec04242179bca551381f4932c",
       "version_major": 2,
       "version_minor": 0
      },
      "text/plain": [
       "  0%|          | 0/25 [00:00<?, ?it/s]"
      ]
     },
     "metadata": {},
     "output_type": "display_data"
    },
    {
     "data": {
      "application/vnd.jupyter.widget-view+json": {
       "model_id": "e340377164504b69aaf72918db4ec598",
       "version_major": 2,
       "version_minor": 0
      },
      "text/plain": [
       "  0%|          | 0/25 [00:00<?, ?it/s]"
      ]
     },
     "metadata": {},
     "output_type": "display_data"
    },
    {
     "data": {
      "application/vnd.jupyter.widget-view+json": {
       "model_id": "921e37b81e35408f89a96161b55d7148",
       "version_major": 2,
       "version_minor": 0
      },
      "text/plain": [
       "  0%|          | 0/25 [00:00<?, ?it/s]"
      ]
     },
     "metadata": {},
     "output_type": "display_data"
    },
    {
     "data": {
      "application/vnd.jupyter.widget-view+json": {
       "model_id": "895b2f0fa78146b8b07987866790f99f",
       "version_major": 2,
       "version_minor": 0
      },
      "text/plain": [
       "  0%|          | 0/25 [00:00<?, ?it/s]"
      ]
     },
     "metadata": {},
     "output_type": "display_data"
    },
    {
     "data": {
      "application/vnd.jupyter.widget-view+json": {
       "model_id": "faccfbd8b11442d688ec45353ef974b8",
       "version_major": 2,
       "version_minor": 0
      },
      "text/plain": [
       "  0%|          | 0/25 [00:00<?, ?it/s]"
      ]
     },
     "metadata": {},
     "output_type": "display_data"
    },
    {
     "data": {
      "application/vnd.jupyter.widget-view+json": {
       "model_id": "071b2b54d084469382389c8ea56eaea9",
       "version_major": 2,
       "version_minor": 0
      },
      "text/plain": [
       "  0%|          | 0/25 [00:00<?, ?it/s]"
      ]
     },
     "metadata": {},
     "output_type": "display_data"
    },
    {
     "data": {
      "application/vnd.jupyter.widget-view+json": {
       "model_id": "42e5cddd7c1048399db7a310fa0f2f6f",
       "version_major": 2,
       "version_minor": 0
      },
      "text/plain": [
       "  0%|          | 0/25 [00:00<?, ?it/s]"
      ]
     },
     "metadata": {},
     "output_type": "display_data"
    },
    {
     "data": {
      "application/vnd.jupyter.widget-view+json": {
       "model_id": "d0a05dbaa70e42589fc81898357fc470",
       "version_major": 2,
       "version_minor": 0
      },
      "text/plain": [
       "  0%|          | 0/25 [00:00<?, ?it/s]"
      ]
     },
     "metadata": {},
     "output_type": "display_data"
    },
    {
     "data": {
      "application/vnd.jupyter.widget-view+json": {
       "model_id": "e9f1e3698929404abeaf301ad557b796",
       "version_major": 2,
       "version_minor": 0
      },
      "text/plain": [
       "  0%|          | 0/25 [00:00<?, ?it/s]"
      ]
     },
     "metadata": {},
     "output_type": "display_data"
    },
    {
     "data": {
      "application/vnd.jupyter.widget-view+json": {
       "model_id": "a228b7af6b384fa592a39721e6db6626",
       "version_major": 2,
       "version_minor": 0
      },
      "text/plain": [
       "  0%|          | 0/25 [00:00<?, ?it/s]"
      ]
     },
     "metadata": {},
     "output_type": "display_data"
    },
    {
     "data": {
      "application/vnd.jupyter.widget-view+json": {
       "model_id": "63641c0287d94d4ba2f40bc04d2c5160",
       "version_major": 2,
       "version_minor": 0
      },
      "text/plain": [
       "  0%|          | 0/25 [00:00<?, ?it/s]"
      ]
     },
     "metadata": {},
     "output_type": "display_data"
    },
    {
     "data": {
      "application/vnd.jupyter.widget-view+json": {
       "model_id": "1d59609201d54fe490b64dd48bc4da8e",
       "version_major": 2,
       "version_minor": 0
      },
      "text/plain": [
       "  0%|          | 0/25 [00:00<?, ?it/s]"
      ]
     },
     "metadata": {},
     "output_type": "display_data"
    },
    {
     "data": {
      "application/vnd.jupyter.widget-view+json": {
       "model_id": "c87098ead1e64c53928c4e4ad0fbf8c0",
       "version_major": 2,
       "version_minor": 0
      },
      "text/plain": [
       "  0%|          | 0/25 [00:00<?, ?it/s]"
      ]
     },
     "metadata": {},
     "output_type": "display_data"
    },
    {
     "data": {
      "application/vnd.jupyter.widget-view+json": {
       "model_id": "1b85fd045f0844fe821aa85d5b9f7177",
       "version_major": 2,
       "version_minor": 0
      },
      "text/plain": [
       "  0%|          | 0/25 [00:00<?, ?it/s]"
      ]
     },
     "metadata": {},
     "output_type": "display_data"
    },
    {
     "data": {
      "application/vnd.jupyter.widget-view+json": {
       "model_id": "295fe78201494be6b7b350bb5e9daae8",
       "version_major": 2,
       "version_minor": 0
      },
      "text/plain": [
       "  0%|          | 0/25 [00:00<?, ?it/s]"
      ]
     },
     "metadata": {},
     "output_type": "display_data"
    },
    {
     "data": {
      "application/vnd.jupyter.widget-view+json": {
       "model_id": "71a5a07c10a54d1688533f9a9d83618e",
       "version_major": 2,
       "version_minor": 0
      },
      "text/plain": [
       "  0%|          | 0/25 [00:00<?, ?it/s]"
      ]
     },
     "metadata": {},
     "output_type": "display_data"
    },
    {
     "data": {
      "application/vnd.jupyter.widget-view+json": {
       "model_id": "43713218d2064266b9b3149f905ad4b5",
       "version_major": 2,
       "version_minor": 0
      },
      "text/plain": [
       "  0%|          | 0/25 [00:00<?, ?it/s]"
      ]
     },
     "metadata": {},
     "output_type": "display_data"
    },
    {
     "data": {
      "application/vnd.jupyter.widget-view+json": {
       "model_id": "9b112ddd7dd1443988172697bdea279a",
       "version_major": 2,
       "version_minor": 0
      },
      "text/plain": [
       "  0%|          | 0/25 [00:00<?, ?it/s]"
      ]
     },
     "metadata": {},
     "output_type": "display_data"
    },
    {
     "data": {
      "application/vnd.jupyter.widget-view+json": {
       "model_id": "ef90c2c974a4408fb2445ebbbc628d13",
       "version_major": 2,
       "version_minor": 0
      },
      "text/plain": [
       "  0%|          | 0/25 [00:00<?, ?it/s]"
      ]
     },
     "metadata": {},
     "output_type": "display_data"
    },
    {
     "data": {
      "application/vnd.jupyter.widget-view+json": {
       "model_id": "14a55623c65c41e8aeda3bf0ca1e8fb2",
       "version_major": 2,
       "version_minor": 0
      },
      "text/plain": [
       "  0%|          | 0/25 [00:00<?, ?it/s]"
      ]
     },
     "metadata": {},
     "output_type": "display_data"
    },
    {
     "data": {
      "application/vnd.jupyter.widget-view+json": {
       "model_id": "6879a488ba4948b6b89c4f8441965737",
       "version_major": 2,
       "version_minor": 0
      },
      "text/plain": [
       "  0%|          | 0/25 [00:00<?, ?it/s]"
      ]
     },
     "metadata": {},
     "output_type": "display_data"
    },
    {
     "data": {
      "application/vnd.jupyter.widget-view+json": {
       "model_id": "3e732ccb6fb5493ab12cedd50d0b57cc",
       "version_major": 2,
       "version_minor": 0
      },
      "text/plain": [
       "  0%|          | 0/25 [00:00<?, ?it/s]"
      ]
     },
     "metadata": {},
     "output_type": "display_data"
    },
    {
     "data": {
      "application/vnd.jupyter.widget-view+json": {
       "model_id": "98b2ffb66ac74a089430ed8e7c4d6ee5",
       "version_major": 2,
       "version_minor": 0
      },
      "text/plain": [
       "  0%|          | 0/25 [00:00<?, ?it/s]"
      ]
     },
     "metadata": {},
     "output_type": "display_data"
    },
    {
     "name": "stdout",
     "output_type": "stream",
     "text": [
      "Starting NCV experiment for classifier lr\n"
     ]
    },
    {
     "data": {
      "application/vnd.jupyter.widget-view+json": {
       "model_id": "d82e1e256d1046ae8a49b1a9d334dbdc",
       "version_major": 2,
       "version_minor": 0
      },
      "text/plain": [
       "  0%|          | 0/25 [00:00<?, ?it/s]"
      ]
     },
     "metadata": {},
     "output_type": "display_data"
    },
    {
     "data": {
      "application/vnd.jupyter.widget-view+json": {
       "model_id": "e99bd1ab3f094403b5e8d29098f863a0",
       "version_major": 2,
       "version_minor": 0
      },
      "text/plain": [
       "  0%|          | 0/25 [00:00<?, ?it/s]"
      ]
     },
     "metadata": {},
     "output_type": "display_data"
    },
    {
     "data": {
      "application/vnd.jupyter.widget-view+json": {
       "model_id": "7c0ea9f35f0f4338b79e9910f734cf07",
       "version_major": 2,
       "version_minor": 0
      },
      "text/plain": [
       "  0%|          | 0/25 [00:00<?, ?it/s]"
      ]
     },
     "metadata": {},
     "output_type": "display_data"
    },
    {
     "data": {
      "application/vnd.jupyter.widget-view+json": {
       "model_id": "f2352ca307044430b1e6f44fdf5ac7ac",
       "version_major": 2,
       "version_minor": 0
      },
      "text/plain": [
       "  0%|          | 0/25 [00:00<?, ?it/s]"
      ]
     },
     "metadata": {},
     "output_type": "display_data"
    },
    {
     "data": {
      "application/vnd.jupyter.widget-view+json": {
       "model_id": "6c9adabfb8c144e9a7c8b627794f6292",
       "version_major": 2,
       "version_minor": 0
      },
      "text/plain": [
       "  0%|          | 0/25 [00:00<?, ?it/s]"
      ]
     },
     "metadata": {},
     "output_type": "display_data"
    },
    {
     "data": {
      "application/vnd.jupyter.widget-view+json": {
       "model_id": "53c43cf08fd04756a3b394cb99c42f7e",
       "version_major": 2,
       "version_minor": 0
      },
      "text/plain": [
       "  0%|          | 0/25 [00:00<?, ?it/s]"
      ]
     },
     "metadata": {},
     "output_type": "display_data"
    },
    {
     "data": {
      "application/vnd.jupyter.widget-view+json": {
       "model_id": "4881f76843b74065a6ff632a1f7754cb",
       "version_major": 2,
       "version_minor": 0
      },
      "text/plain": [
       "  0%|          | 0/25 [00:00<?, ?it/s]"
      ]
     },
     "metadata": {},
     "output_type": "display_data"
    },
    {
     "data": {
      "application/vnd.jupyter.widget-view+json": {
       "model_id": "7a5c9e6e48244ccba6abfdc75adf2e15",
       "version_major": 2,
       "version_minor": 0
      },
      "text/plain": [
       "  0%|          | 0/25 [00:00<?, ?it/s]"
      ]
     },
     "metadata": {},
     "output_type": "display_data"
    },
    {
     "data": {
      "application/vnd.jupyter.widget-view+json": {
       "model_id": "21d81afe5b794e18baf42024d300fcb7",
       "version_major": 2,
       "version_minor": 0
      },
      "text/plain": [
       "  0%|          | 0/25 [00:00<?, ?it/s]"
      ]
     },
     "metadata": {},
     "output_type": "display_data"
    },
    {
     "data": {
      "application/vnd.jupyter.widget-view+json": {
       "model_id": "1af524d9d4854e2b8d97d8e9008e7da2",
       "version_major": 2,
       "version_minor": 0
      },
      "text/plain": [
       "  0%|          | 0/25 [00:00<?, ?it/s]"
      ]
     },
     "metadata": {},
     "output_type": "display_data"
    },
    {
     "data": {
      "application/vnd.jupyter.widget-view+json": {
       "model_id": "b595e9acf1774a52bb4221fbc3aa5a84",
       "version_major": 2,
       "version_minor": 0
      },
      "text/plain": [
       "  0%|          | 0/25 [00:00<?, ?it/s]"
      ]
     },
     "metadata": {},
     "output_type": "display_data"
    },
    {
     "data": {
      "application/vnd.jupyter.widget-view+json": {
       "model_id": "b8badcccd7a74406a22863ee80a091be",
       "version_major": 2,
       "version_minor": 0
      },
      "text/plain": [
       "  0%|          | 0/25 [00:00<?, ?it/s]"
      ]
     },
     "metadata": {},
     "output_type": "display_data"
    },
    {
     "data": {
      "application/vnd.jupyter.widget-view+json": {
       "model_id": "b4197ad72db34642b67053a22803a10e",
       "version_major": 2,
       "version_minor": 0
      },
      "text/plain": [
       "  0%|          | 0/25 [00:00<?, ?it/s]"
      ]
     },
     "metadata": {},
     "output_type": "display_data"
    },
    {
     "data": {
      "application/vnd.jupyter.widget-view+json": {
       "model_id": "7950f7806d86499c81bf32a0fa7e1460",
       "version_major": 2,
       "version_minor": 0
      },
      "text/plain": [
       "  0%|          | 0/25 [00:00<?, ?it/s]"
      ]
     },
     "metadata": {},
     "output_type": "display_data"
    },
    {
     "data": {
      "application/vnd.jupyter.widget-view+json": {
       "model_id": "0fea55ae98cc483a99cabe1866c86c8b",
       "version_major": 2,
       "version_minor": 0
      },
      "text/plain": [
       "  0%|          | 0/25 [00:00<?, ?it/s]"
      ]
     },
     "metadata": {},
     "output_type": "display_data"
    },
    {
     "data": {
      "application/vnd.jupyter.widget-view+json": {
       "model_id": "41c07298a50844fa8baf67570468afa5",
       "version_major": 2,
       "version_minor": 0
      },
      "text/plain": [
       "  0%|          | 0/25 [00:00<?, ?it/s]"
      ]
     },
     "metadata": {},
     "output_type": "display_data"
    },
    {
     "data": {
      "application/vnd.jupyter.widget-view+json": {
       "model_id": "3a12887c0d3e4343bdedf3237b37d340",
       "version_major": 2,
       "version_minor": 0
      },
      "text/plain": [
       "  0%|          | 0/25 [00:00<?, ?it/s]"
      ]
     },
     "metadata": {},
     "output_type": "display_data"
    },
    {
     "data": {
      "application/vnd.jupyter.widget-view+json": {
       "model_id": "874b55908bde4884b8a712e66d75f998",
       "version_major": 2,
       "version_minor": 0
      },
      "text/plain": [
       "  0%|          | 0/25 [00:00<?, ?it/s]"
      ]
     },
     "metadata": {},
     "output_type": "display_data"
    },
    {
     "data": {
      "application/vnd.jupyter.widget-view+json": {
       "model_id": "3d18d88c786c4074bd56fc3967844848",
       "version_major": 2,
       "version_minor": 0
      },
      "text/plain": [
       "  0%|          | 0/25 [00:00<?, ?it/s]"
      ]
     },
     "metadata": {},
     "output_type": "display_data"
    },
    {
     "data": {
      "application/vnd.jupyter.widget-view+json": {
       "model_id": "710d958916354b86a863a289773ce0b1",
       "version_major": 2,
       "version_minor": 0
      },
      "text/plain": [
       "  0%|          | 0/25 [00:00<?, ?it/s]"
      ]
     },
     "metadata": {},
     "output_type": "display_data"
    },
    {
     "data": {
      "application/vnd.jupyter.widget-view+json": {
       "model_id": "4e83cd0b6d4845898e0841e5095b7f73",
       "version_major": 2,
       "version_minor": 0
      },
      "text/plain": [
       "  0%|          | 0/25 [00:00<?, ?it/s]"
      ]
     },
     "metadata": {},
     "output_type": "display_data"
    },
    {
     "data": {
      "application/vnd.jupyter.widget-view+json": {
       "model_id": "92aeecbf605f49aca123d6a16a649a7f",
       "version_major": 2,
       "version_minor": 0
      },
      "text/plain": [
       "  0%|          | 0/25 [00:00<?, ?it/s]"
      ]
     },
     "metadata": {},
     "output_type": "display_data"
    },
    {
     "data": {
      "application/vnd.jupyter.widget-view+json": {
       "model_id": "a55692ba62bd4ab6a8b1a930b6cbb867",
       "version_major": 2,
       "version_minor": 0
      },
      "text/plain": [
       "  0%|          | 0/25 [00:00<?, ?it/s]"
      ]
     },
     "metadata": {},
     "output_type": "display_data"
    },
    {
     "data": {
      "application/vnd.jupyter.widget-view+json": {
       "model_id": "c1e58c0c735c4c11a380ee0db45456b4",
       "version_major": 2,
       "version_minor": 0
      },
      "text/plain": [
       "  0%|          | 0/25 [00:00<?, ?it/s]"
      ]
     },
     "metadata": {},
     "output_type": "display_data"
    },
    {
     "data": {
      "application/vnd.jupyter.widget-view+json": {
       "model_id": "2052e20f180843ae94f232029e33c914",
       "version_major": 2,
       "version_minor": 0
      },
      "text/plain": [
       "  0%|          | 0/25 [00:00<?, ?it/s]"
      ]
     },
     "metadata": {},
     "output_type": "display_data"
    },
    {
     "data": {
      "application/vnd.jupyter.widget-view+json": {
       "model_id": "7082887ee6634c8ba6955123a6696f7a",
       "version_major": 2,
       "version_minor": 0
      },
      "text/plain": [
       "  0%|          | 0/25 [00:00<?, ?it/s]"
      ]
     },
     "metadata": {},
     "output_type": "display_data"
    },
    {
     "data": {
      "application/vnd.jupyter.widget-view+json": {
       "model_id": "6af020817f0640f98fd4201ea5db0907",
       "version_major": 2,
       "version_minor": 0
      },
      "text/plain": [
       "  0%|          | 0/25 [00:00<?, ?it/s]"
      ]
     },
     "metadata": {},
     "output_type": "display_data"
    },
    {
     "data": {
      "application/vnd.jupyter.widget-view+json": {
       "model_id": "3ade2a31d0e34c9a957886234bbda26f",
       "version_major": 2,
       "version_minor": 0
      },
      "text/plain": [
       "  0%|          | 0/25 [00:00<?, ?it/s]"
      ]
     },
     "metadata": {},
     "output_type": "display_data"
    },
    {
     "data": {
      "application/vnd.jupyter.widget-view+json": {
       "model_id": "b671365a7a86418ab91ff0aebb641cae",
       "version_major": 2,
       "version_minor": 0
      },
      "text/plain": [
       "  0%|          | 0/25 [00:00<?, ?it/s]"
      ]
     },
     "metadata": {},
     "output_type": "display_data"
    },
    {
     "data": {
      "application/vnd.jupyter.widget-view+json": {
       "model_id": "d2248fcdde804463a4770a2d6ec0f752",
       "version_major": 2,
       "version_minor": 0
      },
      "text/plain": [
       "  0%|          | 0/25 [00:00<?, ?it/s]"
      ]
     },
     "metadata": {},
     "output_type": "display_data"
    },
    {
     "data": {
      "application/vnd.jupyter.widget-view+json": {
       "model_id": "57841913015948cd96ce5d40b110eafb",
       "version_major": 2,
       "version_minor": 0
      },
      "text/plain": [
       "  0%|          | 0/25 [00:00<?, ?it/s]"
      ]
     },
     "metadata": {},
     "output_type": "display_data"
    },
    {
     "data": {
      "application/vnd.jupyter.widget-view+json": {
       "model_id": "2079911056204a419c89d11ab5fa1592",
       "version_major": 2,
       "version_minor": 0
      },
      "text/plain": [
       "  0%|          | 0/25 [00:00<?, ?it/s]"
      ]
     },
     "metadata": {},
     "output_type": "display_data"
    },
    {
     "data": {
      "application/vnd.jupyter.widget-view+json": {
       "model_id": "e00ccfa0946f40e1be9b257b549c2278",
       "version_major": 2,
       "version_minor": 0
      },
      "text/plain": [
       "  0%|          | 0/25 [00:00<?, ?it/s]"
      ]
     },
     "metadata": {},
     "output_type": "display_data"
    },
    {
     "data": {
      "application/vnd.jupyter.widget-view+json": {
       "model_id": "57516d4b2b864d6ca4f0d4535cd4e4c8",
       "version_major": 2,
       "version_minor": 0
      },
      "text/plain": [
       "  0%|          | 0/25 [00:00<?, ?it/s]"
      ]
     },
     "metadata": {},
     "output_type": "display_data"
    },
    {
     "data": {
      "application/vnd.jupyter.widget-view+json": {
       "model_id": "4e84a20cec23430aab38aac6f14e0b71",
       "version_major": 2,
       "version_minor": 0
      },
      "text/plain": [
       "  0%|          | 0/25 [00:00<?, ?it/s]"
      ]
     },
     "metadata": {},
     "output_type": "display_data"
    },
    {
     "data": {
      "application/vnd.jupyter.widget-view+json": {
       "model_id": "7780057ceb9943b4b414ced31b9bb3d1",
       "version_major": 2,
       "version_minor": 0
      },
      "text/plain": [
       "  0%|          | 0/25 [00:00<?, ?it/s]"
      ]
     },
     "metadata": {},
     "output_type": "display_data"
    },
    {
     "data": {
      "application/vnd.jupyter.widget-view+json": {
       "model_id": "77d8cf59edc64458979b1c34c2264de4",
       "version_major": 2,
       "version_minor": 0
      },
      "text/plain": [
       "  0%|          | 0/25 [00:00<?, ?it/s]"
      ]
     },
     "metadata": {},
     "output_type": "display_data"
    },
    {
     "data": {
      "application/vnd.jupyter.widget-view+json": {
       "model_id": "3810fe08049246aa890dfd987a949242",
       "version_major": 2,
       "version_minor": 0
      },
      "text/plain": [
       "  0%|          | 0/25 [00:00<?, ?it/s]"
      ]
     },
     "metadata": {},
     "output_type": "display_data"
    },
    {
     "data": {
      "application/vnd.jupyter.widget-view+json": {
       "model_id": "448c987b090649808fd3f767343037c3",
       "version_major": 2,
       "version_minor": 0
      },
      "text/plain": [
       "  0%|          | 0/25 [00:00<?, ?it/s]"
      ]
     },
     "metadata": {},
     "output_type": "display_data"
    },
    {
     "data": {
      "application/vnd.jupyter.widget-view+json": {
       "model_id": "11e5827a3706443b96dc69a926d157b3",
       "version_major": 2,
       "version_minor": 0
      },
      "text/plain": [
       "  0%|          | 0/25 [00:00<?, ?it/s]"
      ]
     },
     "metadata": {},
     "output_type": "display_data"
    },
    {
     "data": {
      "application/vnd.jupyter.widget-view+json": {
       "model_id": "844c186139314cc5ab056a3694785ffa",
       "version_major": 2,
       "version_minor": 0
      },
      "text/plain": [
       "  0%|          | 0/25 [00:00<?, ?it/s]"
      ]
     },
     "metadata": {},
     "output_type": "display_data"
    },
    {
     "data": {
      "application/vnd.jupyter.widget-view+json": {
       "model_id": "e8d11d4091924703bc2bb483939b72d6",
       "version_major": 2,
       "version_minor": 0
      },
      "text/plain": [
       "  0%|          | 0/25 [00:00<?, ?it/s]"
      ]
     },
     "metadata": {},
     "output_type": "display_data"
    },
    {
     "data": {
      "application/vnd.jupyter.widget-view+json": {
       "model_id": "008c9afa35394000a08d91d20e2175e2",
       "version_major": 2,
       "version_minor": 0
      },
      "text/plain": [
       "  0%|          | 0/25 [00:00<?, ?it/s]"
      ]
     },
     "metadata": {},
     "output_type": "display_data"
    },
    {
     "data": {
      "application/vnd.jupyter.widget-view+json": {
       "model_id": "73023710374440ec8b603149e43d174c",
       "version_major": 2,
       "version_minor": 0
      },
      "text/plain": [
       "  0%|          | 0/25 [00:00<?, ?it/s]"
      ]
     },
     "metadata": {},
     "output_type": "display_data"
    },
    {
     "data": {
      "application/vnd.jupyter.widget-view+json": {
       "model_id": "82b818753d6547818ad7fb1e566fc57a",
       "version_major": 2,
       "version_minor": 0
      },
      "text/plain": [
       "  0%|          | 0/25 [00:00<?, ?it/s]"
      ]
     },
     "metadata": {},
     "output_type": "display_data"
    },
    {
     "data": {
      "application/vnd.jupyter.widget-view+json": {
       "model_id": "95f3756420e442ada1c86219d81c25f7",
       "version_major": 2,
       "version_minor": 0
      },
      "text/plain": [
       "  0%|          | 0/25 [00:00<?, ?it/s]"
      ]
     },
     "metadata": {},
     "output_type": "display_data"
    },
    {
     "data": {
      "application/vnd.jupyter.widget-view+json": {
       "model_id": "2e1d60a83a60427da3975b2818f38708",
       "version_major": 2,
       "version_minor": 0
      },
      "text/plain": [
       "  0%|          | 0/25 [00:00<?, ?it/s]"
      ]
     },
     "metadata": {},
     "output_type": "display_data"
    },
    {
     "data": {
      "application/vnd.jupyter.widget-view+json": {
       "model_id": "7cc2f00c031249c39f558390796960a7",
       "version_major": 2,
       "version_minor": 0
      },
      "text/plain": [
       "  0%|          | 0/25 [00:00<?, ?it/s]"
      ]
     },
     "metadata": {},
     "output_type": "display_data"
    },
    {
     "data": {
      "application/vnd.jupyter.widget-view+json": {
       "model_id": "9c3894db0e374212a1d9daf536341613",
       "version_major": 2,
       "version_minor": 0
      },
      "text/plain": [
       "  0%|          | 0/25 [00:00<?, ?it/s]"
      ]
     },
     "metadata": {},
     "output_type": "display_data"
    },
    {
     "data": {
      "application/vnd.jupyter.widget-view+json": {
       "model_id": "3453ab74b4634dd8bb2f609cb15a6496",
       "version_major": 2,
       "version_minor": 0
      },
      "text/plain": [
       "  0%|          | 0/25 [00:00<?, ?it/s]"
      ]
     },
     "metadata": {},
     "output_type": "display_data"
    },
    {
     "name": "stdout",
     "output_type": "stream",
     "text": [
      "Starting NCV experiment for classifier gnb\n"
     ]
    },
    {
     "data": {
      "application/vnd.jupyter.widget-view+json": {
       "model_id": "7ce60c21fcab4f019daadb0ce943fc8f",
       "version_major": 2,
       "version_minor": 0
      },
      "text/plain": [
       "  0%|          | 0/25 [00:00<?, ?it/s]"
      ]
     },
     "metadata": {},
     "output_type": "display_data"
    },
    {
     "data": {
      "application/vnd.jupyter.widget-view+json": {
       "model_id": "d474dff67d2442a193c0e113a2571482",
       "version_major": 2,
       "version_minor": 0
      },
      "text/plain": [
       "  0%|          | 0/25 [00:00<?, ?it/s]"
      ]
     },
     "metadata": {},
     "output_type": "display_data"
    },
    {
     "data": {
      "application/vnd.jupyter.widget-view+json": {
       "model_id": "830551fcd90c4468a7302244b2839926",
       "version_major": 2,
       "version_minor": 0
      },
      "text/plain": [
       "  0%|          | 0/25 [00:00<?, ?it/s]"
      ]
     },
     "metadata": {},
     "output_type": "display_data"
    },
    {
     "data": {
      "application/vnd.jupyter.widget-view+json": {
       "model_id": "86a3542dede640d68d344569d2b309df",
       "version_major": 2,
       "version_minor": 0
      },
      "text/plain": [
       "  0%|          | 0/25 [00:00<?, ?it/s]"
      ]
     },
     "metadata": {},
     "output_type": "display_data"
    },
    {
     "data": {
      "application/vnd.jupyter.widget-view+json": {
       "model_id": "0c8179a7c62a49208ea21b12a9a1e8ac",
       "version_major": 2,
       "version_minor": 0
      },
      "text/plain": [
       "  0%|          | 0/25 [00:00<?, ?it/s]"
      ]
     },
     "metadata": {},
     "output_type": "display_data"
    },
    {
     "data": {
      "application/vnd.jupyter.widget-view+json": {
       "model_id": "7bae2d92a81f4a14b2208593e73f2564",
       "version_major": 2,
       "version_minor": 0
      },
      "text/plain": [
       "  0%|          | 0/25 [00:00<?, ?it/s]"
      ]
     },
     "metadata": {},
     "output_type": "display_data"
    },
    {
     "data": {
      "application/vnd.jupyter.widget-view+json": {
       "model_id": "aa97c03400a34ebfbbb50bd5e8ac186e",
       "version_major": 2,
       "version_minor": 0
      },
      "text/plain": [
       "  0%|          | 0/25 [00:00<?, ?it/s]"
      ]
     },
     "metadata": {},
     "output_type": "display_data"
    },
    {
     "data": {
      "application/vnd.jupyter.widget-view+json": {
       "model_id": "8eef9b80cef7493b8340b6a01ab857f2",
       "version_major": 2,
       "version_minor": 0
      },
      "text/plain": [
       "  0%|          | 0/25 [00:00<?, ?it/s]"
      ]
     },
     "metadata": {},
     "output_type": "display_data"
    },
    {
     "data": {
      "application/vnd.jupyter.widget-view+json": {
       "model_id": "15a5d7d99faa44b28dec6859c946e9e3",
       "version_major": 2,
       "version_minor": 0
      },
      "text/plain": [
       "  0%|          | 0/25 [00:00<?, ?it/s]"
      ]
     },
     "metadata": {},
     "output_type": "display_data"
    },
    {
     "data": {
      "application/vnd.jupyter.widget-view+json": {
       "model_id": "5832c73c9695430da390fcad6e243401",
       "version_major": 2,
       "version_minor": 0
      },
      "text/plain": [
       "  0%|          | 0/25 [00:00<?, ?it/s]"
      ]
     },
     "metadata": {},
     "output_type": "display_data"
    },
    {
     "data": {
      "application/vnd.jupyter.widget-view+json": {
       "model_id": "96a26dc6686b45ac8b7cc04fb8b67eaf",
       "version_major": 2,
       "version_minor": 0
      },
      "text/plain": [
       "  0%|          | 0/25 [00:00<?, ?it/s]"
      ]
     },
     "metadata": {},
     "output_type": "display_data"
    },
    {
     "data": {
      "application/vnd.jupyter.widget-view+json": {
       "model_id": "7450aaa2d8a044e5882413d70c96bb71",
       "version_major": 2,
       "version_minor": 0
      },
      "text/plain": [
       "  0%|          | 0/25 [00:00<?, ?it/s]"
      ]
     },
     "metadata": {},
     "output_type": "display_data"
    },
    {
     "data": {
      "application/vnd.jupyter.widget-view+json": {
       "model_id": "c42f15f51ea441d4a796fe5e0c704756",
       "version_major": 2,
       "version_minor": 0
      },
      "text/plain": [
       "  0%|          | 0/25 [00:00<?, ?it/s]"
      ]
     },
     "metadata": {},
     "output_type": "display_data"
    },
    {
     "data": {
      "application/vnd.jupyter.widget-view+json": {
       "model_id": "5d4c9188253f4af8b07211ac9da48480",
       "version_major": 2,
       "version_minor": 0
      },
      "text/plain": [
       "  0%|          | 0/25 [00:00<?, ?it/s]"
      ]
     },
     "metadata": {},
     "output_type": "display_data"
    },
    {
     "data": {
      "application/vnd.jupyter.widget-view+json": {
       "model_id": "3d1f2f7c67764fa085c3f5aed965cdae",
       "version_major": 2,
       "version_minor": 0
      },
      "text/plain": [
       "  0%|          | 0/25 [00:00<?, ?it/s]"
      ]
     },
     "metadata": {},
     "output_type": "display_data"
    },
    {
     "data": {
      "application/vnd.jupyter.widget-view+json": {
       "model_id": "d74ea6a2edff469abd37645370cd2a63",
       "version_major": 2,
       "version_minor": 0
      },
      "text/plain": [
       "  0%|          | 0/25 [00:00<?, ?it/s]"
      ]
     },
     "metadata": {},
     "output_type": "display_data"
    },
    {
     "data": {
      "application/vnd.jupyter.widget-view+json": {
       "model_id": "5879eaa4dcc64635a8cd71194caa1129",
       "version_major": 2,
       "version_minor": 0
      },
      "text/plain": [
       "  0%|          | 0/25 [00:00<?, ?it/s]"
      ]
     },
     "metadata": {},
     "output_type": "display_data"
    },
    {
     "data": {
      "application/vnd.jupyter.widget-view+json": {
       "model_id": "a56906cf8b964571b24b22c02f063718",
       "version_major": 2,
       "version_minor": 0
      },
      "text/plain": [
       "  0%|          | 0/25 [00:00<?, ?it/s]"
      ]
     },
     "metadata": {},
     "output_type": "display_data"
    },
    {
     "data": {
      "application/vnd.jupyter.widget-view+json": {
       "model_id": "28501f3addc04f068e331625e2d1ff42",
       "version_major": 2,
       "version_minor": 0
      },
      "text/plain": [
       "  0%|          | 0/25 [00:00<?, ?it/s]"
      ]
     },
     "metadata": {},
     "output_type": "display_data"
    },
    {
     "data": {
      "application/vnd.jupyter.widget-view+json": {
       "model_id": "260328cc0aea4015ba4f7cfc07bd185e",
       "version_major": 2,
       "version_minor": 0
      },
      "text/plain": [
       "  0%|          | 0/25 [00:00<?, ?it/s]"
      ]
     },
     "metadata": {},
     "output_type": "display_data"
    },
    {
     "data": {
      "application/vnd.jupyter.widget-view+json": {
       "model_id": "b3c22621f04b49b6a7ac10f33882d3d0",
       "version_major": 2,
       "version_minor": 0
      },
      "text/plain": [
       "  0%|          | 0/25 [00:00<?, ?it/s]"
      ]
     },
     "metadata": {},
     "output_type": "display_data"
    },
    {
     "data": {
      "application/vnd.jupyter.widget-view+json": {
       "model_id": "c65eeee5589c4e3a8f5701436c8342a7",
       "version_major": 2,
       "version_minor": 0
      },
      "text/plain": [
       "  0%|          | 0/25 [00:00<?, ?it/s]"
      ]
     },
     "metadata": {},
     "output_type": "display_data"
    },
    {
     "data": {
      "application/vnd.jupyter.widget-view+json": {
       "model_id": "85d8522da6e44cd2b518347ccc2d0b1c",
       "version_major": 2,
       "version_minor": 0
      },
      "text/plain": [
       "  0%|          | 0/25 [00:00<?, ?it/s]"
      ]
     },
     "metadata": {},
     "output_type": "display_data"
    },
    {
     "data": {
      "application/vnd.jupyter.widget-view+json": {
       "model_id": "826e54302ba5401fb266caa0d0f681ba",
       "version_major": 2,
       "version_minor": 0
      },
      "text/plain": [
       "  0%|          | 0/25 [00:00<?, ?it/s]"
      ]
     },
     "metadata": {},
     "output_type": "display_data"
    },
    {
     "data": {
      "application/vnd.jupyter.widget-view+json": {
       "model_id": "73baadb985f549f9a002002ae1bf2234",
       "version_major": 2,
       "version_minor": 0
      },
      "text/plain": [
       "  0%|          | 0/25 [00:00<?, ?it/s]"
      ]
     },
     "metadata": {},
     "output_type": "display_data"
    },
    {
     "data": {
      "application/vnd.jupyter.widget-view+json": {
       "model_id": "bced31b4f8744e65aee07a4d31568c54",
       "version_major": 2,
       "version_minor": 0
      },
      "text/plain": [
       "  0%|          | 0/25 [00:00<?, ?it/s]"
      ]
     },
     "metadata": {},
     "output_type": "display_data"
    },
    {
     "data": {
      "application/vnd.jupyter.widget-view+json": {
       "model_id": "dbb95400f064435f85748103a44c80f8",
       "version_major": 2,
       "version_minor": 0
      },
      "text/plain": [
       "  0%|          | 0/25 [00:00<?, ?it/s]"
      ]
     },
     "metadata": {},
     "output_type": "display_data"
    },
    {
     "data": {
      "application/vnd.jupyter.widget-view+json": {
       "model_id": "cdeb2122b930465290af855b447407b4",
       "version_major": 2,
       "version_minor": 0
      },
      "text/plain": [
       "  0%|          | 0/25 [00:00<?, ?it/s]"
      ]
     },
     "metadata": {},
     "output_type": "display_data"
    },
    {
     "data": {
      "application/vnd.jupyter.widget-view+json": {
       "model_id": "e7b49d61fd6b42308b06c2db8c915063",
       "version_major": 2,
       "version_minor": 0
      },
      "text/plain": [
       "  0%|          | 0/25 [00:00<?, ?it/s]"
      ]
     },
     "metadata": {},
     "output_type": "display_data"
    },
    {
     "data": {
      "application/vnd.jupyter.widget-view+json": {
       "model_id": "80a56c08225f43d983b4c19f13406087",
       "version_major": 2,
       "version_minor": 0
      },
      "text/plain": [
       "  0%|          | 0/25 [00:00<?, ?it/s]"
      ]
     },
     "metadata": {},
     "output_type": "display_data"
    },
    {
     "data": {
      "application/vnd.jupyter.widget-view+json": {
       "model_id": "84dabd0e079741c9bd4cd9fc4944bc0b",
       "version_major": 2,
       "version_minor": 0
      },
      "text/plain": [
       "  0%|          | 0/25 [00:00<?, ?it/s]"
      ]
     },
     "metadata": {},
     "output_type": "display_data"
    },
    {
     "data": {
      "application/vnd.jupyter.widget-view+json": {
       "model_id": "7ef1df3eeda6413699ecc262b8c8266b",
       "version_major": 2,
       "version_minor": 0
      },
      "text/plain": [
       "  0%|          | 0/25 [00:00<?, ?it/s]"
      ]
     },
     "metadata": {},
     "output_type": "display_data"
    },
    {
     "data": {
      "application/vnd.jupyter.widget-view+json": {
       "model_id": "700970cb75a648d48fab37d435177eab",
       "version_major": 2,
       "version_minor": 0
      },
      "text/plain": [
       "  0%|          | 0/25 [00:00<?, ?it/s]"
      ]
     },
     "metadata": {},
     "output_type": "display_data"
    },
    {
     "data": {
      "application/vnd.jupyter.widget-view+json": {
       "model_id": "b72cbeb37b30465e919e0fe36cfd08a4",
       "version_major": 2,
       "version_minor": 0
      },
      "text/plain": [
       "  0%|          | 0/25 [00:00<?, ?it/s]"
      ]
     },
     "metadata": {},
     "output_type": "display_data"
    },
    {
     "data": {
      "application/vnd.jupyter.widget-view+json": {
       "model_id": "3f3130db95c9461da77761a2bb074f46",
       "version_major": 2,
       "version_minor": 0
      },
      "text/plain": [
       "  0%|          | 0/25 [00:00<?, ?it/s]"
      ]
     },
     "metadata": {},
     "output_type": "display_data"
    },
    {
     "data": {
      "application/vnd.jupyter.widget-view+json": {
       "model_id": "1a559255940e43ea88d778a2211bdc3c",
       "version_major": 2,
       "version_minor": 0
      },
      "text/plain": [
       "  0%|          | 0/25 [00:00<?, ?it/s]"
      ]
     },
     "metadata": {},
     "output_type": "display_data"
    },
    {
     "data": {
      "application/vnd.jupyter.widget-view+json": {
       "model_id": "ea5e1ab6a68d4eaab5e857eaaf6b521e",
       "version_major": 2,
       "version_minor": 0
      },
      "text/plain": [
       "  0%|          | 0/25 [00:00<?, ?it/s]"
      ]
     },
     "metadata": {},
     "output_type": "display_data"
    },
    {
     "data": {
      "application/vnd.jupyter.widget-view+json": {
       "model_id": "a731b00a7abc43f398bdc0b5fb737fb1",
       "version_major": 2,
       "version_minor": 0
      },
      "text/plain": [
       "  0%|          | 0/25 [00:00<?, ?it/s]"
      ]
     },
     "metadata": {},
     "output_type": "display_data"
    },
    {
     "data": {
      "application/vnd.jupyter.widget-view+json": {
       "model_id": "110ccc2ea2184620b44d919c2dc5176e",
       "version_major": 2,
       "version_minor": 0
      },
      "text/plain": [
       "  0%|          | 0/25 [00:00<?, ?it/s]"
      ]
     },
     "metadata": {},
     "output_type": "display_data"
    },
    {
     "data": {
      "application/vnd.jupyter.widget-view+json": {
       "model_id": "cc992ab0d7f84f89a72dbd58dcab33b4",
       "version_major": 2,
       "version_minor": 0
      },
      "text/plain": [
       "  0%|          | 0/25 [00:00<?, ?it/s]"
      ]
     },
     "metadata": {},
     "output_type": "display_data"
    },
    {
     "data": {
      "application/vnd.jupyter.widget-view+json": {
       "model_id": "406f4b557e05452fa00280397f68e551",
       "version_major": 2,
       "version_minor": 0
      },
      "text/plain": [
       "  0%|          | 0/25 [00:00<?, ?it/s]"
      ]
     },
     "metadata": {},
     "output_type": "display_data"
    },
    {
     "data": {
      "application/vnd.jupyter.widget-view+json": {
       "model_id": "254e9c999cfb4629b92e40e576e8a983",
       "version_major": 2,
       "version_minor": 0
      },
      "text/plain": [
       "  0%|          | 0/25 [00:00<?, ?it/s]"
      ]
     },
     "metadata": {},
     "output_type": "display_data"
    },
    {
     "data": {
      "application/vnd.jupyter.widget-view+json": {
       "model_id": "8b1ed115a96146198ccd52426967a5fb",
       "version_major": 2,
       "version_minor": 0
      },
      "text/plain": [
       "  0%|          | 0/25 [00:00<?, ?it/s]"
      ]
     },
     "metadata": {},
     "output_type": "display_data"
    },
    {
     "data": {
      "application/vnd.jupyter.widget-view+json": {
       "model_id": "5b0db37dfd4844bfa383e5e217f73b91",
       "version_major": 2,
       "version_minor": 0
      },
      "text/plain": [
       "  0%|          | 0/25 [00:00<?, ?it/s]"
      ]
     },
     "metadata": {},
     "output_type": "display_data"
    },
    {
     "data": {
      "application/vnd.jupyter.widget-view+json": {
       "model_id": "c9ba6c06af28486593058088da6dc00d",
       "version_major": 2,
       "version_minor": 0
      },
      "text/plain": [
       "  0%|          | 0/25 [00:00<?, ?it/s]"
      ]
     },
     "metadata": {},
     "output_type": "display_data"
    },
    {
     "data": {
      "application/vnd.jupyter.widget-view+json": {
       "model_id": "6af6c9ee6a85449ea4523dd21f91f19b",
       "version_major": 2,
       "version_minor": 0
      },
      "text/plain": [
       "  0%|          | 0/25 [00:00<?, ?it/s]"
      ]
     },
     "metadata": {},
     "output_type": "display_data"
    },
    {
     "data": {
      "application/vnd.jupyter.widget-view+json": {
       "model_id": "cdb457f019c849f48ac505486c65e98d",
       "version_major": 2,
       "version_minor": 0
      },
      "text/plain": [
       "  0%|          | 0/25 [00:00<?, ?it/s]"
      ]
     },
     "metadata": {},
     "output_type": "display_data"
    },
    {
     "data": {
      "application/vnd.jupyter.widget-view+json": {
       "model_id": "e5b389f826304847a3a9eabc94756083",
       "version_major": 2,
       "version_minor": 0
      },
      "text/plain": [
       "  0%|          | 0/25 [00:00<?, ?it/s]"
      ]
     },
     "metadata": {},
     "output_type": "display_data"
    },
    {
     "data": {
      "application/vnd.jupyter.widget-view+json": {
       "model_id": "207180eb515a4a58b100f25eb3a27a13",
       "version_major": 2,
       "version_minor": 0
      },
      "text/plain": [
       "  0%|          | 0/25 [00:00<?, ?it/s]"
      ]
     },
     "metadata": {},
     "output_type": "display_data"
    },
    {
     "data": {
      "application/vnd.jupyter.widget-view+json": {
       "model_id": "9e4a2f4fb5104be7837659def6a8e0f5",
       "version_major": 2,
       "version_minor": 0
      },
      "text/plain": [
       "  0%|          | 0/25 [00:00<?, ?it/s]"
      ]
     },
     "metadata": {},
     "output_type": "display_data"
    },
    {
     "name": "stdout",
     "output_type": "stream",
     "text": [
      "Starting NCV experiment for classifier rf\n"
     ]
    },
    {
     "data": {
      "application/vnd.jupyter.widget-view+json": {
       "model_id": "b3dd5af6a9034a0c89f1f656cc2d97d7",
       "version_major": 2,
       "version_minor": 0
      },
      "text/plain": [
       "  0%|          | 0/25 [00:00<?, ?it/s]"
      ]
     },
     "metadata": {},
     "output_type": "display_data"
    },
    {
     "data": {
      "application/vnd.jupyter.widget-view+json": {
       "model_id": "f850e5a15ba0440398ab60bda01ef30e",
       "version_major": 2,
       "version_minor": 0
      },
      "text/plain": [
       "  0%|          | 0/25 [00:00<?, ?it/s]"
      ]
     },
     "metadata": {},
     "output_type": "display_data"
    },
    {
     "data": {
      "application/vnd.jupyter.widget-view+json": {
       "model_id": "9e9460fefd5d48cd840d8c84c37b5357",
       "version_major": 2,
       "version_minor": 0
      },
      "text/plain": [
       "  0%|          | 0/25 [00:00<?, ?it/s]"
      ]
     },
     "metadata": {},
     "output_type": "display_data"
    },
    {
     "data": {
      "application/vnd.jupyter.widget-view+json": {
       "model_id": "a1540e63095c4085b9bb26889c2f1b4d",
       "version_major": 2,
       "version_minor": 0
      },
      "text/plain": [
       "  0%|          | 0/25 [00:00<?, ?it/s]"
      ]
     },
     "metadata": {},
     "output_type": "display_data"
    },
    {
     "data": {
      "application/vnd.jupyter.widget-view+json": {
       "model_id": "f343fafaa9b148d98235708f307b2bab",
       "version_major": 2,
       "version_minor": 0
      },
      "text/plain": [
       "  0%|          | 0/25 [00:00<?, ?it/s]"
      ]
     },
     "metadata": {},
     "output_type": "display_data"
    },
    {
     "data": {
      "application/vnd.jupyter.widget-view+json": {
       "model_id": "4df0ecc5b641476c9d197d7c6b92f297",
       "version_major": 2,
       "version_minor": 0
      },
      "text/plain": [
       "  0%|          | 0/25 [00:00<?, ?it/s]"
      ]
     },
     "metadata": {},
     "output_type": "display_data"
    },
    {
     "data": {
      "application/vnd.jupyter.widget-view+json": {
       "model_id": "979acf51351c44a4aae7276f1bd6edfb",
       "version_major": 2,
       "version_minor": 0
      },
      "text/plain": [
       "  0%|          | 0/25 [00:00<?, ?it/s]"
      ]
     },
     "metadata": {},
     "output_type": "display_data"
    },
    {
     "data": {
      "application/vnd.jupyter.widget-view+json": {
       "model_id": "4da42467e2954906ba0c82c1ce05283f",
       "version_major": 2,
       "version_minor": 0
      },
      "text/plain": [
       "  0%|          | 0/25 [00:00<?, ?it/s]"
      ]
     },
     "metadata": {},
     "output_type": "display_data"
    },
    {
     "data": {
      "application/vnd.jupyter.widget-view+json": {
       "model_id": "f61d556af1fd4fcc9d603b74a56f5b25",
       "version_major": 2,
       "version_minor": 0
      },
      "text/plain": [
       "  0%|          | 0/25 [00:00<?, ?it/s]"
      ]
     },
     "metadata": {},
     "output_type": "display_data"
    },
    {
     "data": {
      "application/vnd.jupyter.widget-view+json": {
       "model_id": "3e3856cfe33048c78d87f4e0e873687f",
       "version_major": 2,
       "version_minor": 0
      },
      "text/plain": [
       "  0%|          | 0/25 [00:00<?, ?it/s]"
      ]
     },
     "metadata": {},
     "output_type": "display_data"
    },
    {
     "data": {
      "application/vnd.jupyter.widget-view+json": {
       "model_id": "24a9e532fe2945a8882a623354b34bc5",
       "version_major": 2,
       "version_minor": 0
      },
      "text/plain": [
       "  0%|          | 0/25 [00:00<?, ?it/s]"
      ]
     },
     "metadata": {},
     "output_type": "display_data"
    },
    {
     "data": {
      "application/vnd.jupyter.widget-view+json": {
       "model_id": "31ca6ab608cf43c38676e04f71c059e3",
       "version_major": 2,
       "version_minor": 0
      },
      "text/plain": [
       "  0%|          | 0/25 [00:00<?, ?it/s]"
      ]
     },
     "metadata": {},
     "output_type": "display_data"
    },
    {
     "data": {
      "application/vnd.jupyter.widget-view+json": {
       "model_id": "230b0ee13ff34c61bb0aea43050f6dad",
       "version_major": 2,
       "version_minor": 0
      },
      "text/plain": [
       "  0%|          | 0/25 [00:00<?, ?it/s]"
      ]
     },
     "metadata": {},
     "output_type": "display_data"
    },
    {
     "data": {
      "application/vnd.jupyter.widget-view+json": {
       "model_id": "013cdf5bffc748f08b41768ff61934af",
       "version_major": 2,
       "version_minor": 0
      },
      "text/plain": [
       "  0%|          | 0/25 [00:00<?, ?it/s]"
      ]
     },
     "metadata": {},
     "output_type": "display_data"
    },
    {
     "data": {
      "application/vnd.jupyter.widget-view+json": {
       "model_id": "fd95b2cafdfb4ee08ae02e6519152723",
       "version_major": 2,
       "version_minor": 0
      },
      "text/plain": [
       "  0%|          | 0/25 [00:00<?, ?it/s]"
      ]
     },
     "metadata": {},
     "output_type": "display_data"
    },
    {
     "data": {
      "application/vnd.jupyter.widget-view+json": {
       "model_id": "9e9eaa32e9424a719e5fd066cb08ca89",
       "version_major": 2,
       "version_minor": 0
      },
      "text/plain": [
       "  0%|          | 0/25 [00:00<?, ?it/s]"
      ]
     },
     "metadata": {},
     "output_type": "display_data"
    },
    {
     "data": {
      "application/vnd.jupyter.widget-view+json": {
       "model_id": "59f9a2721ab94c63947d4071f3884482",
       "version_major": 2,
       "version_minor": 0
      },
      "text/plain": [
       "  0%|          | 0/25 [00:00<?, ?it/s]"
      ]
     },
     "metadata": {},
     "output_type": "display_data"
    },
    {
     "data": {
      "application/vnd.jupyter.widget-view+json": {
       "model_id": "3c152f34626243e89ee72ab5e144e1fa",
       "version_major": 2,
       "version_minor": 0
      },
      "text/plain": [
       "  0%|          | 0/25 [00:00<?, ?it/s]"
      ]
     },
     "metadata": {},
     "output_type": "display_data"
    },
    {
     "data": {
      "application/vnd.jupyter.widget-view+json": {
       "model_id": "67ced6f5fd35404695e5c1a1dfb33279",
       "version_major": 2,
       "version_minor": 0
      },
      "text/plain": [
       "  0%|          | 0/25 [00:00<?, ?it/s]"
      ]
     },
     "metadata": {},
     "output_type": "display_data"
    },
    {
     "data": {
      "application/vnd.jupyter.widget-view+json": {
       "model_id": "edaf41e3e1484d97bfee7d91bdc48588",
       "version_major": 2,
       "version_minor": 0
      },
      "text/plain": [
       "  0%|          | 0/25 [00:00<?, ?it/s]"
      ]
     },
     "metadata": {},
     "output_type": "display_data"
    },
    {
     "data": {
      "application/vnd.jupyter.widget-view+json": {
       "model_id": "e8ceebee48ae4d1dbd79ccb6b1a0865e",
       "version_major": 2,
       "version_minor": 0
      },
      "text/plain": [
       "  0%|          | 0/25 [00:00<?, ?it/s]"
      ]
     },
     "metadata": {},
     "output_type": "display_data"
    },
    {
     "data": {
      "application/vnd.jupyter.widget-view+json": {
       "model_id": "22d54c5b3d2641f397598483445dfcd1",
       "version_major": 2,
       "version_minor": 0
      },
      "text/plain": [
       "  0%|          | 0/25 [00:00<?, ?it/s]"
      ]
     },
     "metadata": {},
     "output_type": "display_data"
    },
    {
     "data": {
      "application/vnd.jupyter.widget-view+json": {
       "model_id": "4ff8bc2ae63d4f7daed15f9165230d82",
       "version_major": 2,
       "version_minor": 0
      },
      "text/plain": [
       "  0%|          | 0/25 [00:00<?, ?it/s]"
      ]
     },
     "metadata": {},
     "output_type": "display_data"
    },
    {
     "data": {
      "application/vnd.jupyter.widget-view+json": {
       "model_id": "cc76911a25374294afdb1d5a0232cc43",
       "version_major": 2,
       "version_minor": 0
      },
      "text/plain": [
       "  0%|          | 0/25 [00:00<?, ?it/s]"
      ]
     },
     "metadata": {},
     "output_type": "display_data"
    },
    {
     "data": {
      "application/vnd.jupyter.widget-view+json": {
       "model_id": "5c1214a33a8c428896cabdf88d74c3cd",
       "version_major": 2,
       "version_minor": 0
      },
      "text/plain": [
       "  0%|          | 0/25 [00:00<?, ?it/s]"
      ]
     },
     "metadata": {},
     "output_type": "display_data"
    },
    {
     "data": {
      "application/vnd.jupyter.widget-view+json": {
       "model_id": "3ae3c55d5bd542229af4ea2cfd705620",
       "version_major": 2,
       "version_minor": 0
      },
      "text/plain": [
       "  0%|          | 0/25 [00:00<?, ?it/s]"
      ]
     },
     "metadata": {},
     "output_type": "display_data"
    },
    {
     "data": {
      "application/vnd.jupyter.widget-view+json": {
       "model_id": "b5aeca4f6de14ecd937d065d2569ad0f",
       "version_major": 2,
       "version_minor": 0
      },
      "text/plain": [
       "  0%|          | 0/25 [00:00<?, ?it/s]"
      ]
     },
     "metadata": {},
     "output_type": "display_data"
    },
    {
     "data": {
      "application/vnd.jupyter.widget-view+json": {
       "model_id": "131f4c5d101f4ddb8bc168660c729164",
       "version_major": 2,
       "version_minor": 0
      },
      "text/plain": [
       "  0%|          | 0/25 [00:00<?, ?it/s]"
      ]
     },
     "metadata": {},
     "output_type": "display_data"
    },
    {
     "data": {
      "application/vnd.jupyter.widget-view+json": {
       "model_id": "bbb227b9b2454063b0f3c4dd61be834d",
       "version_major": 2,
       "version_minor": 0
      },
      "text/plain": [
       "  0%|          | 0/25 [00:00<?, ?it/s]"
      ]
     },
     "metadata": {},
     "output_type": "display_data"
    },
    {
     "data": {
      "application/vnd.jupyter.widget-view+json": {
       "model_id": "020be1b0ccca47d696bc14e094551eba",
       "version_major": 2,
       "version_minor": 0
      },
      "text/plain": [
       "  0%|          | 0/25 [00:00<?, ?it/s]"
      ]
     },
     "metadata": {},
     "output_type": "display_data"
    },
    {
     "data": {
      "application/vnd.jupyter.widget-view+json": {
       "model_id": "ba94b894855d4032bbdc22bece021bd9",
       "version_major": 2,
       "version_minor": 0
      },
      "text/plain": [
       "  0%|          | 0/25 [00:00<?, ?it/s]"
      ]
     },
     "metadata": {},
     "output_type": "display_data"
    },
    {
     "data": {
      "application/vnd.jupyter.widget-view+json": {
       "model_id": "3a5708317346410882a9077afd24820c",
       "version_major": 2,
       "version_minor": 0
      },
      "text/plain": [
       "  0%|          | 0/25 [00:00<?, ?it/s]"
      ]
     },
     "metadata": {},
     "output_type": "display_data"
    },
    {
     "data": {
      "application/vnd.jupyter.widget-view+json": {
       "model_id": "53e77ba7bb8a4234b2e8965e51eb4921",
       "version_major": 2,
       "version_minor": 0
      },
      "text/plain": [
       "  0%|          | 0/25 [00:00<?, ?it/s]"
      ]
     },
     "metadata": {},
     "output_type": "display_data"
    },
    {
     "data": {
      "application/vnd.jupyter.widget-view+json": {
       "model_id": "7f3a15c726a84a4c83649a557417af3f",
       "version_major": 2,
       "version_minor": 0
      },
      "text/plain": [
       "  0%|          | 0/25 [00:00<?, ?it/s]"
      ]
     },
     "metadata": {},
     "output_type": "display_data"
    },
    {
     "data": {
      "application/vnd.jupyter.widget-view+json": {
       "model_id": "b054568f87bf4a48940321da5dd228c4",
       "version_major": 2,
       "version_minor": 0
      },
      "text/plain": [
       "  0%|          | 0/25 [00:00<?, ?it/s]"
      ]
     },
     "metadata": {},
     "output_type": "display_data"
    },
    {
     "data": {
      "application/vnd.jupyter.widget-view+json": {
       "model_id": "1f8ca6dcc9e84714b330b2075c702302",
       "version_major": 2,
       "version_minor": 0
      },
      "text/plain": [
       "  0%|          | 0/25 [00:00<?, ?it/s]"
      ]
     },
     "metadata": {},
     "output_type": "display_data"
    },
    {
     "data": {
      "application/vnd.jupyter.widget-view+json": {
       "model_id": "19e6979ba1d84c71a88e1d3035af9039",
       "version_major": 2,
       "version_minor": 0
      },
      "text/plain": [
       "  0%|          | 0/25 [00:00<?, ?it/s]"
      ]
     },
     "metadata": {},
     "output_type": "display_data"
    },
    {
     "data": {
      "application/vnd.jupyter.widget-view+json": {
       "model_id": "9c11552ce4d94fda8f6f07c42a2d1a74",
       "version_major": 2,
       "version_minor": 0
      },
      "text/plain": [
       "  0%|          | 0/25 [00:00<?, ?it/s]"
      ]
     },
     "metadata": {},
     "output_type": "display_data"
    },
    {
     "data": {
      "application/vnd.jupyter.widget-view+json": {
       "model_id": "2ea99248f4394e0e89e060f8a0347b24",
       "version_major": 2,
       "version_minor": 0
      },
      "text/plain": [
       "  0%|          | 0/25 [00:00<?, ?it/s]"
      ]
     },
     "metadata": {},
     "output_type": "display_data"
    },
    {
     "data": {
      "application/vnd.jupyter.widget-view+json": {
       "model_id": "94b3b70d3ae44446a4a4d030ea7460e5",
       "version_major": 2,
       "version_minor": 0
      },
      "text/plain": [
       "  0%|          | 0/25 [00:00<?, ?it/s]"
      ]
     },
     "metadata": {},
     "output_type": "display_data"
    },
    {
     "data": {
      "application/vnd.jupyter.widget-view+json": {
       "model_id": "1efe42e08ca64f92915b754c17e99273",
       "version_major": 2,
       "version_minor": 0
      },
      "text/plain": [
       "  0%|          | 0/25 [00:00<?, ?it/s]"
      ]
     },
     "metadata": {},
     "output_type": "display_data"
    },
    {
     "data": {
      "application/vnd.jupyter.widget-view+json": {
       "model_id": "d582665e544542e38543054e76613e72",
       "version_major": 2,
       "version_minor": 0
      },
      "text/plain": [
       "  0%|          | 0/25 [00:00<?, ?it/s]"
      ]
     },
     "metadata": {},
     "output_type": "display_data"
    },
    {
     "data": {
      "application/vnd.jupyter.widget-view+json": {
       "model_id": "1489f9e660b44bb6b85c5e123fe7b5fb",
       "version_major": 2,
       "version_minor": 0
      },
      "text/plain": [
       "  0%|          | 0/25 [00:00<?, ?it/s]"
      ]
     },
     "metadata": {},
     "output_type": "display_data"
    },
    {
     "data": {
      "application/vnd.jupyter.widget-view+json": {
       "model_id": "d42c2ee8c9db435f99d6314409530488",
       "version_major": 2,
       "version_minor": 0
      },
      "text/plain": [
       "  0%|          | 0/25 [00:00<?, ?it/s]"
      ]
     },
     "metadata": {},
     "output_type": "display_data"
    },
    {
     "data": {
      "application/vnd.jupyter.widget-view+json": {
       "model_id": "a97d23f5984f4fd686f77a6b8e085d14",
       "version_major": 2,
       "version_minor": 0
      },
      "text/plain": [
       "  0%|          | 0/25 [00:00<?, ?it/s]"
      ]
     },
     "metadata": {},
     "output_type": "display_data"
    },
    {
     "data": {
      "application/vnd.jupyter.widget-view+json": {
       "model_id": "34442708f2494c8a8778b4a9e2f6c59d",
       "version_major": 2,
       "version_minor": 0
      },
      "text/plain": [
       "  0%|          | 0/25 [00:00<?, ?it/s]"
      ]
     },
     "metadata": {},
     "output_type": "display_data"
    },
    {
     "data": {
      "application/vnd.jupyter.widget-view+json": {
       "model_id": "16cf13a08919482e8bf9cd2978956043",
       "version_major": 2,
       "version_minor": 0
      },
      "text/plain": [
       "  0%|          | 0/25 [00:00<?, ?it/s]"
      ]
     },
     "metadata": {},
     "output_type": "display_data"
    },
    {
     "data": {
      "application/vnd.jupyter.widget-view+json": {
       "model_id": "6600758686f34cd5b99eb6e44fb78d66",
       "version_major": 2,
       "version_minor": 0
      },
      "text/plain": [
       "  0%|          | 0/25 [00:00<?, ?it/s]"
      ]
     },
     "metadata": {},
     "output_type": "display_data"
    },
    {
     "data": {
      "application/vnd.jupyter.widget-view+json": {
       "model_id": "5d825f87e3ce477ab9400adfd4ac3f41",
       "version_major": 2,
       "version_minor": 0
      },
      "text/plain": [
       "  0%|          | 0/25 [00:00<?, ?it/s]"
      ]
     },
     "metadata": {},
     "output_type": "display_data"
    },
    {
     "data": {
      "application/vnd.jupyter.widget-view+json": {
       "model_id": "60703d0d3d7b4337b02e577670c0a49e",
       "version_major": 2,
       "version_minor": 0
      },
      "text/plain": [
       "  0%|          | 0/25 [00:00<?, ?it/s]"
      ]
     },
     "metadata": {},
     "output_type": "display_data"
    },
    {
     "name": "stdout",
     "output_type": "stream",
     "text": [
      "Starting NCV experiment for classifier xgb\n"
     ]
    },
    {
     "data": {
      "application/vnd.jupyter.widget-view+json": {
       "model_id": "fe1bbb19f2014a8a8832a6618e0441a5",
       "version_major": 2,
       "version_minor": 0
      },
      "text/plain": [
       "  0%|          | 0/25 [00:00<?, ?it/s]"
      ]
     },
     "metadata": {},
     "output_type": "display_data"
    },
    {
     "data": {
      "application/vnd.jupyter.widget-view+json": {
       "model_id": "5946156dcdc34ee7af1cfeec7bf0e163",
       "version_major": 2,
       "version_minor": 0
      },
      "text/plain": [
       "  0%|          | 0/25 [00:00<?, ?it/s]"
      ]
     },
     "metadata": {},
     "output_type": "display_data"
    },
    {
     "data": {
      "application/vnd.jupyter.widget-view+json": {
       "model_id": "62b90967b85a40a59d74ebeadf3bc3e9",
       "version_major": 2,
       "version_minor": 0
      },
      "text/plain": [
       "  0%|          | 0/25 [00:00<?, ?it/s]"
      ]
     },
     "metadata": {},
     "output_type": "display_data"
    },
    {
     "data": {
      "application/vnd.jupyter.widget-view+json": {
       "model_id": "23ad8b7389f342c397149e9866489459",
       "version_major": 2,
       "version_minor": 0
      },
      "text/plain": [
       "  0%|          | 0/25 [00:00<?, ?it/s]"
      ]
     },
     "metadata": {},
     "output_type": "display_data"
    },
    {
     "data": {
      "application/vnd.jupyter.widget-view+json": {
       "model_id": "3415bfbb49de457398b082687be69e64",
       "version_major": 2,
       "version_minor": 0
      },
      "text/plain": [
       "  0%|          | 0/25 [00:00<?, ?it/s]"
      ]
     },
     "metadata": {},
     "output_type": "display_data"
    },
    {
     "data": {
      "application/vnd.jupyter.widget-view+json": {
       "model_id": "a20c6dd9e1384919a22949449965c4fa",
       "version_major": 2,
       "version_minor": 0
      },
      "text/plain": [
       "  0%|          | 0/25 [00:00<?, ?it/s]"
      ]
     },
     "metadata": {},
     "output_type": "display_data"
    },
    {
     "data": {
      "application/vnd.jupyter.widget-view+json": {
       "model_id": "2610a805f5ec4be485231fa2b01d910a",
       "version_major": 2,
       "version_minor": 0
      },
      "text/plain": [
       "  0%|          | 0/25 [00:00<?, ?it/s]"
      ]
     },
     "metadata": {},
     "output_type": "display_data"
    },
    {
     "data": {
      "application/vnd.jupyter.widget-view+json": {
       "model_id": "9bb1f939c10b4d6b8d26249e2620006e",
       "version_major": 2,
       "version_minor": 0
      },
      "text/plain": [
       "  0%|          | 0/25 [00:00<?, ?it/s]"
      ]
     },
     "metadata": {},
     "output_type": "display_data"
    },
    {
     "data": {
      "application/vnd.jupyter.widget-view+json": {
       "model_id": "b55d76992077427f89b1348d311f6367",
       "version_major": 2,
       "version_minor": 0
      },
      "text/plain": [
       "  0%|          | 0/25 [00:00<?, ?it/s]"
      ]
     },
     "metadata": {},
     "output_type": "display_data"
    },
    {
     "data": {
      "application/vnd.jupyter.widget-view+json": {
       "model_id": "fbecf1e8487b42ac82169a9b59c89cd8",
       "version_major": 2,
       "version_minor": 0
      },
      "text/plain": [
       "  0%|          | 0/25 [00:00<?, ?it/s]"
      ]
     },
     "metadata": {},
     "output_type": "display_data"
    },
    {
     "data": {
      "application/vnd.jupyter.widget-view+json": {
       "model_id": "646a3c72643d487886f76517a8e1086d",
       "version_major": 2,
       "version_minor": 0
      },
      "text/plain": [
       "  0%|          | 0/25 [00:00<?, ?it/s]"
      ]
     },
     "metadata": {},
     "output_type": "display_data"
    },
    {
     "data": {
      "application/vnd.jupyter.widget-view+json": {
       "model_id": "3667f0cb6b244190874500ec32fd1ccb",
       "version_major": 2,
       "version_minor": 0
      },
      "text/plain": [
       "  0%|          | 0/25 [00:00<?, ?it/s]"
      ]
     },
     "metadata": {},
     "output_type": "display_data"
    },
    {
     "data": {
      "application/vnd.jupyter.widget-view+json": {
       "model_id": "4bc6f8ef05b44261b4767e0916cc3512",
       "version_major": 2,
       "version_minor": 0
      },
      "text/plain": [
       "  0%|          | 0/25 [00:00<?, ?it/s]"
      ]
     },
     "metadata": {},
     "output_type": "display_data"
    },
    {
     "data": {
      "application/vnd.jupyter.widget-view+json": {
       "model_id": "3d4ac6154d2b495dbcd0971942c364d7",
       "version_major": 2,
       "version_minor": 0
      },
      "text/plain": [
       "  0%|          | 0/25 [00:00<?, ?it/s]"
      ]
     },
     "metadata": {},
     "output_type": "display_data"
    },
    {
     "data": {
      "application/vnd.jupyter.widget-view+json": {
       "model_id": "a6d196be18a24fd483a6be6326487a11",
       "version_major": 2,
       "version_minor": 0
      },
      "text/plain": [
       "  0%|          | 0/25 [00:00<?, ?it/s]"
      ]
     },
     "metadata": {},
     "output_type": "display_data"
    },
    {
     "data": {
      "application/vnd.jupyter.widget-view+json": {
       "model_id": "4998a7073b2e46d088cefed42bf2d58f",
       "version_major": 2,
       "version_minor": 0
      },
      "text/plain": [
       "  0%|          | 0/25 [00:00<?, ?it/s]"
      ]
     },
     "metadata": {},
     "output_type": "display_data"
    },
    {
     "data": {
      "application/vnd.jupyter.widget-view+json": {
       "model_id": "4ae7cb15f3ea49169a8043e0ddde9ed7",
       "version_major": 2,
       "version_minor": 0
      },
      "text/plain": [
       "  0%|          | 0/25 [00:00<?, ?it/s]"
      ]
     },
     "metadata": {},
     "output_type": "display_data"
    },
    {
     "data": {
      "application/vnd.jupyter.widget-view+json": {
       "model_id": "f5add3e489564c2dba29fcf0fd4ca82a",
       "version_major": 2,
       "version_minor": 0
      },
      "text/plain": [
       "  0%|          | 0/25 [00:00<?, ?it/s]"
      ]
     },
     "metadata": {},
     "output_type": "display_data"
    },
    {
     "data": {
      "application/vnd.jupyter.widget-view+json": {
       "model_id": "703640485a4a41e4a03641e0641461c9",
       "version_major": 2,
       "version_minor": 0
      },
      "text/plain": [
       "  0%|          | 0/25 [00:00<?, ?it/s]"
      ]
     },
     "metadata": {},
     "output_type": "display_data"
    },
    {
     "data": {
      "application/vnd.jupyter.widget-view+json": {
       "model_id": "9ee30841a23c467394296681d51e3334",
       "version_major": 2,
       "version_minor": 0
      },
      "text/plain": [
       "  0%|          | 0/25 [00:00<?, ?it/s]"
      ]
     },
     "metadata": {},
     "output_type": "display_data"
    },
    {
     "data": {
      "application/vnd.jupyter.widget-view+json": {
       "model_id": "a844a33d1ec04f4f800330e6b52cbc0b",
       "version_major": 2,
       "version_minor": 0
      },
      "text/plain": [
       "  0%|          | 0/25 [00:00<?, ?it/s]"
      ]
     },
     "metadata": {},
     "output_type": "display_data"
    },
    {
     "data": {
      "application/vnd.jupyter.widget-view+json": {
       "model_id": "712d4f4ae2c3442b9d3bca7c6bbba509",
       "version_major": 2,
       "version_minor": 0
      },
      "text/plain": [
       "  0%|          | 0/25 [00:00<?, ?it/s]"
      ]
     },
     "metadata": {},
     "output_type": "display_data"
    },
    {
     "data": {
      "application/vnd.jupyter.widget-view+json": {
       "model_id": "b4b2f1d64c5e4f9c89b1d9457124cf0a",
       "version_major": 2,
       "version_minor": 0
      },
      "text/plain": [
       "  0%|          | 0/25 [00:00<?, ?it/s]"
      ]
     },
     "metadata": {},
     "output_type": "display_data"
    },
    {
     "data": {
      "application/vnd.jupyter.widget-view+json": {
       "model_id": "85b3765a0ed54af68da61ef17666942e",
       "version_major": 2,
       "version_minor": 0
      },
      "text/plain": [
       "  0%|          | 0/25 [00:00<?, ?it/s]"
      ]
     },
     "metadata": {},
     "output_type": "display_data"
    },
    {
     "data": {
      "application/vnd.jupyter.widget-view+json": {
       "model_id": "278a1888ef0d486ea14bbf4f6d1fbf79",
       "version_major": 2,
       "version_minor": 0
      },
      "text/plain": [
       "  0%|          | 0/25 [00:00<?, ?it/s]"
      ]
     },
     "metadata": {},
     "output_type": "display_data"
    },
    {
     "data": {
      "application/vnd.jupyter.widget-view+json": {
       "model_id": "fab4fbe1af6342359b39e77860893404",
       "version_major": 2,
       "version_minor": 0
      },
      "text/plain": [
       "  0%|          | 0/25 [00:00<?, ?it/s]"
      ]
     },
     "metadata": {},
     "output_type": "display_data"
    },
    {
     "data": {
      "application/vnd.jupyter.widget-view+json": {
       "model_id": "00031951520b4cf294ee00b490c06349",
       "version_major": 2,
       "version_minor": 0
      },
      "text/plain": [
       "  0%|          | 0/25 [00:00<?, ?it/s]"
      ]
     },
     "metadata": {},
     "output_type": "display_data"
    },
    {
     "data": {
      "application/vnd.jupyter.widget-view+json": {
       "model_id": "9c9c1575834d464badd8b65925533414",
       "version_major": 2,
       "version_minor": 0
      },
      "text/plain": [
       "  0%|          | 0/25 [00:00<?, ?it/s]"
      ]
     },
     "metadata": {},
     "output_type": "display_data"
    },
    {
     "data": {
      "application/vnd.jupyter.widget-view+json": {
       "model_id": "727808fd835f454d98f5ef5845487896",
       "version_major": 2,
       "version_minor": 0
      },
      "text/plain": [
       "  0%|          | 0/25 [00:00<?, ?it/s]"
      ]
     },
     "metadata": {},
     "output_type": "display_data"
    },
    {
     "data": {
      "application/vnd.jupyter.widget-view+json": {
       "model_id": "e1392843152c4afd8777ea3f5bf5a128",
       "version_major": 2,
       "version_minor": 0
      },
      "text/plain": [
       "  0%|          | 0/25 [00:00<?, ?it/s]"
      ]
     },
     "metadata": {},
     "output_type": "display_data"
    },
    {
     "data": {
      "application/vnd.jupyter.widget-view+json": {
       "model_id": "1fb0a7d80f24440db1982e2e0790d28c",
       "version_major": 2,
       "version_minor": 0
      },
      "text/plain": [
       "  0%|          | 0/25 [00:00<?, ?it/s]"
      ]
     },
     "metadata": {},
     "output_type": "display_data"
    },
    {
     "data": {
      "application/vnd.jupyter.widget-view+json": {
       "model_id": "d345c169975749bc95a68f98cab505c3",
       "version_major": 2,
       "version_minor": 0
      },
      "text/plain": [
       "  0%|          | 0/25 [00:00<?, ?it/s]"
      ]
     },
     "metadata": {},
     "output_type": "display_data"
    },
    {
     "data": {
      "application/vnd.jupyter.widget-view+json": {
       "model_id": "1baa47a31c2b45a2a404c5d5ca73b8da",
       "version_major": 2,
       "version_minor": 0
      },
      "text/plain": [
       "  0%|          | 0/25 [00:00<?, ?it/s]"
      ]
     },
     "metadata": {},
     "output_type": "display_data"
    },
    {
     "data": {
      "application/vnd.jupyter.widget-view+json": {
       "model_id": "518c8c2de10c4f7489bdd5ae01cceb91",
       "version_major": 2,
       "version_minor": 0
      },
      "text/plain": [
       "  0%|          | 0/25 [00:00<?, ?it/s]"
      ]
     },
     "metadata": {},
     "output_type": "display_data"
    },
    {
     "data": {
      "application/vnd.jupyter.widget-view+json": {
       "model_id": "98f2a9df3131485682d038ff3b02729c",
       "version_major": 2,
       "version_minor": 0
      },
      "text/plain": [
       "  0%|          | 0/25 [00:00<?, ?it/s]"
      ]
     },
     "metadata": {},
     "output_type": "display_data"
    },
    {
     "data": {
      "application/vnd.jupyter.widget-view+json": {
       "model_id": "4693b29f8cf24d40abe7720aab0d949a",
       "version_major": 2,
       "version_minor": 0
      },
      "text/plain": [
       "  0%|          | 0/25 [00:00<?, ?it/s]"
      ]
     },
     "metadata": {},
     "output_type": "display_data"
    },
    {
     "data": {
      "application/vnd.jupyter.widget-view+json": {
       "model_id": "738c553fe2f84725ba4989bb41f6f628",
       "version_major": 2,
       "version_minor": 0
      },
      "text/plain": [
       "  0%|          | 0/25 [00:00<?, ?it/s]"
      ]
     },
     "metadata": {},
     "output_type": "display_data"
    },
    {
     "data": {
      "application/vnd.jupyter.widget-view+json": {
       "model_id": "c0cf3e2b9e564eedb7f3edd9e3fdb226",
       "version_major": 2,
       "version_minor": 0
      },
      "text/plain": [
       "  0%|          | 0/25 [00:00<?, ?it/s]"
      ]
     },
     "metadata": {},
     "output_type": "display_data"
    },
    {
     "data": {
      "application/vnd.jupyter.widget-view+json": {
       "model_id": "efe306148f944f73818b53f8caaa74b0",
       "version_major": 2,
       "version_minor": 0
      },
      "text/plain": [
       "  0%|          | 0/25 [00:00<?, ?it/s]"
      ]
     },
     "metadata": {},
     "output_type": "display_data"
    },
    {
     "data": {
      "application/vnd.jupyter.widget-view+json": {
       "model_id": "55c970c43c6b4f38b7195bbdbd187e21",
       "version_major": 2,
       "version_minor": 0
      },
      "text/plain": [
       "  0%|          | 0/25 [00:00<?, ?it/s]"
      ]
     },
     "metadata": {},
     "output_type": "display_data"
    },
    {
     "data": {
      "application/vnd.jupyter.widget-view+json": {
       "model_id": "8e72660bb4a249f3a060e15325e220bb",
       "version_major": 2,
       "version_minor": 0
      },
      "text/plain": [
       "  0%|          | 0/25 [00:00<?, ?it/s]"
      ]
     },
     "metadata": {},
     "output_type": "display_data"
    },
    {
     "data": {
      "application/vnd.jupyter.widget-view+json": {
       "model_id": "d263a06ee5fa4254872d021be64d1b7a",
       "version_major": 2,
       "version_minor": 0
      },
      "text/plain": [
       "  0%|          | 0/25 [00:00<?, ?it/s]"
      ]
     },
     "metadata": {},
     "output_type": "display_data"
    },
    {
     "data": {
      "application/vnd.jupyter.widget-view+json": {
       "model_id": "6a829423d5a146bbb8d8297dfb3d8775",
       "version_major": 2,
       "version_minor": 0
      },
      "text/plain": [
       "  0%|          | 0/25 [00:00<?, ?it/s]"
      ]
     },
     "metadata": {},
     "output_type": "display_data"
    },
    {
     "data": {
      "application/vnd.jupyter.widget-view+json": {
       "model_id": "b62e91f1a1004616931a859b789804cc",
       "version_major": 2,
       "version_minor": 0
      },
      "text/plain": [
       "  0%|          | 0/25 [00:00<?, ?it/s]"
      ]
     },
     "metadata": {},
     "output_type": "display_data"
    },
    {
     "data": {
      "application/vnd.jupyter.widget-view+json": {
       "model_id": "9cebb407455443e2961710a0e334a0a4",
       "version_major": 2,
       "version_minor": 0
      },
      "text/plain": [
       "  0%|          | 0/25 [00:00<?, ?it/s]"
      ]
     },
     "metadata": {},
     "output_type": "display_data"
    },
    {
     "data": {
      "application/vnd.jupyter.widget-view+json": {
       "model_id": "63d62f3b28d84198a64cf43837d975d9",
       "version_major": 2,
       "version_minor": 0
      },
      "text/plain": [
       "  0%|          | 0/25 [00:00<?, ?it/s]"
      ]
     },
     "metadata": {},
     "output_type": "display_data"
    },
    {
     "data": {
      "application/vnd.jupyter.widget-view+json": {
       "model_id": "a093d934ef6341cbb4b4c0fc322efcd3",
       "version_major": 2,
       "version_minor": 0
      },
      "text/plain": [
       "  0%|          | 0/25 [00:00<?, ?it/s]"
      ]
     },
     "metadata": {},
     "output_type": "display_data"
    },
    {
     "data": {
      "application/vnd.jupyter.widget-view+json": {
       "model_id": "79dac7dcce9e49529d3b06d486fefe8b",
       "version_major": 2,
       "version_minor": 0
      },
      "text/plain": [
       "  0%|          | 0/25 [00:00<?, ?it/s]"
      ]
     },
     "metadata": {},
     "output_type": "display_data"
    },
    {
     "data": {
      "application/vnd.jupyter.widget-view+json": {
       "model_id": "1148666d72bd498ba465dea991e1f5da",
       "version_major": 2,
       "version_minor": 0
      },
      "text/plain": [
       "  0%|          | 0/25 [00:00<?, ?it/s]"
      ]
     },
     "metadata": {},
     "output_type": "display_data"
    },
    {
     "data": {
      "application/vnd.jupyter.widget-view+json": {
       "model_id": "16fc26b647dd4a64ad87b720cb9d9296",
       "version_major": 2,
       "version_minor": 0
      },
      "text/plain": [
       "  0%|          | 0/25 [00:00<?, ?it/s]"
      ]
     },
     "metadata": {},
     "output_type": "display_data"
    }
   ],
   "source": [
    "results, params_dict = run_all_classifiers(X,y)"
   ]
  },
  {
   "cell_type": "code",
   "execution_count": 21,
   "metadata": {
    "collapsed": false,
    "pycharm": {
     "name": "#%%\n"
    }
   },
   "outputs": [
    {
     "name": "stdout",
     "output_type": "stream",
     "text": [
      "Params for classifier svm\n",
      "Params of trial 0: {'c_svm': 0.33587937787070266, 'gamma_svm': 0.09729512886006189}\n",
      "Params of trial 1: {'c_svm': 0.7853736939587597, 'gamma_svm': 0.005103343439788836}\n",
      "Params of trial 2: {'c_svm': 0.8787859412079013, 'gamma_svm': 0.083108518499564}\n",
      "Params of trial 3: {'c_svm': 0.7789412077205111, 'gamma_svm': 0.8406277311336046}\n",
      "Params of trial 4: {'c_svm': 0.46462165179531667, 'gamma_svm': 0.29364225248503906}\n",
      "Params of trial 5: {'c_svm': 0.6933999730198758, 'gamma_svm': 0.00433346550239032}\n",
      "Params of trial 6: {'c_svm': 0.26318886584949475, 'gamma_svm': 0.5417535652559803}\n",
      "Params of trial 7: {'c_svm': 0.5499517813537567, 'gamma_svm': 0.3828088904933917}\n",
      "Params of trial 8: {'c_svm': 0.7206647837695982, 'gamma_svm': 0.10683648805483015}\n",
      "Params of trial 9: {'c_svm': 0.9754238300892206, 'gamma_svm': 0.3740034421137711}\n",
      "Params of trial 10: {'c_svm': 0.13664070066689651, 'gamma_svm': 0.013813261332741507}\n",
      "Params of trial 11: {'c_svm': 0.9451249322926397, 'gamma_svm': 0.07299902012722204}\n",
      "Params of trial 12: {'c_svm': 0.6619326811686694, 'gamma_svm': 0.010292034561465893}\n",
      "Params of trial 13: {'c_svm': 0.7903553331455588, 'gamma_svm': 0.0036681559954931378}\n",
      "Params of trial 14: {'c_svm': 0.644588303383896, 'gamma_svm': 0.1774219738194983}\n",
      "Params of trial 15: {'c_svm': 0.16510185250380505, 'gamma_svm': 0.007019602215186954}\n",
      "Params of trial 16: {'c_svm': 0.9002190954801558, 'gamma_svm': 0.09713131865815464}\n",
      "Params of trial 17: {'c_svm': 0.4261465386410942, 'gamma_svm': 0.2571692015920695}\n",
      "Params of trial 18: {'c_svm': 0.31647151619425906, 'gamma_svm': 0.5272890909177458}\n",
      "Params of trial 19: {'c_svm': 0.25017614501446744, 'gamma_svm': 0.0064725904573449625}\n",
      "Params of trial 20: {'c_svm': 0.2506652672362833, 'gamma_svm': 0.010572077332309767}\n",
      "Params of trial 21: {'c_svm': 0.2730673242069774, 'gamma_svm': 0.00711142482585165}\n",
      "Params of trial 22: {'c_svm': 0.6920130429646624, 'gamma_svm': 0.3001388619954291}\n",
      "Params of trial 23: {'c_svm': 0.7200859757824473, 'gamma_svm': 0.19290309277849618}\n",
      "Params of trial 24: {'c_svm': 0.7426811078046331, 'gamma_svm': 0.08356642492485152}\n",
      "Params of trial 25: {'c_svm': 0.24814407416393194, 'gamma_svm': 0.1408948819963689}\n",
      "Params of trial 26: {'c_svm': 0.5974214463556442, 'gamma_svm': 0.55734961678961}\n",
      "Params of trial 27: {'c_svm': 0.6812133280463902, 'gamma_svm': 0.33273669916271825}\n",
      "Params of trial 28: {'c_svm': 0.18877206626995272, 'gamma_svm': 0.005018156440610068}\n",
      "Params of trial 29: {'c_svm': 0.3485777991997855, 'gamma_svm': 0.011411333377824922}\n",
      "Params of trial 30: {'c_svm': 0.7683454351000482, 'gamma_svm': 0.7468413915924446}\n",
      "Params of trial 31: {'c_svm': 0.3776905051032382, 'gamma_svm': 0.20202065453796456}\n",
      "Params of trial 32: {'c_svm': 0.46603381490185797, 'gamma_svm': 0.012599695543712647}\n",
      "Params of trial 33: {'c_svm': 0.8368043294496444, 'gamma_svm': 0.2769652589080017}\n",
      "Params of trial 34: {'c_svm': 0.9698371744905326, 'gamma_svm': 0.08628008053860435}\n",
      "Params of trial 35: {'c_svm': 0.20370375663672974, 'gamma_svm': 0.14858093320458376}\n",
      "Params of trial 36: {'c_svm': 0.8942508362745913, 'gamma_svm': 0.2809581055276373}\n",
      "Params of trial 37: {'c_svm': 0.7645180224775301, 'gamma_svm': 0.009546903221887478}\n",
      "Params of trial 38: {'c_svm': 0.8751535535768372, 'gamma_svm': 0.002700976206943202}\n",
      "Params of trial 39: {'c_svm': 0.34691322484794374, 'gamma_svm': 0.112614934733748}\n",
      "Params of trial 40: {'c_svm': 0.47062691598130485, 'gamma_svm': 0.008220696024705348}\n",
      "Params of trial 41: {'c_svm': 0.20743400728448005, 'gamma_svm': 0.4217523457454976}\n",
      "Params of trial 42: {'c_svm': 0.8609504927872017, 'gamma_svm': 0.15223080600433528}\n",
      "Params of trial 43: {'c_svm': 0.6231604036288485, 'gamma_svm': 0.06938228360344748}\n",
      "Params of trial 44: {'c_svm': 0.38213183378123317, 'gamma_svm': 0.002979439144229797}\n",
      "Params of trial 45: {'c_svm': 0.8549660162993887, 'gamma_svm': 0.0884527138326447}\n",
      "Params of trial 46: {'c_svm': 0.5016941306193646, 'gamma_svm': 0.06093536798340198}\n",
      "Params of trial 47: {'c_svm': 0.3823390310558017, 'gamma_svm': 0.1368296471570538}\n",
      "Params of trial 48: {'c_svm': 0.5778652255864711, 'gamma_svm': 0.22479817127530027}\n",
      "Params of trial 49: {'c_svm': 0.7416495854193396, 'gamma_svm': 0.6519531350616632}\n",
      "Params for classifier lr\n",
      "Params of trial 0: {'lr_solver': 'lbfgs', 'lr_c': 0.5370973406900048}\n",
      "Params of trial 1: {'lr_solver': 'lbfgs', 'lr_c': 0.47884916782034614}\n",
      "Params of trial 2: {'lr_solver': 'newton-cg', 'lr_c': 0.9170541020822348}\n",
      "Params of trial 3: {'lr_solver': 'lbfgs', 'lr_c': 0.6260107549173178}\n",
      "Params of trial 4: {'lr_solver': 'lbfgs', 'lr_c': 0.9235400568327398}\n",
      "Params of trial 5: {'lr_solver': 'lbfgs', 'lr_c': 0.6317914290798416}\n",
      "Params of trial 6: {'lr_solver': 'newton-cg', 'lr_c': 0.4072662056381193}\n",
      "Params of trial 7: {'lr_solver': 'sag', 'lr_c': 0.4024329555312951}\n",
      "Params of trial 8: {'lr_solver': 'newton-cg', 'lr_c': 0.5712205594104057}\n",
      "Params of trial 9: {'lr_solver': 'newton-cg', 'lr_c': 0.10100001850885645}\n",
      "Params of trial 10: {'lr_solver': 'newton-cg', 'lr_c': 0.7395567292512664}\n",
      "Params of trial 11: {'lr_solver': 'lbfgs', 'lr_c': 0.8895641103320198}\n",
      "Params of trial 12: {'lr_solver': 'lbfgs', 'lr_c': 0.46543901879471145}\n",
      "Params of trial 13: {'lr_solver': 'newton-cg', 'lr_c': 0.25893044964579154}\n",
      "Params of trial 14: {'lr_solver': 'lbfgs', 'lr_c': 0.5844088038951597}\n",
      "Params of trial 15: {'lr_solver': 'newton-cg', 'lr_c': 0.5324688396556719}\n",
      "Params of trial 16: {'lr_solver': 'newton-cg', 'lr_c': 0.10501982991476654}\n",
      "Params of trial 17: {'lr_solver': 'lbfgs', 'lr_c': 0.8245396740122175}\n",
      "Params of trial 18: {'lr_solver': 'newton-cg', 'lr_c': 0.751951922875546}\n",
      "Params of trial 19: {'lr_solver': 'newton-cg', 'lr_c': 0.5725334145819788}\n",
      "Params of trial 20: {'lr_solver': 'newton-cg', 'lr_c': 0.612250700835046}\n",
      "Params of trial 21: {'lr_solver': 'lbfgs', 'lr_c': 0.13141182306983049}\n",
      "Params of trial 22: {'lr_solver': 'newton-cg', 'lr_c': 0.9637621464088998}\n",
      "Params of trial 23: {'lr_solver': 'lbfgs', 'lr_c': 0.8375485798456125}\n",
      "Params of trial 24: {'lr_solver': 'newton-cg', 'lr_c': 0.13553952631538987}\n",
      "Params of trial 25: {'lr_solver': 'newton-cg', 'lr_c': 0.9494038038815079}\n",
      "Params of trial 26: {'lr_solver': 'newton-cg', 'lr_c': 0.9441667664703265}\n",
      "Params of trial 27: {'lr_solver': 'lbfgs', 'lr_c': 0.28741623228505925}\n",
      "Params of trial 28: {'lr_solver': 'lbfgs', 'lr_c': 0.6535161014842925}\n",
      "Params of trial 29: {'lr_solver': 'sag', 'lr_c': 0.7119004291187977}\n",
      "Params of trial 30: {'lr_solver': 'newton-cg', 'lr_c': 0.4861241312875453}\n",
      "Params of trial 31: {'lr_solver': 'newton-cg', 'lr_c': 0.4310323266500844}\n",
      "Params of trial 32: {'lr_solver': 'newton-cg', 'lr_c': 0.3324166715645964}\n",
      "Params of trial 33: {'lr_solver': 'sag', 'lr_c': 0.2085056174881107}\n",
      "Params of trial 34: {'lr_solver': 'lbfgs', 'lr_c': 0.34518665577364605}\n",
      "Params of trial 35: {'lr_solver': 'sag', 'lr_c': 0.8411889601594171}\n",
      "Params of trial 36: {'lr_solver': 'newton-cg', 'lr_c': 0.9194082736160999}\n",
      "Params of trial 37: {'lr_solver': 'lbfgs', 'lr_c': 0.4438607094006277}\n",
      "Params of trial 38: {'lr_solver': 'lbfgs', 'lr_c': 0.20250121963171003}\n",
      "Params of trial 39: {'lr_solver': 'sag', 'lr_c': 0.24611901179879453}\n",
      "Params of trial 40: {'lr_solver': 'newton-cg', 'lr_c': 0.816982716398602}\n",
      "Params of trial 41: {'lr_solver': 'newton-cg', 'lr_c': 0.4387013002012898}\n",
      "Params of trial 42: {'lr_solver': 'newton-cg', 'lr_c': 0.42111587377372717}\n",
      "Params of trial 43: {'lr_solver': 'newton-cg', 'lr_c': 0.24501189287584957}\n",
      "Params of trial 44: {'lr_solver': 'lbfgs', 'lr_c': 0.1387038904746158}\n",
      "Params of trial 45: {'lr_solver': 'lbfgs', 'lr_c': 0.9777868698030036}\n",
      "Params of trial 46: {'lr_solver': 'sag', 'lr_c': 0.833212139084235}\n",
      "Params of trial 47: {'lr_solver': 'newton-cg', 'lr_c': 0.26440746618543903}\n",
      "Params of trial 48: {'lr_solver': 'lbfgs', 'lr_c': 0.5777969703735588}\n",
      "Params of trial 49: {'lr_solver': 'lbfgs', 'lr_c': 0.4939732048298032}\n",
      "Params for classifier gnb\n",
      "Params of trial 0: {'gnb_var_smoothing': 4.191439777643284e-09}\n",
      "Params of trial 1: {'gnb_var_smoothing': 7.894159174495784e-09}\n",
      "Params of trial 2: {'gnb_var_smoothing': 3.805416034345437e-09}\n",
      "Params of trial 3: {'gnb_var_smoothing': 3.210198533043578e-07}\n",
      "Params of trial 4: {'gnb_var_smoothing': 3.743385429849483e-10}\n",
      "Params of trial 5: {'gnb_var_smoothing': 7.4968957972263e-10}\n",
      "Params of trial 6: {'gnb_var_smoothing': 2.0379878400351264e-09}\n",
      "Params of trial 7: {'gnb_var_smoothing': 9.100598648736985e-07}\n",
      "Params of trial 8: {'gnb_var_smoothing': 2.8317563186694835e-08}\n",
      "Params of trial 9: {'gnb_var_smoothing': 2.204846931962103e-08}\n",
      "Params of trial 10: {'gnb_var_smoothing': 2.6723009837458845e-08}\n",
      "Params of trial 11: {'gnb_var_smoothing': 2.618100676892097e-10}\n",
      "Params of trial 12: {'gnb_var_smoothing': 2.9886819279996313e-10}\n",
      "Params of trial 13: {'gnb_var_smoothing': 1.3212980698162793e-07}\n",
      "Params of trial 14: {'gnb_var_smoothing': 1.006672103007405e-09}\n",
      "Params of trial 15: {'gnb_var_smoothing': 2.50626572148044e-07}\n",
      "Params of trial 16: {'gnb_var_smoothing': 1.2443347793603496e-10}\n",
      "Params of trial 17: {'gnb_var_smoothing': 5.089034272003552e-07}\n",
      "Params of trial 18: {'gnb_var_smoothing': 3.3544463755041326e-07}\n",
      "Params of trial 19: {'gnb_var_smoothing': 5.365676943035695e-09}\n",
      "Params of trial 20: {'gnb_var_smoothing': 1.0837229020708651e-10}\n",
      "Params of trial 21: {'gnb_var_smoothing': 8.552798777945073e-10}\n",
      "Params of trial 22: {'gnb_var_smoothing': 2.862589160045371e-10}\n",
      "Params of trial 23: {'gnb_var_smoothing': 8.638214674665996e-09}\n",
      "Params of trial 24: {'gnb_var_smoothing': 1.6128114474596968e-08}\n",
      "Params of trial 25: {'gnb_var_smoothing': 1.1391591729766934e-07}\n",
      "Params of trial 26: {'gnb_var_smoothing': 9.998516906263291e-09}\n",
      "Params of trial 27: {'gnb_var_smoothing': 2.7290748014546387e-07}\n",
      "Params of trial 28: {'gnb_var_smoothing': 1.505998701584955e-08}\n",
      "Params of trial 29: {'gnb_var_smoothing': 2.894819859016762e-10}\n",
      "Params of trial 30: {'gnb_var_smoothing': 5.118809947254666e-08}\n",
      "Params of trial 31: {'gnb_var_smoothing': 4.8496403697656924e-09}\n",
      "Params of trial 32: {'gnb_var_smoothing': 1.0802606321669706e-08}\n",
      "Params of trial 33: {'gnb_var_smoothing': 2.2249608795550873e-07}\n",
      "Params of trial 34: {'gnb_var_smoothing': 9.702668306770866e-09}\n",
      "Params of trial 35: {'gnb_var_smoothing': 9.783029436536373e-09}\n",
      "Params of trial 36: {'gnb_var_smoothing': 4.301995592759132e-09}\n",
      "Params of trial 37: {'gnb_var_smoothing': 8.765177193390508e-07}\n",
      "Params of trial 38: {'gnb_var_smoothing': 2.765001426969245e-07}\n",
      "Params of trial 39: {'gnb_var_smoothing': 4.0280020504665816e-07}\n",
      "Params of trial 40: {'gnb_var_smoothing': 5.760231648094531e-08}\n",
      "Params of trial 41: {'gnb_var_smoothing': 6.623914792339204e-10}\n",
      "Params of trial 42: {'gnb_var_smoothing': 6.40988140825437e-09}\n",
      "Params of trial 43: {'gnb_var_smoothing': 1.4055576782478852e-08}\n",
      "Params of trial 44: {'gnb_var_smoothing': 1.970501356292546e-09}\n",
      "Params of trial 45: {'gnb_var_smoothing': 3.0407443885061294e-10}\n",
      "Params of trial 46: {'gnb_var_smoothing': 3.830778785905736e-09}\n",
      "Params of trial 47: {'gnb_var_smoothing': 3.672690546584501e-07}\n",
      "Params of trial 48: {'gnb_var_smoothing': 5.035098266964315e-09}\n",
      "Params of trial 49: {'gnb_var_smoothing': 1.9515579535661133e-09}\n",
      "Params for classifier rf\n",
      "Params of trial 0: {'rf_n_estimators': 109, 'rf_max_depth': 2, 'rf_max_features': None}\n",
      "Params of trial 1: {'rf_n_estimators': 42, 'rf_max_depth': 3, 'rf_max_features': None}\n",
      "Params of trial 2: {'rf_n_estimators': 173, 'rf_max_depth': 2, 'rf_max_features': None}\n",
      "Params of trial 3: {'rf_n_estimators': 53, 'rf_max_depth': 3, 'rf_max_features': None}\n",
      "Params of trial 4: {'rf_n_estimators': 53, 'rf_max_depth': 3, 'rf_max_features': None}\n",
      "Params of trial 5: {'rf_n_estimators': 119, 'rf_max_depth': 3, 'rf_max_features': None}\n",
      "Params of trial 6: {'rf_n_estimators': 12, 'rf_max_depth': 2, 'rf_max_features': None}\n",
      "Params of trial 7: {'rf_n_estimators': 198, 'rf_max_depth': 3, 'rf_max_features': None}\n",
      "Params of trial 8: {'rf_n_estimators': 181, 'rf_max_depth': 3, 'rf_max_features': None}\n",
      "Params of trial 9: {'rf_n_estimators': 161, 'rf_max_depth': 3, 'rf_max_features': None}\n",
      "Params of trial 10: {'rf_n_estimators': 89, 'rf_max_depth': 2, 'rf_max_features': None}\n",
      "Params of trial 11: {'rf_n_estimators': 98, 'rf_max_depth': 3, 'rf_max_features': None}\n",
      "Params of trial 12: {'rf_n_estimators': 22, 'rf_max_depth': 3, 'rf_max_features': None}\n",
      "Params of trial 13: {'rf_n_estimators': 160, 'rf_max_depth': 2, 'rf_max_features': None}\n",
      "Params of trial 14: {'rf_n_estimators': 59, 'rf_max_depth': 3, 'rf_max_features': None}\n",
      "Params of trial 15: {'rf_n_estimators': 137, 'rf_max_depth': 3, 'rf_max_features': None}\n",
      "Params of trial 16: {'rf_n_estimators': 139, 'rf_max_depth': 3, 'rf_max_features': None}\n",
      "Params of trial 17: {'rf_n_estimators': 48, 'rf_max_depth': 3, 'rf_max_features': None}\n",
      "Params of trial 18: {'rf_n_estimators': 12, 'rf_max_depth': 3, 'rf_max_features': None}\n",
      "Params of trial 19: {'rf_n_estimators': 62, 'rf_max_depth': 3, 'rf_max_features': None}\n",
      "Params of trial 20: {'rf_n_estimators': 133, 'rf_max_depth': 3, 'rf_max_features': None}\n",
      "Params of trial 21: {'rf_n_estimators': 44, 'rf_max_depth': 2, 'rf_max_features': None}\n",
      "Params of trial 22: {'rf_n_estimators': 71, 'rf_max_depth': 3, 'rf_max_features': None}\n",
      "Params of trial 23: {'rf_n_estimators': 144, 'rf_max_depth': 2, 'rf_max_features': None}\n",
      "Params of trial 24: {'rf_n_estimators': 19, 'rf_max_depth': 2, 'rf_max_features': None}\n",
      "Params of trial 25: {'rf_n_estimators': 12, 'rf_max_depth': 3, 'rf_max_features': None}\n",
      "Params of trial 26: {'rf_n_estimators': 199, 'rf_max_depth': 2, 'rf_max_features': None}\n",
      "Params of trial 27: {'rf_n_estimators': 30, 'rf_max_depth': 3, 'rf_max_features': None}\n",
      "Params of trial 28: {'rf_n_estimators': 11, 'rf_max_depth': 2, 'rf_max_features': None}\n",
      "Params of trial 29: {'rf_n_estimators': 59, 'rf_max_depth': 2, 'rf_max_features': None}\n",
      "Params of trial 30: {'rf_n_estimators': 17, 'rf_max_depth': 2, 'rf_max_features': None}\n",
      "Params of trial 31: {'rf_n_estimators': 138, 'rf_max_depth': 3, 'rf_max_features': None}\n",
      "Params of trial 32: {'rf_n_estimators': 36, 'rf_max_depth': 2, 'rf_max_features': None}\n",
      "Params of trial 33: {'rf_n_estimators': 200, 'rf_max_depth': 3, 'rf_max_features': None}\n",
      "Params of trial 34: {'rf_n_estimators': 37, 'rf_max_depth': 2, 'rf_max_features': None}\n",
      "Params of trial 35: {'rf_n_estimators': 11, 'rf_max_depth': 3, 'rf_max_features': None}\n",
      "Params of trial 36: {'rf_n_estimators': 64, 'rf_max_depth': 2, 'rf_max_features': None}\n",
      "Params of trial 37: {'rf_n_estimators': 89, 'rf_max_depth': 3, 'rf_max_features': None}\n",
      "Params of trial 38: {'rf_n_estimators': 124, 'rf_max_depth': 2, 'rf_max_features': None}\n",
      "Params of trial 39: {'rf_n_estimators': 174, 'rf_max_depth': 2, 'rf_max_features': None}\n",
      "Params of trial 40: {'rf_n_estimators': 87, 'rf_max_depth': 3, 'rf_max_features': None}\n",
      "Params of trial 41: {'rf_n_estimators': 182, 'rf_max_depth': 3, 'rf_max_features': None}\n",
      "Params of trial 42: {'rf_n_estimators': 49, 'rf_max_depth': 3, 'rf_max_features': None}\n",
      "Params of trial 43: {'rf_n_estimators': 69, 'rf_max_depth': 3, 'rf_max_features': None}\n",
      "Params of trial 44: {'rf_n_estimators': 113, 'rf_max_depth': 3, 'rf_max_features': None}\n",
      "Params of trial 45: {'rf_n_estimators': 70, 'rf_max_depth': 2, 'rf_max_features': None}\n",
      "Params of trial 46: {'rf_n_estimators': 184, 'rf_max_depth': 3, 'rf_max_features': None}\n",
      "Params of trial 47: {'rf_n_estimators': 104, 'rf_max_depth': 2, 'rf_max_features': None}\n",
      "Params of trial 48: {'rf_n_estimators': 56, 'rf_max_depth': 3, 'rf_max_features': None}\n",
      "Params of trial 49: {'rf_n_estimators': 200, 'rf_max_depth': 3, 'rf_max_features': None}\n",
      "Params for classifier xgb\n",
      "Params of trial 0: {'xgb_eta': 0.4866884745407175, 'xgb_gamma': 3, 'xgb_min_child_weight': 0.3139188198895282, 'xgb_subsample': 0.9968620484249069, 'xgb_max_leaves': 30}\n",
      "Params of trial 1: {'xgb_eta': 0.00977304612753993, 'xgb_gamma': 43, 'xgb_min_child_weight': 0.3988518143670283, 'xgb_subsample': 0.955020504786571, 'xgb_max_leaves': 96}\n",
      "Params of trial 2: {'xgb_eta': 0.0070331377750884605, 'xgb_gamma': 26, 'xgb_min_child_weight': 3.341844980607356, 'xgb_subsample': 0.550173932445398, 'xgb_max_leaves': 81}\n",
      "Params of trial 3: {'xgb_eta': 0.0014186338595822967, 'xgb_gamma': 1, 'xgb_min_child_weight': 0.06465985663600637, 'xgb_subsample': 0.6026167638636324, 'xgb_max_leaves': 4}\n",
      "Params of trial 4: {'xgb_eta': 0.49850334968363236, 'xgb_gamma': 3, 'xgb_min_child_weight': 2.619982775975773, 'xgb_subsample': 0.9779611156997875, 'xgb_max_leaves': 44}\n",
      "Params of trial 5: {'xgb_eta': 0.05975616227304098, 'xgb_gamma': 2, 'xgb_min_child_weight': 2.864440349664986, 'xgb_subsample': 0.6370672970908245, 'xgb_max_leaves': 34}\n",
      "Params of trial 6: {'xgb_eta': 0.48935208028230687, 'xgb_gamma': 10, 'xgb_min_child_weight': 3.974080637224955, 'xgb_subsample': 0.5422633573409917, 'xgb_max_leaves': 0}\n",
      "Params of trial 7: {'xgb_eta': 0.007647924104056625, 'xgb_gamma': 19, 'xgb_min_child_weight': 3.8419231353548704, 'xgb_subsample': 0.9029717892017813, 'xgb_max_leaves': 75}\n",
      "Params of trial 8: {'xgb_eta': 0.43543560614461274, 'xgb_gamma': 6, 'xgb_min_child_weight': 1.2550091079954862, 'xgb_subsample': 0.1939102048213343, 'xgb_max_leaves': 16}\n",
      "Params of trial 9: {'xgb_eta': 0.3982208148685732, 'xgb_gamma': 25, 'xgb_min_child_weight': 4.896600370907754, 'xgb_subsample': 0.7789476007606969, 'xgb_max_leaves': 14}\n",
      "Params of trial 10: {'xgb_eta': 0.03423925025770555, 'xgb_gamma': 2, 'xgb_min_child_weight': 1.7193712245696318, 'xgb_subsample': 0.9128352446837569, 'xgb_max_leaves': 51}\n",
      "Params of trial 11: {'xgb_eta': 0.007125772086090318, 'xgb_gamma': 3, 'xgb_min_child_weight': 4.591209499121946, 'xgb_subsample': 0.9778523834051482, 'xgb_max_leaves': 53}\n",
      "Params of trial 12: {'xgb_eta': 0.317914771111898, 'xgb_gamma': 8, 'xgb_min_child_weight': 0.5226963094459264, 'xgb_subsample': 0.5000198282008596, 'xgb_max_leaves': 85}\n",
      "Params of trial 13: {'xgb_eta': 0.4655605293476184, 'xgb_gamma': 5, 'xgb_min_child_weight': 3.652878132651426, 'xgb_subsample': 0.4438427017131066, 'xgb_max_leaves': 12}\n",
      "Params of trial 14: {'xgb_eta': 0.009016007554172867, 'xgb_gamma': 28, 'xgb_min_child_weight': 4.607830426774771, 'xgb_subsample': 0.6429288982117303, 'xgb_max_leaves': 39}\n",
      "Params of trial 15: {'xgb_eta': 0.010132489831640501, 'xgb_gamma': 3, 'xgb_min_child_weight': 1.6077613651236637, 'xgb_subsample': 0.984892565048374, 'xgb_max_leaves': 30}\n",
      "Params of trial 16: {'xgb_eta': 0.2997267821168235, 'xgb_gamma': 20, 'xgb_min_child_weight': 3.9674120005281788, 'xgb_subsample': 0.5792829308001444, 'xgb_max_leaves': 14}\n",
      "Params of trial 17: {'xgb_eta': 0.07681356130537931, 'xgb_gamma': 1, 'xgb_min_child_weight': 4.014597997844013, 'xgb_subsample': 0.9258449547456054, 'xgb_max_leaves': 59}\n",
      "Params of trial 18: {'xgb_eta': 0.2874119503911081, 'xgb_gamma': 3, 'xgb_min_child_weight': 1.0721011949068564, 'xgb_subsample': 0.9055927595305675, 'xgb_max_leaves': 93}\n",
      "Params of trial 19: {'xgb_eta': 0.49508057085970686, 'xgb_gamma': 15, 'xgb_min_child_weight': 1.2425432773448555, 'xgb_subsample': 0.6889550203883904, 'xgb_max_leaves': 63}\n",
      "Params of trial 20: {'xgb_eta': 0.4911402830708627, 'xgb_gamma': 26, 'xgb_min_child_weight': 2.9827107931668944, 'xgb_subsample': 0.5162136105537591, 'xgb_max_leaves': 98}\n",
      "Params of trial 21: {'xgb_eta': 0.0169712683412086, 'xgb_gamma': 11, 'xgb_min_child_weight': 0.3321434095803172, 'xgb_subsample': 0.3978627473762264, 'xgb_max_leaves': 27}\n",
      "Params of trial 22: {'xgb_eta': 0.3560657135041632, 'xgb_gamma': 14, 'xgb_min_child_weight': 4.2476051751123025, 'xgb_subsample': 0.5200201988453325, 'xgb_max_leaves': 45}\n",
      "Params of trial 23: {'xgb_eta': 0.006018894976179134, 'xgb_gamma': 17, 'xgb_min_child_weight': 2.5892951197265823, 'xgb_subsample': 0.9444103480052608, 'xgb_max_leaves': 35}\n",
      "Params of trial 24: {'xgb_eta': 0.033228535320981245, 'xgb_gamma': 1, 'xgb_min_child_weight': 4.595330323860509, 'xgb_subsample': 0.545044774100428, 'xgb_max_leaves': 94}\n",
      "Params of trial 25: {'xgb_eta': 0.03973711511495537, 'xgb_gamma': 0, 'xgb_min_child_weight': 4.651092114165313, 'xgb_subsample': 0.8128824313145945, 'xgb_max_leaves': 100}\n",
      "Params of trial 26: {'xgb_eta': 0.2720572050385716, 'xgb_gamma': 4, 'xgb_min_child_weight': 3.218089194184855, 'xgb_subsample': 0.6918171782351266, 'xgb_max_leaves': 79}\n",
      "Params of trial 27: {'xgb_eta': 0.0003900832859523584, 'xgb_gamma': 19, 'xgb_min_child_weight': 4.800114809597991, 'xgb_subsample': 0.7433239689945728, 'xgb_max_leaves': 98}\n",
      "Params of trial 28: {'xgb_eta': 0.4932513447674791, 'xgb_gamma': 27, 'xgb_min_child_weight': 0.9608837996031661, 'xgb_subsample': 0.8976818275169848, 'xgb_max_leaves': 9}\n",
      "Params of trial 29: {'xgb_eta': 0.4893066258814146, 'xgb_gamma': 9, 'xgb_min_child_weight': 2.9595321516993764, 'xgb_subsample': 0.40554872359066757, 'xgb_max_leaves': 5}\n",
      "Params of trial 30: {'xgb_eta': 0.003265449942796931, 'xgb_gamma': 0, 'xgb_min_child_weight': 4.836985879703177, 'xgb_subsample': 0.11776073949906846, 'xgb_max_leaves': 100}\n",
      "Params of trial 31: {'xgb_eta': 0.40679847876710823, 'xgb_gamma': 3, 'xgb_min_child_weight': 4.434410065506324, 'xgb_subsample': 0.2226184234325238, 'xgb_max_leaves': 17}\n",
      "Params of trial 32: {'xgb_eta': 0.18335603215510887, 'xgb_gamma': 6, 'xgb_min_child_weight': 4.913039742215574, 'xgb_subsample': 0.9729118734014952, 'xgb_max_leaves': 44}\n",
      "Params of trial 33: {'xgb_eta': 0.05970050501456953, 'xgb_gamma': 0, 'xgb_min_child_weight': 0.9483798855303863, 'xgb_subsample': 0.9963692924091465, 'xgb_max_leaves': 99}\n",
      "Params of trial 34: {'xgb_eta': 0.002498033601841143, 'xgb_gamma': 32, 'xgb_min_child_weight': 2.1191352046652847, 'xgb_subsample': 0.5428483852226101, 'xgb_max_leaves': 72}\n",
      "Params of trial 35: {'xgb_eta': 0.1813784568522766, 'xgb_gamma': 4, 'xgb_min_child_weight': 1.55357654345788, 'xgb_subsample': 0.7956136731179589, 'xgb_max_leaves': 30}\n",
      "Params of trial 36: {'xgb_eta': 0.1778526006254209, 'xgb_gamma': 1, 'xgb_min_child_weight': 1.2726937466883554, 'xgb_subsample': 0.9966099252482853, 'xgb_max_leaves': 3}\n",
      "Params of trial 37: {'xgb_eta': 0.1610498401119339, 'xgb_gamma': 3, 'xgb_min_child_weight': 1.2643755831628716, 'xgb_subsample': 0.6884941621175681, 'xgb_max_leaves': 40}\n",
      "Params of trial 38: {'xgb_eta': 0.20624184331537415, 'xgb_gamma': 2, 'xgb_min_child_weight': 4.808944447764494, 'xgb_subsample': 0.6677683855630706, 'xgb_max_leaves': 5}\n",
      "Params of trial 39: {'xgb_eta': 0.22427047862804989, 'xgb_gamma': 3, 'xgb_min_child_weight': 0.6800689959518219, 'xgb_subsample': 0.9033074525896915, 'xgb_max_leaves': 97}\n",
      "Params of trial 40: {'xgb_eta': 0.21521535215127513, 'xgb_gamma': 3, 'xgb_min_child_weight': 0.7605449682192084, 'xgb_subsample': 0.6952390818056894, 'xgb_max_leaves': 73}\n",
      "Params of trial 41: {'xgb_eta': 0.03667548538470472, 'xgb_gamma': 2, 'xgb_min_child_weight': 4.988759057946642, 'xgb_subsample': 0.5220494165222784, 'xgb_max_leaves': 46}\n",
      "Params of trial 42: {'xgb_eta': 0.3627742955095114, 'xgb_gamma': 6, 'xgb_min_child_weight': 0.30733548313869596, 'xgb_subsample': 0.6653435168171354, 'xgb_max_leaves': 2}\n",
      "Params of trial 43: {'xgb_eta': 0.4398493531551928, 'xgb_gamma': 7, 'xgb_min_child_weight': 1.0074647394131713, 'xgb_subsample': 0.5253008347851936, 'xgb_max_leaves': 68}\n",
      "Params of trial 44: {'xgb_eta': 0.34879667664594594, 'xgb_gamma': 4, 'xgb_min_child_weight': 3.1381869079718157, 'xgb_subsample': 0.12276086658595113, 'xgb_max_leaves': 35}\n",
      "Params of trial 45: {'xgb_eta': 0.0810474118550597, 'xgb_gamma': 25, 'xgb_min_child_weight': 0.46932251460991337, 'xgb_subsample': 0.616331154713068, 'xgb_max_leaves': 43}\n",
      "Params of trial 46: {'xgb_eta': 0.4419219179340464, 'xgb_gamma': 23, 'xgb_min_child_weight': 0.15900296233525846, 'xgb_subsample': 0.6636161089679637, 'xgb_max_leaves': 9}\n",
      "Params of trial 47: {'xgb_eta': 0.011725414996640482, 'xgb_gamma': 48, 'xgb_min_child_weight': 0.2607773833805206, 'xgb_subsample': 0.6201533393255981, 'xgb_max_leaves': 100}\n",
      "Params of trial 48: {'xgb_eta': 0.0029417412315181357, 'xgb_gamma': 23, 'xgb_min_child_weight': 3.271837639482116, 'xgb_subsample': 0.4174698419950811, 'xgb_max_leaves': 60}\n",
      "Params of trial 49: {'xgb_eta': 0.26692898370542506, 'xgb_gamma': 5, 'xgb_min_child_weight': 0.1535706714004842, 'xgb_subsample': 0.33389303311016605, 'xgb_max_leaves': 51}\n"
     ]
    }
   ],
   "source": [
    "for key, value in params_dict.items():\n",
    "    print(f'Params for classifier {key}')\n",
    "    for idx, param in enumerate(value):\n",
    "        print(f'Params of trial {idx}: {param}')"
   ]
  },
  {
   "attachments": {},
   "cell_type": "markdown",
   "metadata": {
    "collapsed": false
   },
   "source": [
    "## Check MCC scores to compare algorithms"
   ]
  },
  {
   "cell_type": "code",
   "execution_count": 22,
   "metadata": {
    "collapsed": false,
    "pycharm": {
     "name": "#%%\n"
    }
   },
   "outputs": [
    {
     "data": {
      "image/png": "[encoded data removed]",
      "text/plain": [
       "<Figure size 576x504 with 1 Axes>"
      ]
     },
     "metadata": {
      "needs_background": "light"
     },
     "output_type": "display_data"
    },
    {
     "data": {
      "image/png": "[encoded data removed]",
      "text/plain": [
       "<Figure size 576x504 with 1 Axes>"
      ]
     },
     "metadata": {
      "needs_background": "light"
     },
     "output_type": "display_data"
    },
    {
     "data": {
      "text/plain": [
       "{'svm': 0.8752195565992446,\n",
       " 'lr': 0.7930343474442482,\n",
       " 'gnb': 0.861153023732194,\n",
       " 'rf': 0.8696916592542946,\n",
       " 'xgb': 0.8739278129218653}"
      ]
     },
     "execution_count": 22,
     "metadata": {},
     "output_type": "execute_result"
    }
   ],
   "source": [
    "mccs_dict = compare_mean_mccs(results)\n",
    "mccs_dict"
   ]
  },
  {
   "attachments": {},
   "cell_type": "markdown",
   "metadata": {
    "collapsed": false
   },
   "source": [
    "## Check boxplots of all other collected metrics for all classifiers"
   ]
  },
  {
   "cell_type": "code",
   "execution_count": 26,
   "metadata": {},
   "outputs": [
    {
     "data": {
      "text/html": [
       "<div>\n",
       "<style scoped>\n",
       "    .dataframe tbody tr th:only-of-type {\n",
       "        vertical-align: middle;\n",
       "    }\n",
       "\n",
       "    .dataframe tbody tr th {\n",
       "        vertical-align: top;\n",
       "    }\n",
       "\n",
       "    .dataframe thead th {\n",
       "        text-align: right;\n",
       "    }\n",
       "</style>\n",
       "<table border=\"1\" class=\"dataframe\">\n",
       "  <thead>\n",
       "    <tr style=\"text-align: right;\">\n",
       "      <th></th>\n",
       "      <th>Classifier</th>\n",
       "      <th>Metric</th>\n",
       "      <th>Outer Loop</th>\n",
       "      <th>Value</th>\n",
       "    </tr>\n",
       "  </thead>\n",
       "  <tbody>\n",
       "    <tr>\n",
       "      <th>0</th>\n",
       "      <td>svm</td>\n",
       "      <td>F1_weighted</td>\n",
       "      <td>1</td>\n",
       "      <td>0.925487</td>\n",
       "    </tr>\n",
       "    <tr>\n",
       "      <th>1</th>\n",
       "      <td>svm</td>\n",
       "      <td>F1_weighted</td>\n",
       "      <td>2</td>\n",
       "      <td>0.927339</td>\n",
       "    </tr>\n",
       "    <tr>\n",
       "      <th>2</th>\n",
       "      <td>svm</td>\n",
       "      <td>F1_weighted</td>\n",
       "      <td>3</td>\n",
       "      <td>0.917547</td>\n",
       "    </tr>\n",
       "    <tr>\n",
       "      <th>3</th>\n",
       "      <td>svm</td>\n",
       "      <td>F1_weighted</td>\n",
       "      <td>4</td>\n",
       "      <td>0.923942</td>\n",
       "    </tr>\n",
       "    <tr>\n",
       "      <th>4</th>\n",
       "      <td>svm</td>\n",
       "      <td>F1_weighted</td>\n",
       "      <td>5</td>\n",
       "      <td>0.915813</td>\n",
       "    </tr>\n",
       "    <tr>\n",
       "      <th>...</th>\n",
       "      <td>...</td>\n",
       "      <td>...</td>\n",
       "      <td>...</td>\n",
       "      <td>...</td>\n",
       "    </tr>\n",
       "    <tr>\n",
       "      <th>595</th>\n",
       "      <td>xgb</td>\n",
       "      <td>Balanced_Accuracy</td>\n",
       "      <td>11</td>\n",
       "      <td>0.912026</td>\n",
       "    </tr>\n",
       "    <tr>\n",
       "      <th>596</th>\n",
       "      <td>xgb</td>\n",
       "      <td>Balanced_Accuracy</td>\n",
       "      <td>12</td>\n",
       "      <td>0.885648</td>\n",
       "    </tr>\n",
       "    <tr>\n",
       "      <th>597</th>\n",
       "      <td>xgb</td>\n",
       "      <td>Balanced_Accuracy</td>\n",
       "      <td>13</td>\n",
       "      <td>0.889074</td>\n",
       "    </tr>\n",
       "    <tr>\n",
       "      <th>598</th>\n",
       "      <td>xgb</td>\n",
       "      <td>Balanced_Accuracy</td>\n",
       "      <td>14</td>\n",
       "      <td>0.876975</td>\n",
       "    </tr>\n",
       "    <tr>\n",
       "      <th>599</th>\n",
       "      <td>xgb</td>\n",
       "      <td>Balanced_Accuracy</td>\n",
       "      <td>15</td>\n",
       "      <td>NaN</td>\n",
       "    </tr>\n",
       "  </tbody>\n",
       "</table>\n",
       "<p>600 rows × 4 columns</p>\n",
       "</div>"
      ],
      "text/plain": [
       "    Classifier             Metric  Outer Loop     Value\n",
       "0          svm        F1_weighted           1  0.925487\n",
       "1          svm        F1_weighted           2  0.927339\n",
       "2          svm        F1_weighted           3  0.917547\n",
       "3          svm        F1_weighted           4  0.923942\n",
       "4          svm        F1_weighted           5  0.915813\n",
       "..         ...                ...         ...       ...\n",
       "595        xgb  Balanced_Accuracy          11  0.912026\n",
       "596        xgb  Balanced_Accuracy          12  0.885648\n",
       "597        xgb  Balanced_Accuracy          13  0.889074\n",
       "598        xgb  Balanced_Accuracy          14  0.876975\n",
       "599        xgb  Balanced_Accuracy          15       NaN\n",
       "\n",
       "[600 rows x 4 columns]"
      ]
     },
     "execution_count": 26,
     "metadata": {},
     "output_type": "execute_result"
    }
   ],
   "source": [
    "data = []\n",
    "\n",
    "for classifier, df in results.items():\n",
    "    for metric in df.columns:\n",
    "        for outer_loop, value in enumerate(df[metric], start=1):\n",
    "            data.append([classifier, metric, outer_loop, value])\n",
    "\n",
    "results_df = pd.DataFrame(data, columns=['Classifier', 'Metric', 'Outer Loop', 'Value'])\n",
    "results_df"
   ]
  },
  {
   "cell_type": "code",
   "execution_count": 27,
   "metadata": {},
   "outputs": [
    {
     "data": {
      "image/png": "[encoded data removed]",
      "text/plain": [
       "<Figure size 1728x576 with 1 Axes>"
      ]
     },
     "metadata": {},
     "output_type": "display_data"
    }
   ],
   "source": [
    "plot_metric_boxplots(results_df)"
   ]
  },
  {
   "cell_type": "code",
   "execution_count": null,
   "metadata": {
    "collapsed": false,
    "pycharm": {
     "name": "#%%\n"
    }
   },
   "outputs": [],
   "source": [
    "#plot_clfs_metrics(results)"
   ]
  },
  {
   "attachments": {},
   "cell_type": "markdown",
   "metadata": {},
   "source": [
    "# 5-fold cross validation"
   ]
  },
  {
   "cell_type": "code",
   "execution_count": 35,
   "metadata": {},
   "outputs": [],
   "source": [
    "import optuna\n",
    "from optuna.samplers import TPESampler\n",
    "from sklearn.svm import SVC\n",
    "from sklearn.metrics import make_scorer, matthews_corrcoef\n",
    "from sklearn.model_selection import cross_val_score, StratifiedKFold\n",
    "from sklearn.multiclass import OneVsRestClassifier"
   ]
  },
  {
   "cell_type": "code",
   "execution_count": 38,
   "metadata": {},
   "outputs": [],
   "source": [
    "def objective(trial, X, y):\n",
    "    # Define the search space for hyperparameters\n",
    "    c_svm = trial.suggest_float('c_svm', 0.001, 1, log=True)\n",
    "    gamma_svm = trial.suggest_float('gamma_svm', 0.001, 1, log=True)\n",
    "\n",
    "    # Create the Random Forest Classifier with the suggested hyperparameters\n",
    "    seed = 42\n",
    "    clf = OneVsRestClassifier(SVC(kernel='rbf', gamma=gamma_svm, C=c_svm, random_state=seed, max_iter=1000),\n",
    "                                        n_jobs=-1)\n",
    "\n",
    "    mcc_scorer = make_scorer(matthews_corrcoef)\n",
    "\n",
    "    if trial.should_prune():\n",
    "        raise optuna.TrialPruned()\n",
    "\n",
    "    svd = TruncatedSVD(n_components=2).fit(X)\n",
    "    X = svd.transform(X)\n",
    "    # Perform 5-fold cross-validation\n",
    "    cv = StratifiedKFold(n_splits=5, shuffle=True, random_state=42)\n",
    "    scores = cross_val_score(clf, X, y, cv=cv, scoring=mcc_scorer)\n",
    "\n",
    "    # Return the mean accuracy score as the objective value to be maximized\n",
    "    return scores.mean()\n"
   ]
  },
  {
   "cell_type": "code",
   "execution_count": 39,
   "metadata": {},
   "outputs": [
    {
     "data": {
      "application/vnd.jupyter.widget-view+json": {
       "model_id": "f2ad502e89c74167a5d73442c8167654",
       "version_major": 2,
       "version_minor": 0
      },
      "text/plain": [
       "  0%|          | 0/50 [00:00<?, ?it/s]"
      ]
     },
     "metadata": {},
     "output_type": "display_data"
    },
    {
     "name": "stdout",
     "output_type": "stream",
     "text": [
      "Best Hyperparameters: {'c_svm': 0.7322039185738017, 'gamma_svm': 0.15668686290559666}\n",
      "Best Value: 0.8764338592975459\n"
     ]
    }
   ],
   "source": [
    "final_objective = lambda trial: objective(trial, X, y)\n",
    "sampler = TPESampler(seed=42)\n",
    "study = optuna.create_study(direction='maximize', sampler=sampler)\n",
    "study.optimize(final_objective, n_trials=50, show_progress_bar=True, n_jobs=-1)\n",
    "\n",
    "best_params = study.best_params\n",
    "best_value = study.best_value\n",
    "\n",
    "print(\"Best Hyperparameters:\", best_params)\n",
    "print(\"Best Value:\", best_value)\n"
   ]
  },
  {
   "attachments": {},
   "cell_type": "markdown",
   "metadata": {},
   "source": [
    "# Build final model"
   ]
  },
  {
   "cell_type": "code",
   "execution_count": 44,
   "metadata": {},
   "outputs": [
    {
     "data": {
      "text/plain": [
       "OneVsRestClassifier(estimator=SVC(C=0.7322039185738017,\n",
       "                                  gamma=0.15668686290559666, max_iter=1000,\n",
       "                                  random_state=42),\n",
       "                    n_jobs=-1)"
      ]
     },
     "execution_count": 44,
     "metadata": {},
     "output_type": "execute_result"
    }
   ],
   "source": [
    "seed = 42\n",
    "final_model = OneVsRestClassifier(SVC(kernel='rbf', gamma=best_params['gamma_svm'], C=best_params['c_svm'], \n",
    "random_state=seed, max_iter=1000), n_jobs=-1)\n",
    "\n",
    "svd = TruncatedSVD(n_components=2, random_state=seed).fit(X)\n",
    "X_svd = svd.transform(X)\n",
    "final_model.fit(X_svd, y)\n"
   ]
  },
  {
   "attachments": {},
   "cell_type": "markdown",
   "metadata": {},
   "source": [
    "# Test on held-out test set"
   ]
  },
  {
   "cell_type": "code",
   "execution_count": 41,
   "metadata": {},
   "outputs": [],
   "source": [
    "from sklearn.metrics import confusion_matrix, classification_report"
   ]
  },
  {
   "cell_type": "code",
   "execution_count": 45,
   "metadata": {},
   "outputs": [
    {
     "data": {
      "text/html": [
       "<div>\n",
       "<style scoped>\n",
       "    .dataframe tbody tr th:only-of-type {\n",
       "        vertical-align: middle;\n",
       "    }\n",
       "\n",
       "    .dataframe tbody tr th {\n",
       "        vertical-align: top;\n",
       "    }\n",
       "\n",
       "    .dataframe thead th {\n",
       "        text-align: right;\n",
       "    }\n",
       "</style>\n",
       "<table border=\"1\" class=\"dataframe\">\n",
       "  <thead>\n",
       "    <tr style=\"text-align: right;\">\n",
       "      <th></th>\n",
       "      <th>ORM1</th>\n",
       "      <th>ORM2</th>\n",
       "      <th>MMP3</th>\n",
       "      <th>FDCSP</th>\n",
       "      <th>S100A7</th>\n",
       "      <th>FABP7</th>\n",
       "      <th>KRT81</th>\n",
       "      <th>DCN</th>\n",
       "      <th>IL1B</th>\n",
       "      <th>AREG</th>\n",
       "      <th>...</th>\n",
       "      <th>RP11.597D13.9</th>\n",
       "      <th>MRGPRX4</th>\n",
       "      <th>C2CD4B</th>\n",
       "      <th>CTD.2012K14.8</th>\n",
       "      <th>CCR10</th>\n",
       "      <th>FAS</th>\n",
       "      <th>ADORA2B</th>\n",
       "      <th>PRMT9</th>\n",
       "      <th>PHGDH</th>\n",
       "      <th>HOXA4</th>\n",
       "    </tr>\n",
       "  </thead>\n",
       "  <tbody>\n",
       "    <tr>\n",
       "      <th>0</th>\n",
       "      <td>0.000000</td>\n",
       "      <td>0.000000</td>\n",
       "      <td>3.049981</td>\n",
       "      <td>0.0</td>\n",
       "      <td>0.000000</td>\n",
       "      <td>0.000000</td>\n",
       "      <td>0.000000</td>\n",
       "      <td>0.0</td>\n",
       "      <td>0.000000</td>\n",
       "      <td>0.000000</td>\n",
       "      <td>...</td>\n",
       "      <td>0.0</td>\n",
       "      <td>0.0</td>\n",
       "      <td>0.0</td>\n",
       "      <td>0.0</td>\n",
       "      <td>0.0</td>\n",
       "      <td>0.000000</td>\n",
       "      <td>0.0</td>\n",
       "      <td>0.0</td>\n",
       "      <td>1.354175</td>\n",
       "      <td>0.000000</td>\n",
       "    </tr>\n",
       "    <tr>\n",
       "      <th>1</th>\n",
       "      <td>0.000000</td>\n",
       "      <td>0.000000</td>\n",
       "      <td>0.000000</td>\n",
       "      <td>0.0</td>\n",
       "      <td>0.000000</td>\n",
       "      <td>1.085195</td>\n",
       "      <td>0.000000</td>\n",
       "      <td>0.0</td>\n",
       "      <td>0.000000</td>\n",
       "      <td>0.000000</td>\n",
       "      <td>...</td>\n",
       "      <td>0.0</td>\n",
       "      <td>0.0</td>\n",
       "      <td>0.0</td>\n",
       "      <td>0.0</td>\n",
       "      <td>0.0</td>\n",
       "      <td>0.000000</td>\n",
       "      <td>0.0</td>\n",
       "      <td>0.0</td>\n",
       "      <td>0.000000</td>\n",
       "      <td>0.000000</td>\n",
       "    </tr>\n",
       "    <tr>\n",
       "      <th>2</th>\n",
       "      <td>0.000000</td>\n",
       "      <td>0.000000</td>\n",
       "      <td>1.196143</td>\n",
       "      <td>0.0</td>\n",
       "      <td>0.000000</td>\n",
       "      <td>0.000000</td>\n",
       "      <td>0.000000</td>\n",
       "      <td>0.0</td>\n",
       "      <td>0.000000</td>\n",
       "      <td>0.000000</td>\n",
       "      <td>...</td>\n",
       "      <td>0.0</td>\n",
       "      <td>0.0</td>\n",
       "      <td>0.0</td>\n",
       "      <td>0.0</td>\n",
       "      <td>0.0</td>\n",
       "      <td>1.725384</td>\n",
       "      <td>0.0</td>\n",
       "      <td>0.0</td>\n",
       "      <td>0.000000</td>\n",
       "      <td>0.000000</td>\n",
       "    </tr>\n",
       "    <tr>\n",
       "      <th>3</th>\n",
       "      <td>0.000000</td>\n",
       "      <td>0.000000</td>\n",
       "      <td>0.000000</td>\n",
       "      <td>0.0</td>\n",
       "      <td>0.000000</td>\n",
       "      <td>0.000000</td>\n",
       "      <td>1.383451</td>\n",
       "      <td>0.0</td>\n",
       "      <td>0.000000</td>\n",
       "      <td>0.000000</td>\n",
       "      <td>...</td>\n",
       "      <td>0.0</td>\n",
       "      <td>0.0</td>\n",
       "      <td>0.0</td>\n",
       "      <td>0.0</td>\n",
       "      <td>0.0</td>\n",
       "      <td>1.383451</td>\n",
       "      <td>0.0</td>\n",
       "      <td>0.0</td>\n",
       "      <td>2.299172</td>\n",
       "      <td>0.000000</td>\n",
       "    </tr>\n",
       "    <tr>\n",
       "      <th>4</th>\n",
       "      <td>0.000000</td>\n",
       "      <td>0.000000</td>\n",
       "      <td>4.395552</td>\n",
       "      <td>0.0</td>\n",
       "      <td>0.000000</td>\n",
       "      <td>0.000000</td>\n",
       "      <td>0.000000</td>\n",
       "      <td>0.0</td>\n",
       "      <td>1.051711</td>\n",
       "      <td>0.000000</td>\n",
       "      <td>...</td>\n",
       "      <td>0.0</td>\n",
       "      <td>0.0</td>\n",
       "      <td>0.0</td>\n",
       "      <td>0.0</td>\n",
       "      <td>0.0</td>\n",
       "      <td>0.000000</td>\n",
       "      <td>0.0</td>\n",
       "      <td>0.0</td>\n",
       "      <td>1.051711</td>\n",
       "      <td>0.000000</td>\n",
       "    </tr>\n",
       "    <tr>\n",
       "      <th>...</th>\n",
       "      <td>...</td>\n",
       "      <td>...</td>\n",
       "      <td>...</td>\n",
       "      <td>...</td>\n",
       "      <td>...</td>\n",
       "      <td>...</td>\n",
       "      <td>...</td>\n",
       "      <td>...</td>\n",
       "      <td>...</td>\n",
       "      <td>...</td>\n",
       "      <td>...</td>\n",
       "      <td>...</td>\n",
       "      <td>...</td>\n",
       "      <td>...</td>\n",
       "      <td>...</td>\n",
       "      <td>...</td>\n",
       "      <td>...</td>\n",
       "      <td>...</td>\n",
       "      <td>...</td>\n",
       "      <td>...</td>\n",
       "      <td>...</td>\n",
       "    </tr>\n",
       "    <tr>\n",
       "      <th>1175</th>\n",
       "      <td>0.000000</td>\n",
       "      <td>0.000000</td>\n",
       "      <td>0.000000</td>\n",
       "      <td>0.0</td>\n",
       "      <td>0.000000</td>\n",
       "      <td>0.000000</td>\n",
       "      <td>0.000000</td>\n",
       "      <td>0.0</td>\n",
       "      <td>0.000000</td>\n",
       "      <td>0.723687</td>\n",
       "      <td>...</td>\n",
       "      <td>0.0</td>\n",
       "      <td>0.0</td>\n",
       "      <td>0.0</td>\n",
       "      <td>0.0</td>\n",
       "      <td>0.0</td>\n",
       "      <td>0.000000</td>\n",
       "      <td>0.0</td>\n",
       "      <td>0.0</td>\n",
       "      <td>0.000000</td>\n",
       "      <td>0.000000</td>\n",
       "    </tr>\n",
       "    <tr>\n",
       "      <th>1176</th>\n",
       "      <td>0.000000</td>\n",
       "      <td>0.000000</td>\n",
       "      <td>0.000000</td>\n",
       "      <td>0.0</td>\n",
       "      <td>1.565114</td>\n",
       "      <td>2.587423</td>\n",
       "      <td>0.000000</td>\n",
       "      <td>0.0</td>\n",
       "      <td>2.587423</td>\n",
       "      <td>0.000000</td>\n",
       "      <td>...</td>\n",
       "      <td>0.0</td>\n",
       "      <td>0.0</td>\n",
       "      <td>0.0</td>\n",
       "      <td>0.0</td>\n",
       "      <td>0.0</td>\n",
       "      <td>0.000000</td>\n",
       "      <td>0.0</td>\n",
       "      <td>0.0</td>\n",
       "      <td>0.000000</td>\n",
       "      <td>0.000000</td>\n",
       "    </tr>\n",
       "    <tr>\n",
       "      <th>1177</th>\n",
       "      <td>0.000000</td>\n",
       "      <td>0.000000</td>\n",
       "      <td>0.000000</td>\n",
       "      <td>0.0</td>\n",
       "      <td>1.202621</td>\n",
       "      <td>0.000000</td>\n",
       "      <td>0.000000</td>\n",
       "      <td>0.0</td>\n",
       "      <td>0.000000</td>\n",
       "      <td>0.000000</td>\n",
       "      <td>...</td>\n",
       "      <td>0.0</td>\n",
       "      <td>0.0</td>\n",
       "      <td>0.0</td>\n",
       "      <td>0.0</td>\n",
       "      <td>0.0</td>\n",
       "      <td>1.733011</td>\n",
       "      <td>0.0</td>\n",
       "      <td>0.0</td>\n",
       "      <td>0.000000</td>\n",
       "      <td>0.000000</td>\n",
       "    </tr>\n",
       "    <tr>\n",
       "      <th>1178</th>\n",
       "      <td>0.000000</td>\n",
       "      <td>0.000000</td>\n",
       "      <td>0.000000</td>\n",
       "      <td>0.0</td>\n",
       "      <td>2.142939</td>\n",
       "      <td>1.147353</td>\n",
       "      <td>0.000000</td>\n",
       "      <td>0.0</td>\n",
       "      <td>0.000000</td>\n",
       "      <td>0.000000</td>\n",
       "      <td>...</td>\n",
       "      <td>0.0</td>\n",
       "      <td>0.0</td>\n",
       "      <td>0.0</td>\n",
       "      <td>0.0</td>\n",
       "      <td>0.0</td>\n",
       "      <td>0.000000</td>\n",
       "      <td>0.0</td>\n",
       "      <td>0.0</td>\n",
       "      <td>0.000000</td>\n",
       "      <td>0.729924</td>\n",
       "    </tr>\n",
       "    <tr>\n",
       "      <th>1179</th>\n",
       "      <td>5.493661</td>\n",
       "      <td>2.976886</td>\n",
       "      <td>0.000000</td>\n",
       "      <td>0.0</td>\n",
       "      <td>0.000000</td>\n",
       "      <td>0.000000</td>\n",
       "      <td>0.000000</td>\n",
       "      <td>0.0</td>\n",
       "      <td>0.000000</td>\n",
       "      <td>0.000000</td>\n",
       "      <td>...</td>\n",
       "      <td>0.0</td>\n",
       "      <td>0.0</td>\n",
       "      <td>0.0</td>\n",
       "      <td>0.0</td>\n",
       "      <td>0.0</td>\n",
       "      <td>0.807267</td>\n",
       "      <td>0.0</td>\n",
       "      <td>0.0</td>\n",
       "      <td>0.807267</td>\n",
       "      <td>0.000000</td>\n",
       "    </tr>\n",
       "  </tbody>\n",
       "</table>\n",
       "<p>1180 rows × 2000 columns</p>\n",
       "</div>"
      ],
      "text/plain": [
       "          ORM1      ORM2      MMP3  FDCSP    S100A7     FABP7     KRT81  DCN  \\\n",
       "0     0.000000  0.000000  3.049981    0.0  0.000000  0.000000  0.000000  0.0   \n",
       "1     0.000000  0.000000  0.000000    0.0  0.000000  1.085195  0.000000  0.0   \n",
       "2     0.000000  0.000000  1.196143    0.0  0.000000  0.000000  0.000000  0.0   \n",
       "3     0.000000  0.000000  0.000000    0.0  0.000000  0.000000  1.383451  0.0   \n",
       "4     0.000000  0.000000  4.395552    0.0  0.000000  0.000000  0.000000  0.0   \n",
       "...        ...       ...       ...    ...       ...       ...       ...  ...   \n",
       "1175  0.000000  0.000000  0.000000    0.0  0.000000  0.000000  0.000000  0.0   \n",
       "1176  0.000000  0.000000  0.000000    0.0  1.565114  2.587423  0.000000  0.0   \n",
       "1177  0.000000  0.000000  0.000000    0.0  1.202621  0.000000  0.000000  0.0   \n",
       "1178  0.000000  0.000000  0.000000    0.0  2.142939  1.147353  0.000000  0.0   \n",
       "1179  5.493661  2.976886  0.000000    0.0  0.000000  0.000000  0.000000  0.0   \n",
       "\n",
       "          IL1B      AREG  ...  RP11.597D13.9  MRGPRX4  C2CD4B  CTD.2012K14.8  \\\n",
       "0     0.000000  0.000000  ...            0.0      0.0     0.0            0.0   \n",
       "1     0.000000  0.000000  ...            0.0      0.0     0.0            0.0   \n",
       "2     0.000000  0.000000  ...            0.0      0.0     0.0            0.0   \n",
       "3     0.000000  0.000000  ...            0.0      0.0     0.0            0.0   \n",
       "4     1.051711  0.000000  ...            0.0      0.0     0.0            0.0   \n",
       "...        ...       ...  ...            ...      ...     ...            ...   \n",
       "1175  0.000000  0.723687  ...            0.0      0.0     0.0            0.0   \n",
       "1176  2.587423  0.000000  ...            0.0      0.0     0.0            0.0   \n",
       "1177  0.000000  0.000000  ...            0.0      0.0     0.0            0.0   \n",
       "1178  0.000000  0.000000  ...            0.0      0.0     0.0            0.0   \n",
       "1179  0.000000  0.000000  ...            0.0      0.0     0.0            0.0   \n",
       "\n",
       "      CCR10       FAS  ADORA2B  PRMT9     PHGDH     HOXA4  \n",
       "0       0.0  0.000000      0.0    0.0  1.354175  0.000000  \n",
       "1       0.0  0.000000      0.0    0.0  0.000000  0.000000  \n",
       "2       0.0  1.725384      0.0    0.0  0.000000  0.000000  \n",
       "3       0.0  1.383451      0.0    0.0  2.299172  0.000000  \n",
       "4       0.0  0.000000      0.0    0.0  1.051711  0.000000  \n",
       "...     ...       ...      ...    ...       ...       ...  \n",
       "1175    0.0  0.000000      0.0    0.0  0.000000  0.000000  \n",
       "1176    0.0  0.000000      0.0    0.0  0.000000  0.000000  \n",
       "1177    0.0  1.733011      0.0    0.0  0.000000  0.000000  \n",
       "1178    0.0  0.000000      0.0    0.0  0.000000  0.729924  \n",
       "1179    0.0  0.807267      0.0    0.0  0.807267  0.000000  \n",
       "\n",
       "[1180 rows x 2000 columns]"
      ]
     },
     "execution_count": 45,
     "metadata": {},
     "output_type": "execute_result"
    }
   ],
   "source": [
    "X_test"
   ]
  },
  {
   "cell_type": "code",
   "execution_count": 46,
   "metadata": {},
   "outputs": [],
   "source": [
    "X_test_svd = svd.transform(X_test)"
   ]
  },
  {
   "cell_type": "code",
   "execution_count": 47,
   "metadata": {},
   "outputs": [
    {
     "data": {
      "image/png": "[encoded data removed]",
      "text/plain": [
       "<Figure size 576x432 with 1 Axes>"
      ]
     },
     "metadata": {},
     "output_type": "display_data"
    },
    {
     "name": "stdout",
     "output_type": "stream",
     "text": [
      "Classification Report:\n",
      "              precision    recall  f1-score   support\n",
      "\n",
      "           0       0.94      0.93      0.94       579\n",
      "           1       0.98      0.96      0.97       429\n",
      "           2       0.77      0.80      0.78       172\n",
      "\n",
      "    accuracy                           0.93      1180\n",
      "   macro avg       0.89      0.90      0.90      1180\n",
      "weighted avg       0.93      0.93      0.93      1180\n",
      "\n"
     ]
    }
   ],
   "source": [
    "predictions = final_model.predict(X_test_svd)\n",
    "\n",
    "cm = confusion_matrix(y_test, predictions)\n",
    "\n",
    "# Plot the confusion matrix\n",
    "plt.figure(figsize=(8, 6))\n",
    "sns.heatmap(cm, annot=True, fmt='d', cmap='Blues', cbar=False)\n",
    "plt.xlabel('Predicted')\n",
    "plt.ylabel('True')\n",
    "plt.title('Confusion Matrix')\n",
    "plt.show()\n",
    "\n",
    "# Generate the classification report\n",
    "report = classification_report(y_test, predictions)\n",
    "\n",
    "print(\"Classification Report:\")\n",
    "print(report)"
   ]
  },
  {
   "attachments": {},
   "cell_type": "markdown",
   "metadata": {},
   "source": [
    "## XGBoost"
   ]
  },
  {
   "cell_type": "code",
   "execution_count": 50,
   "metadata": {},
   "outputs": [],
   "source": [
    "from xgboost import XGBClassifier"
   ]
  },
  {
   "cell_type": "code",
   "execution_count": 51,
   "metadata": {},
   "outputs": [],
   "source": [
    "def objective_xgb(trial, X, y):\n",
    "    # Define the search space for hyperparameters\n",
    "    xgb_eta = trial.suggest_float('xgb_eta', 0.0, 0.5)\n",
    "    xgb_gamma = trial.suggest_int('xgb_gamma', 0, 50)\n",
    "    xgb_min_child_weight = trial.suggest_float('xgb_min_child_weight', 0, 5)\n",
    "    xgb_subsample = trial.suggest_float('xgb_subsample', 0.1, 1.0)\n",
    "    xgb_max_leaves = trial.suggest_int('xgb_max_leaves', 0, 100)\n",
    "\n",
    "    # Create the Random Forest Classifier with the suggested hyperparameters\n",
    "    seed = 42\n",
    "    clf = XGBClassifier(booster='gbtree', reg_lambda=0.1, eta=xgb_eta, gamma=xgb_gamma, \n",
    "                                  min_child_weight=xgb_min_child_weight,\n",
    "                                  subsample=xgb_subsample, max_leaves=xgb_max_leaves, seed=seed)\n",
    "\n",
    "    mcc_scorer = make_scorer(matthews_corrcoef)\n",
    "\n",
    "    if trial.should_prune():\n",
    "        raise optuna.TrialPruned()\n",
    "\n",
    "    svd = TruncatedSVD(n_components=2).fit(X)\n",
    "    X = svd.transform(X)\n",
    "    # Perform 5-fold cross-validation\n",
    "    cv = StratifiedKFold(n_splits=5, shuffle=True, random_state=42)\n",
    "    scores = cross_val_score(clf, X, y, cv=cv, scoring=mcc_scorer)\n",
    "\n",
    "    # Return the mean accuracy score as the objective value to be maximized\n",
    "    return scores.mean()\n"
   ]
  },
  {
   "cell_type": "code",
   "execution_count": 52,
   "metadata": {},
   "outputs": [
    {
     "data": {
      "application/vnd.jupyter.widget-view+json": {
       "model_id": "dd3441b830a54a45a7c78a47c31e183d",
       "version_major": 2,
       "version_minor": 0
      },
      "text/plain": [
       "  0%|          | 0/50 [00:00<?, ?it/s]"
      ]
     },
     "metadata": {},
     "output_type": "display_data"
    },
    {
     "name": "stdout",
     "output_type": "stream",
     "text": [
      "Best Hyperparameters: {'xgb_eta': 0.0234649519247021, 'xgb_gamma': 0, 'xgb_min_child_weight': 2.9887336997942295, 'xgb_subsample': 0.4301948810409848, 'xgb_max_leaves': 39}\n",
      "Best Value: 0.8783474693235649\n"
     ]
    }
   ],
   "source": [
    "final_objective_xgb = lambda trial: objective_xgb(trial, X, y)\n",
    "sampler = TPESampler(seed=42)\n",
    "study_xgb = optuna.create_study(direction='maximize', sampler=sampler)\n",
    "study_xgb.optimize(final_objective_xgb, n_trials=50, show_progress_bar=True, n_jobs=-1)\n",
    "\n",
    "best_params_xgb = study_xgb.best_params\n",
    "best_value_xgb = study_xgb.best_value\n",
    "\n",
    "print(\"Best Hyperparameters:\", best_params_xgb)\n",
    "print(\"Best Value:\", best_value_xgb)\n"
   ]
  },
  {
   "cell_type": "code",
   "execution_count": 54,
   "metadata": {},
   "outputs": [
    {
     "data": {
      "text/plain": [
       "XGBClassifier(base_score=None, booster='gbtree', callbacks=None,\n",
       "              colsample_bylevel=None, colsample_bynode=None,\n",
       "              colsample_bytree=None, early_stopping_rounds=None,\n",
       "              enable_categorical=False, eta=0.0234649519247021,\n",
       "              eval_metric=None, feature_types=None, gamma=0, gpu_id=None,\n",
       "              grow_policy=None, importance_type=None,\n",
       "              interaction_constraints=None, learning_rate=None, max_bin=None,\n",
       "              max_cat_threshold=None, max_cat_to_onehot=None,\n",
       "              max_delta_step=None, max_depth=None, max_leaves=39,\n",
       "              min_child_weight=2.9887336997942295, missing=nan,\n",
       "              monotone_constraints=None, n_estimators=100, n_jobs=None,\n",
       "              num_parallel_tree=None, objective='multi:softprob', ...)"
      ]
     },
     "execution_count": 54,
     "metadata": {},
     "output_type": "execute_result"
    }
   ],
   "source": [
    "seed = 42\n",
    "final_model_xgb = XGBClassifier(booster='gbtree', reg_lambda=0.1, eta=best_params_xgb['xgb_eta'], gamma=best_params_xgb['xgb_gamma'], \n",
    "                                  min_child_weight=best_params_xgb['xgb_min_child_weight'],\n",
    "                                  subsample=best_params_xgb['xgb_subsample'], max_leaves=best_params_xgb['xgb_max_leaves'], seed=seed)\n",
    "\n",
    "svd = TruncatedSVD(n_components=2, random_state=seed).fit(X)\n",
    "X_svd = svd.transform(X)\n",
    "final_model_xgb.fit(X_svd, y)\n"
   ]
  },
  {
   "cell_type": "code",
   "execution_count": 55,
   "metadata": {},
   "outputs": [
    {
     "data": {
      "text/html": [
       "<div>\n",
       "<style scoped>\n",
       "    .dataframe tbody tr th:only-of-type {\n",
       "        vertical-align: middle;\n",
       "    }\n",
       "\n",
       "    .dataframe tbody tr th {\n",
       "        vertical-align: top;\n",
       "    }\n",
       "\n",
       "    .dataframe thead th {\n",
       "        text-align: right;\n",
       "    }\n",
       "</style>\n",
       "<table border=\"1\" class=\"dataframe\">\n",
       "  <thead>\n",
       "    <tr style=\"text-align: right;\">\n",
       "      <th></th>\n",
       "      <th>ORM1</th>\n",
       "      <th>ORM2</th>\n",
       "      <th>MMP3</th>\n",
       "      <th>FDCSP</th>\n",
       "      <th>S100A7</th>\n",
       "      <th>FABP7</th>\n",
       "      <th>KRT81</th>\n",
       "      <th>DCN</th>\n",
       "      <th>IL1B</th>\n",
       "      <th>AREG</th>\n",
       "      <th>...</th>\n",
       "      <th>RP11.597D13.9</th>\n",
       "      <th>MRGPRX4</th>\n",
       "      <th>C2CD4B</th>\n",
       "      <th>CTD.2012K14.8</th>\n",
       "      <th>CCR10</th>\n",
       "      <th>FAS</th>\n",
       "      <th>ADORA2B</th>\n",
       "      <th>PRMT9</th>\n",
       "      <th>PHGDH</th>\n",
       "      <th>HOXA4</th>\n",
       "    </tr>\n",
       "  </thead>\n",
       "  <tbody>\n",
       "    <tr>\n",
       "      <th>0</th>\n",
       "      <td>0.000000</td>\n",
       "      <td>0.000000</td>\n",
       "      <td>3.049981</td>\n",
       "      <td>0.0</td>\n",
       "      <td>0.000000</td>\n",
       "      <td>0.000000</td>\n",
       "      <td>0.000000</td>\n",
       "      <td>0.0</td>\n",
       "      <td>0.000000</td>\n",
       "      <td>0.000000</td>\n",
       "      <td>...</td>\n",
       "      <td>0.0</td>\n",
       "      <td>0.0</td>\n",
       "      <td>0.0</td>\n",
       "      <td>0.0</td>\n",
       "      <td>0.0</td>\n",
       "      <td>0.000000</td>\n",
       "      <td>0.0</td>\n",
       "      <td>0.0</td>\n",
       "      <td>1.354175</td>\n",
       "      <td>0.000000</td>\n",
       "    </tr>\n",
       "    <tr>\n",
       "      <th>1</th>\n",
       "      <td>0.000000</td>\n",
       "      <td>0.000000</td>\n",
       "      <td>0.000000</td>\n",
       "      <td>0.0</td>\n",
       "      <td>0.000000</td>\n",
       "      <td>1.085195</td>\n",
       "      <td>0.000000</td>\n",
       "      <td>0.0</td>\n",
       "      <td>0.000000</td>\n",
       "      <td>0.000000</td>\n",
       "      <td>...</td>\n",
       "      <td>0.0</td>\n",
       "      <td>0.0</td>\n",
       "      <td>0.0</td>\n",
       "      <td>0.0</td>\n",
       "      <td>0.0</td>\n",
       "      <td>0.000000</td>\n",
       "      <td>0.0</td>\n",
       "      <td>0.0</td>\n",
       "      <td>0.000000</td>\n",
       "      <td>0.000000</td>\n",
       "    </tr>\n",
       "    <tr>\n",
       "      <th>2</th>\n",
       "      <td>0.000000</td>\n",
       "      <td>0.000000</td>\n",
       "      <td>1.196143</td>\n",
       "      <td>0.0</td>\n",
       "      <td>0.000000</td>\n",
       "      <td>0.000000</td>\n",
       "      <td>0.000000</td>\n",
       "      <td>0.0</td>\n",
       "      <td>0.000000</td>\n",
       "      <td>0.000000</td>\n",
       "      <td>...</td>\n",
       "      <td>0.0</td>\n",
       "      <td>0.0</td>\n",
       "      <td>0.0</td>\n",
       "      <td>0.0</td>\n",
       "      <td>0.0</td>\n",
       "      <td>1.725384</td>\n",
       "      <td>0.0</td>\n",
       "      <td>0.0</td>\n",
       "      <td>0.000000</td>\n",
       "      <td>0.000000</td>\n",
       "    </tr>\n",
       "    <tr>\n",
       "      <th>3</th>\n",
       "      <td>0.000000</td>\n",
       "      <td>0.000000</td>\n",
       "      <td>0.000000</td>\n",
       "      <td>0.0</td>\n",
       "      <td>0.000000</td>\n",
       "      <td>0.000000</td>\n",
       "      <td>1.383451</td>\n",
       "      <td>0.0</td>\n",
       "      <td>0.000000</td>\n",
       "      <td>0.000000</td>\n",
       "      <td>...</td>\n",
       "      <td>0.0</td>\n",
       "      <td>0.0</td>\n",
       "      <td>0.0</td>\n",
       "      <td>0.0</td>\n",
       "      <td>0.0</td>\n",
       "      <td>1.383451</td>\n",
       "      <td>0.0</td>\n",
       "      <td>0.0</td>\n",
       "      <td>2.299172</td>\n",
       "      <td>0.000000</td>\n",
       "    </tr>\n",
       "    <tr>\n",
       "      <th>4</th>\n",
       "      <td>0.000000</td>\n",
       "      <td>0.000000</td>\n",
       "      <td>4.395552</td>\n",
       "      <td>0.0</td>\n",
       "      <td>0.000000</td>\n",
       "      <td>0.000000</td>\n",
       "      <td>0.000000</td>\n",
       "      <td>0.0</td>\n",
       "      <td>1.051711</td>\n",
       "      <td>0.000000</td>\n",
       "      <td>...</td>\n",
       "      <td>0.0</td>\n",
       "      <td>0.0</td>\n",
       "      <td>0.0</td>\n",
       "      <td>0.0</td>\n",
       "      <td>0.0</td>\n",
       "      <td>0.000000</td>\n",
       "      <td>0.0</td>\n",
       "      <td>0.0</td>\n",
       "      <td>1.051711</td>\n",
       "      <td>0.000000</td>\n",
       "    </tr>\n",
       "    <tr>\n",
       "      <th>...</th>\n",
       "      <td>...</td>\n",
       "      <td>...</td>\n",
       "      <td>...</td>\n",
       "      <td>...</td>\n",
       "      <td>...</td>\n",
       "      <td>...</td>\n",
       "      <td>...</td>\n",
       "      <td>...</td>\n",
       "      <td>...</td>\n",
       "      <td>...</td>\n",
       "      <td>...</td>\n",
       "      <td>...</td>\n",
       "      <td>...</td>\n",
       "      <td>...</td>\n",
       "      <td>...</td>\n",
       "      <td>...</td>\n",
       "      <td>...</td>\n",
       "      <td>...</td>\n",
       "      <td>...</td>\n",
       "      <td>...</td>\n",
       "      <td>...</td>\n",
       "    </tr>\n",
       "    <tr>\n",
       "      <th>1175</th>\n",
       "      <td>0.000000</td>\n",
       "      <td>0.000000</td>\n",
       "      <td>0.000000</td>\n",
       "      <td>0.0</td>\n",
       "      <td>0.000000</td>\n",
       "      <td>0.000000</td>\n",
       "      <td>0.000000</td>\n",
       "      <td>0.0</td>\n",
       "      <td>0.000000</td>\n",
       "      <td>0.723687</td>\n",
       "      <td>...</td>\n",
       "      <td>0.0</td>\n",
       "      <td>0.0</td>\n",
       "      <td>0.0</td>\n",
       "      <td>0.0</td>\n",
       "      <td>0.0</td>\n",
       "      <td>0.000000</td>\n",
       "      <td>0.0</td>\n",
       "      <td>0.0</td>\n",
       "      <td>0.000000</td>\n",
       "      <td>0.000000</td>\n",
       "    </tr>\n",
       "    <tr>\n",
       "      <th>1176</th>\n",
       "      <td>0.000000</td>\n",
       "      <td>0.000000</td>\n",
       "      <td>0.000000</td>\n",
       "      <td>0.0</td>\n",
       "      <td>1.565114</td>\n",
       "      <td>2.587423</td>\n",
       "      <td>0.000000</td>\n",
       "      <td>0.0</td>\n",
       "      <td>2.587423</td>\n",
       "      <td>0.000000</td>\n",
       "      <td>...</td>\n",
       "      <td>0.0</td>\n",
       "      <td>0.0</td>\n",
       "      <td>0.0</td>\n",
       "      <td>0.0</td>\n",
       "      <td>0.0</td>\n",
       "      <td>0.000000</td>\n",
       "      <td>0.0</td>\n",
       "      <td>0.0</td>\n",
       "      <td>0.000000</td>\n",
       "      <td>0.000000</td>\n",
       "    </tr>\n",
       "    <tr>\n",
       "      <th>1177</th>\n",
       "      <td>0.000000</td>\n",
       "      <td>0.000000</td>\n",
       "      <td>0.000000</td>\n",
       "      <td>0.0</td>\n",
       "      <td>1.202621</td>\n",
       "      <td>0.000000</td>\n",
       "      <td>0.000000</td>\n",
       "      <td>0.0</td>\n",
       "      <td>0.000000</td>\n",
       "      <td>0.000000</td>\n",
       "      <td>...</td>\n",
       "      <td>0.0</td>\n",
       "      <td>0.0</td>\n",
       "      <td>0.0</td>\n",
       "      <td>0.0</td>\n",
       "      <td>0.0</td>\n",
       "      <td>1.733011</td>\n",
       "      <td>0.0</td>\n",
       "      <td>0.0</td>\n",
       "      <td>0.000000</td>\n",
       "      <td>0.000000</td>\n",
       "    </tr>\n",
       "    <tr>\n",
       "      <th>1178</th>\n",
       "      <td>0.000000</td>\n",
       "      <td>0.000000</td>\n",
       "      <td>0.000000</td>\n",
       "      <td>0.0</td>\n",
       "      <td>2.142939</td>\n",
       "      <td>1.147353</td>\n",
       "      <td>0.000000</td>\n",
       "      <td>0.0</td>\n",
       "      <td>0.000000</td>\n",
       "      <td>0.000000</td>\n",
       "      <td>...</td>\n",
       "      <td>0.0</td>\n",
       "      <td>0.0</td>\n",
       "      <td>0.0</td>\n",
       "      <td>0.0</td>\n",
       "      <td>0.0</td>\n",
       "      <td>0.000000</td>\n",
       "      <td>0.0</td>\n",
       "      <td>0.0</td>\n",
       "      <td>0.000000</td>\n",
       "      <td>0.729924</td>\n",
       "    </tr>\n",
       "    <tr>\n",
       "      <th>1179</th>\n",
       "      <td>5.493661</td>\n",
       "      <td>2.976886</td>\n",
       "      <td>0.000000</td>\n",
       "      <td>0.0</td>\n",
       "      <td>0.000000</td>\n",
       "      <td>0.000000</td>\n",
       "      <td>0.000000</td>\n",
       "      <td>0.0</td>\n",
       "      <td>0.000000</td>\n",
       "      <td>0.000000</td>\n",
       "      <td>...</td>\n",
       "      <td>0.0</td>\n",
       "      <td>0.0</td>\n",
       "      <td>0.0</td>\n",
       "      <td>0.0</td>\n",
       "      <td>0.0</td>\n",
       "      <td>0.807267</td>\n",
       "      <td>0.0</td>\n",
       "      <td>0.0</td>\n",
       "      <td>0.807267</td>\n",
       "      <td>0.000000</td>\n",
       "    </tr>\n",
       "  </tbody>\n",
       "</table>\n",
       "<p>1180 rows × 2000 columns</p>\n",
       "</div>"
      ],
      "text/plain": [
       "          ORM1      ORM2      MMP3  FDCSP    S100A7     FABP7     KRT81  DCN  \\\n",
       "0     0.000000  0.000000  3.049981    0.0  0.000000  0.000000  0.000000  0.0   \n",
       "1     0.000000  0.000000  0.000000    0.0  0.000000  1.085195  0.000000  0.0   \n",
       "2     0.000000  0.000000  1.196143    0.0  0.000000  0.000000  0.000000  0.0   \n",
       "3     0.000000  0.000000  0.000000    0.0  0.000000  0.000000  1.383451  0.0   \n",
       "4     0.000000  0.000000  4.395552    0.0  0.000000  0.000000  0.000000  0.0   \n",
       "...        ...       ...       ...    ...       ...       ...       ...  ...   \n",
       "1175  0.000000  0.000000  0.000000    0.0  0.000000  0.000000  0.000000  0.0   \n",
       "1176  0.000000  0.000000  0.000000    0.0  1.565114  2.587423  0.000000  0.0   \n",
       "1177  0.000000  0.000000  0.000000    0.0  1.202621  0.000000  0.000000  0.0   \n",
       "1178  0.000000  0.000000  0.000000    0.0  2.142939  1.147353  0.000000  0.0   \n",
       "1179  5.493661  2.976886  0.000000    0.0  0.000000  0.000000  0.000000  0.0   \n",
       "\n",
       "          IL1B      AREG  ...  RP11.597D13.9  MRGPRX4  C2CD4B  CTD.2012K14.8  \\\n",
       "0     0.000000  0.000000  ...            0.0      0.0     0.0            0.0   \n",
       "1     0.000000  0.000000  ...            0.0      0.0     0.0            0.0   \n",
       "2     0.000000  0.000000  ...            0.0      0.0     0.0            0.0   \n",
       "3     0.000000  0.000000  ...            0.0      0.0     0.0            0.0   \n",
       "4     1.051711  0.000000  ...            0.0      0.0     0.0            0.0   \n",
       "...        ...       ...  ...            ...      ...     ...            ...   \n",
       "1175  0.000000  0.723687  ...            0.0      0.0     0.0            0.0   \n",
       "1176  2.587423  0.000000  ...            0.0      0.0     0.0            0.0   \n",
       "1177  0.000000  0.000000  ...            0.0      0.0     0.0            0.0   \n",
       "1178  0.000000  0.000000  ...            0.0      0.0     0.0            0.0   \n",
       "1179  0.000000  0.000000  ...            0.0      0.0     0.0            0.0   \n",
       "\n",
       "      CCR10       FAS  ADORA2B  PRMT9     PHGDH     HOXA4  \n",
       "0       0.0  0.000000      0.0    0.0  1.354175  0.000000  \n",
       "1       0.0  0.000000      0.0    0.0  0.000000  0.000000  \n",
       "2       0.0  1.725384      0.0    0.0  0.000000  0.000000  \n",
       "3       0.0  1.383451      0.0    0.0  2.299172  0.000000  \n",
       "4       0.0  0.000000      0.0    0.0  1.051711  0.000000  \n",
       "...     ...       ...      ...    ...       ...       ...  \n",
       "1175    0.0  0.000000      0.0    0.0  0.000000  0.000000  \n",
       "1176    0.0  0.000000      0.0    0.0  0.000000  0.000000  \n",
       "1177    0.0  1.733011      0.0    0.0  0.000000  0.000000  \n",
       "1178    0.0  0.000000      0.0    0.0  0.000000  0.729924  \n",
       "1179    0.0  0.807267      0.0    0.0  0.807267  0.000000  \n",
       "\n",
       "[1180 rows x 2000 columns]"
      ]
     },
     "execution_count": 55,
     "metadata": {},
     "output_type": "execute_result"
    }
   ],
   "source": [
    "X_test"
   ]
  },
  {
   "cell_type": "code",
   "execution_count": 56,
   "metadata": {},
   "outputs": [],
   "source": [
    "X_test_svd = svd.transform(X_test)"
   ]
  },
  {
   "cell_type": "code",
   "execution_count": 57,
   "metadata": {},
   "outputs": [
    {
     "data": {
      "image/png": "[encoded data removed]",
      "text/plain": [
       "<Figure size 576x432 with 1 Axes>"
      ]
     },
     "metadata": {},
     "output_type": "display_data"
    },
    {
     "name": "stdout",
     "output_type": "stream",
     "text": [
      "Classification Report:\n",
      "              precision    recall  f1-score   support\n",
      "\n",
      "           0       0.94      0.93      0.93       579\n",
      "           1       0.97      0.95      0.96       429\n",
      "           2       0.74      0.81      0.78       172\n",
      "\n",
      "    accuracy                           0.92      1180\n",
      "   macro avg       0.89      0.90      0.89      1180\n",
      "weighted avg       0.92      0.92      0.92      1180\n",
      "\n"
     ]
    }
   ],
   "source": [
    "predictions = final_model_xgb.predict(X_test_svd)\n",
    "\n",
    "cm = confusion_matrix(y_test, predictions)\n",
    "\n",
    "# Plot the confusion matrix\n",
    "plt.figure(figsize=(8, 6))\n",
    "sns.heatmap(cm, annot=True, fmt='d', cmap='Blues', cbar=False)\n",
    "plt.xlabel('Predicted')\n",
    "plt.ylabel('True')\n",
    "plt.title('Confusion Matrix')\n",
    "plt.show()\n",
    "\n",
    "# Generate the classification report\n",
    "report = classification_report(y_test, predictions)\n",
    "\n",
    "print(\"Classification Report:\")\n",
    "print(report)"
   ]
  }
 ],
 "metadata": {
  "kernelspec": {
   "display_name": "Python 3",
   "language": "python",
   "name": "python3"
  },
  "language_info": {
   "codemirror_mode": {
    "name": "ipython",
    "version": 3
   },
   "file_extension": ".py",
   "mimetype": "text/x-python",
   "name": "python",
   "nbconvert_exporter": "python",
   "pygments_lexer": "ipython3",
   "version": "3.9.12"
  }
 },
 "nbformat": 4,
 "nbformat_minor": 0
}
