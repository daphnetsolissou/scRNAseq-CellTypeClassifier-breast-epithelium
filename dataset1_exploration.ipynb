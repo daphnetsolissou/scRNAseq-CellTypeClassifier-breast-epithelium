{
 "cells": [
  {
   "cell_type": "code",
   "execution_count": 1,
   "metadata": {
    "collapsed": true
   },
   "outputs": [],
   "source": [
    "import pandas as pd\n",
    "import os"
   ]
  },
  {
   "cell_type": "code",
   "execution_count": 2,
   "outputs": [],
   "source": [
    "DATA_DIR = os.path.join(os.getcwd(), 'data')"
   ],
   "metadata": {
    "collapsed": false,
    "pycharm": {
     "name": "#%%\n"
    }
   }
  },
  {
   "cell_type": "code",
   "execution_count": 5,
   "outputs": [
    {
     "data": {
      "text/plain": "              L1_I1_BAS_A1  L1_I1_BAS_A2  L1_I1_BAS_A3  L1_I1_BAS_A4   \nRP11-27G14.4           0.0           0.0           0.0           0.0  \\\nMADD                   0.0           0.0           0.0           4.5   \nMAST2                  0.0           0.0           0.0           0.0   \nTRBJ2-5                0.0           0.0           0.0           0.0   \nTRBJ2-4                0.0           0.0           0.0           0.0   \n\n              L1_I1_BAS_A5  L1_I1_BAS_A6  L1_I1_BAS_A7  L1_I1_BAS_A8   \nRP11-27G14.4           0.0           0.0           0.0           0.0  \\\nMADD                   0.0           0.0           0.0           0.0   \nMAST2                  0.0           0.0           0.0           0.0   \nTRBJ2-5                0.0           0.0           0.0           0.0   \nTRBJ2-4                0.0           0.0           0.0           0.0   \n\n              L1_I1_BAS_A9  L1_I1_BAS_A10  ...  L4_I1_LUM_G6  L4_I1_LUM_G10   \nRP11-27G14.4           0.0            0.0  ...           0.0           0.00  \\\nMADD                   0.0            0.0  ...           0.0         337.44   \nMAST2                  0.0            0.0  ...           0.0           0.00   \nTRBJ2-5                0.0            0.0  ...           0.0           0.00   \nTRBJ2-4                0.0            0.0  ...           0.0           0.00   \n\n              L4_I1_LUM_G11  L4_I1_LUM_H1  L4_I1_LUM_H4  L4_I1_LUM_H5   \nRP11-27G14.4            0.0           0.0           0.0           0.0  \\\nMADD                    0.0           0.0           0.0           0.0   \nMAST2                   0.0           0.0           0.0           0.0   \nTRBJ2-5                 0.0           0.0           0.0           0.0   \nTRBJ2-4                 0.0           0.0           0.0           0.0   \n\n              L4_I1_LUM_H7  L4_I1_LUM_H10  L4_I1_LUM_H11  L4_I1_LUM_H12  \nRP11-27G14.4           0.0           0.00            0.0            0.0  \nMADD                   0.0           0.00            0.0            0.0  \nMAST2                  0.0           1.43            0.0            0.0  \nTRBJ2-5                0.0           0.00            0.0            0.0  \nTRBJ2-4                0.0           0.00            0.0            0.0  \n\n[5 rows x 296 columns]",
      "text/html": "<div>\n<style scoped>\n    .dataframe tbody tr th:only-of-type {\n        vertical-align: middle;\n    }\n\n    .dataframe tbody tr th {\n        vertical-align: top;\n    }\n\n    .dataframe thead th {\n        text-align: right;\n    }\n</style>\n<table border=\"1\" class=\"dataframe\">\n  <thead>\n    <tr style=\"text-align: right;\">\n      <th></th>\n      <th>L1_I1_BAS_A1</th>\n      <th>L1_I1_BAS_A2</th>\n      <th>L1_I1_BAS_A3</th>\n      <th>L1_I1_BAS_A4</th>\n      <th>L1_I1_BAS_A5</th>\n      <th>L1_I1_BAS_A6</th>\n      <th>L1_I1_BAS_A7</th>\n      <th>L1_I1_BAS_A8</th>\n      <th>L1_I1_BAS_A9</th>\n      <th>L1_I1_BAS_A10</th>\n      <th>...</th>\n      <th>L4_I1_LUM_G6</th>\n      <th>L4_I1_LUM_G10</th>\n      <th>L4_I1_LUM_G11</th>\n      <th>L4_I1_LUM_H1</th>\n      <th>L4_I1_LUM_H4</th>\n      <th>L4_I1_LUM_H5</th>\n      <th>L4_I1_LUM_H7</th>\n      <th>L4_I1_LUM_H10</th>\n      <th>L4_I1_LUM_H11</th>\n      <th>L4_I1_LUM_H12</th>\n    </tr>\n  </thead>\n  <tbody>\n    <tr>\n      <th>RP11-27G14.4</th>\n      <td>0.0</td>\n      <td>0.0</td>\n      <td>0.0</td>\n      <td>0.0</td>\n      <td>0.0</td>\n      <td>0.0</td>\n      <td>0.0</td>\n      <td>0.0</td>\n      <td>0.0</td>\n      <td>0.0</td>\n      <td>...</td>\n      <td>0.0</td>\n      <td>0.00</td>\n      <td>0.0</td>\n      <td>0.0</td>\n      <td>0.0</td>\n      <td>0.0</td>\n      <td>0.0</td>\n      <td>0.00</td>\n      <td>0.0</td>\n      <td>0.0</td>\n    </tr>\n    <tr>\n      <th>MADD</th>\n      <td>0.0</td>\n      <td>0.0</td>\n      <td>0.0</td>\n      <td>4.5</td>\n      <td>0.0</td>\n      <td>0.0</td>\n      <td>0.0</td>\n      <td>0.0</td>\n      <td>0.0</td>\n      <td>0.0</td>\n      <td>...</td>\n      <td>0.0</td>\n      <td>337.44</td>\n      <td>0.0</td>\n      <td>0.0</td>\n      <td>0.0</td>\n      <td>0.0</td>\n      <td>0.0</td>\n      <td>0.00</td>\n      <td>0.0</td>\n      <td>0.0</td>\n    </tr>\n    <tr>\n      <th>MAST2</th>\n      <td>0.0</td>\n      <td>0.0</td>\n      <td>0.0</td>\n      <td>0.0</td>\n      <td>0.0</td>\n      <td>0.0</td>\n      <td>0.0</td>\n      <td>0.0</td>\n      <td>0.0</td>\n      <td>0.0</td>\n      <td>...</td>\n      <td>0.0</td>\n      <td>0.00</td>\n      <td>0.0</td>\n      <td>0.0</td>\n      <td>0.0</td>\n      <td>0.0</td>\n      <td>0.0</td>\n      <td>1.43</td>\n      <td>0.0</td>\n      <td>0.0</td>\n    </tr>\n    <tr>\n      <th>TRBJ2-5</th>\n      <td>0.0</td>\n      <td>0.0</td>\n      <td>0.0</td>\n      <td>0.0</td>\n      <td>0.0</td>\n      <td>0.0</td>\n      <td>0.0</td>\n      <td>0.0</td>\n      <td>0.0</td>\n      <td>0.0</td>\n      <td>...</td>\n      <td>0.0</td>\n      <td>0.00</td>\n      <td>0.0</td>\n      <td>0.0</td>\n      <td>0.0</td>\n      <td>0.0</td>\n      <td>0.0</td>\n      <td>0.00</td>\n      <td>0.0</td>\n      <td>0.0</td>\n    </tr>\n    <tr>\n      <th>TRBJ2-4</th>\n      <td>0.0</td>\n      <td>0.0</td>\n      <td>0.0</td>\n      <td>0.0</td>\n      <td>0.0</td>\n      <td>0.0</td>\n      <td>0.0</td>\n      <td>0.0</td>\n      <td>0.0</td>\n      <td>0.0</td>\n      <td>...</td>\n      <td>0.0</td>\n      <td>0.00</td>\n      <td>0.0</td>\n      <td>0.0</td>\n      <td>0.0</td>\n      <td>0.0</td>\n      <td>0.0</td>\n      <td>0.00</td>\n      <td>0.0</td>\n      <td>0.0</td>\n    </tr>\n  </tbody>\n</table>\n<p>5 rows × 296 columns</p>\n</div>"
     },
     "execution_count": 5,
     "metadata": {},
     "output_type": "execute_result"
    }
   ],
   "source": [
    "ind1_df = pd.read_csv(os.path.join(DATA_DIR, \"GSE113099_individual.1.grch.fpkm.matrix.no.doublets.or.empty.txt\"),\n",
    "                      sep='\\t', index_col=0)\n",
    "\n",
    "ind1_df.head()"
   ],
   "metadata": {
    "collapsed": false,
    "pycharm": {
     "name": "#%%\n"
    }
   }
  },
  {
   "cell_type": "code",
   "execution_count": 6,
   "outputs": [
    {
     "data": {
      "text/plain": "(33694, 296)"
     },
     "execution_count": 6,
     "metadata": {},
     "output_type": "execute_result"
    }
   ],
   "source": [
    "ind1_df.shape"
   ],
   "metadata": {
    "collapsed": false,
    "pycharm": {
     "name": "#%%\n"
    }
   }
  },
  {
   "cell_type": "code",
   "execution_count": 9,
   "outputs": [
    {
     "data": {
      "text/plain": "       L1_I1_BAS_A1  L1_I1_BAS_A2   L1_I1_BAS_A3   L1_I1_BAS_A4  L1_I1_BAS_A5   \ncount  3.369400e+04  33694.000000   33694.000000   33694.000000   33694.00000  \\\nmean   7.474675e+01     30.727527      24.871530      27.666049      33.17309   \nstd    7.073737e+03    546.080953     968.967172     656.617104     569.75940   \nmin    0.000000e+00      0.000000       0.000000       0.000000       0.00000   \n25%    0.000000e+00      0.000000       0.000000       0.000000       0.00000   \n50%    0.000000e+00      0.000000       0.000000       0.000000       0.00000   \n75%    0.000000e+00      0.000000       0.000000       0.000000       0.00000   \nmax    1.146227e+06  43069.480000  143109.110000  102148.020000   43403.37000   \n\n       L1_I1_BAS_A6   L1_I1_BAS_A7   L1_I1_BAS_A8  L1_I1_BAS_A9   \ncount  33694.000000   33694.000000   33694.000000  33694.000000  \\\nmean      26.653066      24.755372      30.432897     29.382933   \nstd      318.969753    1175.648062     884.295104    317.788166   \nmin        0.000000       0.000000       0.000000      0.000000   \n25%        0.000000       0.000000       0.000000      0.000000   \n50%        0.000000       0.000000       0.000000      0.000000   \n75%        0.000000       0.000000       0.000000      0.000000   \nmax    21880.570000  156004.600000  150007.980000  17070.450000   \n\n       L1_I1_BAS_A10  ...  L4_I1_LUM_G6  L4_I1_LUM_G10  L4_I1_LUM_G11   \ncount   33694.000000  ...  33694.000000   33694.000000   33694.000000  \\\nmean       38.304929  ...     27.949770      33.682366      30.450103   \nstd      1603.913321  ...    624.994306    1073.655171     926.962552   \nmin         0.000000  ...      0.000000       0.000000       0.000000   \n25%         0.000000  ...      0.000000       0.000000       0.000000   \n50%         0.000000  ...      0.000000       0.000000       0.000000   \n75%         0.000000  ...      0.000000       0.000000       0.000000   \nmax    145329.570000  ...  83889.830000  103660.050000   66235.470000   \n\n       L4_I1_LUM_H1  L4_I1_LUM_H4   L4_I1_LUM_H5   L4_I1_LUM_H7   \ncount  33694.000000  33694.000000   33694.000000   33694.000000  \\\nmean      29.395536     25.713865      34.932597      27.714809   \nstd      442.525939    831.600515     934.163164    1009.747678   \nmin        0.000000      0.000000       0.000000       0.000000   \n25%        0.000000      0.000000       0.000000       0.000000   \n50%        0.000000      0.000000       0.000000       0.000000   \n75%        0.000000      0.000000       0.000000       0.000000   \nmax    58863.010000  56660.430000  108560.390000  109191.760000   \n\n       L4_I1_LUM_H10  L4_I1_LUM_H11  L4_I1_LUM_H12  \ncount   33694.000000   33694.000000   33694.000000  \nmean       23.504072      41.199782      42.147078  \nstd       372.811615    2370.932354    2539.712002  \nmin         0.000000       0.000000       0.000000  \n25%         0.000000       0.000000       0.000000  \n50%         0.000000       0.000000       0.000000  \n75%         0.000000       0.000000       0.000000  \nmax     34198.690000  262163.930000  295158.460000  \n\n[8 rows x 296 columns]",
      "text/html": "<div>\n<style scoped>\n    .dataframe tbody tr th:only-of-type {\n        vertical-align: middle;\n    }\n\n    .dataframe tbody tr th {\n        vertical-align: top;\n    }\n\n    .dataframe thead th {\n        text-align: right;\n    }\n</style>\n<table border=\"1\" class=\"dataframe\">\n  <thead>\n    <tr style=\"text-align: right;\">\n      <th></th>\n      <th>L1_I1_BAS_A1</th>\n      <th>L1_I1_BAS_A2</th>\n      <th>L1_I1_BAS_A3</th>\n      <th>L1_I1_BAS_A4</th>\n      <th>L1_I1_BAS_A5</th>\n      <th>L1_I1_BAS_A6</th>\n      <th>L1_I1_BAS_A7</th>\n      <th>L1_I1_BAS_A8</th>\n      <th>L1_I1_BAS_A9</th>\n      <th>L1_I1_BAS_A10</th>\n      <th>...</th>\n      <th>L4_I1_LUM_G6</th>\n      <th>L4_I1_LUM_G10</th>\n      <th>L4_I1_LUM_G11</th>\n      <th>L4_I1_LUM_H1</th>\n      <th>L4_I1_LUM_H4</th>\n      <th>L4_I1_LUM_H5</th>\n      <th>L4_I1_LUM_H7</th>\n      <th>L4_I1_LUM_H10</th>\n      <th>L4_I1_LUM_H11</th>\n      <th>L4_I1_LUM_H12</th>\n    </tr>\n  </thead>\n  <tbody>\n    <tr>\n      <th>count</th>\n      <td>3.369400e+04</td>\n      <td>33694.000000</td>\n      <td>33694.000000</td>\n      <td>33694.000000</td>\n      <td>33694.00000</td>\n      <td>33694.000000</td>\n      <td>33694.000000</td>\n      <td>33694.000000</td>\n      <td>33694.000000</td>\n      <td>33694.000000</td>\n      <td>...</td>\n      <td>33694.000000</td>\n      <td>33694.000000</td>\n      <td>33694.000000</td>\n      <td>33694.000000</td>\n      <td>33694.000000</td>\n      <td>33694.000000</td>\n      <td>33694.000000</td>\n      <td>33694.000000</td>\n      <td>33694.000000</td>\n      <td>33694.000000</td>\n    </tr>\n    <tr>\n      <th>mean</th>\n      <td>7.474675e+01</td>\n      <td>30.727527</td>\n      <td>24.871530</td>\n      <td>27.666049</td>\n      <td>33.17309</td>\n      <td>26.653066</td>\n      <td>24.755372</td>\n      <td>30.432897</td>\n      <td>29.382933</td>\n      <td>38.304929</td>\n      <td>...</td>\n      <td>27.949770</td>\n      <td>33.682366</td>\n      <td>30.450103</td>\n      <td>29.395536</td>\n      <td>25.713865</td>\n      <td>34.932597</td>\n      <td>27.714809</td>\n      <td>23.504072</td>\n      <td>41.199782</td>\n      <td>42.147078</td>\n    </tr>\n    <tr>\n      <th>std</th>\n      <td>7.073737e+03</td>\n      <td>546.080953</td>\n      <td>968.967172</td>\n      <td>656.617104</td>\n      <td>569.75940</td>\n      <td>318.969753</td>\n      <td>1175.648062</td>\n      <td>884.295104</td>\n      <td>317.788166</td>\n      <td>1603.913321</td>\n      <td>...</td>\n      <td>624.994306</td>\n      <td>1073.655171</td>\n      <td>926.962552</td>\n      <td>442.525939</td>\n      <td>831.600515</td>\n      <td>934.163164</td>\n      <td>1009.747678</td>\n      <td>372.811615</td>\n      <td>2370.932354</td>\n      <td>2539.712002</td>\n    </tr>\n    <tr>\n      <th>min</th>\n      <td>0.000000e+00</td>\n      <td>0.000000</td>\n      <td>0.000000</td>\n      <td>0.000000</td>\n      <td>0.00000</td>\n      <td>0.000000</td>\n      <td>0.000000</td>\n      <td>0.000000</td>\n      <td>0.000000</td>\n      <td>0.000000</td>\n      <td>...</td>\n      <td>0.000000</td>\n      <td>0.000000</td>\n      <td>0.000000</td>\n      <td>0.000000</td>\n      <td>0.000000</td>\n      <td>0.000000</td>\n      <td>0.000000</td>\n      <td>0.000000</td>\n      <td>0.000000</td>\n      <td>0.000000</td>\n    </tr>\n    <tr>\n      <th>25%</th>\n      <td>0.000000e+00</td>\n      <td>0.000000</td>\n      <td>0.000000</td>\n      <td>0.000000</td>\n      <td>0.00000</td>\n      <td>0.000000</td>\n      <td>0.000000</td>\n      <td>0.000000</td>\n      <td>0.000000</td>\n      <td>0.000000</td>\n      <td>...</td>\n      <td>0.000000</td>\n      <td>0.000000</td>\n      <td>0.000000</td>\n      <td>0.000000</td>\n      <td>0.000000</td>\n      <td>0.000000</td>\n      <td>0.000000</td>\n      <td>0.000000</td>\n      <td>0.000000</td>\n      <td>0.000000</td>\n    </tr>\n    <tr>\n      <th>50%</th>\n      <td>0.000000e+00</td>\n      <td>0.000000</td>\n      <td>0.000000</td>\n      <td>0.000000</td>\n      <td>0.00000</td>\n      <td>0.000000</td>\n      <td>0.000000</td>\n      <td>0.000000</td>\n      <td>0.000000</td>\n      <td>0.000000</td>\n      <td>...</td>\n      <td>0.000000</td>\n      <td>0.000000</td>\n      <td>0.000000</td>\n      <td>0.000000</td>\n      <td>0.000000</td>\n      <td>0.000000</td>\n      <td>0.000000</td>\n      <td>0.000000</td>\n      <td>0.000000</td>\n      <td>0.000000</td>\n    </tr>\n    <tr>\n      <th>75%</th>\n      <td>0.000000e+00</td>\n      <td>0.000000</td>\n      <td>0.000000</td>\n      <td>0.000000</td>\n      <td>0.00000</td>\n      <td>0.000000</td>\n      <td>0.000000</td>\n      <td>0.000000</td>\n      <td>0.000000</td>\n      <td>0.000000</td>\n      <td>...</td>\n      <td>0.000000</td>\n      <td>0.000000</td>\n      <td>0.000000</td>\n      <td>0.000000</td>\n      <td>0.000000</td>\n      <td>0.000000</td>\n      <td>0.000000</td>\n      <td>0.000000</td>\n      <td>0.000000</td>\n      <td>0.000000</td>\n    </tr>\n    <tr>\n      <th>max</th>\n      <td>1.146227e+06</td>\n      <td>43069.480000</td>\n      <td>143109.110000</td>\n      <td>102148.020000</td>\n      <td>43403.37000</td>\n      <td>21880.570000</td>\n      <td>156004.600000</td>\n      <td>150007.980000</td>\n      <td>17070.450000</td>\n      <td>145329.570000</td>\n      <td>...</td>\n      <td>83889.830000</td>\n      <td>103660.050000</td>\n      <td>66235.470000</td>\n      <td>58863.010000</td>\n      <td>56660.430000</td>\n      <td>108560.390000</td>\n      <td>109191.760000</td>\n      <td>34198.690000</td>\n      <td>262163.930000</td>\n      <td>295158.460000</td>\n    </tr>\n  </tbody>\n</table>\n<p>8 rows × 296 columns</p>\n</div>"
     },
     "execution_count": 9,
     "metadata": {},
     "output_type": "execute_result"
    }
   ],
   "source": [
    "ind1_df.describe()"
   ],
   "metadata": {
    "collapsed": false,
    "pycharm": {
     "name": "#%%\n"
    }
   }
  },
  {
   "cell_type": "code",
   "execution_count": 11,
   "outputs": [
    {
     "data": {
      "text/plain": "              L1_I2_BAS_A1  L1_I2_BAS_A2  L1_I2_BAS_A4  L1_I2_BAS_A5   \nRP11-27G14.4           0.0           0.0           0.0           0.0  \\\nMADD                   0.0           0.0           0.0           0.0   \nMAST2                  0.0           0.0           0.0           0.0   \nTRBJ2-5                0.0           0.0           0.0           0.0   \nTRBJ2-4                0.0           0.0           0.0           0.0   \n\n              L1_I2_BAS_A7  L1_I2_BAS_A8  L1_I2_BAS_A9  L1_I2_BAS_A10   \nRP11-27G14.4           0.0           0.0           0.0            0.0  \\\nMADD                   0.0           0.0           0.0            0.0   \nMAST2                  0.0           0.0           0.0            0.0   \nTRBJ2-5                0.0           0.0           0.0            0.0   \nTRBJ2-4                0.0           0.0           0.0            0.0   \n\n              L1_I2_BAS_A11  L1_I2_BAS_B2  ...  L3_I2_BAS_H2  L3_I2_BAS_H3   \nRP11-27G14.4            0.0          0.00  ...           0.0           0.0  \\\nMADD                    0.0         48.27  ...           0.0           0.0   \nMAST2                   0.0          0.00  ...           0.0           0.0   \nTRBJ2-5                 0.0          0.00  ...           0.0           0.0   \nTRBJ2-4                 0.0          0.00  ...           0.0           0.0   \n\n              L3_I2_BAS_H4  L3_I2_BAS_H5  L3_I2_BAS_H6  L3_I2_BAS_H7   \nRP11-27G14.4           0.0           0.0           0.0           0.0  \\\nMADD                   0.0           0.0           0.0           0.0   \nMAST2                  0.0           0.0           0.0           0.0   \nTRBJ2-5                0.0           0.0           0.0           0.0   \nTRBJ2-4                0.0           0.0           0.0           0.0   \n\n              L3_I2_BAS_H8  L3_I2_BAS_H9  L3_I2_BAS_H10  L3_I2_BAS_H11  \nRP11-27G14.4           0.0           0.0            0.0            0.0  \nMADD                   0.0           0.0            0.0            0.0  \nMAST2                  0.0           0.0            0.0            0.0  \nTRBJ2-5                0.0           0.0            0.0            0.0  \nTRBJ2-4                0.0           0.0            0.0            0.0  \n\n[5 rows x 246 columns]",
      "text/html": "<div>\n<style scoped>\n    .dataframe tbody tr th:only-of-type {\n        vertical-align: middle;\n    }\n\n    .dataframe tbody tr th {\n        vertical-align: top;\n    }\n\n    .dataframe thead th {\n        text-align: right;\n    }\n</style>\n<table border=\"1\" class=\"dataframe\">\n  <thead>\n    <tr style=\"text-align: right;\">\n      <th></th>\n      <th>L1_I2_BAS_A1</th>\n      <th>L1_I2_BAS_A2</th>\n      <th>L1_I2_BAS_A4</th>\n      <th>L1_I2_BAS_A5</th>\n      <th>L1_I2_BAS_A7</th>\n      <th>L1_I2_BAS_A8</th>\n      <th>L1_I2_BAS_A9</th>\n      <th>L1_I2_BAS_A10</th>\n      <th>L1_I2_BAS_A11</th>\n      <th>L1_I2_BAS_B2</th>\n      <th>...</th>\n      <th>L3_I2_BAS_H2</th>\n      <th>L3_I2_BAS_H3</th>\n      <th>L3_I2_BAS_H4</th>\n      <th>L3_I2_BAS_H5</th>\n      <th>L3_I2_BAS_H6</th>\n      <th>L3_I2_BAS_H7</th>\n      <th>L3_I2_BAS_H8</th>\n      <th>L3_I2_BAS_H9</th>\n      <th>L3_I2_BAS_H10</th>\n      <th>L3_I2_BAS_H11</th>\n    </tr>\n  </thead>\n  <tbody>\n    <tr>\n      <th>RP11-27G14.4</th>\n      <td>0.0</td>\n      <td>0.0</td>\n      <td>0.0</td>\n      <td>0.0</td>\n      <td>0.0</td>\n      <td>0.0</td>\n      <td>0.0</td>\n      <td>0.0</td>\n      <td>0.0</td>\n      <td>0.00</td>\n      <td>...</td>\n      <td>0.0</td>\n      <td>0.0</td>\n      <td>0.0</td>\n      <td>0.0</td>\n      <td>0.0</td>\n      <td>0.0</td>\n      <td>0.0</td>\n      <td>0.0</td>\n      <td>0.0</td>\n      <td>0.0</td>\n    </tr>\n    <tr>\n      <th>MADD</th>\n      <td>0.0</td>\n      <td>0.0</td>\n      <td>0.0</td>\n      <td>0.0</td>\n      <td>0.0</td>\n      <td>0.0</td>\n      <td>0.0</td>\n      <td>0.0</td>\n      <td>0.0</td>\n      <td>48.27</td>\n      <td>...</td>\n      <td>0.0</td>\n      <td>0.0</td>\n      <td>0.0</td>\n      <td>0.0</td>\n      <td>0.0</td>\n      <td>0.0</td>\n      <td>0.0</td>\n      <td>0.0</td>\n      <td>0.0</td>\n      <td>0.0</td>\n    </tr>\n    <tr>\n      <th>MAST2</th>\n      <td>0.0</td>\n      <td>0.0</td>\n      <td>0.0</td>\n      <td>0.0</td>\n      <td>0.0</td>\n      <td>0.0</td>\n      <td>0.0</td>\n      <td>0.0</td>\n      <td>0.0</td>\n      <td>0.00</td>\n      <td>...</td>\n      <td>0.0</td>\n      <td>0.0</td>\n      <td>0.0</td>\n      <td>0.0</td>\n      <td>0.0</td>\n      <td>0.0</td>\n      <td>0.0</td>\n      <td>0.0</td>\n      <td>0.0</td>\n      <td>0.0</td>\n    </tr>\n    <tr>\n      <th>TRBJ2-5</th>\n      <td>0.0</td>\n      <td>0.0</td>\n      <td>0.0</td>\n      <td>0.0</td>\n      <td>0.0</td>\n      <td>0.0</td>\n      <td>0.0</td>\n      <td>0.0</td>\n      <td>0.0</td>\n      <td>0.00</td>\n      <td>...</td>\n      <td>0.0</td>\n      <td>0.0</td>\n      <td>0.0</td>\n      <td>0.0</td>\n      <td>0.0</td>\n      <td>0.0</td>\n      <td>0.0</td>\n      <td>0.0</td>\n      <td>0.0</td>\n      <td>0.0</td>\n    </tr>\n    <tr>\n      <th>TRBJ2-4</th>\n      <td>0.0</td>\n      <td>0.0</td>\n      <td>0.0</td>\n      <td>0.0</td>\n      <td>0.0</td>\n      <td>0.0</td>\n      <td>0.0</td>\n      <td>0.0</td>\n      <td>0.0</td>\n      <td>0.00</td>\n      <td>...</td>\n      <td>0.0</td>\n      <td>0.0</td>\n      <td>0.0</td>\n      <td>0.0</td>\n      <td>0.0</td>\n      <td>0.0</td>\n      <td>0.0</td>\n      <td>0.0</td>\n      <td>0.0</td>\n      <td>0.0</td>\n    </tr>\n  </tbody>\n</table>\n<p>5 rows × 246 columns</p>\n</div>"
     },
     "execution_count": 11,
     "metadata": {},
     "output_type": "execute_result"
    }
   ],
   "source": [
    "ind2_df = pd.read_csv(os.path.join(DATA_DIR, \"GSE113127_individual.2.grch.fpkm.matrix.no.doublets.or.empty.txt\"),\n",
    "                      sep='\\t', index_col=0)\n",
    "ind2_df.head()"
   ],
   "metadata": {
    "collapsed": false,
    "pycharm": {
     "name": "#%%\n"
    }
   }
  },
  {
   "cell_type": "code",
   "execution_count": 12,
   "outputs": [
    {
     "data": {
      "text/plain": "(33694, 246)"
     },
     "execution_count": 12,
     "metadata": {},
     "output_type": "execute_result"
    }
   ],
   "source": [
    "ind2_df.shape"
   ],
   "metadata": {
    "collapsed": false,
    "pycharm": {
     "name": "#%%\n"
    }
   }
  },
  {
   "cell_type": "code",
   "execution_count": 13,
   "outputs": [
    {
     "data": {
      "text/plain": "       L1_I2_BAS_A1   L1_I2_BAS_A2   L1_I2_BAS_A4  L1_I2_BAS_A5  L1_I2_BAS_A7   \ncount   33694.00000   33694.000000   33694.000000  33694.000000  33694.000000  \\\nmean       29.69122      40.631473      38.401762     30.425075     31.336460   \nstd      2751.56022    1147.971153    2314.019085    307.332742    551.428437   \nmin         0.00000       0.000000       0.000000      0.000000      0.000000   \n25%         0.00000       0.000000       0.000000      0.000000      0.000000   \n50%         0.00000       0.000000       0.000000      0.000000      0.000000   \n75%         0.00000       0.000000       0.000000      0.000000      0.000000   \nmax    488622.67000  117711.310000  232920.370000  17021.020000  49973.890000   \n\n        L1_I2_BAS_A8  L1_I2_BAS_A9  L1_I2_BAS_A10  L1_I2_BAS_A11   \ncount   33694.000000  33694.000000   33694.000000   33694.000000  \\\nmean       46.707517     29.583748      41.147838      44.585633   \nstd      2687.444887    341.863464    2118.088660    2635.090516   \nmin         0.000000      0.000000       0.000000       0.000000   \n25%         0.000000      0.000000       0.000000       0.000000   \n50%         0.000000      0.000000       0.000000       0.000000   \n75%         0.000000      0.000000       0.000000       0.000000   \nmax    272113.350000  20036.250000  288249.380000  259966.120000   \n\n        L1_I2_BAS_B2  ...   L3_I2_BAS_H2   L3_I2_BAS_H3   L3_I2_BAS_H4   \ncount   33694.000000  ...   33694.000000   33694.000000   33694.000000  \\\nmean       24.373522  ...      33.321706      44.324231      40.133615   \nstd      1030.634596  ...    1282.934327    2698.739453    2163.316642   \nmin         0.000000  ...       0.000000       0.000000       0.000000   \n25%         0.000000  ...       0.000000       0.000000       0.000000   \n50%         0.000000  ...       0.000000       0.000000       0.000000   \n75%         0.000000  ...       0.000000       0.000000       0.000000   \nmax    182544.400000  ...  116601.740000  338955.000000  216269.540000   \n\n       L3_I2_BAS_H5   L3_I2_BAS_H6  L3_I2_BAS_H7  L3_I2_BAS_H8   L3_I2_BAS_H9   \ncount  33694.000000   33694.000000  33694.000000  33694.000000   33694.000000  \\\nmean      24.146978      41.637933     33.865447     27.825416      35.608371   \nstd      217.411234    2139.745177    622.639528    383.302620    1006.123186   \nmin        0.000000       0.000000      0.000000      0.000000       0.000000   \n25%        0.000000       0.000000      0.000000      0.000000       0.000000   \n50%        0.000000       0.000000      0.000000      0.000000       0.000000   \n75%        0.000000       0.000000      0.000000      0.000000       0.000000   \nmax    10629.040000  185637.810000  54722.670000  31175.820000  101230.280000   \n\n       L3_I2_BAS_H10  L3_I2_BAS_H11  \ncount   33694.000000   33694.000000  \nmean       45.717216      43.784090  \nstd      2925.588036    2565.764247  \nmin         0.000000       0.000000  \n25%         0.000000       0.000000  \n50%         0.000000       0.000000  \n75%         0.000000       0.000000  \nmax    381542.610000  288360.430000  \n\n[8 rows x 246 columns]",
      "text/html": "<div>\n<style scoped>\n    .dataframe tbody tr th:only-of-type {\n        vertical-align: middle;\n    }\n\n    .dataframe tbody tr th {\n        vertical-align: top;\n    }\n\n    .dataframe thead th {\n        text-align: right;\n    }\n</style>\n<table border=\"1\" class=\"dataframe\">\n  <thead>\n    <tr style=\"text-align: right;\">\n      <th></th>\n      <th>L1_I2_BAS_A1</th>\n      <th>L1_I2_BAS_A2</th>\n      <th>L1_I2_BAS_A4</th>\n      <th>L1_I2_BAS_A5</th>\n      <th>L1_I2_BAS_A7</th>\n      <th>L1_I2_BAS_A8</th>\n      <th>L1_I2_BAS_A9</th>\n      <th>L1_I2_BAS_A10</th>\n      <th>L1_I2_BAS_A11</th>\n      <th>L1_I2_BAS_B2</th>\n      <th>...</th>\n      <th>L3_I2_BAS_H2</th>\n      <th>L3_I2_BAS_H3</th>\n      <th>L3_I2_BAS_H4</th>\n      <th>L3_I2_BAS_H5</th>\n      <th>L3_I2_BAS_H6</th>\n      <th>L3_I2_BAS_H7</th>\n      <th>L3_I2_BAS_H8</th>\n      <th>L3_I2_BAS_H9</th>\n      <th>L3_I2_BAS_H10</th>\n      <th>L3_I2_BAS_H11</th>\n    </tr>\n  </thead>\n  <tbody>\n    <tr>\n      <th>count</th>\n      <td>33694.00000</td>\n      <td>33694.000000</td>\n      <td>33694.000000</td>\n      <td>33694.000000</td>\n      <td>33694.000000</td>\n      <td>33694.000000</td>\n      <td>33694.000000</td>\n      <td>33694.000000</td>\n      <td>33694.000000</td>\n      <td>33694.000000</td>\n      <td>...</td>\n      <td>33694.000000</td>\n      <td>33694.000000</td>\n      <td>33694.000000</td>\n      <td>33694.000000</td>\n      <td>33694.000000</td>\n      <td>33694.000000</td>\n      <td>33694.000000</td>\n      <td>33694.000000</td>\n      <td>33694.000000</td>\n      <td>33694.000000</td>\n    </tr>\n    <tr>\n      <th>mean</th>\n      <td>29.69122</td>\n      <td>40.631473</td>\n      <td>38.401762</td>\n      <td>30.425075</td>\n      <td>31.336460</td>\n      <td>46.707517</td>\n      <td>29.583748</td>\n      <td>41.147838</td>\n      <td>44.585633</td>\n      <td>24.373522</td>\n      <td>...</td>\n      <td>33.321706</td>\n      <td>44.324231</td>\n      <td>40.133615</td>\n      <td>24.146978</td>\n      <td>41.637933</td>\n      <td>33.865447</td>\n      <td>27.825416</td>\n      <td>35.608371</td>\n      <td>45.717216</td>\n      <td>43.784090</td>\n    </tr>\n    <tr>\n      <th>std</th>\n      <td>2751.56022</td>\n      <td>1147.971153</td>\n      <td>2314.019085</td>\n      <td>307.332742</td>\n      <td>551.428437</td>\n      <td>2687.444887</td>\n      <td>341.863464</td>\n      <td>2118.088660</td>\n      <td>2635.090516</td>\n      <td>1030.634596</td>\n      <td>...</td>\n      <td>1282.934327</td>\n      <td>2698.739453</td>\n      <td>2163.316642</td>\n      <td>217.411234</td>\n      <td>2139.745177</td>\n      <td>622.639528</td>\n      <td>383.302620</td>\n      <td>1006.123186</td>\n      <td>2925.588036</td>\n      <td>2565.764247</td>\n    </tr>\n    <tr>\n      <th>min</th>\n      <td>0.00000</td>\n      <td>0.000000</td>\n      <td>0.000000</td>\n      <td>0.000000</td>\n      <td>0.000000</td>\n      <td>0.000000</td>\n      <td>0.000000</td>\n      <td>0.000000</td>\n      <td>0.000000</td>\n      <td>0.000000</td>\n      <td>...</td>\n      <td>0.000000</td>\n      <td>0.000000</td>\n      <td>0.000000</td>\n      <td>0.000000</td>\n      <td>0.000000</td>\n      <td>0.000000</td>\n      <td>0.000000</td>\n      <td>0.000000</td>\n      <td>0.000000</td>\n      <td>0.000000</td>\n    </tr>\n    <tr>\n      <th>25%</th>\n      <td>0.00000</td>\n      <td>0.000000</td>\n      <td>0.000000</td>\n      <td>0.000000</td>\n      <td>0.000000</td>\n      <td>0.000000</td>\n      <td>0.000000</td>\n      <td>0.000000</td>\n      <td>0.000000</td>\n      <td>0.000000</td>\n      <td>...</td>\n      <td>0.000000</td>\n      <td>0.000000</td>\n      <td>0.000000</td>\n      <td>0.000000</td>\n      <td>0.000000</td>\n      <td>0.000000</td>\n      <td>0.000000</td>\n      <td>0.000000</td>\n      <td>0.000000</td>\n      <td>0.000000</td>\n    </tr>\n    <tr>\n      <th>50%</th>\n      <td>0.00000</td>\n      <td>0.000000</td>\n      <td>0.000000</td>\n      <td>0.000000</td>\n      <td>0.000000</td>\n      <td>0.000000</td>\n      <td>0.000000</td>\n      <td>0.000000</td>\n      <td>0.000000</td>\n      <td>0.000000</td>\n      <td>...</td>\n      <td>0.000000</td>\n      <td>0.000000</td>\n      <td>0.000000</td>\n      <td>0.000000</td>\n      <td>0.000000</td>\n      <td>0.000000</td>\n      <td>0.000000</td>\n      <td>0.000000</td>\n      <td>0.000000</td>\n      <td>0.000000</td>\n    </tr>\n    <tr>\n      <th>75%</th>\n      <td>0.00000</td>\n      <td>0.000000</td>\n      <td>0.000000</td>\n      <td>0.000000</td>\n      <td>0.000000</td>\n      <td>0.000000</td>\n      <td>0.000000</td>\n      <td>0.000000</td>\n      <td>0.000000</td>\n      <td>0.000000</td>\n      <td>...</td>\n      <td>0.000000</td>\n      <td>0.000000</td>\n      <td>0.000000</td>\n      <td>0.000000</td>\n      <td>0.000000</td>\n      <td>0.000000</td>\n      <td>0.000000</td>\n      <td>0.000000</td>\n      <td>0.000000</td>\n      <td>0.000000</td>\n    </tr>\n    <tr>\n      <th>max</th>\n      <td>488622.67000</td>\n      <td>117711.310000</td>\n      <td>232920.370000</td>\n      <td>17021.020000</td>\n      <td>49973.890000</td>\n      <td>272113.350000</td>\n      <td>20036.250000</td>\n      <td>288249.380000</td>\n      <td>259966.120000</td>\n      <td>182544.400000</td>\n      <td>...</td>\n      <td>116601.740000</td>\n      <td>338955.000000</td>\n      <td>216269.540000</td>\n      <td>10629.040000</td>\n      <td>185637.810000</td>\n      <td>54722.670000</td>\n      <td>31175.820000</td>\n      <td>101230.280000</td>\n      <td>381542.610000</td>\n      <td>288360.430000</td>\n    </tr>\n  </tbody>\n</table>\n<p>8 rows × 246 columns</p>\n</div>"
     },
     "execution_count": 13,
     "metadata": {},
     "output_type": "execute_result"
    }
   ],
   "source": [
    "ind2_df.describe()"
   ],
   "metadata": {
    "collapsed": false,
    "pycharm": {
     "name": "#%%\n"
    }
   }
  },
  {
   "cell_type": "code",
   "execution_count": 14,
   "outputs": [
    {
     "data": {
      "text/plain": "              L1_I3_BAS_A1  L1_I3_BAS_A2  L1_I3_BAS_A3  L1_I3_BAS_A4   \nRP11-27G14.4           0.0           0.0           0.0           0.0  \\\nMADD                   0.0           0.0           0.2           0.0   \nMAST2                  0.0           0.0           0.0           0.0   \nTRBJ2-5                0.0           0.0           0.0           0.0   \nTRBJ2-4                0.0           0.0           0.0           0.0   \n\n              L1_I3_BAS_A5  L1_I3_BAS_A6  L1_I3_BAS_A7  L1_I3_BAS_A8   \nRP11-27G14.4           0.0           0.0           0.0          0.00  \\\nMADD                   0.0           0.0           0.0         22.58   \nMAST2                  0.0           0.0           0.0          0.00   \nTRBJ2-5                0.0           0.0           0.0          0.00   \nTRBJ2-4                0.0           0.0           0.0          0.00   \n\n              L1_I3_BAS_A9  L1_I3_BAS_A10  ...  L5_I3_BAS_G8  L5_I3_BAS_G9   \nRP11-27G14.4           0.0            0.0  ...           0.0           0.0  \\\nMADD                   0.0            0.0  ...           0.0           0.0   \nMAST2                  0.0            0.0  ...           0.0           0.0   \nTRBJ2-5                0.0            0.0  ...           0.0           0.0   \nTRBJ2-4                0.0            0.0  ...           0.0           0.0   \n\n              L5_I3_BAS_G10  L5_I3_BAS_G11  L5_I3_BAS_G12  L5_I3_BAS_H1   \nRP11-27G14.4            0.0            0.0            0.0           0.0  \\\nMADD                    0.0            0.0            0.0           0.0   \nMAST2                   0.0            0.0            0.0           0.0   \nTRBJ2-5                 0.0            0.0            0.0           0.0   \nTRBJ2-4                 0.0            0.0            0.0           0.0   \n\n              L5_I3_BAS_H2  L5_I3_BAS_H5  L5_I3_BAS_H8  L5_I3_BAS_H12  \nRP11-27G14.4          0.00           0.0           0.0            0.0  \nMADD                  0.29           0.0           0.0            0.0  \nMAST2                 0.00           0.0           0.0            0.0  \nTRBJ2-5               0.00           0.0           0.0            0.0  \nTRBJ2-4               0.00           0.0           0.0            0.0  \n\n[5 rows x 325 columns]",
      "text/html": "<div>\n<style scoped>\n    .dataframe tbody tr th:only-of-type {\n        vertical-align: middle;\n    }\n\n    .dataframe tbody tr th {\n        vertical-align: top;\n    }\n\n    .dataframe thead th {\n        text-align: right;\n    }\n</style>\n<table border=\"1\" class=\"dataframe\">\n  <thead>\n    <tr style=\"text-align: right;\">\n      <th></th>\n      <th>L1_I3_BAS_A1</th>\n      <th>L1_I3_BAS_A2</th>\n      <th>L1_I3_BAS_A3</th>\n      <th>L1_I3_BAS_A4</th>\n      <th>L1_I3_BAS_A5</th>\n      <th>L1_I3_BAS_A6</th>\n      <th>L1_I3_BAS_A7</th>\n      <th>L1_I3_BAS_A8</th>\n      <th>L1_I3_BAS_A9</th>\n      <th>L1_I3_BAS_A10</th>\n      <th>...</th>\n      <th>L5_I3_BAS_G8</th>\n      <th>L5_I3_BAS_G9</th>\n      <th>L5_I3_BAS_G10</th>\n      <th>L5_I3_BAS_G11</th>\n      <th>L5_I3_BAS_G12</th>\n      <th>L5_I3_BAS_H1</th>\n      <th>L5_I3_BAS_H2</th>\n      <th>L5_I3_BAS_H5</th>\n      <th>L5_I3_BAS_H8</th>\n      <th>L5_I3_BAS_H12</th>\n    </tr>\n  </thead>\n  <tbody>\n    <tr>\n      <th>RP11-27G14.4</th>\n      <td>0.0</td>\n      <td>0.0</td>\n      <td>0.0</td>\n      <td>0.0</td>\n      <td>0.0</td>\n      <td>0.0</td>\n      <td>0.0</td>\n      <td>0.00</td>\n      <td>0.0</td>\n      <td>0.0</td>\n      <td>...</td>\n      <td>0.0</td>\n      <td>0.0</td>\n      <td>0.0</td>\n      <td>0.0</td>\n      <td>0.0</td>\n      <td>0.0</td>\n      <td>0.00</td>\n      <td>0.0</td>\n      <td>0.0</td>\n      <td>0.0</td>\n    </tr>\n    <tr>\n      <th>MADD</th>\n      <td>0.0</td>\n      <td>0.0</td>\n      <td>0.2</td>\n      <td>0.0</td>\n      <td>0.0</td>\n      <td>0.0</td>\n      <td>0.0</td>\n      <td>22.58</td>\n      <td>0.0</td>\n      <td>0.0</td>\n      <td>...</td>\n      <td>0.0</td>\n      <td>0.0</td>\n      <td>0.0</td>\n      <td>0.0</td>\n      <td>0.0</td>\n      <td>0.0</td>\n      <td>0.29</td>\n      <td>0.0</td>\n      <td>0.0</td>\n      <td>0.0</td>\n    </tr>\n    <tr>\n      <th>MAST2</th>\n      <td>0.0</td>\n      <td>0.0</td>\n      <td>0.0</td>\n      <td>0.0</td>\n      <td>0.0</td>\n      <td>0.0</td>\n      <td>0.0</td>\n      <td>0.00</td>\n      <td>0.0</td>\n      <td>0.0</td>\n      <td>...</td>\n      <td>0.0</td>\n      <td>0.0</td>\n      <td>0.0</td>\n      <td>0.0</td>\n      <td>0.0</td>\n      <td>0.0</td>\n      <td>0.00</td>\n      <td>0.0</td>\n      <td>0.0</td>\n      <td>0.0</td>\n    </tr>\n    <tr>\n      <th>TRBJ2-5</th>\n      <td>0.0</td>\n      <td>0.0</td>\n      <td>0.0</td>\n      <td>0.0</td>\n      <td>0.0</td>\n      <td>0.0</td>\n      <td>0.0</td>\n      <td>0.00</td>\n      <td>0.0</td>\n      <td>0.0</td>\n      <td>...</td>\n      <td>0.0</td>\n      <td>0.0</td>\n      <td>0.0</td>\n      <td>0.0</td>\n      <td>0.0</td>\n      <td>0.0</td>\n      <td>0.00</td>\n      <td>0.0</td>\n      <td>0.0</td>\n      <td>0.0</td>\n    </tr>\n    <tr>\n      <th>TRBJ2-4</th>\n      <td>0.0</td>\n      <td>0.0</td>\n      <td>0.0</td>\n      <td>0.0</td>\n      <td>0.0</td>\n      <td>0.0</td>\n      <td>0.0</td>\n      <td>0.00</td>\n      <td>0.0</td>\n      <td>0.0</td>\n      <td>...</td>\n      <td>0.0</td>\n      <td>0.0</td>\n      <td>0.0</td>\n      <td>0.0</td>\n      <td>0.0</td>\n      <td>0.0</td>\n      <td>0.00</td>\n      <td>0.0</td>\n      <td>0.0</td>\n      <td>0.0</td>\n    </tr>\n  </tbody>\n</table>\n<p>5 rows × 325 columns</p>\n</div>"
     },
     "execution_count": 14,
     "metadata": {},
     "output_type": "execute_result"
    }
   ],
   "source": [
    "ind3_df = pd.read_csv(os.path.join(DATA_DIR, \"GSE113198_individual.3.grch.fpkm.matrix.no.doublets.or.empty.txt\"),\n",
    "                      sep='\\t', index_col=0)\n",
    "\n",
    "ind3_df.head()"
   ],
   "metadata": {
    "collapsed": false,
    "pycharm": {
     "name": "#%%\n"
    }
   }
  },
  {
   "cell_type": "code",
   "execution_count": 15,
   "outputs": [
    {
     "data": {
      "text/plain": "(33694, 325)"
     },
     "execution_count": 15,
     "metadata": {},
     "output_type": "execute_result"
    }
   ],
   "source": [
    "ind3_df.shape"
   ],
   "metadata": {
    "collapsed": false,
    "pycharm": {
     "name": "#%%\n"
    }
   }
  },
  {
   "cell_type": "code",
   "execution_count": 16,
   "outputs": [
    {
     "data": {
      "text/plain": "       L1_I3_BAS_A1  L1_I3_BAS_A2  L1_I3_BAS_A3   L1_I3_BAS_A4   L1_I3_BAS_A5   \ncount  33694.000000  33694.000000  33694.000000   33694.000000   33694.000000  \\\nmean      33.763220     26.721755     29.841442      32.108812      35.257206   \nstd      739.003912    341.170189    594.793955     766.268523     943.319591   \nmin        0.000000      0.000000      0.000000       0.000000       0.000000   \n25%        0.000000      0.000000      0.000000       0.000000       0.000000   \n50%        0.000000      0.000000      0.000000       0.000000       0.000000   \n75%        0.000000      0.000000      0.000000       0.000000       0.000000   \nmax    81396.350000  38767.480000  87524.660000  108202.930000  132113.860000   \n\n       L1_I3_BAS_A6  L1_I3_BAS_A7  L1_I3_BAS_A8  L1_I3_BAS_A9  L1_I3_BAS_A10   \ncount  33694.000000  33694.000000  33694.000000  33694.000000   33694.000000  \\\nmean      26.974531     31.805181     30.751645     31.081913      29.738514   \nstd      448.124763    527.792951    709.250166    600.947858     645.592345   \nmin        0.000000      0.000000      0.000000      0.000000       0.000000   \n25%        0.000000      0.000000      0.000000      0.000000       0.000000   \n50%        0.000000      0.000000      0.000000      0.000000       0.000000   \n75%        0.000000      0.000000      0.000000      0.000000       0.000000   \nmax    37494.000000  51395.640000  90629.890000  67227.360000   86846.740000   \n\n       ...  L5_I3_BAS_G8   L5_I3_BAS_G9  L5_I3_BAS_G10  L5_I3_BAS_G11   \ncount  ...  33694.000000   33694.000000   33694.000000   33694.000000  \\\nmean   ...     30.051100      37.959978      30.572414      27.968671   \nstd    ...    587.271804    1669.684482     484.081289     400.631448   \nmin    ...      0.000000       0.000000       0.000000       0.000000   \n25%    ...      0.000000       0.000000       0.000000       0.000000   \n50%    ...      0.000000       0.000000       0.000000       0.000000   \n75%    ...      0.000000       0.000000       0.000000       0.000000   \nmax    ...  70865.490000  188379.140000   38778.960000   40527.580000   \n\n       L5_I3_BAS_G12   L5_I3_BAS_H1  L5_I3_BAS_H2  L5_I3_BAS_H5  L5_I3_BAS_H8   \ncount   33694.000000   33694.000000  33694.000000  33694.000000  33694.000000  \\\nmean       30.545472      35.204569     30.227361     26.015619     30.905330   \nstd       474.171351    1303.439757    528.964572    395.722098    517.820052   \nmin         0.000000       0.000000      0.000000      0.000000      0.000000   \n25%         0.000000       0.000000      0.000000      0.000000      0.000000   \n50%         0.000000       0.000000      0.000000      0.000000      0.000000   \n75%         0.000000       0.000000      0.000000      0.000000      0.000000   \nmax     45516.790000  127613.820000  49590.410000  44140.730000  41680.110000   \n\n       L5_I3_BAS_H12  \ncount   33694.000000  \nmean       26.901630  \nstd       362.373464  \nmin         0.000000  \n25%         0.000000  \n50%         0.000000  \n75%         0.000000  \nmax     29303.240000  \n\n[8 rows x 325 columns]",
      "text/html": "<div>\n<style scoped>\n    .dataframe tbody tr th:only-of-type {\n        vertical-align: middle;\n    }\n\n    .dataframe tbody tr th {\n        vertical-align: top;\n    }\n\n    .dataframe thead th {\n        text-align: right;\n    }\n</style>\n<table border=\"1\" class=\"dataframe\">\n  <thead>\n    <tr style=\"text-align: right;\">\n      <th></th>\n      <th>L1_I3_BAS_A1</th>\n      <th>L1_I3_BAS_A2</th>\n      <th>L1_I3_BAS_A3</th>\n      <th>L1_I3_BAS_A4</th>\n      <th>L1_I3_BAS_A5</th>\n      <th>L1_I3_BAS_A6</th>\n      <th>L1_I3_BAS_A7</th>\n      <th>L1_I3_BAS_A8</th>\n      <th>L1_I3_BAS_A9</th>\n      <th>L1_I3_BAS_A10</th>\n      <th>...</th>\n      <th>L5_I3_BAS_G8</th>\n      <th>L5_I3_BAS_G9</th>\n      <th>L5_I3_BAS_G10</th>\n      <th>L5_I3_BAS_G11</th>\n      <th>L5_I3_BAS_G12</th>\n      <th>L5_I3_BAS_H1</th>\n      <th>L5_I3_BAS_H2</th>\n      <th>L5_I3_BAS_H5</th>\n      <th>L5_I3_BAS_H8</th>\n      <th>L5_I3_BAS_H12</th>\n    </tr>\n  </thead>\n  <tbody>\n    <tr>\n      <th>count</th>\n      <td>33694.000000</td>\n      <td>33694.000000</td>\n      <td>33694.000000</td>\n      <td>33694.000000</td>\n      <td>33694.000000</td>\n      <td>33694.000000</td>\n      <td>33694.000000</td>\n      <td>33694.000000</td>\n      <td>33694.000000</td>\n      <td>33694.000000</td>\n      <td>...</td>\n      <td>33694.000000</td>\n      <td>33694.000000</td>\n      <td>33694.000000</td>\n      <td>33694.000000</td>\n      <td>33694.000000</td>\n      <td>33694.000000</td>\n      <td>33694.000000</td>\n      <td>33694.000000</td>\n      <td>33694.000000</td>\n      <td>33694.000000</td>\n    </tr>\n    <tr>\n      <th>mean</th>\n      <td>33.763220</td>\n      <td>26.721755</td>\n      <td>29.841442</td>\n      <td>32.108812</td>\n      <td>35.257206</td>\n      <td>26.974531</td>\n      <td>31.805181</td>\n      <td>30.751645</td>\n      <td>31.081913</td>\n      <td>29.738514</td>\n      <td>...</td>\n      <td>30.051100</td>\n      <td>37.959978</td>\n      <td>30.572414</td>\n      <td>27.968671</td>\n      <td>30.545472</td>\n      <td>35.204569</td>\n      <td>30.227361</td>\n      <td>26.015619</td>\n      <td>30.905330</td>\n      <td>26.901630</td>\n    </tr>\n    <tr>\n      <th>std</th>\n      <td>739.003912</td>\n      <td>341.170189</td>\n      <td>594.793955</td>\n      <td>766.268523</td>\n      <td>943.319591</td>\n      <td>448.124763</td>\n      <td>527.792951</td>\n      <td>709.250166</td>\n      <td>600.947858</td>\n      <td>645.592345</td>\n      <td>...</td>\n      <td>587.271804</td>\n      <td>1669.684482</td>\n      <td>484.081289</td>\n      <td>400.631448</td>\n      <td>474.171351</td>\n      <td>1303.439757</td>\n      <td>528.964572</td>\n      <td>395.722098</td>\n      <td>517.820052</td>\n      <td>362.373464</td>\n    </tr>\n    <tr>\n      <th>min</th>\n      <td>0.000000</td>\n      <td>0.000000</td>\n      <td>0.000000</td>\n      <td>0.000000</td>\n      <td>0.000000</td>\n      <td>0.000000</td>\n      <td>0.000000</td>\n      <td>0.000000</td>\n      <td>0.000000</td>\n      <td>0.000000</td>\n      <td>...</td>\n      <td>0.000000</td>\n      <td>0.000000</td>\n      <td>0.000000</td>\n      <td>0.000000</td>\n      <td>0.000000</td>\n      <td>0.000000</td>\n      <td>0.000000</td>\n      <td>0.000000</td>\n      <td>0.000000</td>\n      <td>0.000000</td>\n    </tr>\n    <tr>\n      <th>25%</th>\n      <td>0.000000</td>\n      <td>0.000000</td>\n      <td>0.000000</td>\n      <td>0.000000</td>\n      <td>0.000000</td>\n      <td>0.000000</td>\n      <td>0.000000</td>\n      <td>0.000000</td>\n      <td>0.000000</td>\n      <td>0.000000</td>\n      <td>...</td>\n      <td>0.000000</td>\n      <td>0.000000</td>\n      <td>0.000000</td>\n      <td>0.000000</td>\n      <td>0.000000</td>\n      <td>0.000000</td>\n      <td>0.000000</td>\n      <td>0.000000</td>\n      <td>0.000000</td>\n      <td>0.000000</td>\n    </tr>\n    <tr>\n      <th>50%</th>\n      <td>0.000000</td>\n      <td>0.000000</td>\n      <td>0.000000</td>\n      <td>0.000000</td>\n      <td>0.000000</td>\n      <td>0.000000</td>\n      <td>0.000000</td>\n      <td>0.000000</td>\n      <td>0.000000</td>\n      <td>0.000000</td>\n      <td>...</td>\n      <td>0.000000</td>\n      <td>0.000000</td>\n      <td>0.000000</td>\n      <td>0.000000</td>\n      <td>0.000000</td>\n      <td>0.000000</td>\n      <td>0.000000</td>\n      <td>0.000000</td>\n      <td>0.000000</td>\n      <td>0.000000</td>\n    </tr>\n    <tr>\n      <th>75%</th>\n      <td>0.000000</td>\n      <td>0.000000</td>\n      <td>0.000000</td>\n      <td>0.000000</td>\n      <td>0.000000</td>\n      <td>0.000000</td>\n      <td>0.000000</td>\n      <td>0.000000</td>\n      <td>0.000000</td>\n      <td>0.000000</td>\n      <td>...</td>\n      <td>0.000000</td>\n      <td>0.000000</td>\n      <td>0.000000</td>\n      <td>0.000000</td>\n      <td>0.000000</td>\n      <td>0.000000</td>\n      <td>0.000000</td>\n      <td>0.000000</td>\n      <td>0.000000</td>\n      <td>0.000000</td>\n    </tr>\n    <tr>\n      <th>max</th>\n      <td>81396.350000</td>\n      <td>38767.480000</td>\n      <td>87524.660000</td>\n      <td>108202.930000</td>\n      <td>132113.860000</td>\n      <td>37494.000000</td>\n      <td>51395.640000</td>\n      <td>90629.890000</td>\n      <td>67227.360000</td>\n      <td>86846.740000</td>\n      <td>...</td>\n      <td>70865.490000</td>\n      <td>188379.140000</td>\n      <td>38778.960000</td>\n      <td>40527.580000</td>\n      <td>45516.790000</td>\n      <td>127613.820000</td>\n      <td>49590.410000</td>\n      <td>44140.730000</td>\n      <td>41680.110000</td>\n      <td>29303.240000</td>\n    </tr>\n  </tbody>\n</table>\n<p>8 rows × 325 columns</p>\n</div>"
     },
     "execution_count": 16,
     "metadata": {},
     "output_type": "execute_result"
    }
   ],
   "source": [
    "ind3_df.describe()"
   ],
   "metadata": {
    "collapsed": false,
    "pycharm": {
     "name": "#%%\n"
    }
   }
  },
  {
   "cell_type": "code",
   "execution_count": null,
   "outputs": [],
   "source": [],
   "metadata": {
    "collapsed": false,
    "pycharm": {
     "name": "#%%\n"
    }
   }
  }
 ],
 "metadata": {
  "kernelspec": {
   "display_name": "Python 3",
   "language": "python",
   "name": "python3"
  },
  "language_info": {
   "codemirror_mode": {
    "name": "ipython",
    "version": 2
   },
   "file_extension": ".py",
   "mimetype": "text/x-python",
   "name": "python",
   "nbconvert_exporter": "python",
   "pygments_lexer": "ipython2",
   "version": "2.7.6"
  }
 },
 "nbformat": 4,
 "nbformat_minor": 0
}